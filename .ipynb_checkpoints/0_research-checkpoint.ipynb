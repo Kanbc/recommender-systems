{
 "cells": [
  {
   "cell_type": "markdown",
   "metadata": {},
   "source": [
    "# Recommender System Approaches"
   ]
  },
  {
   "cell_type": "markdown",
   "metadata": {},
   "source": [
    "<img src=\"1_problem_and_big_picture/img/approach.png\" width=\"800\" >"
   ]
  },
  {
   "cell_type": "markdown",
   "metadata": {},
   "source": [
    "## Model"
   ]
  },
  {
   "cell_type": "markdown",
   "metadata": {},
   "source": [
    "- k-nearest neighborhood\n",
    "- Bayesian Network\n",
    "- clustering\n",
    "- Association Rules\n",
    "- Classification\n",
    "- Regression\n",
    "- LDA"
   ]
  },
  {
   "cell_type": "markdown",
   "metadata": {},
   "source": [
    "## Accuracy\n",
    " - RMSE"
   ]
  },
  {
   "cell_type": "markdown",
   "metadata": {},
   "source": [
    "### Question คืออะไร?\n",
    "- SVD (ใช้ Gradient Descent คำนวณหา)\n",
    "- RBM คือ ? (Restrict Boltzmann Machines)"
   ]
  },
  {
   "cell_type": "markdown",
   "metadata": {},
   "source": [
    "# 2. ปัญหาน่าคิด"
   ]
  },
  {
   "cell_type": "markdown",
   "metadata": {},
   "source": [
    "## 2.1 new users"
   ]
  },
  {
   "cell_type": "markdown",
   "metadata": {},
   "source": [
    "สำหรับ user ที่เรายังไม่มีข้อมูล เราอาจจะแนะนำสินค้าให้ user จาก\n",
    "- most popular item\n",
    "- High rated\n",
    "\n",
    "แล้วค่อยเก็บข้อมูลของ users จากจุดนี้มา learn"
   ]
  },
  {
   "cell_type": "markdown",
   "metadata": {},
   "source": [
    "## 2.2 new items"
   ]
  },
  {
   "cell_type": "markdown",
   "metadata": {},
   "source": [
    "สำหรับสินค้าใหม่ จะยังไม่มี rating หรือจำนวนการซื้อของ user ดังนั้นหากพิจารณาเลือกสินค้าตามความ popular อาจจะทำให้สินค้าใหม่ๆไม่มีทางโผล่ไปให้ user ได้เห็นเลย ดังนั้นในส่วนนี้ควรใช้\n",
    "- content information similarity (ไม่นับ rating และจำนวน order)"
   ]
  },
  {
   "cell_type": "markdown",
   "metadata": {},
   "source": [
    "## 2.3 บ่อยแค่ไหนที่เราจะคำนวณ predicted ratings? และเราจะเก็บผลไว้ที่ไหน\n",
    "- ปกติก็ทำวันละครั้ง (บ่อยมากน้อยขึ้นกับประเภทอุตสาหกรรม คาบของ trend ของแต่ละอุตสาหกรรม คิดว่าอันนี้ก็เป็น hyper parameter อีกตัวที่ต้องพิจารณา)\n",
    "- การเกิด  matrix ยักษ์ที่บอก top item ของแต่ละกลุ่ม/คน/item ควรเก็บเป็น **relation DB** เพราะอาจต้อง **update** ทุกวัน (หรือ NoSQL หากเราไม่ได้ update แต่ create ใหม่ทุกครั้งเลย)"
   ]
  },
  {
   "cell_type": "code",
   "execution_count": null,
   "metadata": {},
   "outputs": [],
   "source": []
  }
 ],
 "metadata": {
  "kernelspec": {
   "display_name": "Python 3",
   "language": "python",
   "name": "python3"
  },
  "language_info": {
   "codemirror_mode": {
    "name": "ipython",
    "version": 3
   },
   "file_extension": ".py",
   "mimetype": "text/x-python",
   "name": "python",
   "nbconvert_exporter": "python",
   "pygments_lexer": "ipython3",
   "version": "3.6.3"
  }
 },
 "nbformat": 4,
 "nbformat_minor": 2
}
