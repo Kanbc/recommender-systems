{
 "cells": [
  {
   "cell_type": "code",
   "execution_count": 1,
   "metadata": {
    "collapsed": true
   },
   "outputs": [],
   "source": [
    "import unicodecsv\n",
    "import pandas as pd\n",
    "import numpy as np\n",
    "import seaborn as sns\n",
    "%matplotlib inline\n",
    "\n",
    "def read_csv(filename):\n",
    "    with open(filename, 'rb') as f:\n",
    "        reader = unicodecsv.DictReader(f)\n",
    "        return list(reader)"
   ]
  },
  {
   "cell_type": "code",
   "execution_count": 88,
   "metadata": {
    "collapsed": true,
    "scrolled": true
   },
   "outputs": [],
   "source": [
    "order_item = pd.read_csv('../../../2_data/prepared/order_item_merge.csv')"
   ]
  },
  {
   "cell_type": "markdown",
   "metadata": {},
   "source": [
    "กรองข้อมูลเอาแต่ Order ที่มีสถานะ Success"
   ]
  },
  {
   "cell_type": "code",
   "execution_count": 129,
   "metadata": {
    "scrolled": true
   },
   "outputs": [
    {
     "name": "stderr",
     "output_type": "stream",
     "text": [
      "C:\\ProgramData\\Anaconda3\\lib\\site-packages\\ipykernel_launcher.py:2: SettingWithCopyWarning: \n",
      "A value is trying to be set on a copy of a slice from a DataFrame.\n",
      "Try using .loc[row_indexer,col_indexer] = value instead\n",
      "\n",
      "See the caveats in the documentation: http://pandas.pydata.org/pandas-docs/stable/indexing.html#indexing-view-versus-copy\n",
      "  \n"
     ]
    }
   ],
   "source": [
    "order_item_success = order_item[order_item['STATUS'] == \"PAID_SUCCESS\"]\n",
    "order_item_success['UPDATE_DATE'] = pd.to_datetime(order_item_success['UPDATE_DATE'])"
   ]
  },
  {
   "cell_type": "markdown",
   "metadata": {},
   "source": [
    "เรียงและเช็คจำนวนข้อมูล"
   ]
  },
  {
   "cell_type": "code",
   "execution_count": 130,
   "metadata": {},
   "outputs": [
    {
     "data": {
      "text/plain": [
       "6628"
      ]
     },
     "execution_count": 130,
     "metadata": {},
     "output_type": "execute_result"
    }
   ],
   "source": [
    "order = order_item_success.sort_values('UPDATE_DATE', ascending=True)\n",
    "len(order)"
   ]
  },
  {
   "cell_type": "markdown",
   "metadata": {},
   "source": [
    "Plot ดูข้อมูลของ Order"
   ]
  },
  {
   "cell_type": "code",
   "execution_count": 131,
   "metadata": {
    "scrolled": false
   },
   "outputs": [
    {
     "data": {
      "text/plain": [
       "[<matplotlib.lines.Line2D at 0x287a9ee6ba8>]"
      ]
     },
     "execution_count": 131,
     "metadata": {},
     "output_type": "execute_result"
    },
    {
     "data": {
      "image/png": "[encoded data removed]",
      "text/plain": [
       "<matplotlib.figure.Figure at 0x287a9b7af28>"
      ]
     },
     "metadata": {},
     "output_type": "display_data"
    }
   ],
   "source": [
    "import matplotlib.pyplot as plt\n",
    "\n",
    "plt.plot(order['UPDATE_DATE'], order['QUANTITY'])"
   ]
  },
  {
   "cell_type": "markdown",
   "metadata": {},
   "source": [
    "เช็คเวลาที่น้อยที่สุด(Order ที่เก่าที่สุด) และมากที่สุด(Order ที่ใหม่ที่สุด)"
   ]
  },
  {
   "cell_type": "code",
   "execution_count": 132,
   "metadata": {},
   "outputs": [
    {
     "name": "stdout",
     "output_type": "stream",
     "text": [
      "2015-10-15 11:51:54\n",
      "2018-01-20 10:29:28\n"
     ]
    }
   ],
   "source": [
    "print(order['UPDATE_DATE'].min())\n",
    "print(order['UPDATE_DATE'].max())"
   ]
  },
  {
   "cell_type": "markdown",
   "metadata": {},
   "source": [
    "หาส่วนต่างของเวลา"
   ]
  },
  {
   "cell_type": "code",
   "execution_count": 133,
   "metadata": {
    "scrolled": true
   },
   "outputs": [
    {
     "data": {
      "text/plain": [
       "Timedelta('827 days 22:37:34')"
      ]
     },
     "execution_count": 133,
     "metadata": {},
     "output_type": "execute_result"
    }
   ],
   "source": [
    "time_min = order['UPDATE_DATE'].min()\n",
    "time_max = order['UPDATE_DATE'].max()\n",
    "time_delta = time_max - time_min\n",
    "time_delta"
   ]
  },
  {
   "cell_type": "markdown",
   "metadata": {},
   "source": [
    "ใช้ 70% ของเวลา เพื่อนำไปเข้า Model"
   ]
  },
  {
   "cell_type": "code",
   "execution_count": 134,
   "metadata": {
    "scrolled": false
   },
   "outputs": [
    {
     "data": {
      "text/plain": [
       "Timestamp('2017-05-17 01:18:11.800000')"
      ]
     },
     "execution_count": 134,
     "metadata": {},
     "output_type": "execute_result"
    }
   ],
   "source": [
    "time_70 = time_delta * 0.7\n",
    "time_train = time_min + time_70\n",
    "time_train"
   ]
  },
  {
   "cell_type": "code",
   "execution_count": 135,
   "metadata": {
    "scrolled": false
   },
   "outputs": [
    {
     "data": {
      "text/plain": [
       "3659"
      ]
     },
     "execution_count": 135,
     "metadata": {},
     "output_type": "execute_result"
    }
   ],
   "source": [
    "order_70 =  order[order['UPDATE_DATE'] < time_train]\n",
    "len(order_70)"
   ]
  },
  {
   "cell_type": "code",
   "execution_count": 136,
   "metadata": {
    "collapsed": true,
    "scrolled": true
   },
   "outputs": [],
   "source": [
    "import numpy as np\n",
    "matnr_success = order_70['MATNR']\n",
    "matnr_train = matnr_success.tolist()"
   ]
  },
  {
   "cell_type": "markdown",
   "metadata": {},
   "source": [
    "นำเข้าไฟล์ product เพื่อนำไปใช้ในโมเดล"
   ]
  },
  {
   "cell_type": "code",
   "execution_count": 137,
   "metadata": {
    "scrolled": true
   },
   "outputs": [
    {
     "data": {
      "text/html": [
       "<div>\n",
       "<style>\n",
       "    .dataframe thead tr:only-child th {\n",
       "        text-align: right;\n",
       "    }\n",
       "\n",
       "    .dataframe thead th {\n",
       "        text-align: left;\n",
       "    }\n",
       "\n",
       "    .dataframe tbody tr th {\n",
       "        vertical-align: top;\n",
       "    }\n",
       "</style>\n",
       "<table border=\"1\" class=\"dataframe\">\n",
       "  <thead>\n",
       "    <tr style=\"text-align: right;\">\n",
       "      <th></th>\n",
       "      <th>MATNR</th>\n",
       "      <th>Model</th>\n",
       "      <th>Color</th>\n",
       "      <th>Style</th>\n",
       "      <th>Cat2</th>\n",
       "      <th>Model_id</th>\n",
       "      <th>Color_id</th>\n",
       "      <th>Style_id</th>\n",
       "      <th>Cat2_id</th>\n",
       "    </tr>\n",
       "  </thead>\n",
       "  <tbody>\n",
       "    <tr>\n",
       "      <th>0</th>\n",
       "      <td>19047936</td>\n",
       "      <td>Patisia</td>\n",
       "      <td>White</td>\n",
       "      <td>Vintage</td>\n",
       "      <td>ตู้ข้างเตียง</td>\n",
       "      <td>2886</td>\n",
       "      <td>16</td>\n",
       "      <td>24</td>\n",
       "      <td>61</td>\n",
       "    </tr>\n",
       "    <tr>\n",
       "      <th>1</th>\n",
       "      <td>19045101</td>\n",
       "      <td>Cannery</td>\n",
       "      <td>Yellow</td>\n",
       "      <td>Modern</td>\n",
       "      <td>โซฟา 3 ที่นั่ง</td>\n",
       "      <td>719</td>\n",
       "      <td>17</td>\n",
       "      <td>12</td>\n",
       "      <td>203</td>\n",
       "    </tr>\n",
       "    <tr>\n",
       "      <th>2</th>\n",
       "      <td>19050282</td>\n",
       "      <td>zNone</td>\n",
       "      <td>Multi-Colour</td>\n",
       "      <td>Vintage</td>\n",
       "      <td>กรอบรูป</td>\n",
       "      <td>8226</td>\n",
       "      <td>10</td>\n",
       "      <td>24</td>\n",
       "      <td>5</td>\n",
       "    </tr>\n",
       "    <tr>\n",
       "      <th>3</th>\n",
       "      <td>59000365</td>\n",
       "      <td>Meudon</td>\n",
       "      <td>Black</td>\n",
       "      <td>Contemporary</td>\n",
       "      <td>ชุดห้องนอน</td>\n",
       "      <td>2542</td>\n",
       "      <td>1</td>\n",
       "      <td>5</td>\n",
       "      <td>51</td>\n",
       "    </tr>\n",
       "    <tr>\n",
       "      <th>4</th>\n",
       "      <td>59001810</td>\n",
       "      <td>Alicia</td>\n",
       "      <td>White</td>\n",
       "      <td>Modern</td>\n",
       "      <td>ชุดห้องนอน</td>\n",
       "      <td>295</td>\n",
       "      <td>16</td>\n",
       "      <td>12</td>\n",
       "      <td>51</td>\n",
       "    </tr>\n",
       "  </tbody>\n",
       "</table>\n",
       "</div>"
      ],
      "text/plain": [
       "      MATNR    Model         Color         Style            Cat2  Model_id  \\\n",
       "0  19047936  Patisia         White       Vintage    ตู้ข้างเตียง      2886   \n",
       "1  19045101  Cannery        Yellow        Modern  โซฟา 3 ที่นั่ง       719   \n",
       "2  19050282    zNone  Multi-Colour       Vintage         กรอบรูป      8226   \n",
       "3  59000365   Meudon         Black  Contemporary      ชุดห้องนอน      2542   \n",
       "4  59001810   Alicia         White        Modern      ชุดห้องนอน       295   \n",
       "\n",
       "   Color_id  Style_id  Cat2_id  \n",
       "0        16        24       61  \n",
       "1        17        12      203  \n",
       "2        10        24        5  \n",
       "3         1         5       51  \n",
       "4        16        12       51  "
      ]
     },
     "execution_count": 137,
     "metadata": {},
     "output_type": "execute_result"
    }
   ],
   "source": [
    "df_product_id = pd.read_csv('product_id_md1.csv')\n",
    "df_product_id.head()"
   ]
  },
  {
   "cell_type": "markdown",
   "metadata": {},
   "source": [
    "## Model 1 "
   ]
  },
  {
   "cell_type": "markdown",
   "metadata": {},
   "source": [
    "สร้างฟังก์ชันเพื่อรับข้อมูลของ Model 1"
   ]
  },
  {
   "cell_type": "code",
   "execution_count": 138,
   "metadata": {
    "collapsed": true
   },
   "outputs": [],
   "source": [
    "from sklearn.neighbors import NearestNeighbors\n",
    "\n",
    "def model(matnr):\n",
    "    try:\n",
    "        input_item = matnr \n",
    "        input_index = df_product_id.index[df_product_id['MATNR'] == input_item].tolist()[0]\n",
    "        call_frame = df_product_id.loc[(df_product_id.MATNR.isin([input_item])), ['Color_id', 'Style_id', 'Cat2_id']]\n",
    "        item = call_frame.values\n",
    "\n",
    "        product = df_product_id.iloc[:,6:9].values\n",
    "        nbrs = NearestNeighbors(n_neighbors=11).fit(product)\n",
    "        nbrs_res = nbrs.kneighbors([item[0]])[1]\n",
    "        nbrs_list = nbrs_res.tolist()[0]\n",
    "        while input_index in nbrs_list: nbrs_list.remove(input_index)\n",
    "        result = nbrs_list\n",
    "        df_result = df_product_id.iloc[result]\n",
    "        result_matnr = df_result['MATNR']\n",
    "        list_matnr = result_matnr.tolist()\n",
    "    except IndexError:\n",
    "        list_matnr = [0]\n",
    "    return list_matnr"
   ]
  },
  {
   "cell_type": "markdown",
   "metadata": {},
   "source": [
    "สร้างตัวแปร(result_item) เก็บ Item ที่ Recommended ออกมา 10 ชิ้น"
   ]
  },
  {
   "cell_type": "code",
   "execution_count": 139,
   "metadata": {
    "scrolled": true
   },
   "outputs": [
    {
     "name": "stdout",
     "output_type": "stream",
     "text": [
      "ใช้เวลาทั้งสิ้น 265.9731876850128 วินาที\n"
     ]
    }
   ],
   "source": [
    "result_item = []\n",
    "import time\n",
    "start_time = time.time()\n",
    "\n",
    "for x in matnr_train:\n",
    "    res_arr = model(x)\n",
    "    result_item.append(res_arr[:10])\n",
    "\n",
    "print(\"ใช้เวลาทั้งสิ้น %s วินาที\" % (time.time() - start_time))"
   ]
  },
  {
   "cell_type": "markdown",
   "metadata": {},
   "source": [
    "แปลงให้อยู่ในชุดข้อมูลเดียวกัน"
   ]
  },
  {
   "cell_type": "code",
   "execution_count": 140,
   "metadata": {
    "scrolled": true
   },
   "outputs": [
    {
     "data": {
      "text/plain": [
       "[25012189, 25013797, 25010101, 25012710, 25017291]"
      ]
     },
     "execution_count": 140,
     "metadata": {},
     "output_type": "execute_result"
    }
   ],
   "source": [
    "from itertools import chain\n",
    "flatten_result_70 = list(chain.from_iterable(result_item))\n",
    "flatten_result_70[:5]"
   ]
  },
  {
   "cell_type": "markdown",
   "metadata": {},
   "source": [
    "นำข้อมูลอีก 30% มาใช้ตรวจสอบ Item ที่ Recommended ออกมา"
   ]
  },
  {
   "cell_type": "code",
   "execution_count": 141,
   "metadata": {
    "scrolled": true
   },
   "outputs": [
    {
     "data": {
      "text/plain": [
       "[19077094, 19096188, 19077087, 19110767, 59013806]"
      ]
     },
     "execution_count": 141,
     "metadata": {},
     "output_type": "execute_result"
    }
   ],
   "source": [
    "order_30 =  order[order['UPDATE_DATE'] > time_train]\n",
    "matnr_test = order_30['MATNR'].tolist()\n",
    "matnr_test[:5]"
   ]
  },
  {
   "cell_type": "markdown",
   "metadata": {},
   "source": [
    "ตรวจสอบความแม่นยำของสินค้าที่แนะนำออกมา"
   ]
  },
  {
   "cell_type": "code",
   "execution_count": 142,
   "metadata": {
    "collapsed": true
   },
   "outputs": [],
   "source": [
    "point_m1 = []\n",
    "for x in matnr_test:\n",
    "    if x in flatten_result_70:\n",
    "        point_m1.append(1)\n",
    "    elif x not in flatten_result_70:\n",
    "        point_m1.append(0)"
   ]
  },
  {
   "cell_type": "markdown",
   "metadata": {},
   "source": [
    "# Precision"
   ]
  },
  {
   "cell_type": "markdown",
   "metadata": {},
   "source": [
    "ค่าความแม่นยำของ Model 1 คือ 30.92% เมื่อเทียบจากสินค้าที่แนะนำให้ซื้อและมีการซื้อจริงต่อสินค้าที่แนะนำให้ซื้อทั้งหมด"
   ]
  },
  {
   "cell_type": "code",
   "execution_count": 143,
   "metadata": {},
   "outputs": [
    {
     "data": {
      "text/plain": [
       "46.749747389693496"
      ]
     },
     "execution_count": 143,
     "metadata": {},
     "output_type": "execute_result"
    }
   ],
   "source": [
    "p_md1 = point_m1.count(1) / (point_m1.count(1) + point_m1.count(0))*100\n",
    "p_md1"
   ]
  },
  {
   "cell_type": "markdown",
   "metadata": {},
   "source": [
    "<b>Normalize</b>"
   ]
  },
  {
   "cell_type": "markdown",
   "metadata": {},
   "source": [
    "ปรับค่าตัวแปรในโมเดลในอยู่ในค่าระหว่าง 0-1"
   ]
  },
  {
   "cell_type": "code",
   "execution_count": 110,
   "metadata": {
    "scrolled": true
   },
   "outputs": [
    {
     "name": "stderr",
     "output_type": "stream",
     "text": [
      "C:\\ProgramData\\Anaconda3\\lib\\site-packages\\sklearn\\utils\\validation.py:475: DataConversionWarning: Data with input dtype int64 was converted to float64 by MinMaxScaler.\n",
      "  warnings.warn(msg, DataConversionWarning)\n"
     ]
    }
   ],
   "source": [
    "from sklearn import preprocessing\n",
    "from sklearn.preprocessing import normalize\n",
    "\n",
    "color_id_norm = df_product_id[['Color_id']].values\n",
    "min_max_scaler = preprocessing.MinMaxScaler()\n",
    "color_scaled = min_max_scaler.fit_transform(color_id_norm)\n",
    "df_color_norm = pd.DataFrame(color_scaled, columns=['Color_id_n'])\n",
    "\n",
    "sty_id_norm = df_product_id[['Style_id']].values\n",
    "min_max_scaler = preprocessing.MinMaxScaler()\n",
    "sty_scaled = min_max_scaler.fit_transform(sty_id_norm)\n",
    "df_sty_norm = pd.DataFrame(sty_scaled, columns=['Style_id_n'])\n",
    "\n",
    "cat2_id_norm = df_product_id[['Cat2_id']].values\n",
    "min_max_scaler = preprocessing.MinMaxScaler()\n",
    "cat2_scaled = min_max_scaler.fit_transform(cat2_id_norm)\n",
    "df_cat2_norm = pd.DataFrame(cat2_scaled, columns=['Cat2_id_n'])\n",
    "\n",
    "df_product_id_n = pd.concat([df_product_id, df_color_norm, df_sty_norm, df_cat2_norm], axis=1)\n",
    "df_product_id_n.drop(df_product_id_n.columns[[5,6,7,8]], axis=1, inplace = True)"
   ]
  },
  {
   "cell_type": "markdown",
   "metadata": {},
   "source": [
    "สร้างฟังก์ชันเพื่อรับข้อมูลของ Model 1 ที่ถูกปรับค่าข้อมูลแล้ว"
   ]
  },
  {
   "cell_type": "code",
   "execution_count": 111,
   "metadata": {
    "collapsed": true
   },
   "outputs": [],
   "source": [
    "from sklearn.neighbors import NearestNeighbors\n",
    "\n",
    "def model(matnr):\n",
    "    try:\n",
    "        input_item = matnr \n",
    "        input_index = df_product_id_n.index[df_product_id_n['MATNR'] == input_item].tolist()[0]\n",
    "        call_frame = df_product_id_n.loc[(df_product_id_n.MATNR.isin([input_item])), ['Color_id_n', 'Style_id_n', 'Cat2_id_n']]\n",
    "        item = call_frame.values\n",
    "\n",
    "        product = df_product_id_n.iloc[:,5:8].values\n",
    "        nbrs = NearestNeighbors(n_neighbors=50).fit(product)\n",
    "        nbrs_res = nbrs.kneighbors([item[0]])[1]\n",
    "        nbrs_list = nbrs_res.tolist()[0]\n",
    "        while input_index in nbrs_list: nbrs_list.remove(input_index)\n",
    "        result = nbrs_list\n",
    "        df_result = df_product_id.iloc[result]\n",
    "        result_matnr = df_result['MATNR']\n",
    "        list_matnr = result_matnr.tolist()\n",
    "    except IndexError:\n",
    "        list_matnr = [0]\n",
    "    return list_matnr"
   ]
  },
  {
   "cell_type": "markdown",
   "metadata": {},
   "source": [
    "สร้างตัวแปร(result_item_n) เก็บ Item ที่ Recommended ออกมา 10 ชิ้น"
   ]
  },
  {
   "cell_type": "code",
   "execution_count": 112,
   "metadata": {
    "scrolled": true
   },
   "outputs": [
    {
     "name": "stdout",
     "output_type": "stream",
     "text": [
      "ใช้เวลาทั้งสิ้น 427.2384855747223 วินาที\n"
     ]
    }
   ],
   "source": [
    "result_item_n = []\n",
    "import time\n",
    "start_time = time.time()\n",
    "\n",
    "for x in matnr_train:\n",
    "    res_arr = model(x)\n",
    "    result_item_n.append(res_arr[:10])\n",
    "\n",
    "print(\"ใช้เวลาทั้งสิ้น %s วินาที\" % (time.time() - start_time))"
   ]
  },
  {
   "cell_type": "markdown",
   "metadata": {},
   "source": [
    "ตรวจสอบความแม่นยำของสินค้าที่แนะนำออกมา"
   ]
  },
  {
   "cell_type": "code",
   "execution_count": 113,
   "metadata": {
    "collapsed": true,
    "scrolled": true
   },
   "outputs": [],
   "source": [
    "from itertools import chain\n",
    "flatten_result_70_n = list(chain.from_iterable(result_item_n))\n",
    "order_30 =  order[order['UPDATE_DATE'] > time_cut]\n",
    "matnr_30 = order_30['MATNR'].tolist()\n",
    "point_m1_n = []\n",
    "for x in matnr_test:\n",
    "    if x in flatten_result_70_n:\n",
    "        point_m1_n.append(1)\n",
    "    elif x not in flatten_result_70_n:\n",
    "        point_m1_n.append(0)"
   ]
  },
  {
   "cell_type": "markdown",
   "metadata": {},
   "source": [
    "# Precision"
   ]
  },
  {
   "cell_type": "markdown",
   "metadata": {},
   "source": [
    "ค่าความแม่นยำของ Model 1 ที่ทำการปรับค่าของข้อมูล คือ 31.46% เมื่อเทียบจากสินค้าที่แนะนำให้ซื้อและมีการซื้อจริงต่อสินค้าที่แนะนำให้ซื้อทั้งหมด"
   ]
  },
  {
   "cell_type": "code",
   "execution_count": 114,
   "metadata": {
    "scrolled": true
   },
   "outputs": [
    {
     "data": {
      "text/plain": [
       "51.296732906702594"
      ]
     },
     "execution_count": 114,
     "metadata": {},
     "output_type": "execute_result"
    }
   ],
   "source": [
    "p_md1_n = (point_m1_n.count(1) / (point_m1_n.count(1) + point_m1_n.count(0)))*100\n",
    "p_md1_n"
   ]
  },
  {
   "cell_type": "markdown",
   "metadata": {},
   "source": [
    "## Model 2 "
   ]
  },
  {
   "cell_type": "markdown",
   "metadata": {},
   "source": [
    "นำเข้าไฟล์ RGB และไฟล์ Product"
   ]
  },
  {
   "cell_type": "code",
   "execution_count": 115,
   "metadata": {
    "collapsed": true
   },
   "outputs": [],
   "source": [
    "df_product_id = pd.read_csv('product_id_md2.csv')\n",
    "df_rgb = pd.read_csv('rgb_item.csv')\n",
    "df_product_rgb = pd.merge(df_product_id, df_rgb,  how='left', left_on=['MATNR'], right_on = ['MATNR'])"
   ]
  },
  {
   "cell_type": "markdown",
   "metadata": {},
   "source": [
    "สร้างฟังก์ชันเพื่อรับข้อมูลของ Model 2"
   ]
  },
  {
   "cell_type": "code",
   "execution_count": 116,
   "metadata": {
    "collapsed": true
   },
   "outputs": [],
   "source": [
    "from sklearn.neighbors import NearestNeighbors\n",
    "\n",
    "def model(matnr):\n",
    "    try:\n",
    "        input_item = matnr \n",
    "        input_index = df_product_rgb.index[df_product_rgb['MATNR'] == input_item].tolist()[0]\n",
    "        call_frame = df_product_rgb.loc[(df_product_rgb.MATNR.isin([input_item])), ['Style_id', 'Cat2_id', 'R', 'G', 'B']]\n",
    "        item = call_frame.values\n",
    "\n",
    "        product = df_product_rgb.iloc[:,3:8].values\n",
    "        nbrs = NearestNeighbors(n_neighbors=50).fit(product)\n",
    "        nbrs_res = nbrs.kneighbors([item[0]])[1]\n",
    "        nbrs_list = nbrs_res.tolist()[0]\n",
    "        while input_index in nbrs_list: nbrs_list.remove(input_index)\n",
    "        result = nbrs_list\n",
    "        df_result = df_product_id.iloc[result]\n",
    "        result_matnr = df_result['MATNR']\n",
    "        list_matnr = result_matnr.tolist()\n",
    "    except IndexError:\n",
    "        list_matnr = [0]\n",
    "    return list_matnr"
   ]
  },
  {
   "cell_type": "markdown",
   "metadata": {},
   "source": [
    "สร้างตัวแปร(result_item_m2) เก็บ Item ที่ Recommended ออกมา 5 ชิ้น"
   ]
  },
  {
   "cell_type": "code",
   "execution_count": 120,
   "metadata": {
    "scrolled": true
   },
   "outputs": [
    {
     "name": "stdout",
     "output_type": "stream",
     "text": [
      "ใช้เวลาทั้งสิ้น 160.04822301864624 วินาที\n"
     ]
    }
   ],
   "source": [
    "result_item_m2 = []\n",
    "import time\n",
    "start_time = time.time()\n",
    "\n",
    "for x in matnr_train:\n",
    "    res_arr = model(x)\n",
    "    result_item_m2.append(res_arr[:10])\n",
    "\n",
    "print(\"ใช้เวลาทั้งสิ้น %s วินาที\" % (time.time() - start_time))"
   ]
  },
  {
   "cell_type": "markdown",
   "metadata": {},
   "source": [
    "ตรวจสอบความแม่นยำของสินค้าที่แนะนำออกมา"
   ]
  },
  {
   "cell_type": "code",
   "execution_count": 123,
   "metadata": {
    "collapsed": true
   },
   "outputs": [],
   "source": [
    "from itertools import chain\n",
    "flatten_result_70_m2 = list(chain.from_iterable(result_item_m2))\n",
    "order_30 =  order[order['UPDATE_DATE'] > time_cut]\n",
    "matnr_30 = order_30['MATNR'].tolist()\n",
    "point_m2 = []\n",
    "for x in matnr_test:\n",
    "    if x in flatten_result_70_m2:\n",
    "        point_m2.append(1)\n",
    "    elif x not in flatten_result_70_m2:\n",
    "        point_m2.append(0)"
   ]
  },
  {
   "cell_type": "markdown",
   "metadata": {},
   "source": [
    "## Precision"
   ]
  },
  {
   "cell_type": "markdown",
   "metadata": {},
   "source": [
    "ค่าความแม่นยำของ Model 2 คือ 45.87% เมื่อเทียบจากสินค้าที่แนะนำให้ซื้อและมีการซื้อจริงต่อสินค้าที่แนะนำให้ซื้อทั้งหมด"
   ]
  },
  {
   "cell_type": "code",
   "execution_count": 124,
   "metadata": {
    "scrolled": true
   },
   "outputs": [
    {
     "data": {
      "text/plain": [
       "63.0515325025261"
      ]
     },
     "execution_count": 124,
     "metadata": {},
     "output_type": "execute_result"
    }
   ],
   "source": [
    "p_md2 = (point_m2.count(1) / (point_m2.count(1) + point_m2.count(0)))*100\n",
    "p_md2"
   ]
  },
  {
   "cell_type": "markdown",
   "metadata": {},
   "source": [
    "# Rsamp"
   ]
  },
  {
   "cell_type": "code",
   "execution_count": 78,
   "metadata": {
    "scrolled": true
   },
   "outputs": [
    {
     "data": {
      "text/plain": [
       "120"
      ]
     },
     "execution_count": 78,
     "metadata": {},
     "output_type": "execute_result"
    }
   ],
   "source": [
    "import sys\n",
    "A = np.array([[4,3,0],[9,9],[9,10,9],])\n",
    "sys.getsizeof(A)"
   ]
  },
  {
   "cell_type": "code",
   "execution_count": 59,
   "metadata": {},
   "outputs": [
    {
     "data": {
      "text/html": [
       "<div>\n",
       "<style>\n",
       "    .dataframe thead tr:only-child th {\n",
       "        text-align: right;\n",
       "    }\n",
       "\n",
       "    .dataframe thead th {\n",
       "        text-align: left;\n",
       "    }\n",
       "\n",
       "    .dataframe tbody tr th {\n",
       "        vertical-align: top;\n",
       "    }\n",
       "</style>\n",
       "<table border=\"1\" class=\"dataframe\">\n",
       "  <thead>\n",
       "    <tr style=\"text-align: right;\">\n",
       "      <th></th>\n",
       "      <th>ORDER_ID</th>\n",
       "      <th>CUSTOMER_ID</th>\n",
       "      <th>BPCODE</th>\n",
       "      <th>CREATE_DATE</th>\n",
       "      <th>UPDATE_DATE</th>\n",
       "      <th>STATUS</th>\n",
       "      <th>ORDER_ITEM_ID</th>\n",
       "      <th>MATNR</th>\n",
       "      <th>QUANTITY</th>\n",
       "      <th>TOTAL_PRICE</th>\n",
       "    </tr>\n",
       "  </thead>\n",
       "  <tbody>\n",
       "    <tr>\n",
       "      <th>12178</th>\n",
       "      <td>103041</td>\n",
       "      <td>183662</td>\n",
       "      <td>1100879509</td>\n",
       "      <td>2017-10-01 14:10:50</td>\n",
       "      <td>2017-10-01 14:12:37</td>\n",
       "      <td>PAID_SUCCESS</td>\n",
       "      <td>96481</td>\n",
       "      <td>19096194</td>\n",
       "      <td>1</td>\n",
       "      <td>15960.0</td>\n",
       "    </tr>\n",
       "    <tr>\n",
       "      <th>13857</th>\n",
       "      <td>83563</td>\n",
       "      <td>139402</td>\n",
       "      <td>1100852749</td>\n",
       "      <td>2017-06-26 09:07:26</td>\n",
       "      <td>2017-06-26 09:10:37</td>\n",
       "      <td>PAID_SUCCESS</td>\n",
       "      <td>77647</td>\n",
       "      <td>19067386</td>\n",
       "      <td>1</td>\n",
       "      <td>1260.0</td>\n",
       "    </tr>\n",
       "    <tr>\n",
       "      <th>2446</th>\n",
       "      <td>22601</td>\n",
       "      <td>42185</td>\n",
       "      <td>1100753717</td>\n",
       "      <td>2016-05-01 23:45:41</td>\n",
       "      <td>2016-05-01 23:49:13</td>\n",
       "      <td>PAID_SUCCESS</td>\n",
       "      <td>20501</td>\n",
       "      <td>19114354</td>\n",
       "      <td>1</td>\n",
       "      <td>9900.0</td>\n",
       "    </tr>\n",
       "    <tr>\n",
       "      <th>14626</th>\n",
       "      <td>115741</td>\n",
       "      <td>33252</td>\n",
       "      <td>1100581078</td>\n",
       "      <td>2017-11-10 21:13:52</td>\n",
       "      <td>2017-11-11 07:13:21</td>\n",
       "      <td>PAID_SUCCESS</td>\n",
       "      <td>109001</td>\n",
       "      <td>19115809</td>\n",
       "      <td>1</td>\n",
       "      <td>2970.0</td>\n",
       "    </tr>\n",
       "    <tr>\n",
       "      <th>3895</th>\n",
       "      <td>13062</td>\n",
       "      <td>27469</td>\n",
       "      <td>1100722992</td>\n",
       "      <td>2016-01-31 11:42:16</td>\n",
       "      <td>2016-01-31 11:57:41</td>\n",
       "      <td>PAID_SUCCESS</td>\n",
       "      <td>12007</td>\n",
       "      <td>59010270</td>\n",
       "      <td>1</td>\n",
       "      <td>20900.0</td>\n",
       "    </tr>\n",
       "    <tr>\n",
       "      <th>1987</th>\n",
       "      <td>14321</td>\n",
       "      <td>29642</td>\n",
       "      <td>1100733971</td>\n",
       "      <td>2016-02-08 22:35:25</td>\n",
       "      <td>2016-02-08 22:35:25</td>\n",
       "      <td>PAID_SUCCESS</td>\n",
       "      <td>13181</td>\n",
       "      <td>19067795</td>\n",
       "      <td>1</td>\n",
       "      <td>5250.0</td>\n",
       "    </tr>\n",
       "    <tr>\n",
       "      <th>15667</th>\n",
       "      <td>96661</td>\n",
       "      <td>163542</td>\n",
       "      <td>1100872725</td>\n",
       "      <td>2017-09-10 16:54:01</td>\n",
       "      <td>2017-09-10 16:57:11</td>\n",
       "      <td>PAID_SUCCESS</td>\n",
       "      <td>90242</td>\n",
       "      <td>19121093</td>\n",
       "      <td>1</td>\n",
       "      <td>2390.0</td>\n",
       "    </tr>\n",
       "    <tr>\n",
       "      <th>6411</th>\n",
       "      <td>50001</td>\n",
       "      <td>90123</td>\n",
       "      <td>1100807907</td>\n",
       "      <td>2016-12-16 15:16:38</td>\n",
       "      <td>2016-12-16 15:19:42</td>\n",
       "      <td>PAID_SUCCESS</td>\n",
       "      <td>45686</td>\n",
       "      <td>19076892</td>\n",
       "      <td>1</td>\n",
       "      <td>2870.0</td>\n",
       "    </tr>\n",
       "    <tr>\n",
       "      <th>1514</th>\n",
       "      <td>17422</td>\n",
       "      <td>33851</td>\n",
       "      <td>1100741579</td>\n",
       "      <td>2016-03-13 17:15:04</td>\n",
       "      <td>2016-03-13 17:21:11</td>\n",
       "      <td>PAID_SUCCESS</td>\n",
       "      <td>16043</td>\n",
       "      <td>19112395</td>\n",
       "      <td>1</td>\n",
       "      <td>1680.0</td>\n",
       "    </tr>\n",
       "    <tr>\n",
       "      <th>7203</th>\n",
       "      <td>54901</td>\n",
       "      <td>98202</td>\n",
       "      <td>1100816356</td>\n",
       "      <td>2017-01-08 18:01:00</td>\n",
       "      <td>2017-01-08 18:04:26</td>\n",
       "      <td>PAID_SUCCESS</td>\n",
       "      <td>50281</td>\n",
       "      <td>19117830</td>\n",
       "      <td>1</td>\n",
       "      <td>5900.0</td>\n",
       "    </tr>\n",
       "  </tbody>\n",
       "</table>\n",
       "</div>"
      ],
      "text/plain": [
       "       ORDER_ID  CUSTOMER_ID      BPCODE          CREATE_DATE  \\\n",
       "12178    103041       183662  1100879509  2017-10-01 14:10:50   \n",
       "13857     83563       139402  1100852749  2017-06-26 09:07:26   \n",
       "2446      22601        42185  1100753717  2016-05-01 23:45:41   \n",
       "14626    115741        33252  1100581078  2017-11-10 21:13:52   \n",
       "3895      13062        27469  1100722992  2016-01-31 11:42:16   \n",
       "1987      14321        29642  1100733971  2016-02-08 22:35:25   \n",
       "15667     96661       163542  1100872725  2017-09-10 16:54:01   \n",
       "6411      50001        90123  1100807907  2016-12-16 15:16:38   \n",
       "1514      17422        33851  1100741579  2016-03-13 17:15:04   \n",
       "7203      54901        98202  1100816356  2017-01-08 18:01:00   \n",
       "\n",
       "              UPDATE_DATE        STATUS  ORDER_ITEM_ID     MATNR  QUANTITY  \\\n",
       "12178 2017-10-01 14:12:37  PAID_SUCCESS          96481  19096194         1   \n",
       "13857 2017-06-26 09:10:37  PAID_SUCCESS          77647  19067386         1   \n",
       "2446  2016-05-01 23:49:13  PAID_SUCCESS          20501  19114354         1   \n",
       "14626 2017-11-11 07:13:21  PAID_SUCCESS         109001  19115809         1   \n",
       "3895  2016-01-31 11:57:41  PAID_SUCCESS          12007  59010270         1   \n",
       "1987  2016-02-08 22:35:25  PAID_SUCCESS          13181  19067795         1   \n",
       "15667 2017-09-10 16:57:11  PAID_SUCCESS          90242  19121093         1   \n",
       "6411  2016-12-16 15:19:42  PAID_SUCCESS          45686  19076892         1   \n",
       "1514  2016-03-13 17:21:11  PAID_SUCCESS          16043  19112395         1   \n",
       "7203  2017-01-08 18:04:26  PAID_SUCCESS          50281  19117830         1   \n",
       "\n",
       "       TOTAL_PRICE  \n",
       "12178      15960.0  \n",
       "13857       1260.0  \n",
       "2446        9900.0  \n",
       "14626       2970.0  \n",
       "3895       20900.0  \n",
       "1987        5250.0  \n",
       "15667       2390.0  \n",
       "6411        2870.0  \n",
       "1514        1680.0  \n",
       "7203        5900.0  "
      ]
     },
     "execution_count": 59,
     "metadata": {},
     "output_type": "execute_result"
    }
   ],
   "source": [
    "df = order.iloc[np.random.choice(np.arange(len(order)), size=10)] #size;frac=0.25\n",
    "df"
   ]
  },
  {
   "cell_type": "code",
   "execution_count": 67,
   "metadata": {},
   "outputs": [
    {
     "data": {
      "text/html": [
       "<div>\n",
       "<style>\n",
       "    .dataframe thead tr:only-child th {\n",
       "        text-align: right;\n",
       "    }\n",
       "\n",
       "    .dataframe thead th {\n",
       "        text-align: left;\n",
       "    }\n",
       "\n",
       "    .dataframe tbody tr th {\n",
       "        vertical-align: top;\n",
       "    }\n",
       "</style>\n",
       "<table border=\"1\" class=\"dataframe\">\n",
       "  <thead>\n",
       "    <tr style=\"text-align: right;\">\n",
       "      <th></th>\n",
       "      <th>ORDER_ID</th>\n",
       "      <th>CUSTOMER_ID</th>\n",
       "      <th>BPCODE</th>\n",
       "      <th>CREATE_DATE</th>\n",
       "      <th>UPDATE_DATE</th>\n",
       "      <th>STATUS</th>\n",
       "      <th>ORDER_ITEM_ID</th>\n",
       "      <th>MATNR</th>\n",
       "      <th>QUANTITY</th>\n",
       "      <th>TOTAL_PRICE</th>\n",
       "    </tr>\n",
       "  </thead>\n",
       "  <tbody>\n",
       "    <tr>\n",
       "      <th>425</th>\n",
       "      <td>5621</td>\n",
       "      <td>14847</td>\n",
       "      <td>1100713704</td>\n",
       "      <td>2015-11-30 14:17:25</td>\n",
       "      <td>2015-11-30 14:29:11</td>\n",
       "      <td>PAID_SUCCESS</td>\n",
       "      <td>5441</td>\n",
       "      <td>59008124</td>\n",
       "      <td>1</td>\n",
       "      <td>23900.0</td>\n",
       "    </tr>\n",
       "    <tr>\n",
       "      <th>3194</th>\n",
       "      <td>28723</td>\n",
       "      <td>5082</td>\n",
       "      <td>1100732878</td>\n",
       "      <td>2016-06-21 16:30:55</td>\n",
       "      <td>2016-06-21 16:33:46</td>\n",
       "      <td>PAID_SUCCESS</td>\n",
       "      <td>25863</td>\n",
       "      <td>19060123</td>\n",
       "      <td>1</td>\n",
       "      <td>26925.0</td>\n",
       "    </tr>\n",
       "    <tr>\n",
       "      <th>13159</th>\n",
       "      <td>139203</td>\n",
       "      <td>216302</td>\n",
       "      <td>1100890793</td>\n",
       "      <td>2017-12-30 15:36:23</td>\n",
       "      <td>2017-12-30 15:51:53</td>\n",
       "      <td>PAID_SUCCESS</td>\n",
       "      <td>132225</td>\n",
       "      <td>19027090</td>\n",
       "      <td>3</td>\n",
       "      <td>1950.0</td>\n",
       "    </tr>\n",
       "    <tr>\n",
       "      <th>11681</th>\n",
       "      <td>142884</td>\n",
       "      <td>258502</td>\n",
       "      <td>1100910709</td>\n",
       "      <td>2018-01-17 15:28:08</td>\n",
       "      <td>2018-01-17 15:30:59</td>\n",
       "      <td>PAID_SUCCESS</td>\n",
       "      <td>135786</td>\n",
       "      <td>19121545</td>\n",
       "      <td>1</td>\n",
       "      <td>8400.0</td>\n",
       "    </tr>\n",
       "    <tr>\n",
       "      <th>7681</th>\n",
       "      <td>59283</td>\n",
       "      <td>106162</td>\n",
       "      <td>1100821622</td>\n",
       "      <td>2017-02-03 16:21:09</td>\n",
       "      <td>2017-02-03 16:24:58</td>\n",
       "      <td>PAID_SUCCESS</td>\n",
       "      <td>54626</td>\n",
       "      <td>39001743</td>\n",
       "      <td>1</td>\n",
       "      <td>13900.0</td>\n",
       "    </tr>\n",
       "    <tr>\n",
       "      <th>13508</th>\n",
       "      <td>138661</td>\n",
       "      <td>216302</td>\n",
       "      <td>1100890793</td>\n",
       "      <td>2017-12-29 11:52:49</td>\n",
       "      <td>2017-12-29 11:55:03</td>\n",
       "      <td>PAID_SUCCESS</td>\n",
       "      <td>131682</td>\n",
       "      <td>19114659</td>\n",
       "      <td>1</td>\n",
       "      <td>600.0</td>\n",
       "    </tr>\n",
       "    <tr>\n",
       "      <th>15595</th>\n",
       "      <td>90901</td>\n",
       "      <td>156566</td>\n",
       "      <td>1100868801</td>\n",
       "      <td>2017-08-15 18:55:33</td>\n",
       "      <td>2017-08-15 18:58:38</td>\n",
       "      <td>PAID_SUCCESS</td>\n",
       "      <td>84601</td>\n",
       "      <td>19115397</td>\n",
       "      <td>1</td>\n",
       "      <td>8900.0</td>\n",
       "    </tr>\n",
       "    <tr>\n",
       "      <th>4216</th>\n",
       "      <td>35201</td>\n",
       "      <td>24283</td>\n",
       "      <td>1100698360</td>\n",
       "      <td>2016-08-12 17:51:50</td>\n",
       "      <td>2016-08-12 17:57:39</td>\n",
       "      <td>PAID_SUCCESS</td>\n",
       "      <td>31722</td>\n",
       "      <td>19008811</td>\n",
       "      <td>1</td>\n",
       "      <td>3200.0</td>\n",
       "    </tr>\n",
       "    <tr>\n",
       "      <th>14517</th>\n",
       "      <td>89461</td>\n",
       "      <td>154022</td>\n",
       "      <td>1100866369</td>\n",
       "      <td>2017-08-06 10:58:26</td>\n",
       "      <td>2017-08-06 11:05:41</td>\n",
       "      <td>PAID_SUCCESS</td>\n",
       "      <td>83221</td>\n",
       "      <td>19036595</td>\n",
       "      <td>1</td>\n",
       "      <td>2450.0</td>\n",
       "    </tr>\n",
       "    <tr>\n",
       "      <th>5756</th>\n",
       "      <td>47702</td>\n",
       "      <td>83239</td>\n",
       "      <td>1100802042</td>\n",
       "      <td>2016-12-04 13:01:35</td>\n",
       "      <td>2016-12-04 13:05:45</td>\n",
       "      <td>PAID_SUCCESS</td>\n",
       "      <td>43323</td>\n",
       "      <td>25026293</td>\n",
       "      <td>1</td>\n",
       "      <td>1390.0</td>\n",
       "    </tr>\n",
       "  </tbody>\n",
       "</table>\n",
       "</div>"
      ],
      "text/plain": [
       "       ORDER_ID  CUSTOMER_ID      BPCODE          CREATE_DATE  \\\n",
       "425        5621        14847  1100713704  2015-11-30 14:17:25   \n",
       "3194      28723         5082  1100732878  2016-06-21 16:30:55   \n",
       "13159    139203       216302  1100890793  2017-12-30 15:36:23   \n",
       "11681    142884       258502  1100910709  2018-01-17 15:28:08   \n",
       "7681      59283       106162  1100821622  2017-02-03 16:21:09   \n",
       "13508    138661       216302  1100890793  2017-12-29 11:52:49   \n",
       "15595     90901       156566  1100868801  2017-08-15 18:55:33   \n",
       "4216      35201        24283  1100698360  2016-08-12 17:51:50   \n",
       "14517     89461       154022  1100866369  2017-08-06 10:58:26   \n",
       "5756      47702        83239  1100802042  2016-12-04 13:01:35   \n",
       "\n",
       "              UPDATE_DATE        STATUS  ORDER_ITEM_ID     MATNR  QUANTITY  \\\n",
       "425   2015-11-30 14:29:11  PAID_SUCCESS           5441  59008124         1   \n",
       "3194  2016-06-21 16:33:46  PAID_SUCCESS          25863  19060123         1   \n",
       "13159 2017-12-30 15:51:53  PAID_SUCCESS         132225  19027090         3   \n",
       "11681 2018-01-17 15:30:59  PAID_SUCCESS         135786  19121545         1   \n",
       "7681  2017-02-03 16:24:58  PAID_SUCCESS          54626  39001743         1   \n",
       "13508 2017-12-29 11:55:03  PAID_SUCCESS         131682  19114659         1   \n",
       "15595 2017-08-15 18:58:38  PAID_SUCCESS          84601  19115397         1   \n",
       "4216  2016-08-12 17:57:39  PAID_SUCCESS          31722  19008811         1   \n",
       "14517 2017-08-06 11:05:41  PAID_SUCCESS          83221  19036595         1   \n",
       "5756  2016-12-04 13:05:45  PAID_SUCCESS          43323  25026293         1   \n",
       "\n",
       "       TOTAL_PRICE  \n",
       "425        23900.0  \n",
       "3194       26925.0  \n",
       "13159       1950.0  \n",
       "11681       8400.0  \n",
       "7681       13900.0  \n",
       "13508        600.0  \n",
       "15595       8900.0  \n",
       "4216        3200.0  \n",
       "14517       2450.0  \n",
       "5756        1390.0  "
      ]
     },
     "execution_count": 67,
     "metadata": {},
     "output_type": "execute_result"
    }
   ],
   "source": [
    "order.sample(frac=0.0015)"
   ]
  },
  {
   "cell_type": "code",
   "execution_count": 85,
   "metadata": {},
   "outputs": [
    {
     "name": "stdout",
     "output_type": "stream",
     "text": [
      "TimeSeriesSplit(max_train_size=None, n_splits=10)\n",
      "TRAIN: [0] TEST: [1]\n",
      "TRAIN: [0 1] TEST: [2]\n",
      "TRAIN: [0 1 2] TEST: [3]\n",
      "TRAIN: [0 1 2 3] TEST: [4]\n",
      "TRAIN: [0 1 2 3 4] TEST: [5]\n",
      "TRAIN: [0 1 2 3 4 5] TEST: [6]\n",
      "TRAIN: [0 1 2 3 4 5 6] TEST: [7]\n",
      "TRAIN: [0 1 2 3 4 5 6 7] TEST: [8]\n",
      "TRAIN: [0 1 2 3 4 5 6 7 8] TEST: [9]\n",
      "TRAIN: [0 1 2 3 4 5 6 7 8 9] TEST: [10]\n"
     ]
    }
   ],
   "source": [
    "from sklearn.model_selection import TimeSeriesSplit\n",
    "X = np.array([[1, 2], [3, 4], [1, 2], [3, 4],[3, 4], [1, 2], [3, 4],[3, 4], [1, 2], [3, 4],[3, 4]])\n",
    "y = np.array([1, 2, 3, 4,5,6,7,8,9,10,11])\n",
    "tscv = TimeSeriesSplit(n_splits=(len(X)-1))\n",
    "print(tscv)\n",
    "\n",
    "for train_index, test_index in tscv.split(X):\n",
    "    print(\"TRAIN:\", train_index, \"TEST:\", test_index)\n",
    "    X_train, X_test = X[train_index], X[test_index]\n",
    "    y_train, y_test = y[train_index], y[test_index]\n"
   ]
  },
  {
   "cell_type": "code",
   "execution_count": null,
   "metadata": {
    "collapsed": true
   },
   "outputs": [],
   "source": []
  }
 ],
 "metadata": {
  "kernelspec": {
   "display_name": "Python 3",
   "language": "python",
   "name": "python3"
  },
  "language_info": {
   "codemirror_mode": {
    "name": "ipython",
    "version": 3
   },
   "file_extension": ".py",
   "mimetype": "text/x-python",
   "name": "python",
   "nbconvert_exporter": "python",
   "pygments_lexer": "ipython3",
   "version": "3.6.3"
  }
 },
 "nbformat": 4,
 "nbformat_minor": 2
}
