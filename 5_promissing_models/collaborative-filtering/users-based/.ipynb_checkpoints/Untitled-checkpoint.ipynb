{
 "cells": [
  {
   "cell_type": "code",
   "execution_count": 1,
   "metadata": {},
   "outputs": [],
   "source": [
    "import unicodecsv\n",
    "import pandas as pd\n",
    "#read data from CSV file and make it to lists\n",
    "def read_csv(filename):\n",
    "    with open(filename, 'rb') as f:\n",
    "        reader = unicodecsv.DictReader(f)\n",
    "    \n",
    "        return list(reader)\n",
    "    \n",
    "import numpy as np\n",
    "import pandas as pd\n",
    "import seaborn as sb\n",
    "import matplotlib.pyplot as plt\n",
    "import sklearn"
   ]
  },
  {
   "cell_type": "code",
   "execution_count": 2,
   "metadata": {},
   "outputs": [],
   "source": [
    "data_all = pd.read_csv('../../../2_data/explored/test_movie.csv')"
   ]
  },
  {
   "cell_type": "code",
   "execution_count": 4,
   "metadata": {},
   "outputs": [],
   "source": [
    "columns = ['Unnamed: 3','Unnamed: 4','Unnamed: 5','Unnamed: 6']\n",
    "data_all.drop(columns, inplace=True, axis=1)"
   ]
  },
  {
   "cell_type": "code",
   "execution_count": 5,
   "metadata": {},
   "outputs": [
    {
     "data": {
      "text/html": [
       "<div>\n",
       "<style scoped>\n",
       "    .dataframe tbody tr th:only-of-type {\n",
       "        vertical-align: middle;\n",
       "    }\n",
       "\n",
       "    .dataframe tbody tr th {\n",
       "        vertical-align: top;\n",
       "    }\n",
       "\n",
       "    .dataframe thead th {\n",
       "        text-align: right;\n",
       "    }\n",
       "</style>\n",
       "<table border=\"1\" class=\"dataframe\">\n",
       "  <thead>\n",
       "    <tr style=\"text-align: right;\">\n",
       "      <th></th>\n",
       "      <th>id</th>\n",
       "      <th>goods</th>\n",
       "      <th>quant</th>\n",
       "    </tr>\n",
       "  </thead>\n",
       "  <tbody>\n",
       "    <tr>\n",
       "      <th>0</th>\n",
       "      <td>John</td>\n",
       "      <td>the matrix</td>\n",
       "      <td>5.0</td>\n",
       "    </tr>\n",
       "    <tr>\n",
       "      <th>1</th>\n",
       "      <td>Lucy</td>\n",
       "      <td>the matrix</td>\n",
       "      <td>1.0</td>\n",
       "    </tr>\n",
       "    <tr>\n",
       "      <th>2</th>\n",
       "      <td>Eric</td>\n",
       "      <td>the matrix</td>\n",
       "      <td>2.0</td>\n",
       "    </tr>\n",
       "    <tr>\n",
       "      <th>3</th>\n",
       "      <td>Diane</td>\n",
       "      <td>the matrix</td>\n",
       "      <td>4.0</td>\n",
       "    </tr>\n",
       "    <tr>\n",
       "      <th>4</th>\n",
       "      <td>John</td>\n",
       "      <td>Titanic</td>\n",
       "      <td>1.0</td>\n",
       "    </tr>\n",
       "    <tr>\n",
       "      <th>5</th>\n",
       "      <td>Lucy</td>\n",
       "      <td>Titanic</td>\n",
       "      <td>5.0</td>\n",
       "    </tr>\n",
       "    <tr>\n",
       "      <th>6</th>\n",
       "      <td>Diane</td>\n",
       "      <td>Titanic</td>\n",
       "      <td>3.0</td>\n",
       "    </tr>\n",
       "    <tr>\n",
       "      <th>7</th>\n",
       "      <td>Lucy</td>\n",
       "      <td>Die hard</td>\n",
       "      <td>2.0</td>\n",
       "    </tr>\n",
       "    <tr>\n",
       "      <th>8</th>\n",
       "      <td>Eric</td>\n",
       "      <td>Die hard</td>\n",
       "      <td>3.0</td>\n",
       "    </tr>\n",
       "    <tr>\n",
       "      <th>9</th>\n",
       "      <td>Diane</td>\n",
       "      <td>Die hard</td>\n",
       "      <td>5.0</td>\n",
       "    </tr>\n",
       "    <tr>\n",
       "      <th>10</th>\n",
       "      <td>John</td>\n",
       "      <td>Forrest gump</td>\n",
       "      <td>2.0</td>\n",
       "    </tr>\n",
       "    <tr>\n",
       "      <th>11</th>\n",
       "      <td>Lucy</td>\n",
       "      <td>Forrest gump</td>\n",
       "      <td>5.0</td>\n",
       "    </tr>\n",
       "    <tr>\n",
       "      <th>12</th>\n",
       "      <td>Eric</td>\n",
       "      <td>Forrest gump</td>\n",
       "      <td>5.0</td>\n",
       "    </tr>\n",
       "    <tr>\n",
       "      <th>13</th>\n",
       "      <td>Diane</td>\n",
       "      <td>Forrest gump</td>\n",
       "      <td>3.0</td>\n",
       "    </tr>\n",
       "    <tr>\n",
       "      <th>14</th>\n",
       "      <td>John</td>\n",
       "      <td>Wall-E</td>\n",
       "      <td>2.0</td>\n",
       "    </tr>\n",
       "    <tr>\n",
       "      <th>15</th>\n",
       "      <td>Lucy</td>\n",
       "      <td>Wall-E</td>\n",
       "      <td>5.0</td>\n",
       "    </tr>\n",
       "    <tr>\n",
       "      <th>16</th>\n",
       "      <td>Eric</td>\n",
       "      <td>Wall-E</td>\n",
       "      <td>4.0</td>\n",
       "    </tr>\n",
       "  </tbody>\n",
       "</table>\n",
       "</div>"
      ],
      "text/plain": [
       "       id         goods  quant\n",
       "0    John    the matrix    5.0\n",
       "1    Lucy    the matrix    1.0\n",
       "2    Eric    the matrix    2.0\n",
       "3   Diane    the matrix    4.0\n",
       "4    John       Titanic    1.0\n",
       "5    Lucy       Titanic    5.0\n",
       "6   Diane       Titanic    3.0\n",
       "7    Lucy      Die hard    2.0\n",
       "8    Eric      Die hard    3.0\n",
       "9   Diane      Die hard    5.0\n",
       "10   John  Forrest gump    2.0\n",
       "11   Lucy  Forrest gump    5.0\n",
       "12   Eric  Forrest gump    5.0\n",
       "13  Diane  Forrest gump    3.0\n",
       "14   John        Wall-E    2.0\n",
       "15   Lucy        Wall-E    5.0\n",
       "16   Eric        Wall-E    4.0"
      ]
     },
     "execution_count": 5,
     "metadata": {},
     "output_type": "execute_result"
    }
   ],
   "source": [
    "data_all.dropna(inplace=True)\n",
    "data_all.drop(data_all.index[[0]])\n",
    "data_all"
   ]
  },
  {
   "cell_type": "code",
   "execution_count": 6,
   "metadata": {},
   "outputs": [],
   "source": [
    "sum_df = data_all.groupby(['id','goods'])['quant'].sum().reset_index()"
   ]
  },
  {
   "cell_type": "code",
   "execution_count": 79,
   "metadata": {},
   "outputs": [],
   "source": [
    "pivot = sum_df.pivot_table(index='id', columns='goods', values='quant', aggfunc=np.sum)"
   ]
  },
  {
   "cell_type": "code",
   "execution_count": 80,
   "metadata": {},
   "outputs": [
    {
     "data": {
      "text/html": [
       "<div>\n",
       "<style scoped>\n",
       "    .dataframe tbody tr th:only-of-type {\n",
       "        vertical-align: middle;\n",
       "    }\n",
       "\n",
       "    .dataframe tbody tr th {\n",
       "        vertical-align: top;\n",
       "    }\n",
       "\n",
       "    .dataframe thead th {\n",
       "        text-align: right;\n",
       "    }\n",
       "</style>\n",
       "<table border=\"1\" class=\"dataframe\">\n",
       "  <thead>\n",
       "    <tr style=\"text-align: right;\">\n",
       "      <th>goods</th>\n",
       "      <th>Die hard</th>\n",
       "      <th>Forrest gump</th>\n",
       "      <th>Titanic</th>\n",
       "      <th>Wall-E</th>\n",
       "      <th>the matrix</th>\n",
       "    </tr>\n",
       "    <tr>\n",
       "      <th>id</th>\n",
       "      <th></th>\n",
       "      <th></th>\n",
       "      <th></th>\n",
       "      <th></th>\n",
       "      <th></th>\n",
       "    </tr>\n",
       "  </thead>\n",
       "  <tbody>\n",
       "    <tr>\n",
       "      <th>Diane</th>\n",
       "      <td>5.0</td>\n",
       "      <td>3.0</td>\n",
       "      <td>3.0</td>\n",
       "      <td>NaN</td>\n",
       "      <td>4.0</td>\n",
       "    </tr>\n",
       "    <tr>\n",
       "      <th>Eric</th>\n",
       "      <td>3.0</td>\n",
       "      <td>5.0</td>\n",
       "      <td>NaN</td>\n",
       "      <td>4.0</td>\n",
       "      <td>2.0</td>\n",
       "    </tr>\n",
       "    <tr>\n",
       "      <th>John</th>\n",
       "      <td>NaN</td>\n",
       "      <td>2.0</td>\n",
       "      <td>1.0</td>\n",
       "      <td>2.0</td>\n",
       "      <td>5.0</td>\n",
       "    </tr>\n",
       "    <tr>\n",
       "      <th>Lucy</th>\n",
       "      <td>2.0</td>\n",
       "      <td>5.0</td>\n",
       "      <td>5.0</td>\n",
       "      <td>5.0</td>\n",
       "      <td>1.0</td>\n",
       "    </tr>\n",
       "  </tbody>\n",
       "</table>\n",
       "</div>"
      ],
      "text/plain": [
       "goods  Die hard  Forrest gump  Titanic  Wall-E  the matrix\n",
       "id                                                        \n",
       "Diane       5.0           3.0      3.0     NaN         4.0\n",
       "Eric        3.0           5.0      NaN     4.0         2.0\n",
       "John        NaN           2.0      1.0     2.0         5.0\n",
       "Lucy        2.0           5.0      5.0     5.0         1.0"
      ]
     },
     "execution_count": 80,
     "metadata": {},
     "output_type": "execute_result"
    }
   ],
   "source": [
    "pivot"
   ]
  },
  {
   "cell_type": "code",
   "execution_count": 81,
   "metadata": {},
   "outputs": [
    {
     "data": {
      "text/plain": [
       "4"
      ]
     },
     "execution_count": 81,
     "metadata": {},
     "output_type": "execute_result"
    }
   ],
   "source": [
    "len(pivot)"
   ]
  },
  {
   "cell_type": "code",
   "execution_count": 82,
   "metadata": {},
   "outputs": [
    {
     "data": {
      "text/plain": [
       "array([[ 5.,  3.,  3., nan,  4.],\n",
       "       [ 3.,  5., nan,  4.,  2.],\n",
       "       [nan,  2.,  1.,  2.,  5.],\n",
       "       [ 2.,  5.,  5.,  5.,  1.]])"
      ]
     },
     "execution_count": 82,
     "metadata": {},
     "output_type": "execute_result"
    }
   ],
   "source": [
    "pivot.values"
   ]
  },
  {
   "cell_type": "code",
   "execution_count": 91,
   "metadata": {},
   "outputs": [
    {
     "data": {
      "text/plain": [
       "4"
      ]
     },
     "execution_count": 91,
     "metadata": {},
     "output_type": "execute_result"
    }
   ],
   "source": [
    "len(pivot)"
   ]
  },
  {
   "cell_type": "code",
   "execution_count": 90,
   "metadata": {},
   "outputs": [
    {
     "data": {
      "text/plain": [
       "id\n",
       "Diane    3.75\n",
       "Eric     3.50\n",
       "John     2.50\n",
       "Lucy     3.60\n",
       "dtype: float64"
      ]
     },
     "execution_count": 90,
     "metadata": {},
     "output_type": "execute_result"
    }
   ],
   "source": [
    "pivot.mean(axis=1)"
   ]
  },
  {
   "cell_type": "code",
   "execution_count": 145,
   "metadata": {},
   "outputs": [
    {
     "data": {
      "text/plain": [
       "array([[ 5.,  3.,  3., nan,  4.],\n",
       "       [ 3.,  5., nan,  4.,  2.],\n",
       "       [nan,  2.,  1.,  2.,  5.],\n",
       "       [ 2.,  5.,  5.,  5.,  1.]])"
      ]
     },
     "execution_count": 145,
     "metadata": {},
     "output_type": "execute_result"
    }
   ],
   "source": [
    "pivot_value = pivot.values\n",
    "pivot_value\n",
    "\n"
   ]
  },
  {
   "cell_type": "code",
   "execution_count": 125,
   "metadata": {},
   "outputs": [
    {
     "data": {
      "text/plain": [
       "array([3.75, 3.5 , 2.5 , 3.6 ])"
      ]
     },
     "execution_count": 125,
     "metadata": {},
     "output_type": "execute_result"
    }
   ],
   "source": [
    "mean = pivot.mean(axis=1).as_matrix()\n",
    "mean"
   ]
  },
  {
   "cell_type": "code",
   "execution_count": 221,
   "metadata": {},
   "outputs": [],
   "source": [
    "def pearson(value):\n",
    "    mean =pivot.mean(axis=1).as_matrix()\n",
    "    std = pivot.std(axis=1).as_matrix()\n",
    "    pivot_value = pivot.values\n",
    "    \n",
    "    h = pivot_value.T-mean\n",
    "    print(h)\n",
    "        \n",
    " \n",
    "    \n",
    "    "
   ]
  },
  {
   "cell_type": "code",
   "execution_count": 222,
   "metadata": {},
   "outputs": [
    {
     "name": "stdout",
     "output_type": "stream",
     "text": [
      "[[ 1.25 -0.5    nan -1.6 ]\n",
      " [-0.75  1.5  -0.5   1.4 ]\n",
      " [-0.75   nan -1.5   1.4 ]\n",
      " [  nan  0.5  -0.5   1.4 ]\n",
      " [ 0.25 -1.5   2.5  -2.6 ]]\n"
     ]
    }
   ],
   "source": [
    "pearson(m)"
   ]
  },
  {
   "cell_type": "code",
   "execution_count": 191,
   "metadata": {},
   "outputs": [],
   "source": [
    "def get_redundant_pairs(df):\n",
    "\n",
    "    pairs_to_drop = set()\n",
    "    cols = pivot.columns\n",
    "    for i in range(0, df.shape[1]):\n",
    "        for j in range(0, i+1):\n",
    "            pairs_to_drop.add((cols[i], cols[j]))\n",
    "    return pairs_to_drop"
   ]
  },
  {
   "cell_type": "code",
   "execution_count": 194,
   "metadata": {
    "collapsed": true
   },
   "outputs": [
    {
     "data": {
      "text/plain": [
       "{('Die hard', 'Die hard'),\n",
       " ('Forrest gump', 'Die hard'),\n",
       " ('Forrest gump', 'Forrest gump'),\n",
       " ('Titanic', 'Die hard'),\n",
       " ('Titanic', 'Forrest gump'),\n",
       " ('Titanic', 'Titanic'),\n",
       " ('Wall-E', 'Die hard'),\n",
       " ('Wall-E', 'Forrest gump'),\n",
       " ('Wall-E', 'Titanic'),\n",
       " ('Wall-E', 'Wall-E'),\n",
       " ('the matrix', 'Die hard'),\n",
       " ('the matrix', 'Forrest gump'),\n",
       " ('the matrix', 'Titanic'),\n",
       " ('the matrix', 'Wall-E'),\n",
       " ('the matrix', 'the matrix')}"
      ]
     },
     "execution_count": 194,
     "metadata": {},
     "output_type": "execute_result"
    }
   ],
   "source": [
    "column_data = get_redundant_pairs(pivot)\n",
    "column_data"
   ]
  },
  {
   "cell_type": "code",
   "execution_count": 225,
   "metadata": {},
   "outputs": [
    {
     "name": "stdout",
     "output_type": "stream",
     "text": [
      "nan\n",
      "nan\n",
      "1.041211531562839\n",
      "nan\n",
      "nan\n",
      "nan\n",
      "nan\n",
      "nan\n",
      "nan\n",
      "nan\n",
      "nan\n",
      "0.0665108361445696\n",
      "nan\n",
      "nan\n",
      "-0.4877350331430644\n"
     ]
    }
   ],
   "source": [
    "for i in range(0, pivot_value.shape[1]):\n",
    "        for j in range(0, i+1):\n",
    "            mean =pivot.mean(axis=1).as_matrix()\n",
    "            std = pivot.std(axis=1).as_matrix()\n",
    "            pivot_value = pivot.values\n",
    "            \n",
    "            u = sum((pivot_value.T[i]-mean)+(pivot_value.T[j]-mean))\n",
    "            d =(sum((pivot_value.T[i]-mean)**2)+sum((pivot_value.T[j]-mean)**2))**0.5\n",
    "            \n",
    "            print (u/d)\n",
    "            \n",
    "            "
   ]
  },
  {
   "cell_type": "code",
   "execution_count": null,
   "metadata": {},
   "outputs": [],
   "source": []
  },
  {
   "cell_type": "code",
   "execution_count": null,
   "metadata": {},
   "outputs": [],
   "source": []
  },
  {
   "cell_type": "code",
   "execution_count": 212,
   "metadata": {},
   "outputs": [
    {
     "data": {
      "text/plain": [
       "array([[ 5.,  3.,  3., nan,  4.],\n",
       "       [ 3.,  5., nan,  4.,  2.],\n",
       "       [nan,  2.,  1.,  2.,  5.],\n",
       "       [ 2.,  5.,  5.,  5.,  1.]])"
      ]
     },
     "execution_count": 212,
     "metadata": {},
     "output_type": "execute_result"
    }
   ],
   "source": [
    "pivot_value"
   ]
  },
  {
   "cell_type": "code",
   "execution_count": 215,
   "metadata": {},
   "outputs": [
    {
     "data": {
      "text/plain": [
       "4"
      ]
     },
     "execution_count": 215,
     "metadata": {},
     "output_type": "execute_result"
    }
   ],
   "source": [
    "pivot_value.shape[0]"
   ]
  },
  {
   "cell_type": "code",
   "execution_count": 182,
   "metadata": {},
   "outputs": [
    {
     "name": "stdout",
     "output_type": "stream",
     "text": [
      "('Die hard', 'Die hard')\n",
      "('Forrest gump', 'Die hard')\n",
      "('Forrest gump', 'Forrest gump')\n",
      "('Titanic', 'Die hard')\n",
      "('Titanic', 'Forrest gump')\n",
      "('Titanic', 'Titanic')\n",
      "('Wall-E', 'Die hard')\n",
      "('Wall-E', 'Forrest gump')\n",
      "('Wall-E', 'Titanic')\n",
      "('Wall-E', 'Wall-E')\n",
      "('the matrix', 'Die hard')\n",
      "('the matrix', 'Forrest gump')\n",
      "('the matrix', 'Titanic')\n",
      "('the matrix', 'Wall-E')\n",
      "('the matrix', 'the matrix')\n"
     ]
    }
   ],
   "source": [
    "cols = pivot.columns\n",
    "for i in range(0, pivot.shape[1]):\n",
    "    for j in range(0, i+1):\n",
    "        print ((cols[i], cols[j]))"
   ]
  },
  {
   "cell_type": "code",
   "execution_count": null,
   "metadata": {},
   "outputs": [],
   "source": [
    "def correlation():\n",
    "    mean =pivot.mean(axis=1).as_matrix()\n",
    "    std = pivot.std(axis=1).as_matrix()\n",
    "    pivot_value = pivot.values\n",
    "    \n",
    "    row_column = get_redundant_pairs(pivot)\n",
    "    \n",
    "    h = pivot_value.T-mean\n",
    "    "
   ]
  },
  {
   "cell_type": "code",
   "execution_count": null,
   "metadata": {},
   "outputs": [],
   "source": []
  },
  {
   "cell_type": "code",
   "execution_count": 49,
   "metadata": {},
   "outputs": [
    {
     "data": {
      "text/plain": [
       "array([3.33333333, 3.75      , 3.        , 3.66666667, 3.        ])"
      ]
     },
     "execution_count": 49,
     "metadata": {},
     "output_type": "execute_result"
    }
   ],
   "source": [
    "pivot.mean(axis=1).as_matrix()"
   ]
  },
  {
   "cell_type": "code",
   "execution_count": 61,
   "metadata": {},
   "outputs": [
    {
     "data": {
      "text/plain": [
       "array([[ 5.,  3., nan,  2.],\n",
       "       [ 3.,  5.,  2.,  5.],\n",
       "       [ 3., nan,  1.,  5.],\n",
       "       [nan,  4.,  2.,  5.],\n",
       "       [ 4.,  2.,  5.,  1.]])"
      ]
     },
     "execution_count": 61,
     "metadata": {},
     "output_type": "execute_result"
    }
   ],
   "source": [
    "pivot_value=pivot.values\n",
    "pivot_value"
   ]
  },
  {
   "cell_type": "code",
   "execution_count": 76,
   "metadata": {},
   "outputs": [],
   "source": [
    "def normalization(value):\n",
    "    mean =pivot.mean(axis=1).as_matrix()\n",
    "    std = pivot.std(axis=1).as_matrix()\n",
    "    (value.T-mean)/std\n",
    "  \n",
    "    \n",
    "    "
   ]
  },
  {
   "cell_type": "code",
   "execution_count": 77,
   "metadata": {},
   "outputs": [
    {
     "data": {
      "text/plain": [
       "array([[ 1.09108945, -0.5       ,  0.        ,         nan,  0.54772256],\n",
       "       [-0.21821789,  0.83333333,         nan,  0.21821789, -0.54772256],\n",
       "       [        nan, -1.16666667, -1.        , -1.09108945,  1.09544512],\n",
       "       [-0.87287156,  0.83333333,  1.        ,  0.87287156, -1.09544512]])"
      ]
     },
     "execution_count": 77,
     "metadata": {},
     "output_type": "execute_result"
    }
   ],
   "source": [
    "normalization(pivot_value)"
   ]
  },
  {
   "cell_type": "code",
   "execution_count": null,
   "metadata": {},
   "outputs": [],
   "source": []
  }
 ],
 "metadata": {
  "kernelspec": {
   "display_name": "Python 3",
   "language": "python",
   "name": "python3"
  },
  "language_info": {
   "codemirror_mode": {
    "name": "ipython",
    "version": 3
   },
   "file_extension": ".py",
   "mimetype": "text/x-python",
   "name": "python",
   "nbconvert_exporter": "python",
   "pygments_lexer": "ipython3",
   "version": "3.6.4"
  }
 },
 "nbformat": 4,
 "nbformat_minor": 2
}
