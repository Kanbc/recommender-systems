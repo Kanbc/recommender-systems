{
 "cells": [
  {
   "cell_type": "code",
   "execution_count": 1,
   "metadata": {},
   "outputs": [],
   "source": [
    "import unicodecsv\n",
    "import pandas as pd\n",
    "#read data from CSV file and make it to lists\n",
    "def read_csv(filename):\n",
    "    with open(filename, 'rb') as f:\n",
    "        reader = unicodecsv.DictReader(f)\n",
    "    \n",
    "        return list(reader)\n",
    "    \n",
    "import numpy as np\n",
    "import pandas as pd\n",
    "import seaborn as sb\n",
    "import matplotlib.pyplot as plt\n",
    "import sklearn"
   ]
  },
  {
   "cell_type": "code",
   "execution_count": 2,
   "metadata": {},
   "outputs": [],
   "source": [
    "data_all = pd.read_csv('../../../2_data/explored/test_movie.csv')"
   ]
  },
  {
   "cell_type": "code",
   "execution_count": 3,
   "metadata": {},
   "outputs": [],
   "source": [
    "columns = ['Unnamed: 3','Unnamed: 4','Unnamed: 5','Unnamed: 6']\n",
    "data_all.drop(columns, inplace=True, axis=1)"
   ]
  },
  {
   "cell_type": "code",
   "execution_count": 4,
   "metadata": {},
   "outputs": [
    {
     "data": {
      "text/html": [
       "<div>\n",
       "<style scoped>\n",
       "    .dataframe tbody tr th:only-of-type {\n",
       "        vertical-align: middle;\n",
       "    }\n",
       "\n",
       "    .dataframe tbody tr th {\n",
       "        vertical-align: top;\n",
       "    }\n",
       "\n",
       "    .dataframe thead th {\n",
       "        text-align: right;\n",
       "    }\n",
       "</style>\n",
       "<table border=\"1\" class=\"dataframe\">\n",
       "  <thead>\n",
       "    <tr style=\"text-align: right;\">\n",
       "      <th></th>\n",
       "      <th>id</th>\n",
       "      <th>goods</th>\n",
       "      <th>quant</th>\n",
       "    </tr>\n",
       "  </thead>\n",
       "  <tbody>\n",
       "    <tr>\n",
       "      <th>0</th>\n",
       "      <td>John</td>\n",
       "      <td>the matrix</td>\n",
       "      <td>5.0</td>\n",
       "    </tr>\n",
       "    <tr>\n",
       "      <th>1</th>\n",
       "      <td>Lucy</td>\n",
       "      <td>the matrix</td>\n",
       "      <td>1.0</td>\n",
       "    </tr>\n",
       "    <tr>\n",
       "      <th>2</th>\n",
       "      <td>Eric</td>\n",
       "      <td>the matrix</td>\n",
       "      <td>2.0</td>\n",
       "    </tr>\n",
       "    <tr>\n",
       "      <th>3</th>\n",
       "      <td>Diane</td>\n",
       "      <td>the matrix</td>\n",
       "      <td>4.0</td>\n",
       "    </tr>\n",
       "    <tr>\n",
       "      <th>4</th>\n",
       "      <td>John</td>\n",
       "      <td>Titanic</td>\n",
       "      <td>1.0</td>\n",
       "    </tr>\n",
       "    <tr>\n",
       "      <th>5</th>\n",
       "      <td>Lucy</td>\n",
       "      <td>Titanic</td>\n",
       "      <td>5.0</td>\n",
       "    </tr>\n",
       "    <tr>\n",
       "      <th>6</th>\n",
       "      <td>Diane</td>\n",
       "      <td>Titanic</td>\n",
       "      <td>3.0</td>\n",
       "    </tr>\n",
       "    <tr>\n",
       "      <th>7</th>\n",
       "      <td>Lucy</td>\n",
       "      <td>Die hard</td>\n",
       "      <td>2.0</td>\n",
       "    </tr>\n",
       "    <tr>\n",
       "      <th>8</th>\n",
       "      <td>Eric</td>\n",
       "      <td>Die hard</td>\n",
       "      <td>3.0</td>\n",
       "    </tr>\n",
       "    <tr>\n",
       "      <th>9</th>\n",
       "      <td>Diane</td>\n",
       "      <td>Die hard</td>\n",
       "      <td>5.0</td>\n",
       "    </tr>\n",
       "    <tr>\n",
       "      <th>10</th>\n",
       "      <td>John</td>\n",
       "      <td>Forrest gump</td>\n",
       "      <td>2.0</td>\n",
       "    </tr>\n",
       "    <tr>\n",
       "      <th>11</th>\n",
       "      <td>Lucy</td>\n",
       "      <td>Forrest gump</td>\n",
       "      <td>5.0</td>\n",
       "    </tr>\n",
       "    <tr>\n",
       "      <th>12</th>\n",
       "      <td>Eric</td>\n",
       "      <td>Forrest gump</td>\n",
       "      <td>5.0</td>\n",
       "    </tr>\n",
       "    <tr>\n",
       "      <th>13</th>\n",
       "      <td>Diane</td>\n",
       "      <td>Forrest gump</td>\n",
       "      <td>3.0</td>\n",
       "    </tr>\n",
       "    <tr>\n",
       "      <th>14</th>\n",
       "      <td>John</td>\n",
       "      <td>Wall-E</td>\n",
       "      <td>2.0</td>\n",
       "    </tr>\n",
       "    <tr>\n",
       "      <th>15</th>\n",
       "      <td>Lucy</td>\n",
       "      <td>Wall-E</td>\n",
       "      <td>5.0</td>\n",
       "    </tr>\n",
       "    <tr>\n",
       "      <th>16</th>\n",
       "      <td>Eric</td>\n",
       "      <td>Wall-E</td>\n",
       "      <td>4.0</td>\n",
       "    </tr>\n",
       "  </tbody>\n",
       "</table>\n",
       "</div>"
      ],
      "text/plain": [
       "       id         goods  quant\n",
       "0    John    the matrix    5.0\n",
       "1    Lucy    the matrix    1.0\n",
       "2    Eric    the matrix    2.0\n",
       "3   Diane    the matrix    4.0\n",
       "4    John       Titanic    1.0\n",
       "5    Lucy       Titanic    5.0\n",
       "6   Diane       Titanic    3.0\n",
       "7    Lucy      Die hard    2.0\n",
       "8    Eric      Die hard    3.0\n",
       "9   Diane      Die hard    5.0\n",
       "10   John  Forrest gump    2.0\n",
       "11   Lucy  Forrest gump    5.0\n",
       "12   Eric  Forrest gump    5.0\n",
       "13  Diane  Forrest gump    3.0\n",
       "14   John        Wall-E    2.0\n",
       "15   Lucy        Wall-E    5.0\n",
       "16   Eric        Wall-E    4.0"
      ]
     },
     "execution_count": 4,
     "metadata": {},
     "output_type": "execute_result"
    }
   ],
   "source": [
    "data_all.dropna(inplace=True)\n",
    "data_all.drop(data_all.index[[0]])\n",
    "data_all"
   ]
  },
  {
   "cell_type": "code",
   "execution_count": 5,
   "metadata": {},
   "outputs": [],
   "source": [
    "sum_df = data_all.groupby(['id','goods'])['quant'].sum().reset_index()"
   ]
  },
  {
   "cell_type": "code",
   "execution_count": 6,
   "metadata": {},
   "outputs": [],
   "source": [
    "pivot = sum_df.pivot_table(index='goods', columns='id', values='quant', aggfunc=np.sum)"
   ]
  },
  {
   "cell_type": "code",
   "execution_count": 7,
   "metadata": {},
   "outputs": [
    {
     "data": {
      "text/html": [
       "<div>\n",
       "<style scoped>\n",
       "    .dataframe tbody tr th:only-of-type {\n",
       "        vertical-align: middle;\n",
       "    }\n",
       "\n",
       "    .dataframe tbody tr th {\n",
       "        vertical-align: top;\n",
       "    }\n",
       "\n",
       "    .dataframe thead th {\n",
       "        text-align: right;\n",
       "    }\n",
       "</style>\n",
       "<table border=\"1\" class=\"dataframe\">\n",
       "  <thead>\n",
       "    <tr style=\"text-align: right;\">\n",
       "      <th>id</th>\n",
       "      <th>Diane</th>\n",
       "      <th>Eric</th>\n",
       "      <th>John</th>\n",
       "      <th>Lucy</th>\n",
       "    </tr>\n",
       "    <tr>\n",
       "      <th>goods</th>\n",
       "      <th></th>\n",
       "      <th></th>\n",
       "      <th></th>\n",
       "      <th></th>\n",
       "    </tr>\n",
       "  </thead>\n",
       "  <tbody>\n",
       "    <tr>\n",
       "      <th>Die hard</th>\n",
       "      <td>5.0</td>\n",
       "      <td>3.0</td>\n",
       "      <td>NaN</td>\n",
       "      <td>2.0</td>\n",
       "    </tr>\n",
       "    <tr>\n",
       "      <th>Forrest gump</th>\n",
       "      <td>3.0</td>\n",
       "      <td>5.0</td>\n",
       "      <td>2.0</td>\n",
       "      <td>5.0</td>\n",
       "    </tr>\n",
       "    <tr>\n",
       "      <th>Titanic</th>\n",
       "      <td>3.0</td>\n",
       "      <td>NaN</td>\n",
       "      <td>1.0</td>\n",
       "      <td>5.0</td>\n",
       "    </tr>\n",
       "    <tr>\n",
       "      <th>Wall-E</th>\n",
       "      <td>NaN</td>\n",
       "      <td>4.0</td>\n",
       "      <td>2.0</td>\n",
       "      <td>5.0</td>\n",
       "    </tr>\n",
       "    <tr>\n",
       "      <th>the matrix</th>\n",
       "      <td>4.0</td>\n",
       "      <td>2.0</td>\n",
       "      <td>5.0</td>\n",
       "      <td>1.0</td>\n",
       "    </tr>\n",
       "  </tbody>\n",
       "</table>\n",
       "</div>"
      ],
      "text/plain": [
       "id            Diane  Eric  John  Lucy\n",
       "goods                                \n",
       "Die hard        5.0   3.0   NaN   2.0\n",
       "Forrest gump    3.0   5.0   2.0   5.0\n",
       "Titanic         3.0   NaN   1.0   5.0\n",
       "Wall-E          NaN   4.0   2.0   5.0\n",
       "the matrix      4.0   2.0   5.0   1.0"
      ]
     },
     "execution_count": 7,
     "metadata": {},
     "output_type": "execute_result"
    }
   ],
   "source": [
    "pivot"
   ]
  },
  {
   "cell_type": "code",
   "execution_count": 8,
   "metadata": {},
   "outputs": [],
   "source": [
    "pivot_value= pivot.values"
   ]
  },
  {
   "cell_type": "code",
   "execution_count": 9,
   "metadata": {},
   "outputs": [],
   "source": [
    "#mean = pivot[~np.isnan(pivot)].mean(axis=1).as_matrix()"
   ]
  },
  {
   "cell_type": "code",
   "execution_count": 10,
   "metadata": {},
   "outputs": [],
   "source": [
    "import numpy as np\n",
    "\n",
    "def mean_of_array(x):\n",
    "    valid_value = x[~np.isnan(x)]\n",
    "    return np.mean(valid_value)"
   ]
  },
  {
   "cell_type": "code",
   "execution_count": 11,
   "metadata": {},
   "outputs": [
    {
     "data": {
      "text/plain": [
       "id\n",
       "Diane    3.75\n",
       "Eric     3.50\n",
       "John     2.50\n",
       "Lucy     3.60\n",
       "dtype: float64"
      ]
     },
     "execution_count": 11,
     "metadata": {},
     "output_type": "execute_result"
    }
   ],
   "source": [
    "mean_of_array(pivot)"
   ]
  },
  {
   "cell_type": "code",
   "execution_count": 12,
   "metadata": {},
   "outputs": [],
   "source": [
    "def user_based_mean_centered(pivot_score_table):\n",
    "    mean_of_each_row = np.apply_along_axis(mean_of_array , axis=1, arr=pivot_score_table)\n",
    "    user_mean_centered_rating = (pivot_score_table.transpose() - mean_of_each_row).transpose()\n",
    "    return user_mean_centered_rating"
   ]
  },
  {
   "cell_type": "code",
   "execution_count": 13,
   "metadata": {},
   "outputs": [
    {
     "data": {
      "text/plain": [
       "array([[ 1.66666667, -0.33333333,         nan, -1.33333333],\n",
       "       [-0.75      ,  1.25      , -1.75      ,  1.25      ],\n",
       "       [ 0.        ,         nan, -2.        ,  2.        ],\n",
       "       [        nan,  0.33333333, -1.66666667,  1.33333333],\n",
       "       [ 1.        , -1.        ,  2.        , -2.        ]])"
      ]
     },
     "execution_count": 13,
     "metadata": {},
     "output_type": "execute_result"
    }
   ],
   "source": [
    "user_based_mean_centered(pivot_value)"
   ]
  },
  {
   "cell_type": "code",
   "execution_count": 63,
   "metadata": {},
   "outputs": [
    {
     "name": "stderr",
     "output_type": "stream",
     "text": [
      "/anaconda3/lib/python3.6/site-packages/numpy/core/_methods.py:29: RuntimeWarning: invalid value encountered in reduce\n",
      "  return umr_minimum(a, axis, None, out, keepdims)\n",
      "/anaconda3/lib/python3.6/site-packages/numpy/core/_methods.py:26: RuntimeWarning: invalid value encountered in reduce\n",
      "  return umr_maximum(a, axis, None, out, keepdims)\n",
      "/anaconda3/lib/python3.6/site-packages/numpy/lib/function_base.py:780: RuntimeWarning: invalid value encountered in greater_equal\n",
      "  keep = (tmp_a >= first_edge)\n",
      "/anaconda3/lib/python3.6/site-packages/numpy/lib/function_base.py:781: RuntimeWarning: invalid value encountered in less_equal\n",
      "  keep &= (tmp_a <= last_edge)\n"
     ]
    },
    {
     "data": {
      "image/png": "[encoded data removed]",
      "text/plain": [
       "<matplotlib.figure.Figure at 0x1a1c387cc0>"
      ]
     },
     "metadata": {},
     "output_type": "display_data"
    }
   ],
   "source": [
    "import matplotlib.pyplot as plt\n",
    "import numpy as np\n",
    "\n",
    "plot_age = pivot_value\n",
    "plt.hist(plot_age, normed=True, bins=40)\n",
    "\n",
    "plt.show()\n",
    "\n"
   ]
  },
  {
   "cell_type": "markdown",
   "metadata": {},
   "source": [
    "# z_score"
   ]
  },
  {
   "cell_type": "code",
   "execution_count": 14,
   "metadata": {},
   "outputs": [],
   "source": [
    "import numpy as np\n",
    "\n",
    "def std_of_array(x):\n",
    "    valid_value = x[~np.isnan(x)]\n",
    "    return np.std(valid_value)"
   ]
  },
  {
   "cell_type": "code",
   "execution_count": 15,
   "metadata": {},
   "outputs": [],
   "source": [
    "def user_based_z_score_normalize(pivot_score_table):\n",
    "    mean_of_each_column = np.apply_along_axis(mean_of_array , axis=0, arr=pivot_score_table)\n",
    "    std_of_each_column = np.apply_along_axis(std_of_array , axis=0, arr=pivot_score_table)\n",
    "    z_score_normalized = (pivot_score_table - mean_of_each_column)/std_of_each_column\n",
    "    return z_score_normalized"
   ]
  },
  {
   "cell_type": "code",
   "execution_count": 16,
   "metadata": {},
   "outputs": [
    {
     "data": {
      "text/plain": [
       "array([[ 1.50755672, -0.4472136 ,         nan, -0.91766294],\n",
       "       [-0.90453403,  1.34164079, -0.33333333,  0.80295507],\n",
       "       [-0.90453403,         nan, -1.        ,  0.80295507],\n",
       "       [        nan,  0.4472136 , -0.33333333,  0.80295507],\n",
       "       [ 0.30151134, -1.34164079,  1.66666667, -1.49120227]])"
      ]
     },
     "execution_count": 16,
     "metadata": {},
     "output_type": "execute_result"
    }
   ],
   "source": [
    "user_based_z_score_normalize(pivot_value)"
   ]
  },
  {
   "cell_type": "code",
   "execution_count": 17,
   "metadata": {},
   "outputs": [
    {
     "data": {
      "text/html": [
       "<div>\n",
       "<style scoped>\n",
       "    .dataframe tbody tr th:only-of-type {\n",
       "        vertical-align: middle;\n",
       "    }\n",
       "\n",
       "    .dataframe tbody tr th {\n",
       "        vertical-align: top;\n",
       "    }\n",
       "\n",
       "    .dataframe thead th {\n",
       "        text-align: right;\n",
       "    }\n",
       "</style>\n",
       "<table border=\"1\" class=\"dataframe\">\n",
       "  <thead>\n",
       "    <tr style=\"text-align: right;\">\n",
       "      <th>id</th>\n",
       "      <th>Diane</th>\n",
       "      <th>Eric</th>\n",
       "      <th>John</th>\n",
       "      <th>Lucy</th>\n",
       "    </tr>\n",
       "    <tr>\n",
       "      <th>goods</th>\n",
       "      <th></th>\n",
       "      <th></th>\n",
       "      <th></th>\n",
       "      <th></th>\n",
       "    </tr>\n",
       "  </thead>\n",
       "  <tbody>\n",
       "    <tr>\n",
       "      <th>Die hard</th>\n",
       "      <td>1.507557</td>\n",
       "      <td>-0.447214</td>\n",
       "      <td>NaN</td>\n",
       "      <td>-0.917663</td>\n",
       "    </tr>\n",
       "    <tr>\n",
       "      <th>Forrest gump</th>\n",
       "      <td>-0.904534</td>\n",
       "      <td>1.341641</td>\n",
       "      <td>-0.333333</td>\n",
       "      <td>0.802955</td>\n",
       "    </tr>\n",
       "    <tr>\n",
       "      <th>Titanic</th>\n",
       "      <td>-0.904534</td>\n",
       "      <td>NaN</td>\n",
       "      <td>-1.000000</td>\n",
       "      <td>0.802955</td>\n",
       "    </tr>\n",
       "    <tr>\n",
       "      <th>Wall-E</th>\n",
       "      <td>NaN</td>\n",
       "      <td>0.447214</td>\n",
       "      <td>-0.333333</td>\n",
       "      <td>0.802955</td>\n",
       "    </tr>\n",
       "    <tr>\n",
       "      <th>the matrix</th>\n",
       "      <td>0.301511</td>\n",
       "      <td>-1.341641</td>\n",
       "      <td>1.666667</td>\n",
       "      <td>-1.491202</td>\n",
       "    </tr>\n",
       "  </tbody>\n",
       "</table>\n",
       "</div>"
      ],
      "text/plain": [
       "id               Diane      Eric      John      Lucy\n",
       "goods                                               \n",
       "Die hard      1.507557 -0.447214       NaN -0.917663\n",
       "Forrest gump -0.904534  1.341641 -0.333333  0.802955\n",
       "Titanic      -0.904534       NaN -1.000000  0.802955\n",
       "Wall-E             NaN  0.447214 -0.333333  0.802955\n",
       "the matrix    0.301511 -1.341641  1.666667 -1.491202"
      ]
     },
     "execution_count": 17,
     "metadata": {},
     "output_type": "execute_result"
    }
   ],
   "source": [
    "table =user_based_z_score_normalize(pivot[:])\n",
    "table"
   ]
  },
  {
   "cell_type": "markdown",
   "metadata": {},
   "source": [
    "# pearson"
   ]
  },
  {
   "cell_type": "code",
   "execution_count": 24,
   "metadata": {},
   "outputs": [],
   "source": [
    "def pearson(pivot_table):\n",
    "    row = pivot_table.shape[1]\n",
    "    pc = np.zeros([row, row])\n",
    "    for u in range(row):\n",
    "        value_u = pivot_table.values[:,u]\n",
    "        mean = mean_of_array(value_u)\n",
    "        ru = value_u-mean\n",
    "        for v in range(row):\n",
    "            value_v = pivot_table.values[:,v]\n",
    "            mean    = mean_of_array(value_v)\n",
    "            rv = value_v-mean\n",
    "            uv_set = ~np.isnan(ru*rv)\n",
    "            upper = sum((ru*rv)[uv_set])\n",
    "            lower_left = sum((ru*ru)[uv_set])\n",
    "            lower_right = sum((rv*rv)[uv_set])\n",
    "            pc[u,v] = upper/np.sqrt(lower_left*lower_right)\n",
    "            column_name_list = list(pivot_table)\n",
    "    pc_df = pd.DataFrame(pc, index=column_name_list, columns=column_name_list)\n",
    "    return pc_df\n",
    "            "
   ]
  },
  {
   "cell_type": "code",
   "execution_count": 25,
   "metadata": {
    "scrolled": true
   },
   "outputs": [
    {
     "data": {
      "text/html": [
       "<div>\n",
       "<style scoped>\n",
       "    .dataframe tbody tr th:only-of-type {\n",
       "        vertical-align: middle;\n",
       "    }\n",
       "\n",
       "    .dataframe tbody tr th {\n",
       "        vertical-align: top;\n",
       "    }\n",
       "\n",
       "    .dataframe thead th {\n",
       "        text-align: right;\n",
       "    }\n",
       "</style>\n",
       "<table border=\"1\" class=\"dataframe\">\n",
       "  <thead>\n",
       "    <tr style=\"text-align: right;\">\n",
       "      <th></th>\n",
       "      <th>Diane</th>\n",
       "      <th>Eric</th>\n",
       "      <th>John</th>\n",
       "      <th>Lucy</th>\n",
       "    </tr>\n",
       "  </thead>\n",
       "  <tbody>\n",
       "    <tr>\n",
       "      <th>Diane</th>\n",
       "      <td>1.000000</td>\n",
       "      <td>-0.659232</td>\n",
       "      <td>0.659232</td>\n",
       "      <td>-0.787197</td>\n",
       "    </tr>\n",
       "    <tr>\n",
       "      <th>Eric</th>\n",
       "      <td>-0.659232</td>\n",
       "      <td>1.000000</td>\n",
       "      <td>-0.838870</td>\n",
       "      <td>0.921791</td>\n",
       "    </tr>\n",
       "    <tr>\n",
       "      <th>John</th>\n",
       "      <td>0.659232</td>\n",
       "      <td>-0.838870</td>\n",
       "      <td>1.000000</td>\n",
       "      <td>-0.937573</td>\n",
       "    </tr>\n",
       "    <tr>\n",
       "      <th>Lucy</th>\n",
       "      <td>-0.787197</td>\n",
       "      <td>0.921791</td>\n",
       "      <td>-0.937573</td>\n",
       "      <td>1.000000</td>\n",
       "    </tr>\n",
       "  </tbody>\n",
       "</table>\n",
       "</div>"
      ],
      "text/plain": [
       "          Diane      Eric      John      Lucy\n",
       "Diane  1.000000 -0.659232  0.659232 -0.787197\n",
       "Eric  -0.659232  1.000000 -0.838870  0.921791\n",
       "John   0.659232 -0.838870  1.000000 -0.937573\n",
       "Lucy  -0.787197  0.921791 -0.937573  1.000000"
      ]
     },
     "execution_count": 25,
     "metadata": {},
     "output_type": "execute_result"
    }
   ],
   "source": [
    "pearson(table)"
   ]
  },
  {
   "cell_type": "markdown",
   "metadata": {},
   "source": [
    "# Accounting for significance"
   ]
  },
  {
   "cell_type": "code",
   "execution_count": 29,
   "metadata": {},
   "outputs": [],
   "source": [
    "def similarity_item_based(pivot_table_df,gamma):\n",
    "    number_of_item = pivot_table_df.shape[1]\n",
    "    pc = np.zeros([number_of_item, number_of_item])\n",
    "    for u in range(number_of_item):\n",
    "        rui = pivot_table_df.values[:,u]\n",
    "        ru = mean_of_array(rui)\n",
    "        deltai = rui - ru\n",
    "        for v in range(number_of_item):\n",
    "            ruv = pivot_table_df.values[:,v]\n",
    "            rv = mean_of_array(ruv)\n",
    "            deltaj = ruv-rv\n",
    "\n",
    "            uv_set = ~np.isnan(deltai*deltaj)\n",
    "            upper = sum((deltai*deltaj)[uv_set])\n",
    "            lower_left = sum((deltai*deltai)[uv_set])\n",
    "            lower_right = sum((deltaj*deltaj)[uv_set])\n",
    "            wuv = upper/np.sqrt(lower_left*lower_right)\n",
    "            \n",
    "            # Accounting for significance\n",
    "            uv_set_number = sum(uv_set)\n",
    "            pc[u,v] = wuv*(min(uv_set_number,gamma)/gamma)\n",
    "            \n",
    "    column_name_list = list(pivot_table_df)\n",
    "    pc_df = pd.DataFrame(pc, index=column_name_list, columns=column_name_list)\n",
    "    return pc_df"
   ]
  },
  {
   "cell_type": "code",
   "execution_count": 30,
   "metadata": {},
   "outputs": [
    {
     "data": {
      "text/html": [
       "<div>\n",
       "<style scoped>\n",
       "    .dataframe tbody tr th:only-of-type {\n",
       "        vertical-align: middle;\n",
       "    }\n",
       "\n",
       "    .dataframe tbody tr th {\n",
       "        vertical-align: top;\n",
       "    }\n",
       "\n",
       "    .dataframe thead th {\n",
       "        text-align: right;\n",
       "    }\n",
       "</style>\n",
       "<table border=\"1\" class=\"dataframe\">\n",
       "  <thead>\n",
       "    <tr style=\"text-align: right;\">\n",
       "      <th></th>\n",
       "      <th>Diane</th>\n",
       "      <th>Eric</th>\n",
       "      <th>John</th>\n",
       "      <th>Lucy</th>\n",
       "    </tr>\n",
       "  </thead>\n",
       "  <tbody>\n",
       "    <tr>\n",
       "      <th>Diane</th>\n",
       "      <td>1.000000</td>\n",
       "      <td>-0.494424</td>\n",
       "      <td>0.494424</td>\n",
       "      <td>-0.787197</td>\n",
       "    </tr>\n",
       "    <tr>\n",
       "      <th>Eric</th>\n",
       "      <td>-0.494424</td>\n",
       "      <td>1.000000</td>\n",
       "      <td>-0.629153</td>\n",
       "      <td>0.921791</td>\n",
       "    </tr>\n",
       "    <tr>\n",
       "      <th>John</th>\n",
       "      <td>0.494424</td>\n",
       "      <td>-0.629153</td>\n",
       "      <td>1.000000</td>\n",
       "      <td>-0.937573</td>\n",
       "    </tr>\n",
       "    <tr>\n",
       "      <th>Lucy</th>\n",
       "      <td>-0.787197</td>\n",
       "      <td>0.921791</td>\n",
       "      <td>-0.937573</td>\n",
       "      <td>1.000000</td>\n",
       "    </tr>\n",
       "  </tbody>\n",
       "</table>\n",
       "</div>"
      ],
      "text/plain": [
       "          Diane      Eric      John      Lucy\n",
       "Diane  1.000000 -0.494424  0.494424 -0.787197\n",
       "Eric  -0.494424  1.000000 -0.629153  0.921791\n",
       "John   0.494424 -0.629153  1.000000 -0.937573\n",
       "Lucy  -0.787197  0.921791 -0.937573  1.000000"
      ]
     },
     "execution_count": 30,
     "metadata": {},
     "output_type": "execute_result"
    }
   ],
   "source": [
    "similarity_item_based(table,4)"
   ]
  },
  {
   "cell_type": "markdown",
   "metadata": {},
   "source": [
    "เมื่อเทียบกับก่อนทำaccounting for significance"
   ]
  },
  {
   "cell_type": "code",
   "execution_count": 31,
   "metadata": {},
   "outputs": [
    {
     "data": {
      "text/html": [
       "<div>\n",
       "<style scoped>\n",
       "    .dataframe tbody tr th:only-of-type {\n",
       "        vertical-align: middle;\n",
       "    }\n",
       "\n",
       "    .dataframe tbody tr th {\n",
       "        vertical-align: top;\n",
       "    }\n",
       "\n",
       "    .dataframe thead th {\n",
       "        text-align: right;\n",
       "    }\n",
       "</style>\n",
       "<table border=\"1\" class=\"dataframe\">\n",
       "  <thead>\n",
       "    <tr style=\"text-align: right;\">\n",
       "      <th></th>\n",
       "      <th>Diane</th>\n",
       "      <th>Eric</th>\n",
       "      <th>John</th>\n",
       "      <th>Lucy</th>\n",
       "    </tr>\n",
       "  </thead>\n",
       "  <tbody>\n",
       "    <tr>\n",
       "      <th>Diane</th>\n",
       "      <td>1.000000</td>\n",
       "      <td>-0.659232</td>\n",
       "      <td>0.659232</td>\n",
       "      <td>-0.787197</td>\n",
       "    </tr>\n",
       "    <tr>\n",
       "      <th>Eric</th>\n",
       "      <td>-0.659232</td>\n",
       "      <td>1.000000</td>\n",
       "      <td>-0.838870</td>\n",
       "      <td>0.921791</td>\n",
       "    </tr>\n",
       "    <tr>\n",
       "      <th>John</th>\n",
       "      <td>0.659232</td>\n",
       "      <td>-0.838870</td>\n",
       "      <td>1.000000</td>\n",
       "      <td>-0.937573</td>\n",
       "    </tr>\n",
       "    <tr>\n",
       "      <th>Lucy</th>\n",
       "      <td>-0.787197</td>\n",
       "      <td>0.921791</td>\n",
       "      <td>-0.937573</td>\n",
       "      <td>1.000000</td>\n",
       "    </tr>\n",
       "  </tbody>\n",
       "</table>\n",
       "</div>"
      ],
      "text/plain": [
       "          Diane      Eric      John      Lucy\n",
       "Diane  1.000000 -0.659232  0.659232 -0.787197\n",
       "Eric  -0.659232  1.000000 -0.838870  0.921791\n",
       "John   0.659232 -0.838870  1.000000 -0.937573\n",
       "Lucy  -0.787197  0.921791 -0.937573  1.000000"
      ]
     },
     "execution_count": 31,
     "metadata": {},
     "output_type": "execute_result"
    }
   ],
   "source": [
    "pearson(table)"
   ]
  },
  {
   "cell_type": "markdown",
   "metadata": {},
   "source": [
    "# Neighborhood Selection"
   ]
  },
  {
   "cell_type": "code",
   "execution_count": 34,
   "metadata": {},
   "outputs": [
    {
     "data": {
      "text/html": [
       "<div>\n",
       "<style scoped>\n",
       "    .dataframe tbody tr th:only-of-type {\n",
       "        vertical-align: middle;\n",
       "    }\n",
       "\n",
       "    .dataframe tbody tr th {\n",
       "        vertical-align: top;\n",
       "    }\n",
       "\n",
       "    .dataframe thead th {\n",
       "        text-align: right;\n",
       "    }\n",
       "</style>\n",
       "<table border=\"1\" class=\"dataframe\">\n",
       "  <thead>\n",
       "    <tr style=\"text-align: right;\">\n",
       "      <th></th>\n",
       "      <th>Diane</th>\n",
       "      <th>Eric</th>\n",
       "      <th>John</th>\n",
       "      <th>Lucy</th>\n",
       "    </tr>\n",
       "  </thead>\n",
       "  <tbody>\n",
       "    <tr>\n",
       "      <th>Diane</th>\n",
       "      <td>1.000000</td>\n",
       "      <td>-0.494424</td>\n",
       "      <td>0.494424</td>\n",
       "      <td>-0.787197</td>\n",
       "    </tr>\n",
       "    <tr>\n",
       "      <th>Eric</th>\n",
       "      <td>-0.494424</td>\n",
       "      <td>1.000000</td>\n",
       "      <td>-0.629153</td>\n",
       "      <td>0.921791</td>\n",
       "    </tr>\n",
       "    <tr>\n",
       "      <th>John</th>\n",
       "      <td>0.494424</td>\n",
       "      <td>-0.629153</td>\n",
       "      <td>1.000000</td>\n",
       "      <td>-0.937573</td>\n",
       "    </tr>\n",
       "    <tr>\n",
       "      <th>Lucy</th>\n",
       "      <td>-0.787197</td>\n",
       "      <td>0.921791</td>\n",
       "      <td>-0.937573</td>\n",
       "      <td>1.000000</td>\n",
       "    </tr>\n",
       "  </tbody>\n",
       "</table>\n",
       "</div>"
      ],
      "text/plain": [
       "          Diane      Eric      John      Lucy\n",
       "Diane  1.000000 -0.494424  0.494424 -0.787197\n",
       "Eric  -0.494424  1.000000 -0.629153  0.921791\n",
       "John   0.494424 -0.629153  1.000000 -0.937573\n",
       "Lucy  -0.787197  0.921791 -0.937573  1.000000"
      ]
     },
     "execution_count": 34,
     "metadata": {},
     "output_type": "execute_result"
    }
   ],
   "source": [
    "similarity_item_based(table,4)"
   ]
  },
  {
   "cell_type": "code",
   "execution_count": 35,
   "metadata": {},
   "outputs": [],
   "source": [
    "def prefiltering_of_neighbors(neighbors_weight_table, thershold):\n",
    "    # Negative filtering & Thershold filtering\n",
    "    neighbors_weight_table[neighbors_weight_table < thershold] = 0\n",
    "    return neighbors_weight_table"
   ]
  },
  {
   "cell_type": "code",
   "execution_count": 37,
   "metadata": {},
   "outputs": [
    {
     "data": {
      "text/html": [
       "<div>\n",
       "<style scoped>\n",
       "    .dataframe tbody tr th:only-of-type {\n",
       "        vertical-align: middle;\n",
       "    }\n",
       "\n",
       "    .dataframe tbody tr th {\n",
       "        vertical-align: top;\n",
       "    }\n",
       "\n",
       "    .dataframe thead th {\n",
       "        text-align: right;\n",
       "    }\n",
       "</style>\n",
       "<table border=\"1\" class=\"dataframe\">\n",
       "  <thead>\n",
       "    <tr style=\"text-align: right;\">\n",
       "      <th></th>\n",
       "      <th>Diane</th>\n",
       "      <th>Eric</th>\n",
       "      <th>John</th>\n",
       "      <th>Lucy</th>\n",
       "    </tr>\n",
       "  </thead>\n",
       "  <tbody>\n",
       "    <tr>\n",
       "      <th>Diane</th>\n",
       "      <td>1.0</td>\n",
       "      <td>0.000000</td>\n",
       "      <td>0.0</td>\n",
       "      <td>0.000000</td>\n",
       "    </tr>\n",
       "    <tr>\n",
       "      <th>Eric</th>\n",
       "      <td>0.0</td>\n",
       "      <td>1.000000</td>\n",
       "      <td>0.0</td>\n",
       "      <td>0.921791</td>\n",
       "    </tr>\n",
       "    <tr>\n",
       "      <th>John</th>\n",
       "      <td>0.0</td>\n",
       "      <td>0.000000</td>\n",
       "      <td>1.0</td>\n",
       "      <td>0.000000</td>\n",
       "    </tr>\n",
       "    <tr>\n",
       "      <th>Lucy</th>\n",
       "      <td>0.0</td>\n",
       "      <td>0.921791</td>\n",
       "      <td>0.0</td>\n",
       "      <td>1.000000</td>\n",
       "    </tr>\n",
       "  </tbody>\n",
       "</table>\n",
       "</div>"
      ],
      "text/plain": [
       "       Diane      Eric  John      Lucy\n",
       "Diane    1.0  0.000000   0.0  0.000000\n",
       "Eric     0.0  1.000000   0.0  0.921791\n",
       "John     0.0  0.000000   1.0  0.000000\n",
       "Lucy     0.0  0.921791   0.0  1.000000"
      ]
     },
     "execution_count": 37,
     "metadata": {},
     "output_type": "execute_result"
    }
   ],
   "source": [
    "prefiltering_of_neighbors(similarity_item_based(table,4),0.5)"
   ]
  },
  {
   "cell_type": "code",
   "execution_count": 39,
   "metadata": {},
   "outputs": [
    {
     "data": {
      "text/html": [
       "<div>\n",
       "<style scoped>\n",
       "    .dataframe tbody tr th:only-of-type {\n",
       "        vertical-align: middle;\n",
       "    }\n",
       "\n",
       "    .dataframe tbody tr th {\n",
       "        vertical-align: top;\n",
       "    }\n",
       "\n",
       "    .dataframe thead th {\n",
       "        text-align: right;\n",
       "    }\n",
       "</style>\n",
       "<table border=\"1\" class=\"dataframe\">\n",
       "  <thead>\n",
       "    <tr style=\"text-align: right;\">\n",
       "      <th></th>\n",
       "      <th>Diane</th>\n",
       "      <th>Eric</th>\n",
       "      <th>John</th>\n",
       "      <th>Lucy</th>\n",
       "    </tr>\n",
       "  </thead>\n",
       "  <tbody>\n",
       "    <tr>\n",
       "      <th>Diane</th>\n",
       "      <td>1.0</td>\n",
       "      <td>0.000000</td>\n",
       "      <td>0.0</td>\n",
       "      <td>0.000000</td>\n",
       "    </tr>\n",
       "    <tr>\n",
       "      <th>Eric</th>\n",
       "      <td>0.0</td>\n",
       "      <td>1.000000</td>\n",
       "      <td>0.0</td>\n",
       "      <td>0.921791</td>\n",
       "    </tr>\n",
       "    <tr>\n",
       "      <th>John</th>\n",
       "      <td>0.0</td>\n",
       "      <td>0.000000</td>\n",
       "      <td>1.0</td>\n",
       "      <td>0.000000</td>\n",
       "    </tr>\n",
       "    <tr>\n",
       "      <th>Lucy</th>\n",
       "      <td>0.0</td>\n",
       "      <td>0.921791</td>\n",
       "      <td>0.0</td>\n",
       "      <td>1.000000</td>\n",
       "    </tr>\n",
       "  </tbody>\n",
       "</table>\n",
       "</div>"
      ],
      "text/plain": [
       "       Diane      Eric  John      Lucy\n",
       "Diane    1.0  0.000000   0.0  0.000000\n",
       "Eric     0.0  1.000000   0.0  0.921791\n",
       "John     0.0  0.000000   1.0  0.000000\n",
       "Lucy     0.0  0.921791   0.0  1.000000"
      ]
     },
     "execution_count": 39,
     "metadata": {},
     "output_type": "execute_result"
    }
   ],
   "source": [
    "similarity_weight = prefiltering_of_neighbors(similarity_item_based(table,4),0.5)\n",
    "similarity_weight"
   ]
  },
  {
   "cell_type": "markdown",
   "metadata": {},
   "source": [
    "# Prediction"
   ]
  },
  {
   "cell_type": "code",
   "execution_count": 43,
   "metadata": {},
   "outputs": [],
   "source": [
    "def predict_score(pivot_score_table,weight):\n",
    "    # initial variable\n",
    "    score_table = pivot_score_table[:].copy()\n",
    "    number_of_item = pivot_score_table.shape[1]\n",
    "    mean_of_each_column = np.apply_along_axis(mean_of_array , axis=0, arr=pivot_score_table)\n",
    "    std_of_each_column = np.apply_along_axis(std_of_array , axis=0, arr=pivot_score_table)\n",
    "#     z_score_normalized = (pivot_score_table - mean_of_each_column)/std_of_each_column\n",
    "    \n",
    "    # get NaN index\n",
    "    nan_index = np.argwhere(np.isnan(pivot_score_table).values)\n",
    "    \n",
    "    # for loop to predict each NaN and fill value to it       \n",
    "    for nan_pos in nan_index:\n",
    "        u,i = nan_pos[0],nan_pos[1]\n",
    "        ribar = mean_of_each_column[i]\n",
    "        sigmai = std_of_each_column[i]\n",
    "        \n",
    "        wi = weight.values[i]\n",
    "        wi[i] = 0\n",
    "        ru = pivot_score_table.values[u,:]\n",
    "\n",
    "        delta_ru_with_mean_divide_std = (ru - mean_of_each_column)/std_of_each_column\n",
    "        upper_array = wi*delta_ru_with_mean_divide_std\n",
    "        upper = sum(upper_array[~np.isnan(upper_array)])\n",
    "        lower = sum(abs(wi))\n",
    "        \n",
    "        score_table.values[u][i] = ribar + sigmai*(upper/lower)\n",
    "        \n",
    "    return score_table"
   ]
  },
  {
   "cell_type": "code",
   "execution_count": 44,
   "metadata": {},
   "outputs": [
    {
     "data": {
      "text/html": [
       "<div>\n",
       "<style scoped>\n",
       "    .dataframe tbody tr th:only-of-type {\n",
       "        vertical-align: middle;\n",
       "    }\n",
       "\n",
       "    .dataframe tbody tr th {\n",
       "        vertical-align: top;\n",
       "    }\n",
       "\n",
       "    .dataframe thead th {\n",
       "        text-align: right;\n",
       "    }\n",
       "</style>\n",
       "<table border=\"1\" class=\"dataframe\">\n",
       "  <thead>\n",
       "    <tr style=\"text-align: right;\">\n",
       "      <th>id</th>\n",
       "      <th>Diane</th>\n",
       "      <th>Eric</th>\n",
       "      <th>John</th>\n",
       "      <th>Lucy</th>\n",
       "    </tr>\n",
       "    <tr>\n",
       "      <th>goods</th>\n",
       "      <th></th>\n",
       "      <th></th>\n",
       "      <th></th>\n",
       "      <th></th>\n",
       "    </tr>\n",
       "  </thead>\n",
       "  <tbody>\n",
       "    <tr>\n",
       "      <th>Die hard</th>\n",
       "      <td>5.0</td>\n",
       "      <td>3.0</td>\n",
       "      <td>NaN</td>\n",
       "      <td>2.0</td>\n",
       "    </tr>\n",
       "    <tr>\n",
       "      <th>Forrest gump</th>\n",
       "      <td>3.0</td>\n",
       "      <td>5.0</td>\n",
       "      <td>2.0</td>\n",
       "      <td>5.0</td>\n",
       "    </tr>\n",
       "    <tr>\n",
       "      <th>Titanic</th>\n",
       "      <td>3.0</td>\n",
       "      <td>NaN</td>\n",
       "      <td>1.0</td>\n",
       "      <td>5.0</td>\n",
       "    </tr>\n",
       "    <tr>\n",
       "      <th>Wall-E</th>\n",
       "      <td>NaN</td>\n",
       "      <td>4.0</td>\n",
       "      <td>2.0</td>\n",
       "      <td>5.0</td>\n",
       "    </tr>\n",
       "    <tr>\n",
       "      <th>the matrix</th>\n",
       "      <td>4.0</td>\n",
       "      <td>2.0</td>\n",
       "      <td>5.0</td>\n",
       "      <td>1.0</td>\n",
       "    </tr>\n",
       "  </tbody>\n",
       "</table>\n",
       "</div>"
      ],
      "text/plain": [
       "id            Diane  Eric  John  Lucy\n",
       "goods                                \n",
       "Die hard        5.0   3.0   NaN   2.0\n",
       "Forrest gump    3.0   5.0   2.0   5.0\n",
       "Titanic         3.0   NaN   1.0   5.0\n",
       "Wall-E          NaN   4.0   2.0   5.0\n",
       "the matrix      4.0   2.0   5.0   1.0"
      ]
     },
     "execution_count": 44,
     "metadata": {},
     "output_type": "execute_result"
    }
   ],
   "source": [
    "pivot"
   ]
  },
  {
   "cell_type": "code",
   "execution_count": 47,
   "metadata": {},
   "outputs": [
    {
     "name": "stderr",
     "output_type": "stream",
     "text": [
      "/anaconda3/lib/python3.6/site-packages/ipykernel_launcher.py:27: RuntimeWarning: invalid value encountered in double_scalars\n"
     ]
    },
    {
     "data": {
      "text/html": [
       "<div>\n",
       "<style scoped>\n",
       "    .dataframe tbody tr th:only-of-type {\n",
       "        vertical-align: middle;\n",
       "    }\n",
       "\n",
       "    .dataframe tbody tr th {\n",
       "        vertical-align: top;\n",
       "    }\n",
       "\n",
       "    .dataframe thead th {\n",
       "        text-align: right;\n",
       "    }\n",
       "</style>\n",
       "<table border=\"1\" class=\"dataframe\">\n",
       "  <thead>\n",
       "    <tr style=\"text-align: right;\">\n",
       "      <th>id</th>\n",
       "      <th>Diane</th>\n",
       "      <th>Eric</th>\n",
       "      <th>John</th>\n",
       "      <th>Lucy</th>\n",
       "    </tr>\n",
       "    <tr>\n",
       "      <th>goods</th>\n",
       "      <th></th>\n",
       "      <th></th>\n",
       "      <th></th>\n",
       "      <th></th>\n",
       "    </tr>\n",
       "  </thead>\n",
       "  <tbody>\n",
       "    <tr>\n",
       "      <th>Die hard</th>\n",
       "      <td>5.0</td>\n",
       "      <td>3.000000</td>\n",
       "      <td>NaN</td>\n",
       "      <td>2.0</td>\n",
       "    </tr>\n",
       "    <tr>\n",
       "      <th>Forrest gump</th>\n",
       "      <td>3.0</td>\n",
       "      <td>5.000000</td>\n",
       "      <td>2.0</td>\n",
       "      <td>5.0</td>\n",
       "    </tr>\n",
       "    <tr>\n",
       "      <th>Titanic</th>\n",
       "      <td>3.0</td>\n",
       "      <td>4.397731</td>\n",
       "      <td>1.0</td>\n",
       "      <td>5.0</td>\n",
       "    </tr>\n",
       "    <tr>\n",
       "      <th>Wall-E</th>\n",
       "      <td>NaN</td>\n",
       "      <td>4.000000</td>\n",
       "      <td>2.0</td>\n",
       "      <td>5.0</td>\n",
       "    </tr>\n",
       "    <tr>\n",
       "      <th>the matrix</th>\n",
       "      <td>4.0</td>\n",
       "      <td>2.000000</td>\n",
       "      <td>5.0</td>\n",
       "      <td>1.0</td>\n",
       "    </tr>\n",
       "  </tbody>\n",
       "</table>\n",
       "</div>"
      ],
      "text/plain": [
       "id            Diane      Eric  John  Lucy\n",
       "goods                                    \n",
       "Die hard        5.0  3.000000   NaN   2.0\n",
       "Forrest gump    3.0  5.000000   2.0   5.0\n",
       "Titanic         3.0  4.397731   1.0   5.0\n",
       "Wall-E          NaN  4.000000   2.0   5.0\n",
       "the matrix      4.0  2.000000   5.0   1.0"
      ]
     },
     "execution_count": 47,
     "metadata": {},
     "output_type": "execute_result"
    }
   ],
   "source": [
    "predicted_table = predict_score(pivot,similarity_weight)\n",
    "predicted_table"
   ]
  },
  {
   "cell_type": "markdown",
   "metadata": {},
   "source": [
    "# ตัวอย่าง"
   ]
  },
  {
   "cell_type": "markdown",
   "metadata": {},
   "source": [
    "ให้ inputเป็นuser_id"
   ]
  },
  {
   "cell_type": "code",
   "execution_count": 48,
   "metadata": {},
   "outputs": [
    {
     "data": {
      "text/html": [
       "<div>\n",
       "<style scoped>\n",
       "    .dataframe tbody tr th:only-of-type {\n",
       "        vertical-align: middle;\n",
       "    }\n",
       "\n",
       "    .dataframe tbody tr th {\n",
       "        vertical-align: top;\n",
       "    }\n",
       "\n",
       "    .dataframe thead th {\n",
       "        text-align: right;\n",
       "    }\n",
       "</style>\n",
       "<table border=\"1\" class=\"dataframe\">\n",
       "  <thead>\n",
       "    <tr style=\"text-align: right;\">\n",
       "      <th>id</th>\n",
       "      <th>Diane</th>\n",
       "      <th>Eric</th>\n",
       "      <th>John</th>\n",
       "      <th>Lucy</th>\n",
       "    </tr>\n",
       "    <tr>\n",
       "      <th>goods</th>\n",
       "      <th></th>\n",
       "      <th></th>\n",
       "      <th></th>\n",
       "      <th></th>\n",
       "    </tr>\n",
       "  </thead>\n",
       "  <tbody>\n",
       "    <tr>\n",
       "      <th>Die hard</th>\n",
       "      <td>5.0</td>\n",
       "      <td>3.000000</td>\n",
       "      <td>NaN</td>\n",
       "      <td>2.0</td>\n",
       "    </tr>\n",
       "    <tr>\n",
       "      <th>Forrest gump</th>\n",
       "      <td>3.0</td>\n",
       "      <td>5.000000</td>\n",
       "      <td>2.0</td>\n",
       "      <td>5.0</td>\n",
       "    </tr>\n",
       "    <tr>\n",
       "      <th>Titanic</th>\n",
       "      <td>3.0</td>\n",
       "      <td>4.397731</td>\n",
       "      <td>1.0</td>\n",
       "      <td>5.0</td>\n",
       "    </tr>\n",
       "    <tr>\n",
       "      <th>Wall-E</th>\n",
       "      <td>NaN</td>\n",
       "      <td>4.000000</td>\n",
       "      <td>2.0</td>\n",
       "      <td>5.0</td>\n",
       "    </tr>\n",
       "    <tr>\n",
       "      <th>the matrix</th>\n",
       "      <td>4.0</td>\n",
       "      <td>2.000000</td>\n",
       "      <td>5.0</td>\n",
       "      <td>1.0</td>\n",
       "    </tr>\n",
       "  </tbody>\n",
       "</table>\n",
       "</div>"
      ],
      "text/plain": [
       "id            Diane      Eric  John  Lucy\n",
       "goods                                    \n",
       "Die hard        5.0  3.000000   NaN   2.0\n",
       "Forrest gump    3.0  5.000000   2.0   5.0\n",
       "Titanic         3.0  4.397731   1.0   5.0\n",
       "Wall-E          NaN  4.000000   2.0   5.0\n",
       "the matrix      4.0  2.000000   5.0   1.0"
      ]
     },
     "execution_count": 48,
     "metadata": {},
     "output_type": "execute_result"
    }
   ],
   "source": [
    "predicted_table"
   ]
  },
  {
   "cell_type": "code",
   "execution_count": 49,
   "metadata": {},
   "outputs": [],
   "source": [
    "def item_list_from_user(predicted_score_table,user_id):\n",
    "    user_items = pd.DataFrame(predicted_score_table.loc[user_id])\n",
    "    user_items_sorted = user_items.sort_values(by=[user_id], ascending=False)\n",
    "    item_id_lists = user_items_sorted.index.values\n",
    "    return item_id_lists"
   ]
  },
  {
   "cell_type": "code",
   "execution_count": 51,
   "metadata": {},
   "outputs": [
    {
     "data": {
      "text/plain": [
       "array(['Diane', 'Eric', 'Lucy', 'John'], dtype=object)"
      ]
     },
     "execution_count": 51,
     "metadata": {},
     "output_type": "execute_result"
    }
   ],
   "source": [
    "item_list_from_user(predicted_table,'Die hard')"
   ]
  },
  {
   "cell_type": "code",
   "execution_count": 56,
   "metadata": {},
   "outputs": [],
   "source": [
    "def new_item_list_from_user(new_score_table, old_score_table, user_id):\n",
    "    only_new_item = new_score_table[np.isnan(old_score_table)]\n",
    "    user_items = pd.DataFrame(only_new_item.loc[user_id])\n",
    "    user_items_sorted = user_items.sort_values(by=[user_id], ascending=False)\n",
    "    item_id_lists = user_items_sorted[(user_items_sorted>0).values].index.values\n",
    "    return item_id_lists"
   ]
  },
  {
   "cell_type": "code",
   "execution_count": 57,
   "metadata": {},
   "outputs": [
    {
     "data": {
      "text/html": [
       "<div>\n",
       "<style scoped>\n",
       "    .dataframe tbody tr th:only-of-type {\n",
       "        vertical-align: middle;\n",
       "    }\n",
       "\n",
       "    .dataframe tbody tr th {\n",
       "        vertical-align: top;\n",
       "    }\n",
       "\n",
       "    .dataframe thead th {\n",
       "        text-align: right;\n",
       "    }\n",
       "</style>\n",
       "<table border=\"1\" class=\"dataframe\">\n",
       "  <thead>\n",
       "    <tr style=\"text-align: right;\">\n",
       "      <th>id</th>\n",
       "      <th>Diane</th>\n",
       "      <th>Eric</th>\n",
       "      <th>John</th>\n",
       "      <th>Lucy</th>\n",
       "    </tr>\n",
       "    <tr>\n",
       "      <th>goods</th>\n",
       "      <th></th>\n",
       "      <th></th>\n",
       "      <th></th>\n",
       "      <th></th>\n",
       "    </tr>\n",
       "  </thead>\n",
       "  <tbody>\n",
       "    <tr>\n",
       "      <th>Die hard</th>\n",
       "      <td>NaN</td>\n",
       "      <td>NaN</td>\n",
       "      <td>NaN</td>\n",
       "      <td>NaN</td>\n",
       "    </tr>\n",
       "    <tr>\n",
       "      <th>Forrest gump</th>\n",
       "      <td>NaN</td>\n",
       "      <td>NaN</td>\n",
       "      <td>NaN</td>\n",
       "      <td>NaN</td>\n",
       "    </tr>\n",
       "    <tr>\n",
       "      <th>Titanic</th>\n",
       "      <td>NaN</td>\n",
       "      <td>4.397731</td>\n",
       "      <td>NaN</td>\n",
       "      <td>NaN</td>\n",
       "    </tr>\n",
       "    <tr>\n",
       "      <th>Wall-E</th>\n",
       "      <td>NaN</td>\n",
       "      <td>NaN</td>\n",
       "      <td>NaN</td>\n",
       "      <td>NaN</td>\n",
       "    </tr>\n",
       "    <tr>\n",
       "      <th>the matrix</th>\n",
       "      <td>NaN</td>\n",
       "      <td>NaN</td>\n",
       "      <td>NaN</td>\n",
       "      <td>NaN</td>\n",
       "    </tr>\n",
       "  </tbody>\n",
       "</table>\n",
       "</div>"
      ],
      "text/plain": [
       "id            Diane      Eric  John  Lucy\n",
       "goods                                    \n",
       "Die hard        NaN       NaN   NaN   NaN\n",
       "Forrest gump    NaN       NaN   NaN   NaN\n",
       "Titanic         NaN  4.397731   NaN   NaN\n",
       "Wall-E          NaN       NaN   NaN   NaN\n",
       "the matrix      NaN       NaN   NaN   NaN"
      ]
     },
     "execution_count": 57,
     "metadata": {},
     "output_type": "execute_result"
    }
   ],
   "source": [
    "predicted_table[np.isnan(pivot)]"
   ]
  },
  {
   "cell_type": "markdown",
   "metadata": {},
   "source": [
    "input คือ item"
   ]
  },
  {
   "cell_type": "markdown",
   "metadata": {},
   "source": [
    "ใช้ similarity_weight"
   ]
  },
  {
   "cell_type": "code",
   "execution_count": 58,
   "metadata": {},
   "outputs": [],
   "source": [
    "def item_list_from_similarity(similar_table,item_id):\n",
    "    item_lists = pd.DataFrame(similar_table.loc[item_id])\n",
    "    items_sorted = item_lists.sort_values(by=[item_id], ascending=False)\n",
    "    items_sorted[item_id][item_id] = 0\n",
    "    item_id_lists = items_sorted[(items_sorted>0).values].index.values\n",
    "    return item_id_lists"
   ]
  },
  {
   "cell_type": "code",
   "execution_count": 59,
   "metadata": {},
   "outputs": [
    {
     "data": {
      "text/plain": [
       "array(['Lucy'], dtype=object)"
      ]
     },
     "execution_count": 59,
     "metadata": {},
     "output_type": "execute_result"
    }
   ],
   "source": [
    "item_list_from_similarity(similarity_weight,'Eric')"
   ]
  },
  {
   "cell_type": "code",
   "execution_count": null,
   "metadata": {},
   "outputs": [],
   "source": []
  },
  {
   "cell_type": "code",
   "execution_count": null,
   "metadata": {},
   "outputs": [],
   "source": []
  }
 ],
 "metadata": {
  "kernelspec": {
   "display_name": "Python 3",
   "language": "python",
   "name": "python3"
  },
  "language_info": {
   "codemirror_mode": {
    "name": "ipython",
    "version": 3
   },
   "file_extension": ".py",
   "mimetype": "text/x-python",
   "name": "python",
   "nbconvert_exporter": "python",
   "pygments_lexer": "ipython3",
   "version": "3.6.4"
  }
 },
 "nbformat": 4,
 "nbformat_minor": 2
}
