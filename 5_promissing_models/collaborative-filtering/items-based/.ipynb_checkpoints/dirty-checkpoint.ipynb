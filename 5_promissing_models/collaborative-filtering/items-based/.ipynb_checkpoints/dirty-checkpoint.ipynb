{
 "cells": [
  {
   "cell_type": "markdown",
   "metadata": {},
   "source": [
    "# Item-based Filtering"
   ]
  },
  {
   "cell_type": "markdown",
   "metadata": {},
   "source": [
    "อ่านใน Recommender System Handbook (Springer)"
   ]
  },
  {
   "cell_type": "markdown",
   "metadata": {},
   "source": [
    "- Neighborhood-based Recommendation 107-140\n",
    "- *Advances in Collaborative Filtering 145-184* อาจมาดูหลัง June ถ้าเวลาไม่พอ\n",
    "- *Context-Aware RS 217-250*\n",
    "- Applications and Evaluation of RSs 257(260-267)-294\n",
    "- a Real Large-ScaleProductionEnvironment 299-329"
   ]
  },
  {
   "cell_type": "markdown",
   "metadata": {},
   "source": [
    "## Neighborhood-based Recommendation"
   ]
  },
  {
   "cell_type": "markdown",
   "metadata": {},
   "source": [
    "### ข้อดี\n",
    "- Simplicity\n",
    "- Justifiability\n",
    "- Efficiency\n",
    "- Stability"
   ]
  },
  {
   "cell_type": "markdown",
   "metadata": {},
   "source": [
    "### Component of Neighborhood Methods (120-141)\n",
    "อธิบายการทำ model ทั้งหมด \n",
    "- 4.3.1 Rating Normalization\n",
    "- 4.3.2 Similarity Weight Computation\n",
    "- 4.3.3 Neighborhood Selection\n",
    "- 4.4 Advanced Techniques"
   ]
  },
  {
   "cell_type": "markdown",
   "metadata": {},
   "source": [
    "- Bayesian Clustering \n",
    "- Latent Semantic Analysis\n",
    "- Latent Dirichlet Allocation\n",
    "- Maximum Entropy\n",
    "- Boltzmann Machines\n",
    "- SVMs\n",
    "- Singular Value Decomposition "
   ]
  },
  {
   "cell_type": "code",
   "execution_count": null,
   "metadata": {},
   "outputs": [],
   "source": []
  }
 ],
 "metadata": {
  "kernelspec": {
   "display_name": "Python 3",
   "language": "python",
   "name": "python3"
  },
  "language_info": {
   "codemirror_mode": {
    "name": "ipython",
    "version": 3
   },
   "file_extension": ".py",
   "mimetype": "text/x-python",
   "name": "python",
   "nbconvert_exporter": "python",
   "pygments_lexer": "ipython3",
   "version": "3.6.3"
  }
 },
 "nbformat": 4,
 "nbformat_minor": 2
}
