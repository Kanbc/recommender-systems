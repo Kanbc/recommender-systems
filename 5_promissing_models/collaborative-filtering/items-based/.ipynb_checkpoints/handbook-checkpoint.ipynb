{
 "cells": [
  {
   "cell_type": "markdown",
   "metadata": {},
   "source": [
    "*Ref. Recommender System Handbook (Springer)*"
   ]
  },
  {
   "cell_type": "markdown",
   "metadata": {},
   "source": [
    "#### Must Reed Chapter\n",
    "- Neighborhood-based Recommendation 107-140\n",
    "- *Advances in Collaborative Filtering 145-184* อาจมาดูหลัง June ถ้าเวลาไม่พอ\n",
    "- *Context-Aware RS 217-250*\n",
    "- Applications and Evaluation of RSs 257(260-267)-294\n",
    "- a Real Large-ScaleProductionEnvironment 299-329"
   ]
  },
  {
   "cell_type": "markdown",
   "metadata": {},
   "source": [
    "# 1 Neighborhood-based Recommendation (114)"
   ]
  },
  {
   "cell_type": "markdown",
   "metadata": {},
   "source": [
    "### Example Data"
   ]
  },
  {
   "cell_type": "code",
   "execution_count": 24,
   "metadata": {},
   "outputs": [
    {
     "data": {
      "text/html": [
       "<div>\n",
       "<style>\n",
       "    .dataframe thead tr:only-child th {\n",
       "        text-align: right;\n",
       "    }\n",
       "\n",
       "    .dataframe thead th {\n",
       "        text-align: left;\n",
       "    }\n",
       "\n",
       "    .dataframe tbody tr th {\n",
       "        vertical-align: top;\n",
       "    }\n",
       "</style>\n",
       "<table border=\"1\" class=\"dataframe\">\n",
       "  <thead>\n",
       "    <tr style=\"text-align: right;\">\n",
       "      <th></th>\n",
       "      <th>item_id</th>\n",
       "      <th>name</th>\n",
       "    </tr>\n",
       "  </thead>\n",
       "  <tbody>\n",
       "    <tr>\n",
       "      <th>0</th>\n",
       "      <td>1</td>\n",
       "      <td>The Matrix</td>\n",
       "    </tr>\n",
       "    <tr>\n",
       "      <th>1</th>\n",
       "      <td>2</td>\n",
       "      <td>Titanic</td>\n",
       "    </tr>\n",
       "    <tr>\n",
       "      <th>2</th>\n",
       "      <td>3</td>\n",
       "      <td>Die Hard</td>\n",
       "    </tr>\n",
       "    <tr>\n",
       "      <th>3</th>\n",
       "      <td>4</td>\n",
       "      <td>Forrest Gump</td>\n",
       "    </tr>\n",
       "    <tr>\n",
       "      <th>4</th>\n",
       "      <td>5</td>\n",
       "      <td>Wall-E</td>\n",
       "    </tr>\n",
       "  </tbody>\n",
       "</table>\n",
       "</div>"
      ],
      "text/plain": [
       "   item_id          name\n",
       "0        1    The Matrix\n",
       "1        2       Titanic\n",
       "2        3      Die Hard\n",
       "3        4  Forrest Gump\n",
       "4        5        Wall-E"
      ]
     },
     "execution_count": 24,
     "metadata": {},
     "output_type": "execute_result"
    }
   ],
   "source": [
    "import pandas as pd\n",
    "\n",
    "items = pd.DataFrame(data={'item_id': [1, 2, 3, 4, 5], 'name': ['The Matrix', 'Titanic', 'Die Hard', 'Forrest Gump', 'Wall-E']})\n",
    "items"
   ]
  },
  {
   "cell_type": "code",
   "execution_count": 25,
   "metadata": {},
   "outputs": [
    {
     "data": {
      "text/html": [
       "<div>\n",
       "<style>\n",
       "    .dataframe thead tr:only-child th {\n",
       "        text-align: right;\n",
       "    }\n",
       "\n",
       "    .dataframe thead th {\n",
       "        text-align: left;\n",
       "    }\n",
       "\n",
       "    .dataframe tbody tr th {\n",
       "        vertical-align: top;\n",
       "    }\n",
       "</style>\n",
       "<table border=\"1\" class=\"dataframe\">\n",
       "  <thead>\n",
       "    <tr style=\"text-align: right;\">\n",
       "      <th></th>\n",
       "      <th>name</th>\n",
       "      <th>user_id</th>\n",
       "    </tr>\n",
       "  </thead>\n",
       "  <tbody>\n",
       "    <tr>\n",
       "      <th>0</th>\n",
       "      <td>John</td>\n",
       "      <td>1</td>\n",
       "    </tr>\n",
       "    <tr>\n",
       "      <th>1</th>\n",
       "      <td>Lucy</td>\n",
       "      <td>2</td>\n",
       "    </tr>\n",
       "    <tr>\n",
       "      <th>2</th>\n",
       "      <td>Eric</td>\n",
       "      <td>3</td>\n",
       "    </tr>\n",
       "    <tr>\n",
       "      <th>3</th>\n",
       "      <td>Diane</td>\n",
       "      <td>4</td>\n",
       "    </tr>\n",
       "  </tbody>\n",
       "</table>\n",
       "</div>"
      ],
      "text/plain": [
       "    name  user_id\n",
       "0   John        1\n",
       "1   Lucy        2\n",
       "2   Eric        3\n",
       "3  Diane        4"
      ]
     },
     "execution_count": 25,
     "metadata": {},
     "output_type": "execute_result"
    }
   ],
   "source": [
    "users = pd.DataFrame(data={'user_id': [1, 2, 3, 4], 'name': ['John', 'Lucy', 'Eric', 'Diane']})\n",
    "users"
   ]
  },
  {
   "cell_type": "code",
   "execution_count": 26,
   "metadata": {},
   "outputs": [
    {
     "data": {
      "text/html": [
       "<div>\n",
       "<style>\n",
       "    .dataframe thead tr:only-child th {\n",
       "        text-align: right;\n",
       "    }\n",
       "\n",
       "    .dataframe thead th {\n",
       "        text-align: left;\n",
       "    }\n",
       "\n",
       "    .dataframe tbody tr th {\n",
       "        vertical-align: top;\n",
       "    }\n",
       "</style>\n",
       "<table border=\"1\" class=\"dataframe\">\n",
       "  <thead>\n",
       "    <tr style=\"text-align: right;\">\n",
       "      <th></th>\n",
       "      <th>item_id</th>\n",
       "      <th>score</th>\n",
       "      <th>user_id</th>\n",
       "    </tr>\n",
       "  </thead>\n",
       "  <tbody>\n",
       "    <tr>\n",
       "      <th>0</th>\n",
       "      <td>1</td>\n",
       "      <td>5</td>\n",
       "      <td>1</td>\n",
       "    </tr>\n",
       "    <tr>\n",
       "      <th>1</th>\n",
       "      <td>2</td>\n",
       "      <td>1</td>\n",
       "      <td>1</td>\n",
       "    </tr>\n",
       "    <tr>\n",
       "      <th>2</th>\n",
       "      <td>4</td>\n",
       "      <td>2</td>\n",
       "      <td>1</td>\n",
       "    </tr>\n",
       "    <tr>\n",
       "      <th>3</th>\n",
       "      <td>5</td>\n",
       "      <td>2</td>\n",
       "      <td>1</td>\n",
       "    </tr>\n",
       "    <tr>\n",
       "      <th>4</th>\n",
       "      <td>1</td>\n",
       "      <td>1</td>\n",
       "      <td>2</td>\n",
       "    </tr>\n",
       "  </tbody>\n",
       "</table>\n",
       "</div>"
      ],
      "text/plain": [
       "   item_id  score  user_id\n",
       "0        1      5        1\n",
       "1        2      1        1\n",
       "2        4      2        1\n",
       "3        5      2        1\n",
       "4        1      1        2"
      ]
     },
     "execution_count": 26,
     "metadata": {},
     "output_type": "execute_result"
    }
   ],
   "source": [
    "rating = pd.DataFrame(data={'user_id': [1, 1, 1, 1, 2, 2, 2, 2, 2, 3, 3, 3, 3, 4, 4, 4, 4], 'item_id': [1,2,4,5,1,2,3,4,5,1,3,4,5,1,2,3,4], 'score': [5,1,2,2,1,5,2,5,5,2,3,5,4,4,3,5,3]})\n",
    "rating.head()"
   ]
  },
  {
   "cell_type": "code",
   "execution_count": 32,
   "metadata": {},
   "outputs": [
    {
     "data": {
      "text/html": [
       "<div>\n",
       "<style>\n",
       "    .dataframe thead tr:only-child th {\n",
       "        text-align: right;\n",
       "    }\n",
       "\n",
       "    .dataframe thead th {\n",
       "        text-align: left;\n",
       "    }\n",
       "\n",
       "    .dataframe tbody tr th {\n",
       "        vertical-align: top;\n",
       "    }\n",
       "</style>\n",
       "<table border=\"1\" class=\"dataframe\">\n",
       "  <thead>\n",
       "    <tr style=\"text-align: right;\">\n",
       "      <th></th>\n",
       "      <th>item_id</th>\n",
       "      <th>score</th>\n",
       "      <th>user_id</th>\n",
       "      <th>name_x</th>\n",
       "      <th>name_y</th>\n",
       "    </tr>\n",
       "  </thead>\n",
       "  <tbody>\n",
       "    <tr>\n",
       "      <th>0</th>\n",
       "      <td>1</td>\n",
       "      <td>5</td>\n",
       "      <td>1</td>\n",
       "      <td>John</td>\n",
       "      <td>The Matrix</td>\n",
       "    </tr>\n",
       "    <tr>\n",
       "      <th>1</th>\n",
       "      <td>1</td>\n",
       "      <td>1</td>\n",
       "      <td>2</td>\n",
       "      <td>Lucy</td>\n",
       "      <td>The Matrix</td>\n",
       "    </tr>\n",
       "    <tr>\n",
       "      <th>2</th>\n",
       "      <td>1</td>\n",
       "      <td>2</td>\n",
       "      <td>3</td>\n",
       "      <td>Eric</td>\n",
       "      <td>The Matrix</td>\n",
       "    </tr>\n",
       "    <tr>\n",
       "      <th>3</th>\n",
       "      <td>1</td>\n",
       "      <td>4</td>\n",
       "      <td>4</td>\n",
       "      <td>Diane</td>\n",
       "      <td>The Matrix</td>\n",
       "    </tr>\n",
       "    <tr>\n",
       "      <th>4</th>\n",
       "      <td>2</td>\n",
       "      <td>1</td>\n",
       "      <td>1</td>\n",
       "      <td>John</td>\n",
       "      <td>Titanic</td>\n",
       "    </tr>\n",
       "    <tr>\n",
       "      <th>5</th>\n",
       "      <td>2</td>\n",
       "      <td>5</td>\n",
       "      <td>2</td>\n",
       "      <td>Lucy</td>\n",
       "      <td>Titanic</td>\n",
       "    </tr>\n",
       "    <tr>\n",
       "      <th>6</th>\n",
       "      <td>2</td>\n",
       "      <td>3</td>\n",
       "      <td>4</td>\n",
       "      <td>Diane</td>\n",
       "      <td>Titanic</td>\n",
       "    </tr>\n",
       "    <tr>\n",
       "      <th>7</th>\n",
       "      <td>4</td>\n",
       "      <td>2</td>\n",
       "      <td>1</td>\n",
       "      <td>John</td>\n",
       "      <td>Forrest Gump</td>\n",
       "    </tr>\n",
       "    <tr>\n",
       "      <th>8</th>\n",
       "      <td>4</td>\n",
       "      <td>5</td>\n",
       "      <td>2</td>\n",
       "      <td>Lucy</td>\n",
       "      <td>Forrest Gump</td>\n",
       "    </tr>\n",
       "    <tr>\n",
       "      <th>9</th>\n",
       "      <td>4</td>\n",
       "      <td>5</td>\n",
       "      <td>3</td>\n",
       "      <td>Eric</td>\n",
       "      <td>Forrest Gump</td>\n",
       "    </tr>\n",
       "    <tr>\n",
       "      <th>10</th>\n",
       "      <td>4</td>\n",
       "      <td>3</td>\n",
       "      <td>4</td>\n",
       "      <td>Diane</td>\n",
       "      <td>Forrest Gump</td>\n",
       "    </tr>\n",
       "    <tr>\n",
       "      <th>11</th>\n",
       "      <td>5</td>\n",
       "      <td>2</td>\n",
       "      <td>1</td>\n",
       "      <td>John</td>\n",
       "      <td>Wall-E</td>\n",
       "    </tr>\n",
       "    <tr>\n",
       "      <th>12</th>\n",
       "      <td>5</td>\n",
       "      <td>5</td>\n",
       "      <td>2</td>\n",
       "      <td>Lucy</td>\n",
       "      <td>Wall-E</td>\n",
       "    </tr>\n",
       "    <tr>\n",
       "      <th>13</th>\n",
       "      <td>5</td>\n",
       "      <td>4</td>\n",
       "      <td>3</td>\n",
       "      <td>Eric</td>\n",
       "      <td>Wall-E</td>\n",
       "    </tr>\n",
       "    <tr>\n",
       "      <th>14</th>\n",
       "      <td>3</td>\n",
       "      <td>2</td>\n",
       "      <td>2</td>\n",
       "      <td>Lucy</td>\n",
       "      <td>Die Hard</td>\n",
       "    </tr>\n",
       "    <tr>\n",
       "      <th>15</th>\n",
       "      <td>3</td>\n",
       "      <td>3</td>\n",
       "      <td>3</td>\n",
       "      <td>Eric</td>\n",
       "      <td>Die Hard</td>\n",
       "    </tr>\n",
       "    <tr>\n",
       "      <th>16</th>\n",
       "      <td>3</td>\n",
       "      <td>5</td>\n",
       "      <td>4</td>\n",
       "      <td>Diane</td>\n",
       "      <td>Die Hard</td>\n",
       "    </tr>\n",
       "  </tbody>\n",
       "</table>\n",
       "</div>"
      ],
      "text/plain": [
       "    item_id  score  user_id name_x        name_y\n",
       "0         1      5        1   John    The Matrix\n",
       "1         1      1        2   Lucy    The Matrix\n",
       "2         1      2        3   Eric    The Matrix\n",
       "3         1      4        4  Diane    The Matrix\n",
       "4         2      1        1   John       Titanic\n",
       "5         2      5        2   Lucy       Titanic\n",
       "6         2      3        4  Diane       Titanic\n",
       "7         4      2        1   John  Forrest Gump\n",
       "8         4      5        2   Lucy  Forrest Gump\n",
       "9         4      5        3   Eric  Forrest Gump\n",
       "10        4      3        4  Diane  Forrest Gump\n",
       "11        5      2        1   John        Wall-E\n",
       "12        5      5        2   Lucy        Wall-E\n",
       "13        5      4        3   Eric        Wall-E\n",
       "14        3      2        2   Lucy      Die Hard\n",
       "15        3      3        3   Eric      Die Hard\n",
       "16        3      5        4  Diane      Die Hard"
      ]
     },
     "execution_count": 32,
     "metadata": {},
     "output_type": "execute_result"
    }
   ],
   "source": [
    "rating_x_users = pd.merge(rating, users, how='outer', on=['user_id'])\n",
    "rating_x_users_x_items = pd.merge(rating_x_users, items, how='outer', on=['item_id'])\n",
    "rating_x_users_x_items"
   ]
  },
  {
   "cell_type": "markdown",
   "metadata": {},
   "source": [
    "Pivot Table"
   ]
  },
  {
   "cell_type": "code",
   "execution_count": 35,
   "metadata": {},
   "outputs": [
    {
     "data": {
      "text/html": [
       "<div>\n",
       "<style>\n",
       "    .dataframe thead tr:only-child th {\n",
       "        text-align: right;\n",
       "    }\n",
       "\n",
       "    .dataframe thead th {\n",
       "        text-align: left;\n",
       "    }\n",
       "\n",
       "    .dataframe tbody tr th {\n",
       "        vertical-align: top;\n",
       "    }\n",
       "</style>\n",
       "<table border=\"1\" class=\"dataframe\">\n",
       "  <thead>\n",
       "    <tr style=\"text-align: right;\">\n",
       "      <th>name_y</th>\n",
       "      <th>Die Hard</th>\n",
       "      <th>Forrest Gump</th>\n",
       "      <th>The Matrix</th>\n",
       "      <th>Titanic</th>\n",
       "      <th>Wall-E</th>\n",
       "    </tr>\n",
       "    <tr>\n",
       "      <th>name_x</th>\n",
       "      <th></th>\n",
       "      <th></th>\n",
       "      <th></th>\n",
       "      <th></th>\n",
       "      <th></th>\n",
       "    </tr>\n",
       "  </thead>\n",
       "  <tbody>\n",
       "    <tr>\n",
       "      <th>Diane</th>\n",
       "      <td>5.0</td>\n",
       "      <td>3.0</td>\n",
       "      <td>4.0</td>\n",
       "      <td>3.0</td>\n",
       "      <td>NaN</td>\n",
       "    </tr>\n",
       "    <tr>\n",
       "      <th>Eric</th>\n",
       "      <td>3.0</td>\n",
       "      <td>5.0</td>\n",
       "      <td>2.0</td>\n",
       "      <td>NaN</td>\n",
       "      <td>4.0</td>\n",
       "    </tr>\n",
       "    <tr>\n",
       "      <th>John</th>\n",
       "      <td>NaN</td>\n",
       "      <td>2.0</td>\n",
       "      <td>5.0</td>\n",
       "      <td>1.0</td>\n",
       "      <td>2.0</td>\n",
       "    </tr>\n",
       "    <tr>\n",
       "      <th>Lucy</th>\n",
       "      <td>2.0</td>\n",
       "      <td>5.0</td>\n",
       "      <td>1.0</td>\n",
       "      <td>5.0</td>\n",
       "      <td>5.0</td>\n",
       "    </tr>\n",
       "  </tbody>\n",
       "</table>\n",
       "</div>"
      ],
      "text/plain": [
       "name_y  Die Hard  Forrest Gump  The Matrix  Titanic  Wall-E\n",
       "name_x                                                     \n",
       "Diane        5.0           3.0         4.0      3.0     NaN\n",
       "Eric         3.0           5.0         2.0      NaN     4.0\n",
       "John         NaN           2.0         5.0      1.0     2.0\n",
       "Lucy         2.0           5.0         1.0      5.0     5.0"
      ]
     },
     "execution_count": 35,
     "metadata": {},
     "output_type": "execute_result"
    }
   ],
   "source": [
    "pivot_table = rating_x_users_x_items.pivot(index='name_x', columns='name_y', values='score')\n",
    "pivot_table"
   ]
  },
  {
   "cell_type": "markdown",
   "metadata": {},
   "source": [
    "## 1.1 Item-based Recommendation (117)"
   ]
  },
  {
   "cell_type": "markdown",
   "metadata": {},
   "source": [
    "เมื่อ  $N_{u}(i)$ คือ score ที่ user $u$ ให้กับ item $i$\n",
    "\n",
    "และ predicted score ที่ user $u$ ให้กับ $i$ คำนวณจากค่าเฉลี่ยถ่วงน้ำหนัก(a weighted average)ที่ user $u$ เคยให้ไว้กับ item อื่นๆ (น้ำหนักมากหรือน้อยขึ้นกับความเหมือนของ item)\n",
    "\n",
    "จะได้"
   ]
  },
  {
   "cell_type": "markdown",
   "metadata": {},
   "source": [
    "$$\\hat{r}_{ui} = \\frac{\\sum_{j \\in N_{u}(i)} w_{ij}r_{uj} }{\\sum_{j \\in N_{u}(i)} |w_{ij}| }$$"
   ]
  },
  {
   "cell_type": "markdown",
   "metadata": {},
   "source": [
    "สมมติว่าจากข้อมูลเราสนใจ predict rating ของ Eric ที่มีต่อ Titanic โดยเมื่อพิจารณา**ความเหมือน**ของ item ด้วย neareast-neighbors พบว่า item ที่เหมือน Titanic มากที่สุดคือ Forrest Gump และ Wall-E โดยมีค่า similarity อยู่ที่ 0.85 และ 0.75 ตามลำดับ เมื่อ Eric ให้ Score Forrest Gump ที่ 5 และ Wall-E ที่ 4 "
   ]
  },
  {
   "cell_type": "markdown",
   "metadata": {},
   "source": [
    "จะได้ $$\\hat{r} = \\frac{0.85x5 + 0.75x4}{0.85+0.75} \\approx 4.53$$"
   ]
  },
  {
   "cell_type": "markdown",
   "metadata": {},
   "source": [
    "ทีนี้ตอนที่จะทำให้หลายๆคนพร้อมๆกัน ปัญหาอย่างนึงที่จะเจอคือ แต่ละคนมีมาตรฐานแตกต่างกัน บางคนรู้สึกดีให้ score 3 ขณะที่บางคนให้ 5 ดังนั้นเพื่อปรับ scale score ให้เหมือนๆกันก็ต้องทำ normalization กับ rating score ของแต่ละคนก่อนจะได้"
   ]
  },
  {
   "cell_type": "markdown",
   "metadata": {},
   "source": [
    "$$\\hat{r}_{ui} = h^{-1}\\Bigg(\\frac{\\sum_{j \\in N_{u}(i)} w_{ij}h(r_{uj}) }{\\sum_{j \\in N_{u}(i)} |w_{ij}| }\\Bigg)$$"
   ]
  },
  {
   "cell_type": "markdown",
   "metadata": {},
   "source": [
    "สมการข้างบนคือ prediction rating แบบ **Item-based Regression** เมื่อ data score ที่เราเก็บมาเป็น continuous แต่หากเป็น data score เป็น discrete เช่น like, unlike หรือ buy, not buy ก็จะต้อง predict score ด้วย **Item-based Classification**"
   ]
  },
  {
   "cell_type": "markdown",
   "metadata": {},
   "source": [
    "### Item-based Classification"
   ]
  },
  {
   "cell_type": "markdown",
   "metadata": {},
   "source": [
    "ในกรณีนี้ เมื่อ j คือ items ที่ user เคยให้ score ไว้แล้ว i คือ item ใหม่ที่ยังไม่มี score และเราต้องการ predict จากน้ำหนักความ similarity ระหว่าง i และ j ได้สมการที่ normalized แล้วของ Item-based Classification ดังนี้"
   ]
  },
  {
   "cell_type": "markdown",
   "metadata": {},
   "source": [
    "$$\\hat{r}_{ui} = h^{-1}\\Bigg(  \\arg\\max_{r \\in S'} \\sum_{j \\in N_{u}(i)} \\delta(h(r_{uj}) = r)w_{ij} \\Bigg)$$"
   ]
  },
  {
   "cell_type": "markdown",
   "metadata": {},
   "source": [
    "ซึ่งคือการหา r ที่ทำให้ $\\sum_{j \\in N_{u}(i)} \\delta(h(r_{uj}) = r)w_{ij}$ มีค่ามากที่สุด"
   ]
  },
  {
   "cell_type": "markdown",
   "metadata": {},
   "source": [
    "เมื่อ $\\delta(r_{vi} = r)$ is 1 if $r_{vi} = r$ ,and 0 otherwise."
   ]
  },
  {
   "cell_type": "markdown",
   "metadata": {},
   "source": [
    "## 1.2 Component of Neighborhood Methods (120-141)"
   ]
  },
  {
   "cell_type": "markdown",
   "metadata": {},
   "source": [
    "### 1.2.1 Rating Normalization (121)"
   ]
  },
  {
   "cell_type": "markdown",
   "metadata": {},
   "source": [
    "#### 1.2.1.1 Mean-centering (121)"
   ]
  },
  {
   "cell_type": "markdown",
   "metadata": {},
   "source": [
    "$$h(r_{ui}) = r_{ui} - \\bar{r}_{i}$$"
   ]
  },
  {
   "cell_type": "markdown",
   "metadata": {},
   "source": [
    "เมื่อ $\\bar{r}_{i}$ คือ ค่าเฉลี่ยของ score ที่ user $u$ ให้กับ item $i$ ต่างๆ"
   ]
  },
  {
   "cell_type": "markdown",
   "metadata": {},
   "source": [
    "สุดท้ายเมื่อนำไป predict ค่า $\\hat{r}_{ui}$ จะได้"
   ]
  },
  {
   "cell_type": "markdown",
   "metadata": {},
   "source": [
    "$$\\hat{r}_{ui} = h^{-1}\\Bigg(\\frac{\\sum_{j \\in N_{u}(i)} w_{ij}h(r_{uj}) }{\\sum_{j \\in N_{u}(i)} |w_{ij}| }\\Bigg) = \\bar{r}_i + \\frac{\\sum_{j \\in N_{u}(i)} w_{ij}(r_{uj} - \\bar{r}_{j}) }{\\sum_{j \\in N_{u}(i)} |w_{ij}| } $$"
   ]
  },
  {
   "cell_type": "markdown",
   "metadata": {},
   "source": [
    "สร้าง function หาค่า $h(r_{ui})$"
   ]
  },
  {
   "cell_type": "markdown",
   "metadata": {},
   "source": [
    "**Before**"
   ]
  },
  {
   "cell_type": "code",
   "execution_count": 38,
   "metadata": {},
   "outputs": [
    {
     "data": {
      "text/html": [
       "<div>\n",
       "<style>\n",
       "    .dataframe thead tr:only-child th {\n",
       "        text-align: right;\n",
       "    }\n",
       "\n",
       "    .dataframe thead th {\n",
       "        text-align: left;\n",
       "    }\n",
       "\n",
       "    .dataframe tbody tr th {\n",
       "        vertical-align: top;\n",
       "    }\n",
       "</style>\n",
       "<table border=\"1\" class=\"dataframe\">\n",
       "  <thead>\n",
       "    <tr style=\"text-align: right;\">\n",
       "      <th>name_y</th>\n",
       "      <th>Die Hard</th>\n",
       "      <th>Forrest Gump</th>\n",
       "      <th>The Matrix</th>\n",
       "      <th>Titanic</th>\n",
       "      <th>Wall-E</th>\n",
       "    </tr>\n",
       "    <tr>\n",
       "      <th>name_x</th>\n",
       "      <th></th>\n",
       "      <th></th>\n",
       "      <th></th>\n",
       "      <th></th>\n",
       "      <th></th>\n",
       "    </tr>\n",
       "  </thead>\n",
       "  <tbody>\n",
       "    <tr>\n",
       "      <th>Diane</th>\n",
       "      <td>5.0</td>\n",
       "      <td>3.0</td>\n",
       "      <td>4.0</td>\n",
       "      <td>3.0</td>\n",
       "      <td>NaN</td>\n",
       "    </tr>\n",
       "    <tr>\n",
       "      <th>Eric</th>\n",
       "      <td>3.0</td>\n",
       "      <td>5.0</td>\n",
       "      <td>2.0</td>\n",
       "      <td>NaN</td>\n",
       "      <td>4.0</td>\n",
       "    </tr>\n",
       "    <tr>\n",
       "      <th>John</th>\n",
       "      <td>NaN</td>\n",
       "      <td>2.0</td>\n",
       "      <td>5.0</td>\n",
       "      <td>1.0</td>\n",
       "      <td>2.0</td>\n",
       "    </tr>\n",
       "    <tr>\n",
       "      <th>Lucy</th>\n",
       "      <td>2.0</td>\n",
       "      <td>5.0</td>\n",
       "      <td>1.0</td>\n",
       "      <td>5.0</td>\n",
       "      <td>5.0</td>\n",
       "    </tr>\n",
       "  </tbody>\n",
       "</table>\n",
       "</div>"
      ],
      "text/plain": [
       "name_y  Die Hard  Forrest Gump  The Matrix  Titanic  Wall-E\n",
       "name_x                                                     \n",
       "Diane        5.0           3.0         4.0      3.0     NaN\n",
       "Eric         3.0           5.0         2.0      NaN     4.0\n",
       "John         NaN           2.0         5.0      1.0     2.0\n",
       "Lucy         2.0           5.0         1.0      5.0     5.0"
      ]
     },
     "execution_count": 38,
     "metadata": {},
     "output_type": "execute_result"
    }
   ],
   "source": [
    "pivot_table"
   ]
  },
  {
   "cell_type": "markdown",
   "metadata": {},
   "source": [
    "**After**"
   ]
  },
  {
   "cell_type": "markdown",
   "metadata": {},
   "source": [
    "ดึงมาเฉพาะค่าที่เป็นเลข"
   ]
  },
  {
   "cell_type": "code",
   "execution_count": 110,
   "metadata": {},
   "outputs": [
    {
     "data": {
      "text/plain": [
       "array([[  5.,   3.,   4.,   3.,  nan],\n",
       "       [  3.,   5.,   2.,  nan,   4.],\n",
       "       [ nan,   2.,   5.,   1.,   2.],\n",
       "       [  2.,   5.,   1.,   5.,   5.]])"
      ]
     },
     "execution_count": 110,
     "metadata": {},
     "output_type": "execute_result"
    }
   ],
   "source": [
    "item_scores = pivot_table.values\n",
    "item_scores"
   ]
  },
  {
   "cell_type": "markdown",
   "metadata": {},
   "source": [
    "สร้างฟังก์ชั่นที่หา mean ของแต่ละ array (คิดเฉพาะที่มีค่า ไม่คิด nan)"
   ]
  },
  {
   "cell_type": "code",
   "execution_count": 128,
   "metadata": {},
   "outputs": [],
   "source": [
    "import numpy as np\n",
    "\n",
    "def mean_of_array(x):\n",
    "    valid_value = x[~np.isnan(x)]\n",
    "    return np.mean(valid_value)"
   ]
  },
  {
   "cell_type": "markdown",
   "metadata": {},
   "source": [
    "user mean-centered ratings"
   ]
  },
  {
   "cell_type": "code",
   "execution_count": 143,
   "metadata": {},
   "outputs": [],
   "source": [
    "def user_based_mean_centered(pivot_score_table):\n",
    "    mean_of_each_row = np.apply_along_axis(mean_of_array , axis=1, arr=pivot_score_table)\n",
    "    user_mean_centered_rating = (pivot_score_table.transpose() - mean_of_each_row).transpose()\n",
    "    return user_mean_centered_rating"
   ]
  },
  {
   "cell_type": "code",
   "execution_count": 144,
   "metadata": {},
   "outputs": [
    {
     "data": {
      "text/plain": [
       "array([[ 1.25, -0.75,  0.25, -0.75,   nan],\n",
       "       [-0.5 ,  1.5 , -1.5 ,   nan,  0.5 ],\n",
       "       [  nan, -0.5 ,  2.5 , -1.5 , -0.5 ],\n",
       "       [-1.6 ,  1.4 , -2.6 ,  1.4 ,  1.4 ]])"
      ]
     },
     "execution_count": 144,
     "metadata": {},
     "output_type": "execute_result"
    }
   ],
   "source": [
    "user_based_mean_centered(item_scores)"
   ]
  },
  {
   "cell_type": "markdown",
   "metadata": {},
   "source": [
    "ผลถูกต้องตามเฉลย"
   ]
  },
  {
   "cell_type": "markdown",
   "metadata": {},
   "source": [
    "item mean-centered ratings"
   ]
  },
  {
   "cell_type": "code",
   "execution_count": 145,
   "metadata": {},
   "outputs": [],
   "source": [
    "def item_based_mean_centered(pivot_score_table):\n",
    "    mean_of_each_column = np.apply_along_axis(mean_of_array , axis=0, arr=pivot_score_table)\n",
    "    item_mean_centered_rating = pivot_score_table - mean_of_each_column\n",
    "    return item_mean_centered_rating"
   ]
  },
  {
   "cell_type": "code",
   "execution_count": 146,
   "metadata": {},
   "outputs": [
    {
     "data": {
      "text/plain": [
       "array([[ 1.66666667, -0.75      ,  1.        ,  0.        ,         nan],\n",
       "       [-0.33333333,  1.25      , -1.        ,         nan,  0.33333333],\n",
       "       [        nan, -1.75      ,  2.        , -2.        , -1.66666667],\n",
       "       [-1.33333333,  1.25      , -2.        ,  2.        ,  1.33333333]])"
      ]
     },
     "execution_count": 146,
     "metadata": {},
     "output_type": "execute_result"
    }
   ],
   "source": [
    "item_based_mean_centered(item_scores)"
   ]
  },
  {
   "cell_type": "markdown",
   "metadata": {},
   "source": [
    "ผลถูกต้องตามเฉลย"
   ]
  },
  {
   "cell_type": "markdown",
   "metadata": {},
   "source": [
    "#### 1.2.1.2 Z-score normalization (122)"
   ]
  },
  {
   "cell_type": "markdown",
   "metadata": {},
   "source": [
    "สำหรับ user-based พิจารณาข้อมูลของแต่ละ user $u$ จะได้ว่า\n",
    "$$h(r_{ui}) = \\frac{r_{ui}-\\bar{r}_{u}}{\\sigma_u}$$"
   ]
  },
  {
   "cell_type": "markdown",
   "metadata": {},
   "source": [
    "สร้าง function หา std ของแต่ละ array"
   ]
  },
  {
   "cell_type": "code",
   "execution_count": 147,
   "metadata": {},
   "outputs": [],
   "source": [
    "import numpy as np\n",
    "\n",
    "def std_of_array(x):\n",
    "    valid_value = x[~np.isnan(x)]\n",
    "    return np.std(valid_value)"
   ]
  },
  {
   "cell_type": "code",
   "execution_count": 150,
   "metadata": {},
   "outputs": [
    {
     "data": {
      "text/plain": [
       "0.5"
      ]
     },
     "execution_count": 150,
     "metadata": {},
     "output_type": "execute_result"
    }
   ],
   "source": [
    "std_of_array(np.array([1,2]))"
   ]
  },
  {
   "cell_type": "markdown",
   "metadata": {},
   "source": [
    "สร้างฟังก์ชั่นหา Z-score normalization สำหรับ Model ทั้งแบบ user-based และ item-based"
   ]
  },
  {
   "cell_type": "code",
   "execution_count": 173,
   "metadata": {},
   "outputs": [],
   "source": [
    "def user_based_z_score_normalize(pivot_score_table):\n",
    "    mean_of_each_row = np.apply_along_axis(mean_of_array , axis=1, arr=pivot_score_table)\n",
    "    std_of_each_row = np.apply_along_axis(std_of_array , axis=1, arr=pivot_score_table)\n",
    "    z_score_normalized = ((pivot_score_table.transpose() - mean_of_each_row)/std_of_each_row).transpose()\n",
    "    return z_score_normalized"
   ]
  },
  {
   "cell_type": "code",
   "execution_count": 180,
   "metadata": {},
   "outputs": [
    {
     "data": {
      "text/plain": [
       "array([[ 1.50755672, -0.90453403,  0.30151134, -0.90453403,         nan],\n",
       "       [-0.4472136 ,  1.34164079, -1.34164079,         nan,  0.4472136 ],\n",
       "       [        nan, -0.33333333,  1.66666667, -1.        , -0.33333333],\n",
       "       [-0.91766294,  0.80295507, -1.49120227,  0.80295507,  0.80295507]])"
      ]
     },
     "execution_count": 180,
     "metadata": {},
     "output_type": "execute_result"
    }
   ],
   "source": [
    "user_based_z_score_normalize(item_scores)"
   ]
  },
  {
   "cell_type": "code",
   "execution_count": 177,
   "metadata": {},
   "outputs": [],
   "source": [
    "def item_based_z_score_normalize(pivot_score_table):\n",
    "    mean_of_each_column = np.apply_along_axis(mean_of_array , axis=0, arr=pivot_score_table)\n",
    "    std_of_each_column = np.apply_along_axis(std_of_array , axis=0, arr=pivot_score_table)\n",
    "    z_score_normalized = (pivot_score_table - mean_of_each_column)/std_of_each_column\n",
    "    return z_score_normalized"
   ]
  },
  {
   "cell_type": "code",
   "execution_count": 179,
   "metadata": {},
   "outputs": [
    {
     "data": {
      "text/plain": [
       "array([[ 1.33630621, -0.57735027,  0.63245553,  0.        ,         nan],\n",
       "       [-0.26726124,  0.96225045, -0.63245553,         nan,  0.26726124],\n",
       "       [        nan, -1.34715063,  1.26491106, -1.22474487, -1.33630621],\n",
       "       [-1.06904497,  0.96225045, -1.26491106,  1.22474487,  1.06904497]])"
      ]
     },
     "execution_count": 179,
     "metadata": {},
     "output_type": "execute_result"
    }
   ],
   "source": [
    "item_based_z_score_normalize(item_scores)"
   ]
  },
  {
   "cell_type": "markdown",
   "metadata": {},
   "source": [
    "โดยทั่วไปแล้วการทำ Normalize แบบ Z-score ให้ผลที่ดีกว่า "
   ]
  },
  {
   "cell_type": "markdown",
   "metadata": {},
   "source": [
    "### 1.2.2 Similarity Weight Computation'"
   ]
  },
  {
   "cell_type": "markdown",
   "metadata": {},
   "source": [
    "#### Cosine Vector (CV) similarity\n",
    "$$\\text{cos}(\\textbf{x}_a,\\textbf{x}_b) = \\frac{\\textbf{x}_a^T\\textbf{x}_b}{||\\textbf{x}_a||||\\textbf{x}_b||}$$"
   ]
  },
  {
   "cell_type": "markdown",
   "metadata": {},
   "source": [
    "หรือ อีกรูปหนึ่งคือ  $$CV(u,v) = \\text{cos}(\\textbf{x}_u,\\textbf{x}_v) = \\frac{\\sum_{i \\in I_{uv}}r_{ui}r_{vi}}{\\sqrt{\\sum_{i \\in I_{u}}r_{ui}^2 \\sum_{j \\in I_{v}}r_{vj}^2}}$$"
   ]
  },
  {
   "cell_type": "markdown",
   "metadata": {},
   "source": [
    "#### Pearson Correlation (PC) similarity**"
   ]
  },
  {
   "cell_type": "markdown",
   "metadata": {},
   "source": [
    "- user-based เอาข้อมูลการโหวตให้ item ของ user $u$ และ $v$ มาเทียบกัน\n",
    "$$PC(u,v) = \\frac{\\sum_{i \\in I_{uv}} (r_{ui}-\\bar{r}_u) (r_{vi}-\\bar{r}_v)}{\\sqrt{\\sum_{i \\in I_{uv}}(r_{ui}-\\bar{r}_u)^2 \\sum_{i \\in I_{uv}}(r_{vi}-\\bar{r}_v)^2}}$$\n",
    "\n",
    "- item-based เอาข้อมูลการโหวตของ item $i$ และ $j$ จากคนทั้งเว็บมาเทียบกัน\n",
    "$$PC(i,j) = \\frac{\\sum_{u \\in U_{ij}} (r_{ui}-\\bar{r}_i) (r_{uj}-\\bar{r}_j)}{\\sqrt{\\sum_{u \\in U_{ij}}(r_{ui}-\\bar{r}_i)^2 \\sum_{u \\in U_{ij}}(r_{uj}-\\bar{r}_j)^2}}$$\n"
   ]
  },
  {
   "cell_type": "markdown",
   "metadata": {},
   "source": [
    "โดยที่ \n",
    "- $I_u$ คือข้อมูลการโหวตให้ item ทั้งหมดของ user $u$\n",
    "- $I_v$ คือข้อมูลการโหวตให้ item ทั้งหมดของ user $v$\n",
    "- $I_{uv}$ คือข้อมูลการโหวตที่ตรงกันของ user $u$ และ user $v$ จะได้ $I_{uv} = (I_u \\cap I_v)$ && is not NaN\n",
    "- $U_i$ คือข้อมูลการโหวตให้ item $i$ จากคนในเซต U ทั้งหมด\n",
    "- $U_j$ คือข้อมูลการโหวตให้ item $j$ จากคนในเซต U ทั้งหมด\n",
    "- $U_{ij}$ คือข้อมูลการโหวตที่ตรงกันของ item $i$ และ item $j$ จะได้ $U_{ij} = (U_i \\cap U_j)$ && is not NaN"
   ]
  },
  {
   "cell_type": "markdown",
   "metadata": {},
   "source": [
    "ในที่นี้จะเลือกหา similarity ด้วย Pearson เหตุผลคือ เพราะมีความสมเหตุสมผลมากกว่า โดยที่ pearson พิจารณาความเหมือน-ต่างที่ score ที่มีการโหวตให้ทั้งสอง item เท่านั้น แต่ CV จะพิจารณาข้อมูลที่**ไม่มีการโหวตเหมือนกัน ของข้อมูล**ด้วย ซึ่งเมื่อพิจารณาตามนิยมของ RSs แล้วพบว่าแบบ Pearson สอดคล้องมากกว่า"
   ]
  },
  {
   "cell_type": "code",
   "execution_count": 199,
   "metadata": {},
   "outputs": [
    {
     "data": {
      "text/html": [
       "<div>\n",
       "<style>\n",
       "    .dataframe thead tr:only-child th {\n",
       "        text-align: right;\n",
       "    }\n",
       "\n",
       "    .dataframe thead th {\n",
       "        text-align: left;\n",
       "    }\n",
       "\n",
       "    .dataframe tbody tr th {\n",
       "        vertical-align: top;\n",
       "    }\n",
       "</style>\n",
       "<table border=\"1\" class=\"dataframe\">\n",
       "  <thead>\n",
       "    <tr style=\"text-align: right;\">\n",
       "      <th>name_y</th>\n",
       "      <th>Die Hard</th>\n",
       "      <th>Forrest Gump</th>\n",
       "      <th>The Matrix</th>\n",
       "      <th>Titanic</th>\n",
       "      <th>Wall-E</th>\n",
       "    </tr>\n",
       "    <tr>\n",
       "      <th>name_x</th>\n",
       "      <th></th>\n",
       "      <th></th>\n",
       "      <th></th>\n",
       "      <th></th>\n",
       "      <th></th>\n",
       "    </tr>\n",
       "  </thead>\n",
       "  <tbody>\n",
       "    <tr>\n",
       "      <th>Diane</th>\n",
       "      <td>5.0</td>\n",
       "      <td>3.0</td>\n",
       "      <td>4.0</td>\n",
       "      <td>3.0</td>\n",
       "      <td>NaN</td>\n",
       "    </tr>\n",
       "    <tr>\n",
       "      <th>Eric</th>\n",
       "      <td>3.0</td>\n",
       "      <td>5.0</td>\n",
       "      <td>2.0</td>\n",
       "      <td>NaN</td>\n",
       "      <td>4.0</td>\n",
       "    </tr>\n",
       "    <tr>\n",
       "      <th>John</th>\n",
       "      <td>NaN</td>\n",
       "      <td>2.0</td>\n",
       "      <td>5.0</td>\n",
       "      <td>1.0</td>\n",
       "      <td>2.0</td>\n",
       "    </tr>\n",
       "    <tr>\n",
       "      <th>Lucy</th>\n",
       "      <td>2.0</td>\n",
       "      <td>5.0</td>\n",
       "      <td>1.0</td>\n",
       "      <td>5.0</td>\n",
       "      <td>5.0</td>\n",
       "    </tr>\n",
       "  </tbody>\n",
       "</table>\n",
       "</div>"
      ],
      "text/plain": [
       "name_y  Die Hard  Forrest Gump  The Matrix  Titanic  Wall-E\n",
       "name_x                                                     \n",
       "Diane        5.0           3.0         4.0      3.0     NaN\n",
       "Eric         3.0           5.0         2.0      NaN     4.0\n",
       "John         NaN           2.0         5.0      1.0     2.0\n",
       "Lucy         2.0           5.0         1.0      5.0     5.0"
      ]
     },
     "execution_count": 199,
     "metadata": {},
     "output_type": "execute_result"
    }
   ],
   "source": [
    "pivot_table"
   ]
  },
  {
   "cell_type": "code",
   "execution_count": 307,
   "metadata": {},
   "outputs": [
    {
     "data": {
      "text/html": [
       "<div>\n",
       "<style>\n",
       "    .dataframe thead tr:only-child th {\n",
       "        text-align: right;\n",
       "    }\n",
       "\n",
       "    .dataframe thead th {\n",
       "        text-align: left;\n",
       "    }\n",
       "\n",
       "    .dataframe tbody tr th {\n",
       "        vertical-align: top;\n",
       "    }\n",
       "</style>\n",
       "<table border=\"1\" class=\"dataframe\">\n",
       "  <thead>\n",
       "    <tr style=\"text-align: right;\">\n",
       "      <th>name_y</th>\n",
       "      <th>Die Hard</th>\n",
       "      <th>Forrest Gump</th>\n",
       "      <th>The Matrix</th>\n",
       "      <th>Titanic</th>\n",
       "      <th>Wall-E</th>\n",
       "    </tr>\n",
       "    <tr>\n",
       "      <th>name_x</th>\n",
       "      <th></th>\n",
       "      <th></th>\n",
       "      <th></th>\n",
       "      <th></th>\n",
       "      <th></th>\n",
       "    </tr>\n",
       "  </thead>\n",
       "  <tbody>\n",
       "    <tr>\n",
       "      <th>Diane</th>\n",
       "      <td>1.336306</td>\n",
       "      <td>-0.577350</td>\n",
       "      <td>0.632456</td>\n",
       "      <td>0.000000</td>\n",
       "      <td>NaN</td>\n",
       "    </tr>\n",
       "    <tr>\n",
       "      <th>Eric</th>\n",
       "      <td>-0.267261</td>\n",
       "      <td>0.962250</td>\n",
       "      <td>-0.632456</td>\n",
       "      <td>NaN</td>\n",
       "      <td>0.267261</td>\n",
       "    </tr>\n",
       "    <tr>\n",
       "      <th>John</th>\n",
       "      <td>NaN</td>\n",
       "      <td>-1.347151</td>\n",
       "      <td>1.264911</td>\n",
       "      <td>-1.224745</td>\n",
       "      <td>-1.336306</td>\n",
       "    </tr>\n",
       "    <tr>\n",
       "      <th>Lucy</th>\n",
       "      <td>-1.069045</td>\n",
       "      <td>0.962250</td>\n",
       "      <td>-1.264911</td>\n",
       "      <td>1.224745</td>\n",
       "      <td>1.069045</td>\n",
       "    </tr>\n",
       "  </tbody>\n",
       "</table>\n",
       "</div>"
      ],
      "text/plain": [
       "name_y  Die Hard  Forrest Gump  The Matrix   Titanic    Wall-E\n",
       "name_x                                                        \n",
       "Diane   1.336306     -0.577350    0.632456  0.000000       NaN\n",
       "Eric   -0.267261      0.962250   -0.632456       NaN  0.267261\n",
       "John         NaN     -1.347151    1.264911 -1.224745 -1.336306\n",
       "Lucy   -1.069045      0.962250   -1.264911  1.224745  1.069045"
      ]
     },
     "execution_count": 307,
     "metadata": {},
     "output_type": "execute_result"
    }
   ],
   "source": [
    "z_score_pivot_table = item_based_z_score_normalize(pivot_table[:])\n",
    "z_score_pivot_table"
   ]
  },
  {
   "cell_type": "markdown",
   "metadata": {},
   "source": [
    "ทดลองใช้ฟังก์ชั่นของ Pandas "
   ]
  },
  {
   "cell_type": "code",
   "execution_count": 308,
   "metadata": {},
   "outputs": [
    {
     "data": {
      "text/html": [
       "<div>\n",
       "<style>\n",
       "    .dataframe thead tr:only-child th {\n",
       "        text-align: right;\n",
       "    }\n",
       "\n",
       "    .dataframe thead th {\n",
       "        text-align: left;\n",
       "    }\n",
       "\n",
       "    .dataframe tbody tr th {\n",
       "        vertical-align: top;\n",
       "    }\n",
       "</style>\n",
       "<table border=\"1\" class=\"dataframe\">\n",
       "  <thead>\n",
       "    <tr style=\"text-align: right;\">\n",
       "      <th>name_y</th>\n",
       "      <th>Die Hard</th>\n",
       "      <th>Forrest Gump</th>\n",
       "      <th>The Matrix</th>\n",
       "      <th>Titanic</th>\n",
       "      <th>Wall-E</th>\n",
       "    </tr>\n",
       "    <tr>\n",
       "      <th>name_y</th>\n",
       "      <th></th>\n",
       "      <th></th>\n",
       "      <th></th>\n",
       "      <th></th>\n",
       "      <th></th>\n",
       "    </tr>\n",
       "  </thead>\n",
       "  <tbody>\n",
       "    <tr>\n",
       "      <th>Die Hard</th>\n",
       "      <td>1.000000</td>\n",
       "      <td>-0.944911</td>\n",
       "      <td>1.000000</td>\n",
       "      <td>-1.000000</td>\n",
       "      <td>-1.000000</td>\n",
       "    </tr>\n",
       "    <tr>\n",
       "      <th>Forrest Gump</th>\n",
       "      <td>-0.944911</td>\n",
       "      <td>1.000000</td>\n",
       "      <td>-0.973729</td>\n",
       "      <td>0.981981</td>\n",
       "      <td>0.944911</td>\n",
       "    </tr>\n",
       "    <tr>\n",
       "      <th>The Matrix</th>\n",
       "      <td>1.000000</td>\n",
       "      <td>-0.973729</td>\n",
       "      <td>1.000000</td>\n",
       "      <td>-0.960769</td>\n",
       "      <td>-0.995871</td>\n",
       "    </tr>\n",
       "    <tr>\n",
       "      <th>Titanic</th>\n",
       "      <td>-1.000000</td>\n",
       "      <td>0.981981</td>\n",
       "      <td>-0.960769</td>\n",
       "      <td>1.000000</td>\n",
       "      <td>1.000000</td>\n",
       "    </tr>\n",
       "    <tr>\n",
       "      <th>Wall-E</th>\n",
       "      <td>-1.000000</td>\n",
       "      <td>0.944911</td>\n",
       "      <td>-0.995871</td>\n",
       "      <td>1.000000</td>\n",
       "      <td>1.000000</td>\n",
       "    </tr>\n",
       "  </tbody>\n",
       "</table>\n",
       "</div>"
      ],
      "text/plain": [
       "name_y        Die Hard  Forrest Gump  The Matrix   Titanic    Wall-E\n",
       "name_y                                                              \n",
       "Die Hard      1.000000     -0.944911    1.000000 -1.000000 -1.000000\n",
       "Forrest Gump -0.944911      1.000000   -0.973729  0.981981  0.944911\n",
       "The Matrix    1.000000     -0.973729    1.000000 -0.960769 -0.995871\n",
       "Titanic      -1.000000      0.981981   -0.960769  1.000000  1.000000\n",
       "Wall-E       -1.000000      0.944911   -0.995871  1.000000  1.000000"
      ]
     },
     "execution_count": 308,
     "metadata": {},
     "output_type": "execute_result"
    }
   ],
   "source": [
    "z_score_pivot_table.corr(method='pearson', min_periods=1)"
   ]
  },
  {
   "cell_type": "markdown",
   "metadata": {},
   "source": [
    "แต่ได้ผลออกมาไม่ตรง จึงสร้างฟังก์ชั่นเองดังนี้"
   ]
  },
  {
   "cell_type": "markdown",
   "metadata": {},
   "source": [
    "จาก item-based method เอาข้อมูลการโหวตของ item $i$ และ $j$ จากคนทั้งเว็บมาเทียบกัน\n",
    "$$PC(i,j) = \\frac{\\sum_{u \\in U_{ij}} (r_{ui}-\\bar{r}_i) (r_{uj}-\\bar{r}_j)}{\\sqrt{\\sum_{u \\in U_{ij}}(r_{ui}-\\bar{r}_i)^2 \\sum_{u \\in U_{ij}}(r_{uj}-\\bar{r}_j)^2}}$$\n"
   ]
  },
  {
   "cell_type": "code",
   "execution_count": 309,
   "metadata": {},
   "outputs": [],
   "source": [
    "def pearson_correlation_between_item(pivot_table_df):\n",
    "    number_of_item = pivot_table_df.shape[1]\n",
    "    pc = np.zeros([number_of_item, number_of_item])\n",
    "    for i in range(number_of_item):\n",
    "        rui = pivot_table_df.values[:,i]\n",
    "        ri = mean_of_array(rui)\n",
    "        deltai = rui - ri\n",
    "        for j in range(number_of_item):\n",
    "            ruj = pivot_table_df.values[:,j]\n",
    "            rj = mean_of_array(ruj)\n",
    "            deltaj = ruj-rj\n",
    "\n",
    "            ij_set = ~np.isnan(deltai*deltaj)\n",
    "            upper = sum((deltai*deltaj)[ij_set])\n",
    "            lower_left = sum((deltai*deltai)[ij_set])\n",
    "            lower_right = sum((deltaj*deltaj)[ij_set])\n",
    "            pc[i,j] = upper/np.sqrt(lower_left*lower_right)\n",
    "            \n",
    "    column_name_list = list(pivot_table_df)\n",
    "    pc_df = pd.DataFrame(pc, index=column_name_list, columns=column_name_list)\n",
    "    return pc_df"
   ]
  },
  {
   "cell_type": "code",
   "execution_count": 310,
   "metadata": {},
   "outputs": [
    {
     "data": {
      "text/html": [
       "<div>\n",
       "<style>\n",
       "    .dataframe thead tr:only-child th {\n",
       "        text-align: right;\n",
       "    }\n",
       "\n",
       "    .dataframe thead th {\n",
       "        text-align: left;\n",
       "    }\n",
       "\n",
       "    .dataframe tbody tr th {\n",
       "        vertical-align: top;\n",
       "    }\n",
       "</style>\n",
       "<table border=\"1\" class=\"dataframe\">\n",
       "  <thead>\n",
       "    <tr style=\"text-align: right;\">\n",
       "      <th></th>\n",
       "      <th>Die Hard</th>\n",
       "      <th>Forrest Gump</th>\n",
       "      <th>The Matrix</th>\n",
       "      <th>Titanic</th>\n",
       "      <th>Wall-E</th>\n",
       "    </tr>\n",
       "  </thead>\n",
       "  <tbody>\n",
       "    <tr>\n",
       "      <th>Die Hard</th>\n",
       "      <td>1.000000</td>\n",
       "      <td>-0.803543</td>\n",
       "      <td>0.881917</td>\n",
       "      <td>-0.624695</td>\n",
       "      <td>-1.000000</td>\n",
       "    </tr>\n",
       "    <tr>\n",
       "      <th>Forrest Gump</th>\n",
       "      <td>-0.803543</td>\n",
       "      <td>1.000000</td>\n",
       "      <td>-0.973729</td>\n",
       "      <td>0.931381</td>\n",
       "      <td>0.930484</td>\n",
       "    </tr>\n",
       "    <tr>\n",
       "      <th>The Matrix</th>\n",
       "      <td>0.881917</td>\n",
       "      <td>-0.973729</td>\n",
       "      <td>1.000000</td>\n",
       "      <td>-0.942809</td>\n",
       "      <td>-0.977255</td>\n",
       "    </tr>\n",
       "    <tr>\n",
       "      <th>Titanic</th>\n",
       "      <td>-0.624695</td>\n",
       "      <td>0.931381</td>\n",
       "      <td>-0.942809</td>\n",
       "      <td>1.000000</td>\n",
       "      <td>0.993884</td>\n",
       "    </tr>\n",
       "    <tr>\n",
       "      <th>Wall-E</th>\n",
       "      <td>-1.000000</td>\n",
       "      <td>0.930484</td>\n",
       "      <td>-0.977255</td>\n",
       "      <td>0.993884</td>\n",
       "      <td>1.000000</td>\n",
       "    </tr>\n",
       "  </tbody>\n",
       "</table>\n",
       "</div>"
      ],
      "text/plain": [
       "              Die Hard  Forrest Gump  The Matrix   Titanic    Wall-E\n",
       "Die Hard      1.000000     -0.803543    0.881917 -0.624695 -1.000000\n",
       "Forrest Gump -0.803543      1.000000   -0.973729  0.931381  0.930484\n",
       "The Matrix    0.881917     -0.973729    1.000000 -0.942809 -0.977255\n",
       "Titanic      -0.624695      0.931381   -0.942809  1.000000  0.993884\n",
       "Wall-E       -1.000000      0.930484   -0.977255  0.993884  1.000000"
      ]
     },
     "execution_count": 310,
     "metadata": {},
     "output_type": "execute_result"
    }
   ],
   "source": [
    "pearson_correlation_between_item(z_score_pivot_table)"
   ]
  },
  {
   "cell_type": "markdown",
   "metadata": {},
   "source": [
    "### 1.2.3 Neighborhood Selection"
   ]
  },
  {
   "cell_type": "code",
   "execution_count": null,
   "metadata": {},
   "outputs": [],
   "source": []
  },
  {
   "cell_type": "markdown",
   "metadata": {},
   "source": [
    "### 1.2.4 Advanced Techniques"
   ]
  },
  {
   "cell_type": "code",
   "execution_count": null,
   "metadata": {},
   "outputs": [],
   "source": []
  },
  {
   "cell_type": "markdown",
   "metadata": {},
   "source": [
    "- Bayesian Clustering \n",
    "- Latent Semantic Analysis\n",
    "- Latent Dirichlet Allocation\n",
    "- Maximum Entropy\n",
    "- Boltzmann Machines\n",
    "- SVMs\n",
    "- Singular Value Decomposition "
   ]
  },
  {
   "cell_type": "code",
   "execution_count": null,
   "metadata": {},
   "outputs": [],
   "source": []
  }
 ],
 "metadata": {
  "kernelspec": {
   "display_name": "Python 3",
   "language": "python",
   "name": "python3"
  },
  "language_info": {
   "codemirror_mode": {
    "name": "ipython",
    "version": 3
   },
   "file_extension": ".py",
   "mimetype": "text/x-python",
   "name": "python",
   "nbconvert_exporter": "python",
   "pygments_lexer": "ipython3",
   "version": "3.6.3"
  }
 },
 "nbformat": 4,
 "nbformat_minor": 2
}
