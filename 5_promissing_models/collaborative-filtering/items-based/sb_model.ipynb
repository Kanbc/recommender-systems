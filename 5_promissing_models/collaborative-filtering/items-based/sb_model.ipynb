{
 "cells": [
  {
   "cell_type": "markdown",
   "metadata": {},
   "source": [
    "# Data Transformation"
   ]
  },
  {
   "cell_type": "code",
   "execution_count": 1,
   "metadata": {},
   "outputs": [
    {
     "data": {
      "text/html": [
       "<div>\n",
       "<style>\n",
       "    .dataframe thead tr:only-child th {\n",
       "        text-align: right;\n",
       "    }\n",
       "\n",
       "    .dataframe thead th {\n",
       "        text-align: left;\n",
       "    }\n",
       "\n",
       "    .dataframe tbody tr th {\n",
       "        vertical-align: top;\n",
       "    }\n",
       "</style>\n",
       "<table border=\"1\" class=\"dataframe\">\n",
       "  <thead>\n",
       "    <tr style=\"text-align: right;\">\n",
       "      <th></th>\n",
       "      <th>ORDER_ID</th>\n",
       "      <th>CUSTOMER_ID</th>\n",
       "      <th>BPCODE</th>\n",
       "      <th>CREATE_DATE</th>\n",
       "      <th>UPDATE_DATE</th>\n",
       "      <th>STATUS</th>\n",
       "    </tr>\n",
       "  </thead>\n",
       "  <tbody>\n",
       "    <tr>\n",
       "      <th>0</th>\n",
       "      <td>2024</td>\n",
       "      <td>22</td>\n",
       "      <td>1100700373</td>\n",
       "      <td>2015-10-05 21:05:45</td>\n",
       "      <td>2015-10-05 21:05:45</td>\n",
       "      <td>PENDING</td>\n",
       "    </tr>\n",
       "    <tr>\n",
       "      <th>1</th>\n",
       "      <td>2241</td>\n",
       "      <td>4122</td>\n",
       "      <td>1100702444</td>\n",
       "      <td>2015-10-15 18:51:08</td>\n",
       "      <td>2015-10-15 19:03:44</td>\n",
       "      <td>PENDING</td>\n",
       "    </tr>\n",
       "    <tr>\n",
       "      <th>2</th>\n",
       "      <td>2321</td>\n",
       "      <td>4223</td>\n",
       "      <td>1100702550</td>\n",
       "      <td>2015-10-16 15:36:42</td>\n",
       "      <td>2015-10-16 15:42:23</td>\n",
       "      <td>PAID_SUCCESS</td>\n",
       "    </tr>\n",
       "    <tr>\n",
       "      <th>3</th>\n",
       "      <td>2341</td>\n",
       "      <td>4122</td>\n",
       "      <td>1100702444</td>\n",
       "      <td>2015-10-16 23:45:30</td>\n",
       "      <td>2015-10-16 23:54:33</td>\n",
       "      <td>PENDING</td>\n",
       "    </tr>\n",
       "    <tr>\n",
       "      <th>4</th>\n",
       "      <td>2422</td>\n",
       "      <td>4527</td>\n",
       "      <td>1100702884</td>\n",
       "      <td>2015-10-17 18:35:16</td>\n",
       "      <td>2015-10-17 18:45:13</td>\n",
       "      <td>PENDING</td>\n",
       "    </tr>\n",
       "  </tbody>\n",
       "</table>\n",
       "</div>"
      ],
      "text/plain": [
       "   ORDER_ID  CUSTOMER_ID      BPCODE         CREATE_DATE         UPDATE_DATE  \\\n",
       "0      2024           22  1100700373 2015-10-05 21:05:45 2015-10-05 21:05:45   \n",
       "1      2241         4122  1100702444 2015-10-15 18:51:08 2015-10-15 19:03:44   \n",
       "2      2321         4223  1100702550 2015-10-16 15:36:42 2015-10-16 15:42:23   \n",
       "3      2341         4122  1100702444 2015-10-16 23:45:30 2015-10-16 23:54:33   \n",
       "4      2422         4527  1100702884 2015-10-17 18:35:16 2015-10-17 18:45:13   \n",
       "\n",
       "         STATUS  \n",
       "0       PENDING  \n",
       "1       PENDING  \n",
       "2  PAID_SUCCESS  \n",
       "3       PENDING  \n",
       "4       PENDING  "
      ]
     },
     "execution_count": 1,
     "metadata": {},
     "output_type": "execute_result"
    }
   ],
   "source": [
    "import pandas as pd\n",
    "\n",
    "order = pd.read_csv('../../../2_data/explored/order.csv')\n",
    "order['CREATE_DATE'] = pd.to_datetime(order['CREATE_DATE'])\n",
    "order['UPDATE_DATE'] = pd.to_datetime(order['UPDATE_DATE'])\n",
    "order.head()"
   ]
  },
  {
   "cell_type": "code",
   "execution_count": 2,
   "metadata": {},
   "outputs": [
    {
     "data": {
      "text/plain": [
       "11916"
      ]
     },
     "execution_count": 2,
     "metadata": {},
     "output_type": "execute_result"
    }
   ],
   "source": [
    "len(order)"
   ]
  },
  {
   "cell_type": "markdown",
   "metadata": {},
   "source": [
    "เลือกเอาเฉพาะที่ CREATE_DATE < Test Time "
   ]
  },
  {
   "cell_type": "code",
   "execution_count": 3,
   "metadata": {},
   "outputs": [
    {
     "name": "stdout",
     "output_type": "stream",
     "text": [
      "9536\n"
     ]
    },
    {
     "data": {
      "text/html": [
       "<div>\n",
       "<style>\n",
       "    .dataframe thead tr:only-child th {\n",
       "        text-align: right;\n",
       "    }\n",
       "\n",
       "    .dataframe thead th {\n",
       "        text-align: left;\n",
       "    }\n",
       "\n",
       "    .dataframe tbody tr th {\n",
       "        vertical-align: top;\n",
       "    }\n",
       "</style>\n",
       "<table border=\"1\" class=\"dataframe\">\n",
       "  <thead>\n",
       "    <tr style=\"text-align: right;\">\n",
       "      <th></th>\n",
       "      <th>ORDER_ID</th>\n",
       "      <th>CUSTOMER_ID</th>\n",
       "      <th>BPCODE</th>\n",
       "      <th>CREATE_DATE</th>\n",
       "      <th>UPDATE_DATE</th>\n",
       "      <th>STATUS</th>\n",
       "    </tr>\n",
       "  </thead>\n",
       "  <tbody>\n",
       "    <tr>\n",
       "      <th>0</th>\n",
       "      <td>2024</td>\n",
       "      <td>22</td>\n",
       "      <td>1100700373</td>\n",
       "      <td>2015-10-05 21:05:45</td>\n",
       "      <td>2015-10-05 21:05:45</td>\n",
       "      <td>PENDING</td>\n",
       "    </tr>\n",
       "    <tr>\n",
       "      <th>1</th>\n",
       "      <td>2241</td>\n",
       "      <td>4122</td>\n",
       "      <td>1100702444</td>\n",
       "      <td>2015-10-15 18:51:08</td>\n",
       "      <td>2015-10-15 19:03:44</td>\n",
       "      <td>PENDING</td>\n",
       "    </tr>\n",
       "    <tr>\n",
       "      <th>2</th>\n",
       "      <td>2321</td>\n",
       "      <td>4223</td>\n",
       "      <td>1100702550</td>\n",
       "      <td>2015-10-16 15:36:42</td>\n",
       "      <td>2015-10-16 15:42:23</td>\n",
       "      <td>PAID_SUCCESS</td>\n",
       "    </tr>\n",
       "    <tr>\n",
       "      <th>3</th>\n",
       "      <td>2341</td>\n",
       "      <td>4122</td>\n",
       "      <td>1100702444</td>\n",
       "      <td>2015-10-16 23:45:30</td>\n",
       "      <td>2015-10-16 23:54:33</td>\n",
       "      <td>PENDING</td>\n",
       "    </tr>\n",
       "    <tr>\n",
       "      <th>4</th>\n",
       "      <td>2422</td>\n",
       "      <td>4527</td>\n",
       "      <td>1100702884</td>\n",
       "      <td>2015-10-17 18:35:16</td>\n",
       "      <td>2015-10-17 18:45:13</td>\n",
       "      <td>PENDING</td>\n",
       "    </tr>\n",
       "  </tbody>\n",
       "</table>\n",
       "</div>"
      ],
      "text/plain": [
       "   ORDER_ID  CUSTOMER_ID      BPCODE         CREATE_DATE         UPDATE_DATE  \\\n",
       "0      2024           22  1100700373 2015-10-05 21:05:45 2015-10-05 21:05:45   \n",
       "1      2241         4122  1100702444 2015-10-15 18:51:08 2015-10-15 19:03:44   \n",
       "2      2321         4223  1100702550 2015-10-16 15:36:42 2015-10-16 15:42:23   \n",
       "3      2341         4122  1100702444 2015-10-16 23:45:30 2015-10-16 23:54:33   \n",
       "4      2422         4527  1100702884 2015-10-17 18:35:16 2015-10-17 18:45:13   \n",
       "\n",
       "         STATUS  \n",
       "0       PENDING  \n",
       "1       PENDING  \n",
       "2  PAID_SUCCESS  \n",
       "3       PENDING  \n",
       "4       PENDING  "
      ]
     },
     "execution_count": 3,
     "metadata": {},
     "output_type": "execute_result"
    }
   ],
   "source": [
    "import datetime\n",
    "\n",
    "test_time = datetime.date.today() - datetime.timedelta(days=180)\n",
    "new_order = order[order['CREATE_DATE'] < test_time]\n",
    "print(len(new_order))\n",
    "new_order.head()"
   ]
  },
  {
   "cell_type": "markdown",
   "metadata": {},
   "source": [
    "จะเห็นว่าจำนวน order ลดน้อยลงตามเวลา"
   ]
  },
  {
   "cell_type": "code",
   "execution_count": 4,
   "metadata": {},
   "outputs": [
    {
     "data": {
      "text/html": [
       "<div>\n",
       "<style>\n",
       "    .dataframe thead tr:only-child th {\n",
       "        text-align: right;\n",
       "    }\n",
       "\n",
       "    .dataframe thead th {\n",
       "        text-align: left;\n",
       "    }\n",
       "\n",
       "    .dataframe tbody tr th {\n",
       "        vertical-align: top;\n",
       "    }\n",
       "</style>\n",
       "<table border=\"1\" class=\"dataframe\">\n",
       "  <thead>\n",
       "    <tr style=\"text-align: right;\">\n",
       "      <th></th>\n",
       "      <th>ORDER_ID</th>\n",
       "      <th>ORDER_ITEM_ID</th>\n",
       "      <th>MATNR</th>\n",
       "      <th>QUANTITY</th>\n",
       "      <th>TOTAL_PRICE</th>\n",
       "    </tr>\n",
       "  </thead>\n",
       "  <tbody>\n",
       "    <tr>\n",
       "      <th>0</th>\n",
       "      <td>2024</td>\n",
       "      <td>2024</td>\n",
       "      <td>19106665</td>\n",
       "      <td>1</td>\n",
       "      <td>2700.0</td>\n",
       "    </tr>\n",
       "    <tr>\n",
       "      <th>1</th>\n",
       "      <td>2024</td>\n",
       "      <td>2025</td>\n",
       "      <td>19049635</td>\n",
       "      <td>1</td>\n",
       "      <td>36900.0</td>\n",
       "    </tr>\n",
       "    <tr>\n",
       "      <th>2</th>\n",
       "      <td>2241</td>\n",
       "      <td>2221</td>\n",
       "      <td>19086648</td>\n",
       "      <td>1</td>\n",
       "      <td>6900.0</td>\n",
       "    </tr>\n",
       "    <tr>\n",
       "      <th>3</th>\n",
       "      <td>2321</td>\n",
       "      <td>2281</td>\n",
       "      <td>19110489</td>\n",
       "      <td>1</td>\n",
       "      <td>7900.0</td>\n",
       "    </tr>\n",
       "    <tr>\n",
       "      <th>4</th>\n",
       "      <td>2341</td>\n",
       "      <td>2301</td>\n",
       "      <td>19086648</td>\n",
       "      <td>1</td>\n",
       "      <td>6900.0</td>\n",
       "    </tr>\n",
       "  </tbody>\n",
       "</table>\n",
       "</div>"
      ],
      "text/plain": [
       "   ORDER_ID  ORDER_ITEM_ID     MATNR  QUANTITY  TOTAL_PRICE\n",
       "0      2024           2024  19106665         1       2700.0\n",
       "1      2024           2025  19049635         1      36900.0\n",
       "2      2241           2221  19086648         1       6900.0\n",
       "3      2321           2281  19110489         1       7900.0\n",
       "4      2341           2301  19086648         1       6900.0"
      ]
     },
     "execution_count": 4,
     "metadata": {},
     "output_type": "execute_result"
    }
   ],
   "source": [
    "item = pd.read_csv('../../../2_data/explored/order_item.csv')\n",
    "item.head()"
   ]
  },
  {
   "cell_type": "markdown",
   "metadata": {},
   "source": [
    "Merge ตาราง"
   ]
  },
  {
   "cell_type": "code",
   "execution_count": 5,
   "metadata": {},
   "outputs": [
    {
     "data": {
      "text/html": [
       "<div>\n",
       "<style>\n",
       "    .dataframe thead tr:only-child th {\n",
       "        text-align: right;\n",
       "    }\n",
       "\n",
       "    .dataframe thead th {\n",
       "        text-align: left;\n",
       "    }\n",
       "\n",
       "    .dataframe tbody tr th {\n",
       "        vertical-align: top;\n",
       "    }\n",
       "</style>\n",
       "<table border=\"1\" class=\"dataframe\">\n",
       "  <thead>\n",
       "    <tr style=\"text-align: right;\">\n",
       "      <th></th>\n",
       "      <th>ORDER_ID</th>\n",
       "      <th>CUSTOMER_ID</th>\n",
       "      <th>BPCODE</th>\n",
       "      <th>CREATE_DATE</th>\n",
       "      <th>UPDATE_DATE</th>\n",
       "      <th>STATUS</th>\n",
       "      <th>ORDER_ITEM_ID</th>\n",
       "      <th>MATNR</th>\n",
       "      <th>QUANTITY</th>\n",
       "      <th>TOTAL_PRICE</th>\n",
       "    </tr>\n",
       "  </thead>\n",
       "  <tbody>\n",
       "    <tr>\n",
       "      <th>0</th>\n",
       "      <td>2024</td>\n",
       "      <td>22</td>\n",
       "      <td>1100700373</td>\n",
       "      <td>2015-10-05 21:05:45</td>\n",
       "      <td>2015-10-05 21:05:45</td>\n",
       "      <td>PENDING</td>\n",
       "      <td>2024</td>\n",
       "      <td>19106665</td>\n",
       "      <td>1</td>\n",
       "      <td>2700.0</td>\n",
       "    </tr>\n",
       "    <tr>\n",
       "      <th>1</th>\n",
       "      <td>2024</td>\n",
       "      <td>22</td>\n",
       "      <td>1100700373</td>\n",
       "      <td>2015-10-05 21:05:45</td>\n",
       "      <td>2015-10-05 21:05:45</td>\n",
       "      <td>PENDING</td>\n",
       "      <td>2025</td>\n",
       "      <td>19049635</td>\n",
       "      <td>1</td>\n",
       "      <td>36900.0</td>\n",
       "    </tr>\n",
       "    <tr>\n",
       "      <th>2</th>\n",
       "      <td>2241</td>\n",
       "      <td>4122</td>\n",
       "      <td>1100702444</td>\n",
       "      <td>2015-10-15 18:51:08</td>\n",
       "      <td>2015-10-15 19:03:44</td>\n",
       "      <td>PENDING</td>\n",
       "      <td>2221</td>\n",
       "      <td>19086648</td>\n",
       "      <td>1</td>\n",
       "      <td>6900.0</td>\n",
       "    </tr>\n",
       "    <tr>\n",
       "      <th>3</th>\n",
       "      <td>2321</td>\n",
       "      <td>4223</td>\n",
       "      <td>1100702550</td>\n",
       "      <td>2015-10-16 15:36:42</td>\n",
       "      <td>2015-10-16 15:42:23</td>\n",
       "      <td>PAID_SUCCESS</td>\n",
       "      <td>2281</td>\n",
       "      <td>19110489</td>\n",
       "      <td>1</td>\n",
       "      <td>7900.0</td>\n",
       "    </tr>\n",
       "    <tr>\n",
       "      <th>4</th>\n",
       "      <td>2341</td>\n",
       "      <td>4122</td>\n",
       "      <td>1100702444</td>\n",
       "      <td>2015-10-16 23:45:30</td>\n",
       "      <td>2015-10-16 23:54:33</td>\n",
       "      <td>PENDING</td>\n",
       "      <td>2301</td>\n",
       "      <td>19086648</td>\n",
       "      <td>1</td>\n",
       "      <td>6900.0</td>\n",
       "    </tr>\n",
       "  </tbody>\n",
       "</table>\n",
       "</div>"
      ],
      "text/plain": [
       "   ORDER_ID  CUSTOMER_ID      BPCODE         CREATE_DATE         UPDATE_DATE  \\\n",
       "0      2024           22  1100700373 2015-10-05 21:05:45 2015-10-05 21:05:45   \n",
       "1      2024           22  1100700373 2015-10-05 21:05:45 2015-10-05 21:05:45   \n",
       "2      2241         4122  1100702444 2015-10-15 18:51:08 2015-10-15 19:03:44   \n",
       "3      2321         4223  1100702550 2015-10-16 15:36:42 2015-10-16 15:42:23   \n",
       "4      2341         4122  1100702444 2015-10-16 23:45:30 2015-10-16 23:54:33   \n",
       "\n",
       "         STATUS  ORDER_ITEM_ID     MATNR  QUANTITY  TOTAL_PRICE  \n",
       "0       PENDING           2024  19106665         1       2700.0  \n",
       "1       PENDING           2025  19049635         1      36900.0  \n",
       "2       PENDING           2221  19086648         1       6900.0  \n",
       "3  PAID_SUCCESS           2281  19110489         1       7900.0  \n",
       "4       PENDING           2301  19086648         1       6900.0  "
      ]
     },
     "execution_count": 5,
     "metadata": {},
     "output_type": "execute_result"
    }
   ],
   "source": [
    "order_item = pd.merge(new_order, item, on='ORDER_ID')\n",
    "order_item.head()"
   ]
  },
  {
   "cell_type": "code",
   "execution_count": 6,
   "metadata": {},
   "outputs": [
    {
     "data": {
      "text/html": [
       "<div>\n",
       "<style>\n",
       "    .dataframe thead tr:only-child th {\n",
       "        text-align: right;\n",
       "    }\n",
       "\n",
       "    .dataframe thead th {\n",
       "        text-align: left;\n",
       "    }\n",
       "\n",
       "    .dataframe tbody tr th {\n",
       "        vertical-align: top;\n",
       "    }\n",
       "</style>\n",
       "<table border=\"1\" class=\"dataframe\">\n",
       "  <thead>\n",
       "    <tr style=\"text-align: right;\">\n",
       "      <th></th>\n",
       "      <th>CUSTOMER_ID</th>\n",
       "      <th>MATNR</th>\n",
       "      <th>QUANTITY</th>\n",
       "    </tr>\n",
       "  </thead>\n",
       "  <tbody>\n",
       "    <tr>\n",
       "      <th>0</th>\n",
       "      <td>22</td>\n",
       "      <td>19106665</td>\n",
       "      <td>1</td>\n",
       "    </tr>\n",
       "    <tr>\n",
       "      <th>1</th>\n",
       "      <td>22</td>\n",
       "      <td>19049635</td>\n",
       "      <td>1</td>\n",
       "    </tr>\n",
       "    <tr>\n",
       "      <th>2</th>\n",
       "      <td>4122</td>\n",
       "      <td>19086648</td>\n",
       "      <td>1</td>\n",
       "    </tr>\n",
       "    <tr>\n",
       "      <th>3</th>\n",
       "      <td>4223</td>\n",
       "      <td>19110489</td>\n",
       "      <td>1</td>\n",
       "    </tr>\n",
       "    <tr>\n",
       "      <th>4</th>\n",
       "      <td>4122</td>\n",
       "      <td>19086648</td>\n",
       "      <td>1</td>\n",
       "    </tr>\n",
       "  </tbody>\n",
       "</table>\n",
       "</div>"
      ],
      "text/plain": [
       "   CUSTOMER_ID     MATNR  QUANTITY\n",
       "0           22  19106665         1\n",
       "1           22  19049635         1\n",
       "2         4122  19086648         1\n",
       "3         4223  19110489         1\n",
       "4         4122  19086648         1"
      ]
     },
     "execution_count": 6,
     "metadata": {},
     "output_type": "execute_result"
    }
   ],
   "source": [
    "new_order_item = order_item.copy()\n",
    "del new_order_item['ORDER_ID']\n",
    "del new_order_item['BPCODE']\n",
    "del new_order_item['CREATE_DATE']\n",
    "del new_order_item['UPDATE_DATE']\n",
    "del new_order_item['STATUS']\n",
    "del new_order_item['ORDER_ITEM_ID']\n",
    "del new_order_item['TOTAL_PRICE']\n",
    "new_order_item.head()"
   ]
  },
  {
   "cell_type": "code",
   "execution_count": 7,
   "metadata": {},
   "outputs": [
    {
     "data": {
      "text/plain": [
       "CUSTOMER_ID    int64\n",
       "MATNR          int64\n",
       "QUANTITY       int64\n",
       "dtype: object"
      ]
     },
     "execution_count": 7,
     "metadata": {},
     "output_type": "execute_result"
    }
   ],
   "source": [
    "new_order_item.dtypes"
   ]
  },
  {
   "cell_type": "markdown",
   "metadata": {},
   "source": [
    "Group CUSTOMER_ID กับ MATNR (ถ้าคนๆนึงสั่งสินค้านึงหลายๆครั้งควรนับ QUANTITY เป็นจำนวนรวม)"
   ]
  },
  {
   "cell_type": "code",
   "execution_count": 8,
   "metadata": {},
   "outputs": [
    {
     "data": {
      "text/html": [
       "<div>\n",
       "<style>\n",
       "    .dataframe thead tr:only-child th {\n",
       "        text-align: right;\n",
       "    }\n",
       "\n",
       "    .dataframe thead th {\n",
       "        text-align: left;\n",
       "    }\n",
       "\n",
       "    .dataframe tbody tr th {\n",
       "        vertical-align: top;\n",
       "    }\n",
       "</style>\n",
       "<table border=\"1\" class=\"dataframe\">\n",
       "  <thead>\n",
       "    <tr style=\"text-align: right;\">\n",
       "      <th></th>\n",
       "      <th>CUSTOMER_ID</th>\n",
       "      <th>MATNR</th>\n",
       "      <th>QUANTITY</th>\n",
       "    </tr>\n",
       "  </thead>\n",
       "  <tbody>\n",
       "    <tr>\n",
       "      <th>0</th>\n",
       "      <td>21</td>\n",
       "      <td>19037281</td>\n",
       "      <td>1</td>\n",
       "    </tr>\n",
       "    <tr>\n",
       "      <th>1</th>\n",
       "      <td>21</td>\n",
       "      <td>19047928</td>\n",
       "      <td>1</td>\n",
       "    </tr>\n",
       "    <tr>\n",
       "      <th>2</th>\n",
       "      <td>21</td>\n",
       "      <td>19110082</td>\n",
       "      <td>1</td>\n",
       "    </tr>\n",
       "    <tr>\n",
       "      <th>3</th>\n",
       "      <td>21</td>\n",
       "      <td>19112932</td>\n",
       "      <td>1</td>\n",
       "    </tr>\n",
       "    <tr>\n",
       "      <th>4</th>\n",
       "      <td>21</td>\n",
       "      <td>25017251</td>\n",
       "      <td>2</td>\n",
       "    </tr>\n",
       "  </tbody>\n",
       "</table>\n",
       "</div>"
      ],
      "text/plain": [
       "   CUSTOMER_ID     MATNR  QUANTITY\n",
       "0           21  19037281         1\n",
       "1           21  19047928         1\n",
       "2           21  19110082         1\n",
       "3           21  19112932         1\n",
       "4           21  25017251         2"
      ]
     },
     "execution_count": 8,
     "metadata": {},
     "output_type": "execute_result"
    }
   ],
   "source": [
    "grouped = new_order_item.groupby(['CUSTOMER_ID','MATNR']).sum().reset_index()\n",
    "grouped.head()"
   ]
  },
  {
   "cell_type": "code",
   "execution_count": 28,
   "metadata": {},
   "outputs": [
    {
     "data": {
      "text/plain": [
       "CUSTOMER_ID    int64\n",
       "MATNR          int64\n",
       "QUANTITY       int64\n",
       "dtype: object"
      ]
     },
     "execution_count": 28,
     "metadata": {},
     "output_type": "execute_result"
    }
   ],
   "source": [
    "grouped.dtypes"
   ]
  },
  {
   "cell_type": "markdown",
   "metadata": {},
   "source": [
    "แปลงที่ QUANTITY > 1 เป็น 1 เท่านั้น"
   ]
  },
  {
   "cell_type": "code",
   "execution_count": 10,
   "metadata": {},
   "outputs": [
    {
     "data": {
      "text/html": [
       "<div>\n",
       "<style>\n",
       "    .dataframe thead tr:only-child th {\n",
       "        text-align: right;\n",
       "    }\n",
       "\n",
       "    .dataframe thead th {\n",
       "        text-align: left;\n",
       "    }\n",
       "\n",
       "    .dataframe tbody tr th {\n",
       "        vertical-align: top;\n",
       "    }\n",
       "</style>\n",
       "<table border=\"1\" class=\"dataframe\">\n",
       "  <thead>\n",
       "    <tr style=\"text-align: right;\">\n",
       "      <th></th>\n",
       "      <th>CUSTOMER_ID</th>\n",
       "      <th>MATNR</th>\n",
       "      <th>QUANTITY</th>\n",
       "    </tr>\n",
       "  </thead>\n",
       "  <tbody>\n",
       "    <tr>\n",
       "      <th>0</th>\n",
       "      <td>21</td>\n",
       "      <td>19037281</td>\n",
       "      <td>1</td>\n",
       "    </tr>\n",
       "    <tr>\n",
       "      <th>1</th>\n",
       "      <td>21</td>\n",
       "      <td>19047928</td>\n",
       "      <td>1</td>\n",
       "    </tr>\n",
       "    <tr>\n",
       "      <th>2</th>\n",
       "      <td>21</td>\n",
       "      <td>19110082</td>\n",
       "      <td>1</td>\n",
       "    </tr>\n",
       "    <tr>\n",
       "      <th>3</th>\n",
       "      <td>21</td>\n",
       "      <td>19112932</td>\n",
       "      <td>1</td>\n",
       "    </tr>\n",
       "    <tr>\n",
       "      <th>4</th>\n",
       "      <td>21</td>\n",
       "      <td>25017251</td>\n",
       "      <td>1</td>\n",
       "    </tr>\n",
       "  </tbody>\n",
       "</table>\n",
       "</div>"
      ],
      "text/plain": [
       "   CUSTOMER_ID     MATNR  QUANTITY\n",
       "0           21  19037281         1\n",
       "1           21  19047928         1\n",
       "2           21  19110082         1\n",
       "3           21  19112932         1\n",
       "4           21  25017251         1"
      ]
     },
     "execution_count": 10,
     "metadata": {},
     "output_type": "execute_result"
    }
   ],
   "source": [
    "grouped['QUANTITY'] = 1\n",
    "grouped.head()"
   ]
  },
  {
   "cell_type": "markdown",
   "metadata": {},
   "source": [
    "เตรียมสำหรับ pivot table"
   ]
  },
  {
   "cell_type": "code",
   "execution_count": 11,
   "metadata": {},
   "outputs": [
    {
     "name": "stdout",
     "output_type": "stream",
     "text": [
      "(5406, 3174)\n"
     ]
    },
    {
     "data": {
      "text/html": [
       "<div>\n",
       "<style>\n",
       "    .dataframe thead tr:only-child th {\n",
       "        text-align: right;\n",
       "    }\n",
       "\n",
       "    .dataframe thead th {\n",
       "        text-align: left;\n",
       "    }\n",
       "\n",
       "    .dataframe tbody tr th {\n",
       "        vertical-align: top;\n",
       "    }\n",
       "</style>\n",
       "<table border=\"1\" class=\"dataframe\">\n",
       "  <thead>\n",
       "    <tr style=\"text-align: right;\">\n",
       "      <th>MATNR</th>\n",
       "      <th>19000158</th>\n",
       "      <th>19000346</th>\n",
       "      <th>19000900</th>\n",
       "      <th>19005144</th>\n",
       "      <th>19008811</th>\n",
       "      <th>19008833</th>\n",
       "      <th>19009152</th>\n",
       "      <th>19009245</th>\n",
       "      <th>19011555</th>\n",
       "      <th>19012447</th>\n",
       "      <th>...</th>\n",
       "      <th>59015246</th>\n",
       "      <th>59015248</th>\n",
       "      <th>59015249</th>\n",
       "      <th>59015387</th>\n",
       "      <th>59015388</th>\n",
       "      <th>59015389</th>\n",
       "      <th>59015390</th>\n",
       "      <th>59015391</th>\n",
       "      <th>59015400</th>\n",
       "      <th>59015402</th>\n",
       "    </tr>\n",
       "    <tr>\n",
       "      <th>CUSTOMER_ID</th>\n",
       "      <th></th>\n",
       "      <th></th>\n",
       "      <th></th>\n",
       "      <th></th>\n",
       "      <th></th>\n",
       "      <th></th>\n",
       "      <th></th>\n",
       "      <th></th>\n",
       "      <th></th>\n",
       "      <th></th>\n",
       "      <th></th>\n",
       "      <th></th>\n",
       "      <th></th>\n",
       "      <th></th>\n",
       "      <th></th>\n",
       "      <th></th>\n",
       "      <th></th>\n",
       "      <th></th>\n",
       "      <th></th>\n",
       "      <th></th>\n",
       "      <th></th>\n",
       "    </tr>\n",
       "  </thead>\n",
       "  <tbody>\n",
       "    <tr>\n",
       "      <th>21</th>\n",
       "      <td>NaN</td>\n",
       "      <td>NaN</td>\n",
       "      <td>NaN</td>\n",
       "      <td>NaN</td>\n",
       "      <td>NaN</td>\n",
       "      <td>NaN</td>\n",
       "      <td>NaN</td>\n",
       "      <td>NaN</td>\n",
       "      <td>NaN</td>\n",
       "      <td>NaN</td>\n",
       "      <td>...</td>\n",
       "      <td>NaN</td>\n",
       "      <td>NaN</td>\n",
       "      <td>NaN</td>\n",
       "      <td>NaN</td>\n",
       "      <td>NaN</td>\n",
       "      <td>NaN</td>\n",
       "      <td>NaN</td>\n",
       "      <td>NaN</td>\n",
       "      <td>NaN</td>\n",
       "      <td>NaN</td>\n",
       "    </tr>\n",
       "    <tr>\n",
       "      <th>22</th>\n",
       "      <td>NaN</td>\n",
       "      <td>NaN</td>\n",
       "      <td>NaN</td>\n",
       "      <td>NaN</td>\n",
       "      <td>NaN</td>\n",
       "      <td>NaN</td>\n",
       "      <td>NaN</td>\n",
       "      <td>NaN</td>\n",
       "      <td>NaN</td>\n",
       "      <td>NaN</td>\n",
       "      <td>...</td>\n",
       "      <td>NaN</td>\n",
       "      <td>NaN</td>\n",
       "      <td>NaN</td>\n",
       "      <td>NaN</td>\n",
       "      <td>NaN</td>\n",
       "      <td>NaN</td>\n",
       "      <td>NaN</td>\n",
       "      <td>NaN</td>\n",
       "      <td>NaN</td>\n",
       "      <td>NaN</td>\n",
       "    </tr>\n",
       "    <tr>\n",
       "      <th>1042</th>\n",
       "      <td>NaN</td>\n",
       "      <td>NaN</td>\n",
       "      <td>NaN</td>\n",
       "      <td>NaN</td>\n",
       "      <td>NaN</td>\n",
       "      <td>NaN</td>\n",
       "      <td>NaN</td>\n",
       "      <td>NaN</td>\n",
       "      <td>NaN</td>\n",
       "      <td>NaN</td>\n",
       "      <td>...</td>\n",
       "      <td>NaN</td>\n",
       "      <td>NaN</td>\n",
       "      <td>NaN</td>\n",
       "      <td>NaN</td>\n",
       "      <td>NaN</td>\n",
       "      <td>NaN</td>\n",
       "      <td>NaN</td>\n",
       "      <td>NaN</td>\n",
       "      <td>NaN</td>\n",
       "      <td>1.0</td>\n",
       "    </tr>\n",
       "    <tr>\n",
       "      <th>2082</th>\n",
       "      <td>NaN</td>\n",
       "      <td>NaN</td>\n",
       "      <td>NaN</td>\n",
       "      <td>NaN</td>\n",
       "      <td>NaN</td>\n",
       "      <td>NaN</td>\n",
       "      <td>NaN</td>\n",
       "      <td>NaN</td>\n",
       "      <td>NaN</td>\n",
       "      <td>NaN</td>\n",
       "      <td>...</td>\n",
       "      <td>NaN</td>\n",
       "      <td>NaN</td>\n",
       "      <td>NaN</td>\n",
       "      <td>NaN</td>\n",
       "      <td>NaN</td>\n",
       "      <td>NaN</td>\n",
       "      <td>NaN</td>\n",
       "      <td>NaN</td>\n",
       "      <td>NaN</td>\n",
       "      <td>1.0</td>\n",
       "    </tr>\n",
       "    <tr>\n",
       "      <th>2085</th>\n",
       "      <td>NaN</td>\n",
       "      <td>NaN</td>\n",
       "      <td>NaN</td>\n",
       "      <td>NaN</td>\n",
       "      <td>NaN</td>\n",
       "      <td>NaN</td>\n",
       "      <td>NaN</td>\n",
       "      <td>NaN</td>\n",
       "      <td>NaN</td>\n",
       "      <td>NaN</td>\n",
       "      <td>...</td>\n",
       "      <td>NaN</td>\n",
       "      <td>NaN</td>\n",
       "      <td>NaN</td>\n",
       "      <td>NaN</td>\n",
       "      <td>NaN</td>\n",
       "      <td>NaN</td>\n",
       "      <td>NaN</td>\n",
       "      <td>NaN</td>\n",
       "      <td>NaN</td>\n",
       "      <td>NaN</td>\n",
       "    </tr>\n",
       "  </tbody>\n",
       "</table>\n",
       "<p>5 rows × 3174 columns</p>\n",
       "</div>"
      ],
      "text/plain": [
       "MATNR        19000158  19000346  19000900  19005144  19008811  19008833  \\\n",
       "CUSTOMER_ID                                                               \n",
       "21                NaN       NaN       NaN       NaN       NaN       NaN   \n",
       "22                NaN       NaN       NaN       NaN       NaN       NaN   \n",
       "1042              NaN       NaN       NaN       NaN       NaN       NaN   \n",
       "2082              NaN       NaN       NaN       NaN       NaN       NaN   \n",
       "2085              NaN       NaN       NaN       NaN       NaN       NaN   \n",
       "\n",
       "MATNR        19009152  19009245  19011555  19012447    ...     59015246  \\\n",
       "CUSTOMER_ID                                            ...                \n",
       "21                NaN       NaN       NaN       NaN    ...          NaN   \n",
       "22                NaN       NaN       NaN       NaN    ...          NaN   \n",
       "1042              NaN       NaN       NaN       NaN    ...          NaN   \n",
       "2082              NaN       NaN       NaN       NaN    ...          NaN   \n",
       "2085              NaN       NaN       NaN       NaN    ...          NaN   \n",
       "\n",
       "MATNR        59015248  59015249  59015387  59015388  59015389  59015390  \\\n",
       "CUSTOMER_ID                                                               \n",
       "21                NaN       NaN       NaN       NaN       NaN       NaN   \n",
       "22                NaN       NaN       NaN       NaN       NaN       NaN   \n",
       "1042              NaN       NaN       NaN       NaN       NaN       NaN   \n",
       "2082              NaN       NaN       NaN       NaN       NaN       NaN   \n",
       "2085              NaN       NaN       NaN       NaN       NaN       NaN   \n",
       "\n",
       "MATNR        59015391  59015400  59015402  \n",
       "CUSTOMER_ID                                \n",
       "21                NaN       NaN       NaN  \n",
       "22                NaN       NaN       NaN  \n",
       "1042              NaN       NaN       1.0  \n",
       "2082              NaN       NaN       1.0  \n",
       "2085              NaN       NaN       NaN  \n",
       "\n",
       "[5 rows x 3174 columns]"
      ]
     },
     "execution_count": 11,
     "metadata": {},
     "output_type": "execute_result"
    }
   ],
   "source": [
    "pivot_table = grouped.pivot(index='CUSTOMER_ID', columns='MATNR', values='QUANTITY')\n",
    "print(pivot_table.shape)\n",
    "pivot_table.head()"
   ]
  },
  {
   "cell_type": "markdown",
   "metadata": {},
   "source": [
    "# Create Model"
   ]
  },
  {
   "cell_type": "markdown",
   "metadata": {},
   "source": [
    "ฟังก์ชั่นที่จำเป็น"
   ]
  },
  {
   "cell_type": "markdown",
   "metadata": {},
   "source": [
    "กรณีนี้ action ของ user ต่อ item มีแค่ ซื้อ(1) และไม่ซื้อ(NaN) ซึ่งทำให้ค่าของ score คือ 1,NaN เวลาหา SD จากข้อมูลที่มีเท่านั้น [1,1,1,1,...,1] จะได้ 0 ซึ่งทำให้ไม่สามารถ predict ค่า Score ได้ ดังนั้นการทำ Normalize ในข้อนี้**ไม่จำเป็น**\n",
    "\n",
    "*Note : Normalization มีประโยชน์มากในกรณีที่ข้อมูลไม่ค่อย sparse (ว่าง) แล้วมีค่าหลากหลาย*"
   ]
  },
  {
   "cell_type": "markdown",
   "metadata": {},
   "source": [
    "อีกทั้งส่วน Accounting for sinificance พอคิดแบบ CV ด้วยข้อมูลที่เป็น 0,1 แล้วให้ผลเหมือนกัน ดังนั้นไม่ต้องพิจารณาเพิ่มจะได้"
   ]
  },
  {
   "cell_type": "code",
   "execution_count": 12,
   "metadata": {},
   "outputs": [],
   "source": [
    "import numpy as np\n",
    "\n",
    "def mean_of_array(x):\n",
    "    valid_value = x[~np.isnan(x)]\n",
    "    return np.mean(valid_value)\n",
    "\n",
    "def std_of_array(x):\n",
    "    valid_value = x[~np.isnan(x)]\n",
    "    return np.std(valid_value)"
   ]
  },
  {
   "cell_type": "code",
   "execution_count": 50,
   "metadata": {},
   "outputs": [],
   "source": [
    "from sklearn.metrics.pairwise import cosine_similarity\n",
    "\n",
    "def cosine_similarity_between_item(pivot_table_df):\n",
    "    cv = pivot_table_df.copy().values\n",
    "\n",
    "    # filter NaN value to 0   \n",
    "    cv[np.isnan(cv)] = 0\n",
    "\n",
    "    cv = cosine_similarity(cv.T)        \n",
    "    column_name_list = list(pivot_table_df)\n",
    "    cv_df = pd.DataFrame(cv, index=column_name_list, columns=column_name_list)\n",
    "    return cv_df"
   ]
  },
  {
   "cell_type": "markdown",
   "metadata": {},
   "source": [
    "check %NaN"
   ]
  },
  {
   "cell_type": "code",
   "execution_count": 40,
   "metadata": {},
   "outputs": [
    {
     "name": "stdout",
     "output_type": "stream",
     "text": [
      "99.9351580463\n"
     ]
    }
   ],
   "source": [
    "all_box = pivot_table.shape[0]*pivot_table.shape[1]\n",
    "nan_value = sum(sum(~(pivot_table.values==1)))\n",
    "percent_nan = nan_value*100/all_box\n",
    "print(percent_nan)"
   ]
  },
  {
   "cell_type": "markdown",
   "metadata": {},
   "source": [
    "หาค่า Similarity ระหว่าง item แต่ละชิ้นจากข้อมูลการซื้อของ user"
   ]
  },
  {
   "cell_type": "code",
   "execution_count": 151,
   "metadata": {},
   "outputs": [
    {
     "data": {
      "text/plain": [
       "(3174, 3174)"
      ]
     },
     "execution_count": 151,
     "metadata": {},
     "output_type": "execute_result"
    }
   ],
   "source": [
    "similarity_weight = cosine_similarity_between_item(pivot_table)\n",
    "similarity_weight.shape"
   ]
  },
  {
   "cell_type": "markdown",
   "metadata": {},
   "source": [
    "ตรวจสอบค่า Unique"
   ]
  },
  {
   "cell_type": "code",
   "execution_count": 108,
   "metadata": {},
   "outputs": [
    {
     "data": {
      "text/plain": [
       "array([ 0.        ,  0.01445183,  0.01464583,  0.01506188,  0.01791436,\n",
       "        0.01838658,  0.01911798,  0.01967224,  0.01967604,  0.01993631,\n",
       "        0.02023612,  0.02026102,  0.02050662,  0.0208696 ,  0.0209427 ,\n",
       "        0.02099803,  0.02158664,  0.02160679,  0.02160679,  0.02167775])"
      ]
     },
     "execution_count": 108,
     "metadata": {},
     "output_type": "execute_result"
    }
   ],
   "source": [
    "np.unique(similarity_weight.values)[0:20]"
   ]
  },
  {
   "cell_type": "markdown",
   "metadata": {},
   "source": [
    "check %Zero"
   ]
  },
  {
   "cell_type": "code",
   "execution_count": 65,
   "metadata": {},
   "outputs": [],
   "source": [
    "def notZeroPercent(matrix):\n",
    "    all_value = matrix.shape[0]*matrix.shape[1]\n",
    "    zero_value = sum(sum(~(matrix.values==0)))\n",
    "    return zero_value*100/all_value"
   ]
  },
  {
   "cell_type": "code",
   "execution_count": 70,
   "metadata": {},
   "outputs": [
    {
     "data": {
      "text/plain": [
       "0.45722392358517872"
      ]
     },
     "execution_count": 70,
     "metadata": {},
     "output_type": "execute_result"
    }
   ],
   "source": [
    "notZeroPercent(similarity_weight)"
   ]
  },
  {
   "cell_type": "markdown",
   "metadata": {},
   "source": [
    "กรองความสัมพันธ์จิ๊บจ้อยออกไป"
   ]
  },
  {
   "cell_type": "code",
   "execution_count": 67,
   "metadata": {},
   "outputs": [],
   "source": [
    "def prefiltering_of_neighbors(old_similar_table, thershold):\n",
    "    new_similar_table = old_similar_table.copy()\n",
    "    # Negative filtering & Thershold filtering\n",
    "    new_similar_table[new_similar_table < thershold] = 0\n",
    "    return new_similar_table"
   ]
  },
  {
   "cell_type": "code",
   "execution_count": 130,
   "metadata": {},
   "outputs": [
    {
     "data": {
      "text/plain": [
       "0.37829021162414056"
      ]
     },
     "execution_count": 130,
     "metadata": {},
     "output_type": "execute_result"
    }
   ],
   "source": [
    "notZeroPercent(prefiltering_of_neighbors(similarity_weight, 0.1))"
   ]
  },
  {
   "cell_type": "code",
   "execution_count": 75,
   "metadata": {},
   "outputs": [],
   "source": [
    "prefiltering_similarity_weight = prefiltering_of_neighbors(similarity_weight, 0.1)"
   ]
  },
  {
   "cell_type": "markdown",
   "metadata": {},
   "source": [
    "จากความสัมพันธ์ที่มี เอามา predict ว่าเค้าจะซื้อ(1) หรือไม่ซื้อ(0) แบบ item-based classification"
   ]
  },
  {
   "cell_type": "code",
   "execution_count": 99,
   "metadata": {},
   "outputs": [],
   "source": [
    "def cs_classification_predicted_score(pivot_table,weight,output_set):\n",
    "    # initial variable\n",
    "    score_table = pivot_table.copy()\n",
    "    number_of_item = score_table.shape[1]\n",
    "    \n",
    "    # get NaN index\n",
    "    nan_index = np.argwhere(np.isnan(score_table).values)\n",
    "    \n",
    "    # for loop to predict each NaN and fill value to it       \n",
    "    for nan_pos in nan_index:\n",
    "        r_score = np.array([])\n",
    "        u,i = nan_pos[0],nan_pos[1]\n",
    "        ru = score_table.values[u,:]\n",
    "        wi = weight.values[i]\n",
    "        wi[i] = 0\n",
    "        \n",
    "        for r in output_set:\n",
    "            r_array,delta_r = np.array([r]*number_of_item),np.array([0]*number_of_item)\n",
    "            delta_r[r_array == ru]  = 1\n",
    "            vir = sum(wi*delta_r)\n",
    "            r_score = np.append(r_score, vir)\n",
    "        \n",
    "        score_table.values[u][i] = output_set[np.argmax(r_score)]\n",
    "        \n",
    "    return score_table"
   ]
  },
  {
   "cell_type": "markdown",
   "metadata": {},
   "source": [
    "ทดสอบกับข้อมูลชุดเล็กๆก่อน"
   ]
  },
  {
   "cell_type": "code",
   "execution_count": 132,
   "metadata": {},
   "outputs": [
    {
     "data": {
      "text/html": [
       "<div>\n",
       "<style>\n",
       "    .dataframe thead tr:only-child th {\n",
       "        text-align: right;\n",
       "    }\n",
       "\n",
       "    .dataframe thead th {\n",
       "        text-align: left;\n",
       "    }\n",
       "\n",
       "    .dataframe tbody tr th {\n",
       "        vertical-align: top;\n",
       "    }\n",
       "</style>\n",
       "<table border=\"1\" class=\"dataframe\">\n",
       "  <thead>\n",
       "    <tr style=\"text-align: right;\">\n",
       "      <th>MATNR</th>\n",
       "      <th>19023492</th>\n",
       "      <th>19026283</th>\n",
       "      <th>19026309</th>\n",
       "      <th>19037281</th>\n",
       "      <th>19040788</th>\n",
       "      <th>19042767</th>\n",
       "      <th>19042776</th>\n",
       "      <th>19047928</th>\n",
       "      <th>19049635</th>\n",
       "      <th>19050212</th>\n",
       "      <th>...</th>\n",
       "      <th>59011045</th>\n",
       "      <th>59011110</th>\n",
       "      <th>59011117</th>\n",
       "      <th>59011144</th>\n",
       "      <th>59011149</th>\n",
       "      <th>59011308</th>\n",
       "      <th>59011411</th>\n",
       "      <th>59011482</th>\n",
       "      <th>59011537</th>\n",
       "      <th>59015402</th>\n",
       "    </tr>\n",
       "    <tr>\n",
       "      <th>CUSTOMER_ID</th>\n",
       "      <th></th>\n",
       "      <th></th>\n",
       "      <th></th>\n",
       "      <th></th>\n",
       "      <th></th>\n",
       "      <th></th>\n",
       "      <th></th>\n",
       "      <th></th>\n",
       "      <th></th>\n",
       "      <th></th>\n",
       "      <th></th>\n",
       "      <th></th>\n",
       "      <th></th>\n",
       "      <th></th>\n",
       "      <th></th>\n",
       "      <th></th>\n",
       "      <th></th>\n",
       "      <th></th>\n",
       "      <th></th>\n",
       "      <th></th>\n",
       "      <th></th>\n",
       "    </tr>\n",
       "  </thead>\n",
       "  <tbody>\n",
       "    <tr>\n",
       "      <th>21</th>\n",
       "      <td>0.0</td>\n",
       "      <td>0.0</td>\n",
       "      <td>0.0</td>\n",
       "      <td>1.0</td>\n",
       "      <td>1.0</td>\n",
       "      <td>0.0</td>\n",
       "      <td>0.0</td>\n",
       "      <td>1.0</td>\n",
       "      <td>1.0</td>\n",
       "      <td>0.0</td>\n",
       "      <td>...</td>\n",
       "      <td>1.0</td>\n",
       "      <td>1.0</td>\n",
       "      <td>1.0</td>\n",
       "      <td>0.0</td>\n",
       "      <td>1.0</td>\n",
       "      <td>1.0</td>\n",
       "      <td>0.0</td>\n",
       "      <td>1.0</td>\n",
       "      <td>1.0</td>\n",
       "      <td>0.0</td>\n",
       "    </tr>\n",
       "    <tr>\n",
       "      <th>22</th>\n",
       "      <td>1.0</td>\n",
       "      <td>1.0</td>\n",
       "      <td>1.0</td>\n",
       "      <td>1.0</td>\n",
       "      <td>1.0</td>\n",
       "      <td>0.0</td>\n",
       "      <td>1.0</td>\n",
       "      <td>1.0</td>\n",
       "      <td>1.0</td>\n",
       "      <td>0.0</td>\n",
       "      <td>...</td>\n",
       "      <td>1.0</td>\n",
       "      <td>1.0</td>\n",
       "      <td>1.0</td>\n",
       "      <td>0.0</td>\n",
       "      <td>1.0</td>\n",
       "      <td>1.0</td>\n",
       "      <td>0.0</td>\n",
       "      <td>1.0</td>\n",
       "      <td>1.0</td>\n",
       "      <td>0.0</td>\n",
       "    </tr>\n",
       "    <tr>\n",
       "      <th>1042</th>\n",
       "      <td>1.0</td>\n",
       "      <td>1.0</td>\n",
       "      <td>1.0</td>\n",
       "      <td>0.0</td>\n",
       "      <td>0.0</td>\n",
       "      <td>1.0</td>\n",
       "      <td>1.0</td>\n",
       "      <td>0.0</td>\n",
       "      <td>0.0</td>\n",
       "      <td>1.0</td>\n",
       "      <td>...</td>\n",
       "      <td>0.0</td>\n",
       "      <td>0.0</td>\n",
       "      <td>0.0</td>\n",
       "      <td>1.0</td>\n",
       "      <td>0.0</td>\n",
       "      <td>0.0</td>\n",
       "      <td>1.0</td>\n",
       "      <td>0.0</td>\n",
       "      <td>0.0</td>\n",
       "      <td>1.0</td>\n",
       "    </tr>\n",
       "    <tr>\n",
       "      <th>2082</th>\n",
       "      <td>1.0</td>\n",
       "      <td>1.0</td>\n",
       "      <td>1.0</td>\n",
       "      <td>0.0</td>\n",
       "      <td>1.0</td>\n",
       "      <td>1.0</td>\n",
       "      <td>1.0</td>\n",
       "      <td>0.0</td>\n",
       "      <td>1.0</td>\n",
       "      <td>1.0</td>\n",
       "      <td>...</td>\n",
       "      <td>1.0</td>\n",
       "      <td>1.0</td>\n",
       "      <td>1.0</td>\n",
       "      <td>1.0</td>\n",
       "      <td>1.0</td>\n",
       "      <td>0.0</td>\n",
       "      <td>1.0</td>\n",
       "      <td>1.0</td>\n",
       "      <td>1.0</td>\n",
       "      <td>1.0</td>\n",
       "    </tr>\n",
       "  </tbody>\n",
       "</table>\n",
       "<p>4 rows × 97 columns</p>\n",
       "</div>"
      ],
      "text/plain": [
       "MATNR        19023492  19026283  19026309  19037281  19040788  19042767  \\\n",
       "CUSTOMER_ID                                                               \n",
       "21                0.0       0.0       0.0       1.0       1.0       0.0   \n",
       "22                1.0       1.0       1.0       1.0       1.0       0.0   \n",
       "1042              1.0       1.0       1.0       0.0       0.0       1.0   \n",
       "2082              1.0       1.0       1.0       0.0       1.0       1.0   \n",
       "\n",
       "MATNR        19042776  19047928  19049635  19050212    ...     59011045  \\\n",
       "CUSTOMER_ID                                            ...                \n",
       "21                0.0       1.0       1.0       0.0    ...          1.0   \n",
       "22                1.0       1.0       1.0       0.0    ...          1.0   \n",
       "1042              1.0       0.0       0.0       1.0    ...          0.0   \n",
       "2082              1.0       0.0       1.0       1.0    ...          1.0   \n",
       "\n",
       "MATNR        59011110  59011117  59011144  59011149  59011308  59011411  \\\n",
       "CUSTOMER_ID                                                               \n",
       "21                1.0       1.0       0.0       1.0       1.0       0.0   \n",
       "22                1.0       1.0       0.0       1.0       1.0       0.0   \n",
       "1042              0.0       0.0       1.0       0.0       0.0       1.0   \n",
       "2082              1.0       1.0       1.0       1.0       0.0       1.0   \n",
       "\n",
       "MATNR        59011482  59011537  59015402  \n",
       "CUSTOMER_ID                                \n",
       "21                1.0       1.0       0.0  \n",
       "22                1.0       1.0       0.0  \n",
       "1042              0.0       0.0       1.0  \n",
       "2082              1.0       1.0       1.0  \n",
       "\n",
       "[4 rows x 97 columns]"
      ]
     },
     "execution_count": 132,
     "metadata": {},
     "output_type": "execute_result"
    }
   ],
   "source": [
    "test_sw = cosine_similarity_between_item(test_pivot_table)\n",
    "test_prefiltering_sw = prefiltering_of_neighbors(test_sw, 0.1)\n",
    "test_predicted_table = cs_classification_predicted_score(test_pivot_table,test_prefiltering_sw,[0,1])\n",
    "test_predicted_table"
   ]
  },
  {
   "cell_type": "code",
   "execution_count": 133,
   "metadata": {},
   "outputs": [],
   "source": [
    "def item_list_from_user(predicted_score_table,user_id):\n",
    "    user_items = pd.DataFrame(predicted_score_table.loc[user_id])\n",
    "    user_items_sorted = user_items.sort_values(by=[user_id], ascending=False)\n",
    "    item_id_lists = user_items_sorted.index.values\n",
    "    return item_id_lists\n",
    "\n",
    "def new_item_list_from_user(new_score_table, old_score_table, user_id):\n",
    "    only_new_item = new_score_table[np.isnan(old_score_table)]\n",
    "    user_items = pd.DataFrame(only_new_item.loc[user_id])\n",
    "    user_items_sorted = user_items.sort_values(by=[user_id], ascending=False)\n",
    "    item_id_lists = user_items_sorted[(user_items_sorted>0).values].index.values\n",
    "    return item_id_lists\n",
    "\n",
    "def item_list_from_similarity(similar_table,item_id):\n",
    "    item_lists = pd.DataFrame(similar_table.loc[item_id])\n",
    "    items_sorted = item_lists.sort_values(by=[item_id], ascending=False)\n",
    "    items_sorted[item_id][item_id] = 0\n",
    "    item_id_lists = items_sorted[(items_sorted>0).values].index.values\n",
    "    return item_id_lists"
   ]
  },
  {
   "cell_type": "code",
   "execution_count": 87,
   "metadata": {},
   "outputs": [
    {
     "data": {
      "text/plain": [
       "17158644"
      ]
     },
     "execution_count": 87,
     "metadata": {},
     "output_type": "execute_result"
    }
   ],
   "source": [
    "pivot_table.shape[0]*pivot_table.shape[1]"
   ]
  },
  {
   "cell_type": "markdown",
   "metadata": {},
   "source": [
    "# ตัวอย่างการใช้งาน"
   ]
  },
  {
   "cell_type": "markdown",
   "metadata": {},
   "source": [
    "### 1) เมื่อ input คือ user_id แล้วอยากจะได้ output เป็น item_id (ex. Eric)"
   ]
  },
  {
   "cell_type": "markdown",
   "metadata": {},
   "source": [
    "ข้อมูลที่ต้องใช้ \n",
    "- ตาราง pivot table ที่ predicted NaN แล้ว"
   ]
  },
  {
   "cell_type": "code",
   "execution_count": 136,
   "metadata": {},
   "outputs": [
    {
     "data": {
      "text/plain": [
       "array([19023492, 19094079, 19097434, 19100787, 19109198, 19109896,\n",
       "       19110055, 19110767, 19026283, 19111094, 19111228, 19111253,\n",
       "       19111293, 19111554, 19112864, 19112865, 19113824, 19114074,\n",
       "       19114354, 19116630, 25011991, 25014525, 25017705, 25023257,\n",
       "       25023301, 25023319, 25023496, 59000334, 59008825, 59011144,\n",
       "       59011411, 19096338, 59015402, 19092205, 19068842, 19077277,\n",
       "       19080287, 19077271, 19042776, 19071513, 19051802, 19086638,\n",
       "       19086640, 19086642, 19086644, 19086651, 19086664, 19086680,\n",
       "       19067854, 19026309, 19090819, 19050212, 19042767, 25025161,\n",
       "       25023341, 25023340, 19047928, 25023311, 19049635, 59010206,\n",
       "       59001234, 59008643, 19040788, 59011045, 59011110, 59011117,\n",
       "       19037281, 59011149, 59011308, 59011482, 59011537, 25023256,\n",
       "       19068798, 25017431, 25017252, 19090935, 19090858, 19106652,\n",
       "       19106665, 19106666, 19108958, 19086672, 19110082, 19110881,\n",
       "       19086613, 19084437, 19111578, 19112395, 19112932, 19113182,\n",
       "       19114013, 19114655, 19095623, 19122203, 19063977, 25017251, 19110884])"
      ]
     },
     "execution_count": 136,
     "metadata": {},
     "output_type": "execute_result"
    }
   ],
   "source": [
    "item_list_from_user(test_predicted_table,1042)"
   ]
  },
  {
   "cell_type": "markdown",
   "metadata": {},
   "source": [
    "จุดอ่อนตอนนี้คือ ยังไม่ได้เรียงลำดับจากความน่าจะซื้อสูงสุด ไปหาน้อยสุด"
   ]
  },
  {
   "cell_type": "code",
   "execution_count": 138,
   "metadata": {},
   "outputs": [
    {
     "data": {
      "text/plain": [
       "array([19023492, 19109896, 19086644, 19086651, 19086664, 19086680,\n",
       "       19090819, 19109198, 19026283, 19086640, 19111253, 19111554,\n",
       "       19112864, 19112865, 19113824, 19114354, 19086642, 19110055,\n",
       "       19086638, 19051802, 19026309, 19080287, 19077277, 19071513,\n",
       "       19068842, 19042776])"
      ]
     },
     "execution_count": 138,
     "metadata": {},
     "output_type": "execute_result"
    }
   ],
   "source": [
    "new_item_list_from_user(test_predicted_table,test_pivot_table,1042)"
   ]
  },
  {
   "cell_type": "markdown",
   "metadata": {},
   "source": [
    "### 2) เมื่อ input คือ item_id แล้วอยากจะได้ output เป็น item_id"
   ]
  },
  {
   "cell_type": "code",
   "execution_count": 142,
   "metadata": {},
   "outputs": [
    {
     "data": {
      "text/plain": [
       "array([19112932, 59011308, 25017431, 19110082, 19047928, 59001234,\n",
       "       25017251, 59011149])"
      ]
     },
     "execution_count": 142,
     "metadata": {},
     "output_type": "execute_result"
    }
   ],
   "source": [
    "item_list_from_similarity(test_sw,19037281)"
   ]
  },
  {
   "cell_type": "code",
   "execution_count": 152,
   "metadata": {},
   "outputs": [
    {
     "data": {
      "text/plain": [
       "array([[ 1.,  0.,  0., ...,  0.,  0.,  0.],\n",
       "       [ 0.,  1.,  0., ...,  0.,  0.,  0.],\n",
       "       [ 0.,  0.,  1., ...,  0.,  0.,  0.],\n",
       "       ..., \n",
       "       [ 0.,  0.,  0., ...,  1.,  0.,  0.],\n",
       "       [ 0.,  0.,  0., ...,  0.,  1.,  0.],\n",
       "       [ 0.,  0.,  0., ...,  0.,  0.,  1.]])"
      ]
     },
     "execution_count": 152,
     "metadata": {},
     "output_type": "execute_result"
    }
   ],
   "source": [
    "similarity_weight.values"
   ]
  },
  {
   "cell_type": "code",
   "execution_count": 173,
   "metadata": {},
   "outputs": [
    {
     "data": {
      "image/png": "[encoded data removed]",
      "text/plain": [
       "<matplotlib.figure.Figure at 0x115283b70>"
      ]
     },
     "metadata": {},
     "output_type": "display_data"
    }
   ],
   "source": [
    "import matplotlib.pyplot as plt\n",
    "\n",
    "plt.figure(figsize=(16,16))\n",
    "plt.imshow(-similarity_weight.values[2250:2500,2250:2500], cmap='gray')\n",
    "plt.show()"
   ]
  },
  {
   "cell_type": "code",
   "execution_count": null,
   "metadata": {},
   "outputs": [],
   "source": []
  }
 ],
 "metadata": {
  "kernelspec": {
   "display_name": "Python 3",
   "language": "python",
   "name": "python3"
  },
  "language_info": {
   "codemirror_mode": {
    "name": "ipython",
    "version": 3
   },
   "file_extension": ".py",
   "mimetype": "text/x-python",
   "name": "python",
   "nbconvert_exporter": "python",
   "pygments_lexer": "ipython3",
   "version": "3.6.3"
  }
 },
 "nbformat": 4,
 "nbformat_minor": 2
}
