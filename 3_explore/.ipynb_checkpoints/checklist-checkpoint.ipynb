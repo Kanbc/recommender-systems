{
 "cells": [
  {
   "cell_type": "markdown",
   "metadata": {},
   "source": [
    "# 3 Explore the Data"
   ]
  },
  {
   "cell_type": "markdown",
   "metadata": {},
   "source": [
    "*Note : try to get insights from a field expert for these steps.*"
   ]
  },
  {
   "cell_type": "markdown",
   "metadata": {},
   "source": [
    "## 1. Create a copy of the data for exploration (sampling it to down to a manageable size if neccessary)."
   ]
  },
  {
   "cell_type": "markdown",
   "metadata": {},
   "source": [
    "เดิมทีไฟล์ฉบับอยู่ใน 2_data/original_dataset เพื่อให้ไม่กระทบกับข้อมูลตั้งต้นจึงย้ายข้อมูลทั้งหมดมาที่ 2_data/20180319 โดยหลังการแก้ไขข้อมูล ข้อมูลจะอยู่ในโฟลเดอร์ explored หรือ prepared"
   ]
  },
  {
   "cell_type": "markdown",
   "metadata": {},
   "source": [
    "## 2. Create a Notebook to keep a record of your data exploration."
   ]
  },
  {
   "cell_type": "markdown",
   "metadata": {},
   "source": [
    "ได้แก่ \n",
    "- cleaning/product.ipynb : จัดการไฟล์ข้อมูลที่เกี่ยวกับ product ทั้งหมด\n",
    "- cleaning/order.ipynb : จัดการไฟล์ข้อมูลที่เกี่ยวกับ order ทั้งหมด\n",
    "- cleaning/customer.ipynb : จัดการไฟล์ข้อมูลที่เกี่ยวกับ customer ทั้งหมด"
   ]
  },
  {
   "cell_type": "markdown",
   "metadata": {},
   "source": [
    "## 3. Study each attribute and its characteristics:\n",
    "- Name \n",
    "- Type (Category, int/float, bounded/unbounded, text, structured, etc.)\n",
    "- % of missing values\n",
    "- Type of distribution (Gaussian, uniform, logarithmic, etc.)\n",
    "- Noisiness and type of noise (stochastic, outliers, rounding errors, etc.)\n",
    "- Possibly useful for the task?"
   ]
  },
  {
   "cell_type": "markdown",
   "metadata": {},
   "source": [
    "ในที่นี้เราเขียน code ในไฟล์\n",
    "- cleaning/product.ipynb\n",
    "- cleaning/order.ipynb\n",
    "- cleaning/customer.ipynb\n",
    "- cleaning/ideabook.ipynb\n",
    "\n",
    "เพื่อจัดการตารางต่างๆให้ครบ"
   ]
  },
  {
   "cell_type": "markdown",
   "metadata": {},
   "source": [
    "## 4. For supervised learning tasks, identify the target attributes. "
   ]
  },
  {
   "cell_type": "markdown",
   "metadata": {},
   "source": [
    "สำหรับปัญหานี้ไม่ใช่ปัญหา Supervised จึงไม่มีข้อมูลใดที่ต้อง label เพิ่มเติม"
   ]
  },
  {
   "cell_type": "markdown",
   "metadata": {},
   "source": [
    "## 5. Visualize the data."
   ]
  },
  {
   "cell_type": "markdown",
   "metadata": {},
   "source": [
    "อยู่ใน folder visualization"
   ]
  },
  {
   "cell_type": "markdown",
   "metadata": {},
   "source": [
    "## 6. Study the correlations between attributes."
   ]
  },
  {
   "cell_type": "markdown",
   "metadata": {},
   "source": [
    "correlation ที่พบหลังจากทำ visualization ได้แก่"
   ]
  },
  {
   "cell_type": "markdown",
   "metadata": {},
   "source": [
    "## 7. Study how you would solve the problem manually."
   ]
  },
  {
   "cell_type": "markdown",
   "metadata": {},
   "source": [
    "### สำหรับ Item-based filtering"
   ]
  },
  {
   "cell_type": "markdown",
   "metadata": {},
   "source": [
    "## 8. Identify the promissing transformations you may want to apply."
   ]
  },
  {
   "cell_type": "code",
   "execution_count": null,
   "metadata": {},
   "outputs": [],
   "source": []
  },
  {
   "cell_type": "markdown",
   "metadata": {},
   "source": [
    "## 9. Identify extra data that would be useful (go back to \"2 Get the Data\")"
   ]
  },
  {
   "cell_type": "markdown",
   "metadata": {},
   "source": [
    "-"
   ]
  },
  {
   "cell_type": "markdown",
   "metadata": {},
   "source": [
    "## 10. Document what you have learned."
   ]
  },
  {
   "cell_type": "markdown",
   "metadata": {},
   "source": [
    "สิ่งที่ได้จากการ explore\n",
    "- "
   ]
  }
 ],
 "metadata": {
  "kernelspec": {
   "display_name": "Python 3",
   "language": "python",
   "name": "python3"
  },
  "language_info": {
   "codemirror_mode": {
    "name": "ipython",
    "version": 3
   },
   "file_extension": ".py",
   "mimetype": "text/x-python",
   "name": "python",
   "nbconvert_exporter": "python",
   "pygments_lexer": "ipython3",
   "version": "3.6.3"
  }
 },
 "nbformat": 4,
 "nbformat_minor": 2
}
