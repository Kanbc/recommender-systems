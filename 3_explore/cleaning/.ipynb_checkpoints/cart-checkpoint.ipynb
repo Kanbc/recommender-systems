{
 "cells": [
  {
   "cell_type": "markdown",
   "metadata": {},
   "source": [
    "# Checklist\n",
    "ขั้นตอนทั้งหมดที่ต้องทำกับทุกตาราง\n",
    "1. Name \n",
    "2. Type (Category, int/float, bounded/unbounded, text, structured, etc.)\n",
    "3. % of missing values\n",
    "4. Type of distribution (Gaussian, uniform, logarithmic, etc.)\n",
    "5. Noisiness and type of noise (stochastic, outliers, rounding errors, etc.)\n",
    "6. Possibly useful for the task?"
   ]
  },
  {
   "cell_type": "markdown",
   "metadata": {},
   "source": [
    "# Cart"
   ]
  },
  {
   "cell_type": "code",
   "execution_count": 72,
   "metadata": {},
   "outputs": [
    {
     "name": "stdout",
     "output_type": "stream",
     "text": [
      "(30588, 11)\n"
     ]
    },
    {
     "data": {
      "text/html": [
       "<div>\n",
       "<style>\n",
       "    .dataframe thead tr:only-child th {\n",
       "        text-align: right;\n",
       "    }\n",
       "\n",
       "    .dataframe thead th {\n",
       "        text-align: left;\n",
       "    }\n",
       "\n",
       "    .dataframe tbody tr th {\n",
       "        vertical-align: top;\n",
       "    }\n",
       "</style>\n",
       "<table border=\"1\" class=\"dataframe\">\n",
       "  <thead>\n",
       "    <tr style=\"text-align: right;\">\n",
       "      <th></th>\n",
       "      <th>CART_ID</th>\n",
       "      <th>CUSTOMER_ID</th>\n",
       "      <th>REDEEM_CODE</th>\n",
       "      <th>CREATE_DATE</th>\n",
       "      <th>UPDATE_DATE</th>\n",
       "      <th>SHIPPING_ADDRESS_ID</th>\n",
       "      <th>BILLING_ADDRESS_ID</th>\n",
       "      <th>DIRECT_SHP_COST</th>\n",
       "      <th>POST_SHP_COST</th>\n",
       "      <th>SHP_INFO_TH</th>\n",
       "      <th>SHP_INFO_EN</th>\n",
       "    </tr>\n",
       "  </thead>\n",
       "  <tbody>\n",
       "    <tr>\n",
       "      <th>0</th>\n",
       "      <td>3,143</td>\n",
       "      <td>2,265</td>\n",
       "      <td>NaN</td>\n",
       "      <td>2015-10-07 15:30:23</td>\n",
       "      <td>2015-10-07 15:30:23</td>\n",
       "      <td>NaN</td>\n",
       "      <td>NaN</td>\n",
       "      <td>NaN</td>\n",
       "      <td>NaN</td>\n",
       "      <td>NaN</td>\n",
       "      <td>NaN</td>\n",
       "    </tr>\n",
       "    <tr>\n",
       "      <th>1</th>\n",
       "      <td>21,534</td>\n",
       "      <td>22,192</td>\n",
       "      <td>NaN</td>\n",
       "      <td>2016-01-05 11:48:31</td>\n",
       "      <td>2016-01-05 11:52:32</td>\n",
       "      <td>NaN</td>\n",
       "      <td>NaN</td>\n",
       "      <td>NaN</td>\n",
       "      <td>NaN</td>\n",
       "      <td>NaN</td>\n",
       "      <td>NaN</td>\n",
       "    </tr>\n",
       "    <tr>\n",
       "      <th>2</th>\n",
       "      <td>21,534</td>\n",
       "      <td>22,192</td>\n",
       "      <td>NaN</td>\n",
       "      <td>2016-01-05 11:48:31</td>\n",
       "      <td>2016-01-05 11:52:32</td>\n",
       "      <td>NaN</td>\n",
       "      <td>NaN</td>\n",
       "      <td>NaN</td>\n",
       "      <td>NaN</td>\n",
       "      <td>NaN</td>\n",
       "      <td>NaN</td>\n",
       "    </tr>\n",
       "    <tr>\n",
       "      <th>3</th>\n",
       "      <td>3,122</td>\n",
       "      <td>2,182</td>\n",
       "      <td>NaN</td>\n",
       "      <td>2015-10-07 07:10:44</td>\n",
       "      <td>2016-03-27 16:10:47</td>\n",
       "      <td>1.800326e+09</td>\n",
       "      <td>1.700662e+09</td>\n",
       "      <td>0</td>\n",
       "      <td>NaN</td>\n",
       "      <td>NaN</td>\n",
       "      <td>NaN</td>\n",
       "    </tr>\n",
       "    <tr>\n",
       "      <th>4</th>\n",
       "      <td>3,122</td>\n",
       "      <td>2,182</td>\n",
       "      <td>NaN</td>\n",
       "      <td>2015-10-07 07:10:44</td>\n",
       "      <td>2016-03-27 16:10:47</td>\n",
       "      <td>1.800326e+09</td>\n",
       "      <td>1.700662e+09</td>\n",
       "      <td>0</td>\n",
       "      <td>NaN</td>\n",
       "      <td>NaN</td>\n",
       "      <td>NaN</td>\n",
       "    </tr>\n",
       "  </tbody>\n",
       "</table>\n",
       "</div>"
      ],
      "text/plain": [
       "  CART_ID CUSTOMER_ID  REDEEM_CODE          CREATE_DATE          UPDATE_DATE  \\\n",
       "0   3,143       2,265          NaN  2015-10-07 15:30:23  2015-10-07 15:30:23   \n",
       "1  21,534      22,192          NaN  2016-01-05 11:48:31  2016-01-05 11:52:32   \n",
       "2  21,534      22,192          NaN  2016-01-05 11:48:31  2016-01-05 11:52:32   \n",
       "3   3,122       2,182          NaN  2015-10-07 07:10:44  2016-03-27 16:10:47   \n",
       "4   3,122       2,182          NaN  2015-10-07 07:10:44  2016-03-27 16:10:47   \n",
       "\n",
       "   SHIPPING_ADDRESS_ID  BILLING_ADDRESS_ID DIRECT_SHP_COST  POST_SHP_COST  \\\n",
       "0                  NaN                 NaN             NaN            NaN   \n",
       "1                  NaN                 NaN             NaN            NaN   \n",
       "2                  NaN                 NaN             NaN            NaN   \n",
       "3         1.800326e+09        1.700662e+09               0            NaN   \n",
       "4         1.800326e+09        1.700662e+09               0            NaN   \n",
       "\n",
       "  SHP_INFO_TH SHP_INFO_EN  \n",
       "0         NaN         NaN  \n",
       "1         NaN         NaN  \n",
       "2         NaN         NaN  \n",
       "3         NaN         NaN  \n",
       "4         NaN         NaN  "
      ]
     },
     "execution_count": 72,
     "metadata": {},
     "output_type": "execute_result"
    }
   ],
   "source": [
    "import pandas as pd\n",
    "\n",
    "cart = pd.read_csv('../../2_data/20180319/cart.csv')\n",
    "print(cart.shape)\n",
    "cart.head()"
   ]
  },
  {
   "cell_type": "markdown",
   "metadata": {},
   "source": [
    "### 2. แปลง Type ให้ถูกต้อง"
   ]
  },
  {
   "cell_type": "code",
   "execution_count": 73,
   "metadata": {},
   "outputs": [
    {
     "data": {
      "text/plain": [
       "CART_ID                 object\n",
       "CUSTOMER_ID             object\n",
       "REDEEM_CODE            float64\n",
       "CREATE_DATE             object\n",
       "UPDATE_DATE             object\n",
       "SHIPPING_ADDRESS_ID    float64\n",
       "BILLING_ADDRESS_ID     float64\n",
       "DIRECT_SHP_COST         object\n",
       "POST_SHP_COST          float64\n",
       "SHP_INFO_TH             object\n",
       "SHP_INFO_EN             object\n",
       "dtype: object"
      ]
     },
     "execution_count": 73,
     "metadata": {},
     "output_type": "execute_result"
    }
   ],
   "source": [
    "cart.dtypes"
   ]
  },
  {
   "cell_type": "markdown",
   "metadata": {},
   "source": [
    "แปลงเวลาเป็น datetime"
   ]
  },
  {
   "cell_type": "code",
   "execution_count": 74,
   "metadata": {},
   "outputs": [],
   "source": [
    "cart['UPDATE_DATE'] = pd.to_datetime(cart['UPDATE_DATE'])\n",
    "cart['CREATE_DATE'] = pd.to_datetime(cart['CREATE_DATE'])"
   ]
  },
  {
   "cell_type": "markdown",
   "metadata": {},
   "source": [
    "ช่วงเวลาตามข้อมูลชุดเก่า"
   ]
  },
  {
   "cell_type": "code",
   "execution_count": 75,
   "metadata": {},
   "outputs": [],
   "source": [
    "cart = cart[(cart['CREATE_DATE'] > '2015-01-01 00:00:00') & (cart['CREATE_DATE'] < '2018-01-21 00:00:00')]"
   ]
  },
  {
   "cell_type": "markdown",
   "metadata": {},
   "source": [
    "CART_ID ,CUSTOMER_ID ต้องเป็น int"
   ]
  },
  {
   "cell_type": "code",
   "execution_count": 76,
   "metadata": {},
   "outputs": [
    {
     "data": {
      "text/html": [
       "<div>\n",
       "<style>\n",
       "    .dataframe thead tr:only-child th {\n",
       "        text-align: right;\n",
       "    }\n",
       "\n",
       "    .dataframe thead th {\n",
       "        text-align: left;\n",
       "    }\n",
       "\n",
       "    .dataframe tbody tr th {\n",
       "        vertical-align: top;\n",
       "    }\n",
       "</style>\n",
       "<table border=\"1\" class=\"dataframe\">\n",
       "  <thead>\n",
       "    <tr style=\"text-align: right;\">\n",
       "      <th></th>\n",
       "      <th>CART_ID</th>\n",
       "      <th>CUSTOMER_ID</th>\n",
       "      <th>REDEEM_CODE</th>\n",
       "      <th>CREATE_DATE</th>\n",
       "      <th>UPDATE_DATE</th>\n",
       "      <th>SHIPPING_ADDRESS_ID</th>\n",
       "      <th>BILLING_ADDRESS_ID</th>\n",
       "      <th>DIRECT_SHP_COST</th>\n",
       "      <th>POST_SHP_COST</th>\n",
       "      <th>SHP_INFO_TH</th>\n",
       "      <th>SHP_INFO_EN</th>\n",
       "    </tr>\n",
       "  </thead>\n",
       "  <tbody>\n",
       "    <tr>\n",
       "      <th>0</th>\n",
       "      <td>3143</td>\n",
       "      <td>2265</td>\n",
       "      <td>NaN</td>\n",
       "      <td>2015-10-07 15:30:23</td>\n",
       "      <td>2015-10-07 15:30:23</td>\n",
       "      <td>NaN</td>\n",
       "      <td>NaN</td>\n",
       "      <td>NaN</td>\n",
       "      <td>NaN</td>\n",
       "      <td>NaN</td>\n",
       "      <td>NaN</td>\n",
       "    </tr>\n",
       "    <tr>\n",
       "      <th>1</th>\n",
       "      <td>21534</td>\n",
       "      <td>22192</td>\n",
       "      <td>NaN</td>\n",
       "      <td>2016-01-05 11:48:31</td>\n",
       "      <td>2016-01-05 11:52:32</td>\n",
       "      <td>NaN</td>\n",
       "      <td>NaN</td>\n",
       "      <td>NaN</td>\n",
       "      <td>NaN</td>\n",
       "      <td>NaN</td>\n",
       "      <td>NaN</td>\n",
       "    </tr>\n",
       "    <tr>\n",
       "      <th>2</th>\n",
       "      <td>21534</td>\n",
       "      <td>22192</td>\n",
       "      <td>NaN</td>\n",
       "      <td>2016-01-05 11:48:31</td>\n",
       "      <td>2016-01-05 11:52:32</td>\n",
       "      <td>NaN</td>\n",
       "      <td>NaN</td>\n",
       "      <td>NaN</td>\n",
       "      <td>NaN</td>\n",
       "      <td>NaN</td>\n",
       "      <td>NaN</td>\n",
       "    </tr>\n",
       "    <tr>\n",
       "      <th>3</th>\n",
       "      <td>3122</td>\n",
       "      <td>2182</td>\n",
       "      <td>NaN</td>\n",
       "      <td>2015-10-07 07:10:44</td>\n",
       "      <td>2016-03-27 16:10:47</td>\n",
       "      <td>1.800326e+09</td>\n",
       "      <td>1.700662e+09</td>\n",
       "      <td>0</td>\n",
       "      <td>NaN</td>\n",
       "      <td>NaN</td>\n",
       "      <td>NaN</td>\n",
       "    </tr>\n",
       "    <tr>\n",
       "      <th>4</th>\n",
       "      <td>3122</td>\n",
       "      <td>2182</td>\n",
       "      <td>NaN</td>\n",
       "      <td>2015-10-07 07:10:44</td>\n",
       "      <td>2016-03-27 16:10:47</td>\n",
       "      <td>1.800326e+09</td>\n",
       "      <td>1.700662e+09</td>\n",
       "      <td>0</td>\n",
       "      <td>NaN</td>\n",
       "      <td>NaN</td>\n",
       "      <td>NaN</td>\n",
       "    </tr>\n",
       "  </tbody>\n",
       "</table>\n",
       "</div>"
      ],
      "text/plain": [
       "   CART_ID  CUSTOMER_ID  REDEEM_CODE         CREATE_DATE         UPDATE_DATE  \\\n",
       "0     3143         2265          NaN 2015-10-07 15:30:23 2015-10-07 15:30:23   \n",
       "1    21534        22192          NaN 2016-01-05 11:48:31 2016-01-05 11:52:32   \n",
       "2    21534        22192          NaN 2016-01-05 11:48:31 2016-01-05 11:52:32   \n",
       "3     3122         2182          NaN 2015-10-07 07:10:44 2016-03-27 16:10:47   \n",
       "4     3122         2182          NaN 2015-10-07 07:10:44 2016-03-27 16:10:47   \n",
       "\n",
       "   SHIPPING_ADDRESS_ID  BILLING_ADDRESS_ID DIRECT_SHP_COST  POST_SHP_COST  \\\n",
       "0                  NaN                 NaN             NaN            NaN   \n",
       "1                  NaN                 NaN             NaN            NaN   \n",
       "2                  NaN                 NaN             NaN            NaN   \n",
       "3         1.800326e+09        1.700662e+09               0            NaN   \n",
       "4         1.800326e+09        1.700662e+09               0            NaN   \n",
       "\n",
       "  SHP_INFO_TH SHP_INFO_EN  \n",
       "0         NaN         NaN  \n",
       "1         NaN         NaN  \n",
       "2         NaN         NaN  \n",
       "3         NaN         NaN  \n",
       "4         NaN         NaN  "
      ]
     },
     "execution_count": 76,
     "metadata": {},
     "output_type": "execute_result"
    }
   ],
   "source": [
    "import locale\n",
    "locale.setlocale(locale.LC_ALL, '') \n",
    "\n",
    "new_cart = cart[:]\n",
    "new_cart['CART_ID'] = cart['CART_ID'].apply(locale.atoi)\n",
    "new_cart['CUSTOMER_ID'] = cart['CUSTOMER_ID'].apply(locale.atoi)\n",
    "new_cart.head()"
   ]
  },
  {
   "cell_type": "code",
   "execution_count": 77,
   "metadata": {},
   "outputs": [
    {
     "data": {
      "text/plain": [
       "CART_ID                    0\n",
       "CUSTOMER_ID                0\n",
       "REDEEM_CODE            24034\n",
       "CREATE_DATE                0\n",
       "UPDATE_DATE                0\n",
       "SHIPPING_ADDRESS_ID    21411\n",
       "BILLING_ADDRESS_ID     22450\n",
       "DIRECT_SHP_COST        22139\n",
       "POST_SHP_COST          23879\n",
       "SHP_INFO_TH            23705\n",
       "SHP_INFO_EN            23705\n",
       "dtype: int64"
      ]
     },
     "execution_count": 77,
     "metadata": {},
     "output_type": "execute_result"
    }
   ],
   "source": [
    "new_cart.isnull().sum(axis=0)"
   ]
  },
  {
   "cell_type": "markdown",
   "metadata": {},
   "source": [
    "จะเห็นว่า Redeem code Null หมด ตัดออกได้เลย"
   ]
  },
  {
   "cell_type": "code",
   "execution_count": 78,
   "metadata": {},
   "outputs": [
    {
     "data": {
      "text/html": [
       "<div>\n",
       "<style>\n",
       "    .dataframe thead tr:only-child th {\n",
       "        text-align: right;\n",
       "    }\n",
       "\n",
       "    .dataframe thead th {\n",
       "        text-align: left;\n",
       "    }\n",
       "\n",
       "    .dataframe tbody tr th {\n",
       "        vertical-align: top;\n",
       "    }\n",
       "</style>\n",
       "<table border=\"1\" class=\"dataframe\">\n",
       "  <thead>\n",
       "    <tr style=\"text-align: right;\">\n",
       "      <th></th>\n",
       "      <th>CART_ID</th>\n",
       "      <th>CUSTOMER_ID</th>\n",
       "    </tr>\n",
       "  </thead>\n",
       "  <tbody>\n",
       "    <tr>\n",
       "      <th>0</th>\n",
       "      <td>3143</td>\n",
       "      <td>2265</td>\n",
       "    </tr>\n",
       "    <tr>\n",
       "      <th>1</th>\n",
       "      <td>21534</td>\n",
       "      <td>22192</td>\n",
       "    </tr>\n",
       "    <tr>\n",
       "      <th>2</th>\n",
       "      <td>21534</td>\n",
       "      <td>22192</td>\n",
       "    </tr>\n",
       "    <tr>\n",
       "      <th>3</th>\n",
       "      <td>3122</td>\n",
       "      <td>2182</td>\n",
       "    </tr>\n",
       "    <tr>\n",
       "      <th>4</th>\n",
       "      <td>3122</td>\n",
       "      <td>2182</td>\n",
       "    </tr>\n",
       "  </tbody>\n",
       "</table>\n",
       "</div>"
      ],
      "text/plain": [
       "   CART_ID  CUSTOMER_ID\n",
       "0     3143         2265\n",
       "1    21534        22192\n",
       "2    21534        22192\n",
       "3     3122         2182\n",
       "4     3122         2182"
      ]
     },
     "execution_count": 78,
     "metadata": {},
     "output_type": "execute_result"
    }
   ],
   "source": [
    "if 'REDEEM_CODE' in cart:\n",
    "    del new_cart['REDEEM_CODE']\n",
    "if 'POST_SHP_COST' in cart:\n",
    "    del new_cart['POST_SHP_COST']\n",
    "if 'SHP_INFO_TH' in cart:\n",
    "    del new_cart['SHP_INFO_TH']\n",
    "if 'SHP_INFO_EN' in cart:\n",
    "    del new_cart['SHP_INFO_EN']\n",
    "if 'SHIPPING_ADDRESS_ID' in cart:\n",
    "    del new_cart['SHIPPING_ADDRESS_ID']\n",
    "if 'BILLING_ADDRESS_ID' in cart:\n",
    "    del new_cart['BILLING_ADDRESS_ID']\n",
    "if 'DIRECT_SHP_COST' in cart:\n",
    "    del new_cart['DIRECT_SHP_COST']\n",
    "if 'CREATE_DATE' in cart:\n",
    "    del new_cart['CREATE_DATE']\n",
    "if 'UPDATE_DATE' in cart:\n",
    "    del new_cart['UPDATE_DATE']\n",
    "new_cart.head()"
   ]
  },
  {
   "cell_type": "code",
   "execution_count": 79,
   "metadata": {},
   "outputs": [
    {
     "data": {
      "text/plain": [
       "(24034, 2)"
      ]
     },
     "execution_count": 79,
     "metadata": {},
     "output_type": "execute_result"
    }
   ],
   "source": [
    "new_cart.shape"
   ]
  },
  {
   "cell_type": "code",
   "execution_count": 80,
   "metadata": {},
   "outputs": [
    {
     "data": {
      "text/plain": [
       "9301"
      ]
     },
     "execution_count": 80,
     "metadata": {},
     "output_type": "execute_result"
    }
   ],
   "source": [
    "len(new_cart['CART_ID'].unique())"
   ]
  },
  {
   "cell_type": "code",
   "execution_count": 81,
   "metadata": {},
   "outputs": [
    {
     "data": {
      "text/plain": [
       "9301"
      ]
     },
     "execution_count": 81,
     "metadata": {},
     "output_type": "execute_result"
    }
   ],
   "source": [
    "len(new_cart['CUSTOMER_ID'].unique())"
   ]
  },
  {
   "cell_type": "code",
   "execution_count": 82,
   "metadata": {},
   "outputs": [
    {
     "name": "stdout",
     "output_type": "stream",
     "text": [
      "(9301, 2)\n"
     ]
    },
    {
     "data": {
      "text/html": [
       "<div>\n",
       "<style>\n",
       "    .dataframe thead tr:only-child th {\n",
       "        text-align: right;\n",
       "    }\n",
       "\n",
       "    .dataframe thead th {\n",
       "        text-align: left;\n",
       "    }\n",
       "\n",
       "    .dataframe tbody tr th {\n",
       "        vertical-align: top;\n",
       "    }\n",
       "</style>\n",
       "<table border=\"1\" class=\"dataframe\">\n",
       "  <thead>\n",
       "    <tr style=\"text-align: right;\">\n",
       "      <th></th>\n",
       "      <th>CART_ID</th>\n",
       "      <th>CUSTOMER_ID</th>\n",
       "    </tr>\n",
       "  </thead>\n",
       "  <tbody>\n",
       "    <tr>\n",
       "      <th>0</th>\n",
       "      <td>3143</td>\n",
       "      <td>2265</td>\n",
       "    </tr>\n",
       "    <tr>\n",
       "      <th>1</th>\n",
       "      <td>21534</td>\n",
       "      <td>22192</td>\n",
       "    </tr>\n",
       "    <tr>\n",
       "      <th>3</th>\n",
       "      <td>3122</td>\n",
       "      <td>2182</td>\n",
       "    </tr>\n",
       "    <tr>\n",
       "      <th>6</th>\n",
       "      <td>3304</td>\n",
       "      <td>2434</td>\n",
       "    </tr>\n",
       "    <tr>\n",
       "      <th>9</th>\n",
       "      <td>3343</td>\n",
       "      <td>2476</td>\n",
       "    </tr>\n",
       "  </tbody>\n",
       "</table>\n",
       "</div>"
      ],
      "text/plain": [
       "   CART_ID  CUSTOMER_ID\n",
       "0     3143         2265\n",
       "1    21534        22192\n",
       "3     3122         2182\n",
       "6     3304         2434\n",
       "9     3343         2476"
      ]
     },
     "execution_count": 82,
     "metadata": {},
     "output_type": "execute_result"
    }
   ],
   "source": [
    "new_cart2 = new_cart.drop_duplicates(subset=['CART_ID', 'CUSTOMER_ID'], keep='first')\n",
    "print(new_cart2.shape)\n",
    "new_cart2.head()"
   ]
  },
  {
   "cell_type": "markdown",
   "metadata": {},
   "source": [
    "###  Export to CSV"
   ]
  },
  {
   "cell_type": "code",
   "execution_count": 83,
   "metadata": {},
   "outputs": [],
   "source": [
    "new_cart.to_csv('../../2_data/explored/cart.csv', index = False)"
   ]
  },
  {
   "cell_type": "markdown",
   "metadata": {},
   "source": [
    "# Cart Item"
   ]
  },
  {
   "cell_type": "code",
   "execution_count": 84,
   "metadata": {},
   "outputs": [
    {
     "name": "stdout",
     "output_type": "stream",
     "text": [
      "(30588, 11)\n"
     ]
    },
    {
     "data": {
      "text/html": [
       "<div>\n",
       "<style>\n",
       "    .dataframe thead tr:only-child th {\n",
       "        text-align: right;\n",
       "    }\n",
       "\n",
       "    .dataframe thead th {\n",
       "        text-align: left;\n",
       "    }\n",
       "\n",
       "    .dataframe tbody tr th {\n",
       "        vertical-align: top;\n",
       "    }\n",
       "</style>\n",
       "<table border=\"1\" class=\"dataframe\">\n",
       "  <thead>\n",
       "    <tr style=\"text-align: right;\">\n",
       "      <th></th>\n",
       "      <th>ITEM_ID</th>\n",
       "      <th>CART_ID</th>\n",
       "      <th>MATNR</th>\n",
       "      <th>QUANTITY</th>\n",
       "      <th>TOTAL_PRICE</th>\n",
       "      <th>DESCRIPTION</th>\n",
       "      <th>NORMAL_PRICE</th>\n",
       "      <th>F_CANBUY</th>\n",
       "      <th>PROMO_REC_ID</th>\n",
       "      <th>PROMO_CART_ITEM_ID</th>\n",
       "      <th>SOFTNESS_ID</th>\n",
       "    </tr>\n",
       "  </thead>\n",
       "  <tbody>\n",
       "    <tr>\n",
       "      <th>0</th>\n",
       "      <td>3,201</td>\n",
       "      <td>3,122</td>\n",
       "      <td>19042767</td>\n",
       "      <td>1</td>\n",
       "      <td>16,800</td>\n",
       "      <td>NaN</td>\n",
       "      <td>16,800</td>\n",
       "      <td>Y</td>\n",
       "      <td>NaN</td>\n",
       "      <td>NaN</td>\n",
       "      <td>NaN</td>\n",
       "    </tr>\n",
       "    <tr>\n",
       "      <th>1</th>\n",
       "      <td>3,425</td>\n",
       "      <td>3,302</td>\n",
       "      <td>59007616</td>\n",
       "      <td>1</td>\n",
       "      <td>64,900</td>\n",
       "      <td>NaN</td>\n",
       "      <td>64,900</td>\n",
       "      <td>Y</td>\n",
       "      <td>NaN</td>\n",
       "      <td>NaN</td>\n",
       "      <td>NaN</td>\n",
       "    </tr>\n",
       "    <tr>\n",
       "      <th>2</th>\n",
       "      <td>3,448</td>\n",
       "      <td>3,343</td>\n",
       "      <td>19058098</td>\n",
       "      <td>1</td>\n",
       "      <td>31,400</td>\n",
       "      <td>NaN</td>\n",
       "      <td>31,400</td>\n",
       "      <td>Y</td>\n",
       "      <td>NaN</td>\n",
       "      <td>NaN</td>\n",
       "      <td>NaN</td>\n",
       "    </tr>\n",
       "    <tr>\n",
       "      <th>3</th>\n",
       "      <td>4,779</td>\n",
       "      <td>4,888</td>\n",
       "      <td>19045725</td>\n",
       "      <td>1</td>\n",
       "      <td>6,650</td>\n",
       "      <td>NaN</td>\n",
       "      <td>6,650</td>\n",
       "      <td>Y</td>\n",
       "      <td>NaN</td>\n",
       "      <td>NaN</td>\n",
       "      <td>NaN</td>\n",
       "    </tr>\n",
       "    <tr>\n",
       "      <th>4</th>\n",
       "      <td>3,242</td>\n",
       "      <td>3,143</td>\n",
       "      <td>19111304</td>\n",
       "      <td>1</td>\n",
       "      <td>15,400</td>\n",
       "      <td>NaN</td>\n",
       "      <td>15,400</td>\n",
       "      <td>Y</td>\n",
       "      <td>NaN</td>\n",
       "      <td>NaN</td>\n",
       "      <td>NaN</td>\n",
       "    </tr>\n",
       "  </tbody>\n",
       "</table>\n",
       "</div>"
      ],
      "text/plain": [
       "  ITEM_ID CART_ID     MATNR QUANTITY TOTAL_PRICE  DESCRIPTION NORMAL_PRICE  \\\n",
       "0   3,201   3,122  19042767        1      16,800          NaN       16,800   \n",
       "1   3,425   3,302  59007616        1      64,900          NaN       64,900   \n",
       "2   3,448   3,343  19058098        1      31,400          NaN       31,400   \n",
       "3   4,779   4,888  19045725        1       6,650          NaN        6,650   \n",
       "4   3,242   3,143  19111304        1      15,400          NaN       15,400   \n",
       "\n",
       "  F_CANBUY PROMO_REC_ID  PROMO_CART_ITEM_ID  SOFTNESS_ID  \n",
       "0        Y          NaN                 NaN          NaN  \n",
       "1        Y          NaN                 NaN          NaN  \n",
       "2        Y          NaN                 NaN          NaN  \n",
       "3        Y          NaN                 NaN          NaN  \n",
       "4        Y          NaN                 NaN          NaN  "
      ]
     },
     "execution_count": 84,
     "metadata": {},
     "output_type": "execute_result"
    }
   ],
   "source": [
    "import pandas as pd\n",
    "\n",
    "cart_item = pd.read_csv('../../2_data/20180319/cart_item.csv')\n",
    "print(cart_item.shape)\n",
    "cart_item.head()"
   ]
  },
  {
   "cell_type": "markdown",
   "metadata": {},
   "source": [
    "### 2. แปลง Type ให้ถูกต้อง"
   ]
  },
  {
   "cell_type": "code",
   "execution_count": 85,
   "metadata": {},
   "outputs": [
    {
     "data": {
      "text/plain": [
       "ITEM_ID                object\n",
       "CART_ID                object\n",
       "MATNR                   int64\n",
       "QUANTITY               object\n",
       "TOTAL_PRICE            object\n",
       "DESCRIPTION           float64\n",
       "NORMAL_PRICE           object\n",
       "F_CANBUY               object\n",
       "PROMO_REC_ID           object\n",
       "PROMO_CART_ITEM_ID    float64\n",
       "SOFTNESS_ID           float64\n",
       "dtype: object"
      ]
     },
     "execution_count": 85,
     "metadata": {},
     "output_type": "execute_result"
    }
   ],
   "source": [
    "cart_item.dtypes"
   ]
  },
  {
   "cell_type": "code",
   "execution_count": 86,
   "metadata": {},
   "outputs": [
    {
     "data": {
      "text/plain": [
       "ITEM_ID                   0\n",
       "CART_ID                   0\n",
       "MATNR                     0\n",
       "QUANTITY                  0\n",
       "TOTAL_PRICE               0\n",
       "DESCRIPTION           30588\n",
       "NORMAL_PRICE              0\n",
       "F_CANBUY                  0\n",
       "PROMO_REC_ID          27538\n",
       "PROMO_CART_ITEM_ID    30540\n",
       "SOFTNESS_ID           30562\n",
       "dtype: int64"
      ]
     },
     "execution_count": 86,
     "metadata": {},
     "output_type": "execute_result"
    }
   ],
   "source": [
    "cart_item.isnull().sum(axis=0)"
   ]
  },
  {
   "cell_type": "markdown",
   "metadata": {},
   "source": [
    "ITEM_ID, CART_ID, MATNR, QUANTITY ต้องเป็น int TOTAL_PRICE ต้องเป็น float"
   ]
  },
  {
   "cell_type": "code",
   "execution_count": 87,
   "metadata": {},
   "outputs": [
    {
     "data": {
      "text/html": [
       "<div>\n",
       "<style>\n",
       "    .dataframe thead tr:only-child th {\n",
       "        text-align: right;\n",
       "    }\n",
       "\n",
       "    .dataframe thead th {\n",
       "        text-align: left;\n",
       "    }\n",
       "\n",
       "    .dataframe tbody tr th {\n",
       "        vertical-align: top;\n",
       "    }\n",
       "</style>\n",
       "<table border=\"1\" class=\"dataframe\">\n",
       "  <thead>\n",
       "    <tr style=\"text-align: right;\">\n",
       "      <th></th>\n",
       "      <th>ITEM_ID</th>\n",
       "      <th>CART_ID</th>\n",
       "      <th>MATNR</th>\n",
       "      <th>QUANTITY</th>\n",
       "      <th>TOTAL_PRICE</th>\n",
       "      <th>DESCRIPTION</th>\n",
       "      <th>NORMAL_PRICE</th>\n",
       "      <th>F_CANBUY</th>\n",
       "      <th>PROMO_REC_ID</th>\n",
       "      <th>PROMO_CART_ITEM_ID</th>\n",
       "      <th>SOFTNESS_ID</th>\n",
       "    </tr>\n",
       "  </thead>\n",
       "  <tbody>\n",
       "    <tr>\n",
       "      <th>0</th>\n",
       "      <td>3201</td>\n",
       "      <td>3122</td>\n",
       "      <td>19042767</td>\n",
       "      <td>1</td>\n",
       "      <td>16800.0</td>\n",
       "      <td>NaN</td>\n",
       "      <td>16,800</td>\n",
       "      <td>Y</td>\n",
       "      <td>NaN</td>\n",
       "      <td>NaN</td>\n",
       "      <td>NaN</td>\n",
       "    </tr>\n",
       "    <tr>\n",
       "      <th>1</th>\n",
       "      <td>3425</td>\n",
       "      <td>3302</td>\n",
       "      <td>59007616</td>\n",
       "      <td>1</td>\n",
       "      <td>64900.0</td>\n",
       "      <td>NaN</td>\n",
       "      <td>64,900</td>\n",
       "      <td>Y</td>\n",
       "      <td>NaN</td>\n",
       "      <td>NaN</td>\n",
       "      <td>NaN</td>\n",
       "    </tr>\n",
       "    <tr>\n",
       "      <th>2</th>\n",
       "      <td>3448</td>\n",
       "      <td>3343</td>\n",
       "      <td>19058098</td>\n",
       "      <td>1</td>\n",
       "      <td>31400.0</td>\n",
       "      <td>NaN</td>\n",
       "      <td>31,400</td>\n",
       "      <td>Y</td>\n",
       "      <td>NaN</td>\n",
       "      <td>NaN</td>\n",
       "      <td>NaN</td>\n",
       "    </tr>\n",
       "    <tr>\n",
       "      <th>3</th>\n",
       "      <td>4779</td>\n",
       "      <td>4888</td>\n",
       "      <td>19045725</td>\n",
       "      <td>1</td>\n",
       "      <td>6650.0</td>\n",
       "      <td>NaN</td>\n",
       "      <td>6,650</td>\n",
       "      <td>Y</td>\n",
       "      <td>NaN</td>\n",
       "      <td>NaN</td>\n",
       "      <td>NaN</td>\n",
       "    </tr>\n",
       "    <tr>\n",
       "      <th>4</th>\n",
       "      <td>3242</td>\n",
       "      <td>3143</td>\n",
       "      <td>19111304</td>\n",
       "      <td>1</td>\n",
       "      <td>15400.0</td>\n",
       "      <td>NaN</td>\n",
       "      <td>15,400</td>\n",
       "      <td>Y</td>\n",
       "      <td>NaN</td>\n",
       "      <td>NaN</td>\n",
       "      <td>NaN</td>\n",
       "    </tr>\n",
       "  </tbody>\n",
       "</table>\n",
       "</div>"
      ],
      "text/plain": [
       "   ITEM_ID  CART_ID     MATNR  QUANTITY  TOTAL_PRICE  DESCRIPTION  \\\n",
       "0     3201     3122  19042767         1      16800.0          NaN   \n",
       "1     3425     3302  59007616         1      64900.0          NaN   \n",
       "2     3448     3343  19058098         1      31400.0          NaN   \n",
       "3     4779     4888  19045725         1       6650.0          NaN   \n",
       "4     3242     3143  19111304         1      15400.0          NaN   \n",
       "\n",
       "  NORMAL_PRICE F_CANBUY PROMO_REC_ID  PROMO_CART_ITEM_ID  SOFTNESS_ID  \n",
       "0       16,800        Y          NaN                 NaN          NaN  \n",
       "1       64,900        Y          NaN                 NaN          NaN  \n",
       "2       31,400        Y          NaN                 NaN          NaN  \n",
       "3        6,650        Y          NaN                 NaN          NaN  \n",
       "4       15,400        Y          NaN                 NaN          NaN  "
      ]
     },
     "execution_count": 87,
     "metadata": {},
     "output_type": "execute_result"
    }
   ],
   "source": [
    "import locale\n",
    "locale.setlocale(locale.LC_ALL, '') \n",
    "\n",
    "new_cart_item = cart_item[:]\n",
    "new_cart_item['ITEM_ID'] = cart_item['ITEM_ID'].apply(locale.atoi)\n",
    "new_cart_item['CART_ID'] = cart_item['CART_ID'].apply(locale.atoi)\n",
    "new_cart_item['QUANTITY'] = cart_item['QUANTITY'].apply(locale.atoi)\n",
    "new_cart_item['TOTAL_PRICE'] = cart_item['TOTAL_PRICE'].apply(locale.atof)\n",
    "new_cart_item.head()"
   ]
  },
  {
   "cell_type": "code",
   "execution_count": 90,
   "metadata": {},
   "outputs": [
    {
     "data": {
      "text/html": [
       "<div>\n",
       "<style>\n",
       "    .dataframe thead tr:only-child th {\n",
       "        text-align: right;\n",
       "    }\n",
       "\n",
       "    .dataframe thead th {\n",
       "        text-align: left;\n",
       "    }\n",
       "\n",
       "    .dataframe tbody tr th {\n",
       "        vertical-align: top;\n",
       "    }\n",
       "</style>\n",
       "<table border=\"1\" class=\"dataframe\">\n",
       "  <thead>\n",
       "    <tr style=\"text-align: right;\">\n",
       "      <th></th>\n",
       "      <th>ITEM_ID</th>\n",
       "      <th>CART_ID</th>\n",
       "      <th>MATNR</th>\n",
       "      <th>QUANTITY</th>\n",
       "      <th>TOTAL_PRICE</th>\n",
       "    </tr>\n",
       "  </thead>\n",
       "  <tbody>\n",
       "    <tr>\n",
       "      <th>0</th>\n",
       "      <td>3201</td>\n",
       "      <td>3122</td>\n",
       "      <td>19042767</td>\n",
       "      <td>1</td>\n",
       "      <td>16800.0</td>\n",
       "    </tr>\n",
       "    <tr>\n",
       "      <th>1</th>\n",
       "      <td>3425</td>\n",
       "      <td>3302</td>\n",
       "      <td>59007616</td>\n",
       "      <td>1</td>\n",
       "      <td>64900.0</td>\n",
       "    </tr>\n",
       "    <tr>\n",
       "      <th>2</th>\n",
       "      <td>3448</td>\n",
       "      <td>3343</td>\n",
       "      <td>19058098</td>\n",
       "      <td>1</td>\n",
       "      <td>31400.0</td>\n",
       "    </tr>\n",
       "    <tr>\n",
       "      <th>3</th>\n",
       "      <td>4779</td>\n",
       "      <td>4888</td>\n",
       "      <td>19045725</td>\n",
       "      <td>1</td>\n",
       "      <td>6650.0</td>\n",
       "    </tr>\n",
       "    <tr>\n",
       "      <th>4</th>\n",
       "      <td>3242</td>\n",
       "      <td>3143</td>\n",
       "      <td>19111304</td>\n",
       "      <td>1</td>\n",
       "      <td>15400.0</td>\n",
       "    </tr>\n",
       "  </tbody>\n",
       "</table>\n",
       "</div>"
      ],
      "text/plain": [
       "   ITEM_ID  CART_ID     MATNR  QUANTITY  TOTAL_PRICE\n",
       "0     3201     3122  19042767         1      16800.0\n",
       "1     3425     3302  59007616         1      64900.0\n",
       "2     3448     3343  19058098         1      31400.0\n",
       "3     4779     4888  19045725         1       6650.0\n",
       "4     3242     3143  19111304         1      15400.0"
      ]
     },
     "execution_count": 90,
     "metadata": {},
     "output_type": "execute_result"
    }
   ],
   "source": [
    "if 'DESCRIPTION' in new_cart_item:\n",
    "    del new_cart_item['DESCRIPTION']\n",
    "if 'NORMAL_PRICE' in new_cart_item:\n",
    "    del new_cart_item['NORMAL_PRICE']\n",
    "if 'PROMO_CART_ITEM_ID' in new_cart_item:\n",
    "    del new_cart_item['PROMO_CART_ITEM_ID']\n",
    "if 'SOFTNESS_ID' in new_cart_item:\n",
    "    del new_cart_item['SOFTNESS_ID']\n",
    "if 'PROMO_REC_ID' in new_cart_item:\n",
    "    del new_cart_item['PROMO_REC_ID']\n",
    "if 'F_CANBUY' in new_cart_item:\n",
    "    del new_cart_item['F_CANBUY']\n",
    "new_cart_item.head()"
   ]
  },
  {
   "cell_type": "code",
   "execution_count": 91,
   "metadata": {},
   "outputs": [
    {
     "data": {
      "text/plain": [
       "ITEM_ID          int64\n",
       "CART_ID          int64\n",
       "MATNR            int64\n",
       "QUANTITY         int64\n",
       "TOTAL_PRICE    float64\n",
       "dtype: object"
      ]
     },
     "execution_count": 91,
     "metadata": {},
     "output_type": "execute_result"
    }
   ],
   "source": [
    "new_cart_item.dtypes"
   ]
  },
  {
   "cell_type": "code",
   "execution_count": 92,
   "metadata": {},
   "outputs": [
    {
     "data": {
      "text/plain": [
       "ITEM_ID        0\n",
       "CART_ID        0\n",
       "MATNR          0\n",
       "QUANTITY       0\n",
       "TOTAL_PRICE    0\n",
       "dtype: int64"
      ]
     },
     "execution_count": 92,
     "metadata": {},
     "output_type": "execute_result"
    }
   ],
   "source": [
    "new_cart_item.isnull().sum(axis=0)"
   ]
  },
  {
   "cell_type": "markdown",
   "metadata": {},
   "source": [
    "### 4. Type of distribution (Gaussian, uniform, logarithmic, etc.)"
   ]
  },
  {
   "cell_type": "code",
   "execution_count": 93,
   "metadata": {},
   "outputs": [
    {
     "data": {
      "text/plain": [
       "CART_ID  MATNR   \n",
       "981      19097311    2\n",
       "3082     19110082    1\n",
       "3103     19080297    1\n",
       "3122     19042767    1\n",
       "         19047928    1\n",
       "         19112932    1\n",
       "3142     59008286    1\n",
       "3143     19111304    1\n",
       "3162     19101784    1\n",
       "3182     19091327    2\n",
       "Name: QUANTITY, dtype: int64"
      ]
     },
     "execution_count": 93,
     "metadata": {},
     "output_type": "execute_result"
    }
   ],
   "source": [
    "group_cart_and_item = new_cart_item.groupby(['CART_ID','MATNR'])['QUANTITY'].sum()\n",
    "group_cart_and_item[0:10]"
   ]
  },
  {
   "cell_type": "code",
   "execution_count": 94,
   "metadata": {},
   "outputs": [
    {
     "data": {
      "text/plain": [
       "CART_ID\n",
       "981     2\n",
       "3082    1\n",
       "3103    1\n",
       "3122    3\n",
       "3142    1\n",
       "Name: QUANTITY, dtype: int64"
      ]
     },
     "execution_count": 94,
     "metadata": {},
     "output_type": "execute_result"
    }
   ],
   "source": [
    "group_cart_id = new_cart_item.groupby(['CART_ID'])['QUANTITY'].sum()\n",
    "group_cart_id.head()"
   ]
  },
  {
   "cell_type": "code",
   "execution_count": 95,
   "metadata": {},
   "outputs": [
    {
     "data": {
      "image/png": "[encoded data removed]",
      "text/plain": [
       "<matplotlib.figure.Figure at 0x1124dbdd8>"
      ]
     },
     "metadata": {},
     "output_type": "display_data"
    }
   ],
   "source": [
    "import matplotlib.pyplot as plt\n",
    "import numpy as np\n",
    "%matplotlib inline\n",
    "x = group_cart_id.values\n",
    "plt.hist(x, bins=100)\n",
    "plt.ylabel('Quantity');"
   ]
  },
  {
   "cell_type": "markdown",
   "metadata": {},
   "source": [
    "จะเห็นว่าค่ามากสุดเกือบ 3000 ใช่หรอ?"
   ]
  },
  {
   "cell_type": "code",
   "execution_count": 99,
   "metadata": {},
   "outputs": [
    {
     "data": {
      "text/plain": [
       "array([   2,    1,    3,    4,   12,    5,    8,   11,    7,   10,   21,\n",
       "         24,    6,   14,   30,   20,   48,   35,   15,   18,    9,   19,\n",
       "         13,   25,   16,   42,   27,   23,   26,   22,   17,   52,   31,\n",
       "         38,   68,   36,   40,   28, 2000,   61,   29,   49,   56,   58,\n",
       "         37,   39,   82,   62,   60,   77, 2938,   34,   41])"
      ]
     },
     "execution_count": 99,
     "metadata": {},
     "output_type": "execute_result"
    }
   ],
   "source": [
    "group_cart_id.unique()"
   ]
  },
  {
   "cell_type": "markdown",
   "metadata": {},
   "source": [
    "เห็นแหลมมาสองตัว ลองตัดออกดู จะได้"
   ]
  },
  {
   "cell_type": "code",
   "execution_count": 100,
   "metadata": {},
   "outputs": [
    {
     "data": {
      "text/plain": [
       "Text(0,0.5,'Quantity')"
      ]
     },
     "execution_count": 100,
     "metadata": {},
     "output_type": "execute_result"
    },
    {
     "data": {
      "image/png": "[encoded data removed]",
      "text/plain": [
       "<matplotlib.figure.Figure at 0x11d0b2c18>"
      ]
     },
     "metadata": {},
     "output_type": "display_data"
    }
   ],
   "source": [
    "plt.hist(x[x <2000], bins=100)\n",
    "plt.ylabel('Quantity')"
   ]
  },
  {
   "cell_type": "code",
   "execution_count": 104,
   "metadata": {},
   "outputs": [
    {
     "data": {
      "text/plain": [
       "array([ 1,  9,  2,  3,  4,  6,  5, 12, 30, 20, 10,  7,  8, 26, 14, 52, 37,\n",
       "       24, 15, 49, 60, 11, 17, 62])"
      ]
     },
     "execution_count": 104,
     "metadata": {},
     "output_type": "execute_result"
    }
   ],
   "source": [
    "new_cart_item[new_cart_item['QUANTITY'] < 2000]['QUANTITY'].unique()"
   ]
  },
  {
   "cell_type": "code",
   "execution_count": 106,
   "metadata": {},
   "outputs": [
    {
     "name": "stdout",
     "output_type": "stream",
     "text": [
      "(30587, 5)\n"
     ]
    },
    {
     "data": {
      "text/html": [
       "<div>\n",
       "<style>\n",
       "    .dataframe thead tr:only-child th {\n",
       "        text-align: right;\n",
       "    }\n",
       "\n",
       "    .dataframe thead th {\n",
       "        text-align: left;\n",
       "    }\n",
       "\n",
       "    .dataframe tbody tr th {\n",
       "        vertical-align: top;\n",
       "    }\n",
       "</style>\n",
       "<table border=\"1\" class=\"dataframe\">\n",
       "  <thead>\n",
       "    <tr style=\"text-align: right;\">\n",
       "      <th></th>\n",
       "      <th>ITEM_ID</th>\n",
       "      <th>CART_ID</th>\n",
       "      <th>MATNR</th>\n",
       "      <th>QUANTITY</th>\n",
       "      <th>TOTAL_PRICE</th>\n",
       "    </tr>\n",
       "  </thead>\n",
       "  <tbody>\n",
       "    <tr>\n",
       "      <th>0</th>\n",
       "      <td>3201</td>\n",
       "      <td>3122</td>\n",
       "      <td>19042767</td>\n",
       "      <td>1</td>\n",
       "      <td>16800.0</td>\n",
       "    </tr>\n",
       "    <tr>\n",
       "      <th>1</th>\n",
       "      <td>3425</td>\n",
       "      <td>3302</td>\n",
       "      <td>59007616</td>\n",
       "      <td>1</td>\n",
       "      <td>64900.0</td>\n",
       "    </tr>\n",
       "    <tr>\n",
       "      <th>2</th>\n",
       "      <td>3448</td>\n",
       "      <td>3343</td>\n",
       "      <td>19058098</td>\n",
       "      <td>1</td>\n",
       "      <td>31400.0</td>\n",
       "    </tr>\n",
       "    <tr>\n",
       "      <th>3</th>\n",
       "      <td>4779</td>\n",
       "      <td>4888</td>\n",
       "      <td>19045725</td>\n",
       "      <td>1</td>\n",
       "      <td>6650.0</td>\n",
       "    </tr>\n",
       "    <tr>\n",
       "      <th>4</th>\n",
       "      <td>3242</td>\n",
       "      <td>3143</td>\n",
       "      <td>19111304</td>\n",
       "      <td>1</td>\n",
       "      <td>15400.0</td>\n",
       "    </tr>\n",
       "  </tbody>\n",
       "</table>\n",
       "</div>"
      ],
      "text/plain": [
       "   ITEM_ID  CART_ID     MATNR  QUANTITY  TOTAL_PRICE\n",
       "0     3201     3122  19042767         1      16800.0\n",
       "1     3425     3302  59007616         1      64900.0\n",
       "2     3448     3343  19058098         1      31400.0\n",
       "3     4779     4888  19045725         1       6650.0\n",
       "4     3242     3143  19111304         1      15400.0"
      ]
     },
     "execution_count": 106,
     "metadata": {},
     "output_type": "execute_result"
    }
   ],
   "source": [
    "new_cart_item2 = new_cart_item[new_cart_item['QUANTITY'] < 2000]\n",
    "print(new_cart_item2.shape)\n",
    "new_cart_item2.head()"
   ]
  },
  {
   "cell_type": "markdown",
   "metadata": {},
   "source": [
    "### Export to CSV"
   ]
  },
  {
   "cell_type": "code",
   "execution_count": 107,
   "metadata": {},
   "outputs": [],
   "source": [
    "new_cart_item2.to_csv('../../2_data/explored/cart_item.csv', index = False)"
   ]
  },
  {
   "cell_type": "code",
   "execution_count": null,
   "metadata": {},
   "outputs": [],
   "source": []
  }
 ],
 "metadata": {
  "kernelspec": {
   "display_name": "Python 3",
   "language": "python",
   "name": "python3"
  },
  "language_info": {
   "codemirror_mode": {
    "name": "ipython",
    "version": 3
   },
   "file_extension": ".py",
   "mimetype": "text/x-python",
   "name": "python",
   "nbconvert_exporter": "python",
   "pygments_lexer": "ipython3",
   "version": "3.6.3"
  }
 },
 "nbformat": 4,
 "nbformat_minor": 2
}
