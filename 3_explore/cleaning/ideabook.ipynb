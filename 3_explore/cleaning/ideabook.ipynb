{
 "cells": [
  {
   "cell_type": "markdown",
   "metadata": {},
   "source": [
    "# Checklist\n",
    "ขั้นตอนทั้งหมดที่ต้องทำกับทุกตาราง\n",
    "1. Name \n",
    "2. Type (Category, int/float, bounded/unbounded, text, structured, etc.)\n",
    "3. % of missing values\n",
    "4. Type of distribution (Gaussian, uniform, logarithmic, etc.)\n",
    "5. Noisiness and type of noise (stochastic, outliers, rounding errors, etc.)\n",
    "6. Possibly useful for the task?"
   ]
  },
  {
   "cell_type": "markdown",
   "metadata": {},
   "source": [
    "# Ideabook"
   ]
  },
  {
   "cell_type": "code",
   "execution_count": 2,
   "metadata": {},
   "outputs": [
    {
     "name": "stdout",
     "output_type": "stream",
     "text": [
      "(41735, 5)\n"
     ]
    },
    {
     "data": {
      "text/html": [
       "<div>\n",
       "<style>\n",
       "    .dataframe thead tr:only-child th {\n",
       "        text-align: right;\n",
       "    }\n",
       "\n",
       "    .dataframe thead th {\n",
       "        text-align: left;\n",
       "    }\n",
       "\n",
       "    .dataframe tbody tr th {\n",
       "        vertical-align: top;\n",
       "    }\n",
       "</style>\n",
       "<table border=\"1\" class=\"dataframe\">\n",
       "  <thead>\n",
       "    <tr style=\"text-align: right;\">\n",
       "      <th></th>\n",
       "      <th>IDEABOOK_ID</th>\n",
       "      <th>CUSTOMER_ID</th>\n",
       "      <th>NAME</th>\n",
       "      <th>DESCRIPTION</th>\n",
       "      <th>IDEABOOK_TYPE</th>\n",
       "    </tr>\n",
       "  </thead>\n",
       "  <tbody>\n",
       "    <tr>\n",
       "      <th>0</th>\n",
       "      <td>2,020</td>\n",
       "      <td>1,042</td>\n",
       "      <td>Mobile uploads</td>\n",
       "      <td>NaN</td>\n",
       "      <td>MOBILE_UPLOAD</td>\n",
       "    </tr>\n",
       "    <tr>\n",
       "      <th>1</th>\n",
       "      <td>3,060</td>\n",
       "      <td>2,082</td>\n",
       "      <td>Mobile uploads</td>\n",
       "      <td>NaN</td>\n",
       "      <td>MOBILE_UPLOAD</td>\n",
       "    </tr>\n",
       "    <tr>\n",
       "      <th>2</th>\n",
       "      <td>3,080</td>\n",
       "      <td>2,102</td>\n",
       "      <td>Mobile uploads</td>\n",
       "      <td>NaN</td>\n",
       "      <td>MOBILE_UPLOAD</td>\n",
       "    </tr>\n",
       "    <tr>\n",
       "      <th>3</th>\n",
       "      <td>3,141</td>\n",
       "      <td>2,163</td>\n",
       "      <td>Mobile uploads</td>\n",
       "      <td>NaN</td>\n",
       "      <td>MOBILE_UPLOAD</td>\n",
       "    </tr>\n",
       "    <tr>\n",
       "      <th>4</th>\n",
       "      <td>3,204</td>\n",
       "      <td>2,226</td>\n",
       "      <td>Mobile uploads</td>\n",
       "      <td>NaN</td>\n",
       "      <td>MOBILE_UPLOAD</td>\n",
       "    </tr>\n",
       "  </tbody>\n",
       "</table>\n",
       "</div>"
      ],
      "text/plain": [
       "  IDEABOOK_ID CUSTOMER_ID            NAME DESCRIPTION  IDEABOOK_TYPE\n",
       "0       2,020       1,042  Mobile uploads         NaN  MOBILE_UPLOAD\n",
       "1       3,060       2,082  Mobile uploads         NaN  MOBILE_UPLOAD\n",
       "2       3,080       2,102  Mobile uploads         NaN  MOBILE_UPLOAD\n",
       "3       3,141       2,163  Mobile uploads         NaN  MOBILE_UPLOAD\n",
       "4       3,204       2,226  Mobile uploads         NaN  MOBILE_UPLOAD"
      ]
     },
     "execution_count": 2,
     "metadata": {},
     "output_type": "execute_result"
    }
   ],
   "source": [
    "import pandas as pd\n",
    "\n",
    "ideabook = pd.read_csv('../../2_data/20180319/ideabook.csv')\n",
    "print(ideabook.shape)\n",
    "ideabook.head()"
   ]
  },
  {
   "cell_type": "code",
   "execution_count": 5,
   "metadata": {},
   "outputs": [
    {
     "data": {
      "text/plain": [
       "array(['Mobile uploads', 'Home Decoration', 'Supalai Rachathewee', ...,\n",
       "       'ตู้โชว์ 1', 'diningroom', 'B-DOHS'], dtype=object)"
      ]
     },
     "execution_count": 5,
     "metadata": {},
     "output_type": "execute_result"
    }
   ],
   "source": [
    "ideabook['NAME'].unique()"
   ]
  },
  {
   "cell_type": "code",
   "execution_count": 7,
   "metadata": {},
   "outputs": [
    {
     "data": {
      "text/plain": [
       "array(['MOBILE_UPLOAD', 'ITEM'], dtype=object)"
      ]
     },
     "execution_count": 7,
     "metadata": {},
     "output_type": "execute_result"
    }
   ],
   "source": [
    "ideabook['IDEABOOK_TYPE'].unique()"
   ]
  },
  {
   "cell_type": "markdown",
   "metadata": {},
   "source": [
    "### 2. Type (Category, int/float, bounded/unbounded, text, structured, etc.)"
   ]
  },
  {
   "cell_type": "code",
   "execution_count": 8,
   "metadata": {},
   "outputs": [
    {
     "data": {
      "text/plain": [
       "IDEABOOK_ID      object\n",
       "CUSTOMER_ID      object\n",
       "NAME             object\n",
       "DESCRIPTION      object\n",
       "IDEABOOK_TYPE    object\n",
       "dtype: object"
      ]
     },
     "execution_count": 8,
     "metadata": {},
     "output_type": "execute_result"
    }
   ],
   "source": [
    "ideabook.dtypes"
   ]
  },
  {
   "cell_type": "markdown",
   "metadata": {},
   "source": [
    "id ต้องเป็น int"
   ]
  },
  {
   "cell_type": "code",
   "execution_count": 10,
   "metadata": {},
   "outputs": [
    {
     "data": {
      "text/html": [
       "<div>\n",
       "<style>\n",
       "    .dataframe thead tr:only-child th {\n",
       "        text-align: right;\n",
       "    }\n",
       "\n",
       "    .dataframe thead th {\n",
       "        text-align: left;\n",
       "    }\n",
       "\n",
       "    .dataframe tbody tr th {\n",
       "        vertical-align: top;\n",
       "    }\n",
       "</style>\n",
       "<table border=\"1\" class=\"dataframe\">\n",
       "  <thead>\n",
       "    <tr style=\"text-align: right;\">\n",
       "      <th></th>\n",
       "      <th>IDEABOOK_ID</th>\n",
       "      <th>CUSTOMER_ID</th>\n",
       "      <th>NAME</th>\n",
       "      <th>DESCRIPTION</th>\n",
       "      <th>IDEABOOK_TYPE</th>\n",
       "    </tr>\n",
       "  </thead>\n",
       "  <tbody>\n",
       "    <tr>\n",
       "      <th>0</th>\n",
       "      <td>2020</td>\n",
       "      <td>1042</td>\n",
       "      <td>Mobile uploads</td>\n",
       "      <td>NaN</td>\n",
       "      <td>MOBILE_UPLOAD</td>\n",
       "    </tr>\n",
       "    <tr>\n",
       "      <th>1</th>\n",
       "      <td>3060</td>\n",
       "      <td>2082</td>\n",
       "      <td>Mobile uploads</td>\n",
       "      <td>NaN</td>\n",
       "      <td>MOBILE_UPLOAD</td>\n",
       "    </tr>\n",
       "    <tr>\n",
       "      <th>2</th>\n",
       "      <td>3080</td>\n",
       "      <td>2102</td>\n",
       "      <td>Mobile uploads</td>\n",
       "      <td>NaN</td>\n",
       "      <td>MOBILE_UPLOAD</td>\n",
       "    </tr>\n",
       "    <tr>\n",
       "      <th>3</th>\n",
       "      <td>3141</td>\n",
       "      <td>2163</td>\n",
       "      <td>Mobile uploads</td>\n",
       "      <td>NaN</td>\n",
       "      <td>MOBILE_UPLOAD</td>\n",
       "    </tr>\n",
       "    <tr>\n",
       "      <th>4</th>\n",
       "      <td>3204</td>\n",
       "      <td>2226</td>\n",
       "      <td>Mobile uploads</td>\n",
       "      <td>NaN</td>\n",
       "      <td>MOBILE_UPLOAD</td>\n",
       "    </tr>\n",
       "  </tbody>\n",
       "</table>\n",
       "</div>"
      ],
      "text/plain": [
       "   IDEABOOK_ID  CUSTOMER_ID            NAME DESCRIPTION  IDEABOOK_TYPE\n",
       "0         2020         1042  Mobile uploads         NaN  MOBILE_UPLOAD\n",
       "1         3060         2082  Mobile uploads         NaN  MOBILE_UPLOAD\n",
       "2         3080         2102  Mobile uploads         NaN  MOBILE_UPLOAD\n",
       "3         3141         2163  Mobile uploads         NaN  MOBILE_UPLOAD\n",
       "4         3204         2226  Mobile uploads         NaN  MOBILE_UPLOAD"
      ]
     },
     "execution_count": 10,
     "metadata": {},
     "output_type": "execute_result"
    }
   ],
   "source": [
    "import locale\n",
    "locale.setlocale(locale.LC_ALL, '') \n",
    "\n",
    "new_ideabook = ideabook[:]\n",
    "new_ideabook['IDEABOOK_ID'] = ideabook['IDEABOOK_ID'].apply(locale.atoi)\n",
    "new_ideabook['CUSTOMER_ID'] = ideabook['CUSTOMER_ID'].apply(locale.atoi)\n",
    "new_ideabook.head()"
   ]
  },
  {
   "cell_type": "code",
   "execution_count": 12,
   "metadata": {},
   "outputs": [
    {
     "data": {
      "text/plain": [
       "IDEABOOK_ID       int64\n",
       "CUSTOMER_ID       int64\n",
       "NAME             object\n",
       "DESCRIPTION      object\n",
       "IDEABOOK_TYPE    object\n",
       "dtype: object"
      ]
     },
     "execution_count": 12,
     "metadata": {},
     "output_type": "execute_result"
    }
   ],
   "source": [
    "new_ideabook.dtypes"
   ]
  },
  {
   "cell_type": "code",
   "execution_count": 13,
   "metadata": {},
   "outputs": [
    {
     "data": {
      "text/plain": [
       "IDEABOOK_ID          0\n",
       "CUSTOMER_ID          0\n",
       "NAME                 1\n",
       "DESCRIPTION      41417\n",
       "IDEABOOK_TYPE        0\n",
       "dtype: int64"
      ]
     },
     "execution_count": 13,
     "metadata": {},
     "output_type": "execute_result"
    }
   ],
   "source": [
    "new_ideabook.isnull().sum(axis=0)"
   ]
  },
  {
   "cell_type": "markdown",
   "metadata": {},
   "source": [
    "### Export to CSV"
   ]
  },
  {
   "cell_type": "code",
   "execution_count": 14,
   "metadata": {},
   "outputs": [],
   "source": [
    "new_ideabook.to_csv('../../2_data/explored/ideabook.csv', index = False)"
   ]
  },
  {
   "cell_type": "markdown",
   "metadata": {},
   "source": [
    "# Ideabook Item"
   ]
  },
  {
   "cell_type": "code",
   "execution_count": 15,
   "metadata": {},
   "outputs": [
    {
     "name": "stdout",
     "output_type": "stream",
     "text": [
      "(21463, 7)\n"
     ]
    },
    {
     "data": {
      "text/html": [
       "<div>\n",
       "<style>\n",
       "    .dataframe thead tr:only-child th {\n",
       "        text-align: right;\n",
       "    }\n",
       "\n",
       "    .dataframe thead th {\n",
       "        text-align: left;\n",
       "    }\n",
       "\n",
       "    .dataframe tbody tr th {\n",
       "        vertical-align: top;\n",
       "    }\n",
       "</style>\n",
       "<table border=\"1\" class=\"dataframe\">\n",
       "  <thead>\n",
       "    <tr style=\"text-align: right;\">\n",
       "      <th></th>\n",
       "      <th>ITEM_ID</th>\n",
       "      <th>IDEABOOK_ID</th>\n",
       "      <th>MATNR</th>\n",
       "      <th>INSPIRATION_ID</th>\n",
       "      <th>IMAGE_ID</th>\n",
       "      <th>ITEM_TYPE</th>\n",
       "      <th>PHOTO_ID</th>\n",
       "    </tr>\n",
       "  </thead>\n",
       "  <tbody>\n",
       "    <tr>\n",
       "      <th>0</th>\n",
       "      <td>2,002</td>\n",
       "      <td>981</td>\n",
       "      <td>NaN</td>\n",
       "      <td>144</td>\n",
       "      <td>NaN</td>\n",
       "      <td>INSPIRATION</td>\n",
       "      <td>NaN</td>\n",
       "    </tr>\n",
       "    <tr>\n",
       "      <th>1</th>\n",
       "      <td>3,103</td>\n",
       "      <td>3,225</td>\n",
       "      <td>19014714.0</td>\n",
       "      <td>NaN</td>\n",
       "      <td>NaN</td>\n",
       "      <td>MDM_CYBER</td>\n",
       "      <td>NaN</td>\n",
       "    </tr>\n",
       "    <tr>\n",
       "      <th>2</th>\n",
       "      <td>3,104</td>\n",
       "      <td>3,225</td>\n",
       "      <td>59008884.0</td>\n",
       "      <td>NaN</td>\n",
       "      <td>NaN</td>\n",
       "      <td>MDM_CYBER</td>\n",
       "      <td>NaN</td>\n",
       "    </tr>\n",
       "    <tr>\n",
       "      <th>3</th>\n",
       "      <td>3,149</td>\n",
       "      <td>3,330</td>\n",
       "      <td>19077181.0</td>\n",
       "      <td>NaN</td>\n",
       "      <td>NaN</td>\n",
       "      <td>MDM_CYBER</td>\n",
       "      <td>NaN</td>\n",
       "    </tr>\n",
       "    <tr>\n",
       "      <th>4</th>\n",
       "      <td>3,323</td>\n",
       "      <td>3,501</td>\n",
       "      <td>19055703.0</td>\n",
       "      <td>NaN</td>\n",
       "      <td>NaN</td>\n",
       "      <td>MDM_CYBER</td>\n",
       "      <td>NaN</td>\n",
       "    </tr>\n",
       "  </tbody>\n",
       "</table>\n",
       "</div>"
      ],
      "text/plain": [
       "  ITEM_ID IDEABOOK_ID       MATNR INSPIRATION_ID  IMAGE_ID    ITEM_TYPE  \\\n",
       "0   2,002         981         NaN            144       NaN  INSPIRATION   \n",
       "1   3,103       3,225  19014714.0            NaN       NaN    MDM_CYBER   \n",
       "2   3,104       3,225  59008884.0            NaN       NaN    MDM_CYBER   \n",
       "3   3,149       3,330  19077181.0            NaN       NaN    MDM_CYBER   \n",
       "4   3,323       3,501  19055703.0            NaN       NaN    MDM_CYBER   \n",
       "\n",
       "  PHOTO_ID  \n",
       "0      NaN  \n",
       "1      NaN  \n",
       "2      NaN  \n",
       "3      NaN  \n",
       "4      NaN  "
      ]
     },
     "execution_count": 15,
     "metadata": {},
     "output_type": "execute_result"
    }
   ],
   "source": [
    "ideabook_item = pd.read_csv('../../2_data/20180319/ideabook_item.csv')\n",
    "print(ideabook_item.shape)\n",
    "ideabook_item.head()"
   ]
  },
  {
   "cell_type": "code",
   "execution_count": 16,
   "metadata": {},
   "outputs": [
    {
     "data": {
      "text/plain": [
       "ITEM_ID               0\n",
       "IDEABOOK_ID           0\n",
       "MATNR              1716\n",
       "INSPIRATION_ID    20122\n",
       "IMAGE_ID          21463\n",
       "ITEM_TYPE             0\n",
       "PHOTO_ID          21089\n",
       "dtype: int64"
      ]
     },
     "execution_count": 16,
     "metadata": {},
     "output_type": "execute_result"
    }
   ],
   "source": [
    "ideabook_item.isnull().sum(axis=0)"
   ]
  },
  {
   "cell_type": "markdown",
   "metadata": {},
   "source": [
    "### 2. Type (Category, int/float, bounded/unbounded, text, structured, etc.)"
   ]
  },
  {
   "cell_type": "code",
   "execution_count": 19,
   "metadata": {},
   "outputs": [
    {
     "data": {
      "text/plain": [
       "ITEM_ID            object\n",
       "IDEABOOK_ID        object\n",
       "MATNR             float64\n",
       "INSPIRATION_ID     object\n",
       "IMAGE_ID          float64\n",
       "ITEM_TYPE          object\n",
       "PHOTO_ID           object\n",
       "dtype: object"
      ]
     },
     "execution_count": 19,
     "metadata": {},
     "output_type": "execute_result"
    }
   ],
   "source": [
    "ideabook_item.dtypes"
   ]
  },
  {
   "cell_type": "markdown",
   "metadata": {},
   "source": [
    "id ต้อง เป็น int"
   ]
  },
  {
   "cell_type": "code",
   "execution_count": 22,
   "metadata": {},
   "outputs": [
    {
     "name": "stdout",
     "output_type": "stream",
     "text": [
      "(21463, 7)\n"
     ]
    },
    {
     "data": {
      "text/html": [
       "<div>\n",
       "<style>\n",
       "    .dataframe thead tr:only-child th {\n",
       "        text-align: right;\n",
       "    }\n",
       "\n",
       "    .dataframe thead th {\n",
       "        text-align: left;\n",
       "    }\n",
       "\n",
       "    .dataframe tbody tr th {\n",
       "        vertical-align: top;\n",
       "    }\n",
       "</style>\n",
       "<table border=\"1\" class=\"dataframe\">\n",
       "  <thead>\n",
       "    <tr style=\"text-align: right;\">\n",
       "      <th></th>\n",
       "      <th>ITEM_ID</th>\n",
       "      <th>IDEABOOK_ID</th>\n",
       "      <th>MATNR</th>\n",
       "      <th>INSPIRATION_ID</th>\n",
       "      <th>IMAGE_ID</th>\n",
       "      <th>ITEM_TYPE</th>\n",
       "      <th>PHOTO_ID</th>\n",
       "    </tr>\n",
       "  </thead>\n",
       "  <tbody>\n",
       "    <tr>\n",
       "      <th>0</th>\n",
       "      <td>2002</td>\n",
       "      <td>981</td>\n",
       "      <td>NaN</td>\n",
       "      <td>144</td>\n",
       "      <td>NaN</td>\n",
       "      <td>INSPIRATION</td>\n",
       "      <td>NaN</td>\n",
       "    </tr>\n",
       "    <tr>\n",
       "      <th>1</th>\n",
       "      <td>3103</td>\n",
       "      <td>3225</td>\n",
       "      <td>19014714.0</td>\n",
       "      <td>NaN</td>\n",
       "      <td>NaN</td>\n",
       "      <td>MDM_CYBER</td>\n",
       "      <td>NaN</td>\n",
       "    </tr>\n",
       "    <tr>\n",
       "      <th>2</th>\n",
       "      <td>3104</td>\n",
       "      <td>3225</td>\n",
       "      <td>59008884.0</td>\n",
       "      <td>NaN</td>\n",
       "      <td>NaN</td>\n",
       "      <td>MDM_CYBER</td>\n",
       "      <td>NaN</td>\n",
       "    </tr>\n",
       "    <tr>\n",
       "      <th>3</th>\n",
       "      <td>3149</td>\n",
       "      <td>3330</td>\n",
       "      <td>19077181.0</td>\n",
       "      <td>NaN</td>\n",
       "      <td>NaN</td>\n",
       "      <td>MDM_CYBER</td>\n",
       "      <td>NaN</td>\n",
       "    </tr>\n",
       "    <tr>\n",
       "      <th>4</th>\n",
       "      <td>3323</td>\n",
       "      <td>3501</td>\n",
       "      <td>19055703.0</td>\n",
       "      <td>NaN</td>\n",
       "      <td>NaN</td>\n",
       "      <td>MDM_CYBER</td>\n",
       "      <td>NaN</td>\n",
       "    </tr>\n",
       "  </tbody>\n",
       "</table>\n",
       "</div>"
      ],
      "text/plain": [
       "   ITEM_ID  IDEABOOK_ID       MATNR INSPIRATION_ID  IMAGE_ID    ITEM_TYPE  \\\n",
       "0     2002          981         NaN            144       NaN  INSPIRATION   \n",
       "1     3103         3225  19014714.0            NaN       NaN    MDM_CYBER   \n",
       "2     3104         3225  59008884.0            NaN       NaN    MDM_CYBER   \n",
       "3     3149         3330  19077181.0            NaN       NaN    MDM_CYBER   \n",
       "4     3323         3501  19055703.0            NaN       NaN    MDM_CYBER   \n",
       "\n",
       "  PHOTO_ID  \n",
       "0      NaN  \n",
       "1      NaN  \n",
       "2      NaN  \n",
       "3      NaN  \n",
       "4      NaN  "
      ]
     },
     "execution_count": 22,
     "metadata": {},
     "output_type": "execute_result"
    }
   ],
   "source": [
    "import locale\n",
    "locale.setlocale(locale.LC_ALL, '') \n",
    "\n",
    "new_ideabook_item = ideabook_item[:]\n",
    "new_ideabook_item['IDEABOOK_ID'] = ideabook_item['IDEABOOK_ID'].apply(locale.atoi)\n",
    "new_ideabook_item['ITEM_ID'] = ideabook_item['ITEM_ID'].apply(locale.atoi)\n",
    "print(new_ideabook_item.shape)\n",
    "new_ideabook_item.head()"
   ]
  },
  {
   "cell_type": "markdown",
   "metadata": {},
   "source": [
    "### 3. % of missing values"
   ]
  },
  {
   "cell_type": "code",
   "execution_count": 23,
   "metadata": {},
   "outputs": [
    {
     "data": {
      "text/plain": [
       "ITEM_ID               0\n",
       "IDEABOOK_ID           0\n",
       "MATNR              1716\n",
       "INSPIRATION_ID    20122\n",
       "IMAGE_ID          21463\n",
       "ITEM_TYPE             0\n",
       "PHOTO_ID          21089\n",
       "dtype: int64"
      ]
     },
     "execution_count": 23,
     "metadata": {},
     "output_type": "execute_result"
    }
   ],
   "source": [
    "new_ideabook_item.isnull().sum(axis=0)"
   ]
  },
  {
   "cell_type": "code",
   "execution_count": 28,
   "metadata": {},
   "outputs": [],
   "source": [
    "if 'IMAGE_ID' in new_ideabook_item:\n",
    "    del new_ideabook_item['IMAGE_ID']\n",
    "if 'PHOTO_ID' in new_ideabook_item:\n",
    "    del new_ideabook_item['PHOTO_ID']\n",
    "if 'INSPIRATION_ID' in new_ideabook_item:\n",
    "    del new_ideabook_item['INSPIRATION_ID']"
   ]
  },
  {
   "cell_type": "code",
   "execution_count": 31,
   "metadata": {},
   "outputs": [
    {
     "data": {
      "text/html": [
       "<div>\n",
       "<style>\n",
       "    .dataframe thead tr:only-child th {\n",
       "        text-align: right;\n",
       "    }\n",
       "\n",
       "    .dataframe thead th {\n",
       "        text-align: left;\n",
       "    }\n",
       "\n",
       "    .dataframe tbody tr th {\n",
       "        vertical-align: top;\n",
       "    }\n",
       "</style>\n",
       "<table border=\"1\" class=\"dataframe\">\n",
       "  <thead>\n",
       "    <tr style=\"text-align: right;\">\n",
       "      <th></th>\n",
       "      <th>ITEM_ID</th>\n",
       "      <th>IDEABOOK_ID</th>\n",
       "      <th>MATNR</th>\n",
       "      <th>ITEM_TYPE</th>\n",
       "    </tr>\n",
       "  </thead>\n",
       "  <tbody>\n",
       "    <tr>\n",
       "      <th>0</th>\n",
       "      <td>2002</td>\n",
       "      <td>981</td>\n",
       "      <td>NaN</td>\n",
       "      <td>INSPIRATION</td>\n",
       "    </tr>\n",
       "    <tr>\n",
       "      <th>1</th>\n",
       "      <td>3103</td>\n",
       "      <td>3225</td>\n",
       "      <td>19014714.0</td>\n",
       "      <td>MDM_CYBER</td>\n",
       "    </tr>\n",
       "    <tr>\n",
       "      <th>2</th>\n",
       "      <td>3104</td>\n",
       "      <td>3225</td>\n",
       "      <td>59008884.0</td>\n",
       "      <td>MDM_CYBER</td>\n",
       "    </tr>\n",
       "    <tr>\n",
       "      <th>3</th>\n",
       "      <td>3149</td>\n",
       "      <td>3330</td>\n",
       "      <td>19077181.0</td>\n",
       "      <td>MDM_CYBER</td>\n",
       "    </tr>\n",
       "    <tr>\n",
       "      <th>4</th>\n",
       "      <td>3323</td>\n",
       "      <td>3501</td>\n",
       "      <td>19055703.0</td>\n",
       "      <td>MDM_CYBER</td>\n",
       "    </tr>\n",
       "  </tbody>\n",
       "</table>\n",
       "</div>"
      ],
      "text/plain": [
       "   ITEM_ID  IDEABOOK_ID       MATNR    ITEM_TYPE\n",
       "0     2002          981         NaN  INSPIRATION\n",
       "1     3103         3225  19014714.0    MDM_CYBER\n",
       "2     3104         3225  59008884.0    MDM_CYBER\n",
       "3     3149         3330  19077181.0    MDM_CYBER\n",
       "4     3323         3501  19055703.0    MDM_CYBER"
      ]
     },
     "execution_count": 31,
     "metadata": {},
     "output_type": "execute_result"
    }
   ],
   "source": [
    "new_ideabook_item.head()"
   ]
  },
  {
   "cell_type": "markdown",
   "metadata": {},
   "source": [
    "### Export to CSV"
   ]
  },
  {
   "cell_type": "code",
   "execution_count": 32,
   "metadata": {},
   "outputs": [],
   "source": [
    "new_ideabook_item.to_csv('../../2_data/explored/ideabook_item.csv', index = False)"
   ]
  },
  {
   "cell_type": "markdown",
   "metadata": {},
   "source": [
    "# Ideabook + Item"
   ]
  },
  {
   "cell_type": "code",
   "execution_count": 33,
   "metadata": {},
   "outputs": [
    {
     "data": {
      "text/html": [
       "<div>\n",
       "<style>\n",
       "    .dataframe thead tr:only-child th {\n",
       "        text-align: right;\n",
       "    }\n",
       "\n",
       "    .dataframe thead th {\n",
       "        text-align: left;\n",
       "    }\n",
       "\n",
       "    .dataframe tbody tr th {\n",
       "        vertical-align: top;\n",
       "    }\n",
       "</style>\n",
       "<table border=\"1\" class=\"dataframe\">\n",
       "  <thead>\n",
       "    <tr style=\"text-align: right;\">\n",
       "      <th></th>\n",
       "      <th>IDEABOOK_ID</th>\n",
       "      <th>CUSTOMER_ID</th>\n",
       "      <th>NAME</th>\n",
       "      <th>DESCRIPTION</th>\n",
       "      <th>IDEABOOK_TYPE</th>\n",
       "    </tr>\n",
       "  </thead>\n",
       "  <tbody>\n",
       "    <tr>\n",
       "      <th>0</th>\n",
       "      <td>2020</td>\n",
       "      <td>1042</td>\n",
       "      <td>Mobile uploads</td>\n",
       "      <td>NaN</td>\n",
       "      <td>MOBILE_UPLOAD</td>\n",
       "    </tr>\n",
       "    <tr>\n",
       "      <th>1</th>\n",
       "      <td>3060</td>\n",
       "      <td>2082</td>\n",
       "      <td>Mobile uploads</td>\n",
       "      <td>NaN</td>\n",
       "      <td>MOBILE_UPLOAD</td>\n",
       "    </tr>\n",
       "    <tr>\n",
       "      <th>2</th>\n",
       "      <td>3080</td>\n",
       "      <td>2102</td>\n",
       "      <td>Mobile uploads</td>\n",
       "      <td>NaN</td>\n",
       "      <td>MOBILE_UPLOAD</td>\n",
       "    </tr>\n",
       "    <tr>\n",
       "      <th>3</th>\n",
       "      <td>3141</td>\n",
       "      <td>2163</td>\n",
       "      <td>Mobile uploads</td>\n",
       "      <td>NaN</td>\n",
       "      <td>MOBILE_UPLOAD</td>\n",
       "    </tr>\n",
       "    <tr>\n",
       "      <th>4</th>\n",
       "      <td>3204</td>\n",
       "      <td>2226</td>\n",
       "      <td>Mobile uploads</td>\n",
       "      <td>NaN</td>\n",
       "      <td>MOBILE_UPLOAD</td>\n",
       "    </tr>\n",
       "  </tbody>\n",
       "</table>\n",
       "</div>"
      ],
      "text/plain": [
       "   IDEABOOK_ID  CUSTOMER_ID            NAME DESCRIPTION  IDEABOOK_TYPE\n",
       "0         2020         1042  Mobile uploads         NaN  MOBILE_UPLOAD\n",
       "1         3060         2082  Mobile uploads         NaN  MOBILE_UPLOAD\n",
       "2         3080         2102  Mobile uploads         NaN  MOBILE_UPLOAD\n",
       "3         3141         2163  Mobile uploads         NaN  MOBILE_UPLOAD\n",
       "4         3204         2226  Mobile uploads         NaN  MOBILE_UPLOAD"
      ]
     },
     "execution_count": 33,
     "metadata": {},
     "output_type": "execute_result"
    }
   ],
   "source": [
    "left = new_ideabook\n",
    "left.head()"
   ]
  },
  {
   "cell_type": "code",
   "execution_count": 34,
   "metadata": {},
   "outputs": [
    {
     "data": {
      "text/html": [
       "<div>\n",
       "<style>\n",
       "    .dataframe thead tr:only-child th {\n",
       "        text-align: right;\n",
       "    }\n",
       "\n",
       "    .dataframe thead th {\n",
       "        text-align: left;\n",
       "    }\n",
       "\n",
       "    .dataframe tbody tr th {\n",
       "        vertical-align: top;\n",
       "    }\n",
       "</style>\n",
       "<table border=\"1\" class=\"dataframe\">\n",
       "  <thead>\n",
       "    <tr style=\"text-align: right;\">\n",
       "      <th></th>\n",
       "      <th>ITEM_ID</th>\n",
       "      <th>IDEABOOK_ID</th>\n",
       "      <th>MATNR</th>\n",
       "      <th>ITEM_TYPE</th>\n",
       "    </tr>\n",
       "  </thead>\n",
       "  <tbody>\n",
       "    <tr>\n",
       "      <th>0</th>\n",
       "      <td>2002</td>\n",
       "      <td>981</td>\n",
       "      <td>NaN</td>\n",
       "      <td>INSPIRATION</td>\n",
       "    </tr>\n",
       "    <tr>\n",
       "      <th>1</th>\n",
       "      <td>3103</td>\n",
       "      <td>3225</td>\n",
       "      <td>19014714.0</td>\n",
       "      <td>MDM_CYBER</td>\n",
       "    </tr>\n",
       "    <tr>\n",
       "      <th>2</th>\n",
       "      <td>3104</td>\n",
       "      <td>3225</td>\n",
       "      <td>59008884.0</td>\n",
       "      <td>MDM_CYBER</td>\n",
       "    </tr>\n",
       "    <tr>\n",
       "      <th>3</th>\n",
       "      <td>3149</td>\n",
       "      <td>3330</td>\n",
       "      <td>19077181.0</td>\n",
       "      <td>MDM_CYBER</td>\n",
       "    </tr>\n",
       "    <tr>\n",
       "      <th>4</th>\n",
       "      <td>3323</td>\n",
       "      <td>3501</td>\n",
       "      <td>19055703.0</td>\n",
       "      <td>MDM_CYBER</td>\n",
       "    </tr>\n",
       "  </tbody>\n",
       "</table>\n",
       "</div>"
      ],
      "text/plain": [
       "   ITEM_ID  IDEABOOK_ID       MATNR    ITEM_TYPE\n",
       "0     2002          981         NaN  INSPIRATION\n",
       "1     3103         3225  19014714.0    MDM_CYBER\n",
       "2     3104         3225  59008884.0    MDM_CYBER\n",
       "3     3149         3330  19077181.0    MDM_CYBER\n",
       "4     3323         3501  19055703.0    MDM_CYBER"
      ]
     },
     "execution_count": 34,
     "metadata": {},
     "output_type": "execute_result"
    }
   ],
   "source": [
    "right = new_ideabook_item\n",
    "right.head()"
   ]
  },
  {
   "cell_type": "code",
   "execution_count": 35,
   "metadata": {},
   "outputs": [
    {
     "data": {
      "text/html": [
       "<div>\n",
       "<style>\n",
       "    .dataframe thead tr:only-child th {\n",
       "        text-align: right;\n",
       "    }\n",
       "\n",
       "    .dataframe thead th {\n",
       "        text-align: left;\n",
       "    }\n",
       "\n",
       "    .dataframe tbody tr th {\n",
       "        vertical-align: top;\n",
       "    }\n",
       "</style>\n",
       "<table border=\"1\" class=\"dataframe\">\n",
       "  <thead>\n",
       "    <tr style=\"text-align: right;\">\n",
       "      <th></th>\n",
       "      <th>IDEABOOK_ID</th>\n",
       "      <th>CUSTOMER_ID</th>\n",
       "      <th>NAME</th>\n",
       "      <th>DESCRIPTION</th>\n",
       "      <th>IDEABOOK_TYPE</th>\n",
       "      <th>ITEM_ID</th>\n",
       "      <th>MATNR</th>\n",
       "      <th>ITEM_TYPE</th>\n",
       "    </tr>\n",
       "  </thead>\n",
       "  <tbody>\n",
       "    <tr>\n",
       "      <th>0</th>\n",
       "      <td>3334</td>\n",
       "      <td>2342</td>\n",
       "      <td>Home Decoration</td>\n",
       "      <td>NaN</td>\n",
       "      <td>ITEM</td>\n",
       "      <td>3153</td>\n",
       "      <td>19088103.0</td>\n",
       "      <td>MDM_CYBER</td>\n",
       "    </tr>\n",
       "    <tr>\n",
       "      <th>1</th>\n",
       "      <td>3905</td>\n",
       "      <td>2987</td>\n",
       "      <td>Supalai Rachathewee</td>\n",
       "      <td>NaN</td>\n",
       "      <td>ITEM</td>\n",
       "      <td>3582</td>\n",
       "      <td>59008375.0</td>\n",
       "      <td>MDM_CYBER</td>\n",
       "    </tr>\n",
       "    <tr>\n",
       "      <th>2</th>\n",
       "      <td>3905</td>\n",
       "      <td>2987</td>\n",
       "      <td>Supalai Rachathewee</td>\n",
       "      <td>NaN</td>\n",
       "      <td>ITEM</td>\n",
       "      <td>3584</td>\n",
       "      <td>59007937.0</td>\n",
       "      <td>MDM_CYBER</td>\n",
       "    </tr>\n",
       "    <tr>\n",
       "      <th>3</th>\n",
       "      <td>3905</td>\n",
       "      <td>2987</td>\n",
       "      <td>Supalai Rachathewee</td>\n",
       "      <td>NaN</td>\n",
       "      <td>ITEM</td>\n",
       "      <td>3625</td>\n",
       "      <td>59003359.0</td>\n",
       "      <td>MDM_CYBER</td>\n",
       "    </tr>\n",
       "    <tr>\n",
       "      <th>4</th>\n",
       "      <td>3905</td>\n",
       "      <td>2987</td>\n",
       "      <td>Supalai Rachathewee</td>\n",
       "      <td>NaN</td>\n",
       "      <td>ITEM</td>\n",
       "      <td>3626</td>\n",
       "      <td>59000177.0</td>\n",
       "      <td>MDM_CYBER</td>\n",
       "    </tr>\n",
       "  </tbody>\n",
       "</table>\n",
       "</div>"
      ],
      "text/plain": [
       "   IDEABOOK_ID  CUSTOMER_ID                 NAME DESCRIPTION IDEABOOK_TYPE  \\\n",
       "0         3334         2342      Home Decoration         NaN          ITEM   \n",
       "1         3905         2987  Supalai Rachathewee         NaN          ITEM   \n",
       "2         3905         2987  Supalai Rachathewee         NaN          ITEM   \n",
       "3         3905         2987  Supalai Rachathewee         NaN          ITEM   \n",
       "4         3905         2987  Supalai Rachathewee         NaN          ITEM   \n",
       "\n",
       "   ITEM_ID       MATNR  ITEM_TYPE  \n",
       "0     3153  19088103.0  MDM_CYBER  \n",
       "1     3582  59008375.0  MDM_CYBER  \n",
       "2     3584  59007937.0  MDM_CYBER  \n",
       "3     3625  59003359.0  MDM_CYBER  \n",
       "4     3626  59000177.0  MDM_CYBER  "
      ]
     },
     "execution_count": 35,
     "metadata": {},
     "output_type": "execute_result"
    }
   ],
   "source": [
    "ideabook_item_merge = pd.merge(left, right, on='IDEABOOK_ID')\n",
    "ideabook_item_merge.head()"
   ]
  },
  {
   "cell_type": "code",
   "execution_count": 36,
   "metadata": {},
   "outputs": [
    {
     "data": {
      "text/plain": [
       "IDEABOOK_ID          0\n",
       "CUSTOMER_ID          0\n",
       "NAME                 3\n",
       "DESCRIPTION      20093\n",
       "IDEABOOK_TYPE        0\n",
       "ITEM_ID              0\n",
       "MATNR             1716\n",
       "ITEM_TYPE            0\n",
       "dtype: int64"
      ]
     },
     "execution_count": 36,
     "metadata": {},
     "output_type": "execute_result"
    }
   ],
   "source": [
    "ideabook_item_merge.isnull().sum(axis=0)"
   ]
  },
  {
   "cell_type": "code",
   "execution_count": 37,
   "metadata": {},
   "outputs": [
    {
     "data": {
      "text/plain": [
       "IDEABOOK_ID        int64\n",
       "CUSTOMER_ID        int64\n",
       "NAME              object\n",
       "DESCRIPTION       object\n",
       "IDEABOOK_TYPE     object\n",
       "ITEM_ID            int64\n",
       "MATNR            float64\n",
       "ITEM_TYPE         object\n",
       "dtype: object"
      ]
     },
     "execution_count": 37,
     "metadata": {},
     "output_type": "execute_result"
    }
   ],
   "source": [
    "ideabook_item_merge.dtypes"
   ]
  },
  {
   "cell_type": "markdown",
   "metadata": {},
   "source": [
    "### Export file  "
   ]
  },
  {
   "cell_type": "code",
   "execution_count": 39,
   "metadata": {},
   "outputs": [],
   "source": [
    "ideabook_item_merge.to_csv('../../2_data/prepared/ideabook_item_merge.csv', index=False)"
   ]
  }
 ],
 "metadata": {
  "kernelspec": {
   "display_name": "Python 3",
   "language": "python",
   "name": "python3"
  },
  "language_info": {
   "codemirror_mode": {
    "name": "ipython",
    "version": 3
   },
   "file_extension": ".py",
   "mimetype": "text/x-python",
   "name": "python",
   "nbconvert_exporter": "python",
   "pygments_lexer": "ipython3",
   "version": "3.6.3"
  }
 },
 "nbformat": 4,
 "nbformat_minor": 2
}
