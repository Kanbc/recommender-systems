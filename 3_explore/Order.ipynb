{
 "cells": [
  {
   "cell_type": "markdown",
   "metadata": {},
   "source": [
    "# Checklist\n",
    "ขั้นตอนทั้งหมดที่ต้องทำกับทุกตาราง\n",
    "1. Name \n",
    "2. Type (Category, int/float, bounded/unbounded, text, structured, etc.)\n",
    "3. % of missing values\n",
    "4. Type of distribution (Gaussian, uniform, logarithmic, etc.)\n",
    "5. Noisiness and type of noise (stochastic, outliers, rounding errors, etc.)\n",
    "6. Possibly useful for the task?"
   ]
  },
  {
   "cell_type": "markdown",
   "metadata": {},
   "source": [
    "# คำสั่งซื้อ (Order)"
   ]
  },
  {
   "cell_type": "markdown",
   "metadata": {},
   "source": [
    "### 1. ตรวจ Name"
   ]
  },
  {
   "cell_type": "code",
   "execution_count": 1,
   "metadata": {
    "scrolled": true
   },
   "outputs": [
    {
     "data": {
      "text/html": [
       "<div>\n",
       "<style>\n",
       "    .dataframe thead tr:only-child th {\n",
       "        text-align: right;\n",
       "    }\n",
       "\n",
       "    .dataframe thead th {\n",
       "        text-align: left;\n",
       "    }\n",
       "\n",
       "    .dataframe tbody tr th {\n",
       "        vertical-align: top;\n",
       "    }\n",
       "</style>\n",
       "<table border=\"1\" class=\"dataframe\">\n",
       "  <thead>\n",
       "    <tr style=\"text-align: right;\">\n",
       "      <th></th>\n",
       "      <th>ORDER_ID</th>\n",
       "      <th>CUSTOMER_ID</th>\n",
       "      <th>BPCODE</th>\n",
       "      <th>CREATE_DATE</th>\n",
       "      <th>UPDATE_DATE</th>\n",
       "      <th>STATUS</th>\n",
       "    </tr>\n",
       "  </thead>\n",
       "  <tbody>\n",
       "    <tr>\n",
       "      <th>0</th>\n",
       "      <td>2,024</td>\n",
       "      <td>22</td>\n",
       "      <td>1100700373</td>\n",
       "      <td>2015-10-05 21:05:45</td>\n",
       "      <td>2015-10-05 21:05:45</td>\n",
       "      <td>PENDING</td>\n",
       "    </tr>\n",
       "    <tr>\n",
       "      <th>1</th>\n",
       "      <td>2,241</td>\n",
       "      <td>4,122</td>\n",
       "      <td>1100702444</td>\n",
       "      <td>2015-10-15 18:51:08</td>\n",
       "      <td>2015-10-15 19:03:44</td>\n",
       "      <td>PENDING</td>\n",
       "    </tr>\n",
       "    <tr>\n",
       "      <th>2</th>\n",
       "      <td>2,321</td>\n",
       "      <td>4,223</td>\n",
       "      <td>1100702550</td>\n",
       "      <td>2015-10-16 15:36:42</td>\n",
       "      <td>2015-10-16 15:42:23</td>\n",
       "      <td>PAID_SUCCESS</td>\n",
       "    </tr>\n",
       "    <tr>\n",
       "      <th>3</th>\n",
       "      <td>2,341</td>\n",
       "      <td>4,122</td>\n",
       "      <td>1100702444</td>\n",
       "      <td>2015-10-16 23:45:30</td>\n",
       "      <td>2015-10-16 23:54:33</td>\n",
       "      <td>PENDING</td>\n",
       "    </tr>\n",
       "    <tr>\n",
       "      <th>4</th>\n",
       "      <td>2,422</td>\n",
       "      <td>4,527</td>\n",
       "      <td>1100702884</td>\n",
       "      <td>2015-10-17 18:35:16</td>\n",
       "      <td>2015-10-17 18:45:13</td>\n",
       "      <td>PENDING</td>\n",
       "    </tr>\n",
       "  </tbody>\n",
       "</table>\n",
       "</div>"
      ],
      "text/plain": [
       "  ORDER_ID CUSTOMER_ID      BPCODE          CREATE_DATE          UPDATE_DATE  \\\n",
       "0    2,024          22  1100700373  2015-10-05 21:05:45  2015-10-05 21:05:45   \n",
       "1    2,241       4,122  1100702444  2015-10-15 18:51:08  2015-10-15 19:03:44   \n",
       "2    2,321       4,223  1100702550  2015-10-16 15:36:42  2015-10-16 15:42:23   \n",
       "3    2,341       4,122  1100702444  2015-10-16 23:45:30  2015-10-16 23:54:33   \n",
       "4    2,422       4,527  1100702884  2015-10-17 18:35:16  2015-10-17 18:45:13   \n",
       "\n",
       "         STATUS  \n",
       "0       PENDING  \n",
       "1       PENDING  \n",
       "2  PAID_SUCCESS  \n",
       "3       PENDING  \n",
       "4       PENDING  "
      ]
     },
     "execution_count": 1,
     "metadata": {},
     "output_type": "execute_result"
    }
   ],
   "source": [
    "import pandas as pd\n",
    "order = pd.read_csv('../2_data/20180319/order.csv')\n",
    "order.head()"
   ]
  },
  {
   "cell_type": "markdown",
   "metadata": {},
   "source": [
    "### 2. Change data type"
   ]
  },
  {
   "cell_type": "markdown",
   "metadata": {},
   "source": [
    "เปลี่ยน order_id กับ cust_id ให้เป็น int "
   ]
  },
  {
   "cell_type": "code",
   "execution_count": 2,
   "metadata": {},
   "outputs": [
    {
     "data": {
      "text/html": [
       "<div>\n",
       "<style>\n",
       "    .dataframe thead tr:only-child th {\n",
       "        text-align: right;\n",
       "    }\n",
       "\n",
       "    .dataframe thead th {\n",
       "        text-align: left;\n",
       "    }\n",
       "\n",
       "    .dataframe tbody tr th {\n",
       "        vertical-align: top;\n",
       "    }\n",
       "</style>\n",
       "<table border=\"1\" class=\"dataframe\">\n",
       "  <thead>\n",
       "    <tr style=\"text-align: right;\">\n",
       "      <th></th>\n",
       "      <th>ORDER_ID</th>\n",
       "      <th>CUSTOMER_ID</th>\n",
       "      <th>BPCODE</th>\n",
       "      <th>CREATE_DATE</th>\n",
       "      <th>UPDATE_DATE</th>\n",
       "      <th>STATUS</th>\n",
       "    </tr>\n",
       "  </thead>\n",
       "  <tbody>\n",
       "    <tr>\n",
       "      <th>0</th>\n",
       "      <td>2024</td>\n",
       "      <td>22</td>\n",
       "      <td>1100700373</td>\n",
       "      <td>2015-10-05 21:05:45</td>\n",
       "      <td>2015-10-05 21:05:45</td>\n",
       "      <td>PENDING</td>\n",
       "    </tr>\n",
       "    <tr>\n",
       "      <th>1</th>\n",
       "      <td>2241</td>\n",
       "      <td>4122</td>\n",
       "      <td>1100702444</td>\n",
       "      <td>2015-10-15 18:51:08</td>\n",
       "      <td>2015-10-15 19:03:44</td>\n",
       "      <td>PENDING</td>\n",
       "    </tr>\n",
       "    <tr>\n",
       "      <th>2</th>\n",
       "      <td>2321</td>\n",
       "      <td>4223</td>\n",
       "      <td>1100702550</td>\n",
       "      <td>2015-10-16 15:36:42</td>\n",
       "      <td>2015-10-16 15:42:23</td>\n",
       "      <td>PAID_SUCCESS</td>\n",
       "    </tr>\n",
       "    <tr>\n",
       "      <th>3</th>\n",
       "      <td>2341</td>\n",
       "      <td>4122</td>\n",
       "      <td>1100702444</td>\n",
       "      <td>2015-10-16 23:45:30</td>\n",
       "      <td>2015-10-16 23:54:33</td>\n",
       "      <td>PENDING</td>\n",
       "    </tr>\n",
       "    <tr>\n",
       "      <th>4</th>\n",
       "      <td>2422</td>\n",
       "      <td>4527</td>\n",
       "      <td>1100702884</td>\n",
       "      <td>2015-10-17 18:35:16</td>\n",
       "      <td>2015-10-17 18:45:13</td>\n",
       "      <td>PENDING</td>\n",
       "    </tr>\n",
       "  </tbody>\n",
       "</table>\n",
       "</div>"
      ],
      "text/plain": [
       "   ORDER_ID  CUSTOMER_ID      BPCODE          CREATE_DATE  \\\n",
       "0      2024           22  1100700373  2015-10-05 21:05:45   \n",
       "1      2241         4122  1100702444  2015-10-15 18:51:08   \n",
       "2      2321         4223  1100702550  2015-10-16 15:36:42   \n",
       "3      2341         4122  1100702444  2015-10-16 23:45:30   \n",
       "4      2422         4527  1100702884  2015-10-17 18:35:16   \n",
       "\n",
       "           UPDATE_DATE        STATUS  \n",
       "0  2015-10-05 21:05:45       PENDING  \n",
       "1  2015-10-15 19:03:44       PENDING  \n",
       "2  2015-10-16 15:42:23  PAID_SUCCESS  \n",
       "3  2015-10-16 23:54:33       PENDING  \n",
       "4  2015-10-17 18:45:13       PENDING  "
      ]
     },
     "execution_count": 2,
     "metadata": {},
     "output_type": "execute_result"
    }
   ],
   "source": [
    "import locale\n",
    "locale.setlocale( locale.LC_ALL, 'en_US.UTF-8' ) \n",
    "\n",
    "new_order = order[:]\n",
    "new_order['ORDER_ID'] = order['ORDER_ID'].apply(locale.atoi)\n",
    "new_order['CUSTOMER_ID'] = order['CUSTOMER_ID'].apply(locale.atoi)\n",
    "new_order.head()"
   ]
  },
  {
   "cell_type": "markdown",
   "metadata": {},
   "source": [
    "เปลี่ยน CREATE_DATE, UPDATE_DATE เป็น datetime"
   ]
  },
  {
   "cell_type": "code",
   "execution_count": 3,
   "metadata": {},
   "outputs": [],
   "source": [
    "new_order['UPDATE_DATE'] = pd.to_datetime(new_order['UPDATE_DATE'])\n",
    "new_order['CREATE_DATE'] = pd.to_datetime(new_order['CREATE_DATE'])"
   ]
  },
  {
   "cell_type": "code",
   "execution_count": 4,
   "metadata": {
    "scrolled": true
   },
   "outputs": [
    {
     "data": {
      "text/plain": [
       "ORDER_ID                int64\n",
       "CUSTOMER_ID             int64\n",
       "BPCODE                  int64\n",
       "CREATE_DATE    datetime64[ns]\n",
       "UPDATE_DATE    datetime64[ns]\n",
       "STATUS                 object\n",
       "dtype: object"
      ]
     },
     "execution_count": 4,
     "metadata": {},
     "output_type": "execute_result"
    }
   ],
   "source": [
    "new_order.dtypes"
   ]
  },
  {
   "cell_type": "markdown",
   "metadata": {},
   "source": [
    "### 3. Check % of missing value"
   ]
  },
  {
   "cell_type": "code",
   "execution_count": 5,
   "metadata": {},
   "outputs": [
    {
     "data": {
      "text/plain": [
       "ORDER_ID       0\n",
       "CUSTOMER_ID    0\n",
       "BPCODE         0\n",
       "CREATE_DATE    0\n",
       "UPDATE_DATE    0\n",
       "STATUS         0\n",
       "dtype: int64"
      ]
     },
     "execution_count": 5,
     "metadata": {},
     "output_type": "execute_result"
    }
   ],
   "source": [
    "new_order.isnull().sum(axis=0)"
   ]
  },
  {
   "cell_type": "markdown",
   "metadata": {},
   "source": [
    "### 4. Check Type of distribution (ตรวจข้อมูลโดยการ plot อย่างง่ายๆ)"
   ]
  },
  {
   "cell_type": "code",
   "execution_count": 6,
   "metadata": {},
   "outputs": [
    {
     "name": "stdout",
     "output_type": "stream",
     "text": [
      "ALL 11953\n"
     ]
    }
   ],
   "source": [
    "print('ALL',len(new_order))"
   ]
  },
  {
   "cell_type": "code",
   "execution_count": 7,
   "metadata": {},
   "outputs": [
    {
     "data": {
      "text/plain": [
       "STATUS\n",
       "CANCEL                 1086\n",
       "PAID_FAIL                 5\n",
       "PAID_SUCCESS           4433\n",
       "PENDING                6250\n",
       "PENDING_TMN_CREATED     179\n",
       "Name: ORDER_ID, dtype: int64"
      ]
     },
     "execution_count": 7,
     "metadata": {},
     "output_type": "execute_result"
    }
   ],
   "source": [
    "status_grouped = new_order.groupby(['STATUS'], axis=0)['ORDER_ID'].count()\n",
    "status_grouped"
   ]
  },
  {
   "cell_type": "code",
   "execution_count": 8,
   "metadata": {},
   "outputs": [
    {
     "data": {
      "image/png": "[encoded data removed]",
      "text/plain": [
       "<matplotlib.figure.Figure at 0x10dbf3048>"
      ]
     },
     "metadata": {},
     "output_type": "display_data"
    }
   ],
   "source": [
    "import matplotlib.pyplot as plt\n",
    "import numpy as np\n",
    "\n",
    "x = np.arange(len(status_grouped.keys()))\n",
    "money = status_grouped.values\n",
    "\n",
    "fig, ax = plt.subplots(figsize=(12,4))\n",
    "plt.bar(x, money, width=0.3)\n",
    "plt.xticks(x, status_grouped.keys())\n",
    "plt.show()"
   ]
  },
  {
   "cell_type": "markdown",
   "metadata": {},
   "source": [
    "## Compare Date & time field"
   ]
  },
  {
   "cell_type": "code",
   "execution_count": 9,
   "metadata": {
    "scrolled": true
   },
   "outputs": [
    {
     "data": {
      "text/html": [
       "<div>\n",
       "<style>\n",
       "    .dataframe thead tr:only-child th {\n",
       "        text-align: right;\n",
       "    }\n",
       "\n",
       "    .dataframe thead th {\n",
       "        text-align: left;\n",
       "    }\n",
       "\n",
       "    .dataframe tbody tr th {\n",
       "        vertical-align: top;\n",
       "    }\n",
       "</style>\n",
       "<table border=\"1\" class=\"dataframe\">\n",
       "  <thead>\n",
       "    <tr style=\"text-align: right;\">\n",
       "      <th></th>\n",
       "      <th>ORDER_ID</th>\n",
       "      <th>CUSTOMER_ID</th>\n",
       "      <th>BPCODE</th>\n",
       "      <th>CREATE_DATE</th>\n",
       "      <th>UPDATE_DATE</th>\n",
       "      <th>STATUS</th>\n",
       "      <th>diff_time</th>\n",
       "    </tr>\n",
       "  </thead>\n",
       "  <tbody>\n",
       "    <tr>\n",
       "      <th>0</th>\n",
       "      <td>2024</td>\n",
       "      <td>22</td>\n",
       "      <td>1100700373</td>\n",
       "      <td>2015-10-05 21:05:45</td>\n",
       "      <td>2015-10-05 21:05:45</td>\n",
       "      <td>PENDING</td>\n",
       "      <td>0.0</td>\n",
       "    </tr>\n",
       "    <tr>\n",
       "      <th>1</th>\n",
       "      <td>2241</td>\n",
       "      <td>4122</td>\n",
       "      <td>1100702444</td>\n",
       "      <td>2015-10-15 18:51:08</td>\n",
       "      <td>2015-10-15 19:03:44</td>\n",
       "      <td>PENDING</td>\n",
       "      <td>12.0</td>\n",
       "    </tr>\n",
       "    <tr>\n",
       "      <th>2</th>\n",
       "      <td>2321</td>\n",
       "      <td>4223</td>\n",
       "      <td>1100702550</td>\n",
       "      <td>2015-10-16 15:36:42</td>\n",
       "      <td>2015-10-16 15:42:23</td>\n",
       "      <td>PAID_SUCCESS</td>\n",
       "      <td>5.0</td>\n",
       "    </tr>\n",
       "    <tr>\n",
       "      <th>3</th>\n",
       "      <td>2341</td>\n",
       "      <td>4122</td>\n",
       "      <td>1100702444</td>\n",
       "      <td>2015-10-16 23:45:30</td>\n",
       "      <td>2015-10-16 23:54:33</td>\n",
       "      <td>PENDING</td>\n",
       "      <td>9.0</td>\n",
       "    </tr>\n",
       "    <tr>\n",
       "      <th>4</th>\n",
       "      <td>2422</td>\n",
       "      <td>4527</td>\n",
       "      <td>1100702884</td>\n",
       "      <td>2015-10-17 18:35:16</td>\n",
       "      <td>2015-10-17 18:45:13</td>\n",
       "      <td>PENDING</td>\n",
       "      <td>9.0</td>\n",
       "    </tr>\n",
       "  </tbody>\n",
       "</table>\n",
       "</div>"
      ],
      "text/plain": [
       "   ORDER_ID  CUSTOMER_ID      BPCODE         CREATE_DATE         UPDATE_DATE  \\\n",
       "0      2024           22  1100700373 2015-10-05 21:05:45 2015-10-05 21:05:45   \n",
       "1      2241         4122  1100702444 2015-10-15 18:51:08 2015-10-15 19:03:44   \n",
       "2      2321         4223  1100702550 2015-10-16 15:36:42 2015-10-16 15:42:23   \n",
       "3      2341         4122  1100702444 2015-10-16 23:45:30 2015-10-16 23:54:33   \n",
       "4      2422         4527  1100702884 2015-10-17 18:35:16 2015-10-17 18:45:13   \n",
       "\n",
       "         STATUS  diff_time  \n",
       "0       PENDING        0.0  \n",
       "1       PENDING       12.0  \n",
       "2  PAID_SUCCESS        5.0  \n",
       "3       PENDING        9.0  \n",
       "4       PENDING        9.0  "
      ]
     },
     "execution_count": 9,
     "metadata": {},
     "output_type": "execute_result"
    }
   ],
   "source": [
    "from datetime import datetime as dt\n",
    "from dateutil.parser import parse\n",
    "\n",
    "time_diff = (new_order['UPDATE_DATE']- new_order['CREATE_DATE']).astype('timedelta64[m]')\n",
    "df_time_diff=pd.DataFrame(time_diff, columns=['diff_time'])\n",
    "join_diff = pd.concat([new_order, df_time_diff], axis=1, join='inner')\n",
    "join_diff.head()"
   ]
  },
  {
   "cell_type": "markdown",
   "metadata": {},
   "source": [
    "เอาแถวที่ diff_time ติดลบออก (เนื่องจากข้อมูลที่ถูกต้อง UPDATE_DATE ต้องเกิดหลัง CREATE_DATE เสมอ)"
   ]
  },
  {
   "cell_type": "code",
   "execution_count": 10,
   "metadata": {},
   "outputs": [
    {
     "data": {
      "text/html": [
       "<div>\n",
       "<style>\n",
       "    .dataframe thead tr:only-child th {\n",
       "        text-align: right;\n",
       "    }\n",
       "\n",
       "    .dataframe thead th {\n",
       "        text-align: left;\n",
       "    }\n",
       "\n",
       "    .dataframe tbody tr th {\n",
       "        vertical-align: top;\n",
       "    }\n",
       "</style>\n",
       "<table border=\"1\" class=\"dataframe\">\n",
       "  <thead>\n",
       "    <tr style=\"text-align: right;\">\n",
       "      <th></th>\n",
       "      <th>ORDER_ID</th>\n",
       "      <th>CUSTOMER_ID</th>\n",
       "      <th>BPCODE</th>\n",
       "      <th>CREATE_DATE</th>\n",
       "      <th>UPDATE_DATE</th>\n",
       "      <th>STATUS</th>\n",
       "      <th>diff_time</th>\n",
       "    </tr>\n",
       "  </thead>\n",
       "  <tbody>\n",
       "    <tr>\n",
       "      <th>0</th>\n",
       "      <td>2024</td>\n",
       "      <td>22</td>\n",
       "      <td>1100700373</td>\n",
       "      <td>2015-10-05 21:05:45</td>\n",
       "      <td>2015-10-05 21:05:45</td>\n",
       "      <td>PENDING</td>\n",
       "      <td>0.0</td>\n",
       "    </tr>\n",
       "    <tr>\n",
       "      <th>1</th>\n",
       "      <td>2241</td>\n",
       "      <td>4122</td>\n",
       "      <td>1100702444</td>\n",
       "      <td>2015-10-15 18:51:08</td>\n",
       "      <td>2015-10-15 19:03:44</td>\n",
       "      <td>PENDING</td>\n",
       "      <td>12.0</td>\n",
       "    </tr>\n",
       "    <tr>\n",
       "      <th>2</th>\n",
       "      <td>2321</td>\n",
       "      <td>4223</td>\n",
       "      <td>1100702550</td>\n",
       "      <td>2015-10-16 15:36:42</td>\n",
       "      <td>2015-10-16 15:42:23</td>\n",
       "      <td>PAID_SUCCESS</td>\n",
       "      <td>5.0</td>\n",
       "    </tr>\n",
       "    <tr>\n",
       "      <th>3</th>\n",
       "      <td>2341</td>\n",
       "      <td>4122</td>\n",
       "      <td>1100702444</td>\n",
       "      <td>2015-10-16 23:45:30</td>\n",
       "      <td>2015-10-16 23:54:33</td>\n",
       "      <td>PENDING</td>\n",
       "      <td>9.0</td>\n",
       "    </tr>\n",
       "    <tr>\n",
       "      <th>4</th>\n",
       "      <td>2422</td>\n",
       "      <td>4527</td>\n",
       "      <td>1100702884</td>\n",
       "      <td>2015-10-17 18:35:16</td>\n",
       "      <td>2015-10-17 18:45:13</td>\n",
       "      <td>PENDING</td>\n",
       "      <td>9.0</td>\n",
       "    </tr>\n",
       "  </tbody>\n",
       "</table>\n",
       "</div>"
      ],
      "text/plain": [
       "   ORDER_ID  CUSTOMER_ID      BPCODE         CREATE_DATE         UPDATE_DATE  \\\n",
       "0      2024           22  1100700373 2015-10-05 21:05:45 2015-10-05 21:05:45   \n",
       "1      2241         4122  1100702444 2015-10-15 18:51:08 2015-10-15 19:03:44   \n",
       "2      2321         4223  1100702550 2015-10-16 15:36:42 2015-10-16 15:42:23   \n",
       "3      2341         4122  1100702444 2015-10-16 23:45:30 2015-10-16 23:54:33   \n",
       "4      2422         4527  1100702884 2015-10-17 18:35:16 2015-10-17 18:45:13   \n",
       "\n",
       "         STATUS  diff_time  \n",
       "0       PENDING        0.0  \n",
       "1       PENDING       12.0  \n",
       "2  PAID_SUCCESS        5.0  \n",
       "3       PENDING        9.0  \n",
       "4       PENDING        9.0  "
      ]
     },
     "execution_count": 10,
     "metadata": {},
     "output_type": "execute_result"
    }
   ],
   "source": [
    "time_join_filt = join_diff[join_diff.diff_time >= 0]\n",
    "time_join_filt.head()"
   ]
  },
  {
   "cell_type": "code",
   "execution_count": 11,
   "metadata": {},
   "outputs": [
    {
     "data": {
      "text/plain": [
       "ORDER_ID                      1001\n",
       "CUSTOMER_ID                     21\n",
       "BPCODE                  1100316131\n",
       "CREATE_DATE    2015-10-05 18:39:10\n",
       "UPDATE_DATE    2015-10-05 18:39:10\n",
       "STATUS                      CANCEL\n",
       "diff_time                        0\n",
       "dtype: object"
      ]
     },
     "execution_count": 11,
     "metadata": {},
     "output_type": "execute_result"
    }
   ],
   "source": [
    "time_join_filt.min()"
   ]
  },
  {
   "cell_type": "code",
   "execution_count": 12,
   "metadata": {},
   "outputs": [
    {
     "data": {
      "text/plain": [
       "ORDER_ID                    143382\n",
       "CUSTOMER_ID                 259563\n",
       "BPCODE                  1100911110\n",
       "CREATE_DATE    2018-01-20 10:18:07\n",
       "UPDATE_DATE    2018-01-20 10:29:28\n",
       "STATUS         PENDING_TMN_CREATED\n",
       "diff_time                   961314\n",
       "dtype: object"
      ]
     },
     "execution_count": 12,
     "metadata": {},
     "output_type": "execute_result"
    }
   ],
   "source": [
    "time_join_filt.max()"
   ]
  },
  {
   "cell_type": "code",
   "execution_count": 13,
   "metadata": {
    "scrolled": true
   },
   "outputs": [
    {
     "name": "stdout",
     "output_type": "stream",
     "text": [
      "(11916, 7)\n"
     ]
    },
    {
     "data": {
      "text/html": [
       "<div>\n",
       "<style>\n",
       "    .dataframe thead tr:only-child th {\n",
       "        text-align: right;\n",
       "    }\n",
       "\n",
       "    .dataframe thead th {\n",
       "        text-align: left;\n",
       "    }\n",
       "\n",
       "    .dataframe tbody tr th {\n",
       "        vertical-align: top;\n",
       "    }\n",
       "</style>\n",
       "<table border=\"1\" class=\"dataframe\">\n",
       "  <thead>\n",
       "    <tr style=\"text-align: right;\">\n",
       "      <th></th>\n",
       "      <th>ORDER_ID</th>\n",
       "      <th>CUSTOMER_ID</th>\n",
       "      <th>BPCODE</th>\n",
       "      <th>CREATE_DATE</th>\n",
       "      <th>UPDATE_DATE</th>\n",
       "      <th>STATUS</th>\n",
       "      <th>diff_time</th>\n",
       "    </tr>\n",
       "  </thead>\n",
       "  <tbody>\n",
       "    <tr>\n",
       "      <th>0</th>\n",
       "      <td>2024</td>\n",
       "      <td>22</td>\n",
       "      <td>1100700373</td>\n",
       "      <td>2015-10-05 21:05:45</td>\n",
       "      <td>2015-10-05 21:05:45</td>\n",
       "      <td>PENDING</td>\n",
       "      <td>0.0</td>\n",
       "    </tr>\n",
       "    <tr>\n",
       "      <th>1</th>\n",
       "      <td>2241</td>\n",
       "      <td>4122</td>\n",
       "      <td>1100702444</td>\n",
       "      <td>2015-10-15 18:51:08</td>\n",
       "      <td>2015-10-15 19:03:44</td>\n",
       "      <td>PENDING</td>\n",
       "      <td>12.0</td>\n",
       "    </tr>\n",
       "    <tr>\n",
       "      <th>2</th>\n",
       "      <td>2321</td>\n",
       "      <td>4223</td>\n",
       "      <td>1100702550</td>\n",
       "      <td>2015-10-16 15:36:42</td>\n",
       "      <td>2015-10-16 15:42:23</td>\n",
       "      <td>PAID_SUCCESS</td>\n",
       "      <td>5.0</td>\n",
       "    </tr>\n",
       "    <tr>\n",
       "      <th>3</th>\n",
       "      <td>2341</td>\n",
       "      <td>4122</td>\n",
       "      <td>1100702444</td>\n",
       "      <td>2015-10-16 23:45:30</td>\n",
       "      <td>2015-10-16 23:54:33</td>\n",
       "      <td>PENDING</td>\n",
       "      <td>9.0</td>\n",
       "    </tr>\n",
       "    <tr>\n",
       "      <th>4</th>\n",
       "      <td>2422</td>\n",
       "      <td>4527</td>\n",
       "      <td>1100702884</td>\n",
       "      <td>2015-10-17 18:35:16</td>\n",
       "      <td>2015-10-17 18:45:13</td>\n",
       "      <td>PENDING</td>\n",
       "      <td>9.0</td>\n",
       "    </tr>\n",
       "  </tbody>\n",
       "</table>\n",
       "</div>"
      ],
      "text/plain": [
       "   ORDER_ID  CUSTOMER_ID      BPCODE         CREATE_DATE         UPDATE_DATE  \\\n",
       "0      2024           22  1100700373 2015-10-05 21:05:45 2015-10-05 21:05:45   \n",
       "1      2241         4122  1100702444 2015-10-15 18:51:08 2015-10-15 19:03:44   \n",
       "2      2321         4223  1100702550 2015-10-16 15:36:42 2015-10-16 15:42:23   \n",
       "3      2341         4122  1100702444 2015-10-16 23:45:30 2015-10-16 23:54:33   \n",
       "4      2422         4527  1100702884 2015-10-17 18:35:16 2015-10-17 18:45:13   \n",
       "\n",
       "         STATUS  diff_time  \n",
       "0       PENDING        0.0  \n",
       "1       PENDING       12.0  \n",
       "2  PAID_SUCCESS        5.0  \n",
       "3       PENDING        9.0  \n",
       "4       PENDING        9.0  "
      ]
     },
     "execution_count": 13,
     "metadata": {},
     "output_type": "execute_result"
    }
   ],
   "source": [
    "time_cleaned = time_join_filt[(time_join_filt['CREATE_DATE'] > '2015-01-01 00:00:00') & (time_join_filt['CREATE_DATE'] < '2018-01-21 00:00:00')]\n",
    "print(time_cleaned.shape)\n",
    "time_cleaned.head()"
   ]
  },
  {
   "cell_type": "code",
   "execution_count": 14,
   "metadata": {},
   "outputs": [
    {
     "data": {
      "text/plain": [
       "ORDER_ID                      1001\n",
       "CUSTOMER_ID                     21\n",
       "BPCODE                  1100316131\n",
       "CREATE_DATE    2015-10-05 18:39:10\n",
       "UPDATE_DATE    2015-10-05 18:39:10\n",
       "STATUS                      CANCEL\n",
       "diff_time                        0\n",
       "dtype: object"
      ]
     },
     "execution_count": 14,
     "metadata": {},
     "output_type": "execute_result"
    }
   ],
   "source": [
    "time_cleaned.min()"
   ]
  },
  {
   "cell_type": "code",
   "execution_count": 15,
   "metadata": {},
   "outputs": [
    {
     "data": {
      "text/plain": [
       "ORDER_ID                    143382\n",
       "CUSTOMER_ID                 259563\n",
       "BPCODE                  1100911110\n",
       "CREATE_DATE    2018-01-20 10:18:07\n",
       "UPDATE_DATE    2018-01-20 10:29:28\n",
       "STATUS         PENDING_TMN_CREATED\n",
       "diff_time                   961314\n",
       "dtype: object"
      ]
     },
     "execution_count": 15,
     "metadata": {},
     "output_type": "execute_result"
    }
   ],
   "source": [
    "time_cleaned.max()"
   ]
  },
  {
   "cell_type": "code",
   "execution_count": 16,
   "metadata": {},
   "outputs": [
    {
     "data": {
      "text/html": [
       "<div>\n",
       "<style>\n",
       "    .dataframe thead tr:only-child th {\n",
       "        text-align: right;\n",
       "    }\n",
       "\n",
       "    .dataframe thead th {\n",
       "        text-align: left;\n",
       "    }\n",
       "\n",
       "    .dataframe tbody tr th {\n",
       "        vertical-align: top;\n",
       "    }\n",
       "</style>\n",
       "<table border=\"1\" class=\"dataframe\">\n",
       "  <thead>\n",
       "    <tr style=\"text-align: right;\">\n",
       "      <th></th>\n",
       "      <th>ORDER_ID</th>\n",
       "      <th>CUSTOMER_ID</th>\n",
       "      <th>BPCODE</th>\n",
       "      <th>CREATE_DATE</th>\n",
       "      <th>UPDATE_DATE</th>\n",
       "      <th>STATUS</th>\n",
       "    </tr>\n",
       "  </thead>\n",
       "  <tbody>\n",
       "    <tr>\n",
       "      <th>0</th>\n",
       "      <td>2024</td>\n",
       "      <td>22</td>\n",
       "      <td>1100700373</td>\n",
       "      <td>2015-10-05 21:05:45</td>\n",
       "      <td>2015-10-05 21:05:45</td>\n",
       "      <td>PENDING</td>\n",
       "    </tr>\n",
       "    <tr>\n",
       "      <th>1</th>\n",
       "      <td>2241</td>\n",
       "      <td>4122</td>\n",
       "      <td>1100702444</td>\n",
       "      <td>2015-10-15 18:51:08</td>\n",
       "      <td>2015-10-15 19:03:44</td>\n",
       "      <td>PENDING</td>\n",
       "    </tr>\n",
       "    <tr>\n",
       "      <th>2</th>\n",
       "      <td>2321</td>\n",
       "      <td>4223</td>\n",
       "      <td>1100702550</td>\n",
       "      <td>2015-10-16 15:36:42</td>\n",
       "      <td>2015-10-16 15:42:23</td>\n",
       "      <td>PAID_SUCCESS</td>\n",
       "    </tr>\n",
       "    <tr>\n",
       "      <th>3</th>\n",
       "      <td>2341</td>\n",
       "      <td>4122</td>\n",
       "      <td>1100702444</td>\n",
       "      <td>2015-10-16 23:45:30</td>\n",
       "      <td>2015-10-16 23:54:33</td>\n",
       "      <td>PENDING</td>\n",
       "    </tr>\n",
       "    <tr>\n",
       "      <th>4</th>\n",
       "      <td>2422</td>\n",
       "      <td>4527</td>\n",
       "      <td>1100702884</td>\n",
       "      <td>2015-10-17 18:35:16</td>\n",
       "      <td>2015-10-17 18:45:13</td>\n",
       "      <td>PENDING</td>\n",
       "    </tr>\n",
       "  </tbody>\n",
       "</table>\n",
       "</div>"
      ],
      "text/plain": [
       "   ORDER_ID  CUSTOMER_ID      BPCODE         CREATE_DATE         UPDATE_DATE  \\\n",
       "0      2024           22  1100700373 2015-10-05 21:05:45 2015-10-05 21:05:45   \n",
       "1      2241         4122  1100702444 2015-10-15 18:51:08 2015-10-15 19:03:44   \n",
       "2      2321         4223  1100702550 2015-10-16 15:36:42 2015-10-16 15:42:23   \n",
       "3      2341         4122  1100702444 2015-10-16 23:45:30 2015-10-16 23:54:33   \n",
       "4      2422         4527  1100702884 2015-10-17 18:35:16 2015-10-17 18:45:13   \n",
       "\n",
       "         STATUS  \n",
       "0       PENDING  \n",
       "1       PENDING  \n",
       "2  PAID_SUCCESS  \n",
       "3       PENDING  \n",
       "4       PENDING  "
      ]
     },
     "execution_count": 16,
     "metadata": {},
     "output_type": "execute_result"
    }
   ],
   "source": [
    "del time_cleaned['diff_time']\n",
    "new_order = time_cleaned\n",
    "new_order.head()"
   ]
  },
  {
   "cell_type": "code",
   "execution_count": 17,
   "metadata": {},
   "outputs": [
    {
     "data": {
      "text/plain": [
       "ORDER_ID       0\n",
       "CUSTOMER_ID    0\n",
       "BPCODE         0\n",
       "CREATE_DATE    0\n",
       "UPDATE_DATE    0\n",
       "STATUS         0\n",
       "dtype: int64"
      ]
     },
     "execution_count": 17,
     "metadata": {},
     "output_type": "execute_result"
    }
   ],
   "source": [
    "new_order.isnull().sum()"
   ]
  },
  {
   "cell_type": "code",
   "execution_count": 18,
   "metadata": {},
   "outputs": [
    {
     "data": {
      "text/plain": [
       "ORDER_ID                int64\n",
       "CUSTOMER_ID             int64\n",
       "BPCODE                  int64\n",
       "CREATE_DATE    datetime64[ns]\n",
       "UPDATE_DATE    datetime64[ns]\n",
       "STATUS                 object\n",
       "dtype: object"
      ]
     },
     "execution_count": 18,
     "metadata": {},
     "output_type": "execute_result"
    }
   ],
   "source": [
    "new_order.dtypes"
   ]
  },
  {
   "cell_type": "code",
   "execution_count": 19,
   "metadata": {},
   "outputs": [
    {
     "data": {
      "image/png": "[encoded data removed]",
      "text/plain": [
       "<matplotlib.figure.Figure at 0x11658e278>"
      ]
     },
     "metadata": {},
     "output_type": "display_data"
    }
   ],
   "source": [
    "status_grouped = new_order.groupby(['STATUS'], axis=0)['ORDER_ID'].count()\n",
    "x = np.arange(len(status_grouped.keys()))\n",
    "money = status_grouped.values\n",
    "\n",
    "fig, ax = plt.subplots(figsize=(12,4))\n",
    "plt.bar(x, money, width=0.3)\n",
    "plt.xticks(x, status_grouped.keys())\n",
    "plt.show()"
   ]
  },
  {
   "cell_type": "code",
   "execution_count": 20,
   "metadata": {
    "collapsed": true
   },
   "outputs": [],
   "source": [
    "new_order.to_csv('../2_data/explored/order.csv', index = False)"
   ]
  },
  {
   "cell_type": "markdown",
   "metadata": {},
   "source": [
    "## รายการสั่งซื้อที่มีการชำระราคาเสร็จสิ้น (Paid_Success)"
   ]
  },
  {
   "cell_type": "code",
   "execution_count": 21,
   "metadata": {
    "scrolled": true
   },
   "outputs": [
    {
     "name": "stdout",
     "output_type": "stream",
     "text": [
      "(4425, 6)\n"
     ]
    },
    {
     "data": {
      "text/html": [
       "<div>\n",
       "<style>\n",
       "    .dataframe thead tr:only-child th {\n",
       "        text-align: right;\n",
       "    }\n",
       "\n",
       "    .dataframe thead th {\n",
       "        text-align: left;\n",
       "    }\n",
       "\n",
       "    .dataframe tbody tr th {\n",
       "        vertical-align: top;\n",
       "    }\n",
       "</style>\n",
       "<table border=\"1\" class=\"dataframe\">\n",
       "  <thead>\n",
       "    <tr style=\"text-align: right;\">\n",
       "      <th></th>\n",
       "      <th>ORDER_ID</th>\n",
       "      <th>CUSTOMER_ID</th>\n",
       "      <th>BPCODE</th>\n",
       "      <th>CREATE_DATE</th>\n",
       "      <th>UPDATE_DATE</th>\n",
       "      <th>STATUS</th>\n",
       "    </tr>\n",
       "  </thead>\n",
       "  <tbody>\n",
       "    <tr>\n",
       "      <th>2</th>\n",
       "      <td>2321</td>\n",
       "      <td>4223</td>\n",
       "      <td>1100702550</td>\n",
       "      <td>2015-10-16 15:36:42</td>\n",
       "      <td>2015-10-16 15:42:23</td>\n",
       "      <td>PAID_SUCCESS</td>\n",
       "    </tr>\n",
       "    <tr>\n",
       "      <th>6</th>\n",
       "      <td>2481</td>\n",
       "      <td>2509</td>\n",
       "      <td>1100605014</td>\n",
       "      <td>2015-10-18 20:50:15</td>\n",
       "      <td>2015-10-18 20:58:13</td>\n",
       "      <td>PAID_SUCCESS</td>\n",
       "    </tr>\n",
       "    <tr>\n",
       "      <th>10</th>\n",
       "      <td>2781</td>\n",
       "      <td>5445</td>\n",
       "      <td>1100703863</td>\n",
       "      <td>2015-10-26 11:22:23</td>\n",
       "      <td>2015-10-26 11:25:26</td>\n",
       "      <td>PAID_SUCCESS</td>\n",
       "    </tr>\n",
       "    <tr>\n",
       "      <th>12</th>\n",
       "      <td>3202</td>\n",
       "      <td>8263</td>\n",
       "      <td>1100561933</td>\n",
       "      <td>2015-11-01 16:44:23</td>\n",
       "      <td>2015-11-01 16:46:12</td>\n",
       "      <td>PAID_SUCCESS</td>\n",
       "    </tr>\n",
       "    <tr>\n",
       "      <th>20</th>\n",
       "      <td>3962</td>\n",
       "      <td>10702</td>\n",
       "      <td>1100708595</td>\n",
       "      <td>2015-11-11 10:22:41</td>\n",
       "      <td>2015-11-11 10:33:29</td>\n",
       "      <td>PAID_SUCCESS</td>\n",
       "    </tr>\n",
       "  </tbody>\n",
       "</table>\n",
       "</div>"
      ],
      "text/plain": [
       "    ORDER_ID  CUSTOMER_ID      BPCODE         CREATE_DATE         UPDATE_DATE  \\\n",
       "2       2321         4223  1100702550 2015-10-16 15:36:42 2015-10-16 15:42:23   \n",
       "6       2481         2509  1100605014 2015-10-18 20:50:15 2015-10-18 20:58:13   \n",
       "10      2781         5445  1100703863 2015-10-26 11:22:23 2015-10-26 11:25:26   \n",
       "12      3202         8263  1100561933 2015-11-01 16:44:23 2015-11-01 16:46:12   \n",
       "20      3962        10702  1100708595 2015-11-11 10:22:41 2015-11-11 10:33:29   \n",
       "\n",
       "          STATUS  \n",
       "2   PAID_SUCCESS  \n",
       "6   PAID_SUCCESS  \n",
       "10  PAID_SUCCESS  \n",
       "12  PAID_SUCCESS  \n",
       "20  PAID_SUCCESS  "
      ]
     },
     "execution_count": 21,
     "metadata": {},
     "output_type": "execute_result"
    }
   ],
   "source": [
    "new_order_success = new_order[new_order['STATUS'] == \"PAID_SUCCESS\"]\n",
    "print(new_order_success.shape)\n",
    "new_order_success.head()"
   ]
  },
  {
   "cell_type": "code",
   "execution_count": 22,
   "metadata": {
    "collapsed": true
   },
   "outputs": [],
   "source": [
    "new_order_success.to_csv('../2_data/prepared/order_success.csv', index = False)"
   ]
  },
  {
   "cell_type": "markdown",
   "metadata": {},
   "source": [
    "## รายการสั่งซื้อที่ยกเลิก (Cancel)"
   ]
  },
  {
   "cell_type": "code",
   "execution_count": 23,
   "metadata": {
    "scrolled": true
   },
   "outputs": [
    {
     "name": "stdout",
     "output_type": "stream",
     "text": [
      "(1057, 6)\n"
     ]
    },
    {
     "data": {
      "text/html": [
       "<div>\n",
       "<style>\n",
       "    .dataframe thead tr:only-child th {\n",
       "        text-align: right;\n",
       "    }\n",
       "\n",
       "    .dataframe thead th {\n",
       "        text-align: left;\n",
       "    }\n",
       "\n",
       "    .dataframe tbody tr th {\n",
       "        vertical-align: top;\n",
       "    }\n",
       "</style>\n",
       "<table border=\"1\" class=\"dataframe\">\n",
       "  <thead>\n",
       "    <tr style=\"text-align: right;\">\n",
       "      <th></th>\n",
       "      <th>ORDER_ID</th>\n",
       "      <th>CUSTOMER_ID</th>\n",
       "      <th>BPCODE</th>\n",
       "      <th>CREATE_DATE</th>\n",
       "      <th>UPDATE_DATE</th>\n",
       "      <th>STATUS</th>\n",
       "    </tr>\n",
       "  </thead>\n",
       "  <tbody>\n",
       "    <tr>\n",
       "      <th>33</th>\n",
       "      <td>5341</td>\n",
       "      <td>13842</td>\n",
       "      <td>1100712196</td>\n",
       "      <td>2015-11-25 11:31:48</td>\n",
       "      <td>2017-06-20 10:54:31</td>\n",
       "      <td>CANCEL</td>\n",
       "    </tr>\n",
       "    <tr>\n",
       "      <th>34</th>\n",
       "      <td>5342</td>\n",
       "      <td>13842</td>\n",
       "      <td>1100712196</td>\n",
       "      <td>2015-11-25 11:31:48</td>\n",
       "      <td>2017-06-20 10:54:31</td>\n",
       "      <td>CANCEL</td>\n",
       "    </tr>\n",
       "    <tr>\n",
       "      <th>38</th>\n",
       "      <td>5561</td>\n",
       "      <td>13842</td>\n",
       "      <td>1100712196</td>\n",
       "      <td>2015-11-29 12:56:00</td>\n",
       "      <td>2017-06-20 10:55:13</td>\n",
       "      <td>CANCEL</td>\n",
       "    </tr>\n",
       "    <tr>\n",
       "      <th>427</th>\n",
       "      <td>9441</td>\n",
       "      <td>13842</td>\n",
       "      <td>1100712196</td>\n",
       "      <td>2016-01-01 20:05:27</td>\n",
       "      <td>2017-06-20 10:55:55</td>\n",
       "      <td>CANCEL</td>\n",
       "    </tr>\n",
       "    <tr>\n",
       "      <th>429</th>\n",
       "      <td>9481</td>\n",
       "      <td>13842</td>\n",
       "      <td>1100712196</td>\n",
       "      <td>2016-01-02 12:00:38</td>\n",
       "      <td>2017-06-20 10:55:47</td>\n",
       "      <td>CANCEL</td>\n",
       "    </tr>\n",
       "  </tbody>\n",
       "</table>\n",
       "</div>"
      ],
      "text/plain": [
       "     ORDER_ID  CUSTOMER_ID      BPCODE         CREATE_DATE  \\\n",
       "33       5341        13842  1100712196 2015-11-25 11:31:48   \n",
       "34       5342        13842  1100712196 2015-11-25 11:31:48   \n",
       "38       5561        13842  1100712196 2015-11-29 12:56:00   \n",
       "427      9441        13842  1100712196 2016-01-01 20:05:27   \n",
       "429      9481        13842  1100712196 2016-01-02 12:00:38   \n",
       "\n",
       "            UPDATE_DATE  STATUS  \n",
       "33  2017-06-20 10:54:31  CANCEL  \n",
       "34  2017-06-20 10:54:31  CANCEL  \n",
       "38  2017-06-20 10:55:13  CANCEL  \n",
       "427 2017-06-20 10:55:55  CANCEL  \n",
       "429 2017-06-20 10:55:47  CANCEL  "
      ]
     },
     "execution_count": 23,
     "metadata": {},
     "output_type": "execute_result"
    }
   ],
   "source": [
    "new_order_cancel = new_order[new_order['STATUS'] == \"CANCEL\"]\n",
    "print(new_order_cancel.shape)\n",
    "new_order_cancel.head()"
   ]
  },
  {
   "cell_type": "code",
   "execution_count": 24,
   "metadata": {
    "collapsed": true
   },
   "outputs": [],
   "source": [
    "new_order_cancel.to_csv('../2_data/prepared/order_cancel.csv', index =False)"
   ]
  },
  {
   "cell_type": "markdown",
   "metadata": {},
   "source": [
    "## อยู่ระหว่างการทำรายการ (Pending)"
   ]
  },
  {
   "cell_type": "code",
   "execution_count": 25,
   "metadata": {
    "scrolled": true
   },
   "outputs": [
    {
     "name": "stdout",
     "output_type": "stream",
     "text": [
      "(6250, 6)\n"
     ]
    },
    {
     "data": {
      "text/html": [
       "<div>\n",
       "<style>\n",
       "    .dataframe thead tr:only-child th {\n",
       "        text-align: right;\n",
       "    }\n",
       "\n",
       "    .dataframe thead th {\n",
       "        text-align: left;\n",
       "    }\n",
       "\n",
       "    .dataframe tbody tr th {\n",
       "        vertical-align: top;\n",
       "    }\n",
       "</style>\n",
       "<table border=\"1\" class=\"dataframe\">\n",
       "  <thead>\n",
       "    <tr style=\"text-align: right;\">\n",
       "      <th></th>\n",
       "      <th>ORDER_ID</th>\n",
       "      <th>CUSTOMER_ID</th>\n",
       "      <th>BPCODE</th>\n",
       "      <th>CREATE_DATE</th>\n",
       "      <th>UPDATE_DATE</th>\n",
       "      <th>STATUS</th>\n",
       "    </tr>\n",
       "  </thead>\n",
       "  <tbody>\n",
       "    <tr>\n",
       "      <th>0</th>\n",
       "      <td>2024</td>\n",
       "      <td>22</td>\n",
       "      <td>1100700373</td>\n",
       "      <td>2015-10-05 21:05:45</td>\n",
       "      <td>2015-10-05 21:05:45</td>\n",
       "      <td>PENDING</td>\n",
       "    </tr>\n",
       "    <tr>\n",
       "      <th>1</th>\n",
       "      <td>2241</td>\n",
       "      <td>4122</td>\n",
       "      <td>1100702444</td>\n",
       "      <td>2015-10-15 18:51:08</td>\n",
       "      <td>2015-10-15 19:03:44</td>\n",
       "      <td>PENDING</td>\n",
       "    </tr>\n",
       "    <tr>\n",
       "      <th>3</th>\n",
       "      <td>2341</td>\n",
       "      <td>4122</td>\n",
       "      <td>1100702444</td>\n",
       "      <td>2015-10-16 23:45:30</td>\n",
       "      <td>2015-10-16 23:54:33</td>\n",
       "      <td>PENDING</td>\n",
       "    </tr>\n",
       "    <tr>\n",
       "      <th>4</th>\n",
       "      <td>2422</td>\n",
       "      <td>4527</td>\n",
       "      <td>1100702884</td>\n",
       "      <td>2015-10-17 18:35:16</td>\n",
       "      <td>2015-10-17 18:45:13</td>\n",
       "      <td>PENDING</td>\n",
       "    </tr>\n",
       "    <tr>\n",
       "      <th>5</th>\n",
       "      <td>2442</td>\n",
       "      <td>4462</td>\n",
       "      <td>1100702709</td>\n",
       "      <td>2015-10-18 15:41:07</td>\n",
       "      <td>2015-10-18 15:50:14</td>\n",
       "      <td>PENDING</td>\n",
       "    </tr>\n",
       "  </tbody>\n",
       "</table>\n",
       "</div>"
      ],
      "text/plain": [
       "   ORDER_ID  CUSTOMER_ID      BPCODE         CREATE_DATE         UPDATE_DATE  \\\n",
       "0      2024           22  1100700373 2015-10-05 21:05:45 2015-10-05 21:05:45   \n",
       "1      2241         4122  1100702444 2015-10-15 18:51:08 2015-10-15 19:03:44   \n",
       "3      2341         4122  1100702444 2015-10-16 23:45:30 2015-10-16 23:54:33   \n",
       "4      2422         4527  1100702884 2015-10-17 18:35:16 2015-10-17 18:45:13   \n",
       "5      2442         4462  1100702709 2015-10-18 15:41:07 2015-10-18 15:50:14   \n",
       "\n",
       "    STATUS  \n",
       "0  PENDING  \n",
       "1  PENDING  \n",
       "3  PENDING  \n",
       "4  PENDING  \n",
       "5  PENDING  "
      ]
     },
     "execution_count": 25,
     "metadata": {},
     "output_type": "execute_result"
    }
   ],
   "source": [
    "new_order_pending = new_order[new_order['STATUS'] == \"PENDING\"]\n",
    "print(new_order_pending.shape)\n",
    "new_order_pending.head()"
   ]
  },
  {
   "cell_type": "code",
   "execution_count": 26,
   "metadata": {
    "collapsed": true
   },
   "outputs": [],
   "source": [
    "new_order_pending.to_csv('../2_data/prepared/order_pending.csv', index =False)"
   ]
  },
  {
   "cell_type": "markdown",
   "metadata": {},
   "source": [
    "# สินค้าในคำสั่งซื้อ (order_item)"
   ]
  },
  {
   "cell_type": "code",
   "execution_count": 27,
   "metadata": {},
   "outputs": [
    {
     "data": {
      "text/html": [
       "<div>\n",
       "<style>\n",
       "    .dataframe thead tr:only-child th {\n",
       "        text-align: right;\n",
       "    }\n",
       "\n",
       "    .dataframe thead th {\n",
       "        text-align: left;\n",
       "    }\n",
       "\n",
       "    .dataframe tbody tr th {\n",
       "        vertical-align: top;\n",
       "    }\n",
       "</style>\n",
       "<table border=\"1\" class=\"dataframe\">\n",
       "  <thead>\n",
       "    <tr style=\"text-align: right;\">\n",
       "      <th></th>\n",
       "      <th>ORDER_ID</th>\n",
       "      <th>ORDER_ITEM_ID</th>\n",
       "      <th>MATNR</th>\n",
       "      <th>QUANTITY</th>\n",
       "      <th>TOTAL_PRICE</th>\n",
       "    </tr>\n",
       "  </thead>\n",
       "  <tbody>\n",
       "    <tr>\n",
       "      <th>0</th>\n",
       "      <td>2,024</td>\n",
       "      <td>2,024</td>\n",
       "      <td>19106665</td>\n",
       "      <td>1</td>\n",
       "      <td>2,700</td>\n",
       "    </tr>\n",
       "    <tr>\n",
       "      <th>1</th>\n",
       "      <td>2,024</td>\n",
       "      <td>2,025</td>\n",
       "      <td>19049635</td>\n",
       "      <td>1</td>\n",
       "      <td>36,900</td>\n",
       "    </tr>\n",
       "    <tr>\n",
       "      <th>2</th>\n",
       "      <td>2,241</td>\n",
       "      <td>2,221</td>\n",
       "      <td>19086648</td>\n",
       "      <td>1</td>\n",
       "      <td>6,900</td>\n",
       "    </tr>\n",
       "    <tr>\n",
       "      <th>3</th>\n",
       "      <td>2,321</td>\n",
       "      <td>2,281</td>\n",
       "      <td>19110489</td>\n",
       "      <td>1</td>\n",
       "      <td>7,900</td>\n",
       "    </tr>\n",
       "    <tr>\n",
       "      <th>4</th>\n",
       "      <td>2,341</td>\n",
       "      <td>2,301</td>\n",
       "      <td>19086648</td>\n",
       "      <td>1</td>\n",
       "      <td>6,900</td>\n",
       "    </tr>\n",
       "  </tbody>\n",
       "</table>\n",
       "</div>"
      ],
      "text/plain": [
       "  ORDER_ID ORDER_ITEM_ID     MATNR QUANTITY TOTAL_PRICE\n",
       "0    2,024         2,024  19106665        1       2,700\n",
       "1    2,024         2,025  19049635        1      36,900\n",
       "2    2,241         2,221  19086648        1       6,900\n",
       "3    2,321         2,281  19110489        1       7,900\n",
       "4    2,341         2,301  19086648        1       6,900"
      ]
     },
     "execution_count": 27,
     "metadata": {},
     "output_type": "execute_result"
    }
   ],
   "source": [
    "df_order_item = pd.read_csv('../2_data/20180319/order_item.csv')\n",
    "df_order_item.head()"
   ]
  },
  {
   "cell_type": "markdown",
   "metadata": {},
   "source": [
    "ตรวจสอบ format type"
   ]
  },
  {
   "cell_type": "code",
   "execution_count": 28,
   "metadata": {},
   "outputs": [
    {
     "data": {
      "text/plain": [
       "ORDER_ID         object\n",
       "ORDER_ITEM_ID    object\n",
       "MATNR             int64\n",
       "QUANTITY         object\n",
       "TOTAL_PRICE      object\n",
       "dtype: object"
      ]
     },
     "execution_count": 28,
     "metadata": {},
     "output_type": "execute_result"
    }
   ],
   "source": [
    "df_order_item.dtypes"
   ]
  },
  {
   "cell_type": "markdown",
   "metadata": {},
   "source": [
    "เปลี่ยน format ID ให้เป็น int ให้หมด ส่วน TOTAL_PRICE ให้เป็น Float"
   ]
  },
  {
   "cell_type": "code",
   "execution_count": 29,
   "metadata": {},
   "outputs": [
    {
     "name": "stdout",
     "output_type": "stream",
     "text": [
      "(17448, 5)\n"
     ]
    },
    {
     "data": {
      "text/html": [
       "<div>\n",
       "<style>\n",
       "    .dataframe thead tr:only-child th {\n",
       "        text-align: right;\n",
       "    }\n",
       "\n",
       "    .dataframe thead th {\n",
       "        text-align: left;\n",
       "    }\n",
       "\n",
       "    .dataframe tbody tr th {\n",
       "        vertical-align: top;\n",
       "    }\n",
       "</style>\n",
       "<table border=\"1\" class=\"dataframe\">\n",
       "  <thead>\n",
       "    <tr style=\"text-align: right;\">\n",
       "      <th></th>\n",
       "      <th>ORDER_ID</th>\n",
       "      <th>ORDER_ITEM_ID</th>\n",
       "      <th>MATNR</th>\n",
       "      <th>QUANTITY</th>\n",
       "      <th>TOTAL_PRICE</th>\n",
       "    </tr>\n",
       "  </thead>\n",
       "  <tbody>\n",
       "    <tr>\n",
       "      <th>0</th>\n",
       "      <td>2024</td>\n",
       "      <td>2024</td>\n",
       "      <td>19106665</td>\n",
       "      <td>1</td>\n",
       "      <td>2700.0</td>\n",
       "    </tr>\n",
       "    <tr>\n",
       "      <th>1</th>\n",
       "      <td>2024</td>\n",
       "      <td>2025</td>\n",
       "      <td>19049635</td>\n",
       "      <td>1</td>\n",
       "      <td>36900.0</td>\n",
       "    </tr>\n",
       "    <tr>\n",
       "      <th>2</th>\n",
       "      <td>2241</td>\n",
       "      <td>2221</td>\n",
       "      <td>19086648</td>\n",
       "      <td>1</td>\n",
       "      <td>6900.0</td>\n",
       "    </tr>\n",
       "    <tr>\n",
       "      <th>3</th>\n",
       "      <td>2321</td>\n",
       "      <td>2281</td>\n",
       "      <td>19110489</td>\n",
       "      <td>1</td>\n",
       "      <td>7900.0</td>\n",
       "    </tr>\n",
       "    <tr>\n",
       "      <th>4</th>\n",
       "      <td>2341</td>\n",
       "      <td>2301</td>\n",
       "      <td>19086648</td>\n",
       "      <td>1</td>\n",
       "      <td>6900.0</td>\n",
       "    </tr>\n",
       "  </tbody>\n",
       "</table>\n",
       "</div>"
      ],
      "text/plain": [
       "   ORDER_ID  ORDER_ITEM_ID     MATNR  QUANTITY  TOTAL_PRICE\n",
       "0      2024           2024  19106665         1       2700.0\n",
       "1      2024           2025  19049635         1      36900.0\n",
       "2      2241           2221  19086648         1       6900.0\n",
       "3      2321           2281  19110489         1       7900.0\n",
       "4      2341           2301  19086648         1       6900.0"
      ]
     },
     "execution_count": 29,
     "metadata": {},
     "output_type": "execute_result"
    }
   ],
   "source": [
    "import locale\n",
    "from locale import atof\n",
    "locale.setlocale( locale.LC_ALL, 'en_US.UTF-8' ) \n",
    "locale.setlocale(locale.LC_NUMERIC, '')\n",
    "\n",
    "new_order_item = df_order_item[:]\n",
    "new_order_item['ORDER_ID'] = df_order_item['ORDER_ID'].apply(locale.atoi)\n",
    "new_order_item['ORDER_ITEM_ID'] = df_order_item['ORDER_ITEM_ID'].apply(locale.atoi)\n",
    "new_order_item['MATNR'] = df_order_item['MATNR'].apply(int)\n",
    "new_order_item['QUANTITY'] = df_order_item['QUANTITY'].apply(locale.atoi)\n",
    "new_order_item['TOTAL_PRICE'] = df_order_item['TOTAL_PRICE'].apply(atof)\n",
    "print(new_order_item.shape)\n",
    "new_order_item.head()"
   ]
  },
  {
   "cell_type": "markdown",
   "metadata": {},
   "source": [
    "### 4. Check type of distribution"
   ]
  },
  {
   "cell_type": "markdown",
   "metadata": {},
   "source": [
    "เริ่มจาก Quantity"
   ]
  },
  {
   "cell_type": "code",
   "execution_count": 30,
   "metadata": {},
   "outputs": [
    {
     "data": {
      "image/png": "[encoded data removed]",
      "text/plain": [
       "<matplotlib.figure.Figure at 0x116995ba8>"
      ]
     },
     "metadata": {},
     "output_type": "display_data"
    }
   ],
   "source": [
    "import matplotlib.pyplot as plt\n",
    "import numpy as np\n",
    "%matplotlib inline\n",
    "x = new_order_item['QUANTITY']\n",
    "plt.hist(x, bins=100)\n",
    "plt.ylabel('Quantity');"
   ]
  },
  {
   "cell_type": "markdown",
   "metadata": {},
   "source": [
    "ส่วนตัวคิดว่า distribution ของ Quantity น่าจะเป็นแบบ poisson distribution กล่างคือจะมีค่ามากที่ จำนวนน้อยๆ"
   ]
  },
  {
   "cell_type": "markdown",
   "metadata": {},
   "source": [
    "แล้วจะเห็นว่าค่าส่วนมากอยู่แถวๆ 1 แต่ค่ามากสุดก็สูงมาก ดังนั้นลอง group ดู"
   ]
  },
  {
   "cell_type": "code",
   "execution_count": 31,
   "metadata": {
    "scrolled": true
   },
   "outputs": [
    {
     "data": {
      "text/plain": [
       "QUANTITY\n",
       "1            15757\n",
       "2             1210\n",
       "3              150\n",
       "4              190\n",
       "5               20\n",
       "6               58\n",
       "7                5\n",
       "8               24\n",
       "9                2\n",
       "10               8\n",
       "11               1\n",
       "12               5\n",
       "15               3\n",
       "18               4\n",
       "20               1\n",
       "21               1\n",
       "24               2\n",
       "28               1\n",
       "30               1\n",
       "50               1\n",
       "100              1\n",
       "162              1\n",
       "1558             1\n",
       "999999998        1\n",
       "Name: ORDER_ID, dtype: int64"
      ]
     },
     "execution_count": 31,
     "metadata": {},
     "output_type": "execute_result"
    }
   ],
   "source": [
    "new_order_item.groupby('QUANTITY')['ORDER_ID'].count()"
   ]
  },
  {
   "cell_type": "markdown",
   "metadata": {},
   "source": [
    "จะเห็นว่ามีแถวหนึ่งที่ค่าเป็น 999999998 ตัดค่านี้ทิ้งเลย จะได้"
   ]
  },
  {
   "cell_type": "code",
   "execution_count": 32,
   "metadata": {},
   "outputs": [
    {
     "data": {
      "text/plain": [
       "QUANTITY\n",
       "1       15757\n",
       "2        1210\n",
       "3         150\n",
       "4         190\n",
       "5          20\n",
       "6          58\n",
       "7           5\n",
       "8          24\n",
       "9           2\n",
       "10          8\n",
       "11          1\n",
       "12          5\n",
       "15          3\n",
       "18          4\n",
       "20          1\n",
       "21          1\n",
       "24          2\n",
       "28          1\n",
       "30          1\n",
       "50          1\n",
       "100         1\n",
       "162         1\n",
       "1558        1\n",
       "Name: ORDER_ID, dtype: int64"
      ]
     },
     "execution_count": 32,
     "metadata": {},
     "output_type": "execute_result"
    }
   ],
   "source": [
    "new_order_item = new_order_item[new_order_item['QUANTITY'] < 9999999]\n",
    "new_order_item.groupby('QUANTITY')['ORDER_ID'].count()"
   ]
  },
  {
   "cell_type": "markdown",
   "metadata": {},
   "source": [
    "ดู distribution ใหม่ จะได้"
   ]
  },
  {
   "cell_type": "code",
   "execution_count": 33,
   "metadata": {},
   "outputs": [
    {
     "data": {
      "text/plain": [
       "Text(0,0.5,'Quantity')"
      ]
     },
     "execution_count": 33,
     "metadata": {},
     "output_type": "execute_result"
    },
    {
     "data": {
      "image/png": "[encoded data removed]",
      "text/plain": [
       "<matplotlib.figure.Figure at 0x10d048588>"
      ]
     },
     "metadata": {},
     "output_type": "display_data"
    }
   ],
   "source": [
    "plt.hist(np.sqrt(new_order_item['QUANTITY']), bins=200)\n",
    "plt.ylabel('Quantity')"
   ]
  },
  {
   "cell_type": "markdown",
   "metadata": {},
   "source": [
    "# Anomaly Detection Algorithm"
   ]
  },
  {
   "cell_type": "markdown",
   "metadata": {},
   "source": [
    "- Model normal, then find anomalies\n",
    "- t-digest for adaptive threshold\n",
    "- Probabilistic models for complex patterns\n",
    "\n",
    "เราจะถือว่าค่า x ไม่ปกติ (anomaly) เมื่อ $p(x) < \\epsilon$"
   ]
  },
  {
   "cell_type": "markdown",
   "metadata": {},
   "source": [
    "### Normal Distribution"
   ]
  },
  {
   "cell_type": "markdown",
   "metadata": {},
   "source": [
    "สำหรับ normal distribution $p(x)$ หาได้จาก"
   ]
  },
  {
   "cell_type": "markdown",
   "metadata": {},
   "source": [
    "$$ p(x) = \\prod_{j=1}^{n}p(x_{j};\\mu_j,\\sigma_j^2) = \\prod_{j=1}^{n}\\frac{1}{\\sqrt{2\\pi}\\sigma_j}exp(-\\frac{(x_j-\\mu_j)^2}{2\\sigma_j^2})$$"
   ]
  },
  {
   "cell_type": "markdown",
   "metadata": {},
   "source": [
    "เมื่อ $x_j$ คือ feature vector ตัวที่ $j$ ซึ่งจะมีค่าเฉลี่ยเป็น $\\mu_j$ และความแปรปรวนคือ $\\sigma_j^2$\n",
    "\n",
    "$$\\mu_j = \\frac{1}{m}\\sum_{i=1}^{m}x_{j}^{(i)}$$\n",
    "\n",
    "$$\\sigma_j^2 = \\frac{1}{m}\\sum_{i=1}^{m}(x_{j}^{(i)}-\\mu_j)^2$$"
   ]
  },
  {
   "cell_type": "markdown",
   "metadata": {},
   "source": [
    "### Poisson Distribution"
   ]
  },
  {
   "cell_type": "markdown",
   "metadata": {},
   "source": [
    "สำหรับ Poisson distribution มี probability mass function คือ $p(x)$ ดังนี้"
   ]
  },
  {
   "cell_type": "markdown",
   "metadata": {},
   "source": [
    "$$ p(x) = \\prod_{j=1}^{n}p(x_{j};\\lambda_j) = \\prod_{j=1}^{n}\\frac{e^{-\\lambda_j}\\lambda^{x_j}}{x_j!}$$"
   ]
  },
  {
   "cell_type": "markdown",
   "metadata": {},
   "source": [
    "Parameter Estimation : The maximum likelihood estimator of $\\lambda$ is \n",
    "\n",
    "$$\\bar{\\lambda} = \\bar{X}$$"
   ]
  },
  {
   "cell_type": "markdown",
   "metadata": {},
   "source": [
    "จาก ข้อมูล Quantity ของเราเมื่อหาค่า parameter $\\lambda$ แล้วลอง plot ดูจะได้"
   ]
  },
  {
   "cell_type": "code",
   "execution_count": 34,
   "metadata": {},
   "outputs": [
    {
     "data": {
      "image/png": "[encoded data removed]",
      "text/plain": [
       "<matplotlib.figure.Figure at 0x1074e9080>"
      ]
     },
     "metadata": {},
     "output_type": "display_data"
    }
   ],
   "source": [
    "from scipy.stats import poisson\n",
    "from sklearn import preprocessing\n",
    "import matplotlib.pyplot as plt\n",
    "import numpy as np\n",
    "\n",
    "# Engineering feature\n",
    "x_en_featured = np.sqrt(new_order_item['QUANTITY'])\n",
    "qt_lamb = np.mean(x_en_featured)\n",
    "x_scaled = preprocessing.scale(x_en_featured)\n",
    "\n",
    "# X range for plot\n",
    "x_poisson = np.arange(min(x_en_featured),max(x_en_featured),1)\n",
    "y_poisson = poisson.pmf(x_poisson,qt_lamb)\n",
    "plt.plot(x_poisson, y_poisson, 'r-')\n",
    "plt.hist(x_scaled, bins=200, normed=True)\n",
    "plt.ylabel('Probability');\n",
    "plt.show()"
   ]
  },
  {
   "cell_type": "markdown",
   "metadata": {},
   "source": [
    "เราจะเอาค่า 99.99% ดังนั้นเราต้องตัดค่าที่ $p(x) < 0.0001$"
   ]
  },
  {
   "cell_type": "code",
   "execution_count": 35,
   "metadata": {},
   "outputs": [],
   "source": [
    "def poissonAnomalyDetection(xj):\n",
    "    lamb = np.mean(xj)\n",
    "    xj_scaled = preprocessing.scale(x_en_featured)\n",
    "    x_poisson = np.arange(min(xj),max(xj),1)\n",
    "    y_poisson = poisson.pmf(x_poisson,lamb)\n",
    "    return x_poisson[y_poisson > 0.0001]"
   ]
  },
  {
   "cell_type": "code",
   "execution_count": 36,
   "metadata": {},
   "outputs": [
    {
     "data": {
      "text/plain": [
       "array([ 1.,  2.,  3.,  4.,  5.,  6.,  7.])"
      ]
     },
     "execution_count": 36,
     "metadata": {},
     "output_type": "execute_result"
    }
   ],
   "source": [
    "poissonAnomalyDetection(np.sqrt(new_order_item['QUANTITY']))"
   ]
  },
  {
   "cell_type": "markdown",
   "metadata": {},
   "source": [
    "เมื่อดูในเว็บ SB พบว่าสินค้าที่มีราคาถูกสุดอยู่ที่ 38 บาท ดังนั้นจะใช้มันเป็น minimum price จะได้"
   ]
  },
  {
   "cell_type": "code",
   "execution_count": 37,
   "metadata": {},
   "outputs": [
    {
     "name": "stdout",
     "output_type": "stream",
     "text": [
      "(17359, 5)\n"
     ]
    },
    {
     "data": {
      "text/html": [
       "<div>\n",
       "<style>\n",
       "    .dataframe thead tr:only-child th {\n",
       "        text-align: right;\n",
       "    }\n",
       "\n",
       "    .dataframe thead th {\n",
       "        text-align: left;\n",
       "    }\n",
       "\n",
       "    .dataframe tbody tr th {\n",
       "        vertical-align: top;\n",
       "    }\n",
       "</style>\n",
       "<table border=\"1\" class=\"dataframe\">\n",
       "  <thead>\n",
       "    <tr style=\"text-align: right;\">\n",
       "      <th></th>\n",
       "      <th>ORDER_ID</th>\n",
       "      <th>ORDER_ITEM_ID</th>\n",
       "      <th>MATNR</th>\n",
       "      <th>QUANTITY</th>\n",
       "      <th>TOTAL_PRICE</th>\n",
       "    </tr>\n",
       "  </thead>\n",
       "  <tbody>\n",
       "    <tr>\n",
       "      <th>0</th>\n",
       "      <td>2024</td>\n",
       "      <td>2024</td>\n",
       "      <td>19106665</td>\n",
       "      <td>1</td>\n",
       "      <td>2700.0</td>\n",
       "    </tr>\n",
       "    <tr>\n",
       "      <th>1</th>\n",
       "      <td>2024</td>\n",
       "      <td>2025</td>\n",
       "      <td>19049635</td>\n",
       "      <td>1</td>\n",
       "      <td>36900.0</td>\n",
       "    </tr>\n",
       "    <tr>\n",
       "      <th>2</th>\n",
       "      <td>2241</td>\n",
       "      <td>2221</td>\n",
       "      <td>19086648</td>\n",
       "      <td>1</td>\n",
       "      <td>6900.0</td>\n",
       "    </tr>\n",
       "    <tr>\n",
       "      <th>3</th>\n",
       "      <td>2321</td>\n",
       "      <td>2281</td>\n",
       "      <td>19110489</td>\n",
       "      <td>1</td>\n",
       "      <td>7900.0</td>\n",
       "    </tr>\n",
       "    <tr>\n",
       "      <th>4</th>\n",
       "      <td>2341</td>\n",
       "      <td>2301</td>\n",
       "      <td>19086648</td>\n",
       "      <td>1</td>\n",
       "      <td>6900.0</td>\n",
       "    </tr>\n",
       "  </tbody>\n",
       "</table>\n",
       "</div>"
      ],
      "text/plain": [
       "   ORDER_ID  ORDER_ITEM_ID     MATNR  QUANTITY  TOTAL_PRICE\n",
       "0      2024           2024  19106665         1       2700.0\n",
       "1      2024           2025  19049635         1      36900.0\n",
       "2      2241           2221  19086648         1       6900.0\n",
       "3      2321           2281  19110489         1       7900.0\n",
       "4      2341           2301  19086648         1       6900.0"
      ]
     },
     "execution_count": 37,
     "metadata": {},
     "output_type": "execute_result"
    }
   ],
   "source": [
    "b_new_order_item = new_order_item.loc[new_order_item['TOTAL_PRICE'] >= 38]\n",
    "print(b_new_order_item.shape)\n",
    "b_new_order_item.head()"
   ]
  },
  {
   "cell_type": "code",
   "execution_count": 38,
   "metadata": {},
   "outputs": [
    {
     "data": {
      "text/plain": [
       "ORDER_ID             1001.0\n",
       "ORDER_ITEM_ID        1001.0\n",
       "MATNR            19000158.0\n",
       "QUANTITY                1.0\n",
       "TOTAL_PRICE            39.0\n",
       "dtype: float64"
      ]
     },
     "execution_count": 38,
     "metadata": {},
     "output_type": "execute_result"
    }
   ],
   "source": [
    "b_new_order_item.min()"
   ]
  },
  {
   "cell_type": "markdown",
   "metadata": {},
   "source": [
    "Export file order_item"
   ]
  },
  {
   "cell_type": "code",
   "execution_count": 39,
   "metadata": {
    "collapsed": true
   },
   "outputs": [],
   "source": [
    "b_new_order_item.to_csv('../2_data/explored/order_item.csv', index =False)"
   ]
  },
  {
   "cell_type": "markdown",
   "metadata": {},
   "source": [
    "ถึงตรงนี้"
   ]
  },
  {
   "cell_type": "markdown",
   "metadata": {},
   "source": [
    "# รวมตารางคำสั่งสินค้า + รหัสสินค้า"
   ]
  },
  {
   "cell_type": "code",
   "execution_count": 40,
   "metadata": {},
   "outputs": [
    {
     "data": {
      "text/html": [
       "<div>\n",
       "<style>\n",
       "    .dataframe thead tr:only-child th {\n",
       "        text-align: right;\n",
       "    }\n",
       "\n",
       "    .dataframe thead th {\n",
       "        text-align: left;\n",
       "    }\n",
       "\n",
       "    .dataframe tbody tr th {\n",
       "        vertical-align: top;\n",
       "    }\n",
       "</style>\n",
       "<table border=\"1\" class=\"dataframe\">\n",
       "  <thead>\n",
       "    <tr style=\"text-align: right;\">\n",
       "      <th></th>\n",
       "      <th>ORDER_ID</th>\n",
       "      <th>CUSTOMER_ID</th>\n",
       "      <th>BPCODE</th>\n",
       "      <th>CREATE_DATE</th>\n",
       "      <th>UPDATE_DATE</th>\n",
       "      <th>STATUS</th>\n",
       "    </tr>\n",
       "  </thead>\n",
       "  <tbody>\n",
       "    <tr>\n",
       "      <th>0</th>\n",
       "      <td>2024</td>\n",
       "      <td>22</td>\n",
       "      <td>1100700373</td>\n",
       "      <td>2015-10-05 21:05:45</td>\n",
       "      <td>2015-10-05 21:05:45</td>\n",
       "      <td>PENDING</td>\n",
       "    </tr>\n",
       "    <tr>\n",
       "      <th>1</th>\n",
       "      <td>2241</td>\n",
       "      <td>4122</td>\n",
       "      <td>1100702444</td>\n",
       "      <td>2015-10-15 18:51:08</td>\n",
       "      <td>2015-10-15 19:03:44</td>\n",
       "      <td>PENDING</td>\n",
       "    </tr>\n",
       "    <tr>\n",
       "      <th>2</th>\n",
       "      <td>2321</td>\n",
       "      <td>4223</td>\n",
       "      <td>1100702550</td>\n",
       "      <td>2015-10-16 15:36:42</td>\n",
       "      <td>2015-10-16 15:42:23</td>\n",
       "      <td>PAID_SUCCESS</td>\n",
       "    </tr>\n",
       "    <tr>\n",
       "      <th>3</th>\n",
       "      <td>2341</td>\n",
       "      <td>4122</td>\n",
       "      <td>1100702444</td>\n",
       "      <td>2015-10-16 23:45:30</td>\n",
       "      <td>2015-10-16 23:54:33</td>\n",
       "      <td>PENDING</td>\n",
       "    </tr>\n",
       "    <tr>\n",
       "      <th>4</th>\n",
       "      <td>2422</td>\n",
       "      <td>4527</td>\n",
       "      <td>1100702884</td>\n",
       "      <td>2015-10-17 18:35:16</td>\n",
       "      <td>2015-10-17 18:45:13</td>\n",
       "      <td>PENDING</td>\n",
       "    </tr>\n",
       "  </tbody>\n",
       "</table>\n",
       "</div>"
      ],
      "text/plain": [
       "   ORDER_ID  CUSTOMER_ID      BPCODE         CREATE_DATE         UPDATE_DATE  \\\n",
       "0      2024           22  1100700373 2015-10-05 21:05:45 2015-10-05 21:05:45   \n",
       "1      2241         4122  1100702444 2015-10-15 18:51:08 2015-10-15 19:03:44   \n",
       "2      2321         4223  1100702550 2015-10-16 15:36:42 2015-10-16 15:42:23   \n",
       "3      2341         4122  1100702444 2015-10-16 23:45:30 2015-10-16 23:54:33   \n",
       "4      2422         4527  1100702884 2015-10-17 18:35:16 2015-10-17 18:45:13   \n",
       "\n",
       "         STATUS  \n",
       "0       PENDING  \n",
       "1       PENDING  \n",
       "2  PAID_SUCCESS  \n",
       "3       PENDING  \n",
       "4       PENDING  "
      ]
     },
     "execution_count": 40,
     "metadata": {},
     "output_type": "execute_result"
    }
   ],
   "source": [
    "left = new_order\n",
    "left.head()"
   ]
  },
  {
   "cell_type": "code",
   "execution_count": 41,
   "metadata": {},
   "outputs": [
    {
     "data": {
      "text/html": [
       "<div>\n",
       "<style>\n",
       "    .dataframe thead tr:only-child th {\n",
       "        text-align: right;\n",
       "    }\n",
       "\n",
       "    .dataframe thead th {\n",
       "        text-align: left;\n",
       "    }\n",
       "\n",
       "    .dataframe tbody tr th {\n",
       "        vertical-align: top;\n",
       "    }\n",
       "</style>\n",
       "<table border=\"1\" class=\"dataframe\">\n",
       "  <thead>\n",
       "    <tr style=\"text-align: right;\">\n",
       "      <th></th>\n",
       "      <th>ORDER_ID</th>\n",
       "      <th>ORDER_ITEM_ID</th>\n",
       "      <th>MATNR</th>\n",
       "      <th>QUANTITY</th>\n",
       "      <th>TOTAL_PRICE</th>\n",
       "    </tr>\n",
       "  </thead>\n",
       "  <tbody>\n",
       "    <tr>\n",
       "      <th>0</th>\n",
       "      <td>2024</td>\n",
       "      <td>2024</td>\n",
       "      <td>19106665</td>\n",
       "      <td>1</td>\n",
       "      <td>2700.0</td>\n",
       "    </tr>\n",
       "    <tr>\n",
       "      <th>1</th>\n",
       "      <td>2024</td>\n",
       "      <td>2025</td>\n",
       "      <td>19049635</td>\n",
       "      <td>1</td>\n",
       "      <td>36900.0</td>\n",
       "    </tr>\n",
       "    <tr>\n",
       "      <th>2</th>\n",
       "      <td>2241</td>\n",
       "      <td>2221</td>\n",
       "      <td>19086648</td>\n",
       "      <td>1</td>\n",
       "      <td>6900.0</td>\n",
       "    </tr>\n",
       "    <tr>\n",
       "      <th>3</th>\n",
       "      <td>2321</td>\n",
       "      <td>2281</td>\n",
       "      <td>19110489</td>\n",
       "      <td>1</td>\n",
       "      <td>7900.0</td>\n",
       "    </tr>\n",
       "    <tr>\n",
       "      <th>4</th>\n",
       "      <td>2341</td>\n",
       "      <td>2301</td>\n",
       "      <td>19086648</td>\n",
       "      <td>1</td>\n",
       "      <td>6900.0</td>\n",
       "    </tr>\n",
       "  </tbody>\n",
       "</table>\n",
       "</div>"
      ],
      "text/plain": [
       "   ORDER_ID  ORDER_ITEM_ID     MATNR  QUANTITY  TOTAL_PRICE\n",
       "0      2024           2024  19106665         1       2700.0\n",
       "1      2024           2025  19049635         1      36900.0\n",
       "2      2241           2221  19086648         1       6900.0\n",
       "3      2321           2281  19110489         1       7900.0\n",
       "4      2341           2301  19086648         1       6900.0"
      ]
     },
     "execution_count": 41,
     "metadata": {},
     "output_type": "execute_result"
    }
   ],
   "source": [
    "right = b_new_order_item\n",
    "right.head()"
   ]
  },
  {
   "cell_type": "code",
   "execution_count": 42,
   "metadata": {},
   "outputs": [
    {
     "data": {
      "text/html": [
       "<div>\n",
       "<style>\n",
       "    .dataframe thead tr:only-child th {\n",
       "        text-align: right;\n",
       "    }\n",
       "\n",
       "    .dataframe thead th {\n",
       "        text-align: left;\n",
       "    }\n",
       "\n",
       "    .dataframe tbody tr th {\n",
       "        vertical-align: top;\n",
       "    }\n",
       "</style>\n",
       "<table border=\"1\" class=\"dataframe\">\n",
       "  <thead>\n",
       "    <tr style=\"text-align: right;\">\n",
       "      <th></th>\n",
       "      <th>ORDER_ID</th>\n",
       "      <th>CUSTOMER_ID</th>\n",
       "      <th>BPCODE</th>\n",
       "      <th>CREATE_DATE</th>\n",
       "      <th>UPDATE_DATE</th>\n",
       "      <th>STATUS</th>\n",
       "      <th>ORDER_ITEM_ID</th>\n",
       "      <th>MATNR</th>\n",
       "      <th>QUANTITY</th>\n",
       "      <th>TOTAL_PRICE</th>\n",
       "    </tr>\n",
       "  </thead>\n",
       "  <tbody>\n",
       "    <tr>\n",
       "      <th>0</th>\n",
       "      <td>2024</td>\n",
       "      <td>22</td>\n",
       "      <td>1100700373</td>\n",
       "      <td>2015-10-05 21:05:45</td>\n",
       "      <td>2015-10-05 21:05:45</td>\n",
       "      <td>PENDING</td>\n",
       "      <td>2024</td>\n",
       "      <td>19106665</td>\n",
       "      <td>1</td>\n",
       "      <td>2700.0</td>\n",
       "    </tr>\n",
       "    <tr>\n",
       "      <th>1</th>\n",
       "      <td>2024</td>\n",
       "      <td>22</td>\n",
       "      <td>1100700373</td>\n",
       "      <td>2015-10-05 21:05:45</td>\n",
       "      <td>2015-10-05 21:05:45</td>\n",
       "      <td>PENDING</td>\n",
       "      <td>2025</td>\n",
       "      <td>19049635</td>\n",
       "      <td>1</td>\n",
       "      <td>36900.0</td>\n",
       "    </tr>\n",
       "    <tr>\n",
       "      <th>2</th>\n",
       "      <td>2241</td>\n",
       "      <td>4122</td>\n",
       "      <td>1100702444</td>\n",
       "      <td>2015-10-15 18:51:08</td>\n",
       "      <td>2015-10-15 19:03:44</td>\n",
       "      <td>PENDING</td>\n",
       "      <td>2221</td>\n",
       "      <td>19086648</td>\n",
       "      <td>1</td>\n",
       "      <td>6900.0</td>\n",
       "    </tr>\n",
       "    <tr>\n",
       "      <th>3</th>\n",
       "      <td>2321</td>\n",
       "      <td>4223</td>\n",
       "      <td>1100702550</td>\n",
       "      <td>2015-10-16 15:36:42</td>\n",
       "      <td>2015-10-16 15:42:23</td>\n",
       "      <td>PAID_SUCCESS</td>\n",
       "      <td>2281</td>\n",
       "      <td>19110489</td>\n",
       "      <td>1</td>\n",
       "      <td>7900.0</td>\n",
       "    </tr>\n",
       "    <tr>\n",
       "      <th>4</th>\n",
       "      <td>2341</td>\n",
       "      <td>4122</td>\n",
       "      <td>1100702444</td>\n",
       "      <td>2015-10-16 23:45:30</td>\n",
       "      <td>2015-10-16 23:54:33</td>\n",
       "      <td>PENDING</td>\n",
       "      <td>2301</td>\n",
       "      <td>19086648</td>\n",
       "      <td>1</td>\n",
       "      <td>6900.0</td>\n",
       "    </tr>\n",
       "  </tbody>\n",
       "</table>\n",
       "</div>"
      ],
      "text/plain": [
       "   ORDER_ID  CUSTOMER_ID      BPCODE         CREATE_DATE         UPDATE_DATE  \\\n",
       "0      2024           22  1100700373 2015-10-05 21:05:45 2015-10-05 21:05:45   \n",
       "1      2024           22  1100700373 2015-10-05 21:05:45 2015-10-05 21:05:45   \n",
       "2      2241         4122  1100702444 2015-10-15 18:51:08 2015-10-15 19:03:44   \n",
       "3      2321         4223  1100702550 2015-10-16 15:36:42 2015-10-16 15:42:23   \n",
       "4      2341         4122  1100702444 2015-10-16 23:45:30 2015-10-16 23:54:33   \n",
       "\n",
       "         STATUS  ORDER_ITEM_ID     MATNR  QUANTITY  TOTAL_PRICE  \n",
       "0       PENDING           2024  19106665         1       2700.0  \n",
       "1       PENDING           2025  19049635         1      36900.0  \n",
       "2       PENDING           2221  19086648         1       6900.0  \n",
       "3  PAID_SUCCESS           2281  19110489         1       7900.0  \n",
       "4       PENDING           2301  19086648         1       6900.0  "
      ]
     },
     "execution_count": 42,
     "metadata": {},
     "output_type": "execute_result"
    }
   ],
   "source": [
    "order_item_merge = pd.merge(left, right, on='ORDER_ID')\n",
    "order_item_merge.head()"
   ]
  },
  {
   "cell_type": "code",
   "execution_count": 43,
   "metadata": {
    "scrolled": false
   },
   "outputs": [
    {
     "data": {
      "text/plain": [
       "ORDER_ID         0\n",
       "CUSTOMER_ID      0\n",
       "BPCODE           0\n",
       "CREATE_DATE      0\n",
       "UPDATE_DATE      0\n",
       "STATUS           0\n",
       "ORDER_ITEM_ID    0\n",
       "MATNR            0\n",
       "QUANTITY         0\n",
       "TOTAL_PRICE      0\n",
       "dtype: int64"
      ]
     },
     "execution_count": 43,
     "metadata": {},
     "output_type": "execute_result"
    }
   ],
   "source": [
    "order_item_merge.isnull().sum(axis=0)"
   ]
  },
  {
   "cell_type": "code",
   "execution_count": 44,
   "metadata": {
    "scrolled": true
   },
   "outputs": [
    {
     "data": {
      "text/plain": [
       "ORDER_ID                  int64\n",
       "CUSTOMER_ID               int64\n",
       "BPCODE                    int64\n",
       "CREATE_DATE      datetime64[ns]\n",
       "UPDATE_DATE      datetime64[ns]\n",
       "STATUS                   object\n",
       "ORDER_ITEM_ID             int64\n",
       "MATNR                     int64\n",
       "QUANTITY                  int64\n",
       "TOTAL_PRICE             float64\n",
       "dtype: object"
      ]
     },
     "execution_count": 44,
     "metadata": {},
     "output_type": "execute_result"
    }
   ],
   "source": [
    "order_item_merge.dtypes"
   ]
  },
  {
   "cell_type": "markdown",
   "metadata": {},
   "source": [
    "### Export file  "
   ]
  },
  {
   "cell_type": "code",
   "execution_count": 45,
   "metadata": {
    "collapsed": true
   },
   "outputs": [],
   "source": [
    "order_item_merge.to_csv('../2_data/prepared/order_item_merge.csv', index=False)"
   ]
  }
 ],
 "metadata": {
  "kernelspec": {
   "display_name": "Python 3",
   "language": "python",
   "name": "python3"
  },
  "language_info": {
   "codemirror_mode": {
    "name": "ipython",
    "version": 3
   },
   "file_extension": ".py",
   "mimetype": "text/x-python",
   "name": "python",
   "nbconvert_exporter": "python",
   "pygments_lexer": "ipython3",
   "version": "3.6.3"
  }
 },
 "nbformat": 4,
 "nbformat_minor": 2
}
