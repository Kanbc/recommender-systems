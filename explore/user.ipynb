{
 "cells": [
  {
   "cell_type": "code",
   "execution_count": 52,
   "metadata": {
    "collapsed": true
   },
   "outputs": [],
   "source": [
    "import unicodecsv\n",
    "\n",
    "#read data from CSV file and make it to lists\n",
    "def customer_csv(filename):\n",
    "    with open(filename, 'rb') as f:\n",
    "        customer = unicodecsv.DictReader(f)\n",
    "        return list(customer)\n",
    "    \n",
    " "
   ]
  },
  {
   "cell_type": "code",
   "execution_count": 53,
   "metadata": {},
   "outputs": [],
   "source": [
    "   users_all  =  customer_csv('../data_clean/customer.csv')"
   ]
  },
  {
   "cell_type": "code",
   "execution_count": 54,
   "metadata": {},
   "outputs": [
    {
     "data": {
      "text/html": [
       "<div>\n",
       "<style>\n",
       "    .dataframe thead tr:only-child th {\n",
       "        text-align: right;\n",
       "    }\n",
       "\n",
       "    .dataframe thead th {\n",
       "        text-align: left;\n",
       "    }\n",
       "\n",
       "    .dataframe tbody tr th {\n",
       "        vertical-align: top;\n",
       "    }\n",
       "</style>\n",
       "<table border=\"1\" class=\"dataframe\">\n",
       "  <thead>\n",
       "    <tr style=\"text-align: right;\">\n",
       "      <th></th>\n",
       "      <th></th>\n",
       "      <th>CUSTOMER_ID</th>\n",
       "      <th>ADDRESS_POSTAL_CODE</th>\n",
       "      <th>Age</th>\n",
       "    </tr>\n",
       "  </thead>\n",
       "  <tbody>\n",
       "    <tr>\n",
       "      <th>0</th>\n",
       "      <td>0</td>\n",
       "      <td>2083.0</td>\n",
       "      <td>20170</td>\n",
       "      <td>29.28767123287671</td>\n",
       "    </tr>\n",
       "    <tr>\n",
       "      <th>1</th>\n",
       "      <td>13</td>\n",
       "      <td>2390.0</td>\n",
       "      <td>10250</td>\n",
       "      <td>31.50958904109589</td>\n",
       "    </tr>\n",
       "    <tr>\n",
       "      <th>2</th>\n",
       "      <td>16</td>\n",
       "      <td>2406.0</td>\n",
       "      <td>10150</td>\n",
       "      <td>34.347945205479455</td>\n",
       "    </tr>\n",
       "    <tr>\n",
       "      <th>3</th>\n",
       "      <td>21</td>\n",
       "      <td>2412.0</td>\n",
       "      <td>11110</td>\n",
       "      <td>28.301369863013697</td>\n",
       "    </tr>\n",
       "    <tr>\n",
       "      <th>4</th>\n",
       "      <td>22</td>\n",
       "      <td>2413.0</td>\n",
       "      <td>11000</td>\n",
       "      <td>35.6986301369863</td>\n",
       "    </tr>\n",
       "  </tbody>\n",
       "</table>\n",
       "</div>"
      ],
      "text/plain": [
       "      CUSTOMER_ID ADDRESS_POSTAL_CODE                 Age\n",
       "0   0      2083.0               20170   29.28767123287671\n",
       "1  13      2390.0               10250   31.50958904109589\n",
       "2  16      2406.0               10150  34.347945205479455\n",
       "3  21      2412.0               11110  28.301369863013697\n",
       "4  22      2413.0               11000    35.6986301369863"
      ]
     },
     "execution_count": 54,
     "metadata": {},
     "output_type": "execute_result"
    }
   ],
   "source": [
    " import pandas as pd\n",
    "users = pd.DataFrame(users_all)\n",
    "users[:5]\n"
   ]
  },
  {
   "cell_type": "markdown",
   "metadata": {},
   "source": [
    " # change to array"
   ]
  },
  {
   "cell_type": "code",
   "execution_count": 55,
   "metadata": {},
   "outputs": [
    {
     "data": {
      "text/plain": [
       "array([['29.28767123287671'],\n",
       "       ['31.50958904109589'],\n",
       "       ['34.347945205479455'],\n",
       "       ..., \n",
       "       ['48.07397260273972'],\n",
       "       ['29.89041095890411'],\n",
       "       ['30.063013698630137']], dtype=object)"
      ]
     },
     "execution_count": 55,
     "metadata": {},
     "output_type": "execute_result"
    }
   ],
   "source": [
    "\n",
    "pp=users.as_matrix(columns=users.columns[3:])  \n",
    "pp"
   ]
  },
  {
   "cell_type": "code",
   "execution_count": 69,
   "metadata": {},
   "outputs": [
    {
     "data": {
      "image/png": "[encoded data removed]",
      "text/plain": [
       "<matplotlib.figure.Figure at 0xa02faa4a90>"
      ]
     },
     "metadata": {},
     "output_type": "display_data"
    }
   ],
   "source": [
    "import matplotlib.pyplot as plt\n",
    "import numpy as np\n",
    "x = np.users['pp'] (size = 100)\n",
    "plt.hist(x, normed=True, bins=5)\n",
    "plt.ylabel('basic histogram')\n",
    "plt.show()\n"
   ]
  },
  {
   "cell_type": "code",
   "execution_count": 43,
   "metadata": {},
   "outputs": [
    {
     "data": {
      "text/plain": [
       "(array([ 0.00493092,  0.00986185,  0.01972369,  0.02465462,  0.01972369,\n",
       "         0.04930923,  0.06903293,  0.13313493,  0.17258232,  0.23668432,\n",
       "         0.26626986,  0.30571725,  0.32051002,  0.40926664,  0.45364495,\n",
       "         0.33530279,  0.43392125,  0.32544094,  0.30571725,  0.24654617,\n",
       "         0.16765139,  0.18737509,  0.17751324,  0.07889477,  0.064102  ,\n",
       "         0.02958554,  0.03451646,  0.01972369,  0.01972369,  0.00986185]),\n",
       " array([-3.09364376, -2.89084199, -2.68804021, -2.48523844, -2.28243667,\n",
       "        -2.07963489, -1.87683312, -1.67403135, -1.47122957, -1.2684278 ,\n",
       "        -1.06562603, -0.86282425, -0.66002248, -0.4572207 , -0.25441893,\n",
       "        -0.05161716,  0.15118462,  0.35398639,  0.55678816,  0.75958994,\n",
       "         0.96239171,  1.16519348,  1.36799526,  1.57079703,  1.77359881,\n",
       "         1.97640058,  2.17920235,  2.38200413,  2.5848059 ,  2.78760767,\n",
       "         2.99040945]),\n",
       " <a list of 30 Patch objects>)"
      ]
     },
     "execution_count": 43,
     "metadata": {},
     "output_type": "execute_result"
    },
    {
     "data": {
      "image/png": "[encoded data removed]",
      "text/plain": [
       "<matplotlib.figure.Figure at 0x9ff7c52908>"
      ]
     },
     "metadata": {},
     "output_type": "display_data"
    }
   ],
   "source": [
    "import matplotlib.pyplot as plt\n",
    "import numpy as np\n",
    "%matplotlib inline\n",
    "x = np.random.normal(size = 1000)\n",
    "plt.hist(x, normed=True, bins=30)"
   ]
  },
  {
   "cell_type": "code",
   "execution_count": null,
   "metadata": {
    "collapsed": true
   },
   "outputs": [],
   "source": []
  }
 ],
 "metadata": {
  "kernelspec": {
   "display_name": "Python 3",
   "language": "python",
   "name": "python3"
  },
  "language_info": {
   "codemirror_mode": {
    "name": "ipython",
    "version": 3
   },
   "file_extension": ".py",
   "mimetype": "text/x-python",
   "name": "python",
   "nbconvert_exporter": "python",
   "pygments_lexer": "ipython3",
   "version": "3.6.3"
  }
 },
 "nbformat": 4,
 "nbformat_minor": 2
}
