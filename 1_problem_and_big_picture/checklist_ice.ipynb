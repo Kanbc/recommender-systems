{
 "cells": [
  {
   "cell_type": "markdown",
   "metadata": {},
   "source": [
    "# 1 Frame the problem and Look at the picture"
   ]
  },
  {
   "cell_type": "markdown",
   "metadata": {},
   "source": [
    "## 1. Define the objective in business term"
   ]
  },
  {
   "cell_type": "markdown",
   "metadata": {},
   "source": [
    "จัดทำระบบแนะนำสินค้า ในร้านค้าออนไลน์ เพื่อเพิ่มยอดขายสินค้าของกิจการ"
   ]
  },
  {
   "cell_type": "markdown",
   "metadata": {},
   "source": [
    "## 2. How will your solution be used?"
   ]
  },
  {
   "cell_type": "markdown",
   "metadata": {},
   "source": [
    "มีกาารแนะนำสินค้าให้กับผู้ใช้งานที่เข้ามาเลือกชมสินค้า โดยแนะนำสินค้าที่เกี่ยวข้องกับสินค้าที่ผู้ใช้งานกำลังเลือกชมอยู่ เพื่อให้เกิดความหลากหลายสำหรับผู้ใช้งานมากขึ้น ทั้งในกรณีที่ต้องการเลือกซื้อสินค้าที่มีลักษณะคล้ายคลึงกันหรือต้องการสิินค้าที่มีความเกี่ยวเนื่องกัน"
   ]
  },
  {
   "cell_type": "markdown",
   "metadata": {},
   "source": [
    "## 3. What are the current solutions/workarounds?"
   ]
  },
  {
   "cell_type": "code",
   "execution_count": null,
   "metadata": {
    "collapsed": true
   },
   "outputs": [],
   "source": []
  },
  {
   "cell_type": "markdown",
   "metadata": {},
   "source": [
    "## 4. How should you frame this problem (supervised/unsupervised, online/offline, etc.)?"
   ]
  },
  {
   "cell_type": "code",
   "execution_count": null,
   "metadata": {
    "collapsed": true
   },
   "outputs": [],
   "source": []
  },
  {
   "cell_type": "markdown",
   "metadata": {},
   "source": [
    "## 5. How should performance be measured?"
   ]
  },
  {
   "cell_type": "markdown",
   "metadata": {
    "collapsed": true
   },
   "source": [
    "วัดผลด้วยการจัดทำสถิติการซื้อสินค้าผ่านระบบแนะนำสินค้า โดยแบ่งกลุ่มผู้ใช้งานตามโมเดลที่นำขึ้นไปทดสอบและให้ผู้ใช้งานมีลักษณะที่เหมือนกันในแต่ละกลุ่มผู้ใช้งาน หากโมเดลใดให้ผลการทดสอบออกมาดีที่สุด(มียอดขายจากระบบแนะนำสินค้ามากที่สุด) จะนำโมเดลนั้นมาใช้กับระบบแนะนำสินค้า"
   ]
  },
  {
   "cell_type": "markdown",
   "metadata": {},
   "source": [
    "## 6. Is the performance measure aligned with the business objective?"
   ]
  },
  {
   "cell_type": "markdown",
   "metadata": {},
   "source": [
    "- "
   ]
  },
  {
   "cell_type": "markdown",
   "metadata": {},
   "source": [
    "## 7. What would be the minimum performance needed to reach the business objective?"
   ]
  },
  {
   "cell_type": "markdown",
   "metadata": {},
   "source": [
    "เป้าหมายขั้นต่ำที่จะต้องบรรลุผลให้ได้เมื่อทำการวัดผลออกมาแล้ว คือการทำให้รายได้ที่เกิดจากการซื้อสินค้าผ่านระบบแนะนำสินค้าควรที่จะครอบคลุมต้นทุนที่เกิดขึ้นจากการทำระบบแนะนำสินค้า"
   ]
  },
  {
   "cell_type": "markdown",
   "metadata": {},
   "source": [
    "## 8. What are comparable problems? Can you reuse experience or tools?"
   ]
  },
  {
   "cell_type": "code",
   "execution_count": null,
   "metadata": {
    "collapsed": true
   },
   "outputs": [],
   "source": []
  },
  {
   "cell_type": "markdown",
   "metadata": {},
   "source": [
    "## 9. Is human expertise available?"
   ]
  },
  {
   "cell_type": "markdown",
   "metadata": {},
   "source": [
    "-"
   ]
  },
  {
   "cell_type": "markdown",
   "metadata": {},
   "source": [
    "## 10. How would you solve the problem manually?"
   ]
  },
  {
   "cell_type": "markdown",
   "metadata": {},
   "source": []
  },
  {
   "cell_type": "markdown",
   "metadata": {},
   "source": [
    "## 11. List the assumtions you (or others) have made so far."
   ]
  },
  {
   "cell_type": "code",
   "execution_count": null,
   "metadata": {
    "collapsed": true
   },
   "outputs": [],
   "source": []
  },
  {
   "cell_type": "markdown",
   "metadata": {},
   "source": [
    "## 12. Verify assumptions if possible."
   ]
  },
  {
   "cell_type": "code",
   "execution_count": null,
   "metadata": {
    "collapsed": true
   },
   "outputs": [],
   "source": []
  }
 ],
 "metadata": {
  "kernelspec": {
   "display_name": "Python 3",
   "language": "python",
   "name": "python3"
  },
  "language_info": {
   "codemirror_mode": {
    "name": "ipython",
    "version": 3
   },
   "file_extension": ".py",
   "mimetype": "text/x-python",
   "name": "python",
   "nbconvert_exporter": "python",
   "pygments_lexer": "ipython3",
   "version": "3.6.3"
  }
 },
 "nbformat": 4,
 "nbformat_minor": 2
}
