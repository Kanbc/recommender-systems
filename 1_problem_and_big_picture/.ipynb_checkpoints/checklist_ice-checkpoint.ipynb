{
 "cells": [
  {
   "cell_type": "markdown",
   "metadata": {},
   "source": [
    "# 1 Frame the problem and Look at the picture"
   ]
  },
  {
   "cell_type": "markdown",
   "metadata": {},
   "source": [
    "## 1. Define the objective in business term"
   ]
  },
  {
   "cell_type": "markdown",
   "metadata": {},
   "source": [
    "จัดทำระบบแนะนำสินค้าสำหรับเว็บไซต์ SB Designsquare เพื่อเพิ่มยอดขายสินค้าและเพิ่มรายรับของกิจการผ่านระบบ E-commerce <br>\n",
    "Website : https://www.sbdesignsquare.com/"
   ]
  },
  {
   "cell_type": "markdown",
   "metadata": {},
   "source": [
    "## 2. How will your solution be used?"
   ]
  },
  {
   "cell_type": "markdown",
   "metadata": {},
   "source": [
    "มีการแนะนำสินค้าให้กับผู้ใช้งานที่เข้ามาเลือกชมสินค้า โดยแนะนำสินค้าที่เกี่ยวข้องกับสินค้าที่ผู้ใช้งานกำลังเลือกชมอยู่ เพื่อให้เกิดความหลากหลายสำหรับผู้ใช้งานมากขึ้น ทั้งในกรณีที่ต้องการเลือกซื้อสินค้าที่มีลักษณะคล้ายคลึงกันหรือต้องการสิินค้าที่มีความเกี่ยวเนื่องกัน"
   ]
  },
  {
   "cell_type": "markdown",
   "metadata": {},
   "source": [
    "<img src=\"img/solution_1.png\" style=\"width: 700px;\">"
   ]
  },
  {
   "cell_type": "markdown",
   "metadata": {},
   "source": [
    "## 3. What are the current solutions/workarounds?"
   ]
  },
  {
   "cell_type": "markdown",
   "metadata": {},
   "source": [
    "ปัจจุบันระบบแนะนำสินค้าของ SB เป็นเพียงการแนะนำสินค้าที่อยู่ใน<b>ชุดสินค้าเท่านั้น</b> ไม่ได้มีการแนะนำสินค้าสำหรับการเลือกชมสินค้าแต่ละอย่าง จึงทำให้ผู้ใช้งานที่เข้าชมสินค้าเฉพาะอย่างไม่ได้มีตัวเลือกในการตัดสินใจมากนัก ซึ่งอาจส่งผลให้ผู้ใช้งานตัดสินใจไม่เลือกซื้อสินค้าต่อและอาจส่งผลกระทบต่อยอดขายของสินค้าได้<br><br>\n",
    "<img src=\"img/product_set1.png\" style=\"width: 600px;\"/>\n",
    "<img src=\"img/product_set2.png\" style=\"width: 600px;\"/>"
   ]
  },
  {
   "cell_type": "markdown",
   "metadata": {},
   "source": [
    "## 4. How should you frame this problem (supervised/unsupervised, online/offline, etc.)?"
   ]
  },
  {
   "cell_type": "markdown",
   "metadata": {
    "collapsed": true
   },
   "source": [
    "ใช้โมเดลในการแก้ปัญหาข้างต้นทั้งหมด 3 โมเดล ซึ่งได้แก่<br>\n",
    "    1) Content-based filtering        <br>\n",
    "    2) Collaborative filtering User-Item based<br>\n",
    "    3) Collaborative filtering Item-Item based<br>"
   ]
  },
  {
   "cell_type": "markdown",
   "metadata": {},
   "source": [
    "## 5. How should performance be measured?"
   ]
  },
  {
   "cell_type": "markdown",
   "metadata": {
    "collapsed": true
   },
   "source": [
    "มีการวัดประสิทธิภาพของโมเดลโดยแบ่งเป็น 2 ระบบ ได้แก่\n",
    "\n",
    "1) วัดผลแบบ Offline<br>\n",
    "    วัดความแม่นยำของขั้นต้นแต่ละโมเดลโดย .  .\n",
    "\n",
    "2) วัดผลแบบ Online<br>\n",
    "    วัดผลด้วยการจัดทำสถิติการซื้อสินค้าผ่านระบบแนะนำสินค้า โดยแบ่งกลุ่มผู้ใช้งานตามโมเดลที่นำขึ้นไปทดสอบและให้ผู้ใช้งานมีลักษณะที่เหมือนกันในแต่ละกลุ่มผู้ใช้งาน หากโมเดลใดให้ผลการทดสอบออกมาดีที่สุด(มียอดขายจากระบบแนะนำสินค้ามากที่สุด) จะนำโมเดลนั้นมาใช้กับระบบแนะนำสินค้า ยกตัวอย่างเช่น <br><br>\n",
    "\n",
    "<img src=\"img/measurement_1.1.png\" style=\"width: 700px;\"> <br>\n",
    "<br>\n",
    "เมื่อทำการทดสอบ Online แล้วหากผลลัพธ์ของแต่ละโมเดลออกมาดังตัวอย่าง จะเลือกโมเดล C ในการนำไปใช้จริงกับระบบแนะนำสินค้าบนเว็บไซต์ SBdesignsquare\n"
   ]
  },
  {
   "cell_type": "markdown",
   "metadata": {},
   "source": [
    "## 6. Is the performance measure aligned with the business objective?"
   ]
  },
  {
   "cell_type": "markdown",
   "metadata": {},
   "source": [
    "มีความเกี่ยวเนื่องกัน เนื่องจากถ้าหากโมเดลทีี่ใช้ในการทำระบบแนะนำสินค้ามีประสิทธิภาพ(แนะนำสินค้าให้ผู้ใช้งานได้ตรงกับความต้องการอย่างมาก) จะส่งผลถึงยอดขายของสินค้าและรายได้ของกิจการที่เพิ่มสูงขึ้น\n",
    "<br><br>\n",
    "<img src=\"img/bsobject.png\" style=\"width: 700px;\">"
   ]
  },
  {
   "cell_type": "markdown",
   "metadata": {},
   "source": [
    "## 7. What would be the minimum performance needed to reach the business objective?"
   ]
  },
  {
   "cell_type": "markdown",
   "metadata": {},
   "source": [
    "เป้าหมายขั้นต่ำที่จะต้องบรรลุผลให้ได้เมื่อทำการวัดผลออกมาแล้ว คือการทำให้รายได้ที่เกิดจากการซื้อสินค้าผ่านระบบแนะนำสินค้าควรที่จะครอบคลุมต้นทุนที่เกิดขึ้นจากการทำระบบแนะนำสินค้า<br><br>\n",
    "\n",
    "<img src=\"img/min_perform.png\" style=\"width: 600px;\">\n",
    "<br><br>\n",
    "รายได้ที่เกิดขึ้นจากการทำระบบแนะนำสินค้าจะต้องมากกว่าต้นทุนที่เกิดจากการทำระบบหรือเกินจุดคุ้มทุน"
   ]
  },
  {
   "cell_type": "markdown",
   "metadata": {},
   "source": [
    "## 8. What are comparable problems? Can you reuse experience or tools?"
   ]
  },
  {
   "cell_type": "markdown",
   "metadata": {
    "collapsed": true
   },
   "source": []
  },
  {
   "cell_type": "markdown",
   "metadata": {},
   "source": [
    "## 9. Is human expertise available?"
   ]
  },
  {
   "cell_type": "markdown",
   "metadata": {},
   "source": []
  },
  {
   "cell_type": "markdown",
   "metadata": {},
   "source": [
    "## 10. How would you solve the problem manually?"
   ]
  },
  {
   "cell_type": "markdown",
   "metadata": {},
   "source": []
  },
  {
   "cell_type": "markdown",
   "metadata": {},
   "source": [
    "## 11. List the assumtions you (or others) have made so far."
   ]
  },
  {
   "cell_type": "markdown",
   "metadata": {
    "collapsed": true
   },
   "source": []
  },
  {
   "cell_type": "markdown",
   "metadata": {},
   "source": [
    "## 12. Verify assumptions if possible."
   ]
  },
  {
   "cell_type": "markdown",
   "metadata": {
    "collapsed": true
   },
   "source": []
  }
 ],
 "metadata": {
  "kernelspec": {
   "display_name": "Python 3",
   "language": "python",
   "name": "python3"
  },
  "language_info": {
   "codemirror_mode": {
    "name": "ipython",
    "version": 3
   },
   "file_extension": ".py",
   "mimetype": "text/x-python",
   "name": "python",
   "nbconvert_exporter": "python",
   "pygments_lexer": "ipython3",
   "version": "3.6.3"
  }
 },
 "nbformat": 4,
 "nbformat_minor": 2
}
