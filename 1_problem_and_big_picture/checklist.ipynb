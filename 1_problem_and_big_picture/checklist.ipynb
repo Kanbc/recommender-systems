{
 "cells": [
  {
   "cell_type": "markdown",
   "metadata": {},
   "source": [
    "# 1 Frame the problem and Look at the picture"
   ]
  },
  {
   "cell_type": "markdown",
   "metadata": {},
   "source": [
    "## 1. Define the objective in business term"
   ]
  },
  {
   "cell_type": "markdown",
   "metadata": {},
   "source": [
    "เพิ่มเวลาการเข้าชมสินค้าในเว็บ E-commerce ให้นานขึ้น เพื่อ**เพิ่มโอกาส**การกดซื้อสินค้าให้มากขึ้น\n",
    "\n",
    "### Assumption 1 \n",
    "$$\\text{profit} \\propto \\text{use time}$$"
   ]
  },
  {
   "cell_type": "markdown",
   "metadata": {},
   "source": [
    "## 2. How will your solution be used?"
   ]
  },
  {
   "cell_type": "markdown",
   "metadata": {},
   "source": [
    "จาก Assumption 1 เราคาดว่าสิ่งที่จะดึงดูดให้คนใช้เว็บ E-commerce ได้นานขึ้นคือ **คนเห็นของที่เค้าอยากได้** \n",
    "\n",
    "เพื่อทำให้คนเห็นของที่เค้าสนใจ แล้วกดเข้าไปดูเรื่อยๆ เราต้องมี**ระบบแนะนำสินค้า (Recommender System)** ที่ดี ซึ่งเราคิดว่าจะเป็นสิ่งที่ช่วยเพิ่มประสิทธิภาพของการขายของเว็บไซต์ E-Commerce ได้\n",
    "\n",
    "### Example :\n",
    "<img src=\"img/amazon.png\" width=\"800\" >"
   ]
  },
  {
   "cell_type": "markdown",
   "metadata": {},
   "source": [
    "## 3. What are the current solutions/workarounds?"
   ]
  },
  {
   "cell_type": "markdown",
   "metadata": {},
   "source": [
    "ณ วันที่เขียน บางส่วนของเว็บ [sbdesignsquare](www.sbdesignsquare.com) ได้ใช้ระบบแนะนำสินค้าแล้ว เพียงแต่หลักการเบื้องหลังของระบบแนะนำสินค้าที่ใช้อยู่นั้น *ไม่สมเหตุสมผล* กล่าวคือจะแนะนำได้เฉพาะสินค้าที่ขายเป็นเซตเท่านั้น สำหรับสินค้าที่ขายเป็นชิ้น จะไม่มีส่วนของ \"สินค้าแนะนำ\" \n",
    "\n",
    "<img src=\"img/1.png\" width=\"500\" >\n",
    "<img src=\"img/2.png\" width=\"500\" >\n",
    "\n",
    "นอกจากนี้ผู้เขียนยังมีสมมติฐานที่สนับสนุนว่าหลักการเบื้องหลังของระบบแนะนำสินค้าเดิมนั้น **non sense** ได้แก่\n",
    "- สินค้าทุกชิ้นต่างมีสินค้าที่มีลักษณะใกล้เคียงกันอยู่เสมอ ไม่เพียงแต่สินค้าในเซตเดียวกันเท่านั้น ดังนั้นต่อให้เป็นสินค้าที่ไม่ได้ขายเป็นเซต ก็ควรจะแนะนำสินค้าที่มีลักษณะคล้ายกัน อื่นๆ ได้\n",
    "- ผู้คนที่เข้ามาดูสินค้า แต่ละคนก็มีลักษณะนิสัย ความชอบ รสนิยม แตกต่างกัน ดังนั้นระบบสินค้าที่ดีไม่ควรแนะนำสินค้าเหมือนๆกันให้กับแต่ละคน"
   ]
  },
  {
   "cell_type": "markdown",
   "metadata": {},
   "source": [
    "## 4. How should you frame this problem (supervised/unsupervised, online/offline, etc.)?"
   ]
  },
  {
   "cell_type": "markdown",
   "metadata": {},
   "source": [
    "เพื่อแก้ปัญหาที่กล่าวไปใน 3 ข้อก่อนหน้า เราคิดจะทำระบบ Recommendation ด้วย Model พื้นฐาน 3 อย่างได้แก่\n",
    "1. Content Filtering\n",
    "2. Collaborative Filtering \n",
    "3. Hybrid Approches (รวมทั้ง Content & Collaborative Filtering เข้าด้วยกัน)\n",
    "\n",
    "โดยจะกล่าวถึงอย่างละเอียดอีกครั้งในหัวข้อที่ **5 : Promissing Models**"
   ]
  },
  {
   "cell_type": "markdown",
   "metadata": {},
   "source": [
    "## 5. How should performance be measured?"
   ]
  },
  {
   "cell_type": "markdown",
   "metadata": {},
   "source": [
    "ในส่วนนี้เราจะแบ่งการวัดผลเป็น 2 ส่วนได้แก่\n",
    "\n",
    "### 1. Offline Test (วัดผลระหว่างพัฒนา Model)\n",
    "แบ่งกลุ่มข้อมูลเป็นกลุ่ม Train (70%) กับ Test (30%) นำ Model ที่ได้จากกลุ่ม Train มาทดสอบผลกับกลุ่ม Test (ตอนนี้ยังไม่เห็นภาพว่าจะทดสอบยังไง?)\n",
    "\n",
    "### 2. Online Test (วัดผลการใช้ Model)\n",
    "ทำ A/B testing เปรียบเทียบ Profit ของกลุ่มที่ใช้ Recommender System (Model A, B, C, ...) กับกลุ่มที่ไม่ได้ใช้  แล้วเลือก Model ที่ให้ผลดีสุดเป็น Model สำหรับใช้ในระยะยาว"
   ]
  },
  {
   "cell_type": "markdown",
   "metadata": {},
   "source": [
    "## 6. Is the performance measure aligned with the business objective?"
   ]
  },
  {
   "cell_type": "markdown",
   "metadata": {},
   "source": [
    "ในที่นี้ Business Objective และ Performance Measure คือ Profit เหมือนกัน"
   ]
  },
  {
   "cell_type": "markdown",
   "metadata": {},
   "source": [
    "## 7. What would be the minimum performance needed to reach the business objective?"
   ]
  },
  {
   "cell_type": "markdown",
   "metadata": {},
   "source": [
    "$$\\text{Minimum Performance} = \\text{New Profit - Old Profit} =  $$"
   ]
  },
  {
   "cell_type": "markdown",
   "metadata": {},
   "source": [
    "## 8. What are comparable problems? Can you reuse experience or tools?"
   ]
  },
  {
   "cell_type": "code",
   "execution_count": null,
   "metadata": {
    "collapsed": true
   },
   "outputs": [],
   "source": []
  },
  {
   "cell_type": "markdown",
   "metadata": {},
   "source": [
    "## 9. Is human expertise available?"
   ]
  },
  {
   "cell_type": "markdown",
   "metadata": {},
   "source": [
    "-"
   ]
  },
  {
   "cell_type": "markdown",
   "metadata": {},
   "source": [
    "## 10. How would you solve the problem manually?"
   ]
  },
  {
   "cell_type": "markdown",
   "metadata": {},
   "source": []
  },
  {
   "cell_type": "markdown",
   "metadata": {},
   "source": [
    "## 11. List the assumtions you (or others) have made so far."
   ]
  },
  {
   "cell_type": "code",
   "execution_count": null,
   "metadata": {
    "collapsed": true
   },
   "outputs": [],
   "source": []
  },
  {
   "cell_type": "markdown",
   "metadata": {},
   "source": [
    "## 12. Verify assumptions if possible."
   ]
  },
  {
   "cell_type": "code",
   "execution_count": null,
   "metadata": {
    "collapsed": true
   },
   "outputs": [],
   "source": []
  }
 ],
 "metadata": {
  "kernelspec": {
   "display_name": "Python 3",
   "language": "python",
   "name": "python3"
  },
  "language_info": {
   "codemirror_mode": {
    "name": "ipython",
    "version": 3
   },
   "file_extension": ".py",
   "mimetype": "text/x-python",
   "name": "python",
   "nbconvert_exporter": "python",
   "pygments_lexer": "ipython3",
   "version": "3.6.3"
  }
 },
 "nbformat": 4,
 "nbformat_minor": 2
}
