{
 "cells": [
  {
   "cell_type": "markdown",
   "metadata": {},
   "source": [
    "# 1 Frame the problem and Look at the picture"
   ]
  },
  {
   "cell_type": "markdown",
   "metadata": {},
   "source": [
    "## 1. Define the objective in business term"
   ]
  },
  {
   "cell_type": "markdown",
   "metadata": {},
   "source": [
    "SB furnitureเป็นบริษัทที่ทำธุรกิจเกี่ยวกับการขายเฟอนิเจอร์ รวมไปถึงเครื่องใช้ในบ้าน ซึ่งเป้าหมายหนึ่งของธุรกิจคือการขายสินค้าให้มีปริมาณสูงสุดและได้กำไรสูงที่สุด การขายสินค้าผ่านช่องทางออนไลน์นั้น เป็นการอำนวยความสะดวกแก่ลูกค้าและเป็นการเพิ่มโอกาสทางการตลาดมากขึ้น ซึ่งเป็นจุดมุ่งหมายหนึ่งของธุรกิจการค้าอยู่แล้ว  "
   ]
  },
  {
   "cell_type": "markdown",
   "metadata": {},
   "source": [
    "## 2. How will your solution be used?"
   ]
  },
  {
   "cell_type": "markdown",
   "metadata": {},
   "source": [
    "การใช้ระบบแนะนำสินค้า หรือ reccomend system โดยมีสมมติฐานว่าหากมีระบบแนะนำสินค้า จะส่งผลให้ยอดขายของสินค้าเพิ่มมากขึ้น"
   ]
  },
  {
   "cell_type": "markdown",
   "metadata": {},
   "source": [
    "## 3. What are the current solutions/workarounds?"
   ]
  },
  {
   "cell_type": "markdown",
   "metadata": {},
   "source": [
    "reccomend system เป็นระบบที่ใช้แนะนำสินค้า โดยเมื่อ user สนใจและกดเข้าไปซื้อในสินค้านั้นๆ ระบบแนะนำสินค้านี้ซึ่งอาจเกิดจาก \n",
    "\n",
    "- ความเหมือนของuser (user based collabolative)>>วิธีคือจัดกลุ่มลูกค้าตาม rating ที่ให้ โดยถ้าลูกค้ามีลักษณะการให้ rating ที่ใกล้เคียงกัน เราก็จะจัดลูกค้าในกลุ่มเดียวกลุ่มกัน และในลูกค้ากลุ่มเดียวกันนี้ ถ้าลูกค้าคนหนึ่งมีแนวโน้มที่จะชอบสินค้าและบริการอย่างหนึ่ง (ดูจากการให้ rating ที่สูง) เราก็จะแนะนำสินค้าและบริการนั้นๆ ให้กับลูกค้าคนอื่นๆในกลุ่ม ด้วย\n",
    "\n",
    "- ความเหมือนของสินค้า (item based collabolative)\n",
    "เพื่อเป็นการแนะนำหรืออาจจะชักจูงลูกค้าซื้อสินค้ามากขึ้นuser เพื่ออำนวยความสะดวกให้แก่ลูกค้าที่สนใจสินค้าที่อยู่ในหมวดเดียวกัน หรือคล้ายกัน มีหลายองค์กรที่นำระบบแนะนำนี้ไปใช้ยกตัวอย่าง เช่น Amazon, Facebook, Twitter, LinkedIn, Spotify, Google News และ Last.fm\n",
    "นอกจากนี้ยังมี Content-Based Filtering (CBF)\n",
    "    คือระบบแนะนำสินค้า ที่สนใจในวัตถุนั้นมากกว่าการกระทำของผู้ใช้โดยการแยกแยะปัจจัยของวัตถุนั้นๆ และแนะนำวัตถุที่มีปัจจัยใกล้เคียงกันขึ้นมาให้"
   ]
  },
  {
   "cell_type": "markdown",
   "metadata": {},
   "source": [
    "## 4. How should you frame this problem (supervised/unsupervised, online/offline, etc.)?"
   ]
  },
  {
   "cell_type": "markdown",
   "metadata": {},
   "source": [
    "unsupervised เนื่องจากพฤติกรรมการซื้อสินค้าของลูกค้า ไม่สามารถแบ่งแยกได้ชัดเจน"
   ]
  },
  {
   "cell_type": "markdown",
   "metadata": {},
   "source": [
    "## 5. How should performance be measured?"
   ]
  },
  {
   "cell_type": "markdown",
   "metadata": {},
   "source": [
    "ยอดขายที่เพิ่มมากขึ้นจากการทำระบบแนะนำสินค้า"
   ]
  },
  {
   "cell_type": "markdown",
   "metadata": {},
   "source": [
    "## 6. Is the performance measure aligned with the business objective?"
   ]
  },
  {
   "cell_type": "markdown",
   "metadata": {},
   "source": [
    "- "
   ]
  },
  {
   "cell_type": "markdown",
   "metadata": {},
   "source": [
    "## 7. What would be the minimum performance needed to reach the business objective?"
   ]
  },
  {
   "cell_type": "markdown",
   "metadata": {},
   "source": [
    "userมีความสนใจกับระบบแนะนำสินค้า ว่าสร้างประโยชน์แก่เขา ซึ่งอาจทำให้เกิดความแตกต่างกับคู่แข่งทางธุรกิจ"
   ]
  },
  {
   "cell_type": "markdown",
   "metadata": {},
   "source": [
    "## 8. What are comparable problems? Can you reuse experience or tools?"
   ]
  },
  {
   "cell_type": "code",
   "execution_count": null,
   "metadata": {},
   "outputs": [],
   "source": []
  },
  {
   "cell_type": "markdown",
   "metadata": {},
   "source": [
    "## 9. Is human expertise available?"
   ]
  },
  {
   "cell_type": "markdown",
   "metadata": {},
   "source": [
    "มีผู้ชำนาญ"
   ]
  },
  {
   "cell_type": "markdown",
   "metadata": {},
   "source": [
    "## 10. How would you solve the problem manually?"
   ]
  },
  {
   "cell_type": "markdown",
   "metadata": {},
   "source": [
    "ลองทำและค้นหาความรู้ในgoogleดูก่อน"
   ]
  },
  {
   "cell_type": "markdown",
   "metadata": {},
   "source": [
    "## 11. List the assumtions you (or others) have made so far."
   ]
  },
  {
   "cell_type": "code",
   "execution_count": null,
   "metadata": {},
   "outputs": [],
   "source": [
    "หากทำระบบแนะนำสินค้า จะส่งผลทำให้ยอดขายเพิ่มขึ้น และทำให้กำไรของบริษัทเพิ่มขึ้น"
   ]
  },
  {
   "cell_type": "markdown",
   "metadata": {},
   "source": [
    "## 12. Verify assumptions if possible."
   ]
  },
  {
   "cell_type": "code",
   "execution_count": null,
   "metadata": {},
   "outputs": [],
   "source": [
    "ปล่อยออกไปใช้กับระบบขายสินค้าของ SB furniture และเปรียบเทียบยอดขายกับตอนที่ยังไม่มีระบบแนะนำสินค้า"
   ]
  }
 ],
 "metadata": {
  "kernelspec": {
   "display_name": "Python 3",
   "language": "python",
   "name": "python3"
  },
  "language_info": {
   "codemirror_mode": {
    "name": "ipython",
    "version": 3
   },
   "file_extension": ".py",
   "mimetype": "text/x-python",
   "name": "python",
   "nbconvert_exporter": "python",
   "pygments_lexer": "ipython3",
   "version": "3.6.4"
  }
 },
 "nbformat": 4,
 "nbformat_minor": 2
}
