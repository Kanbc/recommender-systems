{
 "cells": [
  {
   "cell_type": "code",
   "execution_count": 146,
   "metadata": {},
   "outputs": [],
   "source": [
    "import unicodecsv\n",
    "import pandas as pd\n",
    "#read data from CSV file and make it to lists\n",
    "def read_csv(filename):\n",
    "    with open(filename, 'rb') as f:\n",
    "        reader = unicodecsv.DictReader(f)\n",
    "        return list(reader)"
   ]
  },
  {
   "cell_type": "code",
   "execution_count": 147,
   "metadata": {
    "collapsed": true
   },
   "outputs": [],
   "source": [
    "user = read_csv('../data_20180120/customer.csv')"
   ]
  },
  {
   "cell_type": "code",
   "execution_count": 148,
   "metadata": {
    "scrolled": false
   },
   "outputs": [
    {
     "data": {
      "text/html": [
       "<div>\n",
       "<style>\n",
       "    .dataframe thead tr:only-child th {\n",
       "        text-align: right;\n",
       "    }\n",
       "\n",
       "    .dataframe thead th {\n",
       "        text-align: left;\n",
       "    }\n",
       "\n",
       "    .dataframe tbody tr th {\n",
       "        vertical-align: top;\n",
       "    }\n",
       "</style>\n",
       "<table border=\"1\" class=\"dataframe\">\n",
       "  <thead>\n",
       "    <tr style=\"text-align: right;\">\n",
       "      <th></th>\n",
       "      <th>CUSTOMER_ID</th>\n",
       "      <th>FIRST_NAME</th>\n",
       "      <th>IS_DESIGNER</th>\n",
       "      <th>BPCODE</th>\n",
       "      <th>ADDRESS_NO</th>\n",
       "      <th>ADDRESS_POSTAL_CODE</th>\n",
       "      <th>ADDRESS_PROVINCE_ID</th>\n",
       "      <th>ADDRESS_PROVINCE</th>\n",
       "      <th>ADDRESS_STREET</th>\n",
       "      <th>ADDRESS_DISTRICT_ID</th>\n",
       "      <th>ADDRESS_DISTRICT</th>\n",
       "      <th>ADDRESS_SUB_DISTRICT_ID</th>\n",
       "      <th>ADDRESS_SUB_DISTRICT</th>\n",
       "      <th>ADDRESS_TYPE</th>\n",
       "      <th>ADDRESS_BUILDING</th>\n",
       "      <th>ADDRESS_OFFICE_NAME</th>\n",
       "      <th>DATE_OF_BIRTH</th>\n",
       "    </tr>\n",
       "  </thead>\n",
       "  <tbody>\n",
       "    <tr>\n",
       "      <th>0</th>\n",
       "      <td>2,083</td>\n",
       "      <td>ฐนันทิพย์</td>\n",
       "      <td>N</td>\n",
       "      <td>1100698858</td>\n",
       "      <td>2</td>\n",
       "      <td>20170</td>\n",
       "      <td>04090000000</td>\n",
       "      <td>จ.ชลบุรี</td>\n",
       "      <td>เซิดน้อย</td>\n",
       "      <td>04094570000</td>\n",
       "      <td>อ.บ้านบึง</td>\n",
       "      <td>04094573409</td>\n",
       "      <td>ต.บ้านบึง</td>\n",
       "      <td>บ้านพักอาศัย</td>\n",
       "      <td>เอเชีย</td>\n",
       "      <td>Cupcode</td>\n",
       "      <td>1988-10-30</td>\n",
       "    </tr>\n",
       "    <tr>\n",
       "      <th>1</th>\n",
       "      <td>2,102</td>\n",
       "      <td>ทดสอบ002</td>\n",
       "      <td>N</td>\n",
       "      <td>1900036840</td>\n",
       "      <td></td>\n",
       "      <td></td>\n",
       "      <td></td>\n",
       "      <td></td>\n",
       "      <td></td>\n",
       "      <td></td>\n",
       "      <td></td>\n",
       "      <td></td>\n",
       "      <td></td>\n",
       "      <td></td>\n",
       "      <td></td>\n",
       "      <td></td>\n",
       "      <td></td>\n",
       "    </tr>\n",
       "    <tr>\n",
       "      <th>2</th>\n",
       "      <td>2,223</td>\n",
       "      <td>Ping</td>\n",
       "      <td>N</td>\n",
       "      <td>1900036887</td>\n",
       "      <td></td>\n",
       "      <td></td>\n",
       "      <td></td>\n",
       "      <td></td>\n",
       "      <td></td>\n",
       "      <td></td>\n",
       "      <td></td>\n",
       "      <td></td>\n",
       "      <td></td>\n",
       "      <td></td>\n",
       "      <td></td>\n",
       "      <td></td>\n",
       "      <td></td>\n",
       "    </tr>\n",
       "    <tr>\n",
       "      <th>3</th>\n",
       "      <td>2,224</td>\n",
       "      <td>มาศสุภา</td>\n",
       "      <td>N</td>\n",
       "      <td>1900036888</td>\n",
       "      <td></td>\n",
       "      <td></td>\n",
       "      <td></td>\n",
       "      <td></td>\n",
       "      <td></td>\n",
       "      <td></td>\n",
       "      <td></td>\n",
       "      <td></td>\n",
       "      <td></td>\n",
       "      <td></td>\n",
       "      <td></td>\n",
       "      <td></td>\n",
       "      <td></td>\n",
       "    </tr>\n",
       "    <tr>\n",
       "      <th>4</th>\n",
       "      <td>2,284</td>\n",
       "      <td>Tanate</td>\n",
       "      <td>N</td>\n",
       "      <td>1900036922</td>\n",
       "      <td></td>\n",
       "      <td></td>\n",
       "      <td></td>\n",
       "      <td></td>\n",
       "      <td></td>\n",
       "      <td></td>\n",
       "      <td></td>\n",
       "      <td></td>\n",
       "      <td></td>\n",
       "      <td></td>\n",
       "      <td></td>\n",
       "      <td></td>\n",
       "      <td></td>\n",
       "    </tr>\n",
       "  </tbody>\n",
       "</table>\n",
       "</div>"
      ],
      "text/plain": [
       "  CUSTOMER_ID FIRST_NAME IS_DESIGNER      BPCODE ADDRESS_NO  \\\n",
       "0       2,083  ฐนันทิพย์           N  1100698858          2   \n",
       "1       2,102   ทดสอบ002           N  1900036840              \n",
       "2       2,223       Ping           N  1900036887              \n",
       "3       2,224    มาศสุภา           N  1900036888              \n",
       "4       2,284     Tanate           N  1900036922              \n",
       "\n",
       "  ADDRESS_POSTAL_CODE ADDRESS_PROVINCE_ID ADDRESS_PROVINCE ADDRESS_STREET  \\\n",
       "0               20170         04090000000         จ.ชลบุรี       เซิดน้อย   \n",
       "1                                                                           \n",
       "2                                                                           \n",
       "3                                                                           \n",
       "4                                                                           \n",
       "\n",
       "  ADDRESS_DISTRICT_ID ADDRESS_DISTRICT ADDRESS_SUB_DISTRICT_ID  \\\n",
       "0         04094570000        อ.บ้านบึง             04094573409   \n",
       "1                                                                \n",
       "2                                                                \n",
       "3                                                                \n",
       "4                                                                \n",
       "\n",
       "  ADDRESS_SUB_DISTRICT  ADDRESS_TYPE ADDRESS_BUILDING ADDRESS_OFFICE_NAME  \\\n",
       "0            ต.บ้านบึง  บ้านพักอาศัย           เอเชีย             Cupcode   \n",
       "1                                                                           \n",
       "2                                                                           \n",
       "3                                                                           \n",
       "4                                                                           \n",
       "\n",
       "  DATE_OF_BIRTH  \n",
       "0    1988-10-30  \n",
       "1                \n",
       "2                \n",
       "3                \n",
       "4                "
      ]
     },
     "execution_count": 148,
     "metadata": {},
     "output_type": "execute_result"
    }
   ],
   "source": [
    "users = pd.DataFrame(user)\n",
    "users[:5]"
   ]
  },
  {
   "cell_type": "code",
   "execution_count": 149,
   "metadata": {},
   "outputs": [
    {
     "data": {
      "text/plain": [
       "36212"
      ]
     },
     "execution_count": 149,
     "metadata": {},
     "output_type": "execute_result"
    }
   ],
   "source": [
    "len(users)"
   ]
  },
  {
   "cell_type": "markdown",
   "metadata": {},
   "source": [
    "# คัดเอาis nullออก"
   ]
  },
  {
   "cell_type": "code",
   "execution_count": 150,
   "metadata": {
    "scrolled": true
   },
   "outputs": [
    {
     "data": {
      "text/html": [
       "<div>\n",
       "<style>\n",
       "    .dataframe thead tr:only-child th {\n",
       "        text-align: right;\n",
       "    }\n",
       "\n",
       "    .dataframe thead th {\n",
       "        text-align: left;\n",
       "    }\n",
       "\n",
       "    .dataframe tbody tr th {\n",
       "        vertical-align: top;\n",
       "    }\n",
       "</style>\n",
       "<table border=\"1\" class=\"dataframe\">\n",
       "  <thead>\n",
       "    <tr style=\"text-align: right;\">\n",
       "      <th></th>\n",
       "      <th>CUSTOMER_ID</th>\n",
       "      <th>FIRST_NAME</th>\n",
       "      <th>IS_DESIGNER</th>\n",
       "      <th>BPCODE</th>\n",
       "      <th>ADDRESS_NO</th>\n",
       "      <th>ADDRESS_POSTAL_CODE</th>\n",
       "      <th>ADDRESS_PROVINCE_ID</th>\n",
       "      <th>ADDRESS_PROVINCE</th>\n",
       "      <th>ADDRESS_STREET</th>\n",
       "      <th>ADDRESS_DISTRICT_ID</th>\n",
       "      <th>ADDRESS_DISTRICT</th>\n",
       "      <th>ADDRESS_SUB_DISTRICT_ID</th>\n",
       "      <th>ADDRESS_SUB_DISTRICT</th>\n",
       "      <th>ADDRESS_TYPE</th>\n",
       "      <th>ADDRESS_BUILDING</th>\n",
       "      <th>ADDRESS_OFFICE_NAME</th>\n",
       "      <th>DATE_OF_BIRTH</th>\n",
       "    </tr>\n",
       "  </thead>\n",
       "  <tbody>\n",
       "    <tr>\n",
       "      <th>0</th>\n",
       "      <td>2083</td>\n",
       "      <td>ฐนันทิพย์</td>\n",
       "      <td>N</td>\n",
       "      <td>1100698858</td>\n",
       "      <td>2</td>\n",
       "      <td>20170</td>\n",
       "      <td>04090000000</td>\n",
       "      <td>จ.ชลบุรี</td>\n",
       "      <td>เซิดน้อย</td>\n",
       "      <td>04094570000</td>\n",
       "      <td>อ.บ้านบึง</td>\n",
       "      <td>04094573409</td>\n",
       "      <td>ต.บ้านบึง</td>\n",
       "      <td>บ้านพักอาศัย</td>\n",
       "      <td>เอเชีย</td>\n",
       "      <td>Cupcode</td>\n",
       "      <td>1988-10-30</td>\n",
       "    </tr>\n",
       "    <tr>\n",
       "      <th>13</th>\n",
       "      <td>2390</td>\n",
       "      <td>ภิญญามาศ</td>\n",
       "      <td>N</td>\n",
       "      <td>1100700539</td>\n",
       "      <td>770/73</td>\n",
       "      <td>10250</td>\n",
       "      <td>01010000000</td>\n",
       "      <td>กรุงเทพมหานคร</td>\n",
       "      <td>ถ.พัฒนาการ</td>\n",
       "      <td>01011230000</td>\n",
       "      <td>แขวงสวนหลวง</td>\n",
       "      <td>01011230120</td>\n",
       "      <td>เขตสวนหลวง</td>\n",
       "      <td>HOUSE</td>\n",
       "      <td>หมู่บ้านพาทิโอ</td>\n",
       "      <td></td>\n",
       "      <td>1986-8-11</td>\n",
       "    </tr>\n",
       "    <tr>\n",
       "      <th>16</th>\n",
       "      <td>2406</td>\n",
       "      <td>พัชรา</td>\n",
       "      <td>N</td>\n",
       "      <td>1100698992</td>\n",
       "      <td>ห้อง55/56</td>\n",
       "      <td>10150</td>\n",
       "      <td>01010000000</td>\n",
       "      <td>กรุงเทพมหานคร</td>\n",
       "      <td>ราชพฤกษ์</td>\n",
       "      <td>01010870000</td>\n",
       "      <td>แขวงบางค้อ</td>\n",
       "      <td>01010870055</td>\n",
       "      <td>เขตจอมทอง</td>\n",
       "      <td>CONDOMINIUM</td>\n",
       "      <td>คอนโดIdeo วุฒากาศ</td>\n",
       "      <td>บล.หลักทรัพย์ฟิลลิป</td>\n",
       "      <td>1983-10-10</td>\n",
       "    </tr>\n",
       "    <tr>\n",
       "      <th>21</th>\n",
       "      <td>2412</td>\n",
       "      <td>ณภัทร</td>\n",
       "      <td>N</td>\n",
       "      <td>1100463792</td>\n",
       "      <td>164/316</td>\n",
       "      <td>11110</td>\n",
       "      <td>01240000000</td>\n",
       "      <td>จ.นนทบุรี</td>\n",
       "      <td>บางกรวย-ไทรน้อย</td>\n",
       "      <td>01244250000</td>\n",
       "      <td>ต.พิมลราช</td>\n",
       "      <td>01244254131</td>\n",
       "      <td>อ.บางบัวทอง</td>\n",
       "      <td>HOUSE</td>\n",
       "      <td></td>\n",
       "      <td></td>\n",
       "      <td>1989-10-25</td>\n",
       "    </tr>\n",
       "    <tr>\n",
       "      <th>22</th>\n",
       "      <td>2413</td>\n",
       "      <td>ทวีศักดิ์</td>\n",
       "      <td>N</td>\n",
       "      <td>1100694276</td>\n",
       "      <td>320/144 (ตึก A ห้อง 1009)</td>\n",
       "      <td>11000</td>\n",
       "      <td>01240000000</td>\n",
       "      <td>จ.นนทบุรี</td>\n",
       "      <td>รัตนาธิเบศร์</td>\n",
       "      <td>01246240000</td>\n",
       "      <td>ต.บางกระสอ</td>\n",
       "      <td>01246243042</td>\n",
       "      <td>อ.เมืองนนทบุรี</td>\n",
       "      <td>CONDOMINIUM</td>\n",
       "      <td>ลุมพินีพาร์ค รัตนาธิเบศร์-งามวงศ์วาน</td>\n",
       "      <td></td>\n",
       "      <td>1982-6-4</td>\n",
       "    </tr>\n",
       "  </tbody>\n",
       "</table>\n",
       "</div>"
      ],
      "text/plain": [
       "    CUSTOMER_ID FIRST_NAME IS_DESIGNER      BPCODE                 ADDRESS_NO  \\\n",
       "0          2083  ฐนันทิพย์           N  1100698858                          2   \n",
       "13         2390   ภิญญามาศ           N  1100700539                     770/73   \n",
       "16         2406      พัชรา           N  1100698992                  ห้อง55/56   \n",
       "21         2412      ณภัทร           N  1100463792                    164/316   \n",
       "22         2413  ทวีศักดิ์           N  1100694276  320/144 (ตึก A ห้อง 1009)   \n",
       "\n",
       "   ADDRESS_POSTAL_CODE ADDRESS_PROVINCE_ID ADDRESS_PROVINCE   ADDRESS_STREET  \\\n",
       "0                20170         04090000000         จ.ชลบุรี         เซิดน้อย   \n",
       "13               10250         01010000000    กรุงเทพมหานคร       ถ.พัฒนาการ   \n",
       "16               10150         01010000000    กรุงเทพมหานคร         ราชพฤกษ์   \n",
       "21               11110         01240000000        จ.นนทบุรี  บางกรวย-ไทรน้อย   \n",
       "22               11000         01240000000        จ.นนทบุรี     รัตนาธิเบศร์   \n",
       "\n",
       "   ADDRESS_DISTRICT_ID ADDRESS_DISTRICT ADDRESS_SUB_DISTRICT_ID  \\\n",
       "0          04094570000        อ.บ้านบึง             04094573409   \n",
       "13         01011230000      แขวงสวนหลวง             01011230120   \n",
       "16         01010870000       แขวงบางค้อ             01010870055   \n",
       "21         01244250000        ต.พิมลราช             01244254131   \n",
       "22         01246240000       ต.บางกระสอ             01246243042   \n",
       "\n",
       "   ADDRESS_SUB_DISTRICT  ADDRESS_TYPE                      ADDRESS_BUILDING  \\\n",
       "0             ต.บ้านบึง  บ้านพักอาศัย                                เอเชีย   \n",
       "13           เขตสวนหลวง         HOUSE                        หมู่บ้านพาทิโอ   \n",
       "16            เขตจอมทอง   CONDOMINIUM                     คอนโดIdeo วุฒากาศ   \n",
       "21          อ.บางบัวทอง         HOUSE                                         \n",
       "22       อ.เมืองนนทบุรี   CONDOMINIUM  ลุมพินีพาร์ค รัตนาธิเบศร์-งามวงศ์วาน   \n",
       "\n",
       "    ADDRESS_OFFICE_NAME DATE_OF_BIRTH  \n",
       "0               Cupcode    1988-10-30  \n",
       "13                          1986-8-11  \n",
       "16  บล.หลักทรัพย์ฟิลลิป    1983-10-10  \n",
       "21                         1989-10-25  \n",
       "22                           1982-6-4  "
      ]
     },
     "execution_count": 150,
     "metadata": {},
     "output_type": "execute_result"
    }
   ],
   "source": [
    "import locale\n",
    "locale.setlocale(locale.LC_ALL, '') \n",
    "\n",
    "neww_users = users[:]\n",
    "\n",
    "neww_users['CUSTOMER_ID'] = users['CUSTOMER_ID'].apply(locale.atoi)\n",
    "neww_users_birth = neww_users[neww_users['DATE_OF_BIRTH'].notnull() & (neww_users['DATE_OF_BIRTH'] != \"\")]\n",
    "\n",
    "neww_users_birth[:5]"
   ]
  },
  {
   "cell_type": "markdown",
   "metadata": {},
   "source": [
    "# customer ที่ไม่ได้filter"
   ]
  },
  {
   "cell_type": "code",
   "execution_count": 151,
   "metadata": {
    "collapsed": true
   },
   "outputs": [],
   "source": [
    "cutomer_no_filter = neww_users[neww_users['DATE_OF_BIRTH'].notnull() & (neww_users['DATE_OF_BIRTH'] != \"\")]"
   ]
  },
  {
   "cell_type": "code",
   "execution_count": 152,
   "metadata": {},
   "outputs": [
    {
     "data": {
      "text/plain": [
       "0    1988-10-30\n",
       "1              \n",
       "2              \n",
       "3              \n",
       "4              \n",
       "5              \n",
       "6              \n",
       "7              \n",
       "8              \n",
       "9              \n",
       "Name: DATE_OF_BIRTH, dtype: object"
      ]
     },
     "execution_count": 152,
     "metadata": {},
     "output_type": "execute_result"
    }
   ],
   "source": [
    "df_age_null = users['DATE_OF_BIRTH']\n",
    "df_age_null[:10]"
   ]
  },
  {
   "cell_type": "code",
   "execution_count": 153,
   "metadata": {},
   "outputs": [
    {
     "data": {
      "text/html": [
       "<div>\n",
       "<style>\n",
       "    .dataframe thead tr:only-child th {\n",
       "        text-align: right;\n",
       "    }\n",
       "\n",
       "    .dataframe thead th {\n",
       "        text-align: left;\n",
       "    }\n",
       "\n",
       "    .dataframe tbody tr th {\n",
       "        vertical-align: top;\n",
       "    }\n",
       "</style>\n",
       "<table border=\"1\" class=\"dataframe\">\n",
       "  <thead>\n",
       "    <tr style=\"text-align: right;\">\n",
       "      <th></th>\n",
       "      <th>DATE_OF_BIRTH</th>\n",
       "    </tr>\n",
       "  </thead>\n",
       "  <tbody>\n",
       "    <tr>\n",
       "      <th>0</th>\n",
       "      <td>1988-10-30</td>\n",
       "    </tr>\n",
       "    <tr>\n",
       "      <th>1</th>\n",
       "      <td></td>\n",
       "    </tr>\n",
       "    <tr>\n",
       "      <th>2</th>\n",
       "      <td></td>\n",
       "    </tr>\n",
       "    <tr>\n",
       "      <th>3</th>\n",
       "      <td></td>\n",
       "    </tr>\n",
       "  </tbody>\n",
       "</table>\n",
       "</div>"
      ],
      "text/plain": [
       "  DATE_OF_BIRTH\n",
       "0    1988-10-30\n",
       "1              \n",
       "2              \n",
       "3              "
      ]
     },
     "execution_count": 153,
     "metadata": {},
     "output_type": "execute_result"
    }
   ],
   "source": [
    "date_null = pd.DataFrame(df_age_null)\n",
    "date_null[:4]"
   ]
  },
  {
   "cell_type": "code",
   "execution_count": 170,
   "metadata": {
    "collapsed": true
   },
   "outputs": [],
   "source": [
    "from datetime import datetime\n",
    "\n",
    "def bd_to_age(bd_str):\n",
    "    if  (bd_str != \"\"):\n",
    "        datetime_ob = datetime.strptime(bd_str, '%Y-%m-%d').date()\n",
    "        now = datetime.now().date()\n",
    "        delta = (now - datetime_ob)\n",
    "        number_of_days = delta.days\n",
    "        number_of_years = number_of_days/365\n",
    "        return number_of_years\n",
    "    else:\n",
    "        return None"
   ]
  },
  {
   "cell_type": "code",
   "execution_count": 171,
   "metadata": {},
   "outputs": [
    {
     "data": {
      "text/plain": [
       "29.30958904109589"
      ]
     },
     "execution_count": 171,
     "metadata": {},
     "output_type": "execute_result"
    }
   ],
   "source": [
    "bd_to_age('1988-10-30')"
   ]
  },
  {
   "cell_type": "code",
   "execution_count": 172,
   "metadata": {},
   "outputs": [
    {
     "data": {
      "text/plain": [
       "0    29.309589\n",
       "1          NaN\n",
       "2          NaN\n",
       "3          NaN\n",
       "4          NaN\n",
       "Name: DATE_OF_BIRTH, dtype: float64"
      ]
     },
     "execution_count": 172,
     "metadata": {},
     "output_type": "execute_result"
    }
   ],
   "source": [
    "age_null = date_null['DATE_OF_BIRTH'].apply(bd_to_age)\n",
    "age_null[:5]"
   ]
  },
  {
   "cell_type": "markdown",
   "metadata": {},
   "source": [
    "# รวม id age address"
   ]
  },
  {
   "cell_type": "code",
   "execution_count": 175,
   "metadata": {},
   "outputs": [],
   "source": [
    "id_x = neww_users['CUSTOMER_ID']"
   ]
  },
  {
   "cell_type": "code",
   "execution_count": 176,
   "metadata": {
    "collapsed": true
   },
   "outputs": [],
   "source": [
    "df_customer= pd.DataFrame(id_x)\n"
   ]
  },
  {
   "cell_type": "code",
   "execution_count": 122,
   "metadata": {
    "scrolled": true
   },
   "outputs": [
    {
     "data": {
      "text/html": [
       "<div>\n",
       "<style>\n",
       "    .dataframe thead tr:only-child th {\n",
       "        text-align: right;\n",
       "    }\n",
       "\n",
       "    .dataframe thead th {\n",
       "        text-align: left;\n",
       "    }\n",
       "\n",
       "    .dataframe tbody tr th {\n",
       "        vertical-align: top;\n",
       "    }\n",
       "</style>\n",
       "<table border=\"1\" class=\"dataframe\">\n",
       "  <thead>\n",
       "    <tr style=\"text-align: right;\">\n",
       "      <th></th>\n",
       "      <th>CUSTOMER_ID</th>\n",
       "      <th>ADDRESS_POSTAL_CODE</th>\n",
       "      <th>DATE_OF_BIRTH</th>\n",
       "    </tr>\n",
       "  </thead>\n",
       "  <tbody>\n",
       "    <tr>\n",
       "      <th>0</th>\n",
       "      <td>2083</td>\n",
       "      <td>20170</td>\n",
       "      <td>1988-10-30</td>\n",
       "    </tr>\n",
       "    <tr>\n",
       "      <th>13</th>\n",
       "      <td>2390</td>\n",
       "      <td>10250</td>\n",
       "      <td>1986-8-11</td>\n",
       "    </tr>\n",
       "    <tr>\n",
       "      <th>16</th>\n",
       "      <td>2406</td>\n",
       "      <td>10150</td>\n",
       "      <td>1983-10-10</td>\n",
       "    </tr>\n",
       "    <tr>\n",
       "      <th>21</th>\n",
       "      <td>2412</td>\n",
       "      <td>11110</td>\n",
       "      <td>1989-10-25</td>\n",
       "    </tr>\n",
       "    <tr>\n",
       "      <th>22</th>\n",
       "      <td>2413</td>\n",
       "      <td>11000</td>\n",
       "      <td>1982-6-4</td>\n",
       "    </tr>\n",
       "  </tbody>\n",
       "</table>\n",
       "</div>"
      ],
      "text/plain": [
       "    CUSTOMER_ID ADDRESS_POSTAL_CODE DATE_OF_BIRTH\n",
       "0          2083               20170    1988-10-30\n",
       "13         2390               10250     1986-8-11\n",
       "16         2406               10150    1983-10-10\n",
       "21         2412               11110    1989-10-25\n",
       "22         2413               11000      1982-6-4"
      ]
     },
     "execution_count": 122,
     "metadata": {},
     "output_type": "execute_result"
    }
   ],
   "source": [
    "customer = neww_users_birth['CUSTOMER_ID']\n",
    "address = neww_users_birth['ADDRESS_POSTAL_CODE']\n",
    "date = neww_users_birth['DATE_OF_BIRTH']\n",
    "\n",
    "\n",
    "new_users = pd.concat([customer,address,date], axis=1)\n",
    "new_users[:5]"
   ]
  },
  {
   "cell_type": "code",
   "execution_count": 123,
   "metadata": {},
   "outputs": [
    {
     "data": {
      "text/plain": [
       "CUSTOMER_ID             int64\n",
       "ADDRESS_POSTAL_CODE    object\n",
       "DATE_OF_BIRTH          object\n",
       "dtype: object"
      ]
     },
     "execution_count": 123,
     "metadata": {},
     "output_type": "execute_result"
    }
   ],
   "source": [
    "new_users.dtypes"
   ]
  },
  {
   "cell_type": "code",
   "execution_count": 126,
   "metadata": {},
   "outputs": [
    {
     "name": "stderr",
     "output_type": "stream",
     "text": [
      "C:\\Users\\User\\Anaconda3\\lib\\site-packages\\ipykernel_launcher.py:1: FutureWarning: convert_objects is deprecated.  Use the data-type specific converters pd.to_datetime, pd.to_timedelta and pd.to_numeric.\n",
      "  \"\"\"Entry point for launching an IPython kernel.\n"
     ]
    }
   ],
   "source": [
    "new_users = new_users.convert_objects(convert_numeric=True)"
   ]
  },
  {
   "cell_type": "code",
   "execution_count": 127,
   "metadata": {},
   "outputs": [
    {
     "data": {
      "text/plain": [
       "CUSTOMER_ID              int64\n",
       "ADDRESS_POSTAL_CODE    float64\n",
       "DATE_OF_BIRTH           object\n",
       "dtype: object"
      ]
     },
     "execution_count": 127,
     "metadata": {},
     "output_type": "execute_result"
    }
   ],
   "source": [
    "new_users.dtypes"
   ]
  },
  {
   "cell_type": "code",
   "execution_count": 128,
   "metadata": {},
   "outputs": [
    {
     "data": {
      "text/plain": [
       "0    20170\n",
       "1         \n",
       "2         \n",
       "3         \n",
       "4         \n",
       "Name: ADDRESS_POSTAL_CODE, dtype: object"
      ]
     },
     "execution_count": 128,
     "metadata": {},
     "output_type": "execute_result"
    }
   ],
   "source": [
    "address_only = users['ADDRESS_POSTAL_CODE']\n",
    "address_only[:5]"
   ]
  },
  {
   "cell_type": "code",
   "execution_count": 129,
   "metadata": {},
   "outputs": [
    {
     "data": {
      "text/html": [
       "<div>\n",
       "<style>\n",
       "    .dataframe thead tr:only-child th {\n",
       "        text-align: right;\n",
       "    }\n",
       "\n",
       "    .dataframe thead th {\n",
       "        text-align: left;\n",
       "    }\n",
       "\n",
       "    .dataframe tbody tr th {\n",
       "        vertical-align: top;\n",
       "    }\n",
       "</style>\n",
       "<table border=\"1\" class=\"dataframe\">\n",
       "  <thead>\n",
       "    <tr style=\"text-align: right;\">\n",
       "      <th></th>\n",
       "      <th>ADDRESS_POSTAL_CODE</th>\n",
       "    </tr>\n",
       "  </thead>\n",
       "  <tbody>\n",
       "    <tr>\n",
       "      <th>0</th>\n",
       "      <td>20170</td>\n",
       "    </tr>\n",
       "    <tr>\n",
       "      <th>1</th>\n",
       "      <td></td>\n",
       "    </tr>\n",
       "    <tr>\n",
       "      <th>2</th>\n",
       "      <td></td>\n",
       "    </tr>\n",
       "    <tr>\n",
       "      <th>3</th>\n",
       "      <td></td>\n",
       "    </tr>\n",
       "    <tr>\n",
       "      <th>4</th>\n",
       "      <td></td>\n",
       "    </tr>\n",
       "  </tbody>\n",
       "</table>\n",
       "</div>"
      ],
      "text/plain": [
       "  ADDRESS_POSTAL_CODE\n",
       "0               20170\n",
       "1                    \n",
       "2                    \n",
       "3                    \n",
       "4                    "
      ]
     },
     "execution_count": 129,
     "metadata": {},
     "output_type": "execute_result"
    }
   ],
   "source": [
    "df_address = pd.DataFrame(address_only ,columns=['ADDRESS_POSTAL_CODE'])\n",
    "df_address[:5]"
   ]
  },
  {
   "cell_type": "markdown",
   "metadata": {},
   "source": [
    "# check null "
   ]
  },
  {
   "cell_type": "code",
   "execution_count": 130,
   "metadata": {
    "scrolled": true
   },
   "outputs": [
    {
     "data": {
      "text/plain": [
       "ADDRESS_POSTAL_CODE    False\n",
       "dtype: bool"
      ]
     },
     "execution_count": 130,
     "metadata": {},
     "output_type": "execute_result"
    }
   ],
   "source": [
    "pd.isnull(df_address).sum()>0"
   ]
  },
  {
   "cell_type": "markdown",
   "metadata": {},
   "source": [
    "# เอา empty ออกจาก address"
   ]
  },
  {
   "cell_type": "code",
   "execution_count": 131,
   "metadata": {},
   "outputs": [
    {
     "name": "stderr",
     "output_type": "stream",
     "text": [
      "C:\\Users\\User\\Anaconda3\\lib\\site-packages\\ipykernel_launcher.py:2: FutureWarning: convert_objects is deprecated.  Use the data-type specific converters pd.to_datetime, pd.to_timedelta and pd.to_numeric.\n",
      "  \n"
     ]
    },
    {
     "data": {
      "text/html": [
       "<div>\n",
       "<style>\n",
       "    .dataframe thead tr:only-child th {\n",
       "        text-align: right;\n",
       "    }\n",
       "\n",
       "    .dataframe thead th {\n",
       "        text-align: left;\n",
       "    }\n",
       "\n",
       "    .dataframe tbody tr th {\n",
       "        vertical-align: top;\n",
       "    }\n",
       "</style>\n",
       "<table border=\"1\" class=\"dataframe\">\n",
       "  <thead>\n",
       "    <tr style=\"text-align: right;\">\n",
       "      <th></th>\n",
       "      <th>ADDRESS_POSTAL_CODE</th>\n",
       "    </tr>\n",
       "  </thead>\n",
       "  <tbody>\n",
       "    <tr>\n",
       "      <th>0</th>\n",
       "      <td>20170.0</td>\n",
       "    </tr>\n",
       "    <tr>\n",
       "      <th>1</th>\n",
       "      <td>NaN</td>\n",
       "    </tr>\n",
       "    <tr>\n",
       "      <th>2</th>\n",
       "      <td>NaN</td>\n",
       "    </tr>\n",
       "    <tr>\n",
       "      <th>3</th>\n",
       "      <td>NaN</td>\n",
       "    </tr>\n",
       "  </tbody>\n",
       "</table>\n",
       "</div>"
      ],
      "text/plain": [
       "   ADDRESS_POSTAL_CODE\n",
       "0              20170.0\n",
       "1                  NaN\n",
       "2                  NaN\n",
       "3                  NaN"
      ]
     },
     "execution_count": 131,
     "metadata": {},
     "output_type": "execute_result"
    }
   ],
   "source": [
    "df_address = pd.DataFrame(address_only ,columns=['ADDRESS_POSTAL_CODE'])\n",
    "df_address[:5].convert_objects(convert_numeric=True)[:4]"
   ]
  },
  {
   "cell_type": "code",
   "execution_count": 132,
   "metadata": {},
   "outputs": [
    {
     "name": "stderr",
     "output_type": "stream",
     "text": [
      "C:\\Users\\User\\Anaconda3\\lib\\site-packages\\ipykernel_launcher.py:1: FutureWarning: convert_objects is deprecated.  Use the data-type specific converters pd.to_datetime, pd.to_timedelta and pd.to_numeric.\n",
      "  \"\"\"Entry point for launching an IPython kernel.\n"
     ]
    },
    {
     "data": {
      "text/html": [
       "<div>\n",
       "<style>\n",
       "    .dataframe thead tr:only-child th {\n",
       "        text-align: right;\n",
       "    }\n",
       "\n",
       "    .dataframe thead th {\n",
       "        text-align: left;\n",
       "    }\n",
       "\n",
       "    .dataframe tbody tr th {\n",
       "        vertical-align: top;\n",
       "    }\n",
       "</style>\n",
       "<table border=\"1\" class=\"dataframe\">\n",
       "  <thead>\n",
       "    <tr style=\"text-align: right;\">\n",
       "      <th></th>\n",
       "      <th>ADDRESS_POSTAL_CODE</th>\n",
       "    </tr>\n",
       "  </thead>\n",
       "  <tbody>\n",
       "    <tr>\n",
       "      <th>0</th>\n",
       "      <td>20170.0</td>\n",
       "    </tr>\n",
       "    <tr>\n",
       "      <th>9</th>\n",
       "      <td>11120.0</td>\n",
       "    </tr>\n",
       "    <tr>\n",
       "      <th>10</th>\n",
       "      <td>10210.0</td>\n",
       "    </tr>\n",
       "    <tr>\n",
       "      <th>13</th>\n",
       "      <td>10250.0</td>\n",
       "    </tr>\n",
       "    <tr>\n",
       "      <th>16</th>\n",
       "      <td>10150.0</td>\n",
       "    </tr>\n",
       "  </tbody>\n",
       "</table>\n",
       "</div>"
      ],
      "text/plain": [
       "    ADDRESS_POSTAL_CODE\n",
       "0               20170.0\n",
       "9               11120.0\n",
       "10              10210.0\n",
       "13              10250.0\n",
       "16              10150.0"
      ]
     },
     "execution_count": 132,
     "metadata": {},
     "output_type": "execute_result"
    }
   ],
   "source": [
    "address2 = df_address.convert_objects(convert_numeric=True).dropna()\n",
    "address2[:5]"
   ]
  },
  {
   "cell_type": "markdown",
   "metadata": {},
   "source": [
    "# รวมแถว customer กับ address"
   ]
  },
  {
   "cell_type": "code",
   "execution_count": 133,
   "metadata": {},
   "outputs": [
    {
     "data": {
      "text/html": [
       "<div>\n",
       "<style>\n",
       "    .dataframe thead tr:only-child th {\n",
       "        text-align: right;\n",
       "    }\n",
       "\n",
       "    .dataframe thead th {\n",
       "        text-align: left;\n",
       "    }\n",
       "\n",
       "    .dataframe tbody tr th {\n",
       "        vertical-align: top;\n",
       "    }\n",
       "</style>\n",
       "<table border=\"1\" class=\"dataframe\">\n",
       "  <thead>\n",
       "    <tr style=\"text-align: right;\">\n",
       "      <th></th>\n",
       "      <th>CUSTOMER_ID</th>\n",
       "      <th>ADDRESS_POSTAL_CODE</th>\n",
       "    </tr>\n",
       "  </thead>\n",
       "  <tbody>\n",
       "    <tr>\n",
       "      <th>0</th>\n",
       "      <td>2083.0</td>\n",
       "      <td>20170.0</td>\n",
       "    </tr>\n",
       "    <tr>\n",
       "      <th>9</th>\n",
       "      <td>NaN</td>\n",
       "      <td>11120.0</td>\n",
       "    </tr>\n",
       "    <tr>\n",
       "      <th>10</th>\n",
       "      <td>NaN</td>\n",
       "      <td>10210.0</td>\n",
       "    </tr>\n",
       "    <tr>\n",
       "      <th>13</th>\n",
       "      <td>2390.0</td>\n",
       "      <td>10250.0</td>\n",
       "    </tr>\n",
       "    <tr>\n",
       "      <th>16</th>\n",
       "      <td>2406.0</td>\n",
       "      <td>10150.0</td>\n",
       "    </tr>\n",
       "  </tbody>\n",
       "</table>\n",
       "</div>"
      ],
      "text/plain": [
       "    CUSTOMER_ID  ADDRESS_POSTAL_CODE\n",
       "0        2083.0              20170.0\n",
       "9           NaN              11120.0\n",
       "10          NaN              10210.0\n",
       "13       2390.0              10250.0\n",
       "16       2406.0              10150.0"
      ]
     },
     "execution_count": 133,
     "metadata": {},
     "output_type": "execute_result"
    }
   ],
   "source": [
    "id_address = pd.concat([customer,address2], axis=1)\n",
    "id_address[:5]"
   ]
  },
  {
   "cell_type": "markdown",
   "metadata": {},
   "source": [
    "# ตัด null ออก"
   ]
  },
  {
   "cell_type": "code",
   "execution_count": 134,
   "metadata": {
    "scrolled": true
   },
   "outputs": [
    {
     "data": {
      "text/html": [
       "<div>\n",
       "<style>\n",
       "    .dataframe thead tr:only-child th {\n",
       "        text-align: right;\n",
       "    }\n",
       "\n",
       "    .dataframe thead th {\n",
       "        text-align: left;\n",
       "    }\n",
       "\n",
       "    .dataframe tbody tr th {\n",
       "        vertical-align: top;\n",
       "    }\n",
       "</style>\n",
       "<table border=\"1\" class=\"dataframe\">\n",
       "  <thead>\n",
       "    <tr style=\"text-align: right;\">\n",
       "      <th></th>\n",
       "      <th>CUSTOMER_ID</th>\n",
       "      <th>ADDRESS_POSTAL_CODE</th>\n",
       "    </tr>\n",
       "  </thead>\n",
       "  <tbody>\n",
       "    <tr>\n",
       "      <th>0</th>\n",
       "      <td>2083.0</td>\n",
       "      <td>20170.0</td>\n",
       "    </tr>\n",
       "    <tr>\n",
       "      <th>13</th>\n",
       "      <td>2390.0</td>\n",
       "      <td>10250.0</td>\n",
       "    </tr>\n",
       "    <tr>\n",
       "      <th>16</th>\n",
       "      <td>2406.0</td>\n",
       "      <td>10150.0</td>\n",
       "    </tr>\n",
       "    <tr>\n",
       "      <th>21</th>\n",
       "      <td>2412.0</td>\n",
       "      <td>11110.0</td>\n",
       "    </tr>\n",
       "    <tr>\n",
       "      <th>22</th>\n",
       "      <td>2413.0</td>\n",
       "      <td>11000.0</td>\n",
       "    </tr>\n",
       "  </tbody>\n",
       "</table>\n",
       "</div>"
      ],
      "text/plain": [
       "    CUSTOMER_ID  ADDRESS_POSTAL_CODE\n",
       "0        2083.0              20170.0\n",
       "13       2390.0              10250.0\n",
       "16       2406.0              10150.0\n",
       "21       2412.0              11110.0\n",
       "22       2413.0              11000.0"
      ]
     },
     "execution_count": 134,
     "metadata": {},
     "output_type": "execute_result"
    }
   ],
   "source": [
    " id_notnull = id_address[id_address['CUSTOMER_ID'].notnull()&(id_address['ADDRESS_POSTAL_CODE'].notnull())]\n",
    "id_notnull[:5]\n"
   ]
  },
  {
   "cell_type": "code",
   "execution_count": 135,
   "metadata": {},
   "outputs": [
    {
     "data": {
      "text/plain": [
       "10276"
      ]
     },
     "execution_count": 135,
     "metadata": {},
     "output_type": "execute_result"
    }
   ],
   "source": [
    "len(id_notnull)"
   ]
  },
  {
   "cell_type": "code",
   "execution_count": 136,
   "metadata": {},
   "outputs": [
    {
     "data": {
      "text/plain": [
       "CUSTOMER_ID            False\n",
       "ADDRESS_POSTAL_CODE    False\n",
       "dtype: bool"
      ]
     },
     "execution_count": 136,
     "metadata": {},
     "output_type": "execute_result"
    }
   ],
   "source": [
    "pd.isnull(id_notnull).sum()>0"
   ]
  },
  {
   "cell_type": "code",
   "execution_count": 137,
   "metadata": {
    "collapsed": true
   },
   "outputs": [],
   "source": [
    "id_notnull.to_csv('../data_clean/customer_address.csv', index = False)"
   ]
  },
  {
   "cell_type": "code",
   "execution_count": 180,
   "metadata": {},
   "outputs": [
    {
     "data": {
      "text/html": [
       "<div>\n",
       "<style>\n",
       "    .dataframe thead tr:only-child th {\n",
       "        text-align: right;\n",
       "    }\n",
       "\n",
       "    .dataframe thead th {\n",
       "        text-align: left;\n",
       "    }\n",
       "\n",
       "    .dataframe tbody tr th {\n",
       "        vertical-align: top;\n",
       "    }\n",
       "</style>\n",
       "<table border=\"1\" class=\"dataframe\">\n",
       "  <thead>\n",
       "    <tr style=\"text-align: right;\">\n",
       "      <th></th>\n",
       "      <th>CUSTOMER_ID</th>\n",
       "      <th>DATE_OF_BIRTH</th>\n",
       "      <th>ADDRESS_POSTAL_CODE</th>\n",
       "    </tr>\n",
       "  </thead>\n",
       "  <tbody>\n",
       "    <tr>\n",
       "      <th>0</th>\n",
       "      <td>2083</td>\n",
       "      <td>29.309589</td>\n",
       "      <td>20170.0</td>\n",
       "    </tr>\n",
       "    <tr>\n",
       "      <th>1</th>\n",
       "      <td>2102</td>\n",
       "      <td>NaN</td>\n",
       "      <td>NaN</td>\n",
       "    </tr>\n",
       "    <tr>\n",
       "      <th>2</th>\n",
       "      <td>2223</td>\n",
       "      <td>NaN</td>\n",
       "      <td>NaN</td>\n",
       "    </tr>\n",
       "    <tr>\n",
       "      <th>3</th>\n",
       "      <td>2224</td>\n",
       "      <td>NaN</td>\n",
       "      <td>NaN</td>\n",
       "    </tr>\n",
       "    <tr>\n",
       "      <th>4</th>\n",
       "      <td>2284</td>\n",
       "      <td>NaN</td>\n",
       "      <td>NaN</td>\n",
       "    </tr>\n",
       "  </tbody>\n",
       "</table>\n",
       "</div>"
      ],
      "text/plain": [
       "   CUSTOMER_ID  DATE_OF_BIRTH  ADDRESS_POSTAL_CODE\n",
       "0         2083      29.309589              20170.0\n",
       "1         2102            NaN                  NaN\n",
       "2         2223            NaN                  NaN\n",
       "3         2224            NaN                  NaN\n",
       "4         2284            NaN                  NaN"
      ]
     },
     "execution_count": 180,
     "metadata": {},
     "output_type": "execute_result"
    }
   ],
   "source": [
    "id_age_add = pd.concat([df_customer,age_null,address2], axis=1)\n",
    "id_age_add[:5]"
   ]
  },
  {
   "cell_type": "code",
   "execution_count": 183,
   "metadata": {},
   "outputs": [],
   "source": [
    "id_age_add.to_csv('../data_clean/customer.csv', index = False)"
   ]
  },
  {
   "cell_type": "markdown",
   "metadata": {},
   "source": [
    "# Age"
   ]
  },
  {
   "cell_type": "code",
   "execution_count": 84,
   "metadata": {},
   "outputs": [
    {
     "data": {
      "text/plain": [
       "10276"
      ]
     },
     "execution_count": 84,
     "metadata": {},
     "output_type": "execute_result"
    }
   ],
   "source": [
    "len(id_notnull)"
   ]
  },
  {
   "cell_type": "code",
   "execution_count": 85,
   "metadata": {},
   "outputs": [
    {
     "data": {
      "text/plain": [
       "CUSTOMER_ID             int64\n",
       "ADDRESS_POSTAL_CODE    object\n",
       "DATE_OF_BIRTH          object\n",
       "dtype: object"
      ]
     },
     "execution_count": 85,
     "metadata": {},
     "output_type": "execute_result"
    }
   ],
   "source": [
    "new_users.dtypes"
   ]
  },
  {
   "cell_type": "code",
   "execution_count": 86,
   "metadata": {},
   "outputs": [
    {
     "data": {
      "text/html": [
       "<div>\n",
       "<style>\n",
       "    .dataframe thead tr:only-child th {\n",
       "        text-align: right;\n",
       "    }\n",
       "\n",
       "    .dataframe thead th {\n",
       "        text-align: left;\n",
       "    }\n",
       "\n",
       "    .dataframe tbody tr th {\n",
       "        vertical-align: top;\n",
       "    }\n",
       "</style>\n",
       "<table border=\"1\" class=\"dataframe\">\n",
       "  <thead>\n",
       "    <tr style=\"text-align: right;\">\n",
       "      <th></th>\n",
       "      <th>CUSTOMER_ID</th>\n",
       "      <th>ADDRESS_POSTAL_CODE</th>\n",
       "      <th>DATE_OF_BIRTH</th>\n",
       "    </tr>\n",
       "  </thead>\n",
       "  <tbody>\n",
       "    <tr>\n",
       "      <th>0</th>\n",
       "      <td>2083</td>\n",
       "      <td>20170</td>\n",
       "      <td>1988-10-30</td>\n",
       "    </tr>\n",
       "    <tr>\n",
       "      <th>13</th>\n",
       "      <td>2390</td>\n",
       "      <td>10250</td>\n",
       "      <td>1986-8-11</td>\n",
       "    </tr>\n",
       "    <tr>\n",
       "      <th>16</th>\n",
       "      <td>2406</td>\n",
       "      <td>10150</td>\n",
       "      <td>1983-10-10</td>\n",
       "    </tr>\n",
       "    <tr>\n",
       "      <th>21</th>\n",
       "      <td>2412</td>\n",
       "      <td>11110</td>\n",
       "      <td>1989-10-25</td>\n",
       "    </tr>\n",
       "    <tr>\n",
       "      <th>22</th>\n",
       "      <td>2413</td>\n",
       "      <td>11000</td>\n",
       "      <td>1982-6-4</td>\n",
       "    </tr>\n",
       "  </tbody>\n",
       "</table>\n",
       "</div>"
      ],
      "text/plain": [
       "    CUSTOMER_ID ADDRESS_POSTAL_CODE DATE_OF_BIRTH\n",
       "0          2083               20170    1988-10-30\n",
       "13         2390               10250     1986-8-11\n",
       "16         2406               10150    1983-10-10\n",
       "21         2412               11110    1989-10-25\n",
       "22         2413               11000      1982-6-4"
      ]
     },
     "execution_count": 86,
     "metadata": {},
     "output_type": "execute_result"
    }
   ],
   "source": [
    "new_users[:5]"
   ]
  },
  {
   "cell_type": "markdown",
   "metadata": {},
   "source": [
    "# Convert date to age"
   ]
  },
  {
   "cell_type": "code",
   "execution_count": 87,
   "metadata": {},
   "outputs": [
    {
     "data": {
      "text/plain": [
       "0     1988-10-30\n",
       "13     1986-8-11\n",
       "16    1983-10-10\n",
       "21    1989-10-25\n",
       "22      1982-6-4\n",
       "Name: DATE_OF_BIRTH, dtype: object"
      ]
     },
     "execution_count": 87,
     "metadata": {},
     "output_type": "execute_result"
    }
   ],
   "source": [
    "y_m_d = new_users['DATE_OF_BIRTH']\n",
    "y_m_d[:5]"
   ]
  },
  {
   "cell_type": "code",
   "execution_count": 88,
   "metadata": {},
   "outputs": [
    {
     "data": {
      "text/plain": [
       "datetime.datetime(2018, 2, 13, 14, 27, 41, 85052)"
      ]
     },
     "execution_count": 88,
     "metadata": {},
     "output_type": "execute_result"
    }
   ],
   "source": [
    "\n",
    "from datetime import datetime\n",
    "now = datetime.now()\n",
    "now"
   ]
  },
  {
   "cell_type": "code",
   "execution_count": 89,
   "metadata": {},
   "outputs": [
    {
     "data": {
      "text/plain": [
       "2018"
      ]
     },
     "execution_count": 89,
     "metadata": {},
     "output_type": "execute_result"
    }
   ],
   "source": [
    " y = now.year\n",
    "y"
   ]
  },
  {
   "cell_type": "code",
   "execution_count": 90,
   "metadata": {},
   "outputs": [
    {
     "data": {
      "text/plain": [
       "30"
      ]
     },
     "execution_count": 90,
     "metadata": {},
     "output_type": "execute_result"
    }
   ],
   "source": [
    " y- int('1988')"
   ]
  },
  {
   "cell_type": "code",
   "execution_count": 91,
   "metadata": {
    "collapsed": true
   },
   "outputs": [],
   "source": [
    "from datetime import datetime\n",
    "\n",
    "def bd_to_age(bd_str):\n",
    "    datetime_ob = datetime.strptime(bd_str, '%Y-%m-%d').date()\n",
    "    now = datetime.now().date()\n",
    "    delta = (now - datetime_ob)\n",
    "    number_of_days = delta.days\n",
    "    number_of_years = number_of_days/365\n",
    "    return number_of_years"
   ]
  },
  {
   "cell_type": "code",
   "execution_count": 92,
   "metadata": {},
   "outputs": [
    {
     "data": {
      "text/plain": [
       "29.30958904109589"
      ]
     },
     "execution_count": 92,
     "metadata": {},
     "output_type": "execute_result"
    }
   ],
   "source": [
    "bd_to_age('1988-10-30')"
   ]
  },
  {
   "cell_type": "markdown",
   "metadata": {},
   "source": [
    "# Age"
   ]
  },
  {
   "cell_type": "code",
   "execution_count": 93,
   "metadata": {},
   "outputs": [
    {
     "data": {
      "text/plain": [
       "0     29.309589\n",
       "13    31.531507\n",
       "16    34.369863\n",
       "21    28.323288\n",
       "22    35.720548\n",
       "Name: DATE_OF_BIRTH, dtype: float64"
      ]
     },
     "execution_count": 93,
     "metadata": {},
     "output_type": "execute_result"
    }
   ],
   "source": [
    " age_dirt = new_users['DATE_OF_BIRTH'].apply(bd_to_age)\n",
    "age_dirt[:5]"
   ]
  },
  {
   "cell_type": "code",
   "execution_count": 94,
   "metadata": {},
   "outputs": [
    {
     "data": {
      "text/plain": [
       "10594"
      ]
     },
     "execution_count": 94,
     "metadata": {},
     "output_type": "execute_result"
    }
   ],
   "source": [
    "len(age_dirt)"
   ]
  },
  {
   "cell_type": "markdown",
   "metadata": {},
   "source": [
    "# รวมแถวที่มี id&address&date"
   ]
  },
  {
   "cell_type": "code",
   "execution_count": 95,
   "metadata": {},
   "outputs": [
    {
     "data": {
      "text/html": [
       "<div>\n",
       "<style>\n",
       "    .dataframe thead tr:only-child th {\n",
       "        text-align: right;\n",
       "    }\n",
       "\n",
       "    .dataframe thead th {\n",
       "        text-align: left;\n",
       "    }\n",
       "\n",
       "    .dataframe tbody tr th {\n",
       "        vertical-align: top;\n",
       "    }\n",
       "</style>\n",
       "<table border=\"1\" class=\"dataframe\">\n",
       "  <thead>\n",
       "    <tr style=\"text-align: right;\">\n",
       "      <th></th>\n",
       "      <th>CUSTOMER_ID</th>\n",
       "      <th>ADDRESS_POSTAL_CODE</th>\n",
       "      <th>DATE_OF_BIRTH</th>\n",
       "    </tr>\n",
       "  </thead>\n",
       "  <tbody>\n",
       "    <tr>\n",
       "      <th>0</th>\n",
       "      <td>2083</td>\n",
       "      <td>20170</td>\n",
       "      <td>29.309589</td>\n",
       "    </tr>\n",
       "    <tr>\n",
       "      <th>13</th>\n",
       "      <td>2390</td>\n",
       "      <td>10250</td>\n",
       "      <td>31.531507</td>\n",
       "    </tr>\n",
       "    <tr>\n",
       "      <th>16</th>\n",
       "      <td>2406</td>\n",
       "      <td>10150</td>\n",
       "      <td>34.369863</td>\n",
       "    </tr>\n",
       "    <tr>\n",
       "      <th>21</th>\n",
       "      <td>2412</td>\n",
       "      <td>11110</td>\n",
       "      <td>28.323288</td>\n",
       "    </tr>\n",
       "    <tr>\n",
       "      <th>22</th>\n",
       "      <td>2413</td>\n",
       "      <td>11000</td>\n",
       "      <td>35.720548</td>\n",
       "    </tr>\n",
       "    <tr>\n",
       "      <th>24</th>\n",
       "      <td>2416</td>\n",
       "      <td>10280</td>\n",
       "      <td>35.873973</td>\n",
       "    </tr>\n",
       "    <tr>\n",
       "      <th>26</th>\n",
       "      <td>2082</td>\n",
       "      <td>11120</td>\n",
       "      <td>41.336986</td>\n",
       "    </tr>\n",
       "    <tr>\n",
       "      <th>27</th>\n",
       "      <td>2142</td>\n",
       "      <td>10140</td>\n",
       "      <td>29.531507</td>\n",
       "    </tr>\n",
       "    <tr>\n",
       "      <th>32</th>\n",
       "      <td>2291</td>\n",
       "      <td>12130</td>\n",
       "      <td>33.616438</td>\n",
       "    </tr>\n",
       "    <tr>\n",
       "      <th>36</th>\n",
       "      <td>2316</td>\n",
       "      <td>10250</td>\n",
       "      <td>22.589041</td>\n",
       "    </tr>\n",
       "  </tbody>\n",
       "</table>\n",
       "</div>"
      ],
      "text/plain": [
       "    CUSTOMER_ID ADDRESS_POSTAL_CODE  DATE_OF_BIRTH\n",
       "0          2083               20170      29.309589\n",
       "13         2390               10250      31.531507\n",
       "16         2406               10150      34.369863\n",
       "21         2412               11110      28.323288\n",
       "22         2413               11000      35.720548\n",
       "24         2416               10280      35.873973\n",
       "26         2082               11120      41.336986\n",
       "27         2142               10140      29.531507\n",
       "32         2291               12130      33.616438\n",
       "36         2316               10250      22.589041"
      ]
     },
     "execution_count": 95,
     "metadata": {},
     "output_type": "execute_result"
    }
   ],
   "source": [
    "users_all = pd.concat([customer,address,age_dirt], axis=1)\n",
    "users_all[:10]"
   ]
  },
  {
   "cell_type": "code",
   "execution_count": 96,
   "metadata": {},
   "outputs": [
    {
     "data": {
      "text/plain": [
       "CUSTOMER_ID            False\n",
       "ADDRESS_POSTAL_CODE    False\n",
       "DATE_OF_BIRTH          False\n",
       "dtype: bool"
      ]
     },
     "execution_count": 96,
     "metadata": {},
     "output_type": "execute_result"
    }
   ],
   "source": [
    "pd.isnull(users_all).sum() > 0"
   ]
  },
  {
   "cell_type": "code",
   "execution_count": 97,
   "metadata": {},
   "outputs": [
    {
     "data": {
      "text/html": [
       "<div>\n",
       "<style>\n",
       "    .dataframe thead tr:only-child th {\n",
       "        text-align: right;\n",
       "    }\n",
       "\n",
       "    .dataframe thead th {\n",
       "        text-align: left;\n",
       "    }\n",
       "\n",
       "    .dataframe tbody tr th {\n",
       "        vertical-align: top;\n",
       "    }\n",
       "</style>\n",
       "<table border=\"1\" class=\"dataframe\">\n",
       "  <thead>\n",
       "    <tr style=\"text-align: right;\">\n",
       "      <th></th>\n",
       "      <th>CUSTOMER_ID</th>\n",
       "      <th>ADDRESS_POSTAL_CODE</th>\n",
       "      <th>DATE_OF_BIRTH</th>\n",
       "      <th>Age</th>\n",
       "    </tr>\n",
       "  </thead>\n",
       "  <tbody>\n",
       "    <tr>\n",
       "      <th>0</th>\n",
       "      <td>2083</td>\n",
       "      <td>20170</td>\n",
       "      <td>29.309589</td>\n",
       "      <td>29.309589</td>\n",
       "    </tr>\n",
       "    <tr>\n",
       "      <th>13</th>\n",
       "      <td>2390</td>\n",
       "      <td>10250</td>\n",
       "      <td>31.531507</td>\n",
       "      <td>31.531507</td>\n",
       "    </tr>\n",
       "    <tr>\n",
       "      <th>16</th>\n",
       "      <td>2406</td>\n",
       "      <td>10150</td>\n",
       "      <td>34.369863</td>\n",
       "      <td>34.369863</td>\n",
       "    </tr>\n",
       "    <tr>\n",
       "      <th>21</th>\n",
       "      <td>2412</td>\n",
       "      <td>11110</td>\n",
       "      <td>28.323288</td>\n",
       "      <td>28.323288</td>\n",
       "    </tr>\n",
       "    <tr>\n",
       "      <th>22</th>\n",
       "      <td>2413</td>\n",
       "      <td>11000</td>\n",
       "      <td>35.720548</td>\n",
       "      <td>35.720548</td>\n",
       "    </tr>\n",
       "  </tbody>\n",
       "</table>\n",
       "</div>"
      ],
      "text/plain": [
       "    CUSTOMER_ID ADDRESS_POSTAL_CODE  DATE_OF_BIRTH        Age\n",
       "0          2083               20170      29.309589  29.309589\n",
       "13         2390               10250      31.531507  31.531507\n",
       "16         2406               10150      34.369863  34.369863\n",
       "21         2412               11110      28.323288  28.323288\n",
       "22         2413               11000      35.720548  35.720548"
      ]
     },
     "execution_count": 97,
     "metadata": {},
     "output_type": "execute_result"
    }
   ],
   "source": [
    "users_all['Age'] = age_dirt\n",
    "users_all[:5]"
   ]
  },
  {
   "cell_type": "markdown",
   "metadata": {},
   "source": [
    "# ลบแถวDATE_OF_BIRTH"
   ]
  },
  {
   "cell_type": "code",
   "execution_count": 98,
   "metadata": {
    "scrolled": false
   },
   "outputs": [
    {
     "data": {
      "text/html": [
       "<div>\n",
       "<style>\n",
       "    .dataframe thead tr:only-child th {\n",
       "        text-align: right;\n",
       "    }\n",
       "\n",
       "    .dataframe thead th {\n",
       "        text-align: left;\n",
       "    }\n",
       "\n",
       "    .dataframe tbody tr th {\n",
       "        vertical-align: top;\n",
       "    }\n",
       "</style>\n",
       "<table border=\"1\" class=\"dataframe\">\n",
       "  <thead>\n",
       "    <tr style=\"text-align: right;\">\n",
       "      <th></th>\n",
       "      <th>CUSTOMER_ID</th>\n",
       "      <th>ADDRESS_POSTAL_CODE</th>\n",
       "      <th>Age</th>\n",
       "    </tr>\n",
       "  </thead>\n",
       "  <tbody>\n",
       "    <tr>\n",
       "      <th>0</th>\n",
       "      <td>2083</td>\n",
       "      <td>20170</td>\n",
       "      <td>29.309589</td>\n",
       "    </tr>\n",
       "    <tr>\n",
       "      <th>13</th>\n",
       "      <td>2390</td>\n",
       "      <td>10250</td>\n",
       "      <td>31.531507</td>\n",
       "    </tr>\n",
       "    <tr>\n",
       "      <th>16</th>\n",
       "      <td>2406</td>\n",
       "      <td>10150</td>\n",
       "      <td>34.369863</td>\n",
       "    </tr>\n",
       "    <tr>\n",
       "      <th>21</th>\n",
       "      <td>2412</td>\n",
       "      <td>11110</td>\n",
       "      <td>28.323288</td>\n",
       "    </tr>\n",
       "    <tr>\n",
       "      <th>22</th>\n",
       "      <td>2413</td>\n",
       "      <td>11000</td>\n",
       "      <td>35.720548</td>\n",
       "    </tr>\n",
       "  </tbody>\n",
       "</table>\n",
       "</div>"
      ],
      "text/plain": [
       "    CUSTOMER_ID ADDRESS_POSTAL_CODE        Age\n",
       "0          2083               20170  29.309589\n",
       "13         2390               10250  31.531507\n",
       "16         2406               10150  34.369863\n",
       "21         2412               11110  28.323288\n",
       "22         2413               11000  35.720548"
      ]
     },
     "execution_count": 98,
     "metadata": {},
     "output_type": "execute_result"
    }
   ],
   "source": [
    "del users_all['DATE_OF_BIRTH']\n",
    "\n",
    "users_all[:5]"
   ]
  },
  {
   "cell_type": "code",
   "execution_count": 99,
   "metadata": {},
   "outputs": [
    {
     "data": {
      "text/plain": [
       "10594"
      ]
     },
     "execution_count": 99,
     "metadata": {},
     "output_type": "execute_result"
    }
   ],
   "source": [
    "len(users_all)"
   ]
  },
  {
   "cell_type": "markdown",
   "metadata": {},
   "source": [
    "# check max of age"
   ]
  },
  {
   "cell_type": "code",
   "execution_count": 100,
   "metadata": {},
   "outputs": [
    {
     "data": {
      "text/plain": [
       "CUSTOMER_ID              55624\n",
       "ADDRESS_POSTAL_CODE      11110\n",
       "Age                    2017.46\n",
       "Name: 9726, dtype: object"
      ]
     },
     "execution_count": 100,
     "metadata": {},
     "output_type": "execute_result"
    }
   ],
   "source": [
    "users_all.loc[users_all['Age'].idxmax()]"
   ]
  },
  {
   "cell_type": "markdown",
   "metadata": {},
   "source": [
    "# กำหนดเอาค่าอายุระหว่าง0 ถึง 122ปี "
   ]
  },
  {
   "cell_type": "code",
   "execution_count": 101,
   "metadata": {
    "scrolled": false
   },
   "outputs": [
    {
     "data": {
      "text/html": [
       "<div>\n",
       "<style>\n",
       "    .dataframe thead tr:only-child th {\n",
       "        text-align: right;\n",
       "    }\n",
       "\n",
       "    .dataframe thead th {\n",
       "        text-align: left;\n",
       "    }\n",
       "\n",
       "    .dataframe tbody tr th {\n",
       "        vertical-align: top;\n",
       "    }\n",
       "</style>\n",
       "<table border=\"1\" class=\"dataframe\">\n",
       "  <thead>\n",
       "    <tr style=\"text-align: right;\">\n",
       "      <th></th>\n",
       "      <th>CUSTOMER_ID</th>\n",
       "      <th>ADDRESS_POSTAL_CODE</th>\n",
       "      <th>Age</th>\n",
       "    </tr>\n",
       "  </thead>\n",
       "  <tbody>\n",
       "    <tr>\n",
       "      <th>0</th>\n",
       "      <td>2083</td>\n",
       "      <td>20170</td>\n",
       "      <td>29.309589</td>\n",
       "    </tr>\n",
       "    <tr>\n",
       "      <th>13</th>\n",
       "      <td>2390</td>\n",
       "      <td>10250</td>\n",
       "      <td>31.531507</td>\n",
       "    </tr>\n",
       "    <tr>\n",
       "      <th>16</th>\n",
       "      <td>2406</td>\n",
       "      <td>10150</td>\n",
       "      <td>34.369863</td>\n",
       "    </tr>\n",
       "    <tr>\n",
       "      <th>21</th>\n",
       "      <td>2412</td>\n",
       "      <td>11110</td>\n",
       "      <td>28.323288</td>\n",
       "    </tr>\n",
       "    <tr>\n",
       "      <th>22</th>\n",
       "      <td>2413</td>\n",
       "      <td>11000</td>\n",
       "      <td>35.720548</td>\n",
       "    </tr>\n",
       "  </tbody>\n",
       "</table>\n",
       "</div>"
      ],
      "text/plain": [
       "    CUSTOMER_ID ADDRESS_POSTAL_CODE        Age\n",
       "0          2083               20170  29.309589\n",
       "13         2390               10250  31.531507\n",
       "16         2406               10150  34.369863\n",
       "21         2412               11110  28.323288\n",
       "22         2413               11000  35.720548"
      ]
     },
     "execution_count": 101,
     "metadata": {},
     "output_type": "execute_result"
    }
   ],
   "source": [
    "users_clean = users_all[users_all['CUSTOMER_ID'].notnull() & (users_all['ADDRESS_POSTAL_CODE'].notnull() )& (users_all['Age'] <= 122) &(users_all['Age'] >= 0)]\n",
    "\n",
    "users_clean[:5]"
   ]
  },
  {
   "cell_type": "code",
   "execution_count": 102,
   "metadata": {},
   "outputs": [
    {
     "data": {
      "text/plain": [
       "CUSTOMER_ID              int64\n",
       "ADDRESS_POSTAL_CODE     object\n",
       "Age                    float64\n",
       "dtype: object"
      ]
     },
     "execution_count": 102,
     "metadata": {},
     "output_type": "execute_result"
    }
   ],
   "source": [
    "users_all.dtypes"
   ]
  },
  {
   "cell_type": "markdown",
   "metadata": {},
   "source": [
    "# ดังนั้นข้อมูลที่cleanทั้งหมดมี 10,541"
   ]
  },
  {
   "cell_type": "code",
   "execution_count": 103,
   "metadata": {},
   "outputs": [
    {
     "data": {
      "text/plain": [
       "10541"
      ]
     },
     "execution_count": 103,
     "metadata": {},
     "output_type": "execute_result"
    }
   ],
   "source": [
    "len(users_clean )"
   ]
  },
  {
   "cell_type": "code",
   "execution_count": 104,
   "metadata": {},
   "outputs": [
    {
     "data": {
      "text/plain": [
       "10594"
      ]
     },
     "execution_count": 104,
     "metadata": {},
     "output_type": "execute_result"
    }
   ],
   "source": [
    "len(users_all)"
   ]
  },
  {
   "cell_type": "code",
   "execution_count": 105,
   "metadata": {},
   "outputs": [
    {
     "data": {
      "text/plain": [
       "CUSTOMER_ID              int64\n",
       "ADDRESS_POSTAL_CODE     object\n",
       "Age                    float64\n",
       "dtype: object"
      ]
     },
     "execution_count": 105,
     "metadata": {},
     "output_type": "execute_result"
    }
   ],
   "source": [
    "users_clean.dtypes"
   ]
  },
  {
   "cell_type": "code",
   "execution_count": 106,
   "metadata": {},
   "outputs": [
    {
     "data": {
      "text/plain": [
       "CUSTOMER_ID            False\n",
       "ADDRESS_POSTAL_CODE    False\n",
       "Age                    False\n",
       "dtype: bool"
      ]
     },
     "execution_count": 106,
     "metadata": {},
     "output_type": "execute_result"
    }
   ],
   "source": [
    "pd.isnull(users_clean).sum() > 0"
   ]
  },
  {
   "cell_type": "code",
   "execution_count": 107,
   "metadata": {},
   "outputs": [
    {
     "data": {
      "text/plain": [
       "array([[ 29.30958904],\n",
       "       [ 31.53150685],\n",
       "       [ 34.36986301],\n",
       "       ..., \n",
       "       [ 48.09589041],\n",
       "       [ 29.91232877],\n",
       "       [ 30.08493151]])"
      ]
     },
     "execution_count": 107,
     "metadata": {},
     "output_type": "execute_result"
    }
   ],
   "source": [
    "age_array=users_clean.as_matrix(columns=users_clean.columns[2:])  \n",
    "age_array"
   ]
  },
  {
   "cell_type": "markdown",
   "metadata": {},
   "source": [
    "# check max min"
   ]
  },
  {
   "cell_type": "code",
   "execution_count": 108,
   "metadata": {},
   "outputs": [
    {
     "data": {
      "text/plain": [
       "CUSTOMER_ID             175004\n",
       "ADDRESS_POSTAL_CODE           \n",
       "Age                    117.975\n",
       "Name: 30161, dtype: object"
      ]
     },
     "execution_count": 108,
     "metadata": {},
     "output_type": "execute_result"
    }
   ],
   "source": [
    "users_clean.loc[users_clean['Age'].idxmax()] "
   ]
  },
  {
   "cell_type": "code",
   "execution_count": 109,
   "metadata": {},
   "outputs": [
    {
     "data": {
      "text/plain": [
       "CUSTOMER_ID              186282\n",
       "ADDRESS_POSTAL_CODE       10110\n",
       "Age                    0.117808\n",
       "Name: 31810, dtype: object"
      ]
     },
     "execution_count": 109,
     "metadata": {},
     "output_type": "execute_result"
    }
   ],
   "source": [
    "users_clean.loc[users_clean['Age'].idxmin()] "
   ]
  },
  {
   "cell_type": "markdown",
   "metadata": {},
   "source": [
    "# mean"
   ]
  },
  {
   "cell_type": "code",
   "execution_count": 110,
   "metadata": {},
   "outputs": [
    {
     "data": {
      "text/plain": [
       "34.399431313865108"
      ]
     },
     "execution_count": 110,
     "metadata": {},
     "output_type": "execute_result"
    }
   ],
   "source": [
    "import numpy as np\n",
    "\n",
    "mean= np.mean(age_array)\n",
    "mean"
   ]
  },
  {
   "cell_type": "code",
   "execution_count": 111,
   "metadata": {},
   "outputs": [
    {
     "data": {
      "text/plain": [
       "9.9571972855965463"
      ]
     },
     "execution_count": 111,
     "metadata": {},
     "output_type": "execute_result"
    }
   ],
   "source": [
    "sd = np.std(age_array)\n",
    "sd"
   ]
  },
  {
   "cell_type": "code",
   "execution_count": null,
   "metadata": {
    "collapsed": true
   },
   "outputs": [],
   "source": []
  }
 ],
 "metadata": {
  "kernelspec": {
   "display_name": "Python 3",
   "language": "python",
   "name": "python3"
  },
  "language_info": {
   "codemirror_mode": {
    "name": "ipython",
    "version": 3
   },
   "file_extension": ".py",
   "mimetype": "text/x-python",
   "name": "python",
   "nbconvert_exporter": "python",
   "pygments_lexer": "ipython3",
   "version": "3.6.3"
  }
 },
 "nbformat": 4,
 "nbformat_minor": 2
}
