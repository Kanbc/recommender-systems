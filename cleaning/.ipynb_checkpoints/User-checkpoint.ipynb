{
 "cells": [
  {
   "cell_type": "code",
   "execution_count": 148,
   "metadata": {
    "collapsed": true
   },
   "outputs": [],
   "source": [
    "import unicodecsv\n",
    "import pandas as pd\n",
    "#read data from CSV file and make it to lists\n",
    "def read_csv(filename):\n",
    "    with open(filename, 'rb') as f:\n",
    "        reader = unicodecsv.DictReader(f)\n",
    "        return list(reader)"
   ]
  },
  {
   "cell_type": "code",
   "execution_count": 149,
   "metadata": {
    "collapsed": true
   },
   "outputs": [],
   "source": [
    "user = read_csv('../data_20180120/customer.csv')"
   ]
  },
  {
   "cell_type": "code",
   "execution_count": 150,
   "metadata": {
    "scrolled": false
   },
   "outputs": [
    {
     "data": {
      "text/html": [
       "<div>\n",
       "<style>\n",
       "    .dataframe thead tr:only-child th {\n",
       "        text-align: right;\n",
       "    }\n",
       "\n",
       "    .dataframe thead th {\n",
       "        text-align: left;\n",
       "    }\n",
       "\n",
       "    .dataframe tbody tr th {\n",
       "        vertical-align: top;\n",
       "    }\n",
       "</style>\n",
       "<table border=\"1\" class=\"dataframe\">\n",
       "  <thead>\n",
       "    <tr style=\"text-align: right;\">\n",
       "      <th></th>\n",
       "      <th>CUSTOMER_ID</th>\n",
       "      <th>FIRST_NAME</th>\n",
       "      <th>IS_DESIGNER</th>\n",
       "      <th>BPCODE</th>\n",
       "      <th>ADDRESS_NO</th>\n",
       "      <th>ADDRESS_POSTAL_CODE</th>\n",
       "      <th>ADDRESS_PROVINCE_ID</th>\n",
       "      <th>ADDRESS_PROVINCE</th>\n",
       "      <th>ADDRESS_STREET</th>\n",
       "      <th>ADDRESS_DISTRICT_ID</th>\n",
       "      <th>ADDRESS_DISTRICT</th>\n",
       "      <th>ADDRESS_SUB_DISTRICT_ID</th>\n",
       "      <th>ADDRESS_SUB_DISTRICT</th>\n",
       "      <th>ADDRESS_TYPE</th>\n",
       "      <th>ADDRESS_BUILDING</th>\n",
       "      <th>ADDRESS_OFFICE_NAME</th>\n",
       "      <th>DATE_OF_BIRTH</th>\n",
       "    </tr>\n",
       "  </thead>\n",
       "  <tbody>\n",
       "    <tr>\n",
       "      <th>0</th>\n",
       "      <td>2,083</td>\n",
       "      <td>ฐนันทิพย์</td>\n",
       "      <td>N</td>\n",
       "      <td>1100698858</td>\n",
       "      <td>2</td>\n",
       "      <td>20170</td>\n",
       "      <td>04090000000</td>\n",
       "      <td>จ.ชลบุรี</td>\n",
       "      <td>เซิดน้อย</td>\n",
       "      <td>04094570000</td>\n",
       "      <td>อ.บ้านบึง</td>\n",
       "      <td>04094573409</td>\n",
       "      <td>ต.บ้านบึง</td>\n",
       "      <td>บ้านพักอาศัย</td>\n",
       "      <td>เอเชีย</td>\n",
       "      <td>Cupcode</td>\n",
       "      <td>1988-10-30</td>\n",
       "    </tr>\n",
       "    <tr>\n",
       "      <th>1</th>\n",
       "      <td>2,102</td>\n",
       "      <td>ทดสอบ002</td>\n",
       "      <td>N</td>\n",
       "      <td>1900036840</td>\n",
       "      <td></td>\n",
       "      <td></td>\n",
       "      <td></td>\n",
       "      <td></td>\n",
       "      <td></td>\n",
       "      <td></td>\n",
       "      <td></td>\n",
       "      <td></td>\n",
       "      <td></td>\n",
       "      <td></td>\n",
       "      <td></td>\n",
       "      <td></td>\n",
       "      <td></td>\n",
       "    </tr>\n",
       "    <tr>\n",
       "      <th>2</th>\n",
       "      <td>2,223</td>\n",
       "      <td>Ping</td>\n",
       "      <td>N</td>\n",
       "      <td>1900036887</td>\n",
       "      <td></td>\n",
       "      <td></td>\n",
       "      <td></td>\n",
       "      <td></td>\n",
       "      <td></td>\n",
       "      <td></td>\n",
       "      <td></td>\n",
       "      <td></td>\n",
       "      <td></td>\n",
       "      <td></td>\n",
       "      <td></td>\n",
       "      <td></td>\n",
       "      <td></td>\n",
       "    </tr>\n",
       "    <tr>\n",
       "      <th>3</th>\n",
       "      <td>2,224</td>\n",
       "      <td>มาศสุภา</td>\n",
       "      <td>N</td>\n",
       "      <td>1900036888</td>\n",
       "      <td></td>\n",
       "      <td></td>\n",
       "      <td></td>\n",
       "      <td></td>\n",
       "      <td></td>\n",
       "      <td></td>\n",
       "      <td></td>\n",
       "      <td></td>\n",
       "      <td></td>\n",
       "      <td></td>\n",
       "      <td></td>\n",
       "      <td></td>\n",
       "      <td></td>\n",
       "    </tr>\n",
       "    <tr>\n",
       "      <th>4</th>\n",
       "      <td>2,284</td>\n",
       "      <td>Tanate</td>\n",
       "      <td>N</td>\n",
       "      <td>1900036922</td>\n",
       "      <td></td>\n",
       "      <td></td>\n",
       "      <td></td>\n",
       "      <td></td>\n",
       "      <td></td>\n",
       "      <td></td>\n",
       "      <td></td>\n",
       "      <td></td>\n",
       "      <td></td>\n",
       "      <td></td>\n",
       "      <td></td>\n",
       "      <td></td>\n",
       "      <td></td>\n",
       "    </tr>\n",
       "  </tbody>\n",
       "</table>\n",
       "</div>"
      ],
      "text/plain": [
       "  CUSTOMER_ID FIRST_NAME IS_DESIGNER      BPCODE ADDRESS_NO  \\\n",
       "0       2,083  ฐนันทิพย์           N  1100698858          2   \n",
       "1       2,102   ทดสอบ002           N  1900036840              \n",
       "2       2,223       Ping           N  1900036887              \n",
       "3       2,224    มาศสุภา           N  1900036888              \n",
       "4       2,284     Tanate           N  1900036922              \n",
       "\n",
       "  ADDRESS_POSTAL_CODE ADDRESS_PROVINCE_ID ADDRESS_PROVINCE ADDRESS_STREET  \\\n",
       "0               20170         04090000000         จ.ชลบุรี       เซิดน้อย   \n",
       "1                                                                           \n",
       "2                                                                           \n",
       "3                                                                           \n",
       "4                                                                           \n",
       "\n",
       "  ADDRESS_DISTRICT_ID ADDRESS_DISTRICT ADDRESS_SUB_DISTRICT_ID  \\\n",
       "0         04094570000        อ.บ้านบึง             04094573409   \n",
       "1                                                                \n",
       "2                                                                \n",
       "3                                                                \n",
       "4                                                                \n",
       "\n",
       "  ADDRESS_SUB_DISTRICT  ADDRESS_TYPE ADDRESS_BUILDING ADDRESS_OFFICE_NAME  \\\n",
       "0            ต.บ้านบึง  บ้านพักอาศัย           เอเชีย             Cupcode   \n",
       "1                                                                           \n",
       "2                                                                           \n",
       "3                                                                           \n",
       "4                                                                           \n",
       "\n",
       "  DATE_OF_BIRTH  \n",
       "0    1988-10-30  \n",
       "1                \n",
       "2                \n",
       "3                \n",
       "4                "
      ]
     },
     "execution_count": 150,
     "metadata": {},
     "output_type": "execute_result"
    }
   ],
   "source": [
    "users = pd.DataFrame(user)\n",
    "users[:5]"
   ]
  },
  {
   "cell_type": "code",
   "execution_count": 151,
   "metadata": {},
   "outputs": [
    {
     "data": {
      "text/plain": [
       "36212"
      ]
     },
     "execution_count": 151,
     "metadata": {},
     "output_type": "execute_result"
    }
   ],
   "source": [
    "len(users)"
   ]
  },
  {
   "cell_type": "code",
   "execution_count": 152,
   "metadata": {
    "scrolled": true
   },
   "outputs": [
    {
     "data": {
      "text/html": [
       "<div>\n",
       "<style>\n",
       "    .dataframe thead tr:only-child th {\n",
       "        text-align: right;\n",
       "    }\n",
       "\n",
       "    .dataframe thead th {\n",
       "        text-align: left;\n",
       "    }\n",
       "\n",
       "    .dataframe tbody tr th {\n",
       "        vertical-align: top;\n",
       "    }\n",
       "</style>\n",
       "<table border=\"1\" class=\"dataframe\">\n",
       "  <thead>\n",
       "    <tr style=\"text-align: right;\">\n",
       "      <th></th>\n",
       "      <th>CUSTOMER_ID</th>\n",
       "      <th>FIRST_NAME</th>\n",
       "      <th>IS_DESIGNER</th>\n",
       "      <th>BPCODE</th>\n",
       "      <th>ADDRESS_NO</th>\n",
       "      <th>ADDRESS_POSTAL_CODE</th>\n",
       "      <th>ADDRESS_PROVINCE_ID</th>\n",
       "      <th>ADDRESS_PROVINCE</th>\n",
       "      <th>ADDRESS_STREET</th>\n",
       "      <th>ADDRESS_DISTRICT_ID</th>\n",
       "      <th>ADDRESS_DISTRICT</th>\n",
       "      <th>ADDRESS_SUB_DISTRICT_ID</th>\n",
       "      <th>ADDRESS_SUB_DISTRICT</th>\n",
       "      <th>ADDRESS_TYPE</th>\n",
       "      <th>ADDRESS_BUILDING</th>\n",
       "      <th>ADDRESS_OFFICE_NAME</th>\n",
       "      <th>DATE_OF_BIRTH</th>\n",
       "    </tr>\n",
       "  </thead>\n",
       "  <tbody>\n",
       "    <tr>\n",
       "      <th>0</th>\n",
       "      <td>2083</td>\n",
       "      <td>ฐนันทิพย์</td>\n",
       "      <td>N</td>\n",
       "      <td>1100698858</td>\n",
       "      <td>2</td>\n",
       "      <td>20170</td>\n",
       "      <td>04090000000</td>\n",
       "      <td>จ.ชลบุรี</td>\n",
       "      <td>เซิดน้อย</td>\n",
       "      <td>04094570000</td>\n",
       "      <td>อ.บ้านบึง</td>\n",
       "      <td>04094573409</td>\n",
       "      <td>ต.บ้านบึง</td>\n",
       "      <td>บ้านพักอาศัย</td>\n",
       "      <td>เอเชีย</td>\n",
       "      <td>Cupcode</td>\n",
       "      <td>1988-10-30</td>\n",
       "    </tr>\n",
       "    <tr>\n",
       "      <th>13</th>\n",
       "      <td>2390</td>\n",
       "      <td>ภิญญามาศ</td>\n",
       "      <td>N</td>\n",
       "      <td>1100700539</td>\n",
       "      <td>770/73</td>\n",
       "      <td>10250</td>\n",
       "      <td>01010000000</td>\n",
       "      <td>กรุงเทพมหานคร</td>\n",
       "      <td>ถ.พัฒนาการ</td>\n",
       "      <td>01011230000</td>\n",
       "      <td>แขวงสวนหลวง</td>\n",
       "      <td>01011230120</td>\n",
       "      <td>เขตสวนหลวง</td>\n",
       "      <td>HOUSE</td>\n",
       "      <td>หมู่บ้านพาทิโอ</td>\n",
       "      <td></td>\n",
       "      <td>1986-8-11</td>\n",
       "    </tr>\n",
       "    <tr>\n",
       "      <th>16</th>\n",
       "      <td>2406</td>\n",
       "      <td>พัชรา</td>\n",
       "      <td>N</td>\n",
       "      <td>1100698992</td>\n",
       "      <td>ห้อง55/56</td>\n",
       "      <td>10150</td>\n",
       "      <td>01010000000</td>\n",
       "      <td>กรุงเทพมหานคร</td>\n",
       "      <td>ราชพฤกษ์</td>\n",
       "      <td>01010870000</td>\n",
       "      <td>แขวงบางค้อ</td>\n",
       "      <td>01010870055</td>\n",
       "      <td>เขตจอมทอง</td>\n",
       "      <td>CONDOMINIUM</td>\n",
       "      <td>คอนโดIdeo วุฒากาศ</td>\n",
       "      <td>บล.หลักทรัพย์ฟิลลิป</td>\n",
       "      <td>1983-10-10</td>\n",
       "    </tr>\n",
       "    <tr>\n",
       "      <th>21</th>\n",
       "      <td>2412</td>\n",
       "      <td>ณภัทร</td>\n",
       "      <td>N</td>\n",
       "      <td>1100463792</td>\n",
       "      <td>164/316</td>\n",
       "      <td>11110</td>\n",
       "      <td>01240000000</td>\n",
       "      <td>จ.นนทบุรี</td>\n",
       "      <td>บางกรวย-ไทรน้อย</td>\n",
       "      <td>01244250000</td>\n",
       "      <td>ต.พิมลราช</td>\n",
       "      <td>01244254131</td>\n",
       "      <td>อ.บางบัวทอง</td>\n",
       "      <td>HOUSE</td>\n",
       "      <td></td>\n",
       "      <td></td>\n",
       "      <td>1989-10-25</td>\n",
       "    </tr>\n",
       "    <tr>\n",
       "      <th>22</th>\n",
       "      <td>2413</td>\n",
       "      <td>ทวีศักดิ์</td>\n",
       "      <td>N</td>\n",
       "      <td>1100694276</td>\n",
       "      <td>320/144 (ตึก A ห้อง 1009)</td>\n",
       "      <td>11000</td>\n",
       "      <td>01240000000</td>\n",
       "      <td>จ.นนทบุรี</td>\n",
       "      <td>รัตนาธิเบศร์</td>\n",
       "      <td>01246240000</td>\n",
       "      <td>ต.บางกระสอ</td>\n",
       "      <td>01246243042</td>\n",
       "      <td>อ.เมืองนนทบุรี</td>\n",
       "      <td>CONDOMINIUM</td>\n",
       "      <td>ลุมพินีพาร์ค รัตนาธิเบศร์-งามวงศ์วาน</td>\n",
       "      <td></td>\n",
       "      <td>1982-6-4</td>\n",
       "    </tr>\n",
       "  </tbody>\n",
       "</table>\n",
       "</div>"
      ],
      "text/plain": [
       "    CUSTOMER_ID FIRST_NAME IS_DESIGNER      BPCODE                 ADDRESS_NO  \\\n",
       "0          2083  ฐนันทิพย์           N  1100698858                          2   \n",
       "13         2390   ภิญญามาศ           N  1100700539                     770/73   \n",
       "16         2406      พัชรา           N  1100698992                  ห้อง55/56   \n",
       "21         2412      ณภัทร           N  1100463792                    164/316   \n",
       "22         2413  ทวีศักดิ์           N  1100694276  320/144 (ตึก A ห้อง 1009)   \n",
       "\n",
       "   ADDRESS_POSTAL_CODE ADDRESS_PROVINCE_ID ADDRESS_PROVINCE   ADDRESS_STREET  \\\n",
       "0                20170         04090000000         จ.ชลบุรี         เซิดน้อย   \n",
       "13               10250         01010000000    กรุงเทพมหานคร       ถ.พัฒนาการ   \n",
       "16               10150         01010000000    กรุงเทพมหานคร         ราชพฤกษ์   \n",
       "21               11110         01240000000        จ.นนทบุรี  บางกรวย-ไทรน้อย   \n",
       "22               11000         01240000000        จ.นนทบุรี     รัตนาธิเบศร์   \n",
       "\n",
       "   ADDRESS_DISTRICT_ID ADDRESS_DISTRICT ADDRESS_SUB_DISTRICT_ID  \\\n",
       "0          04094570000        อ.บ้านบึง             04094573409   \n",
       "13         01011230000      แขวงสวนหลวง             01011230120   \n",
       "16         01010870000       แขวงบางค้อ             01010870055   \n",
       "21         01244250000        ต.พิมลราช             01244254131   \n",
       "22         01246240000       ต.บางกระสอ             01246243042   \n",
       "\n",
       "   ADDRESS_SUB_DISTRICT  ADDRESS_TYPE                      ADDRESS_BUILDING  \\\n",
       "0             ต.บ้านบึง  บ้านพักอาศัย                                เอเชีย   \n",
       "13           เขตสวนหลวง         HOUSE                        หมู่บ้านพาทิโอ   \n",
       "16            เขตจอมทอง   CONDOMINIUM                     คอนโดIdeo วุฒากาศ   \n",
       "21          อ.บางบัวทอง         HOUSE                                         \n",
       "22       อ.เมืองนนทบุรี   CONDOMINIUM  ลุมพินีพาร์ค รัตนาธิเบศร์-งามวงศ์วาน   \n",
       "\n",
       "    ADDRESS_OFFICE_NAME DATE_OF_BIRTH  \n",
       "0               Cupcode    1988-10-30  \n",
       "13                          1986-8-11  \n",
       "16  บล.หลักทรัพย์ฟิลลิป    1983-10-10  \n",
       "21                         1989-10-25  \n",
       "22                           1982-6-4  "
      ]
     },
     "execution_count": 152,
     "metadata": {},
     "output_type": "execute_result"
    }
   ],
   "source": [
    "import locale\n",
    "locale.setlocale(locale.LC_ALL, '') \n",
    "\n",
    "neww_users = users[:]\n",
    "\n",
    "neww_users['CUSTOMER_ID'] = users['CUSTOMER_ID'].apply(locale.atoi)\n",
    "neww_users_birth = neww_users[neww_users['DATE_OF_BIRTH'].notnull() & (neww_users['DATE_OF_BIRTH'] != \"\")]\n",
    "\n",
    "neww_users_birth[:5]"
   ]
  },
  {
   "cell_type": "code",
   "execution_count": 153,
   "metadata": {
    "scrolled": true
   },
   "outputs": [
    {
     "data": {
      "text/html": [
       "<div>\n",
       "<style>\n",
       "    .dataframe thead tr:only-child th {\n",
       "        text-align: right;\n",
       "    }\n",
       "\n",
       "    .dataframe thead th {\n",
       "        text-align: left;\n",
       "    }\n",
       "\n",
       "    .dataframe tbody tr th {\n",
       "        vertical-align: top;\n",
       "    }\n",
       "</style>\n",
       "<table border=\"1\" class=\"dataframe\">\n",
       "  <thead>\n",
       "    <tr style=\"text-align: right;\">\n",
       "      <th></th>\n",
       "      <th>CUSTOMER_ID</th>\n",
       "      <th>ADDRESS_POSTAL_CODE</th>\n",
       "      <th>DATE_OF_BIRTH</th>\n",
       "    </tr>\n",
       "  </thead>\n",
       "  <tbody>\n",
       "    <tr>\n",
       "      <th>0</th>\n",
       "      <td>2083</td>\n",
       "      <td>20170</td>\n",
       "      <td>1988-10-30</td>\n",
       "    </tr>\n",
       "    <tr>\n",
       "      <th>13</th>\n",
       "      <td>2390</td>\n",
       "      <td>10250</td>\n",
       "      <td>1986-8-11</td>\n",
       "    </tr>\n",
       "    <tr>\n",
       "      <th>16</th>\n",
       "      <td>2406</td>\n",
       "      <td>10150</td>\n",
       "      <td>1983-10-10</td>\n",
       "    </tr>\n",
       "    <tr>\n",
       "      <th>21</th>\n",
       "      <td>2412</td>\n",
       "      <td>11110</td>\n",
       "      <td>1989-10-25</td>\n",
       "    </tr>\n",
       "    <tr>\n",
       "      <th>22</th>\n",
       "      <td>2413</td>\n",
       "      <td>11000</td>\n",
       "      <td>1982-6-4</td>\n",
       "    </tr>\n",
       "  </tbody>\n",
       "</table>\n",
       "</div>"
      ],
      "text/plain": [
       "    CUSTOMER_ID ADDRESS_POSTAL_CODE DATE_OF_BIRTH\n",
       "0          2083               20170    1988-10-30\n",
       "13         2390               10250     1986-8-11\n",
       "16         2406               10150    1983-10-10\n",
       "21         2412               11110    1989-10-25\n",
       "22         2413               11000      1982-6-4"
      ]
     },
     "execution_count": 153,
     "metadata": {},
     "output_type": "execute_result"
    }
   ],
   "source": [
    "customer = neww_users_birth['CUSTOMER_ID']\n",
    "address = neww_users_birth['ADDRESS_POSTAL_CODE']\n",
    "date = neww_users_birth['DATE_OF_BIRTH']\n",
    "\n",
    "\n",
    "new_users = pd.concat([customer,address,date], axis=1)\n",
    "new_users[:5]"
   ]
  },
  {
   "cell_type": "markdown",
   "metadata": {},
   "source": [
    "# check จำนวน address"
   ]
  },
  {
   "cell_type": "code",
   "execution_count": 154,
   "metadata": {},
   "outputs": [
    {
     "data": {
      "text/plain": [
       "10594"
      ]
     },
     "execution_count": 154,
     "metadata": {},
     "output_type": "execute_result"
    }
   ],
   "source": [
    "len(address)"
   ]
  },
  {
   "cell_type": "markdown",
   "metadata": {},
   "source": [
    "# check จำนวน date"
   ]
  },
  {
   "cell_type": "code",
   "execution_count": 155,
   "metadata": {},
   "outputs": [
    {
     "data": {
      "text/plain": [
       "10594"
      ]
     },
     "execution_count": 155,
     "metadata": {},
     "output_type": "execute_result"
    }
   ],
   "source": [
    "len(date)"
   ]
  },
  {
   "cell_type": "markdown",
   "metadata": {},
   "source": [
    "# จำนวนในตารางที่มี id&address"
   ]
  },
  {
   "cell_type": "code",
   "execution_count": 187,
   "metadata": {},
   "outputs": [
    {
     "data": {
      "text/html": [
       "<div>\n",
       "<style>\n",
       "    .dataframe thead tr:only-child th {\n",
       "        text-align: right;\n",
       "    }\n",
       "\n",
       "    .dataframe thead th {\n",
       "        text-align: left;\n",
       "    }\n",
       "\n",
       "    .dataframe tbody tr th {\n",
       "        vertical-align: top;\n",
       "    }\n",
       "</style>\n",
       "<table border=\"1\" class=\"dataframe\">\n",
       "  <thead>\n",
       "    <tr style=\"text-align: right;\">\n",
       "      <th></th>\n",
       "      <th>CUSTOMER_ID</th>\n",
       "      <th>ADDRESS_POSTAL_CODE</th>\n",
       "    </tr>\n",
       "  </thead>\n",
       "  <tbody>\n",
       "    <tr>\n",
       "      <th>0</th>\n",
       "      <td>2083</td>\n",
       "      <td>20170</td>\n",
       "    </tr>\n",
       "    <tr>\n",
       "      <th>13</th>\n",
       "      <td>2390</td>\n",
       "      <td>10250</td>\n",
       "    </tr>\n",
       "    <tr>\n",
       "      <th>16</th>\n",
       "      <td>2406</td>\n",
       "      <td>10150</td>\n",
       "    </tr>\n",
       "    <tr>\n",
       "      <th>21</th>\n",
       "      <td>2412</td>\n",
       "      <td>11110</td>\n",
       "    </tr>\n",
       "    <tr>\n",
       "      <th>22</th>\n",
       "      <td>2413</td>\n",
       "      <td>11000</td>\n",
       "    </tr>\n",
       "  </tbody>\n",
       "</table>\n",
       "</div>"
      ],
      "text/plain": [
       "    CUSTOMER_ID ADDRESS_POSTAL_CODE\n",
       "0          2083               20170\n",
       "13         2390               10250\n",
       "16         2406               10150\n",
       "21         2412               11110\n",
       "22         2413               11000"
      ]
     },
     "execution_count": 187,
     "metadata": {},
     "output_type": "execute_result"
    }
   ],
   "source": [
    "new_users_2 = pd.concat([customer,address], axis=1)\n",
    "new_users_2[:5]"
   ]
  },
  {
   "cell_type": "markdown",
   "metadata": {},
   "source": [
    "# check null "
   ]
  },
  {
   "cell_type": "code",
   "execution_count": 184,
   "metadata": {},
   "outputs": [
    {
     "data": {
      "text/plain": [
       "CUSTOMER_ID            False\n",
       "ADDRESS_POSTAL_CODE    False\n",
       "DATE_OF_BIRTH          False\n",
       "dtype: bool"
      ]
     },
     "execution_count": 184,
     "metadata": {},
     "output_type": "execute_result"
    }
   ],
   "source": [
    "pd.isnull(new_users_2).sum()>0"
   ]
  },
  {
   "cell_type": "code",
   "execution_count": 188,
   "metadata": {},
   "outputs": [],
   "source": [
    "new_users_2.to_csv('../data_clean/customer_address.csv', index = False)"
   ]
  },
  {
   "cell_type": "code",
   "execution_count": 189,
   "metadata": {},
   "outputs": [
    {
     "data": {
      "text/plain": [
       "10594"
      ]
     },
     "execution_count": 189,
     "metadata": {},
     "output_type": "execute_result"
    }
   ],
   "source": [
    "len(new_users_2)"
   ]
  },
  {
   "cell_type": "code",
   "execution_count": 192,
   "metadata": {},
   "outputs": [
    {
     "data": {
      "text/plain": [
       "CUSTOMER_ID             int64\n",
       "ADDRESS_POSTAL_CODE    object\n",
       "DATE_OF_BIRTH          object\n",
       "dtype: object"
      ]
     },
     "execution_count": 192,
     "metadata": {},
     "output_type": "execute_result"
    }
   ],
   "source": [
    "new_users.dtypes"
   ]
  },
  {
   "cell_type": "markdown",
   "metadata": {},
   "source": [
    "# Convert date to age"
   ]
  },
  {
   "cell_type": "code",
   "execution_count": 193,
   "metadata": {},
   "outputs": [
    {
     "data": {
      "text/plain": [
       "0     1988-10-30\n",
       "13     1986-8-11\n",
       "16    1983-10-10\n",
       "21    1989-10-25\n",
       "22      1982-6-4\n",
       "Name: DATE_OF_BIRTH, dtype: object"
      ]
     },
     "execution_count": 193,
     "metadata": {},
     "output_type": "execute_result"
    }
   ],
   "source": [
    "y_m_d = new_users['DATE_OF_BIRTH']\n",
    "y_m_d[:5]"
   ]
  },
  {
   "cell_type": "code",
   "execution_count": 194,
   "metadata": {},
   "outputs": [
    {
     "data": {
      "text/plain": [
       "datetime.datetime(2018, 2, 12, 11, 3, 58, 622030)"
      ]
     },
     "execution_count": 194,
     "metadata": {},
     "output_type": "execute_result"
    }
   ],
   "source": [
    "\n",
    "from datetime import datetime\n",
    "now = datetime.now()\n",
    "now"
   ]
  },
  {
   "cell_type": "code",
   "execution_count": 197,
   "metadata": {},
   "outputs": [
    {
     "data": {
      "text/plain": [
       "2018"
      ]
     },
     "execution_count": 197,
     "metadata": {},
     "output_type": "execute_result"
    }
   ],
   "source": [
    " y = now.year\n",
    "y"
   ]
  },
  {
   "cell_type": "code",
   "execution_count": 198,
   "metadata": {},
   "outputs": [
    {
     "data": {
      "text/plain": [
       "30"
      ]
     },
     "execution_count": 198,
     "metadata": {},
     "output_type": "execute_result"
    }
   ],
   "source": [
    " y- int('1988')"
   ]
  },
  {
   "cell_type": "code",
   "execution_count": 199,
   "metadata": {
    "collapsed": true
   },
   "outputs": [],
   "source": [
    "from datetime import datetime\n",
    "\n",
    "def bd_to_age(bd_str):\n",
    "    datetime_ob = datetime.strptime(bd_str, '%Y-%m-%d').date()\n",
    "    now = datetime.now().date()\n",
    "    delta = (now - datetime_ob)\n",
    "    number_of_days = delta.days\n",
    "    number_of_years = number_of_days/365\n",
    "    return number_of_years"
   ]
  },
  {
   "cell_type": "code",
   "execution_count": 200,
   "metadata": {},
   "outputs": [
    {
     "data": {
      "text/plain": [
       "29.306849315068494"
      ]
     },
     "execution_count": 200,
     "metadata": {},
     "output_type": "execute_result"
    }
   ],
   "source": [
    "bd_to_age('1988-10-30')"
   ]
  },
  {
   "cell_type": "markdown",
   "metadata": {},
   "source": [
    "# Age"
   ]
  },
  {
   "cell_type": "code",
   "execution_count": 201,
   "metadata": {},
   "outputs": [
    {
     "data": {
      "text/plain": [
       "0     29.306849\n",
       "13    31.528767\n",
       "16    34.367123\n",
       "21    28.320548\n",
       "22    35.717808\n",
       "Name: DATE_OF_BIRTH, dtype: float64"
      ]
     },
     "execution_count": 201,
     "metadata": {},
     "output_type": "execute_result"
    }
   ],
   "source": [
    " age_dirt = new_users['DATE_OF_BIRTH'].apply(bd_to_age)\n",
    "age_dirt[:5]"
   ]
  },
  {
   "cell_type": "code",
   "execution_count": 202,
   "metadata": {},
   "outputs": [
    {
     "data": {
      "text/plain": [
       "10594"
      ]
     },
     "execution_count": 202,
     "metadata": {},
     "output_type": "execute_result"
    }
   ],
   "source": [
    "len(age_dirt)"
   ]
  },
  {
   "cell_type": "markdown",
   "metadata": {},
   "source": [
    "# รวมแถวที่มี id&address&date"
   ]
  },
  {
   "cell_type": "code",
   "execution_count": 203,
   "metadata": {},
   "outputs": [
    {
     "data": {
      "text/html": [
       "<div>\n",
       "<style>\n",
       "    .dataframe thead tr:only-child th {\n",
       "        text-align: right;\n",
       "    }\n",
       "\n",
       "    .dataframe thead th {\n",
       "        text-align: left;\n",
       "    }\n",
       "\n",
       "    .dataframe tbody tr th {\n",
       "        vertical-align: top;\n",
       "    }\n",
       "</style>\n",
       "<table border=\"1\" class=\"dataframe\">\n",
       "  <thead>\n",
       "    <tr style=\"text-align: right;\">\n",
       "      <th></th>\n",
       "      <th>CUSTOMER_ID</th>\n",
       "      <th>ADDRESS_POSTAL_CODE</th>\n",
       "      <th>DATE_OF_BIRTH</th>\n",
       "      <th>DATE_OF_BIRTH</th>\n",
       "    </tr>\n",
       "  </thead>\n",
       "  <tbody>\n",
       "    <tr>\n",
       "      <th>0</th>\n",
       "      <td>2083</td>\n",
       "      <td>20170</td>\n",
       "      <td>1988-10-30</td>\n",
       "      <td>29.306849</td>\n",
       "    </tr>\n",
       "    <tr>\n",
       "      <th>13</th>\n",
       "      <td>2390</td>\n",
       "      <td>10250</td>\n",
       "      <td>1986-8-11</td>\n",
       "      <td>31.528767</td>\n",
       "    </tr>\n",
       "    <tr>\n",
       "      <th>16</th>\n",
       "      <td>2406</td>\n",
       "      <td>10150</td>\n",
       "      <td>1983-10-10</td>\n",
       "      <td>34.367123</td>\n",
       "    </tr>\n",
       "    <tr>\n",
       "      <th>21</th>\n",
       "      <td>2412</td>\n",
       "      <td>11110</td>\n",
       "      <td>1989-10-25</td>\n",
       "      <td>28.320548</td>\n",
       "    </tr>\n",
       "    <tr>\n",
       "      <th>22</th>\n",
       "      <td>2413</td>\n",
       "      <td>11000</td>\n",
       "      <td>1982-6-4</td>\n",
       "      <td>35.717808</td>\n",
       "    </tr>\n",
       "  </tbody>\n",
       "</table>\n",
       "</div>"
      ],
      "text/plain": [
       "    CUSTOMER_ID ADDRESS_POSTAL_CODE  DATE_OF_BIRTH  DATE_OF_BIRTH\n",
       "0          2083               20170     1988-10-30      29.306849\n",
       "13         2390               10250      1986-8-11      31.528767\n",
       "16         2406               10150     1983-10-10      34.367123\n",
       "21         2412               11110     1989-10-25      28.320548\n",
       "22         2413               11000       1982-6-4      35.717808"
      ]
     },
     "execution_count": 203,
     "metadata": {},
     "output_type": "execute_result"
    }
   ],
   "source": [
    "users_all = pd.concat([new_users,age_dirt], axis=1)\n",
    "users_all[:5]"
   ]
  },
  {
   "cell_type": "code",
   "execution_count": 204,
   "metadata": {
    "collapsed": true
   },
   "outputs": [],
   "source": [
    "users_all['Age_dirt'] = age_dirt"
   ]
  },
  {
   "cell_type": "code",
   "execution_count": 206,
   "metadata": {},
   "outputs": [
    {
     "data": {
      "text/html": [
       "<div>\n",
       "<style>\n",
       "    .dataframe thead tr:only-child th {\n",
       "        text-align: right;\n",
       "    }\n",
       "\n",
       "    .dataframe thead th {\n",
       "        text-align: left;\n",
       "    }\n",
       "\n",
       "    .dataframe tbody tr th {\n",
       "        vertical-align: top;\n",
       "    }\n",
       "</style>\n",
       "<table border=\"1\" class=\"dataframe\">\n",
       "  <thead>\n",
       "    <tr style=\"text-align: right;\">\n",
       "      <th></th>\n",
       "      <th>CUSTOMER_ID</th>\n",
       "      <th>ADDRESS_POSTAL_CODE</th>\n",
       "      <th>DATE_OF_BIRTH</th>\n",
       "      <th>DATE_OF_BIRTH</th>\n",
       "      <th>Age_dirt</th>\n",
       "    </tr>\n",
       "  </thead>\n",
       "  <tbody>\n",
       "    <tr>\n",
       "      <th>0</th>\n",
       "      <td>2083</td>\n",
       "      <td>20170</td>\n",
       "      <td>1988-10-30</td>\n",
       "      <td>29.306849</td>\n",
       "      <td>29.306849</td>\n",
       "    </tr>\n",
       "    <tr>\n",
       "      <th>13</th>\n",
       "      <td>2390</td>\n",
       "      <td>10250</td>\n",
       "      <td>1986-8-11</td>\n",
       "      <td>31.528767</td>\n",
       "      <td>31.528767</td>\n",
       "    </tr>\n",
       "    <tr>\n",
       "      <th>16</th>\n",
       "      <td>2406</td>\n",
       "      <td>10150</td>\n",
       "      <td>1983-10-10</td>\n",
       "      <td>34.367123</td>\n",
       "      <td>34.367123</td>\n",
       "    </tr>\n",
       "    <tr>\n",
       "      <th>21</th>\n",
       "      <td>2412</td>\n",
       "      <td>11110</td>\n",
       "      <td>1989-10-25</td>\n",
       "      <td>28.320548</td>\n",
       "      <td>28.320548</td>\n",
       "    </tr>\n",
       "    <tr>\n",
       "      <th>22</th>\n",
       "      <td>2413</td>\n",
       "      <td>11000</td>\n",
       "      <td>1982-6-4</td>\n",
       "      <td>35.717808</td>\n",
       "      <td>35.717808</td>\n",
       "    </tr>\n",
       "  </tbody>\n",
       "</table>\n",
       "</div>"
      ],
      "text/plain": [
       "    CUSTOMER_ID ADDRESS_POSTAL_CODE  DATE_OF_BIRTH  DATE_OF_BIRTH   Age_dirt\n",
       "0          2083               20170     1988-10-30      29.306849  29.306849\n",
       "13         2390               10250      1986-8-11      31.528767  31.528767\n",
       "16         2406               10150     1983-10-10      34.367123  34.367123\n",
       "21         2412               11110     1989-10-25      28.320548  28.320548\n",
       "22         2413               11000       1982-6-4      35.717808  35.717808"
      ]
     },
     "execution_count": 206,
     "metadata": {},
     "output_type": "execute_result"
    }
   ],
   "source": [
    "users_all[:5]"
   ]
  },
  {
   "cell_type": "markdown",
   "metadata": {},
   "source": [
    "# ลบแถวDATE_OF_BIRTH"
   ]
  },
  {
   "cell_type": "code",
   "execution_count": 207,
   "metadata": {
    "scrolled": false
   },
   "outputs": [
    {
     "data": {
      "text/html": [
       "<div>\n",
       "<style>\n",
       "    .dataframe thead tr:only-child th {\n",
       "        text-align: right;\n",
       "    }\n",
       "\n",
       "    .dataframe thead th {\n",
       "        text-align: left;\n",
       "    }\n",
       "\n",
       "    .dataframe tbody tr th {\n",
       "        vertical-align: top;\n",
       "    }\n",
       "</style>\n",
       "<table border=\"1\" class=\"dataframe\">\n",
       "  <thead>\n",
       "    <tr style=\"text-align: right;\">\n",
       "      <th></th>\n",
       "      <th>CUSTOMER_ID</th>\n",
       "      <th>ADDRESS_POSTAL_CODE</th>\n",
       "      <th>Age_dirt</th>\n",
       "    </tr>\n",
       "  </thead>\n",
       "  <tbody>\n",
       "    <tr>\n",
       "      <th>0</th>\n",
       "      <td>2083</td>\n",
       "      <td>20170</td>\n",
       "      <td>29.306849</td>\n",
       "    </tr>\n",
       "    <tr>\n",
       "      <th>13</th>\n",
       "      <td>2390</td>\n",
       "      <td>10250</td>\n",
       "      <td>31.528767</td>\n",
       "    </tr>\n",
       "    <tr>\n",
       "      <th>16</th>\n",
       "      <td>2406</td>\n",
       "      <td>10150</td>\n",
       "      <td>34.367123</td>\n",
       "    </tr>\n",
       "    <tr>\n",
       "      <th>21</th>\n",
       "      <td>2412</td>\n",
       "      <td>11110</td>\n",
       "      <td>28.320548</td>\n",
       "    </tr>\n",
       "    <tr>\n",
       "      <th>22</th>\n",
       "      <td>2413</td>\n",
       "      <td>11000</td>\n",
       "      <td>35.717808</td>\n",
       "    </tr>\n",
       "  </tbody>\n",
       "</table>\n",
       "</div>"
      ],
      "text/plain": [
       "    CUSTOMER_ID ADDRESS_POSTAL_CODE   Age_dirt\n",
       "0          2083               20170  29.306849\n",
       "13         2390               10250  31.528767\n",
       "16         2406               10150  34.367123\n",
       "21         2412               11110  28.320548\n",
       "22         2413               11000  35.717808"
      ]
     },
     "execution_count": 207,
     "metadata": {},
     "output_type": "execute_result"
    }
   ],
   "source": [
    "del users_all['DATE_OF_BIRTH']\n",
    "\n",
    "users_all[:5]"
   ]
  },
  {
   "cell_type": "code",
   "execution_count": 208,
   "metadata": {},
   "outputs": [
    {
     "data": {
      "text/plain": [
       "10594"
      ]
     },
     "execution_count": 208,
     "metadata": {},
     "output_type": "execute_result"
    }
   ],
   "source": [
    "len(users_all)"
   ]
  },
  {
   "cell_type": "markdown",
   "metadata": {},
   "source": [
    "# check max of age"
   ]
  },
  {
   "cell_type": "code",
   "execution_count": 209,
   "metadata": {},
   "outputs": [
    {
     "data": {
      "text/plain": [
       "CUSTOMER_ID              55624\n",
       "ADDRESS_POSTAL_CODE      11110\n",
       "Age_dirt               2017.45\n",
       "Name: 9726, dtype: object"
      ]
     },
     "execution_count": 209,
     "metadata": {},
     "output_type": "execute_result"
    }
   ],
   "source": [
    "users_all.loc[users_all['Age_dirt'].idxmax()]"
   ]
  },
  {
   "cell_type": "markdown",
   "metadata": {},
   "source": [
    "# กำหนดเอาค่าอายุระหว่าง15-130ปี "
   ]
  },
  {
   "cell_type": "code",
   "execution_count": 212,
   "metadata": {
    "scrolled": false
   },
   "outputs": [
    {
     "data": {
      "text/html": [
       "<div>\n",
       "<style>\n",
       "    .dataframe thead tr:only-child th {\n",
       "        text-align: right;\n",
       "    }\n",
       "\n",
       "    .dataframe thead th {\n",
       "        text-align: left;\n",
       "    }\n",
       "\n",
       "    .dataframe tbody tr th {\n",
       "        vertical-align: top;\n",
       "    }\n",
       "</style>\n",
       "<table border=\"1\" class=\"dataframe\">\n",
       "  <thead>\n",
       "    <tr style=\"text-align: right;\">\n",
       "      <th></th>\n",
       "      <th>CUSTOMER_ID</th>\n",
       "      <th>ADDRESS_POSTAL_CODE</th>\n",
       "      <th>Age_dirt</th>\n",
       "    </tr>\n",
       "  </thead>\n",
       "  <tbody>\n",
       "    <tr>\n",
       "      <th>0</th>\n",
       "      <td>2083</td>\n",
       "      <td>20170</td>\n",
       "      <td>29.306849</td>\n",
       "    </tr>\n",
       "    <tr>\n",
       "      <th>13</th>\n",
       "      <td>2390</td>\n",
       "      <td>10250</td>\n",
       "      <td>31.528767</td>\n",
       "    </tr>\n",
       "    <tr>\n",
       "      <th>16</th>\n",
       "      <td>2406</td>\n",
       "      <td>10150</td>\n",
       "      <td>34.367123</td>\n",
       "    </tr>\n",
       "    <tr>\n",
       "      <th>21</th>\n",
       "      <td>2412</td>\n",
       "      <td>11110</td>\n",
       "      <td>28.320548</td>\n",
       "    </tr>\n",
       "    <tr>\n",
       "      <th>22</th>\n",
       "      <td>2413</td>\n",
       "      <td>11000</td>\n",
       "      <td>35.717808</td>\n",
       "    </tr>\n",
       "  </tbody>\n",
       "</table>\n",
       "</div>"
      ],
      "text/plain": [
       "    CUSTOMER_ID ADDRESS_POSTAL_CODE   Age_dirt\n",
       "0          2083               20170  29.306849\n",
       "13         2390               10250  31.528767\n",
       "16         2406               10150  34.367123\n",
       "21         2412               11110  28.320548\n",
       "22         2413               11000  35.717808"
      ]
     },
     "execution_count": 212,
     "metadata": {},
     "output_type": "execute_result"
    }
   ],
   "source": [
    "users_clean = users_all[users_all['CUSTOMER_ID'].notnull() & (users_all['ADDRESS_POSTAL_CODE'].notnull() )& (users_all['Age_dirt'] <= 130) & (users_all['Age_dirt'] >= 15)]\n",
    "\n",
    "users_clean[:5]"
   ]
  },
  {
   "cell_type": "code",
   "execution_count": 213,
   "metadata": {},
   "outputs": [
    {
     "data": {
      "text/plain": [
       "CUSTOMER_ID              int64\n",
       "ADDRESS_POSTAL_CODE     object\n",
       "Age_dirt               float64\n",
       "dtype: object"
      ]
     },
     "execution_count": 213,
     "metadata": {},
     "output_type": "execute_result"
    }
   ],
   "source": [
    "users_all.dtypes"
   ]
  },
  {
   "cell_type": "markdown",
   "metadata": {},
   "source": [
    "# ดังนั้นข้อมูลที่cleanทั้งหมดมี 10,163"
   ]
  },
  {
   "cell_type": "code",
   "execution_count": 214,
   "metadata": {},
   "outputs": [
    {
     "data": {
      "text/plain": [
       "10163"
      ]
     },
     "execution_count": 214,
     "metadata": {},
     "output_type": "execute_result"
    }
   ],
   "source": [
    "len(users_clean )"
   ]
  },
  {
   "cell_type": "code",
   "execution_count": 216,
   "metadata": {},
   "outputs": [
    {
     "data": {
      "text/plain": [
       "10594"
      ]
     },
     "execution_count": 216,
     "metadata": {},
     "output_type": "execute_result"
    }
   ],
   "source": [
    "len(users_all)"
   ]
  },
  {
   "cell_type": "code",
   "execution_count": 217,
   "metadata": {},
   "outputs": [
    {
     "data": {
      "text/plain": [
       "CUSTOMER_ID              int64\n",
       "ADDRESS_POSTAL_CODE     object\n",
       "Age_dirt               float64\n",
       "dtype: object"
      ]
     },
     "execution_count": 217,
     "metadata": {},
     "output_type": "execute_result"
    }
   ],
   "source": [
    "users_clean.dtypes"
   ]
  },
  {
   "cell_type": "code",
   "execution_count": 219,
   "metadata": {},
   "outputs": [
    {
     "data": {
      "text/plain": [
       "CUSTOMER_ID            False\n",
       "ADDRESS_POSTAL_CODE    False\n",
       "Age_dirt               False\n",
       "dtype: bool"
      ]
     },
     "execution_count": 219,
     "metadata": {},
     "output_type": "execute_result"
    }
   ],
   "source": [
    "pd.isnull(users_clean).sum() > 0"
   ]
  },
  {
   "cell_type": "code",
   "execution_count": 220,
   "metadata": {},
   "outputs": [],
   "source": [
    "users_clean.to_csv('../data_clean/customer.csv', index = False)"
   ]
  },
  {
   "cell_type": "code",
   "execution_count": 221,
   "metadata": {},
   "outputs": [
    {
     "data": {
      "text/plain": [
       "array([[ 29.30684932],\n",
       "       [ 31.52876712],\n",
       "       [ 34.36712329],\n",
       "       ..., \n",
       "       [ 48.09315068],\n",
       "       [ 29.90958904],\n",
       "       [ 30.08219178]])"
      ]
     },
     "execution_count": 221,
     "metadata": {},
     "output_type": "execute_result"
    }
   ],
   "source": [
    "age_array=users_clean.as_matrix(columns=users_clean.columns[2:])  \n",
    "age_array"
   ]
  },
  {
   "cell_type": "markdown",
   "metadata": {},
   "source": [
    "# check max min"
   ]
  },
  {
   "cell_type": "code",
   "execution_count": 222,
   "metadata": {},
   "outputs": [
    {
     "data": {
      "text/plain": [
       "CUSTOMER_ID             127807\n",
       "ADDRESS_POSTAL_CODE      22170\n",
       "Age_dirt               129.205\n",
       "Name: 22584, dtype: object"
      ]
     },
     "execution_count": 222,
     "metadata": {},
     "output_type": "execute_result"
    }
   ],
   "source": [
    "users_clean.loc[users_clean['Age_dirt'].idxmax()] "
   ]
  },
  {
   "cell_type": "code",
   "execution_count": 223,
   "metadata": {},
   "outputs": [
    {
     "data": {
      "text/plain": [
       "CUSTOMER_ID              82105\n",
       "ADDRESS_POSTAL_CODE      10540\n",
       "Age_dirt               15.2274\n",
       "Name: 17863, dtype: object"
      ]
     },
     "execution_count": 223,
     "metadata": {},
     "output_type": "execute_result"
    }
   ],
   "source": [
    "users_clean.loc[users_clean['Age_dirt'].idxmin()] "
   ]
  },
  {
   "cell_type": "markdown",
   "metadata": {},
   "source": [
    "# mean"
   ]
  },
  {
   "cell_type": "code",
   "execution_count": 100,
   "metadata": {},
   "outputs": [
    {
     "data": {
      "text/plain": [
       "35.574384923015131"
      ]
     },
     "execution_count": 100,
     "metadata": {},
     "output_type": "execute_result"
    }
   ],
   "source": [
    "import numpy as np\n",
    "\n",
    "mean= np.mean(age_array)\n",
    "mean"
   ]
  },
  {
   "cell_type": "code",
   "execution_count": null,
   "metadata": {
    "collapsed": true
   },
   "outputs": [],
   "source": []
  },
  {
   "cell_type": "code",
   "execution_count": null,
   "metadata": {
    "collapsed": true
   },
   "outputs": [],
   "source": []
  }
 ],
 "metadata": {
  "kernelspec": {
   "display_name": "Python 3",
   "language": "python",
   "name": "python3"
  },
  "language_info": {
   "codemirror_mode": {
    "name": "ipython",
    "version": 3
   },
   "file_extension": ".py",
   "mimetype": "text/x-python",
   "name": "python",
   "nbconvert_exporter": "python",
   "pygments_lexer": "ipython3",
   "version": "3.6.3"
  }
 },
 "nbformat": 4,
 "nbformat_minor": 2
}
