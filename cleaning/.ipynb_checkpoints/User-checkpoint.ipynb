{
 "cells": [
  {
   "cell_type": "code",
   "execution_count": 81,
   "metadata": {
    "collapsed": true
   },
   "outputs": [],
   "source": [
    "import unicodecsv\n",
    "\n",
    "#read data from CSV file and make it to lists\n",
    "def read_csv(filename):\n",
    "    with open(filename, 'rb') as f:\n",
    "        reader = unicodecsv.DictReader(f)\n",
    "        return list(reader)"
   ]
  },
  {
   "cell_type": "code",
   "execution_count": 82,
   "metadata": {
    "collapsed": true
   },
   "outputs": [],
   "source": [
    "user = read_csv('../data_20180120/customer.csv')"
   ]
  },
  {
   "cell_type": "code",
   "execution_count": 161,
   "metadata": {
    "scrolled": false
   },
   "outputs": [
    {
     "data": {
      "text/html": [
       "<div>\n",
       "<style>\n",
       "    .dataframe thead tr:only-child th {\n",
       "        text-align: right;\n",
       "    }\n",
       "\n",
       "    .dataframe thead th {\n",
       "        text-align: left;\n",
       "    }\n",
       "\n",
       "    .dataframe tbody tr th {\n",
       "        vertical-align: top;\n",
       "    }\n",
       "</style>\n",
       "<table border=\"1\" class=\"dataframe\">\n",
       "  <thead>\n",
       "    <tr style=\"text-align: right;\">\n",
       "      <th></th>\n",
       "      <th>CUSTOMER_ID</th>\n",
       "      <th>FIRST_NAME</th>\n",
       "      <th>IS_DESIGNER</th>\n",
       "      <th>BPCODE</th>\n",
       "      <th>ADDRESS_NO</th>\n",
       "      <th>ADDRESS_POSTAL_CODE</th>\n",
       "      <th>ADDRESS_PROVINCE_ID</th>\n",
       "      <th>ADDRESS_PROVINCE</th>\n",
       "      <th>ADDRESS_STREET</th>\n",
       "      <th>ADDRESS_DISTRICT_ID</th>\n",
       "      <th>ADDRESS_DISTRICT</th>\n",
       "      <th>ADDRESS_SUB_DISTRICT_ID</th>\n",
       "      <th>ADDRESS_SUB_DISTRICT</th>\n",
       "      <th>ADDRESS_TYPE</th>\n",
       "      <th>ADDRESS_BUILDING</th>\n",
       "      <th>ADDRESS_OFFICE_NAME</th>\n",
       "      <th>DATE_OF_BIRTH</th>\n",
       "    </tr>\n",
       "  </thead>\n",
       "  <tbody>\n",
       "    <tr>\n",
       "      <th>0</th>\n",
       "      <td>2,083</td>\n",
       "      <td>ฐนันทิพย์</td>\n",
       "      <td>N</td>\n",
       "      <td>1100698858</td>\n",
       "      <td>2</td>\n",
       "      <td>20170</td>\n",
       "      <td>04090000000</td>\n",
       "      <td>จ.ชลบุรี</td>\n",
       "      <td>เซิดน้อย</td>\n",
       "      <td>04094570000</td>\n",
       "      <td>อ.บ้านบึง</td>\n",
       "      <td>04094573409</td>\n",
       "      <td>ต.บ้านบึง</td>\n",
       "      <td>บ้านพักอาศัย</td>\n",
       "      <td>เอเชีย</td>\n",
       "      <td>Cupcode</td>\n",
       "      <td>1988-10-30</td>\n",
       "    </tr>\n",
       "    <tr>\n",
       "      <th>1</th>\n",
       "      <td>2,102</td>\n",
       "      <td>ทดสอบ002</td>\n",
       "      <td>N</td>\n",
       "      <td>1900036840</td>\n",
       "      <td></td>\n",
       "      <td></td>\n",
       "      <td></td>\n",
       "      <td></td>\n",
       "      <td></td>\n",
       "      <td></td>\n",
       "      <td></td>\n",
       "      <td></td>\n",
       "      <td></td>\n",
       "      <td></td>\n",
       "      <td></td>\n",
       "      <td></td>\n",
       "      <td></td>\n",
       "    </tr>\n",
       "    <tr>\n",
       "      <th>2</th>\n",
       "      <td>2,223</td>\n",
       "      <td>Ping</td>\n",
       "      <td>N</td>\n",
       "      <td>1900036887</td>\n",
       "      <td></td>\n",
       "      <td></td>\n",
       "      <td></td>\n",
       "      <td></td>\n",
       "      <td></td>\n",
       "      <td></td>\n",
       "      <td></td>\n",
       "      <td></td>\n",
       "      <td></td>\n",
       "      <td></td>\n",
       "      <td></td>\n",
       "      <td></td>\n",
       "      <td></td>\n",
       "    </tr>\n",
       "    <tr>\n",
       "      <th>3</th>\n",
       "      <td>2,224</td>\n",
       "      <td>มาศสุภา</td>\n",
       "      <td>N</td>\n",
       "      <td>1900036888</td>\n",
       "      <td></td>\n",
       "      <td></td>\n",
       "      <td></td>\n",
       "      <td></td>\n",
       "      <td></td>\n",
       "      <td></td>\n",
       "      <td></td>\n",
       "      <td></td>\n",
       "      <td></td>\n",
       "      <td></td>\n",
       "      <td></td>\n",
       "      <td></td>\n",
       "      <td></td>\n",
       "    </tr>\n",
       "    <tr>\n",
       "      <th>4</th>\n",
       "      <td>2,284</td>\n",
       "      <td>Tanate</td>\n",
       "      <td>N</td>\n",
       "      <td>1900036922</td>\n",
       "      <td></td>\n",
       "      <td></td>\n",
       "      <td></td>\n",
       "      <td></td>\n",
       "      <td></td>\n",
       "      <td></td>\n",
       "      <td></td>\n",
       "      <td></td>\n",
       "      <td></td>\n",
       "      <td></td>\n",
       "      <td></td>\n",
       "      <td></td>\n",
       "      <td></td>\n",
       "    </tr>\n",
       "  </tbody>\n",
       "</table>\n",
       "</div>"
      ],
      "text/plain": [
       "  CUSTOMER_ID FIRST_NAME IS_DESIGNER      BPCODE ADDRESS_NO  \\\n",
       "0       2,083  ฐนันทิพย์           N  1100698858          2   \n",
       "1       2,102   ทดสอบ002           N  1900036840              \n",
       "2       2,223       Ping           N  1900036887              \n",
       "3       2,224    มาศสุภา           N  1900036888              \n",
       "4       2,284     Tanate           N  1900036922              \n",
       "\n",
       "  ADDRESS_POSTAL_CODE ADDRESS_PROVINCE_ID ADDRESS_PROVINCE ADDRESS_STREET  \\\n",
       "0               20170         04090000000         จ.ชลบุรี       เซิดน้อย   \n",
       "1                                                                           \n",
       "2                                                                           \n",
       "3                                                                           \n",
       "4                                                                           \n",
       "\n",
       "  ADDRESS_DISTRICT_ID ADDRESS_DISTRICT ADDRESS_SUB_DISTRICT_ID  \\\n",
       "0         04094570000        อ.บ้านบึง             04094573409   \n",
       "1                                                                \n",
       "2                                                                \n",
       "3                                                                \n",
       "4                                                                \n",
       "\n",
       "  ADDRESS_SUB_DISTRICT  ADDRESS_TYPE ADDRESS_BUILDING ADDRESS_OFFICE_NAME  \\\n",
       "0            ต.บ้านบึง  บ้านพักอาศัย           เอเชีย             Cupcode   \n",
       "1                                                                           \n",
       "2                                                                           \n",
       "3                                                                           \n",
       "4                                                                           \n",
       "\n",
       "  DATE_OF_BIRTH  \n",
       "0    1988-10-30  \n",
       "1                \n",
       "2                \n",
       "3                \n",
       "4                "
      ]
     },
     "execution_count": 161,
     "metadata": {},
     "output_type": "execute_result"
    }
   ],
   "source": [
    "import pandas as pd\n",
    "\n",
    "users = pd.DataFrame(user)\n",
    "users[:5]"
   ]
  },
  {
   "cell_type": "code",
   "execution_count": 79,
   "metadata": {},
   "outputs": [
    {
     "data": {
      "text/plain": [
       "0    2,083\n",
       "1    2,102\n",
       "2    2,223\n",
       "3    2,224\n",
       "4    2,284\n",
       "Name: CUSTOMER_ID, dtype: object"
      ]
     },
     "execution_count": 79,
     "metadata": {},
     "output_type": "execute_result"
    }
   ],
   "source": [
    "users['CUSTOMER_ID'][:5]"
   ]
  },
  {
   "cell_type": "code",
   "execution_count": 80,
   "metadata": {},
   "outputs": [
    {
     "data": {
      "text/plain": [
       "0    1988-10-30\n",
       "1              \n",
       "2              \n",
       "3              \n",
       "4              \n",
       "Name: DATE_OF_BIRTH, dtype: object"
      ]
     },
     "execution_count": 80,
     "metadata": {},
     "output_type": "execute_result"
    }
   ],
   "source": [
    "users['DATE_OF_BIRTH'][:5]"
   ]
  },
  {
   "cell_type": "code",
   "execution_count": 78,
   "metadata": {
    "scrolled": false
   },
   "outputs": [
    {
     "data": {
      "text/plain": [
       "0    2,083\n",
       "1    2,102\n",
       "2    2,223\n",
       "3    2,224\n",
       "4    2,284\n",
       "Name: CUSTOMER_ID, dtype: object"
      ]
     },
     "execution_count": 78,
     "metadata": {},
     "output_type": "execute_result"
    }
   ],
   "source": [
    "ID = users['CUSTOMER_ID']\n",
    "ID[:5]"
   ]
  },
  {
   "cell_type": "code",
   "execution_count": 243,
   "metadata": {},
   "outputs": [
    {
     "data": {
      "text/html": [
       "<div>\n",
       "<style>\n",
       "    .dataframe thead tr:only-child th {\n",
       "        text-align: right;\n",
       "    }\n",
       "\n",
       "    .dataframe thead th {\n",
       "        text-align: left;\n",
       "    }\n",
       "\n",
       "    .dataframe tbody tr th {\n",
       "        vertical-align: top;\n",
       "    }\n",
       "</style>\n",
       "<table border=\"1\" class=\"dataframe\">\n",
       "  <thead>\n",
       "    <tr style=\"text-align: right;\">\n",
       "      <th></th>\n",
       "      <th>CUSTOMER_ID</th>\n",
       "    </tr>\n",
       "  </thead>\n",
       "  <tbody>\n",
       "    <tr>\n",
       "      <th>0</th>\n",
       "      <td>2083</td>\n",
       "    </tr>\n",
       "    <tr>\n",
       "      <th>1</th>\n",
       "      <td>2102</td>\n",
       "    </tr>\n",
       "    <tr>\n",
       "      <th>2</th>\n",
       "      <td>2223</td>\n",
       "    </tr>\n",
       "    <tr>\n",
       "      <th>3</th>\n",
       "      <td>2224</td>\n",
       "    </tr>\n",
       "    <tr>\n",
       "      <th>4</th>\n",
       "      <td>2284</td>\n",
       "    </tr>\n",
       "  </tbody>\n",
       "</table>\n",
       "</div>"
      ],
      "text/plain": [
       "   CUSTOMER_ID\n",
       "0         2083\n",
       "1         2102\n",
       "2         2223\n",
       "3         2224\n",
       "4         2284"
      ]
     },
     "execution_count": 243,
     "metadata": {},
     "output_type": "execute_result"
    }
   ],
   "source": [
    "import locale\n",
    "locale.setlocale(locale.LC_ALL, '') \n",
    "\n",
    "new_id = result[:]\n",
    "new_id['CUSTOMER_ID'] = result['CUSTOMER_ID'].apply(locale.atoi)\n",
    "new_id[:5]"
   ]
  },
  {
   "cell_type": "code",
   "execution_count": 77,
   "metadata": {
    "scrolled": true
   },
   "outputs": [
    {
     "data": {
      "text/plain": [
       "0    1988-10-30\n",
       "1              \n",
       "2              \n",
       "3              \n",
       "4              \n",
       "Name: DATE_OF_BIRTH, dtype: object"
      ]
     },
     "execution_count": 77,
     "metadata": {},
     "output_type": "execute_result"
    }
   ],
   "source": [
    "BD = users['DATE_OF_BIRTH']\n",
    "BD[:5]"
   ]
  },
  {
   "cell_type": "code",
   "execution_count": 244,
   "metadata": {
    "collapsed": true
   },
   "outputs": [],
   "source": [
    "result = pd.concat([new_id, BD], axis=1)"
   ]
  },
  {
   "cell_type": "code",
   "execution_count": 245,
   "metadata": {
    "scrolled": true
   },
   "outputs": [
    {
     "data": {
      "text/html": [
       "<div>\n",
       "<style>\n",
       "    .dataframe thead tr:only-child th {\n",
       "        text-align: right;\n",
       "    }\n",
       "\n",
       "    .dataframe thead th {\n",
       "        text-align: left;\n",
       "    }\n",
       "\n",
       "    .dataframe tbody tr th {\n",
       "        vertical-align: top;\n",
       "    }\n",
       "</style>\n",
       "<table border=\"1\" class=\"dataframe\">\n",
       "  <thead>\n",
       "    <tr style=\"text-align: right;\">\n",
       "      <th></th>\n",
       "      <th>CUSTOMER_ID</th>\n",
       "      <th>DATE_OF_BIRTH</th>\n",
       "    </tr>\n",
       "  </thead>\n",
       "  <tbody>\n",
       "    <tr>\n",
       "      <th>0</th>\n",
       "      <td>2083</td>\n",
       "      <td>1988-10-30</td>\n",
       "    </tr>\n",
       "    <tr>\n",
       "      <th>1</th>\n",
       "      <td>2102</td>\n",
       "      <td></td>\n",
       "    </tr>\n",
       "    <tr>\n",
       "      <th>2</th>\n",
       "      <td>2223</td>\n",
       "      <td></td>\n",
       "    </tr>\n",
       "    <tr>\n",
       "      <th>3</th>\n",
       "      <td>2224</td>\n",
       "      <td></td>\n",
       "    </tr>\n",
       "    <tr>\n",
       "      <th>4</th>\n",
       "      <td>2284</td>\n",
       "      <td></td>\n",
       "    </tr>\n",
       "  </tbody>\n",
       "</table>\n",
       "</div>"
      ],
      "text/plain": [
       "   CUSTOMER_ID DATE_OF_BIRTH\n",
       "0         2083    1988-10-30\n",
       "1         2102              \n",
       "2         2223              \n",
       "3         2224              \n",
       "4         2284              "
      ]
     },
     "execution_count": 245,
     "metadata": {},
     "output_type": "execute_result"
    }
   ],
   "source": [
    "result[:5]"
   ]
  },
  {
   "cell_type": "markdown",
   "metadata": {},
   "source": [
    "# ID & Birth "
   ]
  },
  {
   "cell_type": "code",
   "execution_count": 248,
   "metadata": {
    "scrolled": true
   },
   "outputs": [
    {
     "data": {
      "text/html": [
       "<div>\n",
       "<style>\n",
       "    .dataframe thead tr:only-child th {\n",
       "        text-align: right;\n",
       "    }\n",
       "\n",
       "    .dataframe thead th {\n",
       "        text-align: left;\n",
       "    }\n",
       "\n",
       "    .dataframe tbody tr th {\n",
       "        vertical-align: top;\n",
       "    }\n",
       "</style>\n",
       "<table border=\"1\" class=\"dataframe\">\n",
       "  <thead>\n",
       "    <tr style=\"text-align: right;\">\n",
       "      <th></th>\n",
       "      <th>CUSTOMER_ID</th>\n",
       "      <th>DATE_OF_BIRTH</th>\n",
       "    </tr>\n",
       "  </thead>\n",
       "  <tbody>\n",
       "    <tr>\n",
       "      <th>0</th>\n",
       "      <td>2083</td>\n",
       "      <td>1988-10-30</td>\n",
       "    </tr>\n",
       "    <tr>\n",
       "      <th>13</th>\n",
       "      <td>2390</td>\n",
       "      <td>1986-8-11</td>\n",
       "    </tr>\n",
       "    <tr>\n",
       "      <th>16</th>\n",
       "      <td>2406</td>\n",
       "      <td>1983-10-10</td>\n",
       "    </tr>\n",
       "    <tr>\n",
       "      <th>21</th>\n",
       "      <td>2412</td>\n",
       "      <td>1989-10-25</td>\n",
       "    </tr>\n",
       "    <tr>\n",
       "      <th>22</th>\n",
       "      <td>2413</td>\n",
       "      <td>1982-6-4</td>\n",
       "    </tr>\n",
       "  </tbody>\n",
       "</table>\n",
       "</div>"
      ],
      "text/plain": [
       "    CUSTOMER_ID DATE_OF_BIRTH\n",
       "0          2083    1988-10-30\n",
       "13         2390     1986-8-11\n",
       "16         2406    1983-10-10\n",
       "21         2412    1989-10-25\n",
       "22         2413      1982-6-4"
      ]
     },
     "execution_count": 248,
     "metadata": {},
     "output_type": "execute_result"
    }
   ],
   "source": [
    "Id_birth = result[result['DATE_OF_BIRTH'].notnull() & (result['DATE_OF_BIRTH'] != \"\")]\n",
    "Id_birth[:5]\n"
   ]
  },
  {
   "cell_type": "code",
   "execution_count": 249,
   "metadata": {
    "collapsed": true
   },
   "outputs": [],
   "source": [
    "Id_birth.to_csv('../data_clean/customer.csv')"
   ]
  },
  {
   "cell_type": "code",
   "execution_count": 250,
   "metadata": {},
   "outputs": [
    {
     "data": {
      "text/plain": [
       "0    20170\n",
       "1         \n",
       "2         \n",
       "3         \n",
       "4         \n",
       "Name: ADDRESS_POSTAL_CODE, dtype: object"
      ]
     },
     "execution_count": 250,
     "metadata": {},
     "output_type": "execute_result"
    }
   ],
   "source": [
    "AD = users['ADDRESS_POSTAL_CODE']\n",
    "AD[:5]"
   ]
  },
  {
   "cell_type": "code",
   "execution_count": 252,
   "metadata": {
    "scrolled": true
   },
   "outputs": [
    {
     "data": {
      "text/html": [
       "<div>\n",
       "<style>\n",
       "    .dataframe thead tr:only-child th {\n",
       "        text-align: right;\n",
       "    }\n",
       "\n",
       "    .dataframe thead th {\n",
       "        text-align: left;\n",
       "    }\n",
       "\n",
       "    .dataframe tbody tr th {\n",
       "        vertical-align: top;\n",
       "    }\n",
       "</style>\n",
       "<table border=\"1\" class=\"dataframe\">\n",
       "  <thead>\n",
       "    <tr style=\"text-align: right;\">\n",
       "      <th></th>\n",
       "      <th>CUSTOMER_ID</th>\n",
       "      <th>DATE_OF_BIRTH</th>\n",
       "      <th>ADDRESS_POSTAL_CODE</th>\n",
       "    </tr>\n",
       "  </thead>\n",
       "  <tbody>\n",
       "    <tr>\n",
       "      <th>0</th>\n",
       "      <td>2083</td>\n",
       "      <td>1988-10-30</td>\n",
       "      <td>20170</td>\n",
       "    </tr>\n",
       "    <tr>\n",
       "      <th>1</th>\n",
       "      <td>2102</td>\n",
       "      <td></td>\n",
       "      <td></td>\n",
       "    </tr>\n",
       "    <tr>\n",
       "      <th>2</th>\n",
       "      <td>2223</td>\n",
       "      <td></td>\n",
       "      <td></td>\n",
       "    </tr>\n",
       "    <tr>\n",
       "      <th>3</th>\n",
       "      <td>2224</td>\n",
       "      <td></td>\n",
       "      <td></td>\n",
       "    </tr>\n",
       "    <tr>\n",
       "      <th>4</th>\n",
       "      <td>2284</td>\n",
       "      <td></td>\n",
       "      <td></td>\n",
       "    </tr>\n",
       "  </tbody>\n",
       "</table>\n",
       "</div>"
      ],
      "text/plain": [
       "   CUSTOMER_ID DATE_OF_BIRTH ADDRESS_POSTAL_CODE\n",
       "0         2083    1988-10-30               20170\n",
       "1         2102                                  \n",
       "2         2223                                  \n",
       "3         2224                                  \n",
       "4         2284                                  "
      ]
     },
     "execution_count": 252,
     "metadata": {},
     "output_type": "execute_result"
    }
   ],
   "source": [
    "results = pd.concat([new_id,BD,AD], axis=1)\n",
    "results[:5]"
   ]
  },
  {
   "cell_type": "markdown",
   "metadata": {},
   "source": [
    "ID&Birth&address"
   ]
  },
  {
   "cell_type": "code",
   "execution_count": 253,
   "metadata": {
    "scrolled": true
   },
   "outputs": [
    {
     "data": {
      "text/html": [
       "<div>\n",
       "<style>\n",
       "    .dataframe thead tr:only-child th {\n",
       "        text-align: right;\n",
       "    }\n",
       "\n",
       "    .dataframe thead th {\n",
       "        text-align: left;\n",
       "    }\n",
       "\n",
       "    .dataframe tbody tr th {\n",
       "        vertical-align: top;\n",
       "    }\n",
       "</style>\n",
       "<table border=\"1\" class=\"dataframe\">\n",
       "  <thead>\n",
       "    <tr style=\"text-align: right;\">\n",
       "      <th></th>\n",
       "      <th>CUSTOMER_ID</th>\n",
       "      <th>DATE_OF_BIRTH</th>\n",
       "      <th>ADDRESS_POSTAL_CODE</th>\n",
       "    </tr>\n",
       "  </thead>\n",
       "  <tbody>\n",
       "    <tr>\n",
       "      <th>0</th>\n",
       "      <td>2083</td>\n",
       "      <td>1988-10-30</td>\n",
       "      <td>20170</td>\n",
       "    </tr>\n",
       "    <tr>\n",
       "      <th>13</th>\n",
       "      <td>2390</td>\n",
       "      <td>1986-8-11</td>\n",
       "      <td>10250</td>\n",
       "    </tr>\n",
       "    <tr>\n",
       "      <th>16</th>\n",
       "      <td>2406</td>\n",
       "      <td>1983-10-10</td>\n",
       "      <td>10150</td>\n",
       "    </tr>\n",
       "    <tr>\n",
       "      <th>21</th>\n",
       "      <td>2412</td>\n",
       "      <td>1989-10-25</td>\n",
       "      <td>11110</td>\n",
       "    </tr>\n",
       "    <tr>\n",
       "      <th>22</th>\n",
       "      <td>2413</td>\n",
       "      <td>1982-6-4</td>\n",
       "      <td>11000</td>\n",
       "    </tr>\n",
       "  </tbody>\n",
       "</table>\n",
       "</div>"
      ],
      "text/plain": [
       "    CUSTOMER_ID DATE_OF_BIRTH ADDRESS_POSTAL_CODE\n",
       "0          2083    1988-10-30               20170\n",
       "13         2390     1986-8-11               10250\n",
       "16         2406    1983-10-10               10150\n",
       "21         2412    1989-10-25               11110\n",
       "22         2413      1982-6-4               11000"
      ]
     },
     "execution_count": 253,
     "metadata": {},
     "output_type": "execute_result"
    }
   ],
   "source": [
    "df_add_not_null = results [results['ADDRESS_POSTAL_CODE'].notnull() & (results['ADDRESS_POSTAL_CODE'] != \"\") & (results['DATE_OF_BIRTH'].notnull() &(results['DATE_OF_BIRTH'] != \"\"))]\n",
    "\n",
    "\n",
    "df_add_not_null[:5]"
   ]
  },
  {
   "cell_type": "code",
   "execution_count": 254,
   "metadata": {
    "collapsed": true
   },
   "outputs": [],
   "source": [
    "df_add_not_null.to_csv('../data_clean/customer.csv')"
   ]
  },
  {
   "cell_type": "markdown",
   "metadata": {},
   "source": [
    "# birth"
   ]
  },
  {
   "cell_type": "code",
   "execution_count": 255,
   "metadata": {},
   "outputs": [
    {
     "data": {
      "text/plain": [
       "0     1988-10-30\n",
       "13     1986-8-11\n",
       "16    1983-10-10\n",
       "21    1989-10-25\n",
       "22      1982-6-4\n",
       "Name: DATE_OF_BIRTH, dtype: object"
      ]
     },
     "execution_count": 255,
     "metadata": {},
     "output_type": "execute_result"
    }
   ],
   "source": [
    "y_m_d = df_add_not_null['DATE_OF_BIRTH']\n",
    "y_m_d[:5]"
   ]
  },
  {
   "cell_type": "code",
   "execution_count": 256,
   "metadata": {},
   "outputs": [
    {
     "data": {
      "text/plain": [
       "datetime.datetime(2018, 2, 5, 15, 31, 37, 800110)"
      ]
     },
     "execution_count": 256,
     "metadata": {},
     "output_type": "execute_result"
    }
   ],
   "source": [
    "from datetime import datetime\n",
    "now = datetime.now()\n",
    "now"
   ]
  },
  {
   "cell_type": "code",
   "execution_count": 257,
   "metadata": {},
   "outputs": [
    {
     "data": {
      "text/plain": [
       "2018"
      ]
     },
     "execution_count": 257,
     "metadata": {},
     "output_type": "execute_result"
    }
   ],
   "source": [
    " y = now.year\n",
    "y"
   ]
  },
  {
   "cell_type": "code",
   "execution_count": 258,
   "metadata": {},
   "outputs": [
    {
     "data": {
      "text/plain": [
       "30"
      ]
     },
     "execution_count": 258,
     "metadata": {},
     "output_type": "execute_result"
    }
   ],
   "source": [
    " y- int('1988')"
   ]
  },
  {
   "cell_type": "code",
   "execution_count": 259,
   "metadata": {
    "collapsed": true
   },
   "outputs": [],
   "source": [
    "from datetime import datetime\n",
    "\n",
    "def bd_to_age(bd_str):\n",
    "    datetime_ob = datetime.strptime(bd_str, '%Y-%m-%d').date()\n",
    "    now = datetime.now().date()\n",
    "    delta = (now - datetime_ob)\n",
    "    number_of_days = delta.days\n",
    "    number_of_years = number_of_days/365\n",
    "    return number_of_years"
   ]
  },
  {
   "cell_type": "code",
   "execution_count": 262,
   "metadata": {},
   "outputs": [
    {
     "data": {
      "text/plain": [
       "29.28767123287671"
      ]
     },
     "execution_count": 262,
     "metadata": {},
     "output_type": "execute_result"
    }
   ],
   "source": [
    "bd_to_age('1988-10-30')"
   ]
  },
  {
   "cell_type": "code",
   "execution_count": 263,
   "metadata": {},
   "outputs": [
    {
     "data": {
      "text/plain": [
       "0     1988-10-30\n",
       "13     1986-8-11\n",
       "16    1983-10-10\n",
       "21    1989-10-25\n",
       "22      1982-6-4\n",
       "Name: DATE_OF_BIRTH, dtype: object"
      ]
     },
     "execution_count": 263,
     "metadata": {},
     "output_type": "execute_result"
    }
   ],
   "source": [
    "birth_not_null = users[users['DATE_OF_BIRTH'].notnull() &(users['DATE_OF_BIRTH'] != \"\")]['DATE_OF_BIRTH']\n",
    "birth_not_null[0:5]"
   ]
  },
  {
   "cell_type": "markdown",
   "metadata": {},
   "source": [
    "# Age"
   ]
  },
  {
   "cell_type": "code",
   "execution_count": 264,
   "metadata": {},
   "outputs": [
    {
     "data": {
      "text/plain": [
       "0     29.287671\n",
       "13    31.509589\n",
       "16    34.347945\n",
       "21    28.301370\n",
       "22    35.698630\n",
       "Name: DATE_OF_BIRTH, dtype: float64"
      ]
     },
     "execution_count": 264,
     "metadata": {},
     "output_type": "execute_result"
    }
   ],
   "source": [
    " age = birth_not_null.apply(bd_to_age)\n",
    "age[:5]"
   ]
  },
  {
   "cell_type": "code",
   "execution_count": 265,
   "metadata": {},
   "outputs": [],
   "source": [
    "birth_not_null.to_csv('../data_clean/customer.csv')"
   ]
  },
  {
   "cell_type": "code",
   "execution_count": 266,
   "metadata": {},
   "outputs": [
    {
     "data": {
      "text/html": [
       "<div>\n",
       "<style>\n",
       "    .dataframe thead tr:only-child th {\n",
       "        text-align: right;\n",
       "    }\n",
       "\n",
       "    .dataframe thead th {\n",
       "        text-align: left;\n",
       "    }\n",
       "\n",
       "    .dataframe tbody tr th {\n",
       "        vertical-align: top;\n",
       "    }\n",
       "</style>\n",
       "<table border=\"1\" class=\"dataframe\">\n",
       "  <thead>\n",
       "    <tr style=\"text-align: right;\">\n",
       "      <th></th>\n",
       "      <th>CUSTOMER_ID</th>\n",
       "      <th>DATE_OF_BIRTH</th>\n",
       "      <th>ADDRESS_POSTAL_CODE</th>\n",
       "      <th>DATE_OF_BIRTH</th>\n",
       "    </tr>\n",
       "  </thead>\n",
       "  <tbody>\n",
       "    <tr>\n",
       "      <th>0</th>\n",
       "      <td>2083.0</td>\n",
       "      <td>1988-10-30</td>\n",
       "      <td>20170</td>\n",
       "      <td>29.287671</td>\n",
       "    </tr>\n",
       "    <tr>\n",
       "      <th>13</th>\n",
       "      <td>2390.0</td>\n",
       "      <td>1986-8-11</td>\n",
       "      <td>10250</td>\n",
       "      <td>31.509589</td>\n",
       "    </tr>\n",
       "    <tr>\n",
       "      <th>16</th>\n",
       "      <td>2406.0</td>\n",
       "      <td>1983-10-10</td>\n",
       "      <td>10150</td>\n",
       "      <td>34.347945</td>\n",
       "    </tr>\n",
       "    <tr>\n",
       "      <th>21</th>\n",
       "      <td>2412.0</td>\n",
       "      <td>1989-10-25</td>\n",
       "      <td>11110</td>\n",
       "      <td>28.301370</td>\n",
       "    </tr>\n",
       "    <tr>\n",
       "      <th>22</th>\n",
       "      <td>2413.0</td>\n",
       "      <td>1982-6-4</td>\n",
       "      <td>11000</td>\n",
       "      <td>35.698630</td>\n",
       "    </tr>\n",
       "  </tbody>\n",
       "</table>\n",
       "</div>"
      ],
      "text/plain": [
       "    CUSTOMER_ID  DATE_OF_BIRTH ADDRESS_POSTAL_CODE  DATE_OF_BIRTH\n",
       "0        2083.0     1988-10-30               20170      29.287671\n",
       "13       2390.0      1986-8-11               10250      31.509589\n",
       "16       2406.0     1983-10-10               10150      34.347945\n",
       "21       2412.0     1989-10-25               11110      28.301370\n",
       "22       2413.0       1982-6-4               11000      35.698630"
      ]
     },
     "execution_count": 266,
     "metadata": {},
     "output_type": "execute_result"
    }
   ],
   "source": [
    "users_all = pd.concat([df_add_not_null,age], axis=1)\n",
    "users_all[:5]"
   ]
  },
  {
   "cell_type": "code",
   "execution_count": 267,
   "metadata": {},
   "outputs": [],
   "source": [
    "users_all['Age'] = age"
   ]
  },
  {
   "cell_type": "code",
   "execution_count": 268,
   "metadata": {},
   "outputs": [
    {
     "data": {
      "text/html": [
       "<div>\n",
       "<style>\n",
       "    .dataframe thead tr:only-child th {\n",
       "        text-align: right;\n",
       "    }\n",
       "\n",
       "    .dataframe thead th {\n",
       "        text-align: left;\n",
       "    }\n",
       "\n",
       "    .dataframe tbody tr th {\n",
       "        vertical-align: top;\n",
       "    }\n",
       "</style>\n",
       "<table border=\"1\" class=\"dataframe\">\n",
       "  <thead>\n",
       "    <tr style=\"text-align: right;\">\n",
       "      <th></th>\n",
       "      <th>CUSTOMER_ID</th>\n",
       "      <th>DATE_OF_BIRTH</th>\n",
       "      <th>ADDRESS_POSTAL_CODE</th>\n",
       "      <th>DATE_OF_BIRTH</th>\n",
       "      <th>Age</th>\n",
       "    </tr>\n",
       "  </thead>\n",
       "  <tbody>\n",
       "    <tr>\n",
       "      <th>0</th>\n",
       "      <td>2083.0</td>\n",
       "      <td>1988-10-30</td>\n",
       "      <td>20170</td>\n",
       "      <td>29.287671</td>\n",
       "      <td>29.287671</td>\n",
       "    </tr>\n",
       "    <tr>\n",
       "      <th>13</th>\n",
       "      <td>2390.0</td>\n",
       "      <td>1986-8-11</td>\n",
       "      <td>10250</td>\n",
       "      <td>31.509589</td>\n",
       "      <td>31.509589</td>\n",
       "    </tr>\n",
       "    <tr>\n",
       "      <th>16</th>\n",
       "      <td>2406.0</td>\n",
       "      <td>1983-10-10</td>\n",
       "      <td>10150</td>\n",
       "      <td>34.347945</td>\n",
       "      <td>34.347945</td>\n",
       "    </tr>\n",
       "    <tr>\n",
       "      <th>21</th>\n",
       "      <td>2412.0</td>\n",
       "      <td>1989-10-25</td>\n",
       "      <td>11110</td>\n",
       "      <td>28.301370</td>\n",
       "      <td>28.301370</td>\n",
       "    </tr>\n",
       "    <tr>\n",
       "      <th>22</th>\n",
       "      <td>2413.0</td>\n",
       "      <td>1982-6-4</td>\n",
       "      <td>11000</td>\n",
       "      <td>35.698630</td>\n",
       "      <td>35.698630</td>\n",
       "    </tr>\n",
       "  </tbody>\n",
       "</table>\n",
       "</div>"
      ],
      "text/plain": [
       "    CUSTOMER_ID  DATE_OF_BIRTH ADDRESS_POSTAL_CODE  DATE_OF_BIRTH        Age\n",
       "0        2083.0     1988-10-30               20170      29.287671  29.287671\n",
       "13       2390.0      1986-8-11               10250      31.509589  31.509589\n",
       "16       2406.0     1983-10-10               10150      34.347945  34.347945\n",
       "21       2412.0     1989-10-25               11110      28.301370  28.301370\n",
       "22       2413.0       1982-6-4               11000      35.698630  35.698630"
      ]
     },
     "execution_count": 268,
     "metadata": {},
     "output_type": "execute_result"
    }
   ],
   "source": [
    "users_all[:5]"
   ]
  },
  {
   "cell_type": "code",
   "execution_count": 269,
   "metadata": {
    "scrolled": true
   },
   "outputs": [
    {
     "data": {
      "text/html": [
       "<div>\n",
       "<style>\n",
       "    .dataframe thead tr:only-child th {\n",
       "        text-align: right;\n",
       "    }\n",
       "\n",
       "    .dataframe thead th {\n",
       "        text-align: left;\n",
       "    }\n",
       "\n",
       "    .dataframe tbody tr th {\n",
       "        vertical-align: top;\n",
       "    }\n",
       "</style>\n",
       "<table border=\"1\" class=\"dataframe\">\n",
       "  <thead>\n",
       "    <tr style=\"text-align: right;\">\n",
       "      <th></th>\n",
       "      <th>CUSTOMER_ID</th>\n",
       "      <th>ADDRESS_POSTAL_CODE</th>\n",
       "      <th>Age</th>\n",
       "    </tr>\n",
       "  </thead>\n",
       "  <tbody>\n",
       "    <tr>\n",
       "      <th>0</th>\n",
       "      <td>2083.0</td>\n",
       "      <td>20170</td>\n",
       "      <td>29.287671</td>\n",
       "    </tr>\n",
       "    <tr>\n",
       "      <th>13</th>\n",
       "      <td>2390.0</td>\n",
       "      <td>10250</td>\n",
       "      <td>31.509589</td>\n",
       "    </tr>\n",
       "    <tr>\n",
       "      <th>16</th>\n",
       "      <td>2406.0</td>\n",
       "      <td>10150</td>\n",
       "      <td>34.347945</td>\n",
       "    </tr>\n",
       "    <tr>\n",
       "      <th>21</th>\n",
       "      <td>2412.0</td>\n",
       "      <td>11110</td>\n",
       "      <td>28.301370</td>\n",
       "    </tr>\n",
       "    <tr>\n",
       "      <th>22</th>\n",
       "      <td>2413.0</td>\n",
       "      <td>11000</td>\n",
       "      <td>35.698630</td>\n",
       "    </tr>\n",
       "    <tr>\n",
       "      <th>24</th>\n",
       "      <td>2416.0</td>\n",
       "      <td>10280</td>\n",
       "      <td>35.852055</td>\n",
       "    </tr>\n",
       "    <tr>\n",
       "      <th>26</th>\n",
       "      <td>2082.0</td>\n",
       "      <td>11120</td>\n",
       "      <td>41.315068</td>\n",
       "    </tr>\n",
       "    <tr>\n",
       "      <th>27</th>\n",
       "      <td>2142.0</td>\n",
       "      <td>10140</td>\n",
       "      <td>29.509589</td>\n",
       "    </tr>\n",
       "    <tr>\n",
       "      <th>32</th>\n",
       "      <td>2291.0</td>\n",
       "      <td>12130</td>\n",
       "      <td>33.594521</td>\n",
       "    </tr>\n",
       "    <tr>\n",
       "      <th>36</th>\n",
       "      <td>2316.0</td>\n",
       "      <td>10250</td>\n",
       "      <td>22.567123</td>\n",
       "    </tr>\n",
       "    <tr>\n",
       "      <th>42</th>\n",
       "      <td>2391.0</td>\n",
       "      <td>11110</td>\n",
       "      <td>29.734247</td>\n",
       "    </tr>\n",
       "    <tr>\n",
       "      <th>52</th>\n",
       "      <td>2426.0</td>\n",
       "      <td>11130</td>\n",
       "      <td>38.852055</td>\n",
       "    </tr>\n",
       "    <tr>\n",
       "      <th>53</th>\n",
       "      <td>2085.0</td>\n",
       "      <td>10330</td>\n",
       "      <td>21.109589</td>\n",
       "    </tr>\n",
       "    <tr>\n",
       "      <th>57</th>\n",
       "      <td>2229.0</td>\n",
       "      <td>21140</td>\n",
       "      <td>34.219178</td>\n",
       "    </tr>\n",
       "    <tr>\n",
       "      <th>59</th>\n",
       "      <td>2243.0</td>\n",
       "      <td>11150</td>\n",
       "      <td>37.386301</td>\n",
       "    </tr>\n",
       "    <tr>\n",
       "      <th>63</th>\n",
       "      <td>2264.0</td>\n",
       "      <td>10700</td>\n",
       "      <td>43.800000</td>\n",
       "    </tr>\n",
       "    <tr>\n",
       "      <th>66</th>\n",
       "      <td>2309.0</td>\n",
       "      <td>10260</td>\n",
       "      <td>36.786301</td>\n",
       "    </tr>\n",
       "    <tr>\n",
       "      <th>73</th>\n",
       "      <td>2392.0</td>\n",
       "      <td>10240</td>\n",
       "      <td>41.616438</td>\n",
       "    </tr>\n",
       "    <tr>\n",
       "      <th>74</th>\n",
       "      <td>2402.0</td>\n",
       "      <td>11000</td>\n",
       "      <td>36.243836</td>\n",
       "    </tr>\n",
       "    <tr>\n",
       "      <th>75</th>\n",
       "      <td>2405.0</td>\n",
       "      <td>10210</td>\n",
       "      <td>34.213699</td>\n",
       "    </tr>\n",
       "    <tr>\n",
       "      <th>79</th>\n",
       "      <td>2182.0</td>\n",
       "      <td>24110</td>\n",
       "      <td>27.701370</td>\n",
       "    </tr>\n",
       "    <tr>\n",
       "      <th>84</th>\n",
       "      <td>2233.0</td>\n",
       "      <td>10330</td>\n",
       "      <td>28.610959</td>\n",
       "    </tr>\n",
       "    <tr>\n",
       "      <th>87</th>\n",
       "      <td>2246.0</td>\n",
       "      <td>10540</td>\n",
       "      <td>34.087671</td>\n",
       "    </tr>\n",
       "    <tr>\n",
       "      <th>93</th>\n",
       "      <td>2305.0</td>\n",
       "      <td>10540</td>\n",
       "      <td>34.156164</td>\n",
       "    </tr>\n",
       "    <tr>\n",
       "      <th>101</th>\n",
       "      <td>2337.0</td>\n",
       "      <td>10160</td>\n",
       "      <td>33.542466</td>\n",
       "    </tr>\n",
       "    <tr>\n",
       "      <th>104</th>\n",
       "      <td>41.0</td>\n",
       "      <td>10140</td>\n",
       "      <td>2.334247</td>\n",
       "    </tr>\n",
       "    <tr>\n",
       "      <th>105</th>\n",
       "      <td>1042.0</td>\n",
       "      <td>12345</td>\n",
       "      <td>6.526027</td>\n",
       "    </tr>\n",
       "    <tr>\n",
       "      <th>106</th>\n",
       "      <td>2084.0</td>\n",
       "      <td>20170</td>\n",
       "      <td>29.287671</td>\n",
       "    </tr>\n",
       "    <tr>\n",
       "      <th>119</th>\n",
       "      <td>2365.0</td>\n",
       "      <td>10140</td>\n",
       "      <td>26.898630</td>\n",
       "    </tr>\n",
       "    <tr>\n",
       "      <th>122</th>\n",
       "      <td>2369.0</td>\n",
       "      <td>10150</td>\n",
       "      <td>32.032877</td>\n",
       "    </tr>\n",
       "    <tr>\n",
       "      <th>...</th>\n",
       "      <td>...</td>\n",
       "      <td>...</td>\n",
       "      <td>...</td>\n",
       "    </tr>\n",
       "    <tr>\n",
       "      <th>36104</th>\n",
       "      <td>241722.0</td>\n",
       "      <td>10900</td>\n",
       "      <td>32.323288</td>\n",
       "    </tr>\n",
       "    <tr>\n",
       "      <th>36106</th>\n",
       "      <td>242002.0</td>\n",
       "      <td>10540</td>\n",
       "      <td>39.602740</td>\n",
       "    </tr>\n",
       "    <tr>\n",
       "      <th>36110</th>\n",
       "      <td>243522.0</td>\n",
       "      <td>12120</td>\n",
       "      <td>23.317808</td>\n",
       "    </tr>\n",
       "    <tr>\n",
       "      <th>36111</th>\n",
       "      <td>243582.0</td>\n",
       "      <td>67140</td>\n",
       "      <td>23.589041</td>\n",
       "    </tr>\n",
       "    <tr>\n",
       "      <th>36117</th>\n",
       "      <td>245542.0</td>\n",
       "      <td>10150</td>\n",
       "      <td>28.706849</td>\n",
       "    </tr>\n",
       "    <tr>\n",
       "      <th>36119</th>\n",
       "      <td>256762.0</td>\n",
       "      <td>10140</td>\n",
       "      <td>40.827397</td>\n",
       "    </tr>\n",
       "    <tr>\n",
       "      <th>36122</th>\n",
       "      <td>227602.0</td>\n",
       "      <td>10150</td>\n",
       "      <td>28.117808</td>\n",
       "    </tr>\n",
       "    <tr>\n",
       "      <th>36126</th>\n",
       "      <td>232264.0</td>\n",
       "      <td>10400</td>\n",
       "      <td>34.383562</td>\n",
       "    </tr>\n",
       "    <tr>\n",
       "      <th>36127</th>\n",
       "      <td>232762.0</td>\n",
       "      <td>73000</td>\n",
       "      <td>23.898630</td>\n",
       "    </tr>\n",
       "    <tr>\n",
       "      <th>36132</th>\n",
       "      <td>238842.0</td>\n",
       "      <td>11000</td>\n",
       "      <td>60.695890</td>\n",
       "    </tr>\n",
       "    <tr>\n",
       "      <th>36136</th>\n",
       "      <td>242442.0</td>\n",
       "      <td>80110</td>\n",
       "      <td>36.830137</td>\n",
       "    </tr>\n",
       "    <tr>\n",
       "      <th>36139</th>\n",
       "      <td>243122.0</td>\n",
       "      <td>50210</td>\n",
       "      <td>60.939726</td>\n",
       "    </tr>\n",
       "    <tr>\n",
       "      <th>36141</th>\n",
       "      <td>244063.0</td>\n",
       "      <td>10150</td>\n",
       "      <td>32.619178</td>\n",
       "    </tr>\n",
       "    <tr>\n",
       "      <th>36145</th>\n",
       "      <td>248702.0</td>\n",
       "      <td>10300</td>\n",
       "      <td>28.301370</td>\n",
       "    </tr>\n",
       "    <tr>\n",
       "      <th>36147</th>\n",
       "      <td>253903.0</td>\n",
       "      <td>10260</td>\n",
       "      <td>28.150685</td>\n",
       "    </tr>\n",
       "    <tr>\n",
       "      <th>36153</th>\n",
       "      <td>257622.0</td>\n",
       "      <td>73110</td>\n",
       "      <td>30.695890</td>\n",
       "    </tr>\n",
       "    <tr>\n",
       "      <th>36155</th>\n",
       "      <td>258362.0</td>\n",
       "      <td>12120</td>\n",
       "      <td>34.769863</td>\n",
       "    </tr>\n",
       "    <tr>\n",
       "      <th>36157</th>\n",
       "      <td>226543.0</td>\n",
       "      <td>10140</td>\n",
       "      <td>32.312329</td>\n",
       "    </tr>\n",
       "    <tr>\n",
       "      <th>36158</th>\n",
       "      <td>227242.0</td>\n",
       "      <td>10160</td>\n",
       "      <td>37.032877</td>\n",
       "    </tr>\n",
       "    <tr>\n",
       "      <th>36162</th>\n",
       "      <td>229242.0</td>\n",
       "      <td>11000</td>\n",
       "      <td>35.186301</td>\n",
       "    </tr>\n",
       "    <tr>\n",
       "      <th>36171</th>\n",
       "      <td>232302.0</td>\n",
       "      <td>10310</td>\n",
       "      <td>39.471233</td>\n",
       "    </tr>\n",
       "    <tr>\n",
       "      <th>36175</th>\n",
       "      <td>232804.0</td>\n",
       "      <td>71170</td>\n",
       "      <td>41.315068</td>\n",
       "    </tr>\n",
       "    <tr>\n",
       "      <th>36176</th>\n",
       "      <td>234342.0</td>\n",
       "      <td>10600</td>\n",
       "      <td>29.115068</td>\n",
       "    </tr>\n",
       "    <tr>\n",
       "      <th>36181</th>\n",
       "      <td>231222.0</td>\n",
       "      <td>10240</td>\n",
       "      <td>32.183562</td>\n",
       "    </tr>\n",
       "    <tr>\n",
       "      <th>36183</th>\n",
       "      <td>257823.0</td>\n",
       "      <td>10220</td>\n",
       "      <td>56.205479</td>\n",
       "    </tr>\n",
       "    <tr>\n",
       "      <th>36184</th>\n",
       "      <td>258302.0</td>\n",
       "      <td>10270</td>\n",
       "      <td>25.789041</td>\n",
       "    </tr>\n",
       "    <tr>\n",
       "      <th>36186</th>\n",
       "      <td>227002.0</td>\n",
       "      <td>90140</td>\n",
       "      <td>31.128767</td>\n",
       "    </tr>\n",
       "    <tr>\n",
       "      <th>36200</th>\n",
       "      <td>239722.0</td>\n",
       "      <td>20000</td>\n",
       "      <td>48.073973</td>\n",
       "    </tr>\n",
       "    <tr>\n",
       "      <th>36208</th>\n",
       "      <td>247822.0</td>\n",
       "      <td>10170</td>\n",
       "      <td>29.890411</td>\n",
       "    </tr>\n",
       "    <tr>\n",
       "      <th>36209</th>\n",
       "      <td>248022.0</td>\n",
       "      <td>10800</td>\n",
       "      <td>30.063014</td>\n",
       "    </tr>\n",
       "  </tbody>\n",
       "</table>\n",
       "<p>10594 rows × 3 columns</p>\n",
       "</div>"
      ],
      "text/plain": [
       "       CUSTOMER_ID ADDRESS_POSTAL_CODE        Age\n",
       "0           2083.0               20170  29.287671\n",
       "13          2390.0               10250  31.509589\n",
       "16          2406.0               10150  34.347945\n",
       "21          2412.0               11110  28.301370\n",
       "22          2413.0               11000  35.698630\n",
       "24          2416.0               10280  35.852055\n",
       "26          2082.0               11120  41.315068\n",
       "27          2142.0               10140  29.509589\n",
       "32          2291.0               12130  33.594521\n",
       "36          2316.0               10250  22.567123\n",
       "42          2391.0               11110  29.734247\n",
       "52          2426.0               11130  38.852055\n",
       "53          2085.0               10330  21.109589\n",
       "57          2229.0               21140  34.219178\n",
       "59          2243.0               11150  37.386301\n",
       "63          2264.0               10700  43.800000\n",
       "66          2309.0               10260  36.786301\n",
       "73          2392.0               10240  41.616438\n",
       "74          2402.0               11000  36.243836\n",
       "75          2405.0               10210  34.213699\n",
       "79          2182.0               24110  27.701370\n",
       "84          2233.0               10330  28.610959\n",
       "87          2246.0               10540  34.087671\n",
       "93          2305.0               10540  34.156164\n",
       "101         2337.0               10160  33.542466\n",
       "104           41.0               10140   2.334247\n",
       "105         1042.0               12345   6.526027\n",
       "106         2084.0               20170  29.287671\n",
       "119         2365.0               10140  26.898630\n",
       "122         2369.0               10150  32.032877\n",
       "...            ...                 ...        ...\n",
       "36104     241722.0               10900  32.323288\n",
       "36106     242002.0               10540  39.602740\n",
       "36110     243522.0               12120  23.317808\n",
       "36111     243582.0               67140  23.589041\n",
       "36117     245542.0               10150  28.706849\n",
       "36119     256762.0               10140  40.827397\n",
       "36122     227602.0               10150  28.117808\n",
       "36126     232264.0               10400  34.383562\n",
       "36127     232762.0               73000  23.898630\n",
       "36132     238842.0               11000  60.695890\n",
       "36136     242442.0               80110  36.830137\n",
       "36139     243122.0               50210  60.939726\n",
       "36141     244063.0               10150  32.619178\n",
       "36145     248702.0               10300  28.301370\n",
       "36147     253903.0               10260  28.150685\n",
       "36153     257622.0               73110  30.695890\n",
       "36155     258362.0               12120  34.769863\n",
       "36157     226543.0               10140  32.312329\n",
       "36158     227242.0               10160  37.032877\n",
       "36162     229242.0               11000  35.186301\n",
       "36171     232302.0               10310  39.471233\n",
       "36175     232804.0               71170  41.315068\n",
       "36176     234342.0               10600  29.115068\n",
       "36181     231222.0               10240  32.183562\n",
       "36183     257823.0               10220  56.205479\n",
       "36184     258302.0               10270  25.789041\n",
       "36186     227002.0               90140  31.128767\n",
       "36200     239722.0               20000  48.073973\n",
       "36208     247822.0               10170  29.890411\n",
       "36209     248022.0               10800  30.063014\n",
       "\n",
       "[10594 rows x 3 columns]"
      ]
     },
     "execution_count": 269,
     "metadata": {},
     "output_type": "execute_result"
    }
   ],
   "source": [
    "\n",
    "del users_all['DATE_OF_BIRTH']\n",
    "users_all"
   ]
  },
  {
   "cell_type": "code",
   "execution_count": 270,
   "metadata": {
    "collapsed": true
   },
   "outputs": [],
   "source": [
    "users_all.to_csv('../data_clean/customer.csv')"
   ]
  },
  {
   "cell_type": "markdown",
   "metadata": {},
   "source": [
    "# check"
   ]
  },
  {
   "cell_type": "code",
   "execution_count": 271,
   "metadata": {},
   "outputs": [
    {
     "data": {
      "text/plain": [
       "CUSTOMER_ID            float64\n",
       "ADDRESS_POSTAL_CODE     object\n",
       "Age                    float64\n",
       "dtype: object"
      ]
     },
     "execution_count": 271,
     "metadata": {},
     "output_type": "execute_result"
    }
   ],
   "source": [
    "users_all.dtypes"
   ]
  },
  {
   "cell_type": "code",
   "execution_count": 293,
   "metadata": {
    "scrolled": true
   },
   "outputs": [
    {
     "data": {
      "text/plain": [
       "0     29.0\n",
       "13    32.0\n",
       "16    34.0\n",
       "21    28.0\n",
       "22    36.0\n",
       "Name: Age, dtype: float64"
      ]
     },
     "execution_count": 293,
     "metadata": {},
     "output_type": "execute_result"
    }
   ],
   "source": [
    "new_age = users_all['Age'].round(0)\n",
    "new_age[:5]"
   ]
  }
 ],
 "metadata": {
  "kernelspec": {
   "display_name": "Python 3",
   "language": "python",
   "name": "python3"
  },
  "language_info": {
   "codemirror_mode": {
    "name": "ipython",
    "version": 3
   },
   "file_extension": ".py",
   "mimetype": "text/x-python",
   "name": "python",
   "nbconvert_exporter": "python",
   "pygments_lexer": "ipython3",
   "version": "3.6.3"
  }
 },
 "nbformat": 4,
 "nbformat_minor": 2
}
