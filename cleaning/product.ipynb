{
 "cells": [
  {
   "cell_type": "code",
   "execution_count": 1,
   "metadata": {
    "collapsed": true
   },
   "outputs": [],
   "source": [
    "import unicodecsv\n",
    "import pandas as pd"
   ]
  },
  {
   "cell_type": "markdown",
   "metadata": {},
   "source": [
    "# Product"
   ]
  },
  {
   "cell_type": "code",
   "execution_count": 2,
   "metadata": {
    "collapsed": true
   },
   "outputs": [],
   "source": [
    "product = pd.read_csv('../data_20180120/product.csv', dtype={'EX_AVG_RATING': float})"
   ]
  },
  {
   "cell_type": "markdown",
   "metadata": {},
   "source": [
    "ดูตัวอย่างข้อมูลสินค้า"
   ]
  },
  {
   "cell_type": "code",
   "execution_count": 3,
   "metadata": {},
   "outputs": [
    {
     "data": {
      "text/html": [
       "<div>\n",
       "<style>\n",
       "    .dataframe thead tr:only-child th {\n",
       "        text-align: right;\n",
       "    }\n",
       "\n",
       "    .dataframe thead th {\n",
       "        text-align: left;\n",
       "    }\n",
       "\n",
       "    .dataframe tbody tr th {\n",
       "        vertical-align: top;\n",
       "    }\n",
       "</style>\n",
       "<table border=\"1\" class=\"dataframe\">\n",
       "  <thead>\n",
       "    <tr style=\"text-align: right;\">\n",
       "      <th></th>\n",
       "      <th>MATNR</th>\n",
       "      <th>MAKTX</th>\n",
       "      <th>DEPT_ID1</th>\n",
       "      <th>MVGR1</th>\n",
       "      <th>MVGR2</th>\n",
       "      <th>MVGR3</th>\n",
       "      <th>MVGR4</th>\n",
       "      <th>MVGR5</th>\n",
       "      <th>MVGR6</th>\n",
       "      <th>MVGR7</th>\n",
       "      <th>STY_ID</th>\n",
       "      <th>META_K</th>\n",
       "      <th>EX_CONTENT_ID</th>\n",
       "      <th>EX_UNIMODEL</th>\n",
       "      <th>EX_PORT</th>\n",
       "      <th>EX_STOCK</th>\n",
       "      <th>EX_SALE_PERCENT</th>\n",
       "      <th>EX_RATING_COUNT</th>\n",
       "      <th>EX_RATING</th>\n",
       "      <th>EX_AVG_RATING</th>\n",
       "    </tr>\n",
       "  </thead>\n",
       "  <tbody>\n",
       "    <tr>\n",
       "      <th>0</th>\n",
       "      <td>19047936</td>\n",
       "      <td>PATISIA/ตู้ข้างเตียงNT45/ขาว</td>\n",
       "      <td>01</td>\n",
       "      <td>14</td>\n",
       "      <td>A20</td>\n",
       "      <td>2.0</td>\n",
       "      <td>70</td>\n",
       "      <td>J9</td>\n",
       "      <td>01</td>\n",
       "      <td>09</td>\n",
       "      <td>14.0</td>\n",
       "      <td>SB,KONCEPT FURNITURE,Patisia,ชุดห้องนอน,โต๊ะ/ต...</td>\n",
       "      <td>NaN</td>\n",
       "      <td>19047936.0</td>\n",
       "      <td>V</td>\n",
       "      <td>0</td>\n",
       "      <td>30.0</td>\n",
       "      <td>15.0</td>\n",
       "      <td>70.0</td>\n",
       "      <td>4.666667</td>\n",
       "    </tr>\n",
       "    <tr>\n",
       "      <th>1</th>\n",
       "      <td>19045101</td>\n",
       "      <td>โซฟาCANNERY/นต.HE51-12/เหลือง-ลายทาง/3S</td>\n",
       "      <td>03</td>\n",
       "      <td>10</td>\n",
       "      <td>059</td>\n",
       "      <td>35.0</td>\n",
       "      <td>59</td>\n",
       "      <td>B2</td>\n",
       "      <td>32</td>\n",
       "      <td>08</td>\n",
       "      <td>6.0</td>\n",
       "      <td>SB,SB FURNITURE,Cannery,Sofa Fabric,โซฟา 3 ที่...</td>\n",
       "      <td>NaN</td>\n",
       "      <td>19045101.0</td>\n",
       "      <td>V</td>\n",
       "      <td>-3</td>\n",
       "      <td>25.0</td>\n",
       "      <td>0.0</td>\n",
       "      <td>0.0</td>\n",
       "      <td>0.000000</td>\n",
       "    </tr>\n",
       "    <tr>\n",
       "      <th>2</th>\n",
       "      <td>19050282</td>\n",
       "      <td>VPกรอบรูป#HD5937A/ไม้ขัดสี</td>\n",
       "      <td>06</td>\n",
       "      <td>19</td>\n",
       "      <td></td>\n",
       "      <td>51.0</td>\n",
       "      <td>B4</td>\n",
       "      <td></td>\n",
       "      <td>58</td>\n",
       "      <td>23</td>\n",
       "      <td>14.0</td>\n",
       "      <td>SB,VINTAGE PASSION,,กรอบรูปและภาพแขวน,กรอบรูป,</td>\n",
       "      <td>NaN</td>\n",
       "      <td>19050282.0</td>\n",
       "      <td>V</td>\n",
       "      <td>0</td>\n",
       "      <td>0.0</td>\n",
       "      <td>0.0</td>\n",
       "      <td>0.0</td>\n",
       "      <td>0.000000</td>\n",
       "    </tr>\n",
       "    <tr>\n",
       "      <th>3</th>\n",
       "      <td>59000365</td>\n",
       "      <td>Bedroom/Meudon 6'&amp;Isis/Wenge</td>\n",
       "      <td>01</td>\n",
       "      <td>14</td>\n",
       "      <td>598</td>\n",
       "      <td>2.0</td>\n",
       "      <td>CD</td>\n",
       "      <td>05</td>\n",
       "      <td>D6</td>\n",
       "      <td>09</td>\n",
       "      <td>3.0</td>\n",
       "      <td>SB,เอส.บี,เฟอร์นิเจอร์,KONCEPT FURNITURE,Meudo...</td>\n",
       "      <td>36,332</td>\n",
       "      <td>59000365.0</td>\n",
       "      <td>C</td>\n",
       "      <td>-24</td>\n",
       "      <td>32.0</td>\n",
       "      <td>0.0</td>\n",
       "      <td>0.0</td>\n",
       "      <td>0.000000</td>\n",
       "    </tr>\n",
       "    <tr>\n",
       "      <th>4</th>\n",
       "      <td>59001810</td>\n",
       "      <td>Bedroom/ALicia-E 6'&amp;Meudon/White/Re</td>\n",
       "      <td>01</td>\n",
       "      <td>14</td>\n",
       "      <td>466</td>\n",
       "      <td>2.0</td>\n",
       "      <td>CD</td>\n",
       "      <td>05</td>\n",
       "      <td>01</td>\n",
       "      <td>09</td>\n",
       "      <td>6.0</td>\n",
       "      <td>SB,เอส.บี,เฟอร์นิเจอร์,KONCEPT FURNITURE,Alici...</td>\n",
       "      <td>NaN</td>\n",
       "      <td>59001810.0</td>\n",
       "      <td>V</td>\n",
       "      <td>0</td>\n",
       "      <td>32.0</td>\n",
       "      <td>0.0</td>\n",
       "      <td>0.0</td>\n",
       "      <td>0.000000</td>\n",
       "    </tr>\n",
       "    <tr>\n",
       "      <th>5</th>\n",
       "      <td>19049900</td>\n",
       "      <td>โซฟาSANTANA/SLขาวกุ๊นดำ/มุม(ขวา)</td>\n",
       "      <td>03</td>\n",
       "      <td>14</td>\n",
       "      <td>HN6</td>\n",
       "      <td>38.0</td>\n",
       "      <td>62</td>\n",
       "      <td>B2</td>\n",
       "      <td>01</td>\n",
       "      <td>21</td>\n",
       "      <td>6.0</td>\n",
       "      <td>SB,เอส.บี,เฟอร์นิเจอร์,KONCEPT FURNITURE,Santa...</td>\n",
       "      <td>NaN</td>\n",
       "      <td>19049900.0</td>\n",
       "      <td>V</td>\n",
       "      <td>0</td>\n",
       "      <td>31.0</td>\n",
       "      <td>0.0</td>\n",
       "      <td>0.0</td>\n",
       "      <td>0.000000</td>\n",
       "    </tr>\n",
       "    <tr>\n",
       "      <th>6</th>\n",
       "      <td>19040929</td>\n",
       "      <td>โซฟาBELLA(62-3)/หนังแท้/SL/นต.(ZP-15)/3S</td>\n",
       "      <td>03</td>\n",
       "      <td>10</td>\n",
       "      <td>755</td>\n",
       "      <td>38.0</td>\n",
       "      <td>59</td>\n",
       "      <td>B3</td>\n",
       "      <td>33</td>\n",
       "      <td>10</td>\n",
       "      <td>9.0</td>\n",
       "      <td>SB,SB FURNITURE,Bella,โซฟาหนังสังเคราะห์,โซฟา ...</td>\n",
       "      <td>NaN</td>\n",
       "      <td>19040929.0</td>\n",
       "      <td>V</td>\n",
       "      <td>0</td>\n",
       "      <td>25.0</td>\n",
       "      <td>0.0</td>\n",
       "      <td>0.0</td>\n",
       "      <td>0.000000</td>\n",
       "    </tr>\n",
       "    <tr>\n",
       "      <th>7</th>\n",
       "      <td>19045046</td>\n",
       "      <td>โซฟาJOVI#AS-S077/ดำ/4S</td>\n",
       "      <td>03</td>\n",
       "      <td>10</td>\n",
       "      <td>207</td>\n",
       "      <td>35.0</td>\n",
       "      <td>60</td>\n",
       "      <td>B2</td>\n",
       "      <td>06</td>\n",
       "      <td>08</td>\n",
       "      <td>6.0</td>\n",
       "      <td>SB,เอส.บี,เฟอร์นิเจอร์,SB,เอส.บี,เฟอร์นิเจอร์ ...</td>\n",
       "      <td>NaN</td>\n",
       "      <td>19045046.0</td>\n",
       "      <td>V</td>\n",
       "      <td>0</td>\n",
       "      <td>28.0</td>\n",
       "      <td>0.0</td>\n",
       "      <td>0.0</td>\n",
       "      <td>0.000000</td>\n",
       "    </tr>\n",
       "    <tr>\n",
       "      <th>8</th>\n",
       "      <td>19045211</td>\n",
       "      <td>GRAZIA I/เตียง5'/E/วอลนัท/เบาะครีม</td>\n",
       "      <td>01</td>\n",
       "      <td>14</td>\n",
       "      <td>543</td>\n",
       "      <td>2.0</td>\n",
       "      <td>02</td>\n",
       "      <td>04</td>\n",
       "      <td>37</td>\n",
       "      <td>09</td>\n",
       "      <td>3.0</td>\n",
       "      <td>SB,เอส.บี,เฟอร์นิเจอร์,KONCEPT FURNITURE,Grazi...</td>\n",
       "      <td>NaN</td>\n",
       "      <td>19045211.0</td>\n",
       "      <td>V</td>\n",
       "      <td>0</td>\n",
       "      <td>30.0</td>\n",
       "      <td>0.0</td>\n",
       "      <td>0.0</td>\n",
       "      <td>0.000000</td>\n",
       "    </tr>\n",
       "    <tr>\n",
       "      <th>9</th>\n",
       "      <td>59000343</td>\n",
       "      <td>Bedroom/Koloze-B 6'&amp;Foresta/Walnut</td>\n",
       "      <td>01</td>\n",
       "      <td>14</td>\n",
       "      <td>576</td>\n",
       "      <td>2.0</td>\n",
       "      <td></td>\n",
       "      <td></td>\n",
       "      <td>37</td>\n",
       "      <td></td>\n",
       "      <td>6.0</td>\n",
       "      <td>SB,เอส.บี,เฟอร์นิเจอร์,KONCEPT FURNITURE,Koloz...</td>\n",
       "      <td>NaN</td>\n",
       "      <td>59000343.0</td>\n",
       "      <td>H</td>\n",
       "      <td>-40</td>\n",
       "      <td>0.0</td>\n",
       "      <td>0.0</td>\n",
       "      <td>0.0</td>\n",
       "      <td>0.000000</td>\n",
       "    </tr>\n",
       "  </tbody>\n",
       "</table>\n",
       "</div>"
      ],
      "text/plain": [
       "      MATNR                                     MAKTX DEPT_ID1 MVGR1 MVGR2  \\\n",
       "0  19047936              PATISIA/ตู้ข้างเตียงNT45/ขาว       01    14   A20   \n",
       "1  19045101   โซฟาCANNERY/นต.HE51-12/เหลือง-ลายทาง/3S       03    10   059   \n",
       "2  19050282                VPกรอบรูป#HD5937A/ไม้ขัดสี       06    19         \n",
       "3  59000365              Bedroom/Meudon 6'&Isis/Wenge       01    14   598   \n",
       "4  59001810       Bedroom/ALicia-E 6'&Meudon/White/Re       01    14   466   \n",
       "5  19049900          โซฟาSANTANA/SLขาวกุ๊นดำ/มุม(ขวา)       03    14   HN6   \n",
       "6  19040929  โซฟาBELLA(62-3)/หนังแท้/SL/นต.(ZP-15)/3S       03    10   755   \n",
       "7  19045046                    โซฟาJOVI#AS-S077/ดำ/4S       03    10   207   \n",
       "8  19045211        GRAZIA I/เตียง5'/E/วอลนัท/เบาะครีม       01    14   543   \n",
       "9  59000343        Bedroom/Koloze-B 6'&Foresta/Walnut       01    14   576   \n",
       "\n",
       "   MVGR3 MVGR4 MVGR5 MVGR6 MVGR7  STY_ID  \\\n",
       "0    2.0    70    J9    01    09    14.0   \n",
       "1   35.0    59    B2    32    08     6.0   \n",
       "2   51.0    B4          58    23    14.0   \n",
       "3    2.0    CD    05    D6    09     3.0   \n",
       "4    2.0    CD    05    01    09     6.0   \n",
       "5   38.0    62    B2    01    21     6.0   \n",
       "6   38.0    59    B3    33    10     9.0   \n",
       "7   35.0    60    B2    06    08     6.0   \n",
       "8    2.0    02    04    37    09     3.0   \n",
       "9    2.0                37           6.0   \n",
       "\n",
       "                                              META_K EX_CONTENT_ID  \\\n",
       "0  SB,KONCEPT FURNITURE,Patisia,ชุดห้องนอน,โต๊ะ/ต...           NaN   \n",
       "1  SB,SB FURNITURE,Cannery,Sofa Fabric,โซฟา 3 ที่...           NaN   \n",
       "2     SB,VINTAGE PASSION,,กรอบรูปและภาพแขวน,กรอบรูป,           NaN   \n",
       "3  SB,เอส.บี,เฟอร์นิเจอร์,KONCEPT FURNITURE,Meudo...        36,332   \n",
       "4  SB,เอส.บี,เฟอร์นิเจอร์,KONCEPT FURNITURE,Alici...           NaN   \n",
       "5  SB,เอส.บี,เฟอร์นิเจอร์,KONCEPT FURNITURE,Santa...           NaN   \n",
       "6  SB,SB FURNITURE,Bella,โซฟาหนังสังเคราะห์,โซฟา ...           NaN   \n",
       "7  SB,เอส.บี,เฟอร์นิเจอร์,SB,เอส.บี,เฟอร์นิเจอร์ ...           NaN   \n",
       "8  SB,เอส.บี,เฟอร์นิเจอร์,KONCEPT FURNITURE,Grazi...           NaN   \n",
       "9  SB,เอส.บี,เฟอร์นิเจอร์,KONCEPT FURNITURE,Koloz...           NaN   \n",
       "\n",
       "   EX_UNIMODEL EX_PORT EX_STOCK  EX_SALE_PERCENT  EX_RATING_COUNT  EX_RATING  \\\n",
       "0   19047936.0       V        0             30.0             15.0       70.0   \n",
       "1   19045101.0       V       -3             25.0              0.0        0.0   \n",
       "2   19050282.0       V        0              0.0              0.0        0.0   \n",
       "3   59000365.0       C      -24             32.0              0.0        0.0   \n",
       "4   59001810.0       V        0             32.0              0.0        0.0   \n",
       "5   19049900.0       V        0             31.0              0.0        0.0   \n",
       "6   19040929.0       V        0             25.0              0.0        0.0   \n",
       "7   19045046.0       V        0             28.0              0.0        0.0   \n",
       "8   19045211.0       V        0             30.0              0.0        0.0   \n",
       "9   59000343.0       H      -40              0.0              0.0        0.0   \n",
       "\n",
       "   EX_AVG_RATING  \n",
       "0       4.666667  \n",
       "1       0.000000  \n",
       "2       0.000000  \n",
       "3       0.000000  \n",
       "4       0.000000  \n",
       "5       0.000000  \n",
       "6       0.000000  \n",
       "7       0.000000  \n",
       "8       0.000000  \n",
       "9       0.000000  "
      ]
     },
     "execution_count": 3,
     "metadata": {},
     "output_type": "execute_result"
    }
   ],
   "source": [
    "pd.DataFrame(product[0:10])"
   ]
  },
  {
   "cell_type": "markdown",
   "metadata": {},
   "source": [
    "ตรวจสอบค่า avg_rating"
   ]
  },
  {
   "cell_type": "code",
   "execution_count": 4,
   "metadata": {},
   "outputs": [
    {
     "data": {
      "text/plain": [
       "0"
      ]
     },
     "execution_count": 4,
     "metadata": {},
     "output_type": "execute_result"
    }
   ],
   "source": [
    "product_table = pd.DataFrame(product)\n",
    "sum((product_table['EX_AVG_RATING'] < 0).astype(\"int\"))"
   ]
  },
  {
   "cell_type": "code",
   "execution_count": 5,
   "metadata": {},
   "outputs": [
    {
     "data": {
      "text/plain": [
       "0"
      ]
     },
     "execution_count": 5,
     "metadata": {},
     "output_type": "execute_result"
    }
   ],
   "source": [
    "sum((product_table['EX_AVG_RATING'] > 5).astype(\"int\"))"
   ]
  },
  {
   "cell_type": "code",
   "execution_count": 6,
   "metadata": {
    "collapsed": true
   },
   "outputs": [],
   "source": [
    "product_table.to_csv('../data_clean/product.csv',index=False)"
   ]
  },
  {
   "cell_type": "markdown",
   "metadata": {},
   "source": [
    "# Category"
   ]
  },
  {
   "cell_type": "code",
   "execution_count": 7,
   "metadata": {},
   "outputs": [
    {
     "data": {
      "text/html": [
       "<div>\n",
       "<style>\n",
       "    .dataframe thead tr:only-child th {\n",
       "        text-align: right;\n",
       "    }\n",
       "\n",
       "    .dataframe thead th {\n",
       "        text-align: left;\n",
       "    }\n",
       "\n",
       "    .dataframe tbody tr th {\n",
       "        vertical-align: top;\n",
       "    }\n",
       "</style>\n",
       "<table border=\"1\" class=\"dataframe\">\n",
       "  <thead>\n",
       "    <tr style=\"text-align: right;\">\n",
       "      <th></th>\n",
       "      <th>CATEGORY_ID</th>\n",
       "      <th>NAME_TH</th>\n",
       "      <th>NAME_EN</th>\n",
       "      <th>PRIMARY_LANG</th>\n",
       "    </tr>\n",
       "  </thead>\n",
       "  <tbody>\n",
       "    <tr>\n",
       "      <th>0</th>\n",
       "      <td>2,001</td>\n",
       "      <td>คอนโด</td>\n",
       "      <td>Condo</td>\n",
       "      <td>NaN</td>\n",
       "    </tr>\n",
       "    <tr>\n",
       "      <th>1</th>\n",
       "      <td>2,021</td>\n",
       "      <td>ห้องแต่งตัว</td>\n",
       "      <td>Walk-in Closet</td>\n",
       "      <td>NaN</td>\n",
       "    </tr>\n",
       "    <tr>\n",
       "      <th>2</th>\n",
       "      <td>2,002</td>\n",
       "      <td>ห้องทานอาหาร</td>\n",
       "      <td>Dining room</td>\n",
       "      <td>NaN</td>\n",
       "    </tr>\n",
       "    <tr>\n",
       "      <th>3</th>\n",
       "      <td>2,003</td>\n",
       "      <td>บ้านสวย</td>\n",
       "      <td>Home Decor</td>\n",
       "      <td>NaN</td>\n",
       "    </tr>\n",
       "    <tr>\n",
       "      <th>4</th>\n",
       "      <td>1</td>\n",
       "      <td>ห้องนอน</td>\n",
       "      <td>Bedroom</td>\n",
       "      <td>NaN</td>\n",
       "    </tr>\n",
       "    <tr>\n",
       "      <th>5</th>\n",
       "      <td>8</td>\n",
       "      <td>ห้องครัว</td>\n",
       "      <td>Kitchen</td>\n",
       "      <td>NaN</td>\n",
       "    </tr>\n",
       "    <tr>\n",
       "      <th>6</th>\n",
       "      <td>6</td>\n",
       "      <td>ห้องนั่งเล่น</td>\n",
       "      <td>Living Room</td>\n",
       "      <td>NaN</td>\n",
       "    </tr>\n",
       "    <tr>\n",
       "      <th>7</th>\n",
       "      <td>9</td>\n",
       "      <td>ห้องนอนเด็ก</td>\n",
       "      <td>Kids &amp; Teens</td>\n",
       "      <td>NaN</td>\n",
       "    </tr>\n",
       "    <tr>\n",
       "      <th>8</th>\n",
       "      <td>10</td>\n",
       "      <td>ห้องทำงาน</td>\n",
       "      <td>Office Furniture</td>\n",
       "      <td>NaN</td>\n",
       "    </tr>\n",
       "  </tbody>\n",
       "</table>\n",
       "</div>"
      ],
      "text/plain": [
       "  CATEGORY_ID       NAME_TH           NAME_EN  PRIMARY_LANG\n",
       "0       2,001         คอนโด             Condo           NaN\n",
       "1       2,021   ห้องแต่งตัว    Walk-in Closet           NaN\n",
       "2       2,002  ห้องทานอาหาร       Dining room           NaN\n",
       "3       2,003       บ้านสวย        Home Decor           NaN\n",
       "4           1       ห้องนอน           Bedroom           NaN\n",
       "5           8      ห้องครัว           Kitchen           NaN\n",
       "6           6  ห้องนั่งเล่น       Living Room           NaN\n",
       "7           9   ห้องนอนเด็ก      Kids & Teens           NaN\n",
       "8          10     ห้องทำงาน  Office Furniture           NaN"
      ]
     },
     "execution_count": 7,
     "metadata": {},
     "output_type": "execute_result"
    }
   ],
   "source": [
    "category = pd.read_csv('../data_20180120/cat.csv')\n",
    "category"
   ]
  },
  {
   "cell_type": "markdown",
   "metadata": {},
   "source": [
    "เปลี่ยน CATEGORY_ID ให้เป็น int และลบ column PRIMARY_LANG"
   ]
  },
  {
   "cell_type": "code",
   "execution_count": 8,
   "metadata": {},
   "outputs": [
    {
     "data": {
      "text/html": [
       "<div>\n",
       "<style>\n",
       "    .dataframe thead tr:only-child th {\n",
       "        text-align: right;\n",
       "    }\n",
       "\n",
       "    .dataframe thead th {\n",
       "        text-align: left;\n",
       "    }\n",
       "\n",
       "    .dataframe tbody tr th {\n",
       "        vertical-align: top;\n",
       "    }\n",
       "</style>\n",
       "<table border=\"1\" class=\"dataframe\">\n",
       "  <thead>\n",
       "    <tr style=\"text-align: right;\">\n",
       "      <th></th>\n",
       "      <th>CATEGORY_ID</th>\n",
       "      <th>NAME_TH</th>\n",
       "      <th>NAME_EN</th>\n",
       "    </tr>\n",
       "  </thead>\n",
       "  <tbody>\n",
       "    <tr>\n",
       "      <th>0</th>\n",
       "      <td>2001</td>\n",
       "      <td>คอนโด</td>\n",
       "      <td>Condo</td>\n",
       "    </tr>\n",
       "    <tr>\n",
       "      <th>1</th>\n",
       "      <td>2021</td>\n",
       "      <td>ห้องแต่งตัว</td>\n",
       "      <td>Walk-in Closet</td>\n",
       "    </tr>\n",
       "    <tr>\n",
       "      <th>2</th>\n",
       "      <td>2002</td>\n",
       "      <td>ห้องทานอาหาร</td>\n",
       "      <td>Dining room</td>\n",
       "    </tr>\n",
       "    <tr>\n",
       "      <th>3</th>\n",
       "      <td>2003</td>\n",
       "      <td>บ้านสวย</td>\n",
       "      <td>Home Decor</td>\n",
       "    </tr>\n",
       "    <tr>\n",
       "      <th>4</th>\n",
       "      <td>1</td>\n",
       "      <td>ห้องนอน</td>\n",
       "      <td>Bedroom</td>\n",
       "    </tr>\n",
       "    <tr>\n",
       "      <th>5</th>\n",
       "      <td>8</td>\n",
       "      <td>ห้องครัว</td>\n",
       "      <td>Kitchen</td>\n",
       "    </tr>\n",
       "    <tr>\n",
       "      <th>6</th>\n",
       "      <td>6</td>\n",
       "      <td>ห้องนั่งเล่น</td>\n",
       "      <td>Living Room</td>\n",
       "    </tr>\n",
       "    <tr>\n",
       "      <th>7</th>\n",
       "      <td>9</td>\n",
       "      <td>ห้องนอนเด็ก</td>\n",
       "      <td>Kids &amp; Teens</td>\n",
       "    </tr>\n",
       "    <tr>\n",
       "      <th>8</th>\n",
       "      <td>10</td>\n",
       "      <td>ห้องทำงาน</td>\n",
       "      <td>Office Furniture</td>\n",
       "    </tr>\n",
       "  </tbody>\n",
       "</table>\n",
       "</div>"
      ],
      "text/plain": [
       "   CATEGORY_ID       NAME_TH           NAME_EN\n",
       "0         2001         คอนโด             Condo\n",
       "1         2021   ห้องแต่งตัว    Walk-in Closet\n",
       "2         2002  ห้องทานอาหาร       Dining room\n",
       "3         2003       บ้านสวย        Home Decor\n",
       "4            1       ห้องนอน           Bedroom\n",
       "5            8      ห้องครัว           Kitchen\n",
       "6            6  ห้องนั่งเล่น       Living Room\n",
       "7            9   ห้องนอนเด็ก      Kids & Teens\n",
       "8           10     ห้องทำงาน  Office Furniture"
      ]
     },
     "execution_count": 8,
     "metadata": {},
     "output_type": "execute_result"
    }
   ],
   "source": [
    "import locale\n",
    "locale.setlocale( locale.LC_ALL, 'en_US.UTF-8' ) \n",
    "\n",
    "new_category = category[:]\n",
    "new_category['CATEGORY_ID'] = category['CATEGORY_ID'].apply(locale.atoi)\n",
    "del new_category['PRIMARY_LANG']\n",
    "new_category"
   ]
  },
  {
   "cell_type": "code",
   "execution_count": 9,
   "metadata": {
    "collapsed": true
   },
   "outputs": [],
   "source": [
    "new_category.to_csv('../data_clean/cat.csv',index=False)"
   ]
  },
  {
   "cell_type": "markdown",
   "metadata": {},
   "source": [
    "# Brand"
   ]
  },
  {
   "cell_type": "code",
   "execution_count": 10,
   "metadata": {},
   "outputs": [
    {
     "data": {
      "text/html": [
       "<div>\n",
       "<style>\n",
       "    .dataframe thead tr:only-child th {\n",
       "        text-align: right;\n",
       "    }\n",
       "\n",
       "    .dataframe thead th {\n",
       "        text-align: left;\n",
       "    }\n",
       "\n",
       "    .dataframe tbody tr th {\n",
       "        vertical-align: top;\n",
       "    }\n",
       "</style>\n",
       "<table border=\"1\" class=\"dataframe\">\n",
       "  <thead>\n",
       "    <tr style=\"text-align: right;\">\n",
       "      <th></th>\n",
       "      <th>NODE</th>\n",
       "      <th>LTEXT</th>\n",
       "      <th>LTEXT_T</th>\n",
       "    </tr>\n",
       "  </thead>\n",
       "  <tbody>\n",
       "    <tr>\n",
       "      <th>0</th>\n",
       "      <td>32</td>\n",
       "      <td>SOLUTION</td>\n",
       "      <td>NaN</td>\n",
       "    </tr>\n",
       "    <tr>\n",
       "      <th>1</th>\n",
       "      <td>K6</td>\n",
       "      <td>INSPIRE</td>\n",
       "      <td>NaN</td>\n",
       "    </tr>\n",
       "    <tr>\n",
       "      <th>2</th>\n",
       "      <td>G5</td>\n",
       "      <td>PARKER&amp;MORGAN</td>\n",
       "      <td>NaN</td>\n",
       "    </tr>\n",
       "    <tr>\n",
       "      <th>3</th>\n",
       "      <td>G6</td>\n",
       "      <td>P&amp;M STUDIO</td>\n",
       "      <td>NaN</td>\n",
       "    </tr>\n",
       "    <tr>\n",
       "      <th>4</th>\n",
       "      <td>31</td>\n",
       "      <td>KUCHE</td>\n",
       "      <td>NaN</td>\n",
       "    </tr>\n",
       "    <tr>\n",
       "      <th>5</th>\n",
       "      <td>I4</td>\n",
       "      <td>LINEART SELECTED</td>\n",
       "      <td>NaN</td>\n",
       "    </tr>\n",
       "    <tr>\n",
       "      <th>6</th>\n",
       "      <td>I6</td>\n",
       "      <td>VONO</td>\n",
       "      <td>NaN</td>\n",
       "    </tr>\n",
       "    <tr>\n",
       "      <th>7</th>\n",
       "      <td>J5</td>\n",
       "      <td>WALL SOLUTIONS</td>\n",
       "      <td>NaN</td>\n",
       "    </tr>\n",
       "    <tr>\n",
       "      <th>8</th>\n",
       "      <td>J7</td>\n",
       "      <td>VENZ</td>\n",
       "      <td>NaN</td>\n",
       "    </tr>\n",
       "    <tr>\n",
       "      <th>9</th>\n",
       "      <td>L2</td>\n",
       "      <td>U BIQ</td>\n",
       "      <td>NaN</td>\n",
       "    </tr>\n",
       "  </tbody>\n",
       "</table>\n",
       "</div>"
      ],
      "text/plain": [
       "  NODE             LTEXT  LTEXT_T\n",
       "0   32          SOLUTION      NaN\n",
       "1   K6           INSPIRE      NaN\n",
       "2   G5     PARKER&MORGAN      NaN\n",
       "3   G6        P&M STUDIO      NaN\n",
       "4   31             KUCHE      NaN\n",
       "5   I4  LINEART SELECTED      NaN\n",
       "6   I6              VONO      NaN\n",
       "7   J5    WALL SOLUTIONS      NaN\n",
       "8   J7              VENZ      NaN\n",
       "9   L2             U BIQ      NaN"
      ]
     },
     "execution_count": 10,
     "metadata": {},
     "output_type": "execute_result"
    }
   ],
   "source": [
    "brand = pd.read_csv('../data_20180120/md1t_brand.csv')\n",
    "brand[0:10]"
   ]
  },
  {
   "cell_type": "markdown",
   "metadata": {},
   "source": [
    "เชคแล้ว LTEXT_T ไม่มีแถวไหนมีค่าเลย ลบ Column `LTEXT_T` ออก"
   ]
  },
  {
   "cell_type": "code",
   "execution_count": 11,
   "metadata": {},
   "outputs": [
    {
     "data": {
      "text/html": [
       "<div>\n",
       "<style>\n",
       "    .dataframe thead tr:only-child th {\n",
       "        text-align: right;\n",
       "    }\n",
       "\n",
       "    .dataframe thead th {\n",
       "        text-align: left;\n",
       "    }\n",
       "\n",
       "    .dataframe tbody tr th {\n",
       "        vertical-align: top;\n",
       "    }\n",
       "</style>\n",
       "<table border=\"1\" class=\"dataframe\">\n",
       "  <thead>\n",
       "    <tr style=\"text-align: right;\">\n",
       "      <th></th>\n",
       "      <th>NODE</th>\n",
       "      <th>LTEXT</th>\n",
       "    </tr>\n",
       "  </thead>\n",
       "  <tbody>\n",
       "    <tr>\n",
       "      <th>0</th>\n",
       "      <td>32</td>\n",
       "      <td>SOLUTION</td>\n",
       "    </tr>\n",
       "    <tr>\n",
       "      <th>1</th>\n",
       "      <td>K6</td>\n",
       "      <td>INSPIRE</td>\n",
       "    </tr>\n",
       "    <tr>\n",
       "      <th>2</th>\n",
       "      <td>G5</td>\n",
       "      <td>PARKER&amp;MORGAN</td>\n",
       "    </tr>\n",
       "    <tr>\n",
       "      <th>3</th>\n",
       "      <td>G6</td>\n",
       "      <td>P&amp;M STUDIO</td>\n",
       "    </tr>\n",
       "    <tr>\n",
       "      <th>4</th>\n",
       "      <td>31</td>\n",
       "      <td>KUCHE</td>\n",
       "    </tr>\n",
       "    <tr>\n",
       "      <th>5</th>\n",
       "      <td>I4</td>\n",
       "      <td>LINEART SELECTED</td>\n",
       "    </tr>\n",
       "    <tr>\n",
       "      <th>6</th>\n",
       "      <td>I6</td>\n",
       "      <td>VONO</td>\n",
       "    </tr>\n",
       "    <tr>\n",
       "      <th>7</th>\n",
       "      <td>J5</td>\n",
       "      <td>WALL SOLUTIONS</td>\n",
       "    </tr>\n",
       "    <tr>\n",
       "      <th>8</th>\n",
       "      <td>J7</td>\n",
       "      <td>VENZ</td>\n",
       "    </tr>\n",
       "    <tr>\n",
       "      <th>9</th>\n",
       "      <td>L2</td>\n",
       "      <td>U BIQ</td>\n",
       "    </tr>\n",
       "  </tbody>\n",
       "</table>\n",
       "</div>"
      ],
      "text/plain": [
       "  NODE             LTEXT\n",
       "0   32          SOLUTION\n",
       "1   K6           INSPIRE\n",
       "2   G5     PARKER&MORGAN\n",
       "3   G6        P&M STUDIO\n",
       "4   31             KUCHE\n",
       "5   I4  LINEART SELECTED\n",
       "6   I6              VONO\n",
       "7   J5    WALL SOLUTIONS\n",
       "8   J7              VENZ\n",
       "9   L2             U BIQ"
      ]
     },
     "execution_count": 11,
     "metadata": {},
     "output_type": "execute_result"
    }
   ],
   "source": [
    "new_brand = brand[:]\n",
    "del new_brand['LTEXT_T']\n",
    "new_brand[0:10]"
   ]
  },
  {
   "cell_type": "code",
   "execution_count": 12,
   "metadata": {
    "collapsed": true
   },
   "outputs": [],
   "source": [
    "new_brand.to_csv('../data_clean/md1t_brand.csv',index=False)"
   ]
  },
  {
   "cell_type": "markdown",
   "metadata": {},
   "source": [
    "# Model"
   ]
  },
  {
   "cell_type": "code",
   "execution_count": 13,
   "metadata": {},
   "outputs": [
    {
     "data": {
      "text/html": [
       "<div>\n",
       "<style>\n",
       "    .dataframe thead tr:only-child th {\n",
       "        text-align: right;\n",
       "    }\n",
       "\n",
       "    .dataframe thead th {\n",
       "        text-align: left;\n",
       "    }\n",
       "\n",
       "    .dataframe tbody tr th {\n",
       "        vertical-align: top;\n",
       "    }\n",
       "</style>\n",
       "<table border=\"1\" class=\"dataframe\">\n",
       "  <thead>\n",
       "    <tr style=\"text-align: right;\">\n",
       "      <th></th>\n",
       "      <th>NODE</th>\n",
       "      <th>LTEXT</th>\n",
       "      <th>LTEXT_T</th>\n",
       "    </tr>\n",
       "  </thead>\n",
       "  <tbody>\n",
       "    <tr>\n",
       "      <th>7000</th>\n",
       "      <td>XK4</td>\n",
       "      <td>Aleno</td>\n",
       "      <td>อลีโน</td>\n",
       "    </tr>\n",
       "    <tr>\n",
       "      <th>7001</th>\n",
       "      <td>XK5</td>\n",
       "      <td>Avon</td>\n",
       "      <td>เอว่อน</td>\n",
       "    </tr>\n",
       "    <tr>\n",
       "      <th>7002</th>\n",
       "      <td>XK6</td>\n",
       "      <td>A-Oro</td>\n",
       "      <td>เอ-โอโร่</td>\n",
       "    </tr>\n",
       "    <tr>\n",
       "      <th>7003</th>\n",
       "      <td>XK7</td>\n",
       "      <td>Alezza</td>\n",
       "      <td>อเรซซ่า</td>\n",
       "    </tr>\n",
       "    <tr>\n",
       "      <th>7004</th>\n",
       "      <td>XK8</td>\n",
       "      <td>Alegro</td>\n",
       "      <td>อเรโก้</td>\n",
       "    </tr>\n",
       "    <tr>\n",
       "      <th>7005</th>\n",
       "      <td>XK9</td>\n",
       "      <td>Aruzz</td>\n",
       "      <td>อรัซ</td>\n",
       "    </tr>\n",
       "    <tr>\n",
       "      <th>7006</th>\n",
       "      <td>XL1</td>\n",
       "      <td>Aobpo</td>\n",
       "      <td>ออปโป้</td>\n",
       "    </tr>\n",
       "    <tr>\n",
       "      <th>7007</th>\n",
       "      <td>XL2</td>\n",
       "      <td>Arozzo</td>\n",
       "      <td>อโรซโซ่</td>\n",
       "    </tr>\n",
       "    <tr>\n",
       "      <th>7008</th>\n",
       "      <td>XL3</td>\n",
       "      <td>Agello</td>\n",
       "      <td>อเจลโล่</td>\n",
       "    </tr>\n",
       "    <tr>\n",
       "      <th>7009</th>\n",
       "      <td>XL4</td>\n",
       "      <td>Adino</td>\n",
       "      <td>อดิโน่</td>\n",
       "    </tr>\n",
       "  </tbody>\n",
       "</table>\n",
       "</div>"
      ],
      "text/plain": [
       "     NODE   LTEXT   LTEXT_T\n",
       "7000  XK4   Aleno     อลีโน\n",
       "7001  XK5    Avon    เอว่อน\n",
       "7002  XK6   A-Oro  เอ-โอโร่\n",
       "7003  XK7  Alezza   อเรซซ่า\n",
       "7004  XK8  Alegro    อเรโก้\n",
       "7005  XK9   Aruzz      อรัซ\n",
       "7006  XL1   Aobpo    ออปโป้\n",
       "7007  XL2  Arozzo   อโรซโซ่\n",
       "7008  XL3  Agello   อเจลโล่\n",
       "7009  XL4   Adino    อดิโน่"
      ]
     },
     "execution_count": 13,
     "metadata": {},
     "output_type": "execute_result"
    }
   ],
   "source": [
    "model = pd.read_csv('../data_20180120/md2t_model.csv')\n",
    "model[7000:7010]"
   ]
  },
  {
   "cell_type": "code",
   "execution_count": 14,
   "metadata": {
    "collapsed": true
   },
   "outputs": [],
   "source": [
    "model.to_csv('../data_clean/md2t_model.csv',index=False)"
   ]
  },
  {
   "cell_type": "markdown",
   "metadata": {},
   "source": [
    "# Category1"
   ]
  },
  {
   "cell_type": "code",
   "execution_count": 15,
   "metadata": {
    "scrolled": false
   },
   "outputs": [
    {
     "data": {
      "text/html": [
       "<div>\n",
       "<style>\n",
       "    .dataframe thead tr:only-child th {\n",
       "        text-align: right;\n",
       "    }\n",
       "\n",
       "    .dataframe thead th {\n",
       "        text-align: left;\n",
       "    }\n",
       "\n",
       "    .dataframe tbody tr th {\n",
       "        vertical-align: top;\n",
       "    }\n",
       "</style>\n",
       "<table border=\"1\" class=\"dataframe\">\n",
       "  <thead>\n",
       "    <tr style=\"text-align: right;\">\n",
       "      <th></th>\n",
       "      <th>NODE</th>\n",
       "      <th>LTEXT</th>\n",
       "      <th>LTEXT_T</th>\n",
       "    </tr>\n",
       "  </thead>\n",
       "  <tbody>\n",
       "    <tr>\n",
       "      <th>0</th>\n",
       "      <td>47</td>\n",
       "      <td>อุปกรณ์การจัดเก็บ</td>\n",
       "      <td>NaN</td>\n",
       "    </tr>\n",
       "    <tr>\n",
       "      <th>1</th>\n",
       "      <td>48</td>\n",
       "      <td>โคมไฟ</td>\n",
       "      <td>NaN</td>\n",
       "    </tr>\n",
       "    <tr>\n",
       "      <th>2</th>\n",
       "      <td>49</td>\n",
       "      <td>ของใช้ในครัว</td>\n",
       "      <td>NaN</td>\n",
       "    </tr>\n",
       "    <tr>\n",
       "      <th>3</th>\n",
       "      <td>50</td>\n",
       "      <td>สินค้าสำหรับเด็ก</td>\n",
       "      <td>NaN</td>\n",
       "    </tr>\n",
       "    <tr>\n",
       "      <th>4</th>\n",
       "      <td>51</td>\n",
       "      <td>กรอบรูปและภาพแขวน</td>\n",
       "      <td>NaN</td>\n",
       "    </tr>\n",
       "    <tr>\n",
       "      <th>5</th>\n",
       "      <td>52</td>\n",
       "      <td>นาฬิกา</td>\n",
       "      <td>NaN</td>\n",
       "    </tr>\n",
       "    <tr>\n",
       "      <th>6</th>\n",
       "      <td>53</td>\n",
       "      <td>อุปกรณ์เครื่องใช้ในห้องน้ำ</td>\n",
       "      <td>NaN</td>\n",
       "    </tr>\n",
       "    <tr>\n",
       "      <th>7</th>\n",
       "      <td>55</td>\n",
       "      <td>พรม</td>\n",
       "      <td>NaN</td>\n",
       "    </tr>\n",
       "    <tr>\n",
       "      <th>8</th>\n",
       "      <td>56</td>\n",
       "      <td>อุปกรณ์ตกแต่งสวน</td>\n",
       "      <td>NaN</td>\n",
       "    </tr>\n",
       "    <tr>\n",
       "      <th>9</th>\n",
       "      <td>57</td>\n",
       "      <td>หมอนอิงและสตูล</td>\n",
       "      <td>NaN</td>\n",
       "    </tr>\n",
       "  </tbody>\n",
       "</table>\n",
       "</div>"
      ],
      "text/plain": [
       "  NODE                       LTEXT  LTEXT_T\n",
       "0   47           อุปกรณ์การจัดเก็บ      NaN\n",
       "1   48                       โคมไฟ      NaN\n",
       "2   49                ของใช้ในครัว      NaN\n",
       "3   50            สินค้าสำหรับเด็ก      NaN\n",
       "4   51           กรอบรูปและภาพแขวน      NaN\n",
       "5   52                      นาฬิกา      NaN\n",
       "6   53  อุปกรณ์เครื่องใช้ในห้องน้ำ      NaN\n",
       "7   55                         พรม      NaN\n",
       "8   56            อุปกรณ์ตกแต่งสวน      NaN\n",
       "9   57              หมอนอิงและสตูล      NaN"
      ]
     },
     "execution_count": 15,
     "metadata": {},
     "output_type": "execute_result"
    }
   ],
   "source": [
    "cat1 = pd.read_csv('../data_20180120/md3t_cat1.csv')\n",
    "cat1[0:10]"
   ]
  },
  {
   "cell_type": "markdown",
   "metadata": {},
   "source": [
    "ตรวจสอบค่า unique ใน LTEXT_T"
   ]
  },
  {
   "cell_type": "code",
   "execution_count": 16,
   "metadata": {},
   "outputs": [
    {
     "data": {
      "text/plain": [
       "array([ nan])"
      ]
     },
     "execution_count": 16,
     "metadata": {},
     "output_type": "execute_result"
    }
   ],
   "source": [
    "cat1['LTEXT_T'].unique()"
   ]
  },
  {
   "cell_type": "markdown",
   "metadata": {},
   "source": [
    "มีแต่ค่าว่าง ลบ column นี้เลย"
   ]
  },
  {
   "cell_type": "code",
   "execution_count": 17,
   "metadata": {},
   "outputs": [
    {
     "data": {
      "text/html": [
       "<div>\n",
       "<style>\n",
       "    .dataframe thead tr:only-child th {\n",
       "        text-align: right;\n",
       "    }\n",
       "\n",
       "    .dataframe thead th {\n",
       "        text-align: left;\n",
       "    }\n",
       "\n",
       "    .dataframe tbody tr th {\n",
       "        vertical-align: top;\n",
       "    }\n",
       "</style>\n",
       "<table border=\"1\" class=\"dataframe\">\n",
       "  <thead>\n",
       "    <tr style=\"text-align: right;\">\n",
       "      <th></th>\n",
       "      <th>NODE</th>\n",
       "      <th>LTEXT</th>\n",
       "    </tr>\n",
       "  </thead>\n",
       "  <tbody>\n",
       "    <tr>\n",
       "      <th>0</th>\n",
       "      <td>47</td>\n",
       "      <td>อุปกรณ์การจัดเก็บ</td>\n",
       "    </tr>\n",
       "    <tr>\n",
       "      <th>1</th>\n",
       "      <td>48</td>\n",
       "      <td>โคมไฟ</td>\n",
       "    </tr>\n",
       "    <tr>\n",
       "      <th>2</th>\n",
       "      <td>49</td>\n",
       "      <td>ของใช้ในครัว</td>\n",
       "    </tr>\n",
       "    <tr>\n",
       "      <th>3</th>\n",
       "      <td>50</td>\n",
       "      <td>สินค้าสำหรับเด็ก</td>\n",
       "    </tr>\n",
       "    <tr>\n",
       "      <th>4</th>\n",
       "      <td>51</td>\n",
       "      <td>กรอบรูปและภาพแขวน</td>\n",
       "    </tr>\n",
       "    <tr>\n",
       "      <th>5</th>\n",
       "      <td>52</td>\n",
       "      <td>นาฬิกา</td>\n",
       "    </tr>\n",
       "    <tr>\n",
       "      <th>6</th>\n",
       "      <td>53</td>\n",
       "      <td>อุปกรณ์เครื่องใช้ในห้องน้ำ</td>\n",
       "    </tr>\n",
       "    <tr>\n",
       "      <th>7</th>\n",
       "      <td>55</td>\n",
       "      <td>พรม</td>\n",
       "    </tr>\n",
       "    <tr>\n",
       "      <th>8</th>\n",
       "      <td>56</td>\n",
       "      <td>อุปกรณ์ตกแต่งสวน</td>\n",
       "    </tr>\n",
       "    <tr>\n",
       "      <th>9</th>\n",
       "      <td>57</td>\n",
       "      <td>หมอนอิงและสตูล</td>\n",
       "    </tr>\n",
       "  </tbody>\n",
       "</table>\n",
       "</div>"
      ],
      "text/plain": [
       "  NODE                       LTEXT\n",
       "0   47           อุปกรณ์การจัดเก็บ\n",
       "1   48                       โคมไฟ\n",
       "2   49                ของใช้ในครัว\n",
       "3   50            สินค้าสำหรับเด็ก\n",
       "4   51           กรอบรูปและภาพแขวน\n",
       "5   52                      นาฬิกา\n",
       "6   53  อุปกรณ์เครื่องใช้ในห้องน้ำ\n",
       "7   55                         พรม\n",
       "8   56            อุปกรณ์ตกแต่งสวน\n",
       "9   57              หมอนอิงและสตูล"
      ]
     },
     "execution_count": 17,
     "metadata": {},
     "output_type": "execute_result"
    }
   ],
   "source": [
    "new_cat1 = cat1[:]\n",
    "del new_cat1['LTEXT_T']\n",
    "new_cat1[0:10]"
   ]
  },
  {
   "cell_type": "code",
   "execution_count": 18,
   "metadata": {
    "collapsed": true
   },
   "outputs": [],
   "source": [
    "new_cat1.to_csv('../data_clean/md3t_cat1.csv',index=False)"
   ]
  },
  {
   "cell_type": "markdown",
   "metadata": {},
   "source": [
    "# Category2"
   ]
  },
  {
   "cell_type": "code",
   "execution_count": 19,
   "metadata": {},
   "outputs": [
    {
     "data": {
      "text/html": [
       "<div>\n",
       "<style>\n",
       "    .dataframe thead tr:only-child th {\n",
       "        text-align: right;\n",
       "    }\n",
       "\n",
       "    .dataframe thead th {\n",
       "        text-align: left;\n",
       "    }\n",
       "\n",
       "    .dataframe tbody tr th {\n",
       "        vertical-align: top;\n",
       "    }\n",
       "</style>\n",
       "<table border=\"1\" class=\"dataframe\">\n",
       "  <thead>\n",
       "    <tr style=\"text-align: right;\">\n",
       "      <th></th>\n",
       "      <th>NODE</th>\n",
       "      <th>LTEXT</th>\n",
       "      <th>LTEXT_T</th>\n",
       "    </tr>\n",
       "  </thead>\n",
       "  <tbody>\n",
       "    <tr>\n",
       "      <th>0</th>\n",
       "      <td>BG</td>\n",
       "      <td>ม่านตาไก่</td>\n",
       "      <td>Pierced</td>\n",
       "    </tr>\n",
       "    <tr>\n",
       "      <th>1</th>\n",
       "      <td>BH</td>\n",
       "      <td>ม่านหลุยส์</td>\n",
       "      <td>Louise</td>\n",
       "    </tr>\n",
       "    <tr>\n",
       "      <th>2</th>\n",
       "      <td>BI</td>\n",
       "      <td>ม่านคอกระเช้า</td>\n",
       "      <td>Loop</td>\n",
       "    </tr>\n",
       "    <tr>\n",
       "      <th>3</th>\n",
       "      <td>BJ</td>\n",
       "      <td>มู่ลี่ไม้</td>\n",
       "      <td>Wooden Blind</td>\n",
       "    </tr>\n",
       "    <tr>\n",
       "      <th>4</th>\n",
       "      <td>BK</td>\n",
       "      <td>มู่ลี่อลูมิเนียม</td>\n",
       "      <td>Venetian Blind</td>\n",
       "    </tr>\n",
       "    <tr>\n",
       "      <th>5</th>\n",
       "      <td>BL</td>\n",
       "      <td>ม่านพับ</td>\n",
       "      <td>Roman Blind</td>\n",
       "    </tr>\n",
       "    <tr>\n",
       "      <th>6</th>\n",
       "      <td>BM</td>\n",
       "      <td>ม่านม้วน</td>\n",
       "      <td>Roller Blind</td>\n",
       "    </tr>\n",
       "    <tr>\n",
       "      <th>7</th>\n",
       "      <td>BN</td>\n",
       "      <td>แผ่นไม้ปูพื้นสนาม</td>\n",
       "      <td>Decking</td>\n",
       "    </tr>\n",
       "    <tr>\n",
       "      <th>8</th>\n",
       "      <td>BO</td>\n",
       "      <td>กล่องเก็บเงิน</td>\n",
       "      <td>Cash Box</td>\n",
       "    </tr>\n",
       "    <tr>\n",
       "      <th>9</th>\n",
       "      <td>BP</td>\n",
       "      <td>เตาอบ</td>\n",
       "      <td>Oven</td>\n",
       "    </tr>\n",
       "  </tbody>\n",
       "</table>\n",
       "</div>"
      ],
      "text/plain": [
       "  NODE              LTEXT         LTEXT_T\n",
       "0   BG          ม่านตาไก่         Pierced\n",
       "1   BH         ม่านหลุยส์          Louise\n",
       "2   BI      ม่านคอกระเช้า            Loop\n",
       "3   BJ          มู่ลี่ไม้    Wooden Blind\n",
       "4   BK   มู่ลี่อลูมิเนียม  Venetian Blind\n",
       "5   BL            ม่านพับ     Roman Blind\n",
       "6   BM           ม่านม้วน    Roller Blind\n",
       "7   BN  แผ่นไม้ปูพื้นสนาม         Decking\n",
       "8   BO      กล่องเก็บเงิน        Cash Box\n",
       "9   BP              เตาอบ            Oven"
      ]
     },
     "execution_count": 19,
     "metadata": {},
     "output_type": "execute_result"
    }
   ],
   "source": [
    "cat2 = pd.read_csv('../data_20180120/md4t_cat2.csv')\n",
    "cat2[0:10]"
   ]
  },
  {
   "cell_type": "code",
   "execution_count": 20,
   "metadata": {
    "collapsed": true
   },
   "outputs": [],
   "source": [
    "cat2.to_csv('../data_clean/md4t_cat2.csv',index=False)"
   ]
  },
  {
   "cell_type": "markdown",
   "metadata": {},
   "source": [
    "# Category3"
   ]
  },
  {
   "cell_type": "code",
   "execution_count": 21,
   "metadata": {
    "scrolled": false
   },
   "outputs": [
    {
     "data": {
      "text/html": [
       "<div>\n",
       "<style>\n",
       "    .dataframe thead tr:only-child th {\n",
       "        text-align: right;\n",
       "    }\n",
       "\n",
       "    .dataframe thead th {\n",
       "        text-align: left;\n",
       "    }\n",
       "\n",
       "    .dataframe tbody tr th {\n",
       "        vertical-align: top;\n",
       "    }\n",
       "</style>\n",
       "<table border=\"1\" class=\"dataframe\">\n",
       "  <thead>\n",
       "    <tr style=\"text-align: right;\">\n",
       "      <th></th>\n",
       "      <th>NODE</th>\n",
       "      <th>LTEXT</th>\n",
       "      <th>LTEXT_T</th>\n",
       "    </tr>\n",
       "  </thead>\n",
       "  <tbody>\n",
       "    <tr>\n",
       "      <th>0</th>\n",
       "      <td>59</td>\n",
       "      <td>ตู้เสื้อผ้าบานเปิดขนาด 47</td>\n",
       "      <td>NaN</td>\n",
       "    </tr>\n",
       "    <tr>\n",
       "      <th>1</th>\n",
       "      <td>60</td>\n",
       "      <td>ตู้เสื้อผ้าบานเปิดขนาด 80</td>\n",
       "      <td>NaN</td>\n",
       "    </tr>\n",
       "    <tr>\n",
       "      <th>2</th>\n",
       "      <td>61</td>\n",
       "      <td>ตู้เสื้อผ้าบานเปิดขนาด 90</td>\n",
       "      <td>NaN</td>\n",
       "    </tr>\n",
       "    <tr>\n",
       "      <th>3</th>\n",
       "      <td>62</td>\n",
       "      <td>ตู้เสื้อผ้าบานเปิดขนาด 93</td>\n",
       "      <td>NaN</td>\n",
       "    </tr>\n",
       "    <tr>\n",
       "      <th>4</th>\n",
       "      <td>63</td>\n",
       "      <td>ตู้เสื้อผ้าบานเฟี้ยมขนาด 139</td>\n",
       "      <td>NaN</td>\n",
       "    </tr>\n",
       "    <tr>\n",
       "      <th>5</th>\n",
       "      <td>64</td>\n",
       "      <td>ตู้เสื้อผ้าบานเฟี้ยมขนาด 160</td>\n",
       "      <td>NaN</td>\n",
       "    </tr>\n",
       "    <tr>\n",
       "      <th>6</th>\n",
       "      <td>65</td>\n",
       "      <td>ตู้เสื้อผ้าบานเฟี้ยมขนาด 185</td>\n",
       "      <td>NaN</td>\n",
       "    </tr>\n",
       "    <tr>\n",
       "      <th>7</th>\n",
       "      <td>66</td>\n",
       "      <td>ตู้เสื้อผ้าบานเฟี้ยมขนาด 240</td>\n",
       "      <td>NaN</td>\n",
       "    </tr>\n",
       "    <tr>\n",
       "      <th>8</th>\n",
       "      <td>67</td>\n",
       "      <td>ตู้เสื้อผ้าบานเลื่อนขนาด 120</td>\n",
       "      <td>NaN</td>\n",
       "    </tr>\n",
       "    <tr>\n",
       "      <th>9</th>\n",
       "      <td>68</td>\n",
       "      <td>ตู้เสื้อผ้าบานเลื่อนขนาด 160</td>\n",
       "      <td>NaN</td>\n",
       "    </tr>\n",
       "  </tbody>\n",
       "</table>\n",
       "</div>"
      ],
      "text/plain": [
       "  NODE                         LTEXT  LTEXT_T\n",
       "0   59     ตู้เสื้อผ้าบานเปิดขนาด 47      NaN\n",
       "1   60     ตู้เสื้อผ้าบานเปิดขนาด 80      NaN\n",
       "2   61     ตู้เสื้อผ้าบานเปิดขนาด 90      NaN\n",
       "3   62     ตู้เสื้อผ้าบานเปิดขนาด 93      NaN\n",
       "4   63  ตู้เสื้อผ้าบานเฟี้ยมขนาด 139      NaN\n",
       "5   64  ตู้เสื้อผ้าบานเฟี้ยมขนาด 160      NaN\n",
       "6   65  ตู้เสื้อผ้าบานเฟี้ยมขนาด 185      NaN\n",
       "7   66  ตู้เสื้อผ้าบานเฟี้ยมขนาด 240      NaN\n",
       "8   67  ตู้เสื้อผ้าบานเลื่อนขนาด 120      NaN\n",
       "9   68  ตู้เสื้อผ้าบานเลื่อนขนาด 160      NaN"
      ]
     },
     "execution_count": 21,
     "metadata": {},
     "output_type": "execute_result"
    }
   ],
   "source": [
    "cat3 = pd.read_csv('../data_20180120/md5t_cat3.csv')\n",
    "cat3[0:10]"
   ]
  },
  {
   "cell_type": "markdown",
   "metadata": {},
   "source": [
    "เชค `LTEXT_T`"
   ]
  },
  {
   "cell_type": "code",
   "execution_count": 22,
   "metadata": {},
   "outputs": [
    {
     "data": {
      "text/plain": [
       "array([ nan])"
      ]
     },
     "execution_count": 22,
     "metadata": {},
     "output_type": "execute_result"
    }
   ],
   "source": [
    "cat3['LTEXT_T'].unique() "
   ]
  },
  {
   "cell_type": "markdown",
   "metadata": {},
   "source": [
    "ว่างทุก row ลบ column `LTEXT_T` "
   ]
  },
  {
   "cell_type": "code",
   "execution_count": 23,
   "metadata": {},
   "outputs": [
    {
     "data": {
      "text/html": [
       "<div>\n",
       "<style>\n",
       "    .dataframe thead tr:only-child th {\n",
       "        text-align: right;\n",
       "    }\n",
       "\n",
       "    .dataframe thead th {\n",
       "        text-align: left;\n",
       "    }\n",
       "\n",
       "    .dataframe tbody tr th {\n",
       "        vertical-align: top;\n",
       "    }\n",
       "</style>\n",
       "<table border=\"1\" class=\"dataframe\">\n",
       "  <thead>\n",
       "    <tr style=\"text-align: right;\">\n",
       "      <th></th>\n",
       "      <th>NODE</th>\n",
       "      <th>LTEXT</th>\n",
       "    </tr>\n",
       "  </thead>\n",
       "  <tbody>\n",
       "    <tr>\n",
       "      <th>0</th>\n",
       "      <td>59</td>\n",
       "      <td>ตู้เสื้อผ้าบานเปิดขนาด 47</td>\n",
       "    </tr>\n",
       "    <tr>\n",
       "      <th>1</th>\n",
       "      <td>60</td>\n",
       "      <td>ตู้เสื้อผ้าบานเปิดขนาด 80</td>\n",
       "    </tr>\n",
       "    <tr>\n",
       "      <th>2</th>\n",
       "      <td>61</td>\n",
       "      <td>ตู้เสื้อผ้าบานเปิดขนาด 90</td>\n",
       "    </tr>\n",
       "    <tr>\n",
       "      <th>3</th>\n",
       "      <td>62</td>\n",
       "      <td>ตู้เสื้อผ้าบานเปิดขนาด 93</td>\n",
       "    </tr>\n",
       "    <tr>\n",
       "      <th>4</th>\n",
       "      <td>63</td>\n",
       "      <td>ตู้เสื้อผ้าบานเฟี้ยมขนาด 139</td>\n",
       "    </tr>\n",
       "    <tr>\n",
       "      <th>5</th>\n",
       "      <td>64</td>\n",
       "      <td>ตู้เสื้อผ้าบานเฟี้ยมขนาด 160</td>\n",
       "    </tr>\n",
       "    <tr>\n",
       "      <th>6</th>\n",
       "      <td>65</td>\n",
       "      <td>ตู้เสื้อผ้าบานเฟี้ยมขนาด 185</td>\n",
       "    </tr>\n",
       "    <tr>\n",
       "      <th>7</th>\n",
       "      <td>66</td>\n",
       "      <td>ตู้เสื้อผ้าบานเฟี้ยมขนาด 240</td>\n",
       "    </tr>\n",
       "    <tr>\n",
       "      <th>8</th>\n",
       "      <td>67</td>\n",
       "      <td>ตู้เสื้อผ้าบานเลื่อนขนาด 120</td>\n",
       "    </tr>\n",
       "    <tr>\n",
       "      <th>9</th>\n",
       "      <td>68</td>\n",
       "      <td>ตู้เสื้อผ้าบานเลื่อนขนาด 160</td>\n",
       "    </tr>\n",
       "  </tbody>\n",
       "</table>\n",
       "</div>"
      ],
      "text/plain": [
       "  NODE                         LTEXT\n",
       "0   59     ตู้เสื้อผ้าบานเปิดขนาด 47\n",
       "1   60     ตู้เสื้อผ้าบานเปิดขนาด 80\n",
       "2   61     ตู้เสื้อผ้าบานเปิดขนาด 90\n",
       "3   62     ตู้เสื้อผ้าบานเปิดขนาด 93\n",
       "4   63  ตู้เสื้อผ้าบานเฟี้ยมขนาด 139\n",
       "5   64  ตู้เสื้อผ้าบานเฟี้ยมขนาด 160\n",
       "6   65  ตู้เสื้อผ้าบานเฟี้ยมขนาด 185\n",
       "7   66  ตู้เสื้อผ้าบานเฟี้ยมขนาด 240\n",
       "8   67  ตู้เสื้อผ้าบานเลื่อนขนาด 120\n",
       "9   68  ตู้เสื้อผ้าบานเลื่อนขนาด 160"
      ]
     },
     "execution_count": 23,
     "metadata": {},
     "output_type": "execute_result"
    }
   ],
   "source": [
    "new_cat3 = cat3[:]\n",
    "del new_cat3['LTEXT_T']\n",
    "new_cat3[0:10]"
   ]
  },
  {
   "cell_type": "code",
   "execution_count": 24,
   "metadata": {
    "collapsed": true
   },
   "outputs": [],
   "source": [
    "new_cat3.to_csv('../data_clean/md5t_cat3.csv',index=False)"
   ]
  },
  {
   "cell_type": "markdown",
   "metadata": {},
   "source": [
    "# Color"
   ]
  },
  {
   "cell_type": "code",
   "execution_count": 25,
   "metadata": {
    "scrolled": false
   },
   "outputs": [
    {
     "data": {
      "text/html": [
       "<div>\n",
       "<style>\n",
       "    .dataframe thead tr:only-child th {\n",
       "        text-align: right;\n",
       "    }\n",
       "\n",
       "    .dataframe thead th {\n",
       "        text-align: left;\n",
       "    }\n",
       "\n",
       "    .dataframe tbody tr th {\n",
       "        vertical-align: top;\n",
       "    }\n",
       "</style>\n",
       "<table border=\"1\" class=\"dataframe\">\n",
       "  <thead>\n",
       "    <tr style=\"text-align: right;\">\n",
       "      <th></th>\n",
       "      <th>NODE</th>\n",
       "      <th>LTEXT</th>\n",
       "      <th>LTEXT_T</th>\n",
       "    </tr>\n",
       "  </thead>\n",
       "  <tbody>\n",
       "    <tr>\n",
       "      <th>0</th>\n",
       "      <td>CM</td>\n",
       "      <td>KITCHEN SET KOURMET</td>\n",
       "      <td>ชุดครัวครูเม่</td>\n",
       "    </tr>\n",
       "    <tr>\n",
       "      <th>1</th>\n",
       "      <td>G6</td>\n",
       "      <td>BRONZE WAVE</td>\n",
       "      <td>บรอนซ์ เวฟ</td>\n",
       "    </tr>\n",
       "    <tr>\n",
       "      <th>2</th>\n",
       "      <td>G7</td>\n",
       "      <td>COPPER GLOSS</td>\n",
       "      <td>คอปเปอร์ กรอส</td>\n",
       "    </tr>\n",
       "    <tr>\n",
       "      <th>3</th>\n",
       "      <td>G8</td>\n",
       "      <td>CREAMY</td>\n",
       "      <td>ครีมมี่</td>\n",
       "    </tr>\n",
       "    <tr>\n",
       "      <th>4</th>\n",
       "      <td>G9</td>\n",
       "      <td>PINK GOLD</td>\n",
       "      <td>พิงก์ โกลด์</td>\n",
       "    </tr>\n",
       "    <tr>\n",
       "      <th>5</th>\n",
       "      <td>H1</td>\n",
       "      <td>BRONZE GLOSS</td>\n",
       "      <td>บรอนซ์ กรอส</td>\n",
       "    </tr>\n",
       "    <tr>\n",
       "      <th>6</th>\n",
       "      <td>H2</td>\n",
       "      <td>DIM GREY</td>\n",
       "      <td>ดิม เกรย์</td>\n",
       "    </tr>\n",
       "    <tr>\n",
       "      <th>7</th>\n",
       "      <td>H3</td>\n",
       "      <td>SYRUP BROWN</td>\n",
       "      <td>ไซรัปบราวน์</td>\n",
       "    </tr>\n",
       "    <tr>\n",
       "      <th>8</th>\n",
       "      <td>H4</td>\n",
       "      <td>IRCON BROWN</td>\n",
       "      <td>เซอร์คอน บราวน์</td>\n",
       "    </tr>\n",
       "    <tr>\n",
       "      <th>9</th>\n",
       "      <td>H5</td>\n",
       "      <td>AMBER BROWN</td>\n",
       "      <td>เอมเบอร์ บราวน์</td>\n",
       "    </tr>\n",
       "  </tbody>\n",
       "</table>\n",
       "</div>"
      ],
      "text/plain": [
       "  NODE                LTEXT          LTEXT_T\n",
       "0   CM  KITCHEN SET KOURMET    ชุดครัวครูเม่\n",
       "1   G6          BRONZE WAVE       บรอนซ์ เวฟ\n",
       "2   G7         COPPER GLOSS    คอปเปอร์ กรอส\n",
       "3   G8               CREAMY          ครีมมี่\n",
       "4   G9            PINK GOLD      พิงก์ โกลด์\n",
       "5   H1         BRONZE GLOSS      บรอนซ์ กรอส\n",
       "6   H2             DIM GREY        ดิม เกรย์\n",
       "7   H3          SYRUP BROWN      ไซรัปบราวน์\n",
       "8   H4          IRCON BROWN  เซอร์คอน บราวน์\n",
       "9   H5          AMBER BROWN  เอมเบอร์ บราวน์"
      ]
     },
     "execution_count": 25,
     "metadata": {},
     "output_type": "execute_result"
    }
   ],
   "source": [
    "color = pd.read_csv('../data_20180120/md6t_catcolor.csv')\n",
    "color[0:10]"
   ]
  },
  {
   "cell_type": "code",
   "execution_count": 26,
   "metadata": {
    "collapsed": true
   },
   "outputs": [],
   "source": [
    "color.to_csv('../data_clean/md6t_catcolor.csv',index=False)"
   ]
  },
  {
   "cell_type": "markdown",
   "metadata": {},
   "source": [
    "# Material"
   ]
  },
  {
   "cell_type": "code",
   "execution_count": 27,
   "metadata": {},
   "outputs": [
    {
     "data": {
      "text/html": [
       "<div>\n",
       "<style>\n",
       "    .dataframe thead tr:only-child th {\n",
       "        text-align: right;\n",
       "    }\n",
       "\n",
       "    .dataframe thead th {\n",
       "        text-align: left;\n",
       "    }\n",
       "\n",
       "    .dataframe tbody tr th {\n",
       "        vertical-align: top;\n",
       "    }\n",
       "</style>\n",
       "<table border=\"1\" class=\"dataframe\">\n",
       "  <thead>\n",
       "    <tr style=\"text-align: right;\">\n",
       "      <th></th>\n",
       "      <th>NODE</th>\n",
       "      <th>LTEXT</th>\n",
       "      <th>LTEXT_T</th>\n",
       "    </tr>\n",
       "  </thead>\n",
       "  <tbody>\n",
       "    <tr>\n",
       "      <th>0</th>\n",
       "      <td>63</td>\n",
       "      <td>GRANDNADA STONE</td>\n",
       "      <td>NaN</td>\n",
       "    </tr>\n",
       "    <tr>\n",
       "      <th>1</th>\n",
       "      <td>60</td>\n",
       "      <td>WALL PAPER</td>\n",
       "      <td>NaN</td>\n",
       "    </tr>\n",
       "    <tr>\n",
       "      <th>2</th>\n",
       "      <td>58</td>\n",
       "      <td>WAX</td>\n",
       "      <td>NaN</td>\n",
       "    </tr>\n",
       "    <tr>\n",
       "      <th>3</th>\n",
       "      <td>59</td>\n",
       "      <td>MOSAIC</td>\n",
       "      <td>NaN</td>\n",
       "    </tr>\n",
       "    <tr>\n",
       "      <th>4</th>\n",
       "      <td>1</td>\n",
       "      <td>ALUMINUM FRAME</td>\n",
       "      <td>NaN</td>\n",
       "    </tr>\n",
       "    <tr>\n",
       "      <th>5</th>\n",
       "      <td>2</td>\n",
       "      <td>ARTIFICIAL SILK</td>\n",
       "      <td>NaN</td>\n",
       "    </tr>\n",
       "    <tr>\n",
       "      <th>6</th>\n",
       "      <td>3</td>\n",
       "      <td>BICAST</td>\n",
       "      <td>NaN</td>\n",
       "    </tr>\n",
       "    <tr>\n",
       "      <th>7</th>\n",
       "      <td>4</td>\n",
       "      <td>COATING GLASS</td>\n",
       "      <td>NaN</td>\n",
       "    </tr>\n",
       "    <tr>\n",
       "      <th>8</th>\n",
       "      <td>5</td>\n",
       "      <td>COATING HG</td>\n",
       "      <td>NaN</td>\n",
       "    </tr>\n",
       "    <tr>\n",
       "      <th>9</th>\n",
       "      <td>6</td>\n",
       "      <td>COTTON FABRIC</td>\n",
       "      <td>NaN</td>\n",
       "    </tr>\n",
       "  </tbody>\n",
       "</table>\n",
       "</div>"
      ],
      "text/plain": [
       "   NODE            LTEXT  LTEXT_T\n",
       "0    63  GRANDNADA STONE      NaN\n",
       "1    60       WALL PAPER      NaN\n",
       "2    58              WAX      NaN\n",
       "3    59           MOSAIC      NaN\n",
       "4     1   ALUMINUM FRAME      NaN\n",
       "5     2  ARTIFICIAL SILK      NaN\n",
       "6     3           BICAST      NaN\n",
       "7     4    COATING GLASS      NaN\n",
       "8     5       COATING HG      NaN\n",
       "9     6    COTTON FABRIC      NaN"
      ]
     },
     "execution_count": 27,
     "metadata": {},
     "output_type": "execute_result"
    }
   ],
   "source": [
    "material = pd.read_csv('../data_20180120/md7t_catmaterial.csv')\n",
    "material[0:10]"
   ]
  },
  {
   "cell_type": "markdown",
   "metadata": {},
   "source": [
    "check unqiue LTEXT_T"
   ]
  },
  {
   "cell_type": "code",
   "execution_count": 28,
   "metadata": {},
   "outputs": [
    {
     "data": {
      "text/plain": [
       "array([ nan])"
      ]
     },
     "execution_count": 28,
     "metadata": {},
     "output_type": "execute_result"
    }
   ],
   "source": [
    "material['LTEXT_T'].unique()"
   ]
  },
  {
   "cell_type": "code",
   "execution_count": 29,
   "metadata": {},
   "outputs": [
    {
     "data": {
      "text/html": [
       "<div>\n",
       "<style>\n",
       "    .dataframe thead tr:only-child th {\n",
       "        text-align: right;\n",
       "    }\n",
       "\n",
       "    .dataframe thead th {\n",
       "        text-align: left;\n",
       "    }\n",
       "\n",
       "    .dataframe tbody tr th {\n",
       "        vertical-align: top;\n",
       "    }\n",
       "</style>\n",
       "<table border=\"1\" class=\"dataframe\">\n",
       "  <thead>\n",
       "    <tr style=\"text-align: right;\">\n",
       "      <th></th>\n",
       "      <th>NODE</th>\n",
       "      <th>LTEXT</th>\n",
       "    </tr>\n",
       "  </thead>\n",
       "  <tbody>\n",
       "    <tr>\n",
       "      <th>0</th>\n",
       "      <td>63</td>\n",
       "      <td>GRANDNADA STONE</td>\n",
       "    </tr>\n",
       "    <tr>\n",
       "      <th>1</th>\n",
       "      <td>60</td>\n",
       "      <td>WALL PAPER</td>\n",
       "    </tr>\n",
       "    <tr>\n",
       "      <th>2</th>\n",
       "      <td>58</td>\n",
       "      <td>WAX</td>\n",
       "    </tr>\n",
       "    <tr>\n",
       "      <th>3</th>\n",
       "      <td>59</td>\n",
       "      <td>MOSAIC</td>\n",
       "    </tr>\n",
       "    <tr>\n",
       "      <th>4</th>\n",
       "      <td>1</td>\n",
       "      <td>ALUMINUM FRAME</td>\n",
       "    </tr>\n",
       "    <tr>\n",
       "      <th>5</th>\n",
       "      <td>2</td>\n",
       "      <td>ARTIFICIAL SILK</td>\n",
       "    </tr>\n",
       "    <tr>\n",
       "      <th>6</th>\n",
       "      <td>3</td>\n",
       "      <td>BICAST</td>\n",
       "    </tr>\n",
       "    <tr>\n",
       "      <th>7</th>\n",
       "      <td>4</td>\n",
       "      <td>COATING GLASS</td>\n",
       "    </tr>\n",
       "    <tr>\n",
       "      <th>8</th>\n",
       "      <td>5</td>\n",
       "      <td>COATING HG</td>\n",
       "    </tr>\n",
       "    <tr>\n",
       "      <th>9</th>\n",
       "      <td>6</td>\n",
       "      <td>COTTON FABRIC</td>\n",
       "    </tr>\n",
       "  </tbody>\n",
       "</table>\n",
       "</div>"
      ],
      "text/plain": [
       "   NODE            LTEXT\n",
       "0    63  GRANDNADA STONE\n",
       "1    60       WALL PAPER\n",
       "2    58              WAX\n",
       "3    59           MOSAIC\n",
       "4     1   ALUMINUM FRAME\n",
       "5     2  ARTIFICIAL SILK\n",
       "6     3           BICAST\n",
       "7     4    COATING GLASS\n",
       "8     5       COATING HG\n",
       "9     6    COTTON FABRIC"
      ]
     },
     "execution_count": 29,
     "metadata": {},
     "output_type": "execute_result"
    }
   ],
   "source": [
    "new_material = material[:]\n",
    "del new_material['LTEXT_T']\n",
    "new_material[0:10]"
   ]
  },
  {
   "cell_type": "code",
   "execution_count": 30,
   "metadata": {
    "collapsed": true
   },
   "outputs": [],
   "source": [
    "new_material.to_csv('../data_clean/md7t_catmaterial.csv',index=False)"
   ]
  },
  {
   "cell_type": "markdown",
   "metadata": {},
   "source": [
    "# Style"
   ]
  },
  {
   "cell_type": "code",
   "execution_count": 31,
   "metadata": {},
   "outputs": [
    {
     "data": {
      "text/html": [
       "<div>\n",
       "<style>\n",
       "    .dataframe thead tr:only-child th {\n",
       "        text-align: right;\n",
       "    }\n",
       "\n",
       "    .dataframe thead th {\n",
       "        text-align: left;\n",
       "    }\n",
       "\n",
       "    .dataframe tbody tr th {\n",
       "        vertical-align: top;\n",
       "    }\n",
       "</style>\n",
       "<table border=\"1\" class=\"dataframe\">\n",
       "  <thead>\n",
       "    <tr style=\"text-align: right;\">\n",
       "      <th></th>\n",
       "      <th>STY_ID</th>\n",
       "      <th>STYLE</th>\n",
       "    </tr>\n",
       "  </thead>\n",
       "  <tbody>\n",
       "    <tr>\n",
       "      <th>0</th>\n",
       "      <td>1</td>\n",
       "      <td>Artdeco</td>\n",
       "    </tr>\n",
       "    <tr>\n",
       "      <th>1</th>\n",
       "      <td>2</td>\n",
       "      <td>Colour Passion</td>\n",
       "    </tr>\n",
       "    <tr>\n",
       "      <th>2</th>\n",
       "      <td>3</td>\n",
       "      <td>Contemporary</td>\n",
       "    </tr>\n",
       "    <tr>\n",
       "      <th>3</th>\n",
       "      <td>4</td>\n",
       "      <td>Ecolism</td>\n",
       "    </tr>\n",
       "    <tr>\n",
       "      <th>4</th>\n",
       "      <td>5</td>\n",
       "      <td>Luxury Glamorous</td>\n",
       "    </tr>\n",
       "    <tr>\n",
       "      <th>5</th>\n",
       "      <td>6</td>\n",
       "      <td>Modern</td>\n",
       "    </tr>\n",
       "    <tr>\n",
       "      <th>6</th>\n",
       "      <td>7</td>\n",
       "      <td>Modern Chic</td>\n",
       "    </tr>\n",
       "    <tr>\n",
       "      <th>7</th>\n",
       "      <td>8</td>\n",
       "      <td>Modern Classic</td>\n",
       "    </tr>\n",
       "    <tr>\n",
       "      <th>8</th>\n",
       "      <td>9</td>\n",
       "      <td>Modern Italian</td>\n",
       "    </tr>\n",
       "    <tr>\n",
       "      <th>9</th>\n",
       "      <td>10</td>\n",
       "      <td>Neo Baroque</td>\n",
       "    </tr>\n",
       "    <tr>\n",
       "      <th>10</th>\n",
       "      <td>11</td>\n",
       "      <td>Oriental Aspire</td>\n",
       "    </tr>\n",
       "    <tr>\n",
       "      <th>11</th>\n",
       "      <td>12</td>\n",
       "      <td>Renaissance</td>\n",
       "    </tr>\n",
       "    <tr>\n",
       "      <th>12</th>\n",
       "      <td>13</td>\n",
       "      <td>Scandinavian</td>\n",
       "    </tr>\n",
       "    <tr>\n",
       "      <th>13</th>\n",
       "      <td>14</td>\n",
       "      <td>Vintage</td>\n",
       "    </tr>\n",
       "    <tr>\n",
       "      <th>14</th>\n",
       "      <td>15</td>\n",
       "      <td>Modern Contemporary</td>\n",
       "    </tr>\n",
       "    <tr>\n",
       "      <th>15</th>\n",
       "      <td>16</td>\n",
       "      <td>Minimal</td>\n",
       "    </tr>\n",
       "    <tr>\n",
       "      <th>16</th>\n",
       "      <td>17</td>\n",
       "      <td>Modern Luxury</td>\n",
       "    </tr>\n",
       "    <tr>\n",
       "      <th>17</th>\n",
       "      <td>18</td>\n",
       "      <td>Modern Scandinavian</td>\n",
       "    </tr>\n",
       "    <tr>\n",
       "      <th>18</th>\n",
       "      <td>19</td>\n",
       "      <td>Industrial</td>\n",
       "    </tr>\n",
       "    <tr>\n",
       "      <th>19</th>\n",
       "      <td>20</td>\n",
       "      <td>Luxury</td>\n",
       "    </tr>\n",
       "    <tr>\n",
       "      <th>20</th>\n",
       "      <td>21</td>\n",
       "      <td>Classic</td>\n",
       "    </tr>\n",
       "    <tr>\n",
       "      <th>21</th>\n",
       "      <td>22</td>\n",
       "      <td>Transitional</td>\n",
       "    </tr>\n",
       "    <tr>\n",
       "      <th>22</th>\n",
       "      <td>23</td>\n",
       "      <td>Loft</td>\n",
       "    </tr>\n",
       "    <tr>\n",
       "      <th>23</th>\n",
       "      <td>24</td>\n",
       "      <td>Antique</td>\n",
       "    </tr>\n",
       "  </tbody>\n",
       "</table>\n",
       "</div>"
      ],
      "text/plain": [
       "    STY_ID                STYLE\n",
       "0        1              Artdeco\n",
       "1        2       Colour Passion\n",
       "2        3         Contemporary\n",
       "3        4              Ecolism\n",
       "4        5     Luxury Glamorous\n",
       "5        6               Modern\n",
       "6        7          Modern Chic\n",
       "7        8       Modern Classic\n",
       "8        9       Modern Italian\n",
       "9       10          Neo Baroque\n",
       "10      11      Oriental Aspire\n",
       "11      12          Renaissance\n",
       "12      13         Scandinavian\n",
       "13      14              Vintage\n",
       "14      15  Modern Contemporary\n",
       "15      16              Minimal\n",
       "16      17        Modern Luxury\n",
       "17      18  Modern Scandinavian\n",
       "18      19           Industrial\n",
       "19      20               Luxury\n",
       "20      21              Classic\n",
       "21      22         Transitional\n",
       "22      23                 Loft\n",
       "23      24              Antique"
      ]
     },
     "execution_count": 31,
     "metadata": {},
     "output_type": "execute_result"
    }
   ],
   "source": [
    "style = pd.read_csv('../data_20180120/style.csv')\n",
    "style"
   ]
  },
  {
   "cell_type": "code",
   "execution_count": 32,
   "metadata": {
    "collapsed": true
   },
   "outputs": [],
   "source": [
    "style.to_csv('../data_clean/style.csv',index=False)"
   ]
  },
  {
   "cell_type": "markdown",
   "metadata": {},
   "source": [
    "# Download Image from Text Url"
   ]
  },
  {
   "cell_type": "code",
   "execution_count": 33,
   "metadata": {},
   "outputs": [
    {
     "data": {
      "text/html": [
       "<div>\n",
       "<style>\n",
       "    .dataframe thead tr:only-child th {\n",
       "        text-align: right;\n",
       "    }\n",
       "\n",
       "    .dataframe thead th {\n",
       "        text-align: left;\n",
       "    }\n",
       "\n",
       "    .dataframe tbody tr th {\n",
       "        vertical-align: top;\n",
       "    }\n",
       "</style>\n",
       "<table border=\"1\" class=\"dataframe\">\n",
       "  <thead>\n",
       "    <tr style=\"text-align: right;\">\n",
       "      <th></th>\n",
       "      <th>ID</th>\n",
       "      <th>MATNR</th>\n",
       "      <th>IMAGE_URL</th>\n",
       "    </tr>\n",
       "  </thead>\n",
       "  <tbody>\n",
       "    <tr>\n",
       "      <th>0</th>\n",
       "      <td>31,987</td>\n",
       "      <td>25009984</td>\n",
       "      <td>http://sbmedia.sbdesignsquare.com/cyber/images...</td>\n",
       "    </tr>\n",
       "    <tr>\n",
       "      <th>1</th>\n",
       "      <td>31,997</td>\n",
       "      <td>25010053</td>\n",
       "      <td>http://sbmedia.sbdesignsquare.com/cyber/images...</td>\n",
       "    </tr>\n",
       "    <tr>\n",
       "      <th>2</th>\n",
       "      <td>23,077</td>\n",
       "      <td>19039894</td>\n",
       "      <td>http://sbmedia.sbdesignsquare.com/cyber/images...</td>\n",
       "    </tr>\n",
       "    <tr>\n",
       "      <th>3</th>\n",
       "      <td>29,283</td>\n",
       "      <td>19030498</td>\n",
       "      <td>http://sbmedia.sbdesignsquare.com/cyber/images...</td>\n",
       "    </tr>\n",
       "    <tr>\n",
       "      <th>4</th>\n",
       "      <td>24,727</td>\n",
       "      <td>19047365</td>\n",
       "      <td>http://sbmedia.sbdesignsquare.com/cyber/images...</td>\n",
       "    </tr>\n",
       "    <tr>\n",
       "      <th>5</th>\n",
       "      <td>31,826</td>\n",
       "      <td>25009902</td>\n",
       "      <td>http://sbmedia.sbdesignsquare.com/cyber/images...</td>\n",
       "    </tr>\n",
       "    <tr>\n",
       "      <th>6</th>\n",
       "      <td>32,487</td>\n",
       "      <td>25009867</td>\n",
       "      <td>http://sbmedia.sbdesignsquare.com/cyber/images...</td>\n",
       "    </tr>\n",
       "    <tr>\n",
       "      <th>7</th>\n",
       "      <td>32,425</td>\n",
       "      <td>25009299</td>\n",
       "      <td>http://sbmedia.sbdesignsquare.com/cyber/images...</td>\n",
       "    </tr>\n",
       "    <tr>\n",
       "      <th>8</th>\n",
       "      <td>29,901</td>\n",
       "      <td>59001672</td>\n",
       "      <td>http://sbmedia.sbdesignsquare.com/cyber/images...</td>\n",
       "    </tr>\n",
       "    <tr>\n",
       "      <th>9</th>\n",
       "      <td>29,453</td>\n",
       "      <td>19042871</td>\n",
       "      <td>http://sbmedia.sbdesignsquare.com/cyber/images...</td>\n",
       "    </tr>\n",
       "  </tbody>\n",
       "</table>\n",
       "</div>"
      ],
      "text/plain": [
       "       ID     MATNR                                          IMAGE_URL\n",
       "0  31,987  25009984  http://sbmedia.sbdesignsquare.com/cyber/images...\n",
       "1  31,997  25010053  http://sbmedia.sbdesignsquare.com/cyber/images...\n",
       "2  23,077  19039894  http://sbmedia.sbdesignsquare.com/cyber/images...\n",
       "3  29,283  19030498  http://sbmedia.sbdesignsquare.com/cyber/images...\n",
       "4  24,727  19047365  http://sbmedia.sbdesignsquare.com/cyber/images...\n",
       "5  31,826  25009902  http://sbmedia.sbdesignsquare.com/cyber/images...\n",
       "6  32,487  25009867  http://sbmedia.sbdesignsquare.com/cyber/images...\n",
       "7  32,425  25009299  http://sbmedia.sbdesignsquare.com/cyber/images...\n",
       "8  29,901  59001672  http://sbmedia.sbdesignsquare.com/cyber/images...\n",
       "9  29,453  19042871  http://sbmedia.sbdesignsquare.com/cyber/images..."
      ]
     },
     "execution_count": 33,
     "metadata": {},
     "output_type": "execute_result"
    }
   ],
   "source": [
    "product_img = pd.read_csv('../data_20180120/product_img.csv')\n",
    "product_img[0:10]"
   ]
  },
  {
   "cell_type": "code",
   "execution_count": 34,
   "metadata": {},
   "outputs": [
    {
     "name": "stdout",
     "output_type": "stream",
     "text": [
      "27187\n"
     ]
    }
   ],
   "source": [
    "print(len(product))"
   ]
  },
  {
   "cell_type": "code",
   "execution_count": 35,
   "metadata": {},
   "outputs": [
    {
     "name": "stdout",
     "output_type": "stream",
     "text": [
      "21483\n"
     ]
    },
    {
     "data": {
      "text/plain": [
       "'http://sbmedia.sbdesignsquare.com/cyber/images/mat/25009984_NMI500322-IT-SBDS-Home Decoration-DE4717-Copper pillar candle holder-Vintage_A_A4.jpg'"
      ]
     },
     "execution_count": 35,
     "metadata": {},
     "output_type": "execute_result"
    }
   ],
   "source": [
    "print(len(product_img))\n",
    "product_img['IMAGE_URL'][0]"
   ]
  },
  {
   "cell_type": "markdown",
   "metadata": {
    "collapsed": true
   },
   "source": [
    "จะเห็นว่า product > product img หมายความว่ามี product บางตัวที่ไม่มีรูป\n",
    "\n",
    "ลอง download file รูปดู"
   ]
  },
  {
   "cell_type": "code",
   "execution_count": 36,
   "metadata": {
    "collapsed": true
   },
   "outputs": [],
   "source": [
    "exam_pro_img = product_img[0:20]"
   ]
  },
  {
   "cell_type": "code",
   "execution_count": 37,
   "metadata": {
    "collapsed": true
   },
   "outputs": [],
   "source": [
    "import requests\n",
    "\n",
    "for index,img in exam_pro_img.iterrows():\n",
    "    url = img['IMAGE_URL']\n",
    "    r = requests.get(url, allow_redirects=True)\n",
    "    name_file = str(img['MATNR'])\n",
    "    open('../data_img/'+name_file+'.jpg', 'wb').write(r.content)"
   ]
  },
  {
   "cell_type": "markdown",
   "metadata": {},
   "source": [
    "Download all file"
   ]
  },
  {
   "cell_type": "markdown",
   "metadata": {},
   "source": [
    "import requests\n",
    "\n",
    "for index,img in product_img.iterrows():\n",
    "    url = img['IMAGE_URL']\n",
    "    r = requests.get(url, allow_redirects=True)\n",
    "    name_file = str(img['MATNR'])\n",
    "    open('../data_img/'+name_file+'.jpg', 'wb').write(r.content)"
   ]
  },
  {
   "cell_type": "markdown",
   "metadata": {},
   "source": [
    "Check Image file is .jpg, .png ... etc."
   ]
  },
  {
   "cell_type": "code",
   "execution_count": 39,
   "metadata": {},
   "outputs": [
    {
     "name": "stdout",
     "output_type": "stream",
     "text": [
      "jpeg\n",
      "jpeg\n"
     ]
    }
   ],
   "source": [
    "import imghdr\n",
    "print(imghdr.what('../data_img/2501004.jpg'))\n",
    "print(imghdr.what('../data_img/1909089.jpg'))"
   ]
  },
  {
   "cell_type": "markdown",
   "metadata": {},
   "source": [
    "Remove file if format file == None"
   ]
  },
  {
   "cell_type": "code",
   "execution_count": 43,
   "metadata": {
    "scrolled": false
   },
   "outputs": [],
   "source": [
    "import numpy as np\n",
    "import os\n",
    "\n",
    "rm_product_img = []\n",
    "\n",
    "for index, img_row in product_img.iterrows():\n",
    "    name_file = str(img_row['MATNR'])\n",
    "    path = '../data_img/'+name_file+'.jpg'\n",
    "    if (not os.path.isfile(path)) or (imghdr.what(path) is None):\n",
    "        rm_product_img.append(name_file)"
   ]
  },
  {
   "cell_type": "code",
   "execution_count": 44,
   "metadata": {
    "scrolled": false
   },
   "outputs": [
    {
     "data": {
      "text/html": [
       "<div>\n",
       "<style>\n",
       "    .dataframe thead tr:only-child th {\n",
       "        text-align: right;\n",
       "    }\n",
       "\n",
       "    .dataframe thead th {\n",
       "        text-align: left;\n",
       "    }\n",
       "\n",
       "    .dataframe tbody tr th {\n",
       "        vertical-align: top;\n",
       "    }\n",
       "</style>\n",
       "<table border=\"1\" class=\"dataframe\">\n",
       "  <thead>\n",
       "    <tr style=\"text-align: right;\">\n",
       "      <th></th>\n",
       "      <th>MATNR</th>\n",
       "    </tr>\n",
       "  </thead>\n",
       "  <tbody>\n",
       "    <tr>\n",
       "      <th>0</th>\n",
       "      <td>5010048</td>\n",
       "    </tr>\n",
       "    <tr>\n",
       "      <th>1</th>\n",
       "      <td>59000398</td>\n",
       "    </tr>\n",
       "    <tr>\n",
       "      <th>2</th>\n",
       "      <td>59000398</td>\n",
       "    </tr>\n",
       "    <tr>\n",
       "      <th>3</th>\n",
       "      <td>39002358</td>\n",
       "    </tr>\n",
       "    <tr>\n",
       "      <th>4</th>\n",
       "      <td>59013974</td>\n",
       "    </tr>\n",
       "    <tr>\n",
       "      <th>5</th>\n",
       "      <td>59055546</td>\n",
       "    </tr>\n",
       "    <tr>\n",
       "      <th>6</th>\n",
       "      <td>59055545</td>\n",
       "    </tr>\n",
       "    <tr>\n",
       "      <th>7</th>\n",
       "      <td>19045023</td>\n",
       "    </tr>\n",
       "    <tr>\n",
       "      <th>8</th>\n",
       "      <td>19051761</td>\n",
       "    </tr>\n",
       "    <tr>\n",
       "      <th>9</th>\n",
       "      <td>19049885</td>\n",
       "    </tr>\n",
       "  </tbody>\n",
       "</table>\n",
       "</div>"
      ],
      "text/plain": [
       "      MATNR\n",
       "0   5010048\n",
       "1  59000398\n",
       "2  59000398\n",
       "3  39002358\n",
       "4  59013974\n",
       "5  59055546\n",
       "6  59055545\n",
       "7  19045023\n",
       "8  19051761\n",
       "9  19049885"
      ]
     },
     "execution_count": 44,
     "metadata": {},
     "output_type": "execute_result"
    }
   ],
   "source": [
    "rm_product_img = np.array(rm_product_img)\n",
    "img_not_found = pd.DataFrame(rm_product_img,columns=['MATNR'])\n",
    "img_not_found[0:10]"
   ]
  },
  {
   "cell_type": "markdown",
   "metadata": {},
   "source": [
    "ลบ row จาก `product_imag.csv`"
   ]
  },
  {
   "cell_type": "code",
   "execution_count": 45,
   "metadata": {},
   "outputs": [
    {
     "data": {
      "text/plain": [
       "21483"
      ]
     },
     "execution_count": 45,
     "metadata": {},
     "output_type": "execute_result"
    }
   ],
   "source": [
    "len(product_img)"
   ]
  },
  {
   "cell_type": "code",
   "execution_count": 46,
   "metadata": {},
   "outputs": [
    {
     "data": {
      "text/plain": [
       "617"
      ]
     },
     "execution_count": 46,
     "metadata": {},
     "output_type": "execute_result"
    }
   ],
   "source": [
    "len(img_not_found)"
   ]
  },
  {
   "cell_type": "code",
   "execution_count": 47,
   "metadata": {},
   "outputs": [
    {
     "data": {
      "text/plain": [
       "0     5010048\n",
       "1    59000398\n",
       "2    59000398\n",
       "3    39002358\n",
       "4    59013974\n",
       "5    59055546\n",
       "6    59055545\n",
       "7    19045023\n",
       "8    19051761\n",
       "9    19049885\n",
       "Name: MATNR, dtype: int64"
      ]
     },
     "execution_count": 47,
     "metadata": {},
     "output_type": "execute_result"
    }
   ],
   "source": [
    "img_not_found['MATNR'] = img_not_found['MATNR'].apply(int)\n",
    "img_not_found['MATNR'][0:10]"
   ]
  },
  {
   "cell_type": "code",
   "execution_count": 48,
   "metadata": {
    "collapsed": true
   },
   "outputs": [],
   "source": [
    "def checkImage(matnr):\n",
    "    if matnr in set(img_not_found['MATNR']):\n",
    "        return True\n",
    "    else:\n",
    "        return False"
   ]
  },
  {
   "cell_type": "code",
   "execution_count": 49,
   "metadata": {},
   "outputs": [
    {
     "data": {
      "text/plain": [
       "True"
      ]
     },
     "execution_count": 49,
     "metadata": {},
     "output_type": "execute_result"
    }
   ],
   "source": [
    "checkImage(5010048)"
   ]
  },
  {
   "cell_type": "code",
   "execution_count": 50,
   "metadata": {},
   "outputs": [
    {
     "data": {
      "text/plain": [
       "617"
      ]
     },
     "execution_count": 50,
     "metadata": {},
     "output_type": "execute_result"
    }
   ],
   "source": [
    "index_of_not_found = product_img['MATNR'].apply(checkImage)\n",
    "sum(index_of_not_found)"
   ]
  },
  {
   "cell_type": "code",
   "execution_count": 51,
   "metadata": {},
   "outputs": [
    {
     "data": {
      "text/plain": [
       "20866"
      ]
     },
     "execution_count": 51,
     "metadata": {},
     "output_type": "execute_result"
    }
   ],
   "source": [
    "sum(~index_of_not_found)"
   ]
  },
  {
   "cell_type": "code",
   "execution_count": 52,
   "metadata": {
    "collapsed": true
   },
   "outputs": [],
   "source": [
    "new_product_img = product_img[~index_of_not_found]"
   ]
  },
  {
   "cell_type": "code",
   "execution_count": 53,
   "metadata": {},
   "outputs": [
    {
     "data": {
      "text/plain": [
       "(20866, 3)"
      ]
     },
     "execution_count": 53,
     "metadata": {},
     "output_type": "execute_result"
    }
   ],
   "source": [
    "new_product_img.shape"
   ]
  },
  {
   "cell_type": "markdown",
   "metadata": {},
   "source": [
    "export แบบที่ clean แล้ว (เฉพาะที่มีรูปอยู่จริง) ไปเก็บไว้ `product_imag.csv`"
   ]
  },
  {
   "cell_type": "code",
   "execution_count": 54,
   "metadata": {
    "collapsed": true
   },
   "outputs": [],
   "source": [
    "new_product_img.to_csv('../data_clean/product_img.csv',index=False)"
   ]
  },
  {
   "cell_type": "markdown",
   "metadata": {},
   "source": [
    "ลบไฟล์จาก folder"
   ]
  },
  {
   "cell_type": "code",
   "execution_count": 55,
   "metadata": {
    "collapsed": true,
    "scrolled": false
   },
   "outputs": [],
   "source": [
    "import os\n",
    "\n",
    "for name in set(rm_product_img):\n",
    "    path = '../data_img/'+name+'.jpg'\n",
    "    if os.path.isfile(path): \n",
    "        os.remove(path)\n",
    "        print(\"File %s Removed!\" % name)"
   ]
  }
 ],
 "metadata": {
  "kernelspec": {
   "display_name": "Python 3",
   "language": "python",
   "name": "python3"
  },
  "language_info": {
   "codemirror_mode": {
    "name": "ipython",
    "version": 3
   },
   "file_extension": ".py",
   "mimetype": "text/x-python",
   "name": "python",
   "nbconvert_exporter": "python",
   "pygments_lexer": "ipython3",
   "version": "3.6.3"
  }
 },
 "nbformat": 4,
 "nbformat_minor": 2
}
