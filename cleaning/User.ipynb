{
 "cells": [
  {
   "cell_type": "code",
   "execution_count": 81,
   "metadata": {
    "collapsed": true
   },
   "outputs": [],
   "source": [
    "import unicodecsv\n",
    "\n",
    "#read data from CSV file and make it to lists\n",
    "def read_csv(filename):\n",
    "    with open(filename, 'rb') as f:\n",
    "        reader = unicodecsv.DictReader(f)\n",
    "        return list(reader)"
   ]
  },
  {
   "cell_type": "code",
   "execution_count": 82,
   "metadata": {
    "collapsed": true
   },
   "outputs": [],
   "source": [
    "user = read_csv('../data_20180120/customer.csv')"
   ]
  },
  {
   "cell_type": "code",
   "execution_count": 161,
   "metadata": {
    "scrolled": false
   },
   "outputs": [
    {
     "data": {
      "text/html": [
       "<div>\n",
       "<style>\n",
       "    .dataframe thead tr:only-child th {\n",
       "        text-align: right;\n",
       "    }\n",
       "\n",
       "    .dataframe thead th {\n",
       "        text-align: left;\n",
       "    }\n",
       "\n",
       "    .dataframe tbody tr th {\n",
       "        vertical-align: top;\n",
       "    }\n",
       "</style>\n",
       "<table border=\"1\" class=\"dataframe\">\n",
       "  <thead>\n",
       "    <tr style=\"text-align: right;\">\n",
       "      <th></th>\n",
       "      <th>CUSTOMER_ID</th>\n",
       "      <th>FIRST_NAME</th>\n",
       "      <th>IS_DESIGNER</th>\n",
       "      <th>BPCODE</th>\n",
       "      <th>ADDRESS_NO</th>\n",
       "      <th>ADDRESS_POSTAL_CODE</th>\n",
       "      <th>ADDRESS_PROVINCE_ID</th>\n",
       "      <th>ADDRESS_PROVINCE</th>\n",
       "      <th>ADDRESS_STREET</th>\n",
       "      <th>ADDRESS_DISTRICT_ID</th>\n",
       "      <th>ADDRESS_DISTRICT</th>\n",
       "      <th>ADDRESS_SUB_DISTRICT_ID</th>\n",
       "      <th>ADDRESS_SUB_DISTRICT</th>\n",
       "      <th>ADDRESS_TYPE</th>\n",
       "      <th>ADDRESS_BUILDING</th>\n",
       "      <th>ADDRESS_OFFICE_NAME</th>\n",
       "      <th>DATE_OF_BIRTH</th>\n",
       "    </tr>\n",
       "  </thead>\n",
       "  <tbody>\n",
       "    <tr>\n",
       "      <th>0</th>\n",
       "      <td>2,083</td>\n",
       "      <td>ฐนันทิพย์</td>\n",
       "      <td>N</td>\n",
       "      <td>1100698858</td>\n",
       "      <td>2</td>\n",
       "      <td>20170</td>\n",
       "      <td>04090000000</td>\n",
       "      <td>จ.ชลบุรี</td>\n",
       "      <td>เซิดน้อย</td>\n",
       "      <td>04094570000</td>\n",
       "      <td>อ.บ้านบึง</td>\n",
       "      <td>04094573409</td>\n",
       "      <td>ต.บ้านบึง</td>\n",
       "      <td>บ้านพักอาศัย</td>\n",
       "      <td>เอเชีย</td>\n",
       "      <td>Cupcode</td>\n",
       "      <td>1988-10-30</td>\n",
       "    </tr>\n",
       "    <tr>\n",
       "      <th>1</th>\n",
       "      <td>2,102</td>\n",
       "      <td>ทดสอบ002</td>\n",
       "      <td>N</td>\n",
       "      <td>1900036840</td>\n",
       "      <td></td>\n",
       "      <td></td>\n",
       "      <td></td>\n",
       "      <td></td>\n",
       "      <td></td>\n",
       "      <td></td>\n",
       "      <td></td>\n",
       "      <td></td>\n",
       "      <td></td>\n",
       "      <td></td>\n",
       "      <td></td>\n",
       "      <td></td>\n",
       "      <td></td>\n",
       "    </tr>\n",
       "    <tr>\n",
       "      <th>2</th>\n",
       "      <td>2,223</td>\n",
       "      <td>Ping</td>\n",
       "      <td>N</td>\n",
       "      <td>1900036887</td>\n",
       "      <td></td>\n",
       "      <td></td>\n",
       "      <td></td>\n",
       "      <td></td>\n",
       "      <td></td>\n",
       "      <td></td>\n",
       "      <td></td>\n",
       "      <td></td>\n",
       "      <td></td>\n",
       "      <td></td>\n",
       "      <td></td>\n",
       "      <td></td>\n",
       "      <td></td>\n",
       "    </tr>\n",
       "    <tr>\n",
       "      <th>3</th>\n",
       "      <td>2,224</td>\n",
       "      <td>มาศสุภา</td>\n",
       "      <td>N</td>\n",
       "      <td>1900036888</td>\n",
       "      <td></td>\n",
       "      <td></td>\n",
       "      <td></td>\n",
       "      <td></td>\n",
       "      <td></td>\n",
       "      <td></td>\n",
       "      <td></td>\n",
       "      <td></td>\n",
       "      <td></td>\n",
       "      <td></td>\n",
       "      <td></td>\n",
       "      <td></td>\n",
       "      <td></td>\n",
       "    </tr>\n",
       "    <tr>\n",
       "      <th>4</th>\n",
       "      <td>2,284</td>\n",
       "      <td>Tanate</td>\n",
       "      <td>N</td>\n",
       "      <td>1900036922</td>\n",
       "      <td></td>\n",
       "      <td></td>\n",
       "      <td></td>\n",
       "      <td></td>\n",
       "      <td></td>\n",
       "      <td></td>\n",
       "      <td></td>\n",
       "      <td></td>\n",
       "      <td></td>\n",
       "      <td></td>\n",
       "      <td></td>\n",
       "      <td></td>\n",
       "      <td></td>\n",
       "    </tr>\n",
       "  </tbody>\n",
       "</table>\n",
       "</div>"
      ],
      "text/plain": [
       "  CUSTOMER_ID FIRST_NAME IS_DESIGNER      BPCODE ADDRESS_NO  \\\n",
       "0       2,083  ฐนันทิพย์           N  1100698858          2   \n",
       "1       2,102   ทดสอบ002           N  1900036840              \n",
       "2       2,223       Ping           N  1900036887              \n",
       "3       2,224    มาศสุภา           N  1900036888              \n",
       "4       2,284     Tanate           N  1900036922              \n",
       "\n",
       "  ADDRESS_POSTAL_CODE ADDRESS_PROVINCE_ID ADDRESS_PROVINCE ADDRESS_STREET  \\\n",
       "0               20170         04090000000         จ.ชลบุรี       เซิดน้อย   \n",
       "1                                                                           \n",
       "2                                                                           \n",
       "3                                                                           \n",
       "4                                                                           \n",
       "\n",
       "  ADDRESS_DISTRICT_ID ADDRESS_DISTRICT ADDRESS_SUB_DISTRICT_ID  \\\n",
       "0         04094570000        อ.บ้านบึง             04094573409   \n",
       "1                                                                \n",
       "2                                                                \n",
       "3                                                                \n",
       "4                                                                \n",
       "\n",
       "  ADDRESS_SUB_DISTRICT  ADDRESS_TYPE ADDRESS_BUILDING ADDRESS_OFFICE_NAME  \\\n",
       "0            ต.บ้านบึง  บ้านพักอาศัย           เอเชีย             Cupcode   \n",
       "1                                                                           \n",
       "2                                                                           \n",
       "3                                                                           \n",
       "4                                                                           \n",
       "\n",
       "  DATE_OF_BIRTH  \n",
       "0    1988-10-30  \n",
       "1                \n",
       "2                \n",
       "3                \n",
       "4                "
      ]
     },
     "execution_count": 161,
     "metadata": {},
     "output_type": "execute_result"
    }
   ],
   "source": [
    "import pandas as pd\n",
    "\n",
    "users = pd.DataFrame(user)\n",
    "users[:5]"
   ]
  },
  {
   "cell_type": "code",
   "execution_count": 79,
   "metadata": {},
   "outputs": [
    {
     "data": {
      "text/plain": [
       "0    2,083\n",
       "1    2,102\n",
       "2    2,223\n",
       "3    2,224\n",
       "4    2,284\n",
       "Name: CUSTOMER_ID, dtype: object"
      ]
     },
     "execution_count": 79,
     "metadata": {},
     "output_type": "execute_result"
    }
   ],
   "source": [
    "users['CUSTOMER_ID'][:5]"
   ]
  },
  {
   "cell_type": "code",
   "execution_count": 80,
   "metadata": {},
   "outputs": [
    {
     "data": {
      "text/plain": [
       "0    1988-10-30\n",
       "1              \n",
       "2              \n",
       "3              \n",
       "4              \n",
       "Name: DATE_OF_BIRTH, dtype: object"
      ]
     },
     "execution_count": 80,
     "metadata": {},
     "output_type": "execute_result"
    }
   ],
   "source": [
    "users['DATE_OF_BIRTH'][:5]"
   ]
  },
  {
   "cell_type": "code",
   "execution_count": 78,
   "metadata": {
    "scrolled": false
   },
   "outputs": [
    {
     "data": {
      "text/plain": [
       "0    2,083\n",
       "1    2,102\n",
       "2    2,223\n",
       "3    2,224\n",
       "4    2,284\n",
       "Name: CUSTOMER_ID, dtype: object"
      ]
     },
     "execution_count": 78,
     "metadata": {},
     "output_type": "execute_result"
    }
   ],
   "source": [
    "ID = users['CUSTOMER_ID']\n",
    "ID[:5]"
   ]
  },
  {
   "cell_type": "code",
   "execution_count": 243,
   "metadata": {},
   "outputs": [
    {
     "data": {
      "text/html": [
       "<div>\n",
       "<style>\n",
       "    .dataframe thead tr:only-child th {\n",
       "        text-align: right;\n",
       "    }\n",
       "\n",
       "    .dataframe thead th {\n",
       "        text-align: left;\n",
       "    }\n",
       "\n",
       "    .dataframe tbody tr th {\n",
       "        vertical-align: top;\n",
       "    }\n",
       "</style>\n",
       "<table border=\"1\" class=\"dataframe\">\n",
       "  <thead>\n",
       "    <tr style=\"text-align: right;\">\n",
       "      <th></th>\n",
       "      <th>CUSTOMER_ID</th>\n",
       "    </tr>\n",
       "  </thead>\n",
       "  <tbody>\n",
       "    <tr>\n",
       "      <th>0</th>\n",
       "      <td>2083</td>\n",
       "    </tr>\n",
       "    <tr>\n",
       "      <th>1</th>\n",
       "      <td>2102</td>\n",
       "    </tr>\n",
       "    <tr>\n",
       "      <th>2</th>\n",
       "      <td>2223</td>\n",
       "    </tr>\n",
       "    <tr>\n",
       "      <th>3</th>\n",
       "      <td>2224</td>\n",
       "    </tr>\n",
       "    <tr>\n",
       "      <th>4</th>\n",
       "      <td>2284</td>\n",
       "    </tr>\n",
       "  </tbody>\n",
       "</table>\n",
       "</div>"
      ],
      "text/plain": [
       "   CUSTOMER_ID\n",
       "0         2083\n",
       "1         2102\n",
       "2         2223\n",
       "3         2224\n",
       "4         2284"
      ]
     },
     "execution_count": 243,
     "metadata": {},
     "output_type": "execute_result"
    }
   ],
   "source": [
    "import locale\n",
    "locale.setlocale(locale.LC_ALL, '') \n",
    "\n",
    "new_id = result[:]\n",
    "new_id['CUSTOMER_ID'] = result['CUSTOMER_ID'].apply(locale.atoi)\n",
    "new_id[:5]"
   ]
  },
  {
   "cell_type": "code",
   "execution_count": 77,
   "metadata": {
    "scrolled": true
   },
   "outputs": [
    {
     "data": {
      "text/plain": [
       "0    1988-10-30\n",
       "1              \n",
       "2              \n",
       "3              \n",
       "4              \n",
       "Name: DATE_OF_BIRTH, dtype: object"
      ]
     },
     "execution_count": 77,
     "metadata": {},
     "output_type": "execute_result"
    }
   ],
   "source": [
    "BD = users['DATE_OF_BIRTH']\n",
    "BD[:5]"
   ]
  },
  {
   "cell_type": "code",
   "execution_count": 244,
   "metadata": {
    "collapsed": true
   },
   "outputs": [],
   "source": [
    "result = pd.concat([new_id, BD], axis=1)"
   ]
  },
  {
   "cell_type": "code",
   "execution_count": 245,
   "metadata": {
    "scrolled": true
   },
   "outputs": [
    {
     "data": {
      "text/html": [
       "<div>\n",
       "<style>\n",
       "    .dataframe thead tr:only-child th {\n",
       "        text-align: right;\n",
       "    }\n",
       "\n",
       "    .dataframe thead th {\n",
       "        text-align: left;\n",
       "    }\n",
       "\n",
       "    .dataframe tbody tr th {\n",
       "        vertical-align: top;\n",
       "    }\n",
       "</style>\n",
       "<table border=\"1\" class=\"dataframe\">\n",
       "  <thead>\n",
       "    <tr style=\"text-align: right;\">\n",
       "      <th></th>\n",
       "      <th>CUSTOMER_ID</th>\n",
       "      <th>DATE_OF_BIRTH</th>\n",
       "    </tr>\n",
       "  </thead>\n",
       "  <tbody>\n",
       "    <tr>\n",
       "      <th>0</th>\n",
       "      <td>2083</td>\n",
       "      <td>1988-10-30</td>\n",
       "    </tr>\n",
       "    <tr>\n",
       "      <th>1</th>\n",
       "      <td>2102</td>\n",
       "      <td></td>\n",
       "    </tr>\n",
       "    <tr>\n",
       "      <th>2</th>\n",
       "      <td>2223</td>\n",
       "      <td></td>\n",
       "    </tr>\n",
       "    <tr>\n",
       "      <th>3</th>\n",
       "      <td>2224</td>\n",
       "      <td></td>\n",
       "    </tr>\n",
       "    <tr>\n",
       "      <th>4</th>\n",
       "      <td>2284</td>\n",
       "      <td></td>\n",
       "    </tr>\n",
       "  </tbody>\n",
       "</table>\n",
       "</div>"
      ],
      "text/plain": [
       "   CUSTOMER_ID DATE_OF_BIRTH\n",
       "0         2083    1988-10-30\n",
       "1         2102              \n",
       "2         2223              \n",
       "3         2224              \n",
       "4         2284              "
      ]
     },
     "execution_count": 245,
     "metadata": {},
     "output_type": "execute_result"
    }
   ],
   "source": [
    "result[:5]"
   ]
  },
  {
   "cell_type": "markdown",
   "metadata": {},
   "source": [
    "# ID & Birth "
   ]
  },
  {
   "cell_type": "code",
   "execution_count": 248,
   "metadata": {
    "scrolled": true
   },
   "outputs": [
    {
     "data": {
      "text/html": [
       "<div>\n",
       "<style>\n",
       "    .dataframe thead tr:only-child th {\n",
       "        text-align: right;\n",
       "    }\n",
       "\n",
       "    .dataframe thead th {\n",
       "        text-align: left;\n",
       "    }\n",
       "\n",
       "    .dataframe tbody tr th {\n",
       "        vertical-align: top;\n",
       "    }\n",
       "</style>\n",
       "<table border=\"1\" class=\"dataframe\">\n",
       "  <thead>\n",
       "    <tr style=\"text-align: right;\">\n",
       "      <th></th>\n",
       "      <th>CUSTOMER_ID</th>\n",
       "      <th>DATE_OF_BIRTH</th>\n",
       "    </tr>\n",
       "  </thead>\n",
       "  <tbody>\n",
       "    <tr>\n",
       "      <th>0</th>\n",
       "      <td>2083</td>\n",
       "      <td>1988-10-30</td>\n",
       "    </tr>\n",
       "    <tr>\n",
       "      <th>13</th>\n",
       "      <td>2390</td>\n",
       "      <td>1986-8-11</td>\n",
       "    </tr>\n",
       "    <tr>\n",
       "      <th>16</th>\n",
       "      <td>2406</td>\n",
       "      <td>1983-10-10</td>\n",
       "    </tr>\n",
       "    <tr>\n",
       "      <th>21</th>\n",
       "      <td>2412</td>\n",
       "      <td>1989-10-25</td>\n",
       "    </tr>\n",
       "    <tr>\n",
       "      <th>22</th>\n",
       "      <td>2413</td>\n",
       "      <td>1982-6-4</td>\n",
       "    </tr>\n",
       "  </tbody>\n",
       "</table>\n",
       "</div>"
      ],
      "text/plain": [
       "    CUSTOMER_ID DATE_OF_BIRTH\n",
       "0          2083    1988-10-30\n",
       "13         2390     1986-8-11\n",
       "16         2406    1983-10-10\n",
       "21         2412    1989-10-25\n",
       "22         2413      1982-6-4"
      ]
     },
     "execution_count": 248,
     "metadata": {},
     "output_type": "execute_result"
    }
   ],
   "source": [
    "Id_birth = result[result['DATE_OF_BIRTH'].notnull() & (result['DATE_OF_BIRTH'] != \"\")]\n",
    "Id_birth[:5]\n"
   ]
  },
  {
   "cell_type": "code",
   "execution_count": 249,
   "metadata": {
    "collapsed": true
   },
   "outputs": [],
   "source": [
    "Id_birth.to_csv('../data_clean/customer.csv')"
   ]
  },
  {
   "cell_type": "code",
   "execution_count": 250,
   "metadata": {},
   "outputs": [
    {
     "data": {
      "text/plain": [
       "0    20170\n",
       "1         \n",
       "2         \n",
       "3         \n",
       "4         \n",
       "Name: ADDRESS_POSTAL_CODE, dtype: object"
      ]
     },
     "execution_count": 250,
     "metadata": {},
     "output_type": "execute_result"
    }
   ],
   "source": [
    "AD = users['ADDRESS_POSTAL_CODE']\n",
    "AD[:5]"
   ]
  },
  {
   "cell_type": "code",
   "execution_count": 252,
   "metadata": {
    "scrolled": true
   },
   "outputs": [
    {
     "data": {
      "text/html": [
       "<div>\n",
       "<style>\n",
       "    .dataframe thead tr:only-child th {\n",
       "        text-align: right;\n",
       "    }\n",
       "\n",
       "    .dataframe thead th {\n",
       "        text-align: left;\n",
       "    }\n",
       "\n",
       "    .dataframe tbody tr th {\n",
       "        vertical-align: top;\n",
       "    }\n",
       "</style>\n",
       "<table border=\"1\" class=\"dataframe\">\n",
       "  <thead>\n",
       "    <tr style=\"text-align: right;\">\n",
       "      <th></th>\n",
       "      <th>CUSTOMER_ID</th>\n",
       "      <th>DATE_OF_BIRTH</th>\n",
       "      <th>ADDRESS_POSTAL_CODE</th>\n",
       "    </tr>\n",
       "  </thead>\n",
       "  <tbody>\n",
       "    <tr>\n",
       "      <th>0</th>\n",
       "      <td>2083</td>\n",
       "      <td>1988-10-30</td>\n",
       "      <td>20170</td>\n",
       "    </tr>\n",
       "    <tr>\n",
       "      <th>1</th>\n",
       "      <td>2102</td>\n",
       "      <td></td>\n",
       "      <td></td>\n",
       "    </tr>\n",
       "    <tr>\n",
       "      <th>2</th>\n",
       "      <td>2223</td>\n",
       "      <td></td>\n",
       "      <td></td>\n",
       "    </tr>\n",
       "    <tr>\n",
       "      <th>3</th>\n",
       "      <td>2224</td>\n",
       "      <td></td>\n",
       "      <td></td>\n",
       "    </tr>\n",
       "    <tr>\n",
       "      <th>4</th>\n",
       "      <td>2284</td>\n",
       "      <td></td>\n",
       "      <td></td>\n",
       "    </tr>\n",
       "  </tbody>\n",
       "</table>\n",
       "</div>"
      ],
      "text/plain": [
       "   CUSTOMER_ID DATE_OF_BIRTH ADDRESS_POSTAL_CODE\n",
       "0         2083    1988-10-30               20170\n",
       "1         2102                                  \n",
       "2         2223                                  \n",
       "3         2224                                  \n",
       "4         2284                                  "
      ]
     },
     "execution_count": 252,
     "metadata": {},
     "output_type": "execute_result"
    }
   ],
   "source": [
    "results = pd.concat([new_id,BD,AD], axis=1)\n",
    "results[:5]"
   ]
  },
  {
   "cell_type": "markdown",
   "metadata": {},
   "source": [
    "ID&Birth&address"
   ]
  },
  {
   "cell_type": "code",
   "execution_count": 253,
   "metadata": {
    "scrolled": true
   },
   "outputs": [
    {
     "data": {
      "text/html": [
       "<div>\n",
       "<style>\n",
       "    .dataframe thead tr:only-child th {\n",
       "        text-align: right;\n",
       "    }\n",
       "\n",
       "    .dataframe thead th {\n",
       "        text-align: left;\n",
       "    }\n",
       "\n",
       "    .dataframe tbody tr th {\n",
       "        vertical-align: top;\n",
       "    }\n",
       "</style>\n",
       "<table border=\"1\" class=\"dataframe\">\n",
       "  <thead>\n",
       "    <tr style=\"text-align: right;\">\n",
       "      <th></th>\n",
       "      <th>CUSTOMER_ID</th>\n",
       "      <th>DATE_OF_BIRTH</th>\n",
       "      <th>ADDRESS_POSTAL_CODE</th>\n",
       "    </tr>\n",
       "  </thead>\n",
       "  <tbody>\n",
       "    <tr>\n",
       "      <th>0</th>\n",
       "      <td>2083</td>\n",
       "      <td>1988-10-30</td>\n",
       "      <td>20170</td>\n",
       "    </tr>\n",
       "    <tr>\n",
       "      <th>13</th>\n",
       "      <td>2390</td>\n",
       "      <td>1986-8-11</td>\n",
       "      <td>10250</td>\n",
       "    </tr>\n",
       "    <tr>\n",
       "      <th>16</th>\n",
       "      <td>2406</td>\n",
       "      <td>1983-10-10</td>\n",
       "      <td>10150</td>\n",
       "    </tr>\n",
       "    <tr>\n",
       "      <th>21</th>\n",
       "      <td>2412</td>\n",
       "      <td>1989-10-25</td>\n",
       "      <td>11110</td>\n",
       "    </tr>\n",
       "    <tr>\n",
       "      <th>22</th>\n",
       "      <td>2413</td>\n",
       "      <td>1982-6-4</td>\n",
       "      <td>11000</td>\n",
       "    </tr>\n",
       "  </tbody>\n",
       "</table>\n",
       "</div>"
      ],
      "text/plain": [
       "    CUSTOMER_ID DATE_OF_BIRTH ADDRESS_POSTAL_CODE\n",
       "0          2083    1988-10-30               20170\n",
       "13         2390     1986-8-11               10250\n",
       "16         2406    1983-10-10               10150\n",
       "21         2412    1989-10-25               11110\n",
       "22         2413      1982-6-4               11000"
      ]
     },
     "execution_count": 253,
     "metadata": {},
     "output_type": "execute_result"
    }
   ],
   "source": [
    "df_add_not_null = results [results['ADDRESS_POSTAL_CODE'].notnull() & (results['ADDRESS_POSTAL_CODE'] != \"\") & (results['DATE_OF_BIRTH'].notnull() &(results['DATE_OF_BIRTH'] != \"\"))]\n",
    "\n",
    "\n",
    "df_add_not_null[:5]"
   ]
  },
  {
   "cell_type": "code",
   "execution_count": 254,
   "metadata": {
    "collapsed": true
   },
   "outputs": [],
   "source": [
    "df_add_not_null.to_csv('../data_clean/customer.csv')"
   ]
  },
  {
   "cell_type": "markdown",
   "metadata": {},
   "source": [
    "# birth"
   ]
  },
  {
   "cell_type": "code",
   "execution_count": 255,
   "metadata": {},
   "outputs": [
    {
     "data": {
      "text/plain": [
       "0     1988-10-30\n",
       "13     1986-8-11\n",
       "16    1983-10-10\n",
       "21    1989-10-25\n",
       "22      1982-6-4\n",
       "Name: DATE_OF_BIRTH, dtype: object"
      ]
     },
     "execution_count": 255,
     "metadata": {},
     "output_type": "execute_result"
    }
   ],
   "source": [
    "y_m_d = df_add_not_null['DATE_OF_BIRTH']\n",
    "y_m_d[:5]"
   ]
  },
  {
   "cell_type": "code",
   "execution_count": 256,
   "metadata": {},
   "outputs": [
    {
     "data": {
      "text/plain": [
       "datetime.datetime(2018, 2, 5, 15, 31, 37, 800110)"
      ]
     },
     "execution_count": 256,
     "metadata": {},
     "output_type": "execute_result"
    }
   ],
   "source": [
    "from datetime import datetime\n",
    "now = datetime.now()\n",
    "now"
   ]
  },
  {
   "cell_type": "code",
   "execution_count": 257,
   "metadata": {},
   "outputs": [
    {
     "data": {
      "text/plain": [
       "2018"
      ]
     },
     "execution_count": 257,
     "metadata": {},
     "output_type": "execute_result"
    }
   ],
   "source": [
    " y = now.year\n",
    "y"
   ]
  },
  {
   "cell_type": "code",
   "execution_count": 258,
   "metadata": {},
   "outputs": [
    {
     "data": {
      "text/plain": [
       "30"
      ]
     },
     "execution_count": 258,
     "metadata": {},
     "output_type": "execute_result"
    }
   ],
   "source": [
    " y- int('1988')"
   ]
  },
  {
   "cell_type": "code",
   "execution_count": 259,
   "metadata": {
    "collapsed": true
   },
   "outputs": [],
   "source": [
    "from datetime import datetime\n",
    "\n",
    "def bd_to_age(bd_str):\n",
    "    datetime_ob = datetime.strptime(bd_str, '%Y-%m-%d').date()\n",
    "    now = datetime.now().date()\n",
    "    delta = (now - datetime_ob)\n",
    "    number_of_days = delta.days\n",
    "    number_of_years = number_of_days/365\n",
    "    return number_of_years"
   ]
  },
  {
   "cell_type": "code",
   "execution_count": 262,
   "metadata": {},
   "outputs": [
    {
     "data": {
      "text/plain": [
       "29.28767123287671"
      ]
     },
     "execution_count": 262,
     "metadata": {},
     "output_type": "execute_result"
    }
   ],
   "source": [
    "bd_to_age('1988-10-30')"
   ]
  },
  {
   "cell_type": "code",
   "execution_count": 263,
   "metadata": {},
   "outputs": [
    {
     "data": {
      "text/plain": [
       "0     1988-10-30\n",
       "13     1986-8-11\n",
       "16    1983-10-10\n",
       "21    1989-10-25\n",
       "22      1982-6-4\n",
       "Name: DATE_OF_BIRTH, dtype: object"
      ]
     },
     "execution_count": 263,
     "metadata": {},
     "output_type": "execute_result"
    }
   ],
   "source": [
    "birth_not_null = users[users['DATE_OF_BIRTH'].notnull() &(users['DATE_OF_BIRTH'] != \"\")]['DATE_OF_BIRTH']\n",
    "birth_not_null[0:5]"
   ]
  },
  {
   "cell_type": "markdown",
   "metadata": {},
   "source": [
    "# Age"
   ]
  },
  {
   "cell_type": "code",
   "execution_count": 264,
   "metadata": {},
   "outputs": [
    {
     "data": {
      "text/plain": [
       "0     29.287671\n",
       "13    31.509589\n",
       "16    34.347945\n",
       "21    28.301370\n",
       "22    35.698630\n",
       "Name: DATE_OF_BIRTH, dtype: float64"
      ]
     },
     "execution_count": 264,
     "metadata": {},
     "output_type": "execute_result"
    }
   ],
   "source": [
    " age = birth_not_null.apply(bd_to_age)\n",
    "age[:5]"
   ]
  },
  {
   "cell_type": "code",
   "execution_count": 265,
   "metadata": {
    "collapsed": true
   },
   "outputs": [],
   "source": [
    "birth_not_null.to_csv('../data_clean/customer.csv')"
   ]
  },
  {
   "cell_type": "code",
   "execution_count": 266,
   "metadata": {},
   "outputs": [
    {
     "data": {
      "text/html": [
       "<div>\n",
       "<style>\n",
       "    .dataframe thead tr:only-child th {\n",
       "        text-align: right;\n",
       "    }\n",
       "\n",
       "    .dataframe thead th {\n",
       "        text-align: left;\n",
       "    }\n",
       "\n",
       "    .dataframe tbody tr th {\n",
       "        vertical-align: top;\n",
       "    }\n",
       "</style>\n",
       "<table border=\"1\" class=\"dataframe\">\n",
       "  <thead>\n",
       "    <tr style=\"text-align: right;\">\n",
       "      <th></th>\n",
       "      <th>CUSTOMER_ID</th>\n",
       "      <th>DATE_OF_BIRTH</th>\n",
       "      <th>ADDRESS_POSTAL_CODE</th>\n",
       "      <th>DATE_OF_BIRTH</th>\n",
       "    </tr>\n",
       "  </thead>\n",
       "  <tbody>\n",
       "    <tr>\n",
       "      <th>0</th>\n",
       "      <td>2083.0</td>\n",
       "      <td>1988-10-30</td>\n",
       "      <td>20170</td>\n",
       "      <td>29.287671</td>\n",
       "    </tr>\n",
       "    <tr>\n",
       "      <th>13</th>\n",
       "      <td>2390.0</td>\n",
       "      <td>1986-8-11</td>\n",
       "      <td>10250</td>\n",
       "      <td>31.509589</td>\n",
       "    </tr>\n",
       "    <tr>\n",
       "      <th>16</th>\n",
       "      <td>2406.0</td>\n",
       "      <td>1983-10-10</td>\n",
       "      <td>10150</td>\n",
       "      <td>34.347945</td>\n",
       "    </tr>\n",
       "    <tr>\n",
       "      <th>21</th>\n",
       "      <td>2412.0</td>\n",
       "      <td>1989-10-25</td>\n",
       "      <td>11110</td>\n",
       "      <td>28.301370</td>\n",
       "    </tr>\n",
       "    <tr>\n",
       "      <th>22</th>\n",
       "      <td>2413.0</td>\n",
       "      <td>1982-6-4</td>\n",
       "      <td>11000</td>\n",
       "      <td>35.698630</td>\n",
       "    </tr>\n",
       "  </tbody>\n",
       "</table>\n",
       "</div>"
      ],
      "text/plain": [
       "    CUSTOMER_ID  DATE_OF_BIRTH ADDRESS_POSTAL_CODE  DATE_OF_BIRTH\n",
       "0        2083.0     1988-10-30               20170      29.287671\n",
       "13       2390.0      1986-8-11               10250      31.509589\n",
       "16       2406.0     1983-10-10               10150      34.347945\n",
       "21       2412.0     1989-10-25               11110      28.301370\n",
       "22       2413.0       1982-6-4               11000      35.698630"
      ]
     },
     "execution_count": 266,
     "metadata": {},
     "output_type": "execute_result"
    }
   ],
   "source": [
    "users_all = pd.concat([df_add_not_null,age], axis=1)\n",
    "users_all[:5]"
   ]
  },
  {
   "cell_type": "code",
   "execution_count": 267,
   "metadata": {
    "collapsed": true
   },
   "outputs": [],
   "source": [
    "users_all['Age'] = age"
   ]
  },
  {
   "cell_type": "code",
   "execution_count": 268,
   "metadata": {},
   "outputs": [
    {
     "data": {
      "text/html": [
       "<div>\n",
       "<style>\n",
       "    .dataframe thead tr:only-child th {\n",
       "        text-align: right;\n",
       "    }\n",
       "\n",
       "    .dataframe thead th {\n",
       "        text-align: left;\n",
       "    }\n",
       "\n",
       "    .dataframe tbody tr th {\n",
       "        vertical-align: top;\n",
       "    }\n",
       "</style>\n",
       "<table border=\"1\" class=\"dataframe\">\n",
       "  <thead>\n",
       "    <tr style=\"text-align: right;\">\n",
       "      <th></th>\n",
       "      <th>CUSTOMER_ID</th>\n",
       "      <th>DATE_OF_BIRTH</th>\n",
       "      <th>ADDRESS_POSTAL_CODE</th>\n",
       "      <th>DATE_OF_BIRTH</th>\n",
       "      <th>Age</th>\n",
       "    </tr>\n",
       "  </thead>\n",
       "  <tbody>\n",
       "    <tr>\n",
       "      <th>0</th>\n",
       "      <td>2083.0</td>\n",
       "      <td>1988-10-30</td>\n",
       "      <td>20170</td>\n",
       "      <td>29.287671</td>\n",
       "      <td>29.287671</td>\n",
       "    </tr>\n",
       "    <tr>\n",
       "      <th>13</th>\n",
       "      <td>2390.0</td>\n",
       "      <td>1986-8-11</td>\n",
       "      <td>10250</td>\n",
       "      <td>31.509589</td>\n",
       "      <td>31.509589</td>\n",
       "    </tr>\n",
       "    <tr>\n",
       "      <th>16</th>\n",
       "      <td>2406.0</td>\n",
       "      <td>1983-10-10</td>\n",
       "      <td>10150</td>\n",
       "      <td>34.347945</td>\n",
       "      <td>34.347945</td>\n",
       "    </tr>\n",
       "    <tr>\n",
       "      <th>21</th>\n",
       "      <td>2412.0</td>\n",
       "      <td>1989-10-25</td>\n",
       "      <td>11110</td>\n",
       "      <td>28.301370</td>\n",
       "      <td>28.301370</td>\n",
       "    </tr>\n",
       "    <tr>\n",
       "      <th>22</th>\n",
       "      <td>2413.0</td>\n",
       "      <td>1982-6-4</td>\n",
       "      <td>11000</td>\n",
       "      <td>35.698630</td>\n",
       "      <td>35.698630</td>\n",
       "    </tr>\n",
       "  </tbody>\n",
       "</table>\n",
       "</div>"
      ],
      "text/plain": [
       "    CUSTOMER_ID  DATE_OF_BIRTH ADDRESS_POSTAL_CODE  DATE_OF_BIRTH        Age\n",
       "0        2083.0     1988-10-30               20170      29.287671  29.287671\n",
       "13       2390.0      1986-8-11               10250      31.509589  31.509589\n",
       "16       2406.0     1983-10-10               10150      34.347945  34.347945\n",
       "21       2412.0     1989-10-25               11110      28.301370  28.301370\n",
       "22       2413.0       1982-6-4               11000      35.698630  35.698630"
      ]
     },
     "execution_count": 268,
     "metadata": {},
     "output_type": "execute_result"
    }
   ],
   "source": [
    "users_all[:5]"
   ]
  },
  {
   "cell_type": "code",
   "execution_count": 2,
   "metadata": {
    "scrolled": true
   },
   "outputs": [
    {
     "ename": "SyntaxError",
     "evalue": "invalid syntax (<ipython-input-2-c184489e89c7>, line 2)",
     "output_type": "error",
     "traceback": [
      "\u001b[1;36m  File \u001b[1;32m\"<ipython-input-2-c184489e89c7>\"\u001b[1;36m, line \u001b[1;32m2\u001b[0m\n\u001b[1;33m    user.all = del users_all['DATE_OF_BIRTH']\u001b[0m\n\u001b[1;37m                 ^\u001b[0m\n\u001b[1;31mSyntaxError\u001b[0m\u001b[1;31m:\u001b[0m invalid syntax\n"
     ]
    }
   ],
   "source": [
    "\n",
    "user.all = del users_all['DATE_OF_BIRTH']\n",
    "user.all"
   ]
  },
  {
   "cell_type": "code",
   "execution_count": 270,
   "metadata": {
    "collapsed": true
   },
   "outputs": [],
   "source": [
    "users_all.to_csv('../data_clean/customer.csv')"
   ]
  },
  {
   "cell_type": "markdown",
   "metadata": {},
   "source": [
    "# check"
   ]
  },
  {
   "cell_type": "code",
   "execution_count": 271,
   "metadata": {},
   "outputs": [
    {
     "data": {
      "text/plain": [
       "CUSTOMER_ID            float64\n",
       "ADDRESS_POSTAL_CODE     object\n",
       "Age                    float64\n",
       "dtype: object"
      ]
     },
     "execution_count": 271,
     "metadata": {},
     "output_type": "execute_result"
    }
   ],
   "source": [
    "users_all.dtypes"
   ]
  },
  {
   "cell_type": "code",
   "execution_count": 293,
   "metadata": {
    "scrolled": true
   },
   "outputs": [
    {
     "data": {
      "text/plain": [
       "0     29.0\n",
       "13    32.0\n",
       "16    34.0\n",
       "21    28.0\n",
       "22    36.0\n",
       "Name: Age, dtype: float64"
      ]
     },
     "execution_count": 293,
     "metadata": {},
     "output_type": "execute_result"
    }
   ],
   "source": [
    "new_age = users_all['Age'].round(0)\n",
    "new_age[:5]"
   ]
  }
 ],
 "metadata": {
  "kernelspec": {
   "display_name": "Python 3",
   "language": "python",
   "name": "python3"
  },
  "language_info": {
   "codemirror_mode": {
    "name": "ipython",
    "version": 3
   },
   "file_extension": ".py",
   "mimetype": "text/x-python",
   "name": "python",
   "nbconvert_exporter": "python",
   "pygments_lexer": "ipython3",
   "version": "3.6.3"
  }
 },
 "nbformat": 4,
 "nbformat_minor": 2
}
