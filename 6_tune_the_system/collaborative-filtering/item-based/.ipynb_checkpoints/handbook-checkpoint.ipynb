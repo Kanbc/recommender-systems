{
 "cells": [
  {
   "cell_type": "markdown",
   "metadata": {},
   "source": [
    "# 6 Experimental Settings"
   ]
  },
  {
   "cell_type": "markdown",
   "metadata": {},
   "source": [
    "## 6.4 RSs Properties (271)"
   ]
  },
  {
   "cell_type": "markdown",
   "metadata": {},
   "source": [
    "### 6.4.1 User Preference (272)"
   ]
  },
  {
   "cell_type": "markdown",
   "metadata": {},
   "source": [
    "สุดท้ายแล้วเราพัฒนาระบบไป เราต้องวัดผลได้ว่า ทำไม user ถึง**ชอบ**ระบบหนึ่ง มากกว่าอีกระบบหนึ่ง ดังนั้นสิ่งที่สำคัญที่สุดคือเราต้องวัดผล **ความพอใจ/ชอบ** ของ user ให้ได้"
   ]
  },
  {
   "cell_type": "markdown",
   "metadata": {},
   "source": [
    "### 6.4.2 Prediction Accuracy (273)"
   ]
  },
  {
   "cell_type": "markdown",
   "metadata": {},
   "source": [
    "#### 6.4.2.1 Measuring Ratings Prediction Accuracy (273)"
   ]
  },
  {
   "cell_type": "markdown",
   "metadata": {},
   "source": [
    "$$\\text{Root Mean Squared Error(RMSE)} = \\sqrt{\\frac{1}{|\\tau|} \\sum_{(u,i) \\in \\tau}(\\hat{r}_{ui} - r_{ui} )^2}$$"
   ]
  },
  {
   "cell_type": "markdown",
   "metadata": {},
   "source": [
    "เมื่อ\n",
    "\n",
    "$\\tau$ คือ test set of user-item pair $(u,i)$\n",
    "\n",
    "$r_{ui},\\hat{r}_{ui}$ คือ rating จาก data และ predict rating ที่ model ทาย ตามลำดับ"
   ]
  },
  {
   "cell_type": "markdown",
   "metadata": {},
   "source": [
    "*Note : RMSE เหมาะกับการใช้กับข้อมูลที่เป็นแบบ continuous (สำหรับปัญหา Regression)*"
   ]
  },
  {
   "cell_type": "markdown",
   "metadata": {},
   "source": [
    "อีกวิธีที่นิยมใช้คือ"
   ]
  },
  {
   "cell_type": "markdown",
   "metadata": {},
   "source": [
    "$$\\text{Mean Absolute Error(MAE)} = \\sqrt{\\frac{1}{|\\tau|} \\sum_{(u,i) \\in \\tau}|\\hat{r}_{ui} - r_{ui} |}$$"
   ]
  },
  {
   "cell_type": "markdown",
   "metadata": {},
   "source": [
    "#### 6.4.2.2 Measuring Usage Prediction"
   ]
  },
  {
   "cell_type": "code",
   "execution_count": null,
   "metadata": {},
   "outputs": [],
   "source": []
  },
  {
   "cell_type": "markdown",
   "metadata": {},
   "source": [
    "#### 6.4.2.3 Ranking Measures (281)"
   ]
  },
  {
   "cell_type": "code",
   "execution_count": null,
   "metadata": {},
   "outputs": [],
   "source": []
  },
  {
   "cell_type": "markdown",
   "metadata": {},
   "source": [
    "## 6.1 Offline Experiments (261-263)"
   ]
  },
  {
   "cell_type": "markdown",
   "metadata": {},
   "source": [
    "- Sampling Item (5 ชิ้น ล่าสุด ไล่จากวันสุดท้ายย้อนหลังไปวันเริ่มต้น) & User (90% มีข้อมูล แล้วเอาค่าเฉลี่ยไป predict อีกให้ 10%)\n",
    "- หา %error(Precision/Recall/F1Score) + Plot ตาม 0-1(Wmin), 0-N"
   ]
  },
  {
   "cell_type": "markdown",
   "metadata": {},
   "source": [
    "## 6.2 User Studies (263-266)"
   ]
  },
  {
   "cell_type": "markdown",
   "metadata": {},
   "source": [
    "## 6.3 Online Evaluation (266-267)"
   ]
  },
  {
   "cell_type": "code",
   "execution_count": null,
   "metadata": {},
   "outputs": [],
   "source": []
  }
 ],
 "metadata": {
  "kernelspec": {
   "display_name": "Python 3",
   "language": "python",
   "name": "python3"
  },
  "language_info": {
   "codemirror_mode": {
    "name": "ipython",
    "version": 3
   },
   "file_extension": ".py",
   "mimetype": "text/x-python",
   "name": "python",
   "nbconvert_exporter": "python",
   "pygments_lexer": "ipython3",
   "version": "3.6.3"
  }
 },
 "nbformat": 4,
 "nbformat_minor": 2
}
