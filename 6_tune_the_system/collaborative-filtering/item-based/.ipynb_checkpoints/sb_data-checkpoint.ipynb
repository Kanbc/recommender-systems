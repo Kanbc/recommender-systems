{
 "cells": [
  {
   "cell_type": "markdown",
   "metadata": {},
   "source": [
    "# 1. Sampling Data"
   ]
  },
  {
   "cell_type": "markdown",
   "metadata": {},
   "source": [
    "random หยิบข้อมูลมาป้อนให้ model โดยสิ่งที่จะ random ประกอบด้วย \n",
    "- Test time : เวลาล่าสุดที่เรามีข้อมูล (ข้อมูลที่อยู่หลังจากเวลานี้จะแยกเก็บไว้ตรวจความแม่นของ model) > ได้ Order ที่ CREATE_DATE < เวลาที่สุ่มได้\n",
    "- User : สุ่ม User แค่ครั้งละ N คน\n",
    "- Map user-order กับ item\n",
    "- สร้าง pivot table "
   ]
  },
  {
   "cell_type": "code",
   "execution_count": 2,
   "metadata": {},
   "outputs": [],
   "source": [
    "import pandas as pd\n",
    "import datetime\n",
    "import random\n",
    "import numpy as np\n",
    "from random import randint\n",
    "\n",
    "from sklearn.metrics.pairwise import cosine_similarity\n",
    "\n",
    "order = pd.read_csv('../../../2_data/explored/order.csv', parse_dates=['CREATE_DATE','UPDATE_DATE'])\n",
    "item = pd.read_csv('../../../2_data/explored/order_item.csv')"
   ]
  },
  {
   "cell_type": "code",
   "execution_count": 3,
   "metadata": {},
   "outputs": [],
   "source": [
    "def sampling_sb_data(order, item, test_time, sample_number):\n",
    "    # Original Data Set     \n",
    "    print('ORIGINAL ORDERS :',len(order))\n",
    "    \n",
    "    # Order < Test Time\n",
    "    test_day = max(order['CREATE_DATE']) - datetime.timedelta(days=test_time)\n",
    "    new_order = order[order['CREATE_DATE'] < test_day]\n",
    "    answer = order[order['CREATE_DATE'] >= test_day]\n",
    "    print('NEW ORDERS :',len(new_order))\n",
    "    print('NEW ANSWER :',len(answer))\n",
    "    \n",
    "    # Sample Customer & Order\n",
    "    customer_id = new_order['CUSTOMER_ID'].unique()\n",
    "    print('UNIQUE CUSTOMERS :',len(customer_id))\n",
    "    sample_customer_id = np.unique(random.sample(population=list(customer_id), k=sample_number))\n",
    "    print('SAMPLE CUSTOMERS :',len(sample_customer_id))\n",
    "    sample_order = new_order[new_order['CUSTOMER_ID'].isin(list(sample_customer_id))]\n",
    "    sample_answer = answer[answer['CUSTOMER_ID'].isin(list(sample_customer_id))] \n",
    "    print('SAMPLE ORDERS :',len(sample_order))\n",
    "    print('SAMPLE ANSWER :',len(sample_answer))\n",
    "    \n",
    "    # Merge order-item\n",
    "    order_item = pd.merge(sample_order, item, on='ORDER_ID')\n",
    "    answer_item = pd.merge(sample_answer, item, on='ORDER_ID')\n",
    "    print('SAMPLE ORDER ITEM :',len(order_item))\n",
    "    print('SAMPLE ANSWER ITEM :',len(answer_item))\n",
    "    \n",
    "    new_order_item = order_item.copy()\n",
    "    new_answer_item = answer_item.copy()\n",
    "    del new_order_item['ORDER_ID']\n",
    "    del new_order_item['BPCODE']\n",
    "    del new_order_item['CREATE_DATE']\n",
    "    del new_order_item['UPDATE_DATE']\n",
    "    del new_order_item['STATUS']\n",
    "    del new_order_item['ORDER_ITEM_ID']\n",
    "    del new_order_item['TOTAL_PRICE']\n",
    "    \n",
    "    del new_answer_item['ORDER_ID']\n",
    "    del new_answer_item['BPCODE']\n",
    "    del new_answer_item['CREATE_DATE']\n",
    "    del new_answer_item['UPDATE_DATE']\n",
    "    del new_answer_item['STATUS']\n",
    "    del new_answer_item['ORDER_ITEM_ID']\n",
    "    del new_answer_item['TOTAL_PRICE']\n",
    "    \n",
    "    grouped = new_order_item.groupby(['CUSTOMER_ID','MATNR']).sum().reset_index()\n",
    "    grouped2 = new_answer_item.groupby(['CUSTOMER_ID','MATNR']).sum().reset_index()\n",
    "    grouped['QUANTITY'] = 1\n",
    "    grouped2['QUANTITY'] = 1\n",
    "    \n",
    "    # Pivot table\n",
    "    pivot_table = grouped.pivot(index='CUSTOMER_ID', columns='MATNR', values='QUANTITY')\n",
    "    print('PIVOT SHAPE :',pivot_table.shape)\n",
    "    \n",
    "    return [pivot_table,grouped2]"
   ]
  },
  {
   "cell_type": "code",
   "execution_count": 4,
   "metadata": {},
   "outputs": [],
   "source": [
    "def sampling_sb_data_clean(order, item, test_time, sample_number):    \n",
    "    # Order < Test Time\n",
    "    test_day = max(order['CREATE_DATE']) - datetime.timedelta(days=test_time)\n",
    "    new_order = order[order['CREATE_DATE'] < test_day]\n",
    "    answer = order[order['CREATE_DATE'] >= test_day]\n",
    "    \n",
    "    # Sample Customer & Order\n",
    "    customer_id = new_order['CUSTOMER_ID'].unique()\n",
    "    sample_customer_id = np.unique(random.sample(population=list(customer_id), k=sample_number))\n",
    "    sample_order = new_order[new_order['CUSTOMER_ID'].isin(list(sample_customer_id))]\n",
    "    sample_answer = answer[answer['CUSTOMER_ID'].isin(list(sample_customer_id))] \n",
    "    \n",
    "    # Merge order-item\n",
    "    order_item = pd.merge(sample_order, item, on='ORDER_ID')\n",
    "    answer_item = pd.merge(sample_answer, item, on='ORDER_ID')\n",
    "    \n",
    "    new_order_item = order_item.copy()\n",
    "    new_answer_item = answer_item.copy()\n",
    "    del new_order_item['ORDER_ID']\n",
    "    del new_order_item['BPCODE']\n",
    "    del new_order_item['CREATE_DATE']\n",
    "    del new_order_item['UPDATE_DATE']\n",
    "    del new_order_item['STATUS']\n",
    "    del new_order_item['ORDER_ITEM_ID']\n",
    "    del new_order_item['TOTAL_PRICE']\n",
    "    \n",
    "    del new_answer_item['ORDER_ID']\n",
    "    del new_answer_item['BPCODE']\n",
    "    del new_answer_item['CREATE_DATE']\n",
    "    del new_answer_item['UPDATE_DATE']\n",
    "    del new_answer_item['STATUS']\n",
    "    del new_answer_item['ORDER_ITEM_ID']\n",
    "    del new_answer_item['TOTAL_PRICE']\n",
    "    \n",
    "    grouped = new_order_item.groupby(['CUSTOMER_ID','MATNR']).sum().reset_index()\n",
    "    grouped2 = new_answer_item.groupby(['CUSTOMER_ID','MATNR']).sum().reset_index()\n",
    "    grouped['QUANTITY'] = 1\n",
    "    grouped2['QUANTITY'] = 1\n",
    "    \n",
    "    # Pivot table\n",
    "    pivot_table = grouped.pivot(index='CUSTOMER_ID', columns='MATNR', values='QUANTITY')\n",
    "    \n",
    "    return [pivot_table,grouped2]"
   ]
  },
  {
   "cell_type": "code",
   "execution_count": 5,
   "metadata": {},
   "outputs": [
    {
     "name": "stdout",
     "output_type": "stream",
     "text": [
      "ORIGINAL ORDERS : 11916\n",
      "NEW ORDERS : 8004\n",
      "NEW ANSWER : 3912\n",
      "UNIQUE CUSTOMERS : 4558\n",
      "SAMPLE CUSTOMERS : 100\n",
      "SAMPLE ORDERS : 190\n",
      "SAMPLE ANSWER : 16\n",
      "SAMPLE ORDER ITEM : 256\n",
      "SAMPLE ANSWER ITEM : 18\n",
      "PIVOT SHAPE : (100, 202)\n"
     ]
    }
   ],
   "source": [
    "[sample_pivot_table,answer] = sampling_sb_data(order,item,180,100)"
   ]
  },
  {
   "cell_type": "markdown",
   "metadata": {},
   "source": [
    "# 2. Create Model From Sampling"
   ]
  },
  {
   "cell_type": "markdown",
   "metadata": {},
   "source": [
    "สร้าง model จาก Sampling แบบข้อมูลชุดเดียว"
   ]
  },
  {
   "cell_type": "code",
   "execution_count": 6,
   "metadata": {},
   "outputs": [],
   "source": [
    "def cosine_similarity_between_item(pivot_table_df):\n",
    "    cv = pivot_table_df.copy().values\n",
    "\n",
    "    # filter NaN value to 0   \n",
    "    cv[np.isnan(cv)] = 0\n",
    "\n",
    "    cv = cosine_similarity(cv.T)        \n",
    "    column_name_list = list(pivot_table_df)\n",
    "    cv_df = pd.DataFrame(cv, index=column_name_list, columns=column_name_list)\n",
    "    return cv_df\n",
    "\n",
    "def prefiltering_of_neighbors(old_similar_table, thershold):\n",
    "    new_similar_table = old_similar_table.copy()\n",
    "    # Negative filtering & Thershold filtering\n",
    "    new_similar_table[new_similar_table < thershold] = 0\n",
    "    return new_similar_table\n",
    "\n",
    "def cs_classification_predicted_score(pivot_table,weight,output_set):\n",
    "    # initial variable\n",
    "    score_table = pivot_table.copy()\n",
    "    number_of_item = score_table.shape[1]\n",
    "    \n",
    "    # get NaN index\n",
    "    nan_index = np.argwhere(np.isnan(score_table).values)\n",
    "    \n",
    "    # for loop to predict each NaN and fill value to it       \n",
    "    for nan_pos in nan_index:\n",
    "        r_score = np.array([])\n",
    "        u,i = nan_pos[0],nan_pos[1]\n",
    "        ru = score_table.values[u,:]\n",
    "        wi = weight.values[i]\n",
    "        wi[i] = 0\n",
    "        \n",
    "        for r in output_set:\n",
    "            r_array,delta_r = np.array([r]*number_of_item),np.array([0]*number_of_item)\n",
    "            delta_r[r_array == ru]  = 1\n",
    "            vir = sum(wi*delta_r)\n",
    "            r_score = np.append(r_score, vir)\n",
    "        \n",
    "        score_table.values[u][i] = output_set[np.argmax(r_score)]\n",
    "        \n",
    "    return score_table"
   ]
  },
  {
   "cell_type": "code",
   "execution_count": 7,
   "metadata": {},
   "outputs": [],
   "source": [
    "similarity_weight = cosine_similarity_between_item(sample_pivot_table)\n",
    "prefiltering_sw = prefiltering_of_neighbors(similarity_weight, 0.1)\n",
    "predicted_table = cs_classification_predicted_score(sample_pivot_table,prefiltering_sw,[0,1])"
   ]
  },
  {
   "cell_type": "code",
   "execution_count": 8,
   "metadata": {},
   "outputs": [
    {
     "data": {
      "text/html": [
       "<div>\n",
       "<style>\n",
       "    .dataframe thead tr:only-child th {\n",
       "        text-align: right;\n",
       "    }\n",
       "\n",
       "    .dataframe thead th {\n",
       "        text-align: left;\n",
       "    }\n",
       "\n",
       "    .dataframe tbody tr th {\n",
       "        vertical-align: top;\n",
       "    }\n",
       "</style>\n",
       "<table border=\"1\" class=\"dataframe\">\n",
       "  <thead>\n",
       "    <tr style=\"text-align: right;\">\n",
       "      <th>MATNR</th>\n",
       "      <th>19008833</th>\n",
       "      <th>19026335</th>\n",
       "      <th>19027076</th>\n",
       "      <th>19027081</th>\n",
       "      <th>19031481</th>\n",
       "      <th>19035149</th>\n",
       "      <th>19035150</th>\n",
       "      <th>19036595</th>\n",
       "      <th>19037268</th>\n",
       "      <th>19041151</th>\n",
       "      <th>...</th>\n",
       "      <th>59012168</th>\n",
       "      <th>59012257</th>\n",
       "      <th>59013067</th>\n",
       "      <th>59013202</th>\n",
       "      <th>59013336</th>\n",
       "      <th>59013338</th>\n",
       "      <th>59013345</th>\n",
       "      <th>59013606</th>\n",
       "      <th>59013969</th>\n",
       "      <th>59014345</th>\n",
       "    </tr>\n",
       "    <tr>\n",
       "      <th>CUSTOMER_ID</th>\n",
       "      <th></th>\n",
       "      <th></th>\n",
       "      <th></th>\n",
       "      <th></th>\n",
       "      <th></th>\n",
       "      <th></th>\n",
       "      <th></th>\n",
       "      <th></th>\n",
       "      <th></th>\n",
       "      <th></th>\n",
       "      <th></th>\n",
       "      <th></th>\n",
       "      <th></th>\n",
       "      <th></th>\n",
       "      <th></th>\n",
       "      <th></th>\n",
       "      <th></th>\n",
       "      <th></th>\n",
       "      <th></th>\n",
       "      <th></th>\n",
       "      <th></th>\n",
       "    </tr>\n",
       "  </thead>\n",
       "  <tbody>\n",
       "    <tr>\n",
       "      <th>8646</th>\n",
       "      <td>0.0</td>\n",
       "      <td>0.0</td>\n",
       "      <td>0.0</td>\n",
       "      <td>0.0</td>\n",
       "      <td>0.0</td>\n",
       "      <td>0.0</td>\n",
       "      <td>0.0</td>\n",
       "      <td>0.0</td>\n",
       "      <td>0.0</td>\n",
       "      <td>0.0</td>\n",
       "      <td>...</td>\n",
       "      <td>0.0</td>\n",
       "      <td>0.0</td>\n",
       "      <td>0.0</td>\n",
       "      <td>0.0</td>\n",
       "      <td>0.0</td>\n",
       "      <td>0.0</td>\n",
       "      <td>0.0</td>\n",
       "      <td>0.0</td>\n",
       "      <td>0.0</td>\n",
       "      <td>0.0</td>\n",
       "    </tr>\n",
       "    <tr>\n",
       "      <th>11727</th>\n",
       "      <td>0.0</td>\n",
       "      <td>0.0</td>\n",
       "      <td>0.0</td>\n",
       "      <td>0.0</td>\n",
       "      <td>0.0</td>\n",
       "      <td>0.0</td>\n",
       "      <td>0.0</td>\n",
       "      <td>0.0</td>\n",
       "      <td>0.0</td>\n",
       "      <td>0.0</td>\n",
       "      <td>...</td>\n",
       "      <td>0.0</td>\n",
       "      <td>0.0</td>\n",
       "      <td>0.0</td>\n",
       "      <td>0.0</td>\n",
       "      <td>0.0</td>\n",
       "      <td>0.0</td>\n",
       "      <td>0.0</td>\n",
       "      <td>0.0</td>\n",
       "      <td>0.0</td>\n",
       "      <td>0.0</td>\n",
       "    </tr>\n",
       "    <tr>\n",
       "      <th>17029</th>\n",
       "      <td>0.0</td>\n",
       "      <td>0.0</td>\n",
       "      <td>0.0</td>\n",
       "      <td>0.0</td>\n",
       "      <td>0.0</td>\n",
       "      <td>0.0</td>\n",
       "      <td>0.0</td>\n",
       "      <td>0.0</td>\n",
       "      <td>0.0</td>\n",
       "      <td>0.0</td>\n",
       "      <td>...</td>\n",
       "      <td>0.0</td>\n",
       "      <td>0.0</td>\n",
       "      <td>0.0</td>\n",
       "      <td>0.0</td>\n",
       "      <td>0.0</td>\n",
       "      <td>0.0</td>\n",
       "      <td>0.0</td>\n",
       "      <td>0.0</td>\n",
       "      <td>0.0</td>\n",
       "      <td>0.0</td>\n",
       "    </tr>\n",
       "    <tr>\n",
       "      <th>20987</th>\n",
       "      <td>0.0</td>\n",
       "      <td>0.0</td>\n",
       "      <td>0.0</td>\n",
       "      <td>0.0</td>\n",
       "      <td>0.0</td>\n",
       "      <td>0.0</td>\n",
       "      <td>0.0</td>\n",
       "      <td>0.0</td>\n",
       "      <td>0.0</td>\n",
       "      <td>0.0</td>\n",
       "      <td>...</td>\n",
       "      <td>0.0</td>\n",
       "      <td>0.0</td>\n",
       "      <td>0.0</td>\n",
       "      <td>0.0</td>\n",
       "      <td>0.0</td>\n",
       "      <td>0.0</td>\n",
       "      <td>0.0</td>\n",
       "      <td>0.0</td>\n",
       "      <td>0.0</td>\n",
       "      <td>0.0</td>\n",
       "    </tr>\n",
       "    <tr>\n",
       "      <th>21043</th>\n",
       "      <td>0.0</td>\n",
       "      <td>0.0</td>\n",
       "      <td>0.0</td>\n",
       "      <td>0.0</td>\n",
       "      <td>0.0</td>\n",
       "      <td>0.0</td>\n",
       "      <td>0.0</td>\n",
       "      <td>0.0</td>\n",
       "      <td>0.0</td>\n",
       "      <td>0.0</td>\n",
       "      <td>...</td>\n",
       "      <td>0.0</td>\n",
       "      <td>0.0</td>\n",
       "      <td>0.0</td>\n",
       "      <td>0.0</td>\n",
       "      <td>0.0</td>\n",
       "      <td>0.0</td>\n",
       "      <td>0.0</td>\n",
       "      <td>0.0</td>\n",
       "      <td>0.0</td>\n",
       "      <td>0.0</td>\n",
       "    </tr>\n",
       "  </tbody>\n",
       "</table>\n",
       "<p>5 rows × 202 columns</p>\n",
       "</div>"
      ],
      "text/plain": [
       "MATNR        19008833  19026335  19027076  19027081  19031481  19035149  \\\n",
       "CUSTOMER_ID                                                               \n",
       "8646              0.0       0.0       0.0       0.0       0.0       0.0   \n",
       "11727             0.0       0.0       0.0       0.0       0.0       0.0   \n",
       "17029             0.0       0.0       0.0       0.0       0.0       0.0   \n",
       "20987             0.0       0.0       0.0       0.0       0.0       0.0   \n",
       "21043             0.0       0.0       0.0       0.0       0.0       0.0   \n",
       "\n",
       "MATNR        19035150  19036595  19037268  19041151    ...     59012168  \\\n",
       "CUSTOMER_ID                                            ...                \n",
       "8646              0.0       0.0       0.0       0.0    ...          0.0   \n",
       "11727             0.0       0.0       0.0       0.0    ...          0.0   \n",
       "17029             0.0       0.0       0.0       0.0    ...          0.0   \n",
       "20987             0.0       0.0       0.0       0.0    ...          0.0   \n",
       "21043             0.0       0.0       0.0       0.0    ...          0.0   \n",
       "\n",
       "MATNR        59012257  59013067  59013202  59013336  59013338  59013345  \\\n",
       "CUSTOMER_ID                                                               \n",
       "8646              0.0       0.0       0.0       0.0       0.0       0.0   \n",
       "11727             0.0       0.0       0.0       0.0       0.0       0.0   \n",
       "17029             0.0       0.0       0.0       0.0       0.0       0.0   \n",
       "20987             0.0       0.0       0.0       0.0       0.0       0.0   \n",
       "21043             0.0       0.0       0.0       0.0       0.0       0.0   \n",
       "\n",
       "MATNR        59013606  59013969  59014345  \n",
       "CUSTOMER_ID                                \n",
       "8646              0.0       0.0       0.0  \n",
       "11727             0.0       0.0       0.0  \n",
       "17029             0.0       0.0       0.0  \n",
       "20987             0.0       0.0       0.0  \n",
       "21043             0.0       0.0       0.0  \n",
       "\n",
       "[5 rows x 202 columns]"
      ]
     },
     "execution_count": 8,
     "metadata": {},
     "output_type": "execute_result"
    }
   ],
   "source": [
    "predicted_table.head()"
   ]
  },
  {
   "cell_type": "markdown",
   "metadata": {},
   "source": [
    "# 3. Evaluate Model"
   ]
  },
  {
   "cell_type": "markdown",
   "metadata": {},
   "source": [
    "สร้าง item(order) list ของ users แต่ละคนจากข้อมูลที่ตัดแบ่งไว้ตอนแรกก่อน"
   ]
  },
  {
   "cell_type": "code",
   "execution_count": 9,
   "metadata": {},
   "outputs": [
    {
     "name": "stdout",
     "output_type": "stream",
     "text": [
      "ORIGINAL ORDERS : 11916\n",
      "NEW ORDERS : 8004\n",
      "NEW ANSWER : 3912\n",
      "UNIQUE CUSTOMERS : 4558\n",
      "SAMPLE CUSTOMERS : 100\n",
      "SAMPLE ORDERS : 176\n",
      "SAMPLE ANSWER : 11\n",
      "SAMPLE ORDER ITEM : 247\n",
      "SAMPLE ANSWER ITEM : 11\n",
      "PIVOT SHAPE : (100, 193)\n"
     ]
    }
   ],
   "source": [
    "[sample_pivot_table,answer] = sampling_sb_data(order,item,180,100)\n",
    "similarity_weight = cosine_similarity_between_item(sample_pivot_table)\n",
    "prefiltering_sw = prefiltering_of_neighbors(similarity_weight, 0.1)\n",
    "predicted_table = cs_classification_predicted_score(sample_pivot_table,prefiltering_sw,[0,1])"
   ]
  },
  {
   "cell_type": "markdown",
   "metadata": {},
   "source": [
    "หา True Positive"
   ]
  },
  {
   "cell_type": "code",
   "execution_count": 10,
   "metadata": {},
   "outputs": [],
   "source": [
    "def true_positive(predicted_pivot, answer):\n",
    "    predicted_table = pd.DataFrame(predicted_pivot.unstack()).groupby(['CUSTOMER_ID','MATNR']).sum().reset_index()\n",
    "    predicted_item = predicted_table[predicted_table[0]==1]\n",
    "    upper = len(pd.merge(answer, predicted_item, how='inner', on=['CUSTOMER_ID','MATNR']))\n",
    "    return upper"
   ]
  },
  {
   "cell_type": "code",
   "execution_count": 11,
   "metadata": {},
   "outputs": [
    {
     "data": {
      "text/plain": [
       "0"
      ]
     },
     "execution_count": 11,
     "metadata": {},
     "output_type": "execute_result"
    }
   ],
   "source": [
    "true_positive(predicted_table,answer)"
   ]
  },
  {
   "cell_type": "markdown",
   "metadata": {},
   "source": [
    "หา False Positive"
   ]
  },
  {
   "cell_type": "code",
   "execution_count": 12,
   "metadata": {},
   "outputs": [],
   "source": [
    "def false_positive(predicted_pivot, answer):\n",
    "    predicted_table = pd.DataFrame(predicted_pivot.unstack()).groupby(['CUSTOMER_ID','MATNR']).sum().reset_index()\n",
    "    predicted_item = predicted_table[predicted_table[0]==1]\n",
    "    upper = pd.merge(predicted_item, answer, how='left', on=['CUSTOMER_ID','MATNR'])\n",
    "    return sum(np.isnan(upper['QUANTITY']))"
   ]
  },
  {
   "cell_type": "code",
   "execution_count": 13,
   "metadata": {},
   "outputs": [
    {
     "data": {
      "text/plain": [
       "257"
      ]
     },
     "execution_count": 13,
     "metadata": {},
     "output_type": "execute_result"
    }
   ],
   "source": [
    "false_positive(predicted_table,answer)"
   ]
  },
  {
   "cell_type": "markdown",
   "metadata": {},
   "source": [
    "หา False Negative"
   ]
  },
  {
   "cell_type": "code",
   "execution_count": 14,
   "metadata": {},
   "outputs": [],
   "source": [
    "def false_negative(predicted_pivot, answer):\n",
    "    predicted_table = pd.DataFrame(predicted_pivot.unstack()).groupby(['CUSTOMER_ID','MATNR']).sum().reset_index()\n",
    "    predicted_item = predicted_table[predicted_table[0]==1]\n",
    "    upper = pd.merge(answer, predicted_item, how='left', on=['CUSTOMER_ID','MATNR'])\n",
    "    return sum(np.isnan(upper[0]))"
   ]
  },
  {
   "cell_type": "code",
   "execution_count": 15,
   "metadata": {},
   "outputs": [
    {
     "data": {
      "text/plain": [
       "6"
      ]
     },
     "execution_count": 15,
     "metadata": {},
     "output_type": "execute_result"
    }
   ],
   "source": [
    "false_negative(predicted_table,answer)"
   ]
  },
  {
   "cell_type": "markdown",
   "metadata": {},
   "source": [
    "ได้ $$ \\text{Precision} = \\frac{\\text{tp}}{\\text{tp} + \\text{fp}} $$"
   ]
  },
  {
   "cell_type": "code",
   "execution_count": 16,
   "metadata": {},
   "outputs": [],
   "source": [
    "def precision(predicted_pivot,answer):\n",
    "    pcs = true_positive(predicted_pivot,answer)/(true_positive(predicted_pivot,answer) + false_positive(predicted_pivot,answer))\n",
    "    return pcs"
   ]
  },
  {
   "cell_type": "code",
   "execution_count": 33,
   "metadata": {},
   "outputs": [
    {
     "data": {
      "text/plain": [
       "0.0"
      ]
     },
     "execution_count": 33,
     "metadata": {},
     "output_type": "execute_result"
    }
   ],
   "source": [
    "precision(predicted_table,answer)"
   ]
  },
  {
   "cell_type": "markdown",
   "metadata": {},
   "source": [
    "ได้ $$ \\text{Recall} = \\frac{\\text{tp}}{\\text{tp} + \\text{fn}} $$"
   ]
  },
  {
   "cell_type": "code",
   "execution_count": 18,
   "metadata": {},
   "outputs": [],
   "source": [
    "def recall(predicted_pivot,answer):\n",
    "    pcs = true_positive(predicted_pivot,answer)/(true_positive(predicted_pivot,answer) + false_negative(predicted_pivot,answer))\n",
    "    return pcs"
   ]
  },
  {
   "cell_type": "code",
   "execution_count": 19,
   "metadata": {},
   "outputs": [
    {
     "data": {
      "text/plain": [
       "0.0"
      ]
     },
     "execution_count": 19,
     "metadata": {},
     "output_type": "execute_result"
    }
   ],
   "source": [
    "recall(predicted_table,answer)"
   ]
  },
  {
   "cell_type": "markdown",
   "metadata": {},
   "source": [
    "พิจารณาช่วงวันระหว่างมากสุดถึงน้อยสุด ต้องการสุ่มให้มีหัว-หางเหลืออย่างน้อย 100 ตัว ดังนั้นจะได้ 100 < test_days < 737"
   ]
  },
  {
   "cell_type": "code",
   "execution_count": 20,
   "metadata": {},
   "outputs": [
    {
     "data": {
      "text/plain": [
       "837"
      ]
     },
     "execution_count": 20,
     "metadata": {},
     "output_type": "execute_result"
    }
   ],
   "source": [
    "(max(order['CREATE_DATE']) - min(order['CREATE_DATE'])).days"
   ]
  },
  {
   "cell_type": "code",
   "execution_count": 21,
   "metadata": {},
   "outputs": [
    {
     "data": {
      "text/plain": [
       "6539"
      ]
     },
     "execution_count": 21,
     "metadata": {},
     "output_type": "execute_result"
    }
   ],
   "source": [
    "len(order['CUSTOMER_ID'].unique())"
   ]
  },
  {
   "cell_type": "markdown",
   "metadata": {},
   "source": [
    "ส่วน CUSTOMER มี 6539 กะว่าเอา 200-300 คน"
   ]
  },
  {
   "cell_type": "markdown",
   "metadata": {},
   "source": [
    "ทำ iteration สัก 10 ครั้งเพื่อพิจารณา precission/recall "
   ]
  },
  {
   "cell_type": "code",
   "execution_count": 40,
   "metadata": {},
   "outputs": [
    {
     "data": {
      "text/plain": [
       "1525062829.5919092"
      ]
     },
     "execution_count": 40,
     "metadata": {},
     "output_type": "execute_result"
    }
   ],
   "source": [
    "import time\n",
    "\n",
    "start_time = time.time()\n",
    "start_time"
   ]
  },
  {
   "cell_type": "code",
   "execution_count": 41,
   "metadata": {},
   "outputs": [
    {
     "name": "stdout",
     "output_type": "stream",
     "text": [
      "0\n",
      "1\n",
      "2\n",
      "3\n",
      "4\n",
      "5\n",
      "6\n",
      "7\n",
      "8\n",
      "9\n",
      "[array([ 0.001287  ,  0.        ,  0.00289017,  0.00225734,  0.        ,\n",
      "        0.00120048,  0.00445765,  0.00187383,  0.        ,  0.00183486]), array([ 0.03846154,  0.        ,  0.07407407,  0.04651163,  0.        ,\n",
      "        0.01960784,  0.08108108,  0.04615385,  0.        ,  0.05405405])]\n",
      "ใช้เวลาไปทั้งหมด 3.685431416829427 นาที\n"
     ]
    }
   ],
   "source": [
    "start_time = time.time()\n",
    "precision_array = np.array([])\n",
    "recall_array = np.array([])\n",
    "\n",
    "for i in range(10):\n",
    "    [sample_pivot_table1,answer1] = sampling_sb_data_clean(order,item,randint(200, 300),randint(200, 300))\n",
    "    similarity_weight1 = cosine_similarity_between_item(sample_pivot_table1)\n",
    "    prefiltering_sw1 = prefiltering_of_neighbors(similarity_weight1, 0.1)\n",
    "    predicted_table1 = cs_classification_predicted_score(sample_pivot_table1,prefiltering_sw1,[0,1])\n",
    "    precision_array = np.append(precision_array,precision(predicted_table1,answer1))\n",
    "    recall_array = np.append(recall_array,recall(predicted_table1,answer1))\n",
    "    print(i)\n",
    "\n",
    "print([precision_array,recall_array])\n",
    "print(\"ใช้เวลาไปทั้งหมด\",(time.time() - start_time)/60,\"นาที\")"
   ]
  },
  {
   "cell_type": "code",
   "execution_count": 34,
   "metadata": {},
   "outputs": [
    {
     "data": {
      "text/plain": [
       "array([ 0.04      ,  0.075     ,  0.11363636,  0.02564103,  0.18181818,\n",
       "        0.03333333,  0.05357143,  0.09433962,  0.04545455,  0.08695652])"
      ]
     },
     "execution_count": 34,
     "metadata": {},
     "output_type": "execute_result"
    }
   ],
   "source": [
    "recall_array"
   ]
  },
  {
   "cell_type": "markdown",
   "metadata": {},
   "source": [
    "สำหรับ F1_score จะได้ $$ \\text{F1 Score} = \\frac{2\\cdot\\text{Precision}\\cdot\\text{Recall} }{\\text{Precission} + \\text{Recall}} $$"
   ]
  },
  {
   "cell_type": "code",
   "execution_count": 50,
   "metadata": {},
   "outputs": [
    {
     "data": {
      "text/plain": [
       "0.0030273672948191448"
      ]
     },
     "execution_count": 50,
     "metadata": {},
     "output_type": "execute_result"
    }
   ],
   "source": [
    "F1score = 2*np.nanmean(precision_array)*np.nanmean(recall_array)/(np.nanmean(precision_array)+np.nanmean(recall_array))\n",
    "F1score"
   ]
  },
  {
   "cell_type": "markdown",
   "metadata": {},
   "source": [
    "ทำ function วนหาค่า F1, Precision, Recall ที่ theshold ค่าต่างๆ จะได้"
   ]
  },
  {
   "cell_type": "code",
   "execution_count": 72,
   "metadata": {},
   "outputs": [],
   "source": [
    "def findBestTheshold(step):\n",
    "    start_time = time.time()\n",
    "    f1_score_plot = np.array([])\n",
    "    precision_plot = np.array([])\n",
    "    recall_plot = np.array([])\n",
    "    x_plot = np.arange(0, 1, step)\n",
    "    \n",
    "    for theshold in x_plot:\n",
    "        precision_array = np.array([])\n",
    "        recall_array = np.array([])\n",
    "        start_time2 = time.time()\n",
    "\n",
    "        for i in range(10):\n",
    "            [sample_pivot_table1,answer1] = sampling_sb_data_clean(order,item,randint(200, 300),randint(200, 300))\n",
    "            similarity_weight1 = cosine_similarity_between_item(sample_pivot_table1)\n",
    "            prefiltering_sw1 = prefiltering_of_neighbors(similarity_weight1, theshold)\n",
    "            predicted_table1 = cs_classification_predicted_score(sample_pivot_table1,prefiltering_sw1,[0,1])\n",
    "            precision_array = np.append(precision_array,precision(predicted_table1,answer1))\n",
    "            recall_array = np.append(recall_array,recall(predicted_table1,answer1))\n",
    "            print(i)\n",
    "            \n",
    "        print(\"ที่ theshold เท่ากับ\",theshold,\"ใช้เวลาไป\",(time.time() - start_time2)/60,\"นาที\")    \n",
    "        \n",
    "        precision_plot = np.append(precision_plot, np.nanmean(precision_array))\n",
    "        recall_plot = np.append(recall_plot, np.nanmean(recall_array))\n",
    "        f1_score_plot = np.append(f1_score_plot, 2*np.nanmean(precision_array)*np.nanmean(recall_array)/(np.nanmean(precision_array)+np.nanmean(recall_array)) )\n",
    "\n",
    "    print(\"ใช้เวลาไปทั้งหมด\",(time.time() - start_time)/60,\"นาที\")\n",
    "    return [x_plot,precision_plot, recall_plot, f1_score_plot]"
   ]
  },
  {
   "cell_type": "code",
   "execution_count": 73,
   "metadata": {},
   "outputs": [
    {
     "name": "stdout",
     "output_type": "stream",
     "text": [
      "0\n",
      "1\n",
      "2\n",
      "3\n",
      "4\n",
      "5\n",
      "6\n",
      "7\n",
      "8\n",
      "9\n",
      "ที่ theshold เท่ากับ 0.0 ใช้เวลาไป 3.787626298268636 นาที\n",
      "0\n",
      "1\n",
      "2\n",
      "3\n",
      "4\n",
      "5\n",
      "6\n",
      "7\n",
      "8\n",
      "9\n",
      "ที่ theshold เท่ากับ 0.03 ใช้เวลาไป 3.4036714871724447 นาที\n",
      "0\n",
      "1\n",
      "2\n",
      "3\n",
      "4\n",
      "5\n",
      "6\n",
      "7\n",
      "8\n",
      "9\n",
      "ที่ theshold เท่ากับ 0.06 ใช้เวลาไป 4.177562018235524 นาที\n",
      "0\n",
      "1\n",
      "2\n",
      "3\n",
      "4\n",
      "5\n",
      "6\n",
      "7\n",
      "8\n",
      "9\n",
      "ที่ theshold เท่ากับ 0.09 ใช้เวลาไป 3.6071407318115236 นาที\n",
      "0\n",
      "1\n",
      "2\n",
      "3\n",
      "4\n",
      "5\n",
      "6\n",
      "7\n",
      "8\n",
      "9\n",
      "ที่ theshold เท่ากับ 0.12 ใช้เวลาไป 3.7810802459716797 นาที\n",
      "0\n",
      "1\n",
      "2\n",
      "3\n",
      "4\n",
      "5\n",
      "6\n",
      "7\n",
      "8\n",
      "9\n",
      "ที่ theshold เท่ากับ 0.15 ใช้เวลาไป 4.577086170514424 นาที\n",
      "0\n",
      "1\n",
      "2\n",
      "3\n",
      "4\n",
      "5\n",
      "6\n",
      "7\n",
      "8\n",
      "9\n",
      "ที่ theshold เท่ากับ 0.18 ใช้เวลาไป 4.546590801080068 นาที\n",
      "0\n",
      "1\n",
      "2\n",
      "3\n",
      "4\n",
      "5\n",
      "6\n",
      "7\n",
      "8\n",
      "9\n",
      "ที่ theshold เท่ากับ 0.21 ใช้เวลาไป 4.639644801616669 นาที\n",
      "0\n",
      "1\n",
      "2\n",
      "3\n",
      "4\n",
      "5\n",
      "6\n",
      "7\n",
      "8\n",
      "9\n",
      "ที่ theshold เท่ากับ 0.24 ใช้เวลาไป 4.968699169158936 นาที\n",
      "0\n",
      "1\n",
      "2\n",
      "3\n",
      "4\n",
      "5\n",
      "6\n",
      "7\n",
      "8\n",
      "9\n",
      "ที่ theshold เท่ากับ 0.27 ใช้เวลาไป 4.156079904238383 นาที\n",
      "0\n",
      "1\n",
      "2\n",
      "3\n",
      "4\n",
      "5\n",
      "6\n",
      "7\n",
      "8\n",
      "9\n",
      "ที่ theshold เท่ากับ 0.3 ใช้เวลาไป 3.607900353272756 นาที\n",
      "0\n",
      "1\n",
      "2\n",
      "3\n",
      "4\n",
      "5\n",
      "6\n",
      "7\n",
      "8\n",
      "9\n",
      "ที่ theshold เท่ากับ 0.33 ใช้เวลาไป 3.8282511194547015 นาที\n",
      "0\n",
      "1\n",
      "2\n",
      "3\n",
      "4\n",
      "5\n",
      "6\n",
      "7\n",
      "8\n",
      "9\n",
      "ที่ theshold เท่ากับ 0.36 ใช้เวลาไป 3.889289053281148 นาที\n",
      "0\n",
      "1\n",
      "2\n",
      "3\n",
      "4\n",
      "5\n",
      "6\n",
      "7\n",
      "8\n",
      "9\n",
      "ที่ theshold เท่ากับ 0.39 ใช้เวลาไป 4.19826123714447 นาที\n",
      "0\n",
      "1\n",
      "2\n",
      "3\n",
      "4\n",
      "5\n",
      "6\n",
      "7\n",
      "8\n",
      "9\n",
      "ที่ theshold เท่ากับ 0.42 ใช้เวลาไป 4.226389567057292 นาที\n",
      "0\n",
      "1\n",
      "2\n",
      "3\n",
      "4\n",
      "5\n",
      "6\n",
      "7\n",
      "8\n",
      "9\n",
      "ที่ theshold เท่ากับ 0.45 ใช้เวลาไป 10.253472717603048 นาที\n",
      "0\n",
      "1\n",
      "2\n",
      "3\n",
      "4\n",
      "5\n",
      "6\n",
      "7\n",
      "8\n",
      "9\n",
      "ที่ theshold เท่ากับ 0.48 ใช้เวลาไป 4.530488165219625 นาที\n",
      "0\n",
      "1\n",
      "2\n",
      "3\n",
      "4\n",
      "5\n",
      "6\n",
      "7\n",
      "8\n",
      "9\n",
      "ที่ theshold เท่ากับ 0.51 ใช้เวลาไป 3.694820217291514 นาที\n",
      "0\n",
      "1\n",
      "2\n",
      "3\n",
      "4\n",
      "5\n",
      "6\n",
      "7\n",
      "8\n",
      "9\n",
      "ที่ theshold เท่ากับ 0.54 ใช้เวลาไป 3.645307699839274 นาที\n",
      "0\n",
      "1\n",
      "2\n",
      "3\n",
      "4\n",
      "5\n",
      "6\n",
      "7\n",
      "8\n",
      "9\n",
      "ที่ theshold เท่ากับ 0.57 ใช้เวลาไป 4.363219066460927 นาที\n",
      "0\n",
      "1\n",
      "2\n",
      "3\n",
      "4\n",
      "5\n",
      "6\n",
      "7\n",
      "8\n",
      "9\n",
      "ที่ theshold เท่ากับ 0.6 ใช้เวลาไป 4.054854019482931 นาที\n",
      "0\n",
      "1\n",
      "2\n",
      "3\n",
      "4\n",
      "5\n",
      "6\n",
      "7\n",
      "8\n",
      "9\n",
      "ที่ theshold เท่ากับ 0.63 ใช้เวลาไป 4.391527950763702 นาที\n",
      "0\n",
      "1\n",
      "2\n",
      "3\n",
      "4\n",
      "5\n",
      "6\n",
      "7\n",
      "8\n",
      "9\n",
      "ที่ theshold เท่ากับ 0.66 ใช้เวลาไป 292.1941658139229 นาที\n",
      "0\n",
      "1\n",
      "2\n",
      "3\n",
      "4\n",
      "5\n",
      "6\n",
      "7\n",
      "8\n",
      "9\n",
      "ที่ theshold เท่ากับ 0.69 ใช้เวลาไป 4.790134863058726 นาที\n",
      "0\n",
      "1\n",
      "2\n",
      "3\n",
      "4\n",
      "5\n",
      "6\n",
      "7\n",
      "8\n",
      "9\n",
      "ที่ theshold เท่ากับ 0.72 ใช้เวลาไป 4.028652234872182 นาที\n",
      "0\n",
      "1\n",
      "2\n",
      "3\n",
      "4\n",
      "5\n",
      "6\n",
      "7\n",
      "8\n",
      "9\n",
      "ที่ theshold เท่ากับ 0.75 ใช้เวลาไป 5.148841885725657 นาที\n",
      "0\n",
      "1\n",
      "2\n",
      "3\n",
      "4\n",
      "5\n",
      "6\n",
      "7\n",
      "8\n",
      "9\n",
      "ที่ theshold เท่ากับ 0.78 ใช้เวลาไป 4.090616182486216 นาที\n",
      "0\n",
      "1\n",
      "2\n",
      "3\n",
      "4\n",
      "5\n",
      "6\n",
      "7\n",
      "8\n",
      "9\n",
      "ที่ theshold เท่ากับ 0.81 ใช้เวลาไป 3.9123262643814085 นาที\n",
      "0\n",
      "1\n",
      "2\n",
      "3\n",
      "4\n",
      "5\n",
      "6\n",
      "7\n",
      "8\n",
      "9\n",
      "ที่ theshold เท่ากับ 0.84 ใช้เวลาไป 4.094904987017314 นาที\n",
      "0\n",
      "1\n",
      "2\n",
      "3\n",
      "4\n",
      "5\n",
      "6\n",
      "7\n",
      "8\n",
      "9\n",
      "ที่ theshold เท่ากับ 0.87 ใช้เวลาไป 3.71814843416214 นาที\n",
      "0\n",
      "1\n",
      "2\n",
      "3\n",
      "4\n",
      "5\n",
      "6\n",
      "7\n",
      "8\n",
      "9\n",
      "ที่ theshold เท่ากับ 0.9 ใช้เวลาไป 4.118286565939585 นาที\n",
      "0\n",
      "1\n",
      "2\n",
      "3\n",
      "4\n",
      "5\n",
      "6\n",
      "7\n",
      "8\n",
      "9\n",
      "ที่ theshold เท่ากับ 0.93 ใช้เวลาไป 3.929053088029226 นาที\n",
      "0\n",
      "1\n",
      "2\n",
      "3\n",
      "4\n",
      "5\n",
      "6\n",
      "7\n",
      "8\n",
      "9\n",
      "ที่ theshold เท่ากับ 0.96 ใช้เวลาไป 4.185423250993093 นาที\n",
      "0\n",
      "1\n",
      "2\n",
      "3\n",
      "4\n",
      "5\n",
      "6\n",
      "7\n",
      "8\n",
      "9\n",
      "ที่ theshold เท่ากับ 0.99 ใช้เวลาไป 4.159346580505371 นาที\n",
      "ใช้เวลาไปทั้งหมด 434.69918096462885 นาที\n"
     ]
    }
   ],
   "source": [
    "[x_plot,precision_plot, recall_plot, f1_score_plot] = findBestTheshold(0.03)"
   ]
  },
  {
   "cell_type": "code",
   "execution_count": 74,
   "metadata": {},
   "outputs": [
    {
     "data": {
      "image/png": "[encoded data removed]",
      "text/plain": [
       "<matplotlib.figure.Figure at 0x10bccac88>"
      ]
     },
     "metadata": {},
     "output_type": "display_data"
    }
   ],
   "source": [
    "import matplotlib.pyplot as plt\n",
    "\n",
    "plt.plot(x_plot, precision_plot, x_plot, recall_plot, x_plot, f1_score_plot)\n",
    "plt.ylabel('Score')\n",
    "plt.show()"
   ]
  },
  {
   "cell_type": "code",
   "execution_count": null,
   "metadata": {},
   "outputs": [],
   "source": []
  }
 ],
 "metadata": {
  "kernelspec": {
   "display_name": "Python 3",
   "language": "python",
   "name": "python3"
  },
  "language_info": {
   "codemirror_mode": {
    "name": "ipython",
    "version": 3
   },
   "file_extension": ".py",
   "mimetype": "text/x-python",
   "name": "python",
   "nbconvert_exporter": "python",
   "pygments_lexer": "ipython3",
   "version": "3.6.3"
  }
 },
 "nbformat": 4,
 "nbformat_minor": 2
}
