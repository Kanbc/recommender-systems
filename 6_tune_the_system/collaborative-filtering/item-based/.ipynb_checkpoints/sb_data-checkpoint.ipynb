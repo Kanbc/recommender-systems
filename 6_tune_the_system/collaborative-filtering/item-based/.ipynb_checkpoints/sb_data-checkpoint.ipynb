{
 "cells": [
  {
   "cell_type": "markdown",
   "metadata": {},
   "source": [
    "# 1. Sampling Data"
   ]
  },
  {
   "cell_type": "markdown",
   "metadata": {},
   "source": [
    "random หยิบข้อมูลมาป้อนให้ model โดยสิ่งที่จะ random ประกอบด้วย \n",
    "- Test time : เวลาล่าสุดที่เรามีข้อมูล (ข้อมูลที่อยู่หลังจากเวลานี้จะแยกเก็บไว้ตรวจความแม่นของ model) > ได้ Order ที่ CREATE_DATE < เวลาที่สุ่มได้\n",
    "- User : สุ่ม User แค่ครั้งละ N คน\n",
    "- Map user-order กับ item\n",
    "- สร้าง pivot table "
   ]
  },
  {
   "cell_type": "code",
   "execution_count": 73,
   "metadata": {},
   "outputs": [],
   "source": [
    "import pandas as pd\n",
    "import datetime\n",
    "import random\n",
    "import numpy as np\n",
    "from random import randint\n",
    "\n",
    "from sklearn.metrics.pairwise import cosine_similarity\n",
    "\n",
    "order = pd.read_csv('../../../2_data/explored/order.csv', parse_dates=['CREATE_DATE','UPDATE_DATE'])\n",
    "item = pd.read_csv('../../../2_data/explored/order_item.csv')"
   ]
  },
  {
   "cell_type": "code",
   "execution_count": 74,
   "metadata": {},
   "outputs": [],
   "source": [
    "def sampling_sb_data(order, item, test_time, sample_number):\n",
    "    # Original Data Set     \n",
    "    print('ORIGINAL ORDERS :',len(order))\n",
    "    \n",
    "    # Order < Test Time\n",
    "    test_day = max(order['CREATE_DATE']) - datetime.timedelta(days=test_time)\n",
    "    new_order = order[order['CREATE_DATE'] < test_day]\n",
    "    answer = order[order['CREATE_DATE'] >= test_day]\n",
    "    print('NEW ORDERS :',len(new_order))\n",
    "    print('NEW ANSWER :',len(answer))\n",
    "    \n",
    "    # Sample Customer & Order\n",
    "    customer_id = new_order['CUSTOMER_ID'].unique()\n",
    "    print('UNIQUE CUSTOMERS :',len(customer_id))\n",
    "    sample_customer_id = np.unique(random.sample(population=list(customer_id), k=sample_number))\n",
    "    print('SAMPLE CUSTOMERS :',len(sample_customer_id))\n",
    "    sample_order = new_order[new_order['CUSTOMER_ID'].isin(list(sample_customer_id))]\n",
    "    sample_answer = answer[answer['CUSTOMER_ID'].isin(list(sample_customer_id))] \n",
    "    print('SAMPLE ORDERS :',len(sample_order))\n",
    "    print('SAMPLE ANSWER :',len(sample_answer))\n",
    "    \n",
    "    # Merge order-item\n",
    "    order_item = pd.merge(sample_order, item, on='ORDER_ID')\n",
    "    answer_item = pd.merge(sample_answer, item, on='ORDER_ID')\n",
    "    print('SAMPLE ORDER ITEM :',len(order_item))\n",
    "    print('SAMPLE ANSWER ITEM :',len(answer_item))\n",
    "    \n",
    "    new_order_item = order_item.copy()\n",
    "    new_answer_item = answer_item.copy()\n",
    "    del new_order_item['ORDER_ID']\n",
    "    del new_order_item['BPCODE']\n",
    "    del new_order_item['CREATE_DATE']\n",
    "    del new_order_item['UPDATE_DATE']\n",
    "    del new_order_item['STATUS']\n",
    "    del new_order_item['ORDER_ITEM_ID']\n",
    "    del new_order_item['TOTAL_PRICE']\n",
    "    \n",
    "    del new_answer_item['ORDER_ID']\n",
    "    del new_answer_item['BPCODE']\n",
    "    del new_answer_item['CREATE_DATE']\n",
    "    del new_answer_item['UPDATE_DATE']\n",
    "    del new_answer_item['STATUS']\n",
    "    del new_answer_item['ORDER_ITEM_ID']\n",
    "    del new_answer_item['TOTAL_PRICE']\n",
    "    \n",
    "    grouped = new_order_item.groupby(['CUSTOMER_ID','MATNR']).sum().reset_index()\n",
    "    grouped2 = new_answer_item.groupby(['CUSTOMER_ID','MATNR']).sum().reset_index()\n",
    "    grouped['QUANTITY'] = 1\n",
    "    grouped2['QUANTITY'] = 1\n",
    "    \n",
    "    # Pivot table\n",
    "    pivot_table = grouped.pivot(index='CUSTOMER_ID', columns='MATNR', values='QUANTITY')\n",
    "    print('PIVOT SHAPE :',pivot_table.shape)\n",
    "    \n",
    "    return [pivot_table,grouped2]"
   ]
  },
  {
   "cell_type": "code",
   "execution_count": 75,
   "metadata": {},
   "outputs": [],
   "source": [
    "def sampling_sb_data_clean(order, item, test_time, sample_number):    \n",
    "    # Order < Test Time\n",
    "    test_day = max(order['CREATE_DATE']) - datetime.timedelta(days=test_time)\n",
    "    new_order = order[order['CREATE_DATE'] < test_day]\n",
    "    answer = order[order['CREATE_DATE'] >= test_day]\n",
    "    \n",
    "    # Sample Customer & Order\n",
    "    customer_id = new_order['CUSTOMER_ID'].unique()\n",
    "    sample_customer_id = np.unique(random.sample(population=list(customer_id), k=sample_number))\n",
    "    sample_order = new_order[new_order['CUSTOMER_ID'].isin(list(sample_customer_id))]\n",
    "    sample_answer = answer[answer['CUSTOMER_ID'].isin(list(sample_customer_id))] \n",
    "    \n",
    "    # Merge order-item\n",
    "    order_item = pd.merge(sample_order, item, on='ORDER_ID')\n",
    "    answer_item = pd.merge(sample_answer, item, on='ORDER_ID')\n",
    "    \n",
    "    new_order_item = order_item.copy()\n",
    "    new_answer_item = answer_item.copy()\n",
    "    del new_order_item['ORDER_ID']\n",
    "    del new_order_item['BPCODE']\n",
    "    del new_order_item['CREATE_DATE']\n",
    "    del new_order_item['UPDATE_DATE']\n",
    "    del new_order_item['STATUS']\n",
    "    del new_order_item['ORDER_ITEM_ID']\n",
    "    del new_order_item['TOTAL_PRICE']\n",
    "    \n",
    "    del new_answer_item['ORDER_ID']\n",
    "    del new_answer_item['BPCODE']\n",
    "    del new_answer_item['CREATE_DATE']\n",
    "    del new_answer_item['UPDATE_DATE']\n",
    "    del new_answer_item['STATUS']\n",
    "    del new_answer_item['ORDER_ITEM_ID']\n",
    "    del new_answer_item['TOTAL_PRICE']\n",
    "    \n",
    "    grouped = new_order_item.groupby(['CUSTOMER_ID','MATNR']).sum().reset_index()\n",
    "    grouped2 = new_answer_item.groupby(['CUSTOMER_ID','MATNR']).sum().reset_index()\n",
    "    grouped['QUANTITY'] = 1\n",
    "    grouped2['QUANTITY'] = 1\n",
    "    \n",
    "    # Pivot table\n",
    "    pivot_table = grouped.pivot(index='CUSTOMER_ID', columns='MATNR', values='QUANTITY')\n",
    "    \n",
    "    return [pivot_table,grouped2]"
   ]
  },
  {
   "cell_type": "code",
   "execution_count": 76,
   "metadata": {},
   "outputs": [
    {
     "name": "stdout",
     "output_type": "stream",
     "text": [
      "ORIGINAL ORDERS : 11916\n",
      "NEW ORDERS : 8004\n",
      "NEW ANSWER : 3912\n",
      "UNIQUE CUSTOMERS : 4558\n",
      "SAMPLE CUSTOMERS : 100\n",
      "SAMPLE ORDERS : 177\n",
      "SAMPLE ANSWER : 10\n",
      "SAMPLE ORDER ITEM : 272\n",
      "SAMPLE ANSWER ITEM : 10\n",
      "PIVOT SHAPE : (100, 201)\n"
     ]
    }
   ],
   "source": [
    "[sample_pivot_table,answer] = sampling_sb_data(order,item,180,100)"
   ]
  },
  {
   "cell_type": "markdown",
   "metadata": {},
   "source": [
    "# 2. Create Model From Sampling"
   ]
  },
  {
   "cell_type": "markdown",
   "metadata": {},
   "source": [
    "สร้าง model จาก Sampling แบบข้อมูลชุดเดียว"
   ]
  },
  {
   "cell_type": "code",
   "execution_count": 77,
   "metadata": {},
   "outputs": [],
   "source": [
    "def cosine_similarity_between_item(pivot_table_df):\n",
    "    cv = pivot_table_df.copy().values\n",
    "\n",
    "    # filter NaN value to 0   \n",
    "    cv[np.isnan(cv)] = 0\n",
    "\n",
    "    cv = cosine_similarity(cv.T)        \n",
    "    column_name_list = list(pivot_table_df)\n",
    "    cv_df = pd.DataFrame(cv, index=column_name_list, columns=column_name_list)\n",
    "    return cv_df\n",
    "\n",
    "def prefiltering_of_neighbors(old_similar_table, thershold):\n",
    "    new_similar_table = old_similar_table.copy()\n",
    "    # Negative filtering & Thershold filtering\n",
    "    new_similar_table[new_similar_table < thershold] = 0\n",
    "    return new_similar_table\n",
    "\n",
    "def cs_classification_predicted_score(pivot_table,weight,output_set):\n",
    "    # initial variable\n",
    "    score_table = pivot_table.copy()\n",
    "    number_of_item = score_table.shape[1]\n",
    "    \n",
    "    # get NaN index\n",
    "    nan_index = np.argwhere(np.isnan(score_table).values)\n",
    "    \n",
    "    # for loop to predict each NaN and fill value to it       \n",
    "    for nan_pos in nan_index:\n",
    "        r_score = np.array([])\n",
    "        u,i = nan_pos[0],nan_pos[1]\n",
    "        ru = score_table.values[u,:]\n",
    "        wi = weight.values[i]\n",
    "        wi[i] = 0\n",
    "        \n",
    "        for r in output_set:\n",
    "            r_array,delta_r = np.array([r]*number_of_item),np.array([0]*number_of_item)\n",
    "            delta_r[r_array == ru]  = 1\n",
    "            vir = sum(wi*delta_r)\n",
    "            r_score = np.append(r_score, vir)\n",
    "        \n",
    "        score_table.values[u][i] = output_set[np.argmax(r_score)]\n",
    "        \n",
    "    return score_table"
   ]
  },
  {
   "cell_type": "code",
   "execution_count": 78,
   "metadata": {},
   "outputs": [],
   "source": [
    "similarity_weight = cosine_similarity_between_item(sample_pivot_table)\n",
    "prefiltering_sw = prefiltering_of_neighbors(similarity_weight, 0.1)\n",
    "predicted_table = cs_classification_predicted_score(sample_pivot_table,prefiltering_sw,[0,1])"
   ]
  },
  {
   "cell_type": "code",
   "execution_count": 79,
   "metadata": {},
   "outputs": [
    {
     "data": {
      "text/html": [
       "<div>\n",
       "<style>\n",
       "    .dataframe thead tr:only-child th {\n",
       "        text-align: right;\n",
       "    }\n",
       "\n",
       "    .dataframe thead th {\n",
       "        text-align: left;\n",
       "    }\n",
       "\n",
       "    .dataframe tbody tr th {\n",
       "        vertical-align: top;\n",
       "    }\n",
       "</style>\n",
       "<table border=\"1\" class=\"dataframe\">\n",
       "  <thead>\n",
       "    <tr style=\"text-align: right;\">\n",
       "      <th>MATNR</th>\n",
       "      <th>19008833</th>\n",
       "      <th>19015840</th>\n",
       "      <th>19023002</th>\n",
       "      <th>19023492</th>\n",
       "      <th>19026316</th>\n",
       "      <th>19030280</th>\n",
       "      <th>19036407</th>\n",
       "      <th>19036595</th>\n",
       "      <th>19036598</th>\n",
       "      <th>19036616</th>\n",
       "      <th>...</th>\n",
       "      <th>59012408</th>\n",
       "      <th>59012432</th>\n",
       "      <th>59012678</th>\n",
       "      <th>59012763</th>\n",
       "      <th>59012841</th>\n",
       "      <th>59013028</th>\n",
       "      <th>59013067</th>\n",
       "      <th>59013828</th>\n",
       "      <th>59013829</th>\n",
       "      <th>59014423</th>\n",
       "    </tr>\n",
       "    <tr>\n",
       "      <th>CUSTOMER_ID</th>\n",
       "      <th></th>\n",
       "      <th></th>\n",
       "      <th></th>\n",
       "      <th></th>\n",
       "      <th></th>\n",
       "      <th></th>\n",
       "      <th></th>\n",
       "      <th></th>\n",
       "      <th></th>\n",
       "      <th></th>\n",
       "      <th></th>\n",
       "      <th></th>\n",
       "      <th></th>\n",
       "      <th></th>\n",
       "      <th></th>\n",
       "      <th></th>\n",
       "      <th></th>\n",
       "      <th></th>\n",
       "      <th></th>\n",
       "      <th></th>\n",
       "      <th></th>\n",
       "    </tr>\n",
       "  </thead>\n",
       "  <tbody>\n",
       "    <tr>\n",
       "      <th>2429</th>\n",
       "      <td>0.0</td>\n",
       "      <td>0.0</td>\n",
       "      <td>0.0</td>\n",
       "      <td>0.0</td>\n",
       "      <td>0.0</td>\n",
       "      <td>0.0</td>\n",
       "      <td>0.0</td>\n",
       "      <td>0.0</td>\n",
       "      <td>0.0</td>\n",
       "      <td>0.0</td>\n",
       "      <td>...</td>\n",
       "      <td>0.0</td>\n",
       "      <td>0.0</td>\n",
       "      <td>1.0</td>\n",
       "      <td>0.0</td>\n",
       "      <td>1.0</td>\n",
       "      <td>0.0</td>\n",
       "      <td>0.0</td>\n",
       "      <td>0.0</td>\n",
       "      <td>0.0</td>\n",
       "      <td>0.0</td>\n",
       "    </tr>\n",
       "    <tr>\n",
       "      <th>5066</th>\n",
       "      <td>0.0</td>\n",
       "      <td>0.0</td>\n",
       "      <td>0.0</td>\n",
       "      <td>0.0</td>\n",
       "      <td>0.0</td>\n",
       "      <td>0.0</td>\n",
       "      <td>0.0</td>\n",
       "      <td>0.0</td>\n",
       "      <td>0.0</td>\n",
       "      <td>0.0</td>\n",
       "      <td>...</td>\n",
       "      <td>0.0</td>\n",
       "      <td>0.0</td>\n",
       "      <td>0.0</td>\n",
       "      <td>0.0</td>\n",
       "      <td>0.0</td>\n",
       "      <td>0.0</td>\n",
       "      <td>0.0</td>\n",
       "      <td>0.0</td>\n",
       "      <td>0.0</td>\n",
       "      <td>0.0</td>\n",
       "    </tr>\n",
       "    <tr>\n",
       "      <th>7322</th>\n",
       "      <td>0.0</td>\n",
       "      <td>1.0</td>\n",
       "      <td>0.0</td>\n",
       "      <td>0.0</td>\n",
       "      <td>0.0</td>\n",
       "      <td>0.0</td>\n",
       "      <td>0.0</td>\n",
       "      <td>0.0</td>\n",
       "      <td>0.0</td>\n",
       "      <td>0.0</td>\n",
       "      <td>...</td>\n",
       "      <td>0.0</td>\n",
       "      <td>0.0</td>\n",
       "      <td>0.0</td>\n",
       "      <td>0.0</td>\n",
       "      <td>0.0</td>\n",
       "      <td>0.0</td>\n",
       "      <td>0.0</td>\n",
       "      <td>0.0</td>\n",
       "      <td>0.0</td>\n",
       "      <td>0.0</td>\n",
       "    </tr>\n",
       "    <tr>\n",
       "      <th>8803</th>\n",
       "      <td>0.0</td>\n",
       "      <td>0.0</td>\n",
       "      <td>0.0</td>\n",
       "      <td>0.0</td>\n",
       "      <td>0.0</td>\n",
       "      <td>0.0</td>\n",
       "      <td>0.0</td>\n",
       "      <td>0.0</td>\n",
       "      <td>0.0</td>\n",
       "      <td>0.0</td>\n",
       "      <td>...</td>\n",
       "      <td>0.0</td>\n",
       "      <td>0.0</td>\n",
       "      <td>0.0</td>\n",
       "      <td>0.0</td>\n",
       "      <td>0.0</td>\n",
       "      <td>0.0</td>\n",
       "      <td>0.0</td>\n",
       "      <td>0.0</td>\n",
       "      <td>0.0</td>\n",
       "      <td>0.0</td>\n",
       "    </tr>\n",
       "    <tr>\n",
       "      <th>10214</th>\n",
       "      <td>0.0</td>\n",
       "      <td>0.0</td>\n",
       "      <td>0.0</td>\n",
       "      <td>0.0</td>\n",
       "      <td>0.0</td>\n",
       "      <td>0.0</td>\n",
       "      <td>0.0</td>\n",
       "      <td>0.0</td>\n",
       "      <td>0.0</td>\n",
       "      <td>0.0</td>\n",
       "      <td>...</td>\n",
       "      <td>0.0</td>\n",
       "      <td>0.0</td>\n",
       "      <td>0.0</td>\n",
       "      <td>0.0</td>\n",
       "      <td>0.0</td>\n",
       "      <td>0.0</td>\n",
       "      <td>0.0</td>\n",
       "      <td>0.0</td>\n",
       "      <td>0.0</td>\n",
       "      <td>0.0</td>\n",
       "    </tr>\n",
       "  </tbody>\n",
       "</table>\n",
       "<p>5 rows × 201 columns</p>\n",
       "</div>"
      ],
      "text/plain": [
       "MATNR        19008833  19015840  19023002  19023492  19026316  19030280  \\\n",
       "CUSTOMER_ID                                                               \n",
       "2429              0.0       0.0       0.0       0.0       0.0       0.0   \n",
       "5066              0.0       0.0       0.0       0.0       0.0       0.0   \n",
       "7322              0.0       1.0       0.0       0.0       0.0       0.0   \n",
       "8803              0.0       0.0       0.0       0.0       0.0       0.0   \n",
       "10214             0.0       0.0       0.0       0.0       0.0       0.0   \n",
       "\n",
       "MATNR        19036407  19036595  19036598  19036616    ...     59012408  \\\n",
       "CUSTOMER_ID                                            ...                \n",
       "2429              0.0       0.0       0.0       0.0    ...          0.0   \n",
       "5066              0.0       0.0       0.0       0.0    ...          0.0   \n",
       "7322              0.0       0.0       0.0       0.0    ...          0.0   \n",
       "8803              0.0       0.0       0.0       0.0    ...          0.0   \n",
       "10214             0.0       0.0       0.0       0.0    ...          0.0   \n",
       "\n",
       "MATNR        59012432  59012678  59012763  59012841  59013028  59013067  \\\n",
       "CUSTOMER_ID                                                               \n",
       "2429              0.0       1.0       0.0       1.0       0.0       0.0   \n",
       "5066              0.0       0.0       0.0       0.0       0.0       0.0   \n",
       "7322              0.0       0.0       0.0       0.0       0.0       0.0   \n",
       "8803              0.0       0.0       0.0       0.0       0.0       0.0   \n",
       "10214             0.0       0.0       0.0       0.0       0.0       0.0   \n",
       "\n",
       "MATNR        59013828  59013829  59014423  \n",
       "CUSTOMER_ID                                \n",
       "2429              0.0       0.0       0.0  \n",
       "5066              0.0       0.0       0.0  \n",
       "7322              0.0       0.0       0.0  \n",
       "8803              0.0       0.0       0.0  \n",
       "10214             0.0       0.0       0.0  \n",
       "\n",
       "[5 rows x 201 columns]"
      ]
     },
     "execution_count": 79,
     "metadata": {},
     "output_type": "execute_result"
    }
   ],
   "source": [
    "predicted_table.head()"
   ]
  },
  {
   "cell_type": "markdown",
   "metadata": {},
   "source": [
    "# 3. Evaluate Model"
   ]
  },
  {
   "cell_type": "markdown",
   "metadata": {},
   "source": [
    "สร้าง item(order) list ของ users แต่ละคนจากข้อมูลที่ตัดแบ่งไว้ตอนแรกก่อน"
   ]
  },
  {
   "cell_type": "code",
   "execution_count": 80,
   "metadata": {},
   "outputs": [
    {
     "name": "stdout",
     "output_type": "stream",
     "text": [
      "ORIGINAL ORDERS : 11916\n",
      "NEW ORDERS : 8004\n",
      "NEW ANSWER : 3912\n",
      "UNIQUE CUSTOMERS : 4558\n",
      "SAMPLE CUSTOMERS : 100\n",
      "SAMPLE ORDERS : 199\n",
      "SAMPLE ANSWER : 11\n",
      "SAMPLE ORDER ITEM : 343\n",
      "SAMPLE ANSWER ITEM : 12\n",
      "PIVOT SHAPE : (100, 239)\n"
     ]
    }
   ],
   "source": [
    "[sample_pivot_table,answer] = sampling_sb_data(order,item,180,100)\n",
    "similarity_weight = cosine_similarity_between_item(sample_pivot_table)\n",
    "prefiltering_sw = prefiltering_of_neighbors(similarity_weight, 0.1)\n",
    "predicted_table = cs_classification_predicted_score(sample_pivot_table,prefiltering_sw,[0,1])"
   ]
  },
  {
   "cell_type": "markdown",
   "metadata": {},
   "source": [
    "หา True Positive"
   ]
  },
  {
   "cell_type": "code",
   "execution_count": 81,
   "metadata": {},
   "outputs": [],
   "source": [
    "def true_positive(predicted_pivot, answer):\n",
    "    predicted_table = pd.DataFrame(predicted_pivot.unstack()).groupby(['CUSTOMER_ID','MATNR']).sum().reset_index()\n",
    "    predicted_item = predicted_table[predicted_table[0]==1]\n",
    "    upper = len(pd.merge(answer, predicted_item, how='inner', on=['CUSTOMER_ID','MATNR']))\n",
    "    return upper"
   ]
  },
  {
   "cell_type": "code",
   "execution_count": 82,
   "metadata": {},
   "outputs": [
    {
     "data": {
      "text/plain": [
       "0"
      ]
     },
     "execution_count": 82,
     "metadata": {},
     "output_type": "execute_result"
    }
   ],
   "source": [
    "true_positive(predicted_table,answer)"
   ]
  },
  {
   "cell_type": "markdown",
   "metadata": {},
   "source": [
    "หา False Positive"
   ]
  },
  {
   "cell_type": "code",
   "execution_count": 83,
   "metadata": {},
   "outputs": [],
   "source": [
    "def false_positive(predicted_pivot, answer):\n",
    "    predicted_table = pd.DataFrame(predicted_pivot.unstack()).groupby(['CUSTOMER_ID','MATNR']).sum().reset_index()\n",
    "    predicted_item = predicted_table[predicted_table[0]==1]\n",
    "    upper = pd.merge(predicted_item, answer, how='left', on=['CUSTOMER_ID','MATNR'])\n",
    "    return sum(np.isnan(upper['QUANTITY']))"
   ]
  },
  {
   "cell_type": "code",
   "execution_count": 102,
   "metadata": {},
   "outputs": [
    {
     "data": {
      "text/plain": [
       "558"
      ]
     },
     "execution_count": 102,
     "metadata": {},
     "output_type": "execute_result"
    }
   ],
   "source": [
    "false_positive(predicted_table,answer)"
   ]
  },
  {
   "cell_type": "markdown",
   "metadata": {},
   "source": [
    "หา False Negative"
   ]
  },
  {
   "cell_type": "code",
   "execution_count": 108,
   "metadata": {},
   "outputs": [],
   "source": [
    "def false_negative(predicted_pivot, answer):\n",
    "    predicted_table = pd.DataFrame(predicted_pivot.unstack()).groupby(['CUSTOMER_ID','MATNR']).sum().reset_index()\n",
    "    predicted_item = predicted_table[predicted_table[0]==1]\n",
    "    upper = pd.merge(answer, predicted_item, how='left', on=['CUSTOMER_ID','MATNR'])\n",
    "    return sum(np.isnan(upper[0]))"
   ]
  },
  {
   "cell_type": "code",
   "execution_count": 109,
   "metadata": {},
   "outputs": [
    {
     "data": {
      "text/plain": [
       "10"
      ]
     },
     "execution_count": 109,
     "metadata": {},
     "output_type": "execute_result"
    }
   ],
   "source": [
    "false_negative(predicted_table,answer)"
   ]
  },
  {
   "cell_type": "markdown",
   "metadata": {},
   "source": [
    "ได้ $$ \\text{Precision} = \\frac{\\text{tp}}{\\text{tp} + \\text{fp}} $$"
   ]
  },
  {
   "cell_type": "code",
   "execution_count": 85,
   "metadata": {},
   "outputs": [],
   "source": [
    "def precision(predicted_pivot,answer):\n",
    "    pcs = true_positive(predicted_pivot,answer)/(true_positive(predicted_pivot,answer) + false_positive(predicted_pivot,answer))\n",
    "    return pcs"
   ]
  },
  {
   "cell_type": "code",
   "execution_count": 110,
   "metadata": {},
   "outputs": [
    {
     "data": {
      "text/plain": [
       "0.0"
      ]
     },
     "execution_count": 110,
     "metadata": {},
     "output_type": "execute_result"
    }
   ],
   "source": [
    "precision(predicted_table,answer)"
   ]
  },
  {
   "cell_type": "code",
   "execution_count": 111,
   "metadata": {},
   "outputs": [],
   "source": [
    "def recall(predicted_pivot,answer):\n",
    "    pcs = true_positive(predicted_pivot,answer)/(true_positive(predicted_pivot,answer) + false_negative(predicted_pivot,answer))\n",
    "    return pcs"
   ]
  },
  {
   "cell_type": "code",
   "execution_count": 112,
   "metadata": {},
   "outputs": [
    {
     "data": {
      "text/plain": [
       "0.0"
      ]
     },
     "execution_count": 112,
     "metadata": {},
     "output_type": "execute_result"
    }
   ],
   "source": [
    "recall(predicted_table,answer)"
   ]
  },
  {
   "cell_type": "markdown",
   "metadata": {},
   "source": [
    "พิจารณาช่วงวันระหว่างมากสุดถึงน้อยสุด ต้องการสุ่มให้มีหัว-หางเหลืออย่างน้อย 100 ตัว ดังนั้นจะได้ 100 < test_days < 737"
   ]
  },
  {
   "cell_type": "code",
   "execution_count": 94,
   "metadata": {},
   "outputs": [
    {
     "data": {
      "text/plain": [
       "837"
      ]
     },
     "execution_count": 94,
     "metadata": {},
     "output_type": "execute_result"
    }
   ],
   "source": [
    "(max(order['CREATE_DATE']) - min(order['CREATE_DATE'])).days"
   ]
  },
  {
   "cell_type": "code",
   "execution_count": 96,
   "metadata": {},
   "outputs": [
    {
     "data": {
      "text/plain": [
       "6539"
      ]
     },
     "execution_count": 96,
     "metadata": {},
     "output_type": "execute_result"
    }
   ],
   "source": [
    "len(order['CUSTOMER_ID'].unique())"
   ]
  },
  {
   "cell_type": "markdown",
   "metadata": {},
   "source": [
    "ส่วน CUSTOMER มี 6539 กะว่าเอา 200-300 คน"
   ]
  },
  {
   "cell_type": "markdown",
   "metadata": {},
   "source": [
    "ทำ iteration สัก 10 ครั้งเพื่อพิจารณา precission"
   ]
  },
  {
   "cell_type": "code",
   "execution_count": 115,
   "metadata": {},
   "outputs": [
    {
     "name": "stdout",
     "output_type": "stream",
     "text": [
      "0\n",
      "1\n",
      "2\n",
      "3\n",
      "4\n",
      "5\n",
      "6\n",
      "7\n",
      "8\n",
      "9\n",
      "[ 0.00120773  0.00147493  0.00162734  0.0012848   0.00384986  0.\n",
      "  0.00191571  0.          0.00139227  0.        ]\n"
     ]
    }
   ],
   "source": [
    "precision_array = np.array([])\n",
    "recall_array = np.array([])\n",
    "\n",
    "for i in range(10):\n",
    "    [sample_pivot_table1,answer1] = sampling_sb_data_clean(order,item,randint(200, 300),randint(200, 300))\n",
    "    similarity_weight1 = cosine_similarity_between_item(sample_pivot_table1)\n",
    "    prefiltering_sw1 = prefiltering_of_neighbors(similarity_weight1, 0.1)\n",
    "    predicted_table1 = cs_classification_predicted_score(sample_pivot_table1,prefiltering_sw1,[0,1])\n",
    "    precision_array = np.append(precision_array,precision(predicted_table1,answer1))\n",
    "    recall_array = np.append(recall_array,recall(predicted_table1,answer1))\n",
    "    print(i)\n",
    "\n",
    "print(precision_array)"
   ]
  },
  {
   "cell_type": "code",
   "execution_count": 116,
   "metadata": {},
   "outputs": [
    {
     "data": {
      "text/plain": [
       "array([ 0.00120773,  0.00147493,  0.00162734,  0.0012848 ,  0.00384986,\n",
       "        0.        ,  0.00191571,  0.        ,  0.00139227,  0.        ])"
      ]
     },
     "execution_count": 116,
     "metadata": {},
     "output_type": "execute_result"
    }
   ],
   "source": [
    "precision_array"
   ]
  },
  {
   "cell_type": "code",
   "execution_count": 117,
   "metadata": {},
   "outputs": [
    {
     "data": {
      "text/plain": [
       "array([ 0.02941176,  0.02083333,  0.08      ,  0.03846154,  0.0952381 ,\n",
       "        0.        ,  0.04411765,  0.        ,  0.05479452,  0.        ])"
      ]
     },
     "execution_count": 117,
     "metadata": {},
     "output_type": "execute_result"
    }
   ],
   "source": [
    "recall_array"
   ]
  },
  {
   "cell_type": "code",
   "execution_count": 119,
   "metadata": {},
   "outputs": [
    {
     "name": "stderr",
     "output_type": "stream",
     "text": [
      "/anaconda3/lib/python3.6/site-packages/ipykernel_launcher.py:1: RuntimeWarning: invalid value encountered in true_divide\n",
      "  \"\"\"Entry point for launching an IPython kernel.\n"
     ]
    },
    {
     "data": {
      "text/plain": [
       "array([ 0.00232019,  0.00275482,  0.00318979,  0.00248653,  0.00740056,\n",
       "               nan,  0.00367197,         nan,  0.00271555,         nan])"
      ]
     },
     "execution_count": 119,
     "metadata": {},
     "output_type": "execute_result"
    }
   ],
   "source": [
    "F1score = 2*precision_array*recall_array/(precision_array+recall_array)\n",
    "F1score"
   ]
  },
  {
   "cell_type": "code",
   "execution_count": 120,
   "metadata": {},
   "outputs": [
    {
     "data": {
      "text/plain": [
       "0.0012752628924566204"
      ]
     },
     "execution_count": 120,
     "metadata": {},
     "output_type": "execute_result"
    }
   ],
   "source": [
    "np.average(precision_array)"
   ]
  },
  {
   "cell_type": "code",
   "execution_count": 121,
   "metadata": {},
   "outputs": [
    {
     "data": {
      "text/plain": [
       "0.036285689934561813"
      ]
     },
     "execution_count": 121,
     "metadata": {},
     "output_type": "execute_result"
    }
   ],
   "source": [
    "np.average(recall_array)"
   ]
  },
  {
   "cell_type": "code",
   "execution_count": 122,
   "metadata": {},
   "outputs": [
    {
     "data": {
      "text/plain": [
       "0.0035056289533448907"
      ]
     },
     "execution_count": 122,
     "metadata": {},
     "output_type": "execute_result"
    }
   ],
   "source": [
    "np.nanmean(F1score)"
   ]
  },
  {
   "cell_type": "code",
   "execution_count": null,
   "metadata": {},
   "outputs": [],
   "source": []
  }
 ],
 "metadata": {
  "kernelspec": {
   "display_name": "Python 3",
   "language": "python",
   "name": "python3"
  },
  "language_info": {
   "codemirror_mode": {
    "name": "ipython",
    "version": 3
   },
   "file_extension": ".py",
   "mimetype": "text/x-python",
   "name": "python",
   "nbconvert_exporter": "python",
   "pygments_lexer": "ipython3",
   "version": "3.6.3"
  }
 },
 "nbformat": 4,
 "nbformat_minor": 2
}
