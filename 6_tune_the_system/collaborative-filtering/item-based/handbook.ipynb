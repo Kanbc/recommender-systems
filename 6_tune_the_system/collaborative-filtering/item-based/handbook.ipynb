{
 "cells": [
  {
   "cell_type": "markdown",
   "metadata": {},
   "source": [
    "# 6 Experimental Settings"
   ]
  },
  {
   "cell_type": "markdown",
   "metadata": {},
   "source": [
    "## 6.4 RSs Properties"
   ]
  },
  {
   "cell_type": "markdown",
   "metadata": {},
   "source": [
    "6.4.1 User Preference"
   ]
  },
  {
   "cell_type": "markdown",
   "metadata": {},
   "source": [
    "6.4.2 Prediction Accuracy\n",
    "\n",
    "6.4.2.1 Measuring Ratings Prediction Accuracy\n",
    "\n",
    "6.4.2.2 Measuring Usage Prediction\n",
    "\n",
    "6.4.2.3 Ranking Measures (-281)"
   ]
  },
  {
   "cell_type": "markdown",
   "metadata": {},
   "source": [
    "## 6.1 Offline Experiments (261-263)"
   ]
  },
  {
   "cell_type": "markdown",
   "metadata": {},
   "source": [
    "- Sampling Item (5 ชิ้น ล่าสุด ไล่จากวันสุดท้ายย้อนหลังไปวันเริ่มต้น) & User (90% มีข้อมูล แล้วเอาค่าเฉลี่ยไป predict อีกให้ 10%)\n",
    "- หา %error(Precision/Recall/F1Score) + Plot ตาม 0-1(Wmin), 0-N"
   ]
  },
  {
   "cell_type": "markdown",
   "metadata": {},
   "source": [
    "## 6.2 User Studies (263-266)"
   ]
  },
  {
   "cell_type": "markdown",
   "metadata": {},
   "source": [
    "## 6.3 Online Evaluation (266-267)"
   ]
  },
  {
   "cell_type": "code",
   "execution_count": null,
   "metadata": {},
   "outputs": [],
   "source": []
  }
 ],
 "metadata": {
  "kernelspec": {
   "display_name": "Python 3",
   "language": "python",
   "name": "python3"
  },
  "language_info": {
   "codemirror_mode": {
    "name": "ipython",
    "version": 3
   },
   "file_extension": ".py",
   "mimetype": "text/x-python",
   "name": "python",
   "nbconvert_exporter": "python",
   "pygments_lexer": "ipython3",
   "version": "3.6.3"
  }
 },
 "nbformat": 4,
 "nbformat_minor": 2
}
