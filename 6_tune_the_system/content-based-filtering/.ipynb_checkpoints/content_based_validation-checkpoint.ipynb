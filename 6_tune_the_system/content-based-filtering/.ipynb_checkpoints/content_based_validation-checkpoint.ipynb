{
 "cells": [
  {
   "cell_type": "code",
   "execution_count": 1,
   "metadata": {
    "collapsed": true
   },
   "outputs": [],
   "source": [
    "import unicodecsv\n",
    "import pandas as pd\n",
    "import numpy as np\n",
    "import seaborn as sns\n",
    "%matplotlib inline\n",
    "import matplotlib.pyplot as plt\n",
    "from itertools import chain\n",
    "import random\n",
    "\n",
    "def read_csv(filename):\n",
    "    with open(filename, 'rb') as f:\n",
    "        reader = unicodecsv.DictReader(f)\n",
    "        return list(reader)"
   ]
  },
  {
   "cell_type": "markdown",
   "metadata": {},
   "source": [
    "# Sampling Data"
   ]
  },
  {
   "cell_type": "code",
   "execution_count": 2,
   "metadata": {
    "collapsed": true
   },
   "outputs": [],
   "source": [
    "order = pd.read_csv('../../2_data/prepared/order_item_merge.csv')"
   ]
  },
  {
   "cell_type": "code",
   "execution_count": 3,
   "metadata": {},
   "outputs": [
    {
     "data": {
      "text/plain": [
       "16972"
      ]
     },
     "execution_count": 3,
     "metadata": {},
     "output_type": "execute_result"
    }
   ],
   "source": [
    "order['CREATE_DATE'] = pd.to_datetime(order['CREATE_DATE'])\n",
    "order = order.sort_values('CREATE_DATE', ascending=True)\n",
    "len(order)"
   ]
  },
  {
   "cell_type": "markdown",
   "metadata": {},
   "source": [
    "เช็ควันที่นานที่สุดและวันที่ล่าสุด"
   ]
  },
  {
   "cell_type": "code",
   "execution_count": 4,
   "metadata": {},
   "outputs": [
    {
     "name": "stdout",
     "output_type": "stream",
     "text": [
      "2015-10-05 18:39:10\n",
      "2018-01-20 10:18:07\n"
     ]
    }
   ],
   "source": [
    "print(order['CREATE_DATE'].min())\n",
    "print(order['CREATE_DATE'].max())"
   ]
  },
  {
   "cell_type": "markdown",
   "metadata": {},
   "source": [
    "หาส่วนต่างของช่วงเวลา"
   ]
  },
  {
   "cell_type": "code",
   "execution_count": 5,
   "metadata": {
    "scrolled": false
   },
   "outputs": [
    {
     "data": {
      "text/plain": [
       "Timedelta('837 days 15:38:57')"
      ]
     },
     "execution_count": 5,
     "metadata": {},
     "output_type": "execute_result"
    }
   ],
   "source": [
    "time_min = order['CREATE_DATE'].min()\n",
    "time_max = order['CREATE_DATE'].max()\n",
    "time_delta = time_max - time_min\n",
    "time_delta"
   ]
  },
  {
   "cell_type": "markdown",
   "metadata": {},
   "source": [
    "ให้ข้อมูล <span style=\"color:red\">70%</span> ของช่วงเวลานำมาเป็น <span style=\"color:red\">Train set</span>"
   ]
  },
  {
   "cell_type": "code",
   "execution_count": 6,
   "metadata": {},
   "outputs": [
    {
     "data": {
      "text/plain": [
       "Timestamp('2017-05-14 03:12:25.900000')"
      ]
     },
     "execution_count": 6,
     "metadata": {},
     "output_type": "execute_result"
    }
   ],
   "source": [
    "time_70 = time_delta * 0.7\n",
    "time_train = time_min + time_70\n",
    "time_train"
   ]
  },
  {
   "cell_type": "code",
   "execution_count": 7,
   "metadata": {
    "scrolled": true
   },
   "outputs": [
    {
     "name": "stdout",
     "output_type": "stream",
     "text": [
      "คิดเป็น 55.67% ของข้อมูลทั้งหมด\n"
     ]
    }
   ],
   "source": [
    "order_70 =  order[order['CREATE_DATE'] < time_train]\n",
    "data_percentage = (len(order_70)/len(order))*100 # % of data\n",
    "print(\"คิดเป็น %.2f%% ของข้อมูลทั้งหมด\" % (data_percentage))"
   ]
  },
  {
   "cell_type": "code",
   "execution_count": 8,
   "metadata": {
    "collapsed": true
   },
   "outputs": [],
   "source": [
    "import numpy as np\n",
    "matnr = order_70['MATNR']\n",
    "matnr_train = matnr.tolist()"
   ]
  },
  {
   "cell_type": "markdown",
   "metadata": {},
   "source": [
    "ให้ข้อมูลของช่วงเวลาที่เหลือ <span style=\"color:blue\">30%</span> เป็น <span style=\"color:blue\">Test set</span>"
   ]
  },
  {
   "cell_type": "code",
   "execution_count": 9,
   "metadata": {},
   "outputs": [
    {
     "data": {
      "text/plain": [
       "[25026282, 19062257, 19087908, 19117427, 19035150]"
      ]
     },
     "execution_count": 9,
     "metadata": {},
     "output_type": "execute_result"
    }
   ],
   "source": [
    "order_30 =  order[order['CREATE_DATE'] > time_train]\n",
    "matnr_test = order_30['MATNR'].tolist()\n",
    "matnr_test[:5]"
   ]
  },
  {
   "cell_type": "markdown",
   "metadata": {},
   "source": [
    "##  Train Model"
   ]
  },
  {
   "cell_type": "code",
   "execution_count": 11,
   "metadata": {
    "scrolled": true
   },
   "outputs": [
    {
     "data": {
      "text/html": [
       "<div>\n",
       "<style>\n",
       "    .dataframe thead tr:only-child th {\n",
       "        text-align: right;\n",
       "    }\n",
       "\n",
       "    .dataframe thead th {\n",
       "        text-align: left;\n",
       "    }\n",
       "\n",
       "    .dataframe tbody tr th {\n",
       "        vertical-align: top;\n",
       "    }\n",
       "</style>\n",
       "<table border=\"1\" class=\"dataframe\">\n",
       "  <thead>\n",
       "    <tr style=\"text-align: right;\">\n",
       "      <th></th>\n",
       "      <th>MATNR</th>\n",
       "      <th>Model</th>\n",
       "      <th>Color</th>\n",
       "      <th>Style</th>\n",
       "      <th>Cat2</th>\n",
       "      <th>Model_id</th>\n",
       "      <th>Color_id</th>\n",
       "      <th>Style_id</th>\n",
       "      <th>Cat2_id</th>\n",
       "    </tr>\n",
       "  </thead>\n",
       "  <tbody>\n",
       "    <tr>\n",
       "      <th>0</th>\n",
       "      <td>19047936</td>\n",
       "      <td>Patisia</td>\n",
       "      <td>White</td>\n",
       "      <td>Vintage</td>\n",
       "      <td>ตู้ข้างเตียง</td>\n",
       "      <td>2886</td>\n",
       "      <td>16</td>\n",
       "      <td>24</td>\n",
       "      <td>61</td>\n",
       "    </tr>\n",
       "    <tr>\n",
       "      <th>1</th>\n",
       "      <td>19045101</td>\n",
       "      <td>Cannery</td>\n",
       "      <td>Yellow</td>\n",
       "      <td>Modern</td>\n",
       "      <td>โซฟา 3 ที่นั่ง</td>\n",
       "      <td>719</td>\n",
       "      <td>17</td>\n",
       "      <td>12</td>\n",
       "      <td>203</td>\n",
       "    </tr>\n",
       "    <tr>\n",
       "      <th>2</th>\n",
       "      <td>19050282</td>\n",
       "      <td>zNone</td>\n",
       "      <td>Multi-Colour</td>\n",
       "      <td>Vintage</td>\n",
       "      <td>กรอบรูป</td>\n",
       "      <td>8226</td>\n",
       "      <td>10</td>\n",
       "      <td>24</td>\n",
       "      <td>5</td>\n",
       "    </tr>\n",
       "    <tr>\n",
       "      <th>3</th>\n",
       "      <td>59000365</td>\n",
       "      <td>Meudon</td>\n",
       "      <td>Black</td>\n",
       "      <td>Contemporary</td>\n",
       "      <td>ชุดห้องนอน</td>\n",
       "      <td>2542</td>\n",
       "      <td>1</td>\n",
       "      <td>5</td>\n",
       "      <td>51</td>\n",
       "    </tr>\n",
       "    <tr>\n",
       "      <th>4</th>\n",
       "      <td>59001810</td>\n",
       "      <td>Alicia</td>\n",
       "      <td>White</td>\n",
       "      <td>Modern</td>\n",
       "      <td>ชุดห้องนอน</td>\n",
       "      <td>295</td>\n",
       "      <td>16</td>\n",
       "      <td>12</td>\n",
       "      <td>51</td>\n",
       "    </tr>\n",
       "  </tbody>\n",
       "</table>\n",
       "</div>"
      ],
      "text/plain": [
       "      MATNR    Model         Color         Style            Cat2  Model_id  \\\n",
       "0  19047936  Patisia         White       Vintage    ตู้ข้างเตียง      2886   \n",
       "1  19045101  Cannery        Yellow        Modern  โซฟา 3 ที่นั่ง       719   \n",
       "2  19050282    zNone  Multi-Colour       Vintage         กรอบรูป      8226   \n",
       "3  59000365   Meudon         Black  Contemporary      ชุดห้องนอน      2542   \n",
       "4  59001810   Alicia         White        Modern      ชุดห้องนอน       295   \n",
       "\n",
       "   Color_id  Style_id  Cat2_id  \n",
       "0        16        24       61  \n",
       "1        17        12      203  \n",
       "2        10        24        5  \n",
       "3         1         5       51  \n",
       "4        16        12       51  "
      ]
     },
     "execution_count": 11,
     "metadata": {},
     "output_type": "execute_result"
    }
   ],
   "source": [
    "df_product_id = pd.read_csv('../../5_promissing_models/content-based-filtering/model/data/product_id_md1.csv')\n",
    "df_product_id.head()"
   ]
  },
  {
   "cell_type": "code",
   "execution_count": 46,
   "metadata": {
    "collapsed": true
   },
   "outputs": [],
   "source": [
    "from sklearn.neighbors import NearestNeighbors\n",
    "\n",
    "def model(matnr):\n",
    "    try:\n",
    "        input_item = matnr \n",
    "        input_index = df_product_id.index[df_product_id['MATNR'] == input_item].tolist()[0]\n",
    "        call_frame = df_product_id.loc[(df_product_id.MATNR.isin([input_item])), ['Color_id', 'Style_id', 'Cat2_id']]\n",
    "        item = call_frame.values\n",
    "        product = df_product_id.iloc[:,6:9].values\n",
    "        nbrs = NearestNeighbors(n_neighbors=26).fit(product)\n",
    "        nbrs_res = nbrs.kneighbors([item[0]])[1]\n",
    "        nbrs_list = nbrs_res.tolist()[0]\n",
    "        while input_index in nbrs_list: nbrs_list.remove(input_index)\n",
    "        result = nbrs_list\n",
    "        df_result = df_product_id.iloc[result]\n",
    "        result_matnr = df_result['MATNR']\n",
    "        list_matnr = result_matnr.tolist()\n",
    "    except (IndexError, ValueError):\n",
    "        list_matnr = [0]\n",
    "    return list_matnr"
   ]
  },
  {
   "cell_type": "markdown",
   "metadata": {},
   "source": [
    "สร้างตัวแปรใช้ในการเก็บข้อมูล"
   ]
  },
  {
   "cell_type": "code",
   "execution_count": 47,
   "metadata": {
    "collapsed": true
   },
   "outputs": [],
   "source": [
    "result_item_0 = []\n",
    "result_item_1 = []\n",
    "result_item_2 = []\n",
    "result_item_3 = []\n",
    "result_item_4 = []\n",
    "result_item_5 = []\n",
    "result_item_6 = []\n",
    "result_item_7 = []\n",
    "result_item_8 = []\n",
    "result_item_9 = []\n",
    "result_item_10 = []\n",
    "result_item_11 = []\n",
    "result_item_12 = []\n",
    "result_item_13 = []\n",
    "result_item_14 = []\n",
    "result_item_15 = []\n",
    "result_item_16 = []\n",
    "result_item_17 = []\n",
    "result_item_18 = []\n",
    "result_item_19 = []\n",
    "result_item_20 = []\n",
    "result_item_21 = []\n",
    "result_item_22 = []\n",
    "result_item_23 = []\n",
    "result_item_24 = []\n",
    "result_item_25 = []\n",
    "point_m1_1 = []\n",
    "precision_md1_1 = []\n",
    "recall_md1_1 = []\n",
    "point_m1_2 = []\n",
    "precision_md1_2 = []\n",
    "recall_md1_2 = []\n",
    "point_m1_3 = []\n",
    "precision_md1_3 = []\n",
    "recall_md1_3 = []\n",
    "point_m1_4 = []\n",
    "precision_md1_4 = []\n",
    "recall_md1_4 = []\n",
    "point_m1_5 = []\n",
    "precision_md1_5 = []\n",
    "recall_md1_5 = []\n",
    "point_m1_6 = []\n",
    "precision_md1_6 = []\n",
    "recall_md1_6 = []\n",
    "point_m1_7 = []\n",
    "precision_md1_7 = []\n",
    "recall_md1_7 = []\n",
    "point_m1_8 = []\n",
    "precision_md1_8 = []\n",
    "recall_md1_8 = []\n",
    "point_m1_9 = []\n",
    "precision_md1_9 = []\n",
    "recall_md1_9 = []\n",
    "point_m1_10 = []\n",
    "precision_md1_10 = []\n",
    "recall_md1_10 = []\n",
    "point_m1_11 = []\n",
    "precision_md1_11 = []\n",
    "recall_md1_11 = []\n",
    "point_m1_12 = []\n",
    "precision_md1_12 = []\n",
    "recall_md1_12 = []\n",
    "point_m1_13 = []\n",
    "precision_md1_13 = []\n",
    "recall_md1_13 = []\n",
    "point_m1_14 = []\n",
    "precision_md1_14 = []\n",
    "recall_md1_14 = []\n",
    "point_m1_15 = []\n",
    "precision_md1_15 = []\n",
    "recall_md1_15 = []\n",
    "point_m1_16 = []\n",
    "precision_md1_16 = []\n",
    "recall_md1_16 = []\n",
    "point_m1_17 = []\n",
    "precision_md1_17 = []\n",
    "recall_md1_17 = []\n",
    "point_m1_18 = []\n",
    "precision_md1_18 = []\n",
    "recall_md1_18 = []\n",
    "point_m1_19 = []\n",
    "precision_md1_19 = []\n",
    "recall_md1_19 = []\n",
    "point_m1_20 = []\n",
    "precision_md1_20 = []\n",
    "recall_md1_20 = []\n",
    "point_m1_21 = []\n",
    "precision_md1_21 = []\n",
    "recall_md1_21 = []\n",
    "point_m1_22 = []\n",
    "precision_md1_22 = []\n",
    "recall_md1_22 = []\n",
    "point_m1_23 = []\n",
    "precision_md1_23 = []\n",
    "recall_md1_23 = []\n",
    "point_m1_24 = []\n",
    "precision_md1_24 = []\n",
    "recall_md1_24 = []\n",
    "point_m1_25 = []\n",
    "precision_md1_25 = []\n",
    "recall_md1_25 = []"
   ]
  },
  {
   "cell_type": "code",
   "execution_count": 48,
   "metadata": {
    "scrolled": true
   },
   "outputs": [
    {
     "name": "stdout",
     "output_type": "stream",
     "text": [
      "ใช้เวลาทั้งสิ้น 51.080123937129976 นาที\n"
     ]
    }
   ],
   "source": [
    "import time\n",
    "start_time = time.time()\n",
    "\n",
    "iterate = 30 #จำนวนการทำซ้ำ\n",
    "for i in range(iterate):\n",
    "    random_matnr = random.sample(matnr_train, 100) #จำนวนข้อมูลที่จะถูกนำไป Train\n",
    "    sampling = random_matnr\n",
    "    for x in sampling:\n",
    "        res_arr = model(x)\n",
    "        result_item_0.append(res_arr[:0])\n",
    "        result_item_1.append(res_arr[:1])\n",
    "        result_item_2.append(res_arr[:2])\n",
    "        result_item_3.append(res_arr[:3])\n",
    "        result_item_4.append(res_arr[:4])\n",
    "        result_item_5.append(res_arr[:5])\n",
    "        result_item_6.append(res_arr[:6])\n",
    "        result_item_7.append(res_arr[:7])\n",
    "        result_item_8.append(res_arr[:8])\n",
    "        result_item_9.append(res_arr[:9])\n",
    "        result_item_10.append(res_arr[:10])\n",
    "        result_item_11.append(res_arr[:11])\n",
    "        result_item_12.append(res_arr[:12])\n",
    "        result_item_13.append(res_arr[:13])\n",
    "        result_item_14.append(res_arr[:14])\n",
    "        result_item_15.append(res_arr[:15])\n",
    "        result_item_16.append(res_arr[:16])\n",
    "        result_item_17.append(res_arr[:17])\n",
    "        result_item_18.append(res_arr[:18])\n",
    "        result_item_19.append(res_arr[:19])\n",
    "        result_item_20.append(res_arr[:20])\n",
    "        result_item_21.append(res_arr[:21])\n",
    "        result_item_22.append(res_arr[:22])\n",
    "        result_item_23.append(res_arr[:23])\n",
    "        result_item_24.append(res_arr[:24])\n",
    "        result_item_25.append(res_arr[:25])\n",
    "    flatten_result_train_0 = list(chain.from_iterable(result_item_0))\n",
    "    flatten_result_train_1 = list(chain.from_iterable(result_item_1))\n",
    "    flatten_result_train_2 = list(chain.from_iterable(result_item_2))\n",
    "    flatten_result_train_3 = list(chain.from_iterable(result_item_3))\n",
    "    flatten_result_train_4 = list(chain.from_iterable(result_item_4))\n",
    "    flatten_result_train_5 = list(chain.from_iterable(result_item_5))\n",
    "    flatten_result_train_6 = list(chain.from_iterable(result_item_6))\n",
    "    flatten_result_train_7 = list(chain.from_iterable(result_item_7))\n",
    "    flatten_result_train_8 = list(chain.from_iterable(result_item_8))\n",
    "    flatten_result_train_9 = list(chain.from_iterable(result_item_9))\n",
    "    flatten_result_train_10 = list(chain.from_iterable(result_item_10))\n",
    "    flatten_result_train_11 = list(chain.from_iterable(result_item_11))\n",
    "    flatten_result_train_12 = list(chain.from_iterable(result_item_12))\n",
    "    flatten_result_train_13 = list(chain.from_iterable(result_item_13))\n",
    "    flatten_result_train_14 = list(chain.from_iterable(result_item_14))\n",
    "    flatten_result_train_15 = list(chain.from_iterable(result_item_15))\n",
    "    flatten_result_train_16 = list(chain.from_iterable(result_item_16))\n",
    "    flatten_result_train_17 = list(chain.from_iterable(result_item_17))\n",
    "    flatten_result_train_18 = list(chain.from_iterable(result_item_18))\n",
    "    flatten_result_train_19 = list(chain.from_iterable(result_item_19))\n",
    "    flatten_result_train_20 = list(chain.from_iterable(result_item_20))\n",
    "    flatten_result_train_21 = list(chain.from_iterable(result_item_21))\n",
    "    flatten_result_train_22 = list(chain.from_iterable(result_item_22))\n",
    "    flatten_result_train_23 = list(chain.from_iterable(result_item_23))\n",
    "    flatten_result_train_24 = list(chain.from_iterable(result_item_24))\n",
    "    flatten_result_train_25 = list(chain.from_iterable(result_item_25))\n",
    "    for x in matnr_test:\n",
    "        if x in flatten_result_train_1:\n",
    "            point_m1_1.append(1)\n",
    "        elif x not in flatten_result_train_1:\n",
    "            point_m1_1.append(0)\n",
    "    for x in flatten_result_train_1:\n",
    "        if x not in matnr_test:\n",
    "            point_m1_1.append(2)\n",
    "    precision_1 = (point_m1_1.count(1) / (point_m1_1.count(1) + point_m1_1.count(0)))\n",
    "    recall_1 = (point_m1_1.count(1) / (point_m1_1.count(1) + point_m1_1.count(2)))\n",
    "    precision_md1_1.append(precision_1)\n",
    "    recall_md1_1.append(recall_1)\n",
    "\n",
    "    for x in matnr_test:\n",
    "        if x in flatten_result_train_2:\n",
    "            point_m1_2.append(1)\n",
    "        elif x not in flatten_result_train_2:\n",
    "            point_m1_2.append(0)\n",
    "    for x in flatten_result_train_2:\n",
    "        if x not in matnr_test:\n",
    "            point_m1_2.append(2)\n",
    "    precision_2 = (point_m1_2.count(1) / (point_m1_2.count(1) + point_m1_2.count(0)))\n",
    "    recall_2 = (point_m1_2.count(1) / (point_m1_2.count(1) + point_m1_2.count(2)))\n",
    "    precision_md1_2.append(precision_2)\n",
    "    recall_md1_2.append(recall_2)\n",
    "    \n",
    "    for x in matnr_test:\n",
    "        if x in flatten_result_train_3:\n",
    "            point_m1_3.append(1)\n",
    "        elif x not in flatten_result_train_3:\n",
    "            point_m1_3.append(0)\n",
    "    for x in flatten_result_train_3:\n",
    "        if x not in matnr_test:\n",
    "            point_m1_3.append(2)\n",
    "    precision_3 = (point_m1_3.count(1) / (point_m1_3.count(1) + point_m1_3.count(0)))\n",
    "    recall_3 = (point_m1_3.count(1) / (point_m1_3.count(1) + point_m1_3.count(2)))\n",
    "    precision_md1_3.append(precision_3)\n",
    "    recall_md1_3.append(recall_3)\n",
    "\n",
    "    for x in matnr_test:\n",
    "        if x in flatten_result_train_4:\n",
    "            point_m1_4.append(1)\n",
    "        elif x not in flatten_result_train_4:\n",
    "            point_m1_4.append(0)\n",
    "    for x in flatten_result_train_4:\n",
    "        if x not in matnr_test:\n",
    "            point_m1_4.append(2)\n",
    "    precision_4 = (point_m1_4.count(1) / (point_m1_4.count(1) + point_m1_4.count(0)))\n",
    "    recall_4 = (point_m1_4.count(1) / (point_m1_4.count(1) + point_m1_4.count(2)))\n",
    "    precision_md1_4.append(precision_4)\n",
    "    recall_md1_4.append(recall_4)\n",
    "\n",
    "    for x in matnr_test:\n",
    "        if x in flatten_result_train_5:\n",
    "            point_m1_5.append(1)\n",
    "        elif x not in flatten_result_train_5:\n",
    "            point_m1_5.append(0)\n",
    "    for x in flatten_result_train_5:\n",
    "        if x not in matnr_test:\n",
    "            point_m1_5.append(2)\n",
    "    precision_5 = (point_m1_5.count(1) / (point_m1_5.count(1) + point_m1_5.count(0)))\n",
    "    recall_5 = (point_m1_5.count(1) / (point_m1_5.count(1) + point_m1_5.count(2)))\n",
    "    precision_md1_5.append(precision_5)\n",
    "    recall_md1_5.append(recall_5)\n",
    "    \n",
    "    for x in matnr_test:\n",
    "        if x in flatten_result_train_6:\n",
    "            point_m1_6.append(1)\n",
    "        elif x not in flatten_result_train_6:\n",
    "            point_m1_6.append(0)\n",
    "    for x in flatten_result_train_6:\n",
    "        if x not in matnr_test:\n",
    "            point_m1_6.append(2)\n",
    "    precision_6 = (point_m1_6.count(1) / (point_m1_6.count(1) + point_m1_6.count(0)))\n",
    "    recall_6 = (point_m1_6.count(1) / (point_m1_6.count(1) + point_m1_6.count(2)))\n",
    "    precision_md1_6.append(precision_6)\n",
    "    recall_md1_6.append(recall_6)\n",
    "    \n",
    "    for x in matnr_test:\n",
    "        if x in flatten_result_train_7:\n",
    "            point_m1_7.append(1)\n",
    "        elif x not in flatten_result_train_7:\n",
    "            point_m1_7.append(0)\n",
    "    for x in flatten_result_train_7:\n",
    "        if x not in matnr_test:\n",
    "            point_m1_7.append(2)\n",
    "    precision_7 = (point_m1_7.count(1) / (point_m1_7.count(1) + point_m1_7.count(0)))\n",
    "    recall_7 = (point_m1_7.count(1) / (point_m1_7.count(1) + point_m1_7.count(2)))\n",
    "    precision_md1_7.append(precision_7)\n",
    "    recall_md1_7.append(recall_7)\n",
    "    \n",
    "    for x in matnr_test:\n",
    "        if x in flatten_result_train_8:\n",
    "            point_m1_8.append(1)\n",
    "        elif x not in flatten_result_train_8:\n",
    "            point_m1_8.append(0)\n",
    "    for x in flatten_result_train_8:\n",
    "        if x not in matnr_test:\n",
    "            point_m1_8.append(2)\n",
    "    precision_8 = (point_m1_8.count(1) / (point_m1_8.count(1) + point_m1_8.count(0)))\n",
    "    recall_8 = (point_m1_8.count(1) / (point_m1_8.count(1) + point_m1_8.count(2)))\n",
    "    precision_md1_8.append(precision_8)\n",
    "    recall_md1_8.append(recall_8)\n",
    "\n",
    "    for x in matnr_test:\n",
    "        if x in flatten_result_train_9:\n",
    "            point_m1_9.append(1)\n",
    "        elif x not in flatten_result_train_9:\n",
    "            point_m1_9.append(0)\n",
    "    for x in flatten_result_train_9:\n",
    "        if x not in matnr_test:\n",
    "            point_m1_9.append(2)\n",
    "    precision_9 = (point_m1_9.count(1) / (point_m1_9.count(1) + point_m1_9.count(0)))\n",
    "    recall_9 = (point_m1_9.count(1) / (point_m1_9.count(1) + point_m1_9.count(2)))\n",
    "    precision_md1_9.append(precision_9)\n",
    "    recall_md1_9.append(recall_9)\n",
    "\n",
    "    for x in matnr_test:\n",
    "        if x in flatten_result_train_10:\n",
    "            point_m1_10.append(1)\n",
    "        elif x not in flatten_result_train_10:\n",
    "            point_m1_10.append(0)\n",
    "    for x in flatten_result_train_10:\n",
    "        if x not in matnr_test:\n",
    "            point_m1_10.append(2)\n",
    "    precision_10 = (point_m1_10.count(1) / (point_m1_10.count(1) + point_m1_10.count(0)))\n",
    "    recall_10 = (point_m1_10.count(1) / (point_m1_10.count(1) + point_m1_10.count(2)))\n",
    "    precision_md1_10.append(precision_10)\n",
    "    recall_md1_10.append(recall_10)\n",
    "    \n",
    "    for x in matnr_test:\n",
    "        if x in flatten_result_train_11:\n",
    "            point_m1_11.append(1)\n",
    "        elif x not in flatten_result_train_11:\n",
    "            point_m1_11.append(0)\n",
    "    for x in flatten_result_train_11:\n",
    "        if x not in matnr_test:\n",
    "            point_m1_11.append(2)\n",
    "    precision_11 = (point_m1_11.count(1) / (point_m1_11.count(1) + point_m1_11.count(0)))\n",
    "    recall_11 = (point_m1_11.count(1) / (point_m1_11.count(1) + point_m1_11.count(2)))\n",
    "    precision_md1_11.append(precision_11)\n",
    "    recall_md1_11.append(recall_11)\n",
    "\n",
    "    for x in matnr_test:\n",
    "        if x in flatten_result_train_12:\n",
    "            point_m1_12.append(1)\n",
    "        elif x not in flatten_result_train_12:\n",
    "            point_m1_12.append(0)\n",
    "    for x in flatten_result_train_12:\n",
    "        if x not in matnr_test:\n",
    "            point_m1_12.append(2)\n",
    "    precision_12 = (point_m1_12.count(1) / (point_m1_12.count(1) + point_m1_12.count(0)))\n",
    "    recall_12 = (point_m1_12.count(1) / (point_m1_12.count(1) + point_m1_12.count(2)))\n",
    "    precision_md1_12.append(precision_12)\n",
    "    recall_md1_12.append(recall_12)\n",
    "    \n",
    "    for x in matnr_test:\n",
    "        if x in flatten_result_train_13:\n",
    "            point_m1_13.append(1)\n",
    "        elif x not in flatten_result_train_13:\n",
    "            point_m1_13.append(0)\n",
    "    for x in flatten_result_train_13:\n",
    "        if x not in matnr_test:\n",
    "            point_m1_13.append(2)\n",
    "    precision_13 = (point_m1_13.count(1) / (point_m1_13.count(1) + point_m1_13.count(0)))\n",
    "    recall_13 = (point_m1_13.count(1) / (point_m1_13.count(1) + point_m1_13.count(2)))\n",
    "    precision_md1_13.append(precision_13)\n",
    "    recall_md1_13.append(recall_13)\n",
    "    \n",
    "    for x in matnr_test:\n",
    "        if x in flatten_result_train_14:\n",
    "            point_m1_14.append(1)\n",
    "        elif x not in flatten_result_train_14:\n",
    "            point_m1_14.append(0)\n",
    "    for x in flatten_result_train_14:\n",
    "        if x not in matnr_test:\n",
    "            point_m1_14.append(2)\n",
    "    precision_14 = (point_m1_14.count(1) / (point_m1_14.count(1) + point_m1_14.count(0)))\n",
    "    recall_14 = (point_m1_14.count(1) / (point_m1_14.count(1) + point_m1_14.count(2)))\n",
    "    precision_md1_14.append(precision_14)\n",
    "    recall_md1_14.append(recall_14)\n",
    "\n",
    "    for x in matnr_test:\n",
    "        if x in flatten_result_train_15:\n",
    "            point_m1_15.append(1)\n",
    "        elif x not in flatten_result_train_15:\n",
    "            point_m1_15.append(0)\n",
    "    for x in flatten_result_train_15:\n",
    "        if x not in matnr_test:\n",
    "            point_m1_15.append(2)\n",
    "    precision_15 = (point_m1_15.count(1) / (point_m1_15.count(1) + point_m1_15.count(0)))\n",
    "    recall_15 = (point_m1_15.count(1) / (point_m1_15.count(1) + point_m1_15.count(2)))\n",
    "    precision_md1_15.append(precision_15)\n",
    "    recall_md1_15.append(recall_15)\n",
    "\n",
    "    for x in matnr_test:\n",
    "        if x in flatten_result_train_16:\n",
    "            point_m1_16.append(1)\n",
    "        elif x not in flatten_result_train_16:\n",
    "            point_m1_16.append(0)\n",
    "    for x in flatten_result_train_16:\n",
    "        if x not in matnr_test:\n",
    "            point_m1_16.append(2)\n",
    "    precision_16 = (point_m1_16.count(1) / (point_m1_16.count(1) + point_m1_16.count(0)))\n",
    "    recall_16 = (point_m1_16.count(1) / (point_m1_16.count(1) + point_m1_16.count(2)))\n",
    "    precision_md1_16.append(precision_16)\n",
    "    recall_md1_16.append(recall_16)\n",
    "\n",
    "    for x in matnr_test:\n",
    "        if x in flatten_result_train_17:\n",
    "            point_m1_17.append(1)\n",
    "        elif x not in flatten_result_train_17:\n",
    "            point_m1_17.append(0)\n",
    "    for x in flatten_result_train_17:\n",
    "        if x not in matnr_test:\n",
    "            point_m1_17.append(2)\n",
    "    precision_17 = (point_m1_17.count(1) / (point_m1_17.count(1) + point_m1_17.count(0)))\n",
    "    recall_17 = (point_m1_17.count(1) / (point_m1_17.count(1) + point_m1_17.count(2)))\n",
    "    precision_md1_17.append(precision_17)\n",
    "    recall_md1_17.append(recall_17)\n",
    "\n",
    "    for x in matnr_test:\n",
    "        if x in flatten_result_train_18:\n",
    "            point_m1_18.append(1)\n",
    "        elif x not in flatten_result_train_18:\n",
    "            point_m1_18.append(0)\n",
    "    for x in flatten_result_train_18:\n",
    "        if x not in matnr_test:\n",
    "            point_m1_18.append(2)\n",
    "    precision_18 = (point_m1_18.count(1) / (point_m1_18.count(1) + point_m1_18.count(0)))\n",
    "    recall_18 = (point_m1_18.count(1) / (point_m1_18.count(1) + point_m1_18.count(2)))\n",
    "    precision_md1_18.append(precision_18)\n",
    "    recall_md1_18.append(recall_18)\n",
    "\n",
    "    for x in matnr_test:\n",
    "        if x in flatten_result_train_19:\n",
    "            point_m1_19.append(1)\n",
    "        elif x not in flatten_result_train_19:\n",
    "            point_m1_19.append(0)\n",
    "    for x in flatten_result_train_19:\n",
    "        if x not in matnr_test:\n",
    "            point_m1_19.append(2)\n",
    "    precision_19 = (point_m1_19.count(1) / (point_m1_19.count(1) + point_m1_19.count(0)))\n",
    "    recall_19 = (point_m1_19.count(1) / (point_m1_19.count(1) + point_m1_19.count(2)))\n",
    "    precision_md1_19.append(precision_19)\n",
    "    recall_md1_19.append(recall_19)\n",
    "\n",
    "    for x in matnr_test:\n",
    "        if x in flatten_result_train_20:\n",
    "            point_m1_20.append(1)\n",
    "        elif x not in flatten_result_train_20:\n",
    "            point_m1_20.append(0)\n",
    "    for x in flatten_result_train_20:\n",
    "        if x not in matnr_test:\n",
    "            point_m1_20.append(2)\n",
    "    precision_20 = (point_m1_20.count(1) / (point_m1_20.count(1) + point_m1_20.count(0)))\n",
    "    recall_20 = (point_m1_20.count(1) / (point_m1_20.count(1) + point_m1_20.count(2)))\n",
    "    precision_md1_20.append(precision_20)\n",
    "    recall_md1_20.append(recall_20)\n",
    "\n",
    "    for x in matnr_test:\n",
    "        if x in flatten_result_train_21:\n",
    "            point_m1_21.append(1)\n",
    "        elif x not in flatten_result_train_21:\n",
    "            point_m1_21.append(0)\n",
    "    for x in flatten_result_train_21:\n",
    "        if x not in matnr_test:\n",
    "            point_m1_21.append(2)\n",
    "    precision_21 = (point_m1_21.count(1) / (point_m1_21.count(1) + point_m1_21.count(0)))\n",
    "    recall_21 = (point_m1_21.count(1) / (point_m1_21.count(1) + point_m1_21.count(2)))\n",
    "    precision_md1_21.append(precision_21)\n",
    "    recall_md1_21.append(recall_21)\n",
    "\n",
    "    for x in matnr_test:\n",
    "        if x in flatten_result_train_22:\n",
    "            point_m1_22.append(1)\n",
    "        elif x not in flatten_result_train_22:\n",
    "            point_m1_22.append(0)\n",
    "    for x in flatten_result_train_22:\n",
    "        if x not in matnr_test:\n",
    "            point_m1_22.append(2)\n",
    "    precision_22 = (point_m1_22.count(1) / (point_m1_22.count(1) + point_m1_22.count(0)))\n",
    "    recall_22 = (point_m1_22.count(1) / (point_m1_22.count(1) + point_m1_22.count(2)))\n",
    "    precision_md1_22.append(precision_22)\n",
    "    recall_md1_22.append(recall_22)\n",
    "\n",
    "    for x in matnr_test:\n",
    "        if x in flatten_result_train_23:\n",
    "            point_m1_23.append(1)\n",
    "        elif x not in flatten_result_train_23:\n",
    "            point_m1_23.append(0)\n",
    "    for x in flatten_result_train_23:\n",
    "        if x not in matnr_test:\n",
    "            point_m1_23.append(2)\n",
    "    precision_23 = (point_m1_23.count(1) / (point_m1_23.count(1) + point_m1_23.count(0)))\n",
    "    recall_23 = (point_m1_23.count(1) / (point_m1_23.count(1) + point_m1_23.count(2)))\n",
    "    precision_md1_23.append(precision_23)\n",
    "    recall_md1_23.append(recall_23)\n",
    "\n",
    "    for x in matnr_test:\n",
    "        if x in flatten_result_train_24:\n",
    "            point_m1_24.append(1)\n",
    "        elif x not in flatten_result_train_24:\n",
    "            point_m1_24.append(0)\n",
    "    for x in flatten_result_train_24:\n",
    "        if x not in matnr_test:\n",
    "            point_m1_24.append(2)\n",
    "    precision_24 = (point_m1_24.count(1) / (point_m1_24.count(1) + point_m1_24.count(0)))\n",
    "    recall_24 = (point_m1_24.count(1) / (point_m1_24.count(1) + point_m1_24.count(2)))\n",
    "    precision_md1_24.append(precision_24)\n",
    "    recall_md1_24.append(recall_24)\n",
    "\n",
    "    for x in matnr_test:\n",
    "        if x in flatten_result_train_25:\n",
    "            point_m1_25.append(1)\n",
    "        elif x not in flatten_result_train_25:\n",
    "            point_m1_25.append(0)\n",
    "    for x in flatten_result_train_25:\n",
    "        if x not in matnr_test:\n",
    "            point_m1_25.append(2)\n",
    "    precision_25 = (point_m1_25.count(1) / (point_m1_25.count(1) + point_m1_25.count(0)))\n",
    "    recall_25 = (point_m1_25.count(1) / (point_m1_25.count(1) + point_m1_25.count(2)))\n",
    "    precision_md1_25.append(precision_25)\n",
    "    recall_md1_25.append(recall_25)\n",
    "print(\"ใช้เวลาทั้งสิ้น %s นาที\" % ((time.time() - start_time)/60))"
   ]
  },
  {
   "cell_type": "markdown",
   "metadata": {},
   "source": [
    "# Evaluate "
   ]
  },
  {
   "cell_type": "markdown",
   "metadata": {},
   "source": [
    "<b>Compute <span style=\"color:red\">F1 Score, Precision, Recall</span></b>"
   ]
  },
  {
   "cell_type": "code",
   "execution_count": 49,
   "metadata": {},
   "outputs": [
    {
     "name": "stdout",
     "output_type": "stream",
     "text": [
      "ใช้เวลาทั้งสิ้น 0.004005908966064453 วินาที\n"
     ]
    }
   ],
   "source": [
    "start_time = time.time()\n",
    "precision = []\n",
    "recall = []\n",
    "f1_score = []\n",
    "\n",
    "pre_0 = 0\n",
    "rec_0 = 0\n",
    "f1_k0 = 0\n",
    "precision.append(pre_0)\n",
    "recall.append(rec_0)\n",
    "f1_score.append(f1_k0)\n",
    "\n",
    "pre_1 = np.array(precision_md1_1).mean()\n",
    "rec_1 = np.array(recall_md1_1).mean()\n",
    "f1_score_k_1 = 2 * ((pre_1 * rec_1)/(pre_1 + rec_1))\n",
    "f1_k1 = f1_score_k_1.mean()\n",
    "precision.append(pre_1)\n",
    "recall.append(rec_1)\n",
    "f1_score.append(f1_k1)\n",
    "\n",
    "pre_2 = np.array(precision_md1_2).mean()\n",
    "rec_2 = np.array(recall_md1_2).mean()\n",
    "f1_score_k_2 = 2 * ((pre_2 * rec_2)/(pre_2 + rec_2))\n",
    "f1_k2 = f1_score_k_2.mean()\n",
    "precision.append(pre_2)\n",
    "recall.append(rec_2)\n",
    "f1_score.append(f1_k2)\n",
    "\n",
    "pre_3 = np.array(precision_md1_3).mean()\n",
    "rec_3 = np.array(recall_md1_3).mean()\n",
    "f1_score_k_3 = 2 * ((pre_3 * rec_3)/(pre_3 + rec_3))\n",
    "f1_k3 = f1_score_k_3.mean()\n",
    "precision.append(pre_3)\n",
    "recall.append(rec_3)\n",
    "f1_score.append(f1_k3)\n",
    "\n",
    "pre_4 = np.array(precision_md1_4).mean()\n",
    "rec_4 = np.array(recall_md1_4).mean()\n",
    "f1_score_k_4 = 2 * ((pre_4 * rec_4)/(pre_4 + rec_4))\n",
    "f1_k4 = f1_score_k_4.mean()\n",
    "precision.append(pre_4)\n",
    "recall.append(rec_4)\n",
    "f1_score.append(f1_k4)\n",
    "\n",
    "pre_5 = np.array(precision_md1_5).mean()\n",
    "rec_5 = np.array(recall_md1_5).mean()\n",
    "f1_score_k_5 = 2 * ((pre_5 * rec_5)/(pre_5 + rec_5))\n",
    "f1_k5 = f1_score_k_5.mean()\n",
    "precision.append(pre_5)\n",
    "recall.append(rec_5)\n",
    "f1_score.append(f1_k5)\n",
    "\n",
    "pre_6 = np.array(precision_md1_6).mean()\n",
    "rec_6 = np.array(recall_md1_6).mean()\n",
    "f1_score_k_6 = 2 * ((pre_6 * rec_6)/(pre_6 + rec_6))\n",
    "f1_k6 = f1_score_k_6.mean()\n",
    "precision.append(pre_6)\n",
    "recall.append(rec_6)\n",
    "f1_score.append(f1_k6)\n",
    "\n",
    "pre_7 = np.array(precision_md1_7).mean()\n",
    "rec_7 = np.array(recall_md1_7).mean()\n",
    "f1_score_k_7 = 2 * ((pre_7 * rec_7)/(pre_7 + rec_7))\n",
    "f1_k7 = f1_score_k_7.mean()\n",
    "precision.append(pre_7)\n",
    "recall.append(rec_7)\n",
    "f1_score.append(f1_k7)\n",
    "\n",
    "pre_8 = np.array(precision_md1_8).mean()\n",
    "rec_8 = np.array(recall_md1_8).mean()\n",
    "f1_score_k_8 = 2 * ((pre_8 * rec_8)/(pre_8 + rec_8))\n",
    "f1_k8 = f1_score_k_8.mean()\n",
    "precision.append(pre_8)\n",
    "recall.append(rec_8)\n",
    "f1_score.append(f1_k8)\n",
    "\n",
    "pre_9 = np.array(precision_md1_9).mean()\n",
    "rec_9 = np.array(recall_md1_9).mean()\n",
    "f1_score_k_9 = 2 * ((pre_9 * rec_9)/(pre_9 + rec_9))\n",
    "f1_k9 = f1_score_k_9.mean()\n",
    "precision.append(pre_9)\n",
    "recall.append(rec_9)\n",
    "f1_score.append(f1_k9)\n",
    "\n",
    "pre_10 = np.array(precision_md1_10).mean()\n",
    "rec_10 = np.array(recall_md1_10).mean()\n",
    "f1_score_k_10 = 2 * ((pre_10 * rec_10)/(pre_10 + rec_10))\n",
    "f1_k10 = f1_score_k_10.mean()\n",
    "precision.append(pre_10)\n",
    "recall.append(rec_10)\n",
    "f1_score.append(f1_k10)\n",
    "\n",
    "pre_11 = np.array(precision_md1_11).mean()\n",
    "rec_11 = np.array(recall_md1_11).mean()\n",
    "f1_score_k_11 = 2 * ((pre_11 * rec_11)/(pre_11 + rec_11))\n",
    "f1_k11 = f1_score_k_11.mean()\n",
    "precision.append(pre_11)\n",
    "recall.append(rec_11)\n",
    "f1_score.append(f1_k11)\n",
    "\n",
    "pre_12 = np.array(precision_md1_12).mean()\n",
    "rec_12 = np.array(recall_md1_12).mean()\n",
    "f1_score_k_12 = 2 * ((pre_12 * rec_12)/(pre_12 + rec_12))\n",
    "f1_k12 = f1_score_k_12.mean()\n",
    "precision.append(pre_12)\n",
    "recall.append(rec_12)\n",
    "f1_score.append(f1_k12)\n",
    "\n",
    "pre_13 = np.array(precision_md1_13).mean()\n",
    "rec_13 = np.array(recall_md1_13).mean()\n",
    "f1_score_k_13 = 2 * ((pre_13 * rec_13)/(pre_13 + rec_13))\n",
    "f1_k13 = f1_score_k_13.mean()\n",
    "precision.append(pre_13)\n",
    "recall.append(rec_13)\n",
    "f1_score.append(f1_k13)\n",
    "\n",
    "pre_14 = np.array(precision_md1_14).mean()\n",
    "rec_14 = np.array(recall_md1_14).mean()\n",
    "f1_score_k_14 = 2 * ((pre_14 * rec_14)/(pre_14 + rec_14))\n",
    "f1_k14 = f1_score_k_14.mean()\n",
    "precision.append(pre_14)\n",
    "recall.append(rec_14)\n",
    "f1_score.append(f1_k14)\n",
    "\n",
    "pre_15 = np.array(precision_md1_15).mean()\n",
    "rec_15 = np.array(recall_md1_15).mean()\n",
    "f1_score_k_15 = 2 * ((pre_15 * rec_15)/(pre_15 + rec_15))\n",
    "f1_k15 = f1_score_k_15.mean()\n",
    "precision.append(pre_15)\n",
    "recall.append(rec_15)\n",
    "f1_score.append(f1_k15)\n",
    "\n",
    "pre_16 = np.array(precision_md1_16).mean()\n",
    "rec_16 = np.array(recall_md1_16).mean()\n",
    "f1_score_k_16 = 2 * ((pre_16 * rec_16)/(pre_16 + rec_16))\n",
    "f1_k16 = f1_score_k_16.mean()\n",
    "precision.append(pre_16)\n",
    "recall.append(rec_16)\n",
    "f1_score.append(f1_k16)\n",
    "\n",
    "pre_17 = np.array(precision_md1_17).mean()\n",
    "rec_17 = np.array(recall_md1_17).mean()\n",
    "f1_score_k_17 = 2 * ((pre_17 * rec_17)/(pre_17 + rec_17))\n",
    "f1_k17 = f1_score_k_17.mean()\n",
    "precision.append(pre_17)\n",
    "recall.append(rec_17)\n",
    "f1_score.append(f1_k17)\n",
    "\n",
    "pre_18 = np.array(precision_md1_18).mean()\n",
    "rec_18 = np.array(recall_md1_18).mean()\n",
    "f1_score_k_18 = 2 * ((pre_18 * rec_18)/(pre_18 + rec_18))\n",
    "f1_k18 = f1_score_k_18.mean()\n",
    "precision.append(pre_18)\n",
    "recall.append(rec_18)\n",
    "f1_score.append(f1_k18)\n",
    "\n",
    "pre_19 = np.array(precision_md1_19).mean()\n",
    "rec_19 = np.array(recall_md1_19).mean()\n",
    "f1_score_k_19 = 2 * ((pre_19 * rec_19)/(pre_19 + rec_19))\n",
    "f1_k19 = f1_score_k_19.mean()\n",
    "precision.append(pre_19)\n",
    "recall.append(rec_19)\n",
    "f1_score.append(f1_k19)\n",
    "\n",
    "pre_20 = np.array(precision_md1_20).mean()\n",
    "rec_20 = np.array(recall_md1_20).mean()\n",
    "f1_score_k_20 = 2 * ((pre_20 * rec_20)/(pre_20 + rec_20))\n",
    "f1_k20 = f1_score_k_20.mean()\n",
    "precision.append(pre_20)\n",
    "recall.append(rec_20)\n",
    "f1_score.append(f1_k20)\n",
    "\n",
    "pre_21 = np.array(precision_md1_21).mean()\n",
    "rec_21 = np.array(recall_md1_21).mean()\n",
    "f1_score_k_21 = 2 * ((pre_21 * rec_21)/(pre_21 + rec_21))\n",
    "f1_k21 = f1_score_k_21.mean()\n",
    "precision.append(pre_21)\n",
    "recall.append(rec_21)\n",
    "f1_score.append(f1_k21)\n",
    "\n",
    "pre_22 = np.array(precision_md1_22).mean()\n",
    "rec_22 = np.array(recall_md1_22).mean()\n",
    "f1_score_k_22 = 2 * ((pre_22 * rec_22)/(pre_22 + rec_22))\n",
    "f1_k22 = f1_score_k_22.mean()\n",
    "precision.append(pre_22)\n",
    "recall.append(rec_22)\n",
    "f1_score.append(f1_k22)\n",
    "\n",
    "pre_23 = np.array(precision_md1_23).mean()\n",
    "rec_23 = np.array(recall_md1_23).mean()\n",
    "f1_score_k_23 = 2 * ((pre_23 * rec_23)/(pre_23 + rec_23))\n",
    "f1_k23 = f1_score_k_23.mean()\n",
    "precision.append(pre_23)\n",
    "recall.append(rec_23)\n",
    "f1_score.append(f1_k23)\n",
    "\n",
    "pre_24 = np.array(precision_md1_24).mean()\n",
    "rec_24 = np.array(recall_md1_24).mean()\n",
    "f1_score_k_24 = 2 * ((pre_24 * rec_24)/(pre_24 + rec_24))\n",
    "f1_k24 = f1_score_k_24.mean()\n",
    "precision.append(pre_24)\n",
    "recall.append(rec_24)\n",
    "f1_score.append(f1_k24)\n",
    "\n",
    "pre_25 = np.array(precision_md1_25).mean()\n",
    "rec_25 = np.array(recall_md1_25).mean()\n",
    "f1_score_k_25 = 2 * ((pre_25 * rec_25)/(pre_25 + rec_25))\n",
    "f1_k25 = f1_score_k_25.mean()\n",
    "precision.append(pre_25)\n",
    "recall.append(rec_25)\n",
    "f1_score.append(f1_k25)\n",
    "print(\"ใช้เวลาทั้งสิ้น %s วินาที\" % (time.time() - start_time))"
   ]
  },
  {
   "cell_type": "markdown",
   "metadata": {},
   "source": [
    "## Plot - Graph"
   ]
  },
  {
   "cell_type": "markdown",
   "metadata": {},
   "source": [
    "### Plot <span style=\"color:YellowGreen\">Precision</span> "
   ]
  },
  {
   "cell_type": "markdown",
   "metadata": {},
   "source": [
    "$$ \\text{Precision} = \\frac{\\text{tp}}{\\text{tp} + \\text{fp}} $$"
   ]
  },
  {
   "cell_type": "markdown",
   "metadata": {},
   "source": [
    "โดยกำหนดให้ <br> \n",
    "&nbsp;&nbsp;&nbsp;&nbsp; tp = สินค้าที่แนะนำและมีการเลือกชม <br>\n",
    "&nbsp;&nbsp;&nbsp;&nbsp; fp = สินค้าที่แนะนำแต่ไม่ได้ถูกเลือกชม"
   ]
  },
  {
   "cell_type": "code",
   "execution_count": 50,
   "metadata": {
    "scrolled": false
   },
   "outputs": [
    {
     "data": {
      "text/plain": [
       "[<matplotlib.lines.Line2D at 0x1b9cda35b00>]"
      ]
     },
     "execution_count": 50,
     "metadata": {},
     "output_type": "execute_result"
    },
    {
     "data": {
      "image/png": "[encoded data removed]",
      "text/plain": [
       "<matplotlib.figure.Figure at 0x1b9cf5aa630>"
      ]
     },
     "metadata": {},
     "output_type": "display_data"
    }
   ],
   "source": [
    "plt.plot(precision, color= 'g')"
   ]
  },
  {
   "cell_type": "markdown",
   "metadata": {},
   "source": [
    "### Plot <span style=\"color:Gold\">Recall</span>"
   ]
  },
  {
   "cell_type": "markdown",
   "metadata": {},
   "source": [
    "$$ \\text{Recall} = \\frac{\\text{tp}}{\\text{tp} + \\text{fn}} $$"
   ]
  },
  {
   "cell_type": "markdown",
   "metadata": {},
   "source": [
    "โดยกำหนดให้<br>\n",
    "&nbsp;&nbsp;&nbsp;&nbsp; tp = สินค้าที่แนะนำและมีการเลือกชม<br>\n",
    "&nbsp;&nbsp;&nbsp;&nbsp; fn = สินค้าที่ถูกเลือกชมแต่ไม่ได้มีการแนะนำ"
   ]
  },
  {
   "cell_type": "code",
   "execution_count": 51,
   "metadata": {},
   "outputs": [
    {
     "data": {
      "text/plain": [
       "[<matplotlib.lines.Line2D at 0x1b9cda77160>]"
      ]
     },
     "execution_count": 51,
     "metadata": {},
     "output_type": "execute_result"
    },
    {
     "data": {
      "image/png": "[encoded data removed]",
      "text/plain": [
       "<matplotlib.figure.Figure at 0x1b9cda30a90>"
      ]
     },
     "metadata": {},
     "output_type": "display_data"
    }
   ],
   "source": [
    "plt.plot(recall, color = 'y')"
   ]
  },
  {
   "cell_type": "markdown",
   "metadata": {},
   "source": [
    "### Plot <span style=\"color:red\">F1 Score</span>\n"
   ]
  },
  {
   "cell_type": "markdown",
   "metadata": {},
   "source": [
    "$$ F1 = \\frac{2 \\cdot precision\\cdot recall}{precision+ recall} $$"
   ]
  },
  {
   "cell_type": "code",
   "execution_count": 52,
   "metadata": {
    "scrolled": true
   },
   "outputs": [
    {
     "data": {
      "text/plain": [
       "[<matplotlib.lines.Line2D at 0x1b9ce023470>]"
      ]
     },
     "execution_count": 52,
     "metadata": {},
     "output_type": "execute_result"
    },
    {
     "data": {
      "image/png": "[encoded data removed]",
      "text/plain": [
       "<matplotlib.figure.Figure at 0x1b9cd54e2e8>"
      ]
     },
     "metadata": {},
     "output_type": "display_data"
    }
   ],
   "source": [
    "plt.plot(f1_score, color = 'r')"
   ]
  },
  {
   "cell_type": "markdown",
   "metadata": {},
   "source": [
    "### F1 Score, Precision, Recall "
   ]
  },
  {
   "cell_type": "code",
   "execution_count": 53,
   "metadata": {
    "scrolled": false
   },
   "outputs": [
    {
     "data": {
      "image/png": "[encoded data removed]",
      "text/plain": [
       "<matplotlib.figure.Figure at 0x1b9cd7a54a8>"
      ]
     },
     "metadata": {},
     "output_type": "display_data"
    }
   ],
   "source": [
    "import matplotlib.pyplot as plt\n",
    "import numpy as np\n",
    "\n",
    "fig=plt.figure()\n",
    "ax=fig.add_subplot(111)\n",
    "\n",
    "ax.plot(f1_score,c='r',label='F1 Score')\n",
    "ax.plot(precision,c='g',ls='--',label='Precision')\n",
    "ax.plot(recall,c='y',ls='--',label='Recall')\n",
    "\n",
    "plt.legend(loc=4)\n",
    "plt.show()"
   ]
  },
  {
   "cell_type": "markdown",
   "metadata": {},
   "source": [
    "around 28-29%"
   ]
  },
  {
   "cell_type": "markdown",
   "metadata": {
    "collapsed": true
   },
   "source": [
    "### <b><span style=\"color:red\">Intersection </span> between precision and recall <span style=\"color:blue\">(K)</span></b> "
   ]
  },
  {
   "cell_type": "code",
   "execution_count": 54,
   "metadata": {},
   "outputs": [],
   "source": [
    "intersection = np.array(precision) - np.array(recall)\n",
    "inter_list = intersection.tolist()\n",
    "inter_list.remove(0)\n",
    "inter_arr = np.asarray(inter_list)"
   ]
  },
  {
   "cell_type": "code",
   "execution_count": 55,
   "metadata": {},
   "outputs": [
    {
     "name": "stdout",
     "output_type": "stream",
     "text": [
      "ที่จุดตัดระหว่าง Precision และ Recall จะได้ค่า K เท่ากับ 10\n"
     ]
    }
   ],
   "source": [
    "import numpy as np\n",
    "def find_nearest(array,value):\n",
    "    idx = (np.abs(inter_arr-value)).argmin()\n",
    "    value = inter_arr[idx]\n",
    "    i = np.where(inter_arr == value)\n",
    "    for x in chain.from_iterable(i):\n",
    "        y = x + 1\n",
    "    return y\n",
    "\n",
    "print(\"ที่จุดตัดระหว่าง Precision และ Recall จะได้ค่า K เท่ากับ %s\" % find_nearest(intersection, 0))"
   ]
  },
  {
   "cell_type": "code",
   "execution_count": null,
   "metadata": {
    "collapsed": true
   },
   "outputs": [],
   "source": []
  }
 ],
 "metadata": {
  "kernelspec": {
   "display_name": "Python 3",
   "language": "python",
   "name": "python3"
  },
  "language_info": {
   "codemirror_mode": {
    "name": "ipython",
    "version": 3
   },
   "file_extension": ".py",
   "mimetype": "text/x-python",
   "name": "python",
   "nbconvert_exporter": "python",
   "pygments_lexer": "ipython3",
   "version": "3.6.3"
  }
 },
 "nbformat": 4,
 "nbformat_minor": 2
}
