{
 "cells": [
  {
   "cell_type": "code",
   "execution_count": 38,
   "metadata": {
    "collapsed": true
   },
   "outputs": [],
   "source": [
    "import unicodecsv\n",
    "import pandas as pd\n",
    "#read data from CSV file and make it to lists\n",
    "def read_csv(filename):\n",
    "    with open(filename, 'rb') as f:\n",
    "        reader = unicodecsv.DictReader(f)\n",
    "        return list(reader)"
   ]
  },
  {
   "cell_type": "code",
   "execution_count": 39,
   "metadata": {},
   "outputs": [
    {
     "data": {
      "text/plain": [
       "[OrderedDict([('6.1101', '5.5277'), ('17.592', '9.1302')]),\n",
       " OrderedDict([('6.1101', '8.5186'), ('17.592', '13.662')]),\n",
       " OrderedDict([('6.1101', '7.0032'), ('17.592', '11.854')]),\n",
       " OrderedDict([('6.1101', '5.8598'), ('17.592', '6.8233')]),\n",
       " OrderedDict([('6.1101', '8.3829'), ('17.592', '11.886')])]"
      ]
     },
     "execution_count": 39,
     "metadata": {},
     "output_type": "execute_result"
    }
   ],
   "source": [
    "data = read_csv('../model/ex1data1.txt')\n",
    "data[:5]"
   ]
  },
  {
   "cell_type": "code",
   "execution_count": 40,
   "metadata": {},
   "outputs": [
    {
     "data": {
      "text/html": [
       "<div>\n",
       "<style>\n",
       "    .dataframe thead tr:only-child th {\n",
       "        text-align: right;\n",
       "    }\n",
       "\n",
       "    .dataframe thead th {\n",
       "        text-align: left;\n",
       "    }\n",
       "\n",
       "    .dataframe tbody tr th {\n",
       "        vertical-align: top;\n",
       "    }\n",
       "</style>\n",
       "<table border=\"1\" class=\"dataframe\">\n",
       "  <thead>\n",
       "    <tr style=\"text-align: right;\">\n",
       "      <th></th>\n",
       "      <th>x</th>\n",
       "      <th>y</th>\n",
       "    </tr>\n",
       "  </thead>\n",
       "  <tbody>\n",
       "    <tr>\n",
       "      <th>0</th>\n",
       "      <td>6.1101</td>\n",
       "      <td>17.5920</td>\n",
       "    </tr>\n",
       "    <tr>\n",
       "      <th>1</th>\n",
       "      <td>5.5277</td>\n",
       "      <td>9.1302</td>\n",
       "    </tr>\n",
       "    <tr>\n",
       "      <th>2</th>\n",
       "      <td>8.5186</td>\n",
       "      <td>13.6620</td>\n",
       "    </tr>\n",
       "    <tr>\n",
       "      <th>3</th>\n",
       "      <td>7.0032</td>\n",
       "      <td>11.8540</td>\n",
       "    </tr>\n",
       "    <tr>\n",
       "      <th>4</th>\n",
       "      <td>5.8598</td>\n",
       "      <td>6.8233</td>\n",
       "    </tr>\n",
       "  </tbody>\n",
       "</table>\n",
       "</div>"
      ],
      "text/plain": [
       "        x        y\n",
       "0  6.1101  17.5920\n",
       "1  5.5277   9.1302\n",
       "2  8.5186  13.6620\n",
       "3  7.0032  11.8540\n",
       "4  5.8598   6.8233"
      ]
     },
     "execution_count": 40,
     "metadata": {},
     "output_type": "execute_result"
    }
   ],
   "source": [
    "df_data = pd.read_csv('ex1data1.txt',header = None, names=['x','y'])\n",
    "df_data[:5]"
   ]
  },
  {
   "cell_type": "markdown",
   "metadata": {},
   "source": [
    "# นำ  x มารวมกับ 1 "
   ]
  },
  {
   "cell_type": "code",
   "execution_count": 41,
   "metadata": {},
   "outputs": [
    {
     "data": {
      "text/plain": [
       "array([[ 1.    ,  6.1101],\n",
       "       [ 1.    ,  5.5277],\n",
       "       [ 1.    ,  8.5186],\n",
       "       [ 1.    ,  7.0032],\n",
       "       [ 1.    ,  5.8598]])"
      ]
     },
     "execution_count": 41,
     "metadata": {},
     "output_type": "execute_result"
    }
   ],
   "source": [
    "import pandas as pd\n",
    "import numpy as np\n",
    "\n",
    "x =df_data['x']\n",
    "y = df_data['y']\n",
    "T = np.ones((len(x), 1))\n",
    "mat_one = np.c_[T, x]\n",
    "mat_one[:5]"
   ]
  },
  {
   "cell_type": "code",
   "execution_count": 42,
   "metadata": {
    "scrolled": true
   },
   "outputs": [
    {
     "data": {
      "text/plain": [
       "array([ 17.592  ,   9.1302 ,  13.662  ,  11.854  ,   6.8233 ,  11.886  ,\n",
       "         4.3483 ,  12.     ,   6.5987 ,   3.8166 ,   3.2522 ,  15.505  ,\n",
       "         3.1551 ,   7.2258 ,   0.71618,   3.5129 ,   5.3048 ,   0.56077,\n",
       "         3.6518 ,   5.3893 ,   3.1386 ,  21.767  ,   4.263  ,   5.1875 ,\n",
       "         3.0825 ,  22.638  ,  13.501  ,   7.0467 ,  14.692  ,  24.147  ,\n",
       "        -1.22   ,   5.9966 ,  12.134  ,   1.8495 ,   6.5426 ,   4.5623 ,\n",
       "         4.1164 ,   3.3928 ,  10.117  ,   5.4974 ,   0.55657,   3.9115 ,\n",
       "         5.3854 ,   2.4406 ,   6.7318 ,   1.0463 ,   5.1337 ,   1.844  ,\n",
       "         8.0043 ,   1.0179 ,   6.7504 ,   1.8396 ,   4.2885 ,   4.9981 ,\n",
       "         1.4233 ,  -1.4211 ,   2.4756 ,   4.6042 ,   3.9624 ,   5.4141 ,\n",
       "         5.1694 ,  -0.74279,  17.929  ,  12.054  ,  17.054  ,   4.8852 ,\n",
       "         5.7442 ,   7.7754 ,   1.0173 ,  20.992  ,   6.6799 ,   4.0259 ,\n",
       "         1.2784 ,   3.3411 ,  -2.6807 ,   0.29678,   3.8845 ,   5.7014 ,\n",
       "         6.7526 ,   2.0576 ,   0.47953,   0.20421,   0.67861,   7.5435 ,\n",
       "         5.3436 ,   4.2415 ,   6.7981 ,   0.92695,   0.152  ,   2.8214 ,\n",
       "         1.8451 ,   4.2959 ,   7.2029 ,   1.9869 ,   0.14454,   9.0551 ,\n",
       "         0.61705])"
      ]
     },
     "execution_count": 42,
     "metadata": {},
     "output_type": "execute_result"
    }
   ],
   "source": [
    "y_ar = np.array(y)\n",
    "y_ar\n"
   ]
  },
  {
   "cell_type": "code",
   "execution_count": 43,
   "metadata": {
    "collapsed": true
   },
   "outputs": [],
   "source": [
    "theta= np.array([1, 1])"
   ]
  },
  {
   "cell_type": "markdown",
   "metadata": {},
   "source": [
    "# นำ ทั้ง 2  array มาคูณกัน"
   ]
  },
  {
   "cell_type": "code",
   "execution_count": 44,
   "metadata": {
    "scrolled": false
   },
   "outputs": [
    {
     "data": {
      "text/plain": [
       "(97,)"
      ]
     },
     "execution_count": 44,
     "metadata": {},
     "output_type": "execute_result"
    }
   ],
   "source": [
    " h = np.dot(mat_one, theta)\n",
    "h.shape"
   ]
  },
  {
   "cell_type": "code",
   "execution_count": 45,
   "metadata": {},
   "outputs": [
    {
     "data": {
      "text/plain": [
       "(97, 2)"
      ]
     },
     "execution_count": 45,
     "metadata": {},
     "output_type": "execute_result"
    }
   ],
   "source": [
    "mat_one.shape"
   ]
  },
  {
   "cell_type": "code",
   "execution_count": 46,
   "metadata": {},
   "outputs": [
    {
     "data": {
      "text/plain": [
       "(2,)"
      ]
     },
     "execution_count": 46,
     "metadata": {},
     "output_type": "execute_result"
    }
   ],
   "source": [
    "theta.shape"
   ]
  },
  {
   "cell_type": "code",
   "execution_count": 47,
   "metadata": {},
   "outputs": [
    {
     "data": {
      "text/plain": [
       "0   -10.4819\n",
       "1    -2.6025\n",
       "2    -4.1434\n",
       "3    -3.8508\n",
       "4     0.0365\n",
       "Name: y, dtype: float64"
      ]
     },
     "execution_count": 47,
     "metadata": {},
     "output_type": "execute_result"
    }
   ],
   "source": [
    "loss = h - y\n",
    "loss[:5]"
   ]
  },
  {
   "cell_type": "code",
   "execution_count": 48,
   "metadata": {},
   "outputs": [
    {
     "data": {
      "text/plain": [
       "97"
      ]
     },
     "execution_count": 48,
     "metadata": {},
     "output_type": "execute_result"
    }
   ],
   "source": [
    "len(loss)"
   ]
  },
  {
   "cell_type": "markdown",
   "metadata": {},
   "source": [
    "# cost"
   ]
  },
  {
   "cell_type": "code",
   "execution_count": 49,
   "metadata": {},
   "outputs": [
    {
     "data": {
      "text/plain": [
       "10.266520491383504"
      ]
     },
     "execution_count": 49,
     "metadata": {},
     "output_type": "execute_result"
    }
   ],
   "source": [
    "m = len(x)\n",
    "cost = np.sum(loss ** 2) / (2 * m)\n",
    "cost"
   ]
  },
  {
   "cell_type": "code",
   "execution_count": 50,
   "metadata": {
    "collapsed": true
   },
   "outputs": [],
   "source": [
    "X = np.c_[T, x]"
   ]
  },
  {
   "cell_type": "code",
   "execution_count": 51,
   "metadata": {},
   "outputs": [
    {
     "data": {
      "text/plain": [
       "(97, 2)"
      ]
     },
     "execution_count": 51,
     "metadata": {},
     "output_type": "execute_result"
    }
   ],
   "source": [
    "X.shape"
   ]
  },
  {
   "cell_type": "markdown",
   "metadata": {},
   "source": [
    "# ทำเป็น cost function"
   ]
  },
  {
   "cell_type": "code",
   "execution_count": 52,
   "metadata": {
    "collapsed": true
   },
   "outputs": [],
   "source": [
    "init_theta = np.array([1,1])"
   ]
  },
  {
   "cell_type": "code",
   "execution_count": 53,
   "metadata": {
    "collapsed": true
   },
   "outputs": [],
   "source": [
    "def compute_cost(x, y, init_theta):\n",
    "    x =df_data['x']\n",
    "    y = df_data['y']\n",
    "    m = len(x)\n",
    "    X = np.c_[T, x]\n",
    "    y_ar = np.array(y)\n",
    "    h = X.dot(theta)\n",
    "    J = np.sum((h-y_ar)**2)\n",
    "    Jx = (J/(2*m))\n",
    "    return Jx\n",
    " \n",
    " "
   ]
  },
  {
   "cell_type": "code",
   "execution_count": 54,
   "metadata": {},
   "outputs": [
    {
     "data": {
      "text/plain": [
       "10.266520491383504"
      ]
     },
     "execution_count": 54,
     "metadata": {},
     "output_type": "execute_result"
    }
   ],
   "source": [
    "compute_cost(x, y, init_theta)"
   ]
  },
  {
   "cell_type": "code",
   "execution_count": 55,
   "metadata": {},
   "outputs": [
    {
     "data": {
      "text/plain": [
       "(97,)"
      ]
     },
     "execution_count": 55,
     "metadata": {},
     "output_type": "execute_result"
    }
   ],
   "source": [
    "y_ar.shape"
   ]
  },
  {
   "cell_type": "markdown",
   "metadata": {},
   "source": [
    "# gradient descent"
   ]
  },
  {
   "cell_type": "code",
   "execution_count": 56,
   "metadata": {
    "collapsed": true
   },
   "outputs": [],
   "source": [
    "iterations = 2000\n",
    "alpha = 0.001\n"
   ]
  },
  {
   "cell_type": "code",
   "execution_count": 57,
   "metadata": {
    "collapsed": true
   },
   "outputs": [],
   "source": [
    "def gradient_descent(X, y, theta, alpha, iterations):\n",
    "    cost_history = [0] * iterations\n",
    "    \n",
    "    for iteration in range(iterations):\n",
    "        h = X.dot(theta)\n",
    "        loss = h - y\n",
    "        gradient = X.T.dot(loss)/m\n",
    "        theta = theta - alpha*gradient\n",
    "        cost = compute_cost(x, y, theta)\n",
    "        cost_history[iteration] = cost\n",
    "        \n",
    "\n",
    "    return theta, cost_history\n"
   ]
  },
  {
   "cell_type": "code",
   "execution_count": 58,
   "metadata": {},
   "outputs": [],
   "source": [
    "(t, c) = gradient_descent(X,y,theta,alpha, iterations)"
   ]
  },
  {
   "cell_type": "code",
   "execution_count": 59,
   "metadata": {
    "scrolled": true
   },
   "outputs": [
    {
     "name": "stdout",
     "output_type": "stream",
     "text": [
      "[-0.50271624  0.8521635 ]\n"
     ]
    }
   ],
   "source": [
    "print (t)"
   ]
  },
  {
   "cell_type": "code",
   "execution_count": 60,
   "metadata": {},
   "outputs": [
    {
     "data": {
      "image/png": "[encoded data removed]",
      "text/plain": [
       "<matplotlib.figure.Figure at 0x72761d2198>"
      ]
     },
     "metadata": {},
     "output_type": "display_data"
    },
    {
     "name": "stdout",
     "output_type": "stream",
     "text": [
      "final x = [-0.50271624  0.8521635 ]\n",
      "final cost = 10.2665204914\n"
     ]
    }
   ],
   "source": [
    "import matplotlib.pyplot as plt \n",
    "plt.plot(t) \n",
    "plt.show()  \n",
    "print ('final x = %s' % t)\n",
    "print ('final cost = %s' % c[0])"
   ]
  },
  {
   "cell_type": "markdown",
   "metadata": {},
   "source": [
    "# grade ไม่ใช้ for"
   ]
  },
  {
   "cell_type": "code",
   "execution_count": 24,
   "metadata": {
    "collapsed": true
   },
   "outputs": [],
   "source": [
    "import numpy as np\n",
    "def compute_grad(x, y, theta):\n",
    "\n",
    "    x =df_data['x']\n",
    "    y = df_data['y']\n",
    "    m = len(x)\n",
    "    y_ar = np.array(y)\n",
    "    theta_grad = np.array([0, 0])\n",
    "    X = np.c_[T, x]\n",
    "    h= X.dot(theta)\n",
    "    theta_grad[0] = (1./(m))*(np.sum(h-y_ar))\n",
    "    theta_grad[1] = (1./(m))*(np.sum((h-y_ar)*x))\n",
    "    return theta_grad"
   ]
  },
  {
   "cell_type": "code",
   "execution_count": 25,
   "metadata": {
    "scrolled": true
   },
   "outputs": [
    {
     "data": {
      "image/png": "[encoded data removed]",
      "text/plain": [
       "<matplotlib.figure.Figure at 0x7274b764a8>"
      ]
     },
     "metadata": {},
     "output_type": "display_data"
    },
    {
     "name": "stdout",
     "output_type": "stream",
     "text": [
      "final x = [ 0.04   0.787]\n",
      "final cost = 5.89257356052\n"
     ]
    }
   ],
   "source": [
    "import matplotlib.pyplot as plt \n",
    "x =df_data['x']\n",
    "y = df_data['y']\n",
    "J = [] \n",
    "theta = np.array([0, 0])\n",
    "n_iter = 5000\n",
    "\n",
    "for i in range(n_iter):\n",
    "    theta_grad = compute_grad(x, y, theta)\n",
    "    theta = theta - 0.001*theta_grad\n",
    "    J.append(compute_cost(x, y, theta))\n",
    "\n",
    "plt.plot(J) \n",
    "plt.show()  \n",
    "print ('final x = %s' % theta)\n",
    "print ('final cost = %s' % J[-1])\n"
   ]
  },
  {
   "cell_type": "markdown",
   "metadata": {},
   "source": [
    "# plot linear"
   ]
  },
  {
   "cell_type": "code",
   "execution_count": 26,
   "metadata": {},
   "outputs": [
    {
     "name": "stdout",
     "output_type": "stream",
     "text": [
      "1.19303364419 -3.89578087831\n"
     ]
    }
   ],
   "source": [
    "import numpy as np\n",
    "\n",
    "x =df_data['x']\n",
    "y = df_data['y']\n",
    "\n",
    "A = np.vstack([x, np.ones(len(x))]).T  \n",
    "b1, b2 = np.linalg.lstsq(A, y)[0]  \n",
    "print(b1,b2)  "
   ]
  },
  {
   "cell_type": "code",
   "execution_count": 62,
   "metadata": {},
   "outputs": [
    {
     "data": {
      "image/png": "[encoded data removed]",
      "text/plain": [
       "<matplotlib.figure.Figure at 0x7276346e48>"
      ]
     },
     "metadata": {},
     "output_type": "display_data"
    }
   ],
   "source": [
    "import matplotlib.pyplot as plt  \n",
    "plt.plot(x, y, 'o', label='Original data', markersize=10)  \n",
    "plt.plot(x, b1*x + b2, 'r', label='Fitted line')  \n",
    "plt.legend()  \n",
    "plt.show()  \n"
   ]
  },
  {
   "cell_type": "code",
   "execution_count": 28,
   "metadata": {},
   "outputs": [
    {
     "data": {
      "image/png": "[encoded data removed]",
      "text/plain": [
       "<matplotlib.figure.Figure at 0x7273d9cef0>"
      ]
     },
     "metadata": {},
     "output_type": "display_data"
    },
    {
     "name": "stdout",
     "output_type": "stream",
     "text": [
      "final x = [ 0.     0.314]\n",
      "final cost = 15.5725266306\n"
     ]
    }
   ],
   "source": [
    "import numpy as np\n",
    "import matplotlib.pyplot as plt  \n",
    "\n",
    "def compute_grad(X, y, theta):\n",
    "    m = len(X)\n",
    "    theta_grad = np.array([0, 0])\n",
    "    for i in range(m):\n",
    "        theta_grad[0] += (1./(m))*((theta[0] + theta[1]*X[i]) - y[i])\n",
    "        theta_grad[1] += (1./(m))*((theta[0] + theta[1]*X[i]) - y[i])*X[i]\n",
    "    return theta_grad\n",
    "def compute_cost(X, y, theta):\n",
    "    m = len(X)\n",
    "    J = 0\n",
    "    for i in range(m):\n",
    "        J += (1./(2*m))*((theta[0] + theta[1]*X[i]) - y[i])**2\n",
    "    return J\n",
    "\n",
    "\n",
    "X =df_data['x']\n",
    "y = df_data['y']\n",
    "plot=[] \n",
    "theta = np.array([0,0])\n",
    "n_iter = 1500\n",
    "for i in range(n_iter):\n",
    "    theta_grad = compute_grad(X, y, theta)\n",
    "    theta = theta - 0.0001*theta_grad\n",
    "    plot.append(compute_cost(x, y, theta))\n",
    "\n",
    "plt.plot(plot)\n",
    "plt.show()  \n",
    "print ('final x = %s' % theta)\n",
    "print ('final cost = %s' % plot[-1])\n",
    "\n",
    "\n"
   ]
  },
  {
   "cell_type": "markdown",
   "metadata": {},
   "source": [
    "# distance"
   ]
  },
  {
   "cell_type": "code",
   "execution_count": 82,
   "metadata": {
    "collapsed": true
   },
   "outputs": [],
   "source": [
    "data_address = read_csv('../data_20180120/customer.csv')\n",
    "id_address =read_csv('../data_clean/customer_address.csv')"
   ]
  },
  {
   "cell_type": "code",
   "execution_count": 83,
   "metadata": {},
   "outputs": [
    {
     "data": {
      "text/plain": [
       "0    จ.ชลบุรี\n",
       "1            \n",
       "2            \n",
       "3            \n",
       "4            \n",
       "Name: ADDRESS_PROVINCE, dtype: object"
      ]
     },
     "execution_count": 83,
     "metadata": {},
     "output_type": "execute_result"
    }
   ],
   "source": [
    "df_province = pd.DataFrame(data_address)\n",
    "\n",
    "df_id_add = pd.DataFrame(id_address)\n",
    "df_province['ADDRESS_PROVINCE'][:5]\n"
   ]
  },
  {
   "cell_type": "code",
   "execution_count": 89,
   "metadata": {},
   "outputs": [
    {
     "data": {
      "text/html": [
       "<div>\n",
       "<style>\n",
       "    .dataframe thead tr:only-child th {\n",
       "        text-align: right;\n",
       "    }\n",
       "\n",
       "    .dataframe thead th {\n",
       "        text-align: left;\n",
       "    }\n",
       "\n",
       "    .dataframe tbody tr th {\n",
       "        vertical-align: top;\n",
       "    }\n",
       "</style>\n",
       "<table border=\"1\" class=\"dataframe\">\n",
       "  <thead>\n",
       "    <tr style=\"text-align: right;\">\n",
       "      <th></th>\n",
       "      <th>CUSTOMER_ID</th>\n",
       "      <th>ADDRESS_POSTAL_CODE</th>\n",
       "      <th>ADDRESS_PROVINCE</th>\n",
       "    </tr>\n",
       "  </thead>\n",
       "  <tbody>\n",
       "    <tr>\n",
       "      <th>0</th>\n",
       "      <td>2083</td>\n",
       "      <td>20170</td>\n",
       "      <td>จ.ชลบุรี</td>\n",
       "    </tr>\n",
       "    <tr>\n",
       "      <th>1</th>\n",
       "      <td>2390</td>\n",
       "      <td>10250</td>\n",
       "      <td></td>\n",
       "    </tr>\n",
       "    <tr>\n",
       "      <th>2</th>\n",
       "      <td>2406</td>\n",
       "      <td>10150</td>\n",
       "      <td></td>\n",
       "    </tr>\n",
       "    <tr>\n",
       "      <th>3</th>\n",
       "      <td>2412</td>\n",
       "      <td>11110</td>\n",
       "      <td></td>\n",
       "    </tr>\n",
       "    <tr>\n",
       "      <th>4</th>\n",
       "      <td>2413</td>\n",
       "      <td>11000</td>\n",
       "      <td></td>\n",
       "    </tr>\n",
       "  </tbody>\n",
       "</table>\n",
       "</div>"
      ],
      "text/plain": [
       "  CUSTOMER_ID ADDRESS_POSTAL_CODE ADDRESS_PROVINCE\n",
       "0        2083               20170         จ.ชลบุรี\n",
       "1        2390               10250                 \n",
       "2        2406               10150                 \n",
       "3        2412               11110                 \n",
       "4        2413               11000                 "
      ]
     },
     "execution_count": 89,
     "metadata": {},
     "output_type": "execute_result"
    }
   ],
   "source": [
    " all_data = pd.concat([df_id_add,df_province['ADDRESS_PROVINCE']], axis=1)\n",
    "new = all_data[all_data['CUSTOMER_ID'].notnull()&(all_data['ADDRESS_POSTAL_CODE'].notnull())]\n",
    "new[:5]"
   ]
  },
  {
   "cell_type": "code",
   "execution_count": 90,
   "metadata": {},
   "outputs": [
    {
     "data": {
      "text/plain": [
       "CUSTOMER_ID            object\n",
       "ADDRESS_POSTAL_CODE    object\n",
       "ADDRESS_PROVINCE       object\n",
       "dtype: object"
      ]
     },
     "execution_count": 90,
     "metadata": {},
     "output_type": "execute_result"
    }
   ],
   "source": [
    "new.dtypes"
   ]
  },
  {
   "cell_type": "markdown",
   "metadata": {},
   "source": [
    "# min distance from 12 branch"
   ]
  },
  {
   "cell_type": "code",
   "execution_count": 98,
   "metadata": {},
   "outputs": [
    {
     "ename": "ValueError",
     "evalue": "min() arg is an empty sequence",
     "output_type": "error",
     "traceback": [
      "\u001b[1;31m---------------------------------------------------------------------------\u001b[0m",
      "\u001b[1;31mValueError\u001b[0m                                Traceback (most recent call last)",
      "\u001b[1;32m<ipython-input-98-2938c68bd84a>\u001b[0m in \u001b[0;36m<module>\u001b[1;34m()\u001b[0m\n\u001b[0;32m      9\u001b[0m \u001b[1;32mfor\u001b[0m \u001b[0mi\u001b[0m \u001b[1;32min\u001b[0m \u001b[0mrange\u001b[0m\u001b[1;33m(\u001b[0m\u001b[0mlen\u001b[0m\u001b[1;33m(\u001b[0m\u001b[0mbranch\u001b[0m\u001b[1;33m)\u001b[0m\u001b[1;33m)\u001b[0m\u001b[1;33m:\u001b[0m\u001b[1;33m\u001b[0m\u001b[0m\n\u001b[0;32m     10\u001b[0m     \u001b[0mbranch_distance\u001b[0m\u001b[1;33m.\u001b[0m\u001b[0mappend\u001b[0m\u001b[1;33m(\u001b[0m\u001b[0mbranch\u001b[0m\u001b[1;33m[\u001b[0m\u001b[0mi\u001b[0m\u001b[1;33m]\u001b[0m\u001b[1;33m[\u001b[0m\u001b[1;34m'elements'\u001b[0m\u001b[1;33m]\u001b[0m\u001b[1;33m[\u001b[0m\u001b[1;36m0\u001b[0m\u001b[1;33m]\u001b[0m\u001b[1;33m[\u001b[0m\u001b[1;34m'distance'\u001b[0m\u001b[1;33m]\u001b[0m\u001b[1;33m[\u001b[0m\u001b[1;34m'value'\u001b[0m\u001b[1;33m]\u001b[0m\u001b[1;33m)\u001b[0m\u001b[1;33m\u001b[0m\u001b[0m\n\u001b[1;32m---> 11\u001b[1;33m \u001b[0mprint\u001b[0m \u001b[1;33m(\u001b[0m\u001b[0mmin\u001b[0m\u001b[1;33m(\u001b[0m\u001b[0mbranch_distance\u001b[0m\u001b[1;33m)\u001b[0m\u001b[1;33m)\u001b[0m\u001b[1;33m\u001b[0m\u001b[0m\n\u001b[0m",
      "\u001b[1;31mValueError\u001b[0m: min() arg is an empty sequence"
     ]
    }
   ],
   "source": [
    "import urllib.request\n",
    "import json\n",
    "\n",
    "\n",
    "res = urllib.request.urlopen(\"https://maps.googleapis.com/maps/api/distancematrix/json?origins=Nakhonratchasima+30000%7CPhuket+83000%7CNonthaburi+11140%7CBangkok+11130%7CBangkok+10260%7CBangkok+10240%7CPathum+12130%7CBangkok+10400%7CBangkok+10330%7CBangkok+10700%7CBangkok+74000%7CBangkok+10230&destinations=Chonburi+2170\").read()\n",
    "data = json.loads(res.decode())\n",
    "branch = data['rows']\n",
    "branch_distance = []\n",
    "for i in range(len(branch)):\n",
    "    branch_distance.append(branch[i]['elements'][0]['distance']['value'])\n",
    "print (min(branch_distance))"
   ]
  },
  {
   "cell_type": "code",
   "execution_count": 26,
   "metadata": {
    "collapsed": true
   },
   "outputs": [],
   "source": [
    "destination = df_address['ADDRESS_POSTAL_CODE']\n",
    "for d in range(len(destination)):\n",
    "    \n",
    "    "
   ]
  },
  {
   "cell_type": "code",
   "execution_count": null,
   "metadata": {
    "collapsed": true
   },
   "outputs": [],
   "source": []
  },
  {
   "cell_type": "code",
   "execution_count": null,
   "metadata": {
    "collapsed": true
   },
   "outputs": [],
   "source": []
  }
 ],
 "metadata": {
  "kernelspec": {
   "display_name": "Python 3",
   "language": "python",
   "name": "python3"
  },
  "language_info": {
   "codemirror_mode": {
    "name": "ipython",
    "version": 3
   },
   "file_extension": ".py",
   "mimetype": "text/x-python",
   "name": "python",
   "nbconvert_exporter": "python",
   "pygments_lexer": "ipython3",
   "version": "3.6.3"
  }
 },
 "nbformat": 4,
 "nbformat_minor": 2
}
