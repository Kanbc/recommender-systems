{
 "cells": [
  {
   "cell_type": "markdown",
   "metadata": {},
   "source": [
    "# 4 Prepare the Data"
   ]
  },
  {
   "cell_type": "markdown",
   "metadata": {},
   "source": [
    "***Notes :***\n",
    "- *Work on copies of the data (keep the original dataset intact)*\n",
    "- *Write functions for all data transformations you apply, for five reasons:*\n",
    "    - *So you can easily prepare the data the next time you get a fresh dataset.*\n",
    "    - *So you can apply these transformations in future projects.*\n",
    "    - *To clean and prepare the test set*\n",
    "    - *To clean and prepare new data instances once your solution is live*\n",
    "    - *To make it easy to treat your preparation choices as hyperparameters.*"
   ]
  },
  {
   "cell_type": "markdown",
   "metadata": {},
   "source": [
    "## 1. Data cleaning:\n",
    "- Fix or remove outliers (optional)\n",
    "- Fill in missing values (e.g. with zero, mean, median...) or drop their rows (or columns)."
   ]
  },
  {
   "cell_type": "markdown",
   "metadata": {},
   "source": [
    "### สำหรับ Item-based filtering\n",
    "-"
   ]
  },
  {
   "cell_type": "markdown",
   "metadata": {},
   "source": [
    "## 2. Feature selection (optional)\n",
    "- Drop the attributes that provide no useful information for the task."
   ]
  },
  {
   "cell_type": "markdown",
   "metadata": {},
   "source": [
    "### สำหรับ Item-based filtering\n",
    "-"
   ]
  },
  {
   "cell_type": "markdown",
   "metadata": {},
   "source": [
    "## 3. Feature engineering, where appropriate:\n",
    "- Discretize continuous features.\n",
    "- Decompose features (e.g. categorical, date/time, etc.)\n",
    "- Add promissing transformations of features (e.g. log(x), sqrt(x), $x^2$, etc.).\n",
    "- Aggregate features into promissing new features."
   ]
  },
  {
   "cell_type": "markdown",
   "metadata": {},
   "source": [
    "### สำหรับ Item-based filtering\n",
    "-"
   ]
  },
  {
   "cell_type": "markdown",
   "metadata": {},
   "source": [
    "## 4. Features scaling : standardize or normalize features."
   ]
  },
  {
   "cell_type": "markdown",
   "metadata": {},
   "source": [
    "### สำหรับ Item-based filtering\n",
    "-"
   ]
  },
  {
   "cell_type": "code",
   "execution_count": null,
   "metadata": {},
   "outputs": [],
   "source": []
  }
 ],
 "metadata": {
  "kernelspec": {
   "display_name": "Python 3",
   "language": "python",
   "name": "python3"
  },
  "language_info": {
   "codemirror_mode": {
    "name": "ipython",
    "version": 3
   },
   "file_extension": ".py",
   "mimetype": "text/x-python",
   "name": "python",
   "nbconvert_exporter": "python",
   "pygments_lexer": "ipython3",
   "version": "3.6.3"
  }
 },
 "nbformat": 4,
 "nbformat_minor": 2
}
