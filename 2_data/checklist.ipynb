{
 "cells": [
  {
   "cell_type": "markdown",
   "metadata": {},
   "source": [
    "# 2 Get the Data"
   ]
  },
  {
   "cell_type": "markdown",
   "metadata": {},
   "source": [
    "*Note : automate as much as possible so you can easily get fresh data.*"
   ]
  },
  {
   "cell_type": "markdown",
   "metadata": {},
   "source": [
    "## 1 . List the data you need and how much you need."
   ]
  },
  {
   "cell_type": "markdown",
   "metadata": {},
   "source": [
    "เริ่มจากการสำรวจเว็บ https://www.sbdesignsquare.com ก่อนว่ามีระบบการเก็บข้อมูลอะไรบ้าง โดยสิ่งที่เราสนใจนอกจาก**ข้อมูลของผู้ใช้งาน (users) สินค้า (products) และการสั่งซื้อของลูกค้า (order)** เรายังสนใจ action อื่นๆที่แสดงถึงความสนใจต่อสินค้าของลูกค้า\n",
    "\n",
    "**สรุปคือพิจารณา**\n",
    "- พฤติกรรมทั้งหมดที่คนทำได้บนเว็บ\n",
    "- พฤติกรรมที่แสดงถึงความสนใจของ user ต่อสินค้า\n",
    "\n",
    "จากระบบที่ run อยู่ตอนนี้ทำให้ได้ Data ออกมาคือ"
   ]
  },
  {
   "cell_type": "markdown",
   "metadata": {},
   "source": [
    "$$\\begin{array}{rr} \\hline\n",
    "Behavior &User &Size \\\\ \\hline\n",
    "\\text{add to cart}  &\\text{register user} &\\text{large} \\\\ \\hline\n",
    "\\text{save to ideabook} &\\text{register user} &\\text{middle/small} \\\\ \\hline\n",
    "\\text{confirm order} &\\text{register user} &\\text{small} \\\\ \\hline\n",
    "\\text{success order} &\\text{register user} &\\text{small} \\\\ \\hline\n",
    "\\end{array}$$"
   ]
  },
  {
   "cell_type": "markdown",
   "metadata": {},
   "source": [
    "*ปล.จริงๆแล้วอยากได้ข้อมูล page views ของแต่ละคนด้วย ทั้ง guest และ user แต่ทางเว็บไม่มีข้อมูลในส่วนนี้*"
   ]
  },
  {
   "cell_type": "markdown",
   "metadata": {},
   "source": [
    "## 2 . Find and document where you can get the data."
   ]
  },
  {
   "cell_type": "markdown",
   "metadata": {},
   "source": [
    "ข้อมูลทั้งหมดมีเก็บไว้ใน Database ของเว็บ https://www.sbdesignsquare.com "
   ]
  },
  {
   "cell_type": "markdown",
   "metadata": {},
   "source": [
    "## 3. Check how space it will take"
   ]
  },
  {
   "cell_type": "markdown",
   "metadata": {},
   "source": [
    "รวมทั้งหมดแล้ว ไม่เกิน 300MB"
   ]
  },
  {
   "cell_type": "markdown",
   "metadata": {},
   "source": [
    "## 4. Check legal obligations, and get authorization if necessary."
   ]
  },
  {
   "cell_type": "markdown",
   "metadata": {},
   "source": [
    "ข้อมูลจากทาง SB ถือเป็นความลับ ห้ามนำไปเผยแพร่ หรือใช้ประโยชน์ในเรื่องอื่น"
   ]
  },
  {
   "cell_type": "markdown",
   "metadata": {},
   "source": [
    "## 5. Get access authorizations."
   ]
  },
  {
   "cell_type": "markdown",
   "metadata": {},
   "source": [
    "ทีมได้ขออณุญาติไปกับทาง https://www.sbdesignsquare.com แล้ว ซึ่งเค้ายินยอมให้นำข้อมูลทั้งหมดมาใช้ในการพัฒนา recommender systems สำหรับ https://www.sbdesignsquare.com เท่านั้น ห้ามนำไปใช้ในเรื่องอื่น"
   ]
  },
  {
   "cell_type": "markdown",
   "metadata": {},
   "source": [
    "## 6. Create a workspace (with enough storage space)."
   ]
  },
  {
   "cell_type": "markdown",
   "metadata": {},
   "source": [
    "สำหรับ Project นี้เราใช้ GitHub เป็น hosting service สำหรับเก็บ version control"
   ]
  },
  {
   "cell_type": "markdown",
   "metadata": {},
   "source": [
    "## 7. Get the data."
   ]
  },
  {
   "cell_type": "markdown",
   "metadata": {},
   "source": [
    "ข้อมูล raw ทั้งหมดถูกเก็บไว้ใน ./original_dataset"
   ]
  },
  {
   "cell_type": "markdown",
   "metadata": {},
   "source": [
    "## 8. Convert the data to a format you can easily manipulate (without changing the data itself)."
   ]
  },
  {
   "cell_type": "markdown",
   "metadata": {},
   "source": [
    "Export ข้อมูลจาก SQL Database มาเป็นไฟล์ CSV เพื่อให้ง่ายต่อการพัฒนาด้วย Jupyter Notebook "
   ]
  },
  {
   "cell_type": "markdown",
   "metadata": {},
   "source": [
    "## 9. Ensure sensitive information is deleted or protected (e.g. anonymized)"
   ]
  },
  {
   "cell_type": "markdown",
   "metadata": {},
   "source": [
    "ข้อมูลที่ได้มาไม่มีข้อมูลที่ต้อง encrypt"
   ]
  },
  {
   "cell_type": "markdown",
   "metadata": {},
   "source": [
    "## 10. Check the size and type of data. (time series, sample, geographical, etc)."
   ]
  },
  {
   "cell_type": "markdown",
   "metadata": {},
   "source": [
    "ในส่วนนี้เราจะทำต่อในข้อที่ 3 Explore "
   ]
  },
  {
   "cell_type": "markdown",
   "metadata": {},
   "source": [
    "## 11. Sample a test set, put it aside, and never look at it (no data snooping!)."
   ]
  },
  {
   "cell_type": "markdown",
   "metadata": {},
   "source": [
    "เรา copy ข้อมูลทั้งหมดจาก raw file ที่ ./original_dataset มาไว้ที่ 20180120 กับที่ 20180319 ตามลำดับ โดยชื่อโฟล์เดอร์แสดงถึงวันที่ทำการ copy เนื่องจากมีข้อมูลใหม่มาเพิ่ม"
   ]
  }
 ],
 "metadata": {
  "kernelspec": {
   "display_name": "Python 3",
   "language": "python",
   "name": "python3"
  },
  "language_info": {
   "codemirror_mode": {
    "name": "ipython",
    "version": 3
   },
   "file_extension": ".py",
   "mimetype": "text/x-python",
   "name": "python",
   "nbconvert_exporter": "python",
   "pygments_lexer": "ipython3",
   "version": "3.6.3"
  }
 },
 "nbformat": 4,
 "nbformat_minor": 2
}
